{
 "metadata": {
  "name": "",
  "signature": "sha256:8a45821099b4087201302e86504fd47931e1e7249258bef20306e86c4fe8772a"
 },
 "nbformat": 3,
 "nbformat_minor": 0,
 "worksheets": [
  {
   "cells": [
    {
     "cell_type": "heading",
     "level": 1,
     "metadata": {},
     "source": [
      "Stacks Workflow for Haploid Pink Data:\n",
      "Process_radtags, Renaming, Concatenating, Ustacks, Sstacks and Genotyping"
     ]
    },
    {
     "cell_type": "markdown",
     "metadata": {},
     "source": [
      "Stacks version 1.20\n",
      "\n",
      "Simplified steps: \n",
      "\n",
      "1. Run process_radtags to clean up and demultiplex the samples (keeping each lane of samples separate until you can rename them)\n",
      "2. Rename the samples, replacing the barcode with the sample name\n",
      "3. Combine all the samples in one file (concatenate samples that were re-run)\n",
      "4. Continue with Stacks: ustacks, sstacks, and genotyping\n",
      "\n",
      "Data inventory and breakdown of individual needs: \n",
      "\n",
      "2013 Haploid and Gynodiploid Data\n",
      "    - initial process rad tags \n",
      "    - rename (dont have the batch file for the second lane of samples)\n",
      "    - resequencing\n",
      "    - second process rad tags\n",
      "    - rename \n",
      "    - RE-resequencing\n",
      "    - third process rad tags\n",
      "    - concatenate\n",
      "    \n",
      "2011 Haploid Data\n",
      "    - check phred score (sept 15 2014)\n",
      "    - process rad tags (sept 15 2014)\n",
      "    - rename\n",
      "\n",
      "After all the samples were sequenced and re-sequenced, renamed and concatenated, there were several rounds of preliminary data analysis in Stacks as a way to familiarize myself with the program. Those runs are not included here. Neither is a detailed account of an issue with renaming of the Asian and Haploid samples that were resequenced. The details of that saga are included in a long form text file on the Seagate external hard drive along with copies of all the data files and other supporting materials. "
     ]
    },
    {
     "cell_type": "markdown",
     "metadata": {},
     "source": [
      "#Checking the phred score for older samples\n",
      "\n",
      "Because the older samples (2011 Haploids) were run on a different technology than the newer samples, there is a chance that maybe the quality score algorithm is different. Garrett sent me a script that checks the quality score for the samples: "
     ]
    },
    {
     "cell_type": "code",
     "collapsed": false,
     "input": [
      "head input.fastq | awk '{if(NR%4==0) printf(\"%s\",$0);}' |  od A n t u1 | awk 'BEGIN{min=100;max=0;}{for(i=1;i<=NF;i++) {if($i>max) max=$i; if($i<min) min=$i;}}END{if(max<=74 && min<59) print \"Phred+33\"; else if(max>73 && min>=64) print \"Phred+64\"; else if(min>=59 && min<64 && max>73) print \"Solexa+64\"; else print \"Unknown score encoding!\";}'"
     ],
     "language": "python",
     "metadata": {},
     "outputs": []
    },
    {
     "cell_type": "markdown",
     "metadata": {},
     "source": [
      "The old haploid samples have Phred+33 which is the new phred score. "
     ]
    },
    {
     "cell_type": "markdown",
     "metadata": {},
     "source": [
      "#Process_radtags\n",
      " \n",
      "The raw samples are located on the network drive foraker: \n",
      " \n",
      "./foraker/RAD/PINK/00RawSequences \n",
      "\n",
      "The barcode files for each of the lanes should be included in that file. \n",
      "\n",
      "In the command for process_radtags: \n",
      "\n",
      "- -p is the path to the raw data\n",
      "- -o is where the output should be stored (all separate, the barcodes are the same for all lanes) \n",
      "- -e is the enzyme used\n",
      "- -r doesn't have to be an exact match to your barcode, it can be one barcode off, so it rescues the barcodes \n",
      "- -c clean data, remove reads that have an uncalled base\n",
      "- -q discard reads with low quality scores\n",
      "- -t is trim the sequence (here to 94 base pairs on the new reads, to cut off the last base)\n",
      "- -i is the input file type"
     ]
    },
    {
     "cell_type": "markdown",
     "metadata": {},
     "source": [
      "The following are the commands used to run process_radtags on the individual lanes of population and haploid data: "
     ]
    },
    {
     "cell_type": "code",
     "collapsed": false,
     "input": [
      "#September 15 2014\n",
      "#batchfile for process_radtags old haploid samples\n",
      "\n",
      "process_radtags p ./PH1 -o ./PH1 -b ./barcodes_PH1.txt -e sbfI -r -c -q -t 94 -i gzfastq\n",
      "process_radtags p ./PH2 -o ./PH2 -b ./barcodes_PH2.txt -e sbfI -r -c -q -t 94 -i gzfastq\n",
      "process_radtags p ./PH3 -o ./PH3 -b ./barcodes_PH3.txt -e sbfI -r -c -q -t 94 -i gzfastq\n",
      "process_radtags p ./PH4 -o ./PH4 -b ./barcodes_PH4.txt -e sbfI -r -c -q -t 94 -i gzfastq\n",
      "process_radtags p ./PH5 -o ./PH5 -b ./barcodes_PH5.txt -e sbfI -r -c -q -t 94 -i gzfastq\n",
      "process_radtags p ./PH6 -o ./PH6 -b ./barcodes_PH6.txt -e sbfI -r -c -q -t 94 -i gzfastq"
     ],
     "language": "python",
     "metadata": {},
     "outputs": []
    },
    {
     "cell_type": "code",
     "collapsed": false,
     "input": [
      "#July 23 2014\n",
      "#batchfile for process_radtags new haploid samples\n",
      "\n",
      "process_radtags -p ./PH1 -o ./PH1 -b ./barcodes.txt -e sbfI -r -c -q -t 94 -i gzfastq \n",
      "process_radtags -p ./PH2 -o ./PH2 -b ./barcodes.txt -e sbfI -r -c -q -t 94 -i gzfastq "
     ],
     "language": "python",
     "metadata": {},
     "outputs": []
    },
    {
     "cell_type": "markdown",
     "metadata": {},
     "source": [
      "#Rename the samples \n",
      "\n",
      "The samples are renamed using the command mv for move or cp for copy. The easiest way is to build a batchfile in excel that will be used to change the barcode to the sample name. Each line is specific to one sample, and has the initial command, the old file name (the barcode) followed by the new file name (the sample name).\n"
     ]
    },
    {
     "cell_type": "markdown",
     "metadata": {},
     "source": [
      "I don't have the batchfiles that I used to rename the Asian samples, but below are the barcodes and corresponding sample names that were used to make them. "
     ]
    },
    {
     "cell_type": "code",
     "collapsed": false,
     "input": [
      "#rename PH1 2013 haploid samples\n",
      "\n",
      "#PH1.sh\n",
      "#sept 16 2014\n",
      "\n",
      "mv sample_AAACGG.fq sample_PBIRD13X102G_0025.fq\n",
      "mv sample_ACTCTT.fq sample_PBIRD13X102G_0013.fq\n",
      "mv sample_ATTCCG.fq sample_PBIRD13X102G_0002.fq\n",
      "mv sample_CGAGGC.fq sample_PBIRD13X102G_0004.fq\n",
      "mv sample_GAAATG.fq sample_PBIRD13X110H_0063.fq\n",
      "mv sample_GGACTT.fq sample_PBIRD13X102G_0005.fq\n",
      "mv sample_TAAGCT.fq sample_PBIRD13X102G_0024.fq\n",
      "mv sample_TCTTCT.fq sample_PBIRD13X102G_0018.fq\n",
      "mv sample_AACGTT.fq sample_PBIRD13X102G_0017.fq\n",
      "mv sample_ACTGGC.fq sample_PBIRD13X110H_0062.fq\n",
      "mv sample_CAAAAA.fq sample_PBIRD13X102G_0007.fq\n",
      "mv sample_CGCAGA.fq sample_PBIRD13X110H_0089.fq\n",
      "mv sample_GAACCA.fq sample_PBIRD13X108H_0031.fq\n",
      "mv sample_GGCAAG.fq sample_PBIRD13X110H_0053.fq\n",
      "mv sample_TAATTC.fq sample_PBIRD13X110H_0070.fq\n",
      "mv sample_TGAACC.fq sample_PBIRD13X110H_0054.fq\n",
      "mv sample_AACTGA.fq sample_PBIRD13X102G_0020.fq\n",
      "mv sample_AGCCAT.fq sample_PBIRD13X110H_0069.fq\n",
      "mv sample_CAATCG.fq sample_PBIRD13X110H_0091.fq\n",
      "mv sample_CGCGTG.fq sample_PBIRD13X110H_0066.fq\n",
      "mv sample_GACGAC.fq sample_PBIRD13X110H_0075.fq\n",
      "mv sample_GGGCGC.fq sample_PBIRD13X102G_0008.fq\n",
      "mv sample_TACACA.fq sample_PBIRD13X110H_0055.fq\n",
      "mv sample_TGACAA.fq sample_PBIRD13X110H_0028.fq\n",
      "mv sample_AAGACG.fq sample_PBIRD13X110H_0056.fq\n",
      "mv sample_AGCGCA.fq sample_PBIRD13X110H_0029.fq\n",
      "mv sample_CACCTC.fq sample_PBIRD13X110H_0046.fq\n",
      "mv sample_CGGTCC.fq sample_PBIRD13X110H_0016.fq\n",
      "mv sample_GACTCT.fq sample_PBIRD13X108H_0042.fq\n",
      "mv sample_GGGGCG.fq sample_PBIRD13X110H_0021.fq\n",
      "mv sample_TACGGG.fq sample_PBIRD13X110H_0085.fq\n",
      "mv sample_TGCCCG.fq sample_PBIRD13X110H_0067.fq\n",
      "mv sample_AAGCTA.fq sample_PBIRD13X108H_0026.fq\n",
      "mv sample_AGGGTC.fq sample_PBIRD13X110H_0018.fq\n",
      "mv sample_CAGGCA.fq sample_PBIRD13X110H_0005.fq\n",
      "mv sample_CGTCTA.fq sample_PBIRD13X108H_0028.fq\n",
      "mv sample_GAGAGA.fq sample_PBIRD13X110H_0013.fq\n",
      "mv sample_GGTACA.fq sample_PBIRD13X108H_0001.fq\n",
      "mv sample_TAGTAT.fq sample_PBIRD13X110H_0086.fq\n",
      "mv sample_TGCTTA.fq sample_PBIRD13X110H_0006.fq\n",
      "mv sample_AATATC.fq sample_PBIRD13X110H_0033.fq\n",
      "mv sample_AGGTGT.fq sample_PBIRD13X108H_0059.fq\n",
      "mv sample_CATACT.fq sample_PBIRD13X108H_0087.fq\n",
      "mv sample_CGTGAT.fq sample_PBIRD13X110H_0095.fq\n",
      "mv sample_GATCGT.fq sample_PBIRD13X110H_0065.fq\n",
      "mv sample_GGTTTG.fq sample_PBIRD13X108H_0006.fq\n",
      "mv sample_TATCAC.fq sample_PBIRD13X108H_0013.fq\n",
      "mv sample_TGGGGA.fq sample_PBIRD13X108H_0094.fq\n",
      "mv sample_AATGAG.fq sample_PBIRD13X108H_0005.fq\n",
      "mv sample_AGTAGG.fq sample_PBIRD13X108H_0043.fq\n",
      "mv sample_CCATTT.fq sample_PBIRD13X108H_0002.fq\n",
      "mv sample_CTACAG.fq sample_PBIRD13X108H_0039.fq\n",
      "mv sample_GCAGAT.fq sample_PBIRD13X108H_0056.fq\n",
      "mv sample_GTAAGT.fq sample_PBIRD13X108H_0036.fq\n",
      "mv sample_TCAAAG.fq sample_PBIRD13X108H_0088.fq\n",
      "mv sample_TTATGA.fq sample_PBIRD13X110H_0096.fq\n",
      "mv sample_ACAAGA.fq sample_PBIRD13X110H_0083.fq\n",
      "mv sample_AGTTAA.fq sample_PBIRD13X108H_0044.fq\n",
      "mv sample_CCCGGT.fq sample_PBIRD13X110H_0004.fq\n",
      "mv sample_CTCGCC.fq sample_PBIRD13X108H_0009.fq\n",
      "mv sample_GCATGG.fq sample_PBIRD13X110H_0082.fq\n",
      "mv sample_GTATCC.fq sample_PBIRD13X108H_0004.fq\n",
      "mv sample_TCCTGC.fq sample_PBIRD13X110H_0071.fq\n",
      "mv sample_TTCCGT.fq sample_PBIRD13X108H_0040.fq\n",
      "mv sample_ACAGCG.fq sample_PBIRD13X108H_0010.fq\n",
      "mv sample_ATAGTA.fq sample_PBIRD13X110H_0094.fq\n",
      "mv sample_CCCTAA.fq sample_PBIRD13X108H_0092.fq\n",
      "mv sample_CTGCGA.fq sample_PBIRD13X108H_0086.fq\n",
      "mv sample_GCCGTA.fq sample_PBIRD13X108H_0003.fq\n",
      "mv sample_GTCATC.fq sample_PBIRD13X110H_0079.fq\n",
      "mv sample_TCGATT.fq sample_PBIRD13X108H_0025.fq\n",
      "mv sample_TTCTAG.fq sample_PBIRD13X110H_0012.fq\n",
      "mv sample_ACATAC.fq sample_PBIRD13X108H_0016.fq\n",
      "mv sample_ATCAAA.fq sample_PBIRD13X110H_0084.fq\n",
      "mv sample_CCGAGG.fq sample_PBIRD13X108H_0046.fq\n",
      "mv sample_CTGGTT.fq sample_PBIRD13X110H_0049.fq\n",
      "mv sample_GCGACC.fq sample_PBIRD13X110H_0051.fq\n",
      "mv sample_GTGCCT.fq sample_PBIRD13X108H_0050.fq\n",
      "mv sample_TCGCCA.fq sample_PBIRD13X108H_0070.fq\n",
      "mv sample_TTGAGC.fq sample_PBIRD13X110H_0017.fq\n",
      "mv sample_ACCATG.fq sample_PBIRD13X108H_0057.fq\n",
      "mv sample_ATGCAC.fq sample_PBIRD13X108H_0037.fq\n",
      "mv sample_CCGCAT.fq sample_PBIRD13X108H_0078.fq\n",
      "mv sample_CTTATG.fq sample_PBIRD13X110H_0058.fq\n",
      "mv sample_GCGCTG.fq sample_PBIRD13X110H_0048.fq\n",
      "mv sample_GTGTAA.fq sample_PBIRD13X108H_0077.fq\n",
      "mv sample_TCGGAC.fq sample_PBIRD13X108H_0030.fq\n",
      "mv sample_TTTAAT.fq sample_PBIRD13X110H_0059.fq\n",
      "mv sample_ACCCCC.fq sample_PBIRD13X110H_0010.fq\n",
      "mv sample_ATGTTG.fq sample_PBIRD13X108H_0049.fq\n",
      "mv sample_CCTAAC.fq sample_PBIRD13X108H_0018.fq\n",
      "mv sample_CTTTGC.fq sample_PBIRD13X108H_0034.fq\n",
      "mv sample_GCTCAA.fq sample_PBIRD13X108H_0080.fq\n",
      "mv sample_GTTGGA.fq sample_PBIRD13X108H_0067.fq\n",
      "mv sample_TCTCGG.fq sample_PBIRD13X108H_0033.fq\n",
      "mv sample_TTTGTC.fq sample_PBIRD13X_0102.fq\n"
     ],
     "language": "python",
     "metadata": {},
     "outputs": []
    },
    {
     "cell_type": "code",
     "collapsed": false,
     "input": [
      "#rename PH1 2013 haploid samples\n",
      "\n",
      "#PH1.sh\n",
      "#sept 16 2014\n",
      "\n",
      "mv sample_AAACGG.fq sample_PBIRD13X102G_0025.fq\n",
      "mv sample_ACTCTT.fq sample_PBIRD13X102G_0013.fq\n",
      "mv sample_ATTCCG.fq sample_PBIRD13X102G_0002.fq\n",
      "mv sample_CGAGGC.fq sample_PBIRD13X102G_0004.fq\n",
      "mv sample_GAAATG.fq sample_PBIRD13X110H_0063.fq\n",
      "mv sample_GGACTT.fq sample_PBIRD13X102G_0005.fq\n",
      "mv sample_TAAGCT.fq sample_PBIRD13X102G_0024.fq\n",
      "mv sample_TCTTCT.fq sample_PBIRD13X102G_0018.fq\n",
      "mv sample_AACGTT.fq sample_PBIRD13X102G_0017.fq\n",
      "mv sample_ACTGGC.fq sample_PBIRD13X110H_0062.fq\n",
      "mv sample_CAAAAA.fq sample_PBIRD13X102G_0007.fq\n",
      "mv sample_CGCAGA.fq sample_PBIRD13X110H_0089.fq\n",
      "mv sample_GAACCA.fq sample_PBIRD13X108H_0031.fq\n",
      "mv sample_GGCAAG.fq sample_PBIRD13X110H_0053.fq\n",
      "mv sample_TAATTC.fq sample_PBIRD13X110H_0070.fq\n",
      "mv sample_TGAACC.fq sample_PBIRD13X110H_0054.fq\n",
      "mv sample_AACTGA.fq sample_PBIRD13X102G_0020.fq\n",
      "mv sample_AGCCAT.fq sample_PBIRD13X110H_0069.fq\n",
      "mv sample_CAATCG.fq sample_PBIRD13X110H_0091.fq\n",
      "mv sample_CGCGTG.fq sample_PBIRD13X110H_0066.fq\n",
      "mv sample_GACGAC.fq sample_PBIRD13X110H_0075.fq\n",
      "mv sample_GGGCGC.fq sample_PBIRD13X102G_0008.fq\n",
      "mv sample_TACACA.fq sample_PBIRD13X110H_0055.fq\n",
      "mv sample_TGACAA.fq sample_PBIRD13X110H_0028.fq\n",
      "mv sample_AAGACG.fq sample_PBIRD13X110H_0056.fq\n",
      "mv sample_AGCGCA.fq sample_PBIRD13X110H_0029.fq\n",
      "mv sample_CACCTC.fq sample_PBIRD13X110H_0046.fq\n",
      "mv sample_CGGTCC.fq sample_PBIRD13X110H_0016.fq\n",
      "mv sample_GACTCT.fq sample_PBIRD13X108H_0042.fq\n",
      "mv sample_GGGGCG.fq sample_PBIRD13X110H_0021.fq\n",
      "mv sample_TACGGG.fq sample_PBIRD13X110H_0085.fq\n",
      "mv sample_TGCCCG.fq sample_PBIRD13X110H_0067.fq\n",
      "mv sample_AAGCTA.fq sample_PBIRD13X108H_0026.fq\n",
      "mv sample_AGGGTC.fq sample_PBIRD13X110H_0018.fq\n",
      "mv sample_CAGGCA.fq sample_PBIRD13X110H_0005.fq\n",
      "mv sample_CGTCTA.fq sample_PBIRD13X108H_0028.fq\n",
      "mv sample_GAGAGA.fq sample_PBIRD13X110H_0013.fq\n",
      "mv sample_GGTACA.fq sample_PBIRD13X108H_0001.fq\n",
      "mv sample_TAGTAT.fq sample_PBIRD13X110H_0086.fq\n",
      "mv sample_TGCTTA.fq sample_PBIRD13X110H_0006.fq\n",
      "mv sample_AATATC.fq sample_PBIRD13X110H_0033.fq\n",
      "mv sample_AGGTGT.fq sample_PBIRD13X108H_0059.fq\n",
      "mv sample_CATACT.fq sample_PBIRD13X108H_0087.fq\n",
      "mv sample_CGTGAT.fq sample_PBIRD13X110H_0095.fq\n",
      "mv sample_GATCGT.fq sample_PBIRD13X110H_0065.fq\n",
      "mv sample_GGTTTG.fq sample_PBIRD13X108H_0006.fq\n",
      "mv sample_TATCAC.fq sample_PBIRD13X108H_0013.fq\n",
      "mv sample_TGGGGA.fq sample_PBIRD13X108H_0094.fq\n",
      "mv sample_AATGAG.fq sample_PBIRD13X108H_0005.fq\n",
      "mv sample_AGTAGG.fq sample_PBIRD13X108H_0043.fq\n",
      "mv sample_CCATTT.fq sample_PBIRD13X108H_0002.fq\n",
      "mv sample_CTACAG.fq sample_PBIRD13X108H_0039.fq\n",
      "mv sample_GCAGAT.fq sample_PBIRD13X108H_0056.fq\n",
      "mv sample_GTAAGT.fq sample_PBIRD13X108H_0036.fq\n",
      "mv sample_TCAAAG.fq sample_PBIRD13X108H_0088.fq\n",
      "mv sample_TTATGA.fq sample_PBIRD13X110H_0096.fq\n",
      "mv sample_ACAAGA.fq sample_PBIRD13X110H_0083.fq\n",
      "mv sample_AGTTAA.fq sample_PBIRD13X108H_0044.fq\n",
      "mv sample_CCCGGT.fq sample_PBIRD13X110H_0004.fq\n",
      "mv sample_CTCGCC.fq sample_PBIRD13X108H_0009.fq\n",
      "mv sample_GCATGG.fq sample_PBIRD13X110H_0082.fq\n",
      "mv sample_GTATCC.fq sample_PBIRD13X108H_0004.fq\n",
      "mv sample_TCCTGC.fq sample_PBIRD13X110H_0071.fq\n",
      "mv sample_TTCCGT.fq sample_PBIRD13X108H_0040.fq\n",
      "mv sample_ACAGCG.fq sample_PBIRD13X108H_0010.fq\n",
      "mv sample_ATAGTA.fq sample_PBIRD13X110H_0094.fq\n",
      "mv sample_CCCTAA.fq sample_PBIRD13X108H_0092.fq\n",
      "mv sample_CTGCGA.fq sample_PBIRD13X108H_0086.fq\n",
      "mv sample_GCCGTA.fq sample_PBIRD13X108H_0003.fq\n",
      "mv sample_GTCATC.fq sample_PBIRD13X110H_0079.fq\n",
      "mv sample_TCGATT.fq sample_PBIRD13X108H_0025.fq\n",
      "mv sample_TTCTAG.fq sample_PBIRD13X110H_0012.fq\n",
      "mv sample_ACATAC.fq sample_PBIRD13X108H_0016.fq\n",
      "mv sample_ATCAAA.fq sample_PBIRD13X110H_0084.fq\n",
      "mv sample_CCGAGG.fq sample_PBIRD13X108H_0046.fq\n",
      "mv sample_CTGGTT.fq sample_PBIRD13X110H_0049.fq\n",
      "mv sample_GCGACC.fq sample_PBIRD13X110H_0051.fq\n",
      "mv sample_GTGCCT.fq sample_PBIRD13X108H_0050.fq\n",
      "mv sample_TCGCCA.fq sample_PBIRD13X108H_0070.fq\n",
      "mv sample_TTGAGC.fq sample_PBIRD13X110H_0017.fq\n",
      "mv sample_ACCATG.fq sample_PBIRD13X108H_0057.fq\n",
      "mv sample_ATGCAC.fq sample_PBIRD13X108H_0037.fq\n",
      "mv sample_CCGCAT.fq sample_PBIRD13X108H_0078.fq\n",
      "mv sample_CTTATG.fq sample_PBIRD13X110H_0058.fq\n",
      "mv sample_GCGCTG.fq sample_PBIRD13X110H_0048.fq\n",
      "mv sample_GTGTAA.fq sample_PBIRD13X108H_0077.fq\n",
      "mv sample_TCGGAC.fq sample_PBIRD13X108H_0030.fq\n",
      "mv sample_TTTAAT.fq sample_PBIRD13X110H_0059.fq\n",
      "mv sample_ACCCCC.fq sample_PBIRD13X110H_0010.fq\n",
      "mv sample_ATGTTG.fq sample_PBIRD13X108H_0049.fq\n",
      "mv sample_CCTAAC.fq sample_PBIRD13X108H_0018.fq\n",
      "mv sample_CTTTGC.fq sample_PBIRD13X108H_0034.fq\n",
      "mv sample_GCTCAA.fq sample_PBIRD13X108H_0080.fq\n",
      "mv sample_GTTGGA.fq sample_PBIRD13X108H_0067.fq\n",
      "mv sample_TCTCGG.fq sample_PBIRD13X108H_0033.fq\n",
      "mv sample_TTTGTC.fq sample_PBIRD13X_0102.fq\n"
     ],
     "language": "python",
     "metadata": {},
     "outputs": []
    },
    {
     "cell_type": "code",
     "collapsed": false,
     "input": [
      "#PH1_2.sh\n",
      "#sept 16 2014\n",
      "#rename PH1 2013 haploid samples\n",
      "#remove the sample_ at the beginning of the sample names\n",
      "\n",
      "mv sample_PBIRD13X102G_0025.fq PBIRD13X102G_0025.fq\n",
      "mv sample_PBIRD13X102G_0013.fq PBIRD13X102G_0013.fq\n",
      "mv sample_PBIRD13X102G_0002.fq PBIRD13X102G_0002.fq\n",
      "mv sample_PBIRD13X102G_0004.fq PBIRD13X102G_0004.fq\n",
      "mv sample_PBIRD13X110H_0063.fq PBIRD13X110H_0063.fq\n",
      "mv sample_PBIRD13X102G_0005.fq PBIRD13X102G_0005.fq\n",
      "mv sample_PBIRD13X102G_0024.fq PBIRD13X102G_0024.fq\n",
      "mv sample_PBIRD13X102G_0018.fq PBIRD13X102G_0018.fq\n",
      "mv sample_PBIRD13X102G_0017.fq PBIRD13X102G_0017.fq\n",
      "mv sample_PBIRD13X110H_0062.fq PBIRD13X110H_0062.fq\n",
      "mv sample_PBIRD13X102G_0007.fq PBIRD13X102G_0007.fq\n",
      "mv sample_PBIRD13X110H_0089.fq PBIRD13X110H_0089.fq\n",
      "mv sample_PBIRD13X108H_0031.fq PBIRD13X108H_0031.fq\n",
      "mv sample_PBIRD13X110H_0053.fq PBIRD13X110H_0053.fq\n",
      "mv sample_PBIRD13X110H_0070.fq PBIRD13X110H_0070.fq\n",
      "mv sample_PBIRD13X110H_0054.fq PBIRD13X110H_0054.fq\n",
      "mv sample_PBIRD13X102G_0020.fq PBIRD13X102G_0020.fq\n",
      "mv sample_PBIRD13X110H_0069.fq PBIRD13X110H_0069.fq\n",
      "mv sample_PBIRD13X110H_0091.fq PBIRD13X110H_0091.fq\n",
      "mv sample_PBIRD13X110H_0066.fq PBIRD13X110H_0066.fq\n",
      "mv sample_PBIRD13X110H_0075.fq PBIRD13X110H_0075.fq\n",
      "mv sample_PBIRD13X102G_0008.fq PBIRD13X102G_0008.fq\n",
      "mv sample_PBIRD13X110H_0055.fq PBIRD13X110H_0055.fq\n",
      "mv sample_PBIRD13X110H_0028.fq PBIRD13X110H_0028.fq\n",
      "mv sample_PBIRD13X110H_0056.fq PBIRD13X110H_0056.fq\n",
      "mv sample_PBIRD13X110H_0029.fq PBIRD13X110H_0029.fq\n",
      "mv sample_PBIRD13X110H_0046.fq PBIRD13X110H_0046.fq\n",
      "mv sample_PBIRD13X110H_0016.fq PBIRD13X110H_0016.fq\n",
      "mv sample_PBIRD13X108H_0042.fq PBIRD13X108H_0042.fq\n",
      "mv sample_PBIRD13X110H_0021.fq PBIRD13X110H_0021.fq\n",
      "mv sample_PBIRD13X110H_0085.fq PBIRD13X110H_0085.fq\n",
      "mv sample_PBIRD13X110H_0067.fq PBIRD13X110H_0067.fq\n",
      "mv sample_PBIRD13X108H_0026.fq PBIRD13X108H_0026.fq\n",
      "mv sample_PBIRD13X110H_0018.fq PBIRD13X110H_0018.fq\n",
      "mv sample_PBIRD13X110H_0005.fq PBIRD13X110H_0005.fq\n",
      "mv sample_PBIRD13X108H_0028.fq PBIRD13X108H_0028.fq\n",
      "mv sample_PBIRD13X110H_0013.fq PBIRD13X110H_0013.fq\n",
      "mv sample_PBIRD13X108H_0001.fq PBIRD13X108H_0001.fq\n",
      "mv sample_PBIRD13X110H_0086.fq PBIRD13X110H_0086.fq\n",
      "mv sample_PBIRD13X110H_0006.fq PBIRD13X110H_0006.fq\n",
      "mv sample_PBIRD13X110H_0033.fq PBIRD13X110H_0033.fq\n",
      "mv sample_PBIRD13X108H_0059.fq PBIRD13X108H_0059.fq\n",
      "mv sample_PBIRD13X108H_0087.fq PBIRD13X108H_0087.fq\n",
      "mv sample_PBIRD13X110H_0095.fq PBIRD13X110H_0095.fq\n",
      "mv sample_PBIRD13X110H_0065.fq PBIRD13X110H_0065.fq\n",
      "mv sample_PBIRD13X108H_0006.fq PBIRD13X108H_0006.fq\n",
      "mv sample_PBIRD13X108H_0013.fq PBIRD13X108H_0013.fq\n",
      "mv sample_PBIRD13X108H_0094.fq PBIRD13X108H_0094.fq\n",
      "mv sample_PBIRD13X108H_0005.fq PBIRD13X108H_0005.fq\n",
      "mv sample_PBIRD13X108H_0043.fq PBIRD13X108H_0043.fq\n",
      "mv sample_PBIRD13X108H_0002.fq PBIRD13X108H_0002.fq\n",
      "mv sample_PBIRD13X108H_0039.fq PBIRD13X108H_0039.fq\n",
      "mv sample_PBIRD13X108H_0056.fq PBIRD13X108H_0056.fq\n",
      "mv sample_PBIRD13X108H_0036.fq PBIRD13X108H_0036.fq\n",
      "mv sample_PBIRD13X108H_0088.fq PBIRD13X108H_0088.fq\n",
      "mv sample_PBIRD13X110H_0096.fq PBIRD13X110H_0096.fq\n",
      "mv sample_PBIRD13X110H_0083.fq PBIRD13X110H_0083.fq\n",
      "mv sample_PBIRD13X108H_0044.fq PBIRD13X108H_0044.fq\n",
      "mv sample_PBIRD13X110H_0004.fq PBIRD13X110H_0004.fq\n",
      "mv sample_PBIRD13X108H_0009.fq PBIRD13X108H_0009.fq\n",
      "mv sample_PBIRD13X110H_0082.fq PBIRD13X110H_0082.fq\n",
      "mv sample_PBIRD13X108H_0004.fq PBIRD13X108H_0004.fq\n",
      "mv sample_PBIRD13X110H_0071.fq PBIRD13X110H_0071.fq\n",
      "mv sample_PBIRD13X108H_0040.fq PBIRD13X108H_0040.fq\n",
      "mv sample_PBIRD13X108H_0010.fq PBIRD13X108H_0010.fq\n",
      "mv sample_PBIRD13X110H_0094.fq PBIRD13X110H_0094.fq\n",
      "mv sample_PBIRD13X108H_0092.fq PBIRD13X108H_0092.fq\n",
      "mv sample_PBIRD13X108H_0086.fq PBIRD13X108H_0086.fq\n",
      "mv sample_PBIRD13X108H_0003.fq PBIRD13X108H_0003.fq\n",
      "mv sample_PBIRD13X110H_0079.fq PBIRD13X110H_0079.fq\n",
      "mv sample_PBIRD13X108H_0025.fq PBIRD13X108H_0025.fq\n",
      "mv sample_PBIRD13X110H_0012.fq PBIRD13X110H_0012.fq\n",
      "mv sample_PBIRD13X108H_0016.fq PBIRD13X108H_0016.fq\n",
      "mv sample_PBIRD13X110H_0084.fq PBIRD13X110H_0084.fq\n",
      "mv sample_PBIRD13X108H_0046.fq PBIRD13X108H_0046.fq\n",
      "mv sample_PBIRD13X110H_0049.fq PBIRD13X110H_0049.fq\n",
      "mv sample_PBIRD13X110H_0051.fq PBIRD13X110H_0051.fq\n",
      "mv sample_PBIRD13X108H_0050.fq PBIRD13X108H_0050.fq\n",
      "mv sample_PBIRD13X108H_0070.fq PBIRD13X108H_0070.fq\n",
      "mv sample_PBIRD13X110H_0017.fq PBIRD13X110H_0017.fq\n",
      "mv sample_PBIRD13X108H_0057.fq PBIRD13X108H_0057.fq\n",
      "mv sample_PBIRD13X108H_0037.fq PBIRD13X108H_0037.fq\n",
      "mv sample_PBIRD13X108H_0078.fq PBIRD13X108H_0078.fq\n",
      "mv sample_PBIRD13X110H_0058.fq PBIRD13X110H_0058.fq\n",
      "mv sample_PBIRD13X110H_0048.fq PBIRD13X110H_0048.fq\n",
      "mv sample_PBIRD13X108H_0077.fq PBIRD13X108H_0077.fq\n",
      "mv sample_PBIRD13X108H_0030.fq PBIRD13X108H_0030.fq\n",
      "mv sample_PBIRD13X110H_0059.fq PBIRD13X110H_0059.fq\n",
      "mv sample_PBIRD13X110H_0010.fq PBIRD13X110H_0010.fq\n",
      "mv sample_PBIRD13X108H_0049.fq PBIRD13X108H_0049.fq\n",
      "mv sample_PBIRD13X108H_0018.fq PBIRD13X108H_0018.fq\n",
      "mv sample_PBIRD13X108H_0034.fq PBIRD13X108H_0034.fq\n",
      "mv sample_PBIRD13X108H_0080.fq PBIRD13X108H_0080.fq\n",
      "mv sample_PBIRD13X108H_0067.fq PBIRD13X108H_0067.fq\n",
      "mv sample_PBIRD13X108H_0033.fq PBIRD13X108H_0033.fq\n",
      "mv sample_PBIRD13X_0102.fq     PBIRD13X_0102.fq\n"
     ],
     "language": "python",
     "metadata": {},
     "outputs": []
    },
    {
     "cell_type": "code",
     "collapsed": false,
     "input": [
      "#PH2_rename.sh\n",
      "#sept 16 2014\n",
      "#rename PH2 2013 haploid samples\n",
      "\n",
      "mv sample_PBIRD13X_0108.fq PBIRD13X_0108.fq\n",
      "mv sample_PBIRD13X_0110.fq PBIRD13X_0110.fq\n",
      "mv sample_PBIRD13X102G_0001.fq PBIRD13X102G_0001.fq\n",
      "mv sample_PBIRD13X102G_0003.fq PBIRD13X102G_0003.fq\n",
      "mv sample_PBIRD13X102G_0006.fq PBIRD13X102G_0006.fq\n",
      "mv sample_PBIRD13X102G_0009.fq PBIRD13X102G_0009.fq\n",
      "mv sample_PBIRD13X102G_0010.fq PBIRD13X102G_0010.fq\n",
      "mv sample_PBIRD13X102G_0011.fq PBIRD13X102G_0011.fq\n",
      "mv sample_PBIRD13X102G_0012.fq PBIRD13X102G_0012.fq\n",
      "mv sample_PBIRD13X102G_0014.fq PBIRD13X102G_0014.fq\n",
      "mv sample_PBIRD13X102G_0015.fq PBIRD13X102G_0015.fq\n",
      "mv sample_PBIRD13X102G_0016.fq PBIRD13X102G_0016.fq\n",
      "mv sample_PBIRD13X102G_0019.fq PBIRD13X102G_0019.fq\n",
      "mv sample_PBIRD13X102G_0021.fq PBIRD13X102G_0021.fq\n",
      "mv sample_PBIRD13X102G_0022.fq PBIRD13X102G_0022.fq\n",
      "mv sample_PBIRD13X102G_0023.fq PBIRD13X102G_0023.fq\n",
      "mv sample_PBIRD13X102G_0026.fq PBIRD13X102G_0026.fq\n",
      "mv sample_PBIRD13X108H_0007.fq PBIRD13X108H_0007.fq\n",
      "mv sample_PBIRD13X108H_0008.fq PBIRD13X108H_0008.fq\n",
      "mv sample_PBIRD13X108H_0011.fq PBIRD13X108H_0011.fq\n",
      "mv sample_PBIRD13X108H_0012.fq PBIRD13X108H_0012.fq\n",
      "mv sample_PBIRD13X108H_0015.fq PBIRD13X108H_0015.fq\n",
      "mv sample_PBIRD13X108H_0017.fq PBIRD13X108H_0017.fq\n",
      "mv sample_PBIRD13X108H_0019.fq PBIRD13X108H_0019.fq\n",
      "mv sample_PBIRD13X108H_0020.fq PBIRD13X108H_0020.fq\n",
      "mv sample_PBIRD13X108H_0021.fq PBIRD13X108H_0021.fq\n",
      "mv sample_PBIRD13X108H_0022.fq PBIRD13X108H_0022.fq\n",
      "mv sample_PBIRD13X108H_0023.fq PBIRD13X108H_0023.fq\n",
      "mv sample_PBIRD13X108H_0027.fq PBIRD13X108H_0027.fq\n",
      "mv sample_PBIRD13X108H_0029.fq PBIRD13X108H_0029.fq\n",
      "mv sample_PBIRD13X108H_0032.fq PBIRD13X108H_0032.fq\n",
      "mv sample_PBIRD13X108H_0035.fq PBIRD13X108H_0035.fq\n",
      "mv sample_PBIRD13X108H_0038.fq PBIRD13X108H_0038.fq\n",
      "mv sample_PBIRD13X108H_0041.fq PBIRD13X108H_0041.fq\n",
      "mv sample_PBIRD13X108H_0045.fq PBIRD13X108H_0045.fq\n",
      "mv sample_PBIRD13X108H_0047.fq PBIRD13X108H_0047.fq\n",
      "mv sample_PBIRD13X108H_0048.fq PBIRD13X108H_0048.fq\n",
      "mv sample_PBIRD13X108H_0051.fq PBIRD13X108H_0051.fq\n",
      "mv sample_PBIRD13X108H_0052.fq PBIRD13X108H_0052.fq\n",
      "mv sample_PBIRD13X108H_0053.fq PBIRD13X108H_0053.fq\n",
      "mv sample_PBIRD13X108H_0054.fq PBIRD13X108H_0054.fq\n",
      "mv sample_PBIRD13X108H_0055.fq PBIRD13X108H_0055.fq\n",
      "mv sample_PBIRD13X108H_0060.fq PBIRD13X108H_0060.fq\n",
      "mv sample_PBIRD13X108H_0063.fq PBIRD13X108H_0063.fq\n",
      "mv sample_PBIRD13X108H_0069.fq PBIRD13X108H_0069.fq\n",
      "mv sample_PBIRD13X108H_0071.fq PBIRD13X108H_0071.fq\n",
      "mv sample_PBIRD13X108H_0072.fq PBIRD13X108H_0072.fq\n",
      "mv sample_PBIRD13X108H_0075.fq PBIRD13X108H_0075.fq\n",
      "mv sample_PBIRD13X108H_0081.fq PBIRD13X108H_0081.fq\n",
      "mv sample_PBIRD13X108H_0082.fq PBIRD13X108H_0082.fq\n",
      "mv sample_PBIRD13X108H_0083.fq PBIRD13X108H_0083.fq\n",
      "mv sample_PBIRD13X108H_0085.fq PBIRD13X108H_0085.fq\n",
      "mv sample_PBIRD13X108H_0089.fq PBIRD13X108H_0089.fq\n",
      "mv sample_PBIRD13X108H_0090.fq PBIRD13X108H_0090.fq\n",
      "mv sample_PBIRD13X108H_0091.fq PBIRD13X108H_0091.fq\n",
      "mv sample_PBIRD13X108H_0093.fq PBIRD13X108H_0093.fq\n",
      "mv sample_PBIRD13X108H_0095.fq PBIRD13X108H_0095.fq\n",
      "mv sample_PBIRD13X110H_0002.fq PBIRD13X110H_0002.fq\n",
      "mv sample_PBIRD13X110H_0007.fq PBIRD13X110H_0007.fq\n",
      "mv sample_PBIRD13X110H_0008.fq PBIRD13X110H_0008.fq\n",
      "mv sample_PBIRD13X110H_0009.fq PBIRD13X110H_0009.fq\n",
      "mv sample_PBIRD13X110H_0011.fq PBIRD13X110H_0011.fq\n",
      "mv sample_PBIRD13X110H_0020.fq PBIRD13X110H_0020.fq\n",
      "mv sample_PBIRD13X110H_0022.fq PBIRD13X110H_0022.fq\n",
      "mv sample_PBIRD13X110H_0025.fq PBIRD13X110H_0025.fq\n",
      "mv sample_PBIRD13X110H_0026.fq PBIRD13X110H_0026.fq\n",
      "mv sample_PBIRD13X110H_0027.fq PBIRD13X110H_0027.fq\n",
      "mv sample_PBIRD13X110H_0031.fq PBIRD13X110H_0031.fq\n",
      "mv sample_PBIRD13X110H_0032.fq PBIRD13X110H_0032.fq\n",
      "mv sample_PBIRD13X110H_0036.fq PBIRD13X110H_0036.fq\n",
      "mv sample_PBIRD13X110H_0037.fq PBIRD13X110H_0037.fq\n",
      "mv sample_PBIRD13X110H_0038.fq PBIRD13X110H_0038.fq\n",
      "mv sample_PBIRD13X110H_0039.fq PBIRD13X110H_0039.fq\n",
      "mv sample_PBIRD13X110H_0040.fq PBIRD13X110H_0040.fq\n",
      "mv sample_PBIRD13X110H_0041.fq PBIRD13X110H_0041.fq\n",
      "mv sample_PBIRD13X110H_0042.fq PBIRD13X110H_0042.fq\n",
      "mv sample_PBIRD13X110H_0043.fq PBIRD13X110H_0043.fq\n",
      "mv sample_PBIRD13X110H_0044.fq PBIRD13X110H_0044.fq\n",
      "mv sample_PBIRD13X110H_0045.fq PBIRD13X110H_0045.fq\n",
      "mv sample_PBIRD13X110H_0047.fq PBIRD13X110H_0047.fq\n",
      "mv sample_PBIRD13X110H_0050.fq PBIRD13X110H_0050.fq\n",
      "mv sample_PBIRD13X110H_0052.fq PBIRD13X110H_0052.fq\n",
      "mv sample_PBIRD13X110H_0057.fq PBIRD13X110H_0057.fq\n",
      "mv sample_PBIRD13X110H_0060.fq PBIRD13X110H_0060.fq\n",
      "mv sample_PBIRD13X110H_0061.fq PBIRD13X110H_0061.fq\n",
      "mv sample_PBIRD13X110H_0064.fq PBIRD13X110H_0064.fq\n",
      "mv sample_PBIRD13X110H_0072.fq PBIRD13X110H_0072.fq\n",
      "mv sample_PBIRD13X110H_0073.fq PBIRD13X110H_0073.fq\n",
      "mv sample_PBIRD13X110H_0076.fq PBIRD13X110H_0076.fq\n",
      "mv sample_PBIRD13X110H_0077.fq PBIRD13X110H_0077.fq\n",
      "mv sample_PBIRD13X110H_0078.fq PBIRD13X110H_0078.fq\n",
      "mv sample_PBIRD13X110H_0080.fq PBIRD13X110H_0080.fq\n",
      "mv sample_PBIRD13X110H_0087.fq PBIRD13X110H_0087.fq\n",
      "mv sample_PBIRD13X110H_0088.fq PBIRD13X110H_0088.fq\n",
      "mv sample_PBIRD13X110H_0092.fq PBIRD13X110H_0092.fq\n",
      "mv sample_PBIRD13X110H_0093.fq PBIRD13X110H_0093.fq"
     ],
     "language": "python",
     "metadata": {},
     "outputs": []
    },
    {
     "cell_type": "code",
     "collapsed": false,
     "input": [
      "#PH1_rename.sh\n",
      "#sept 16 2014 \n",
      "\n",
      "#rename the old PH1 samples\n",
      "\n",
      "mv  sample_TTTGTC.fq sample_PHOOD11X01H_0001.fq\n",
      "mv  sample_AACGTT.fq sample_PHOOD11X01H_0002.fq\n",
      "mv  sample_AACTGA.fq sample_PHOOD11X01H_0003.fq\n",
      "mv  sample_AAGACG.fq sample_PHOOD11X01H_0004.fq\n",
      "mv  sample_AAGCTA.fq sample_PHOOD11X01H_0005.fq\n",
      "mv  sample_AATATC.fq sample_PHOOD11X01H_0006.fq\n",
      "mv  sample_ACTCTT.fq sample_PHOOD11X01H_0013.fq\n",
      "mv  sample_ACTGGC.fq sample_PHOOD11X01H_0014.fq\n",
      "mv  sample_AGCCAT.fq sample_PHOOD11X01H_0015.fq\n",
      "mv  sample_AGCGCA.fq sample_PHOOD11X01H_0016.fq\n",
      "mv  sample_AGGGTC.fq sample_PHOOD11X01H_0017.fq\n",
      "mv  sample_AGGTGT.fq sample_PHOOD11X01H_0018.fq\n",
      "mv  sample_ATTCCG.fq sample_PHOOD11X01H_0025.fq\n",
      "mv  sample_CAAAAA.fq sample_PHOOD11X01H_0026.fq\n",
      "mv  sample_CAATCG.fq sample_PHOOD11X01H_0027.fq\n",
      "mv  sample_CACCTC.fq sample_PHOOD11X01H_0028.fq\n",
      "mv  sample_CAGGCA.fq sample_PHOOD11X01H_0029.fq\n",
      "mv  sample_CATACT.fq sample_PHOOD11X01H_0030.fq\n",
      "mv  sample_AATGAG.fq sample_PHOOD11X05H_0007.fq\n",
      "mv  sample_ACAAGA.fq sample_PHOOD11X05H_0008.fq\n",
      "mv  sample_ACAGCG.fq sample_PHOOD11X05H_0009.fq\n",
      "mv  sample_ACATAC.fq sample_PHOOD11X05H_0010.fq\n",
      "mv  sample_ACCATG.fq sample_PHOOD11X05H_0011.fq\n",
      "mv  sample_ACCCCC.fq sample_PHOOD11X05H_0012.fq\n",
      "mv  sample_AGTAGG.fq sample_PHOOD11X05H_0019.fq\n",
      "mv  sample_AGTTAA.fq sample_PHOOD11X05H_0020.fq\n",
      "mv  sample_ATAGTA.fq sample_PHOOD11X05H_0021.fq\n",
      "mv  sample_ATCAAA.fq sample_PHOOD11X05H_0022.fq\n",
      "mv  sample_ATGCAC.fq sample_PHOOD11X05H_0023.fq\n",
      "mv  sample_ATGTTG.fq sample_PHOOD11X05H_0024.fq\n",
      "mv  sample_CCATTT.fq sample_PHOOD11X05H_0031.fq\n",
      "mv  sample_CCCGGT.fq sample_PHOOD11X05H_0032.fq\n",
      "mv  sample_CCCTAA.fq sample_PHOOD11X05H_0033.fq\n",
      "mv  sample_CCGAGG.fq sample_PHOOD11X05H_0034.fq\n",
      "mv  sample_CCGCAT.fq sample_PHOOD11X05H_0035.fq\n",
      "mv  sample_CCTAAC.fq sample_PHOOD11X05H_0036.fq\n",
      "\n",
      "#remove the sample_ at the beginning of the names\n",
      "\n",
      "mv  sample_PHOOD11X01H_0001.fq PHOOD11X01H_0001.fq\n",
      "mv  sample_PHOOD11X01H_0002.fq PHOOD11X01H_0002.fq\n",
      "mv  sample_PHOOD11X01H_0003.fq PHOOD11X01H_0003.fq\n",
      "mv  sample_PHOOD11X01H_0004.fq PHOOD11X01H_0004.fq\n",
      "mv  sample_PHOOD11X01H_0005.fq PHOOD11X01H_0005.fq\n",
      "mv  sample_PHOOD11X01H_0006.fq PHOOD11X01H_0006.fq\n",
      "mv  sample_PHOOD11X01H_0013.fq PHOOD11X01H_0013.fq\n",
      "mv  sample_PHOOD11X01H_0014.fq PHOOD11X01H_0014.fq\n",
      "mv  sample_PHOOD11X01H_0015.fq PHOOD11X01H_0015.fq\n",
      "mv  sample_PHOOD11X01H_0016.fq PHOOD11X01H_0016.fq\n",
      "mv  sample_PHOOD11X01H_0017.fq PHOOD11X01H_0017.fq\n",
      "mv  sample_PHOOD11X01H_0018.fq PHOOD11X01H_0018.fq\n",
      "mv  sample_PHOOD11X01H_0025.fq PHOOD11X01H_0025.fq\n",
      "mv  sample_PHOOD11X01H_0026.fq PHOOD11X01H_0026.fq\n",
      "mv  sample_PHOOD11X01H_0027.fq PHOOD11X01H_0027.fq\n",
      "mv  sample_PHOOD11X01H_0028.fq PHOOD11X01H_0028.fq\n",
      "mv  sample_PHOOD11X01H_0029.fq PHOOD11X01H_0029.fq\n",
      "mv  sample_PHOOD11X01H_0030.fq PHOOD11X01H_0030.fq\n",
      "mv  sample_PHOOD11X05H_0007.fq PHOOD11X05H_0007.fq\n",
      "mv  sample_PHOOD11X05H_0008.fq PHOOD11X05H_0008.fq\n",
      "mv  sample_PHOOD11X05H_0009.fq PHOOD11X05H_0009.fq\n",
      "mv  sample_PHOOD11X05H_0010.fq PHOOD11X05H_0010.fq\n",
      "mv  sample_PHOOD11X05H_0011.fq PHOOD11X05H_0011.fq\n",
      "mv  sample_PHOOD11X05H_0012.fq PHOOD11X05H_0012.fq\n",
      "mv  sample_PHOOD11X05H_0019.fq PHOOD11X05H_0019.fq\n",
      "mv  sample_PHOOD11X05H_0020.fq PHOOD11X05H_0020.fq\n",
      "mv  sample_PHOOD11X05H_0021.fq PHOOD11X05H_0021.fq\n",
      "mv  sample_PHOOD11X05H_0022.fq PHOOD11X05H_0022.fq\n",
      "mv  sample_PHOOD11X05H_0023.fq PHOOD11X05H_0023.fq\n",
      "mv  sample_PHOOD11X05H_0024.fq PHOOD11X05H_0024.fq\n",
      "mv  sample_PHOOD11X05H_0031.fq PHOOD11X05H_0031.fq\n",
      "mv  sample_PHOOD11X05H_0032.fq PHOOD11X05H_0032.fq\n",
      "mv  sample_PHOOD11X05H_0033.fq PHOOD11X05H_0033.fq\n",
      "mv  sample_PHOOD11X05H_0034.fq PHOOD11X05H_0034.fq\n",
      "mv  sample_PHOOD11X05H_0035.fq PHOOD11X05H_0035.fq\n",
      "mv  sample_PHOOD11X05H_0036.fq PHOOD11X05H_0036.fq\n",
      "\n"
     ],
     "language": "python",
     "metadata": {},
     "outputs": []
    },
    {
     "cell_type": "code",
     "collapsed": false,
     "input": [
      "#PH2_rename.sh\n",
      "#sept 16 2014 \n",
      "\n",
      "#rename the old PH2 samples\n",
      "\n",
      "mv sample_AATGAG.fq PHOOD11X01H_0007.fq\n",
      "mv sample_ACAAGA.fq PHOOD11X01H_0008.fq\n",
      "mv sample_ACAGCG.fq PHOOD11X01H_0009.fq\n",
      "mv sample_ACATAC.fq PHOOD11X01H_0010.fq\n",
      "mv sample_ACCATG.fq PHOOD11X01H_0011.fq\n",
      "mv sample_ACCCCC.fq PHOOD11X01H_0012.fq\n",
      "mv sample_AGTAGG.fq PHOOD11X01H_0019.fq\n",
      "mv sample_AGTTAA.fq PHOOD11X01H_0020.fq\n",
      "mv sample_ATAGTA.fq PHOOD11X01H_0021.fq\n",
      "mv sample_ATCAAA.fq PHOOD11X01H_0022.fq\n",
      "mv sample_ATGCAC.fq PHOOD11X01H_0023.fq\n",
      "mv sample_ATGTTG.fq PHOOD11X01H_0024.fq\n",
      "mv sample_TAAGCT.fq PHOOD11X01H_0073.fq\n",
      "mv sample_TAATTC.fq PHOOD11X01H_0074.fq\n",
      "mv sample_TACACA.fq PHOOD11X01H_0075.fq\n",
      "mv sample_TACGGG.fq PHOOD11X01H_0076.fq\n",
      "mv sample_TAGTAT.fq PHOOD11X01H_0077.fq\n",
      "mv sample_TATCAC.fq PHOOD11X01H_0078.fq\n",
      "mv sample_TTTGTC.fq PHOOD11X05H_0001.fq\n",
      "mv sample_AACGTT.fq PHOOD11X05H_0002.fq\n",
      "mv sample_AACTGA.fq PHOOD11X05H_0003.fq\n",
      "mv sample_AAGACG.fq PHOOD11X05H_0004.fq\n",
      "mv sample_AAGCTA.fq PHOOD11X05H_0005.fq\n",
      "mv sample_AATATC.fq PHOOD11X05H_0006.fq\n",
      "mv sample_ACTCTT.fq PHOOD11X05H_0013.fq\n",
      "mv sample_ACTGGC.fq PHOOD11X05H_0014.fq\n",
      "mv sample_AGCCAT.fq PHOOD11X05H_0015.fq\n",
      "mv sample_AGCGCA.fq PHOOD11X05H_0016.fq\n",
      "mv sample_AGGGTC.fq PHOOD11X05H_0017.fq\n",
      "mv sample_AGGTGT.fq PHOOD11X05H_0018.fq\n",
      "mv sample_TCAAAG.fq PHOOD11X05H_0079.fq\n",
      "mv sample_TCCTGC.fq PHOOD11X05H_0080.fq\n",
      "mv sample_TCGATT.fq PHOOD11X05H_0081.fq\n",
      "mv sample_TCGCCA.fq PHOOD11X05H_0082.fq\n",
      "mv sample_TCGGAC.fq PHOOD11X05H_0083.fq\n",
      "mv sample_TCTCGG.fq PHOOD11X05H_0084.fq\n"
     ],
     "language": "python",
     "metadata": {},
     "outputs": []
    },
    {
     "cell_type": "code",
     "collapsed": false,
     "input": [
      "#PH3_rename.sh\n",
      "\n",
      "#sept 16 2014 \n",
      "#rename the old PH3 samples\n",
      "\n",
      "mv sample_GAAATG.fq PHOOD11X01H_0049.fq\n",
      "mv sample_GAACCA.fq PHOOD11X01H_0050.fq\n",
      "mv sample_GACGAC.fq PHOOD11X01H_0051.fq\n",
      "mv sample_GACTCT.fq PHOOD11X01H_0052.fq\n",
      "mv sample_GAGAGA.fq PHOOD11X01H_0053.fq\n",
      "mv sample_GATCGT.fq PHOOD11X01H_0054.fq\n",
      "mv sample_GGACTT.fq PHOOD11X01H_0061.fq\n",
      "mv sample_GGCAAG.fq PHOOD11X01H_0062.fq\n",
      "mv sample_GGGCGC.fq PHOOD11X01H_0063.fq\n",
      "mv sample_GGGGCG.fq PHOOD11X01H_0064.fq\n",
      "mv sample_GGTACA.fq PHOOD11X01H_0065.fq\n",
      "mv sample_GGTTTG.fq PHOOD11X01H_0066.fq\n",
      "mv sample_TCTTCT.fq PHOOD11X01H_0085.fq\n",
      "mv sample_TGAACC.fq PHOOD11X01H_0086.fq\n",
      "mv sample_TGACAA.fq PHOOD11X01H_0087.fq\n",
      "mv sample_TGCCCG.fq PHOOD11X01H_0088.fq\n",
      "mv sample_TGCTTA.fq PHOOD11X01H_0089.fq\n",
      "mv sample_TGGGGA.fq PHOOD11X01H_0090.fq\n",
      "mv sample_GCAGAT.fq PHOOD11X05H_0055.fq\n",
      "mv sample_GCATGG.fq PHOOD11X05H_0056.fq\n",
      "mv sample_GCCGTA.fq PHOOD11X05H_0057.fq\n",
      "mv sample_GCGACC.fq PHOOD11X05H_0058.fq\n",
      "mv sample_GCGCTG.fq PHOOD11X05H_0059.fq\n",
      "mv sample_GCTCAA.fq PHOOD11X05H_0060.fq\n",
      "mv sample_GTAAGT.fq PHOOD11X05H_0067.fq\n",
      "mv sample_GTATCC.fq PHOOD11X05H_0068.fq\n",
      "mv sample_GTCATC.fq PHOOD11X05H_0069.fq\n",
      "mv sample_GTGCCT.fq PHOOD11X05H_0070.fq\n",
      "mv sample_GTGTAA.fq PHOOD11X05H_0071.fq\n",
      "mv sample_GTTGGA.fq PHOOD11X05H_0072.fq\n",
      "mv sample_TTATGA.fq PHOOD11X05H_0091.fq\n",
      "mv sample_TTCCGT.fq PHOOD11X05H_0092.fq\n",
      "mv sample_TTCTAG.fq PHOOD11X05H_0093.fq\n",
      "mv sample_TTTAAT.fq PHOOD11X05H_0095.fq\n"
     ],
     "language": "python",
     "metadata": {},
     "outputs": []
    },
    {
     "cell_type": "code",
     "collapsed": false,
     "input": [
      "#PH4_rename.sh\n",
      "#sept 16 2014 \n",
      "\n",
      "#rename the old PH4 samples\n",
      "\n",
      "mv sample_CTACAG.fq PHOOD11X01H_0043.fq\n",
      "mv sample_CTCGCC.fq PHOOD11X01H_0044.fq\n",
      "mv sample_CTGCGA.fq PHOOD11X01H_0045.fq\n",
      "mv sample_CTGGTT.fq PHOOD11X01H_0046.fq\n",
      "mv sample_CTTATG.fq PHOOD11X01H_0047.fq\n",
      "mv sample_CTTTGC.fq PHOOD11X01H_0048.fq\n",
      "mv sample_GCAGAT.fq PHOOD11X01H_0055.fq\n",
      "mv sample_GCATGG.fq PHOOD11X01H_0056.fq\n",
      "mv sample_GCCGTA.fq PHOOD11X01H_0057.fq\n",
      "mv sample_GCGACC.fq PHOOD11X01H_0058.fq\n",
      "mv sample_GCGCTG.fq PHOOD11X01H_0059.fq\n",
      "mv sample_GCTCAA.fq PHOOD11X01H_0060.fq\n",
      "mv sample_GTAAGT.fq PHOOD11X01H_0067.fq\n",
      "mv sample_GTATCC.fq PHOOD11X01H_0068.fq\n",
      "mv sample_GTCATC.fq PHOOD11X01H_0069.fq\n",
      "mv sample_GTGCCT.fq PHOOD11X01H_0070.fq\n",
      "mv sample_GTGTAA.fq PHOOD11X01H_0071.fq\n",
      "mv sample_GTTGGA.fq PHOOD11X01H_0072.fq\n",
      "mv sample_CGAGGC.fq PHOOD11X05H_0037.fq\n",
      "mv sample_CGCAGA.fq PHOOD11X05H_0038.fq\n",
      "mv sample_CGCGTG.fq PHOOD11X05H_0039.fq\n",
      "mv sample_CGGTCC.fq PHOOD11X05H_0040.fq\n",
      "mv sample_CGTCTA.fq PHOOD11X05H_0041.fq\n",
      "mv sample_CGTGAT.fq PHOOD11X05H_0042.fq\n",
      "mv sample_GAAATG.fq PHOOD11X05H_0049.fq\n",
      "mv sample_GAACCA.fq PHOOD11X05H_0050.fq\n",
      "mv sample_GACGAC.fq PHOOD11X05H_0051.fq\n",
      "mv sample_GACTCT.fq PHOOD11X05H_0052.fq\n",
      "mv sample_GAGAGA.fq PHOOD11X05H_0053.fq\n",
      "mv sample_GATCGT.fq PHOOD11X05H_0054.fq\n",
      "mv sample_GGACTT.fq PHOOD11X05H_0061.fq\n",
      "mv sample_GGCAAG.fq PHOOD11X05H_0062.fq\n",
      "mv sample_GGGCGC.fq PHOOD11X05H_0063.fq\n",
      "mv sample_GGGGCG.fq PHOOD11X05H_0064.fq\n",
      "mv sample_GGTACA.fq PHOOD11X05H_0065.fq\n",
      "mv sample_GGTTTG.fq PHOOD11X05H_0066.fq\n"
     ],
     "language": "python",
     "metadata": {},
     "outputs": []
    },
    {
     "cell_type": "code",
     "collapsed": false,
     "input": [
      "#PH5_rename.sh\n",
      "#sept 16 2014 \n",
      "\n",
      "#rename the old PH5 samples\n",
      "\n",
      "mv sample_CCATTT.fq PHOOD11X_0001.fq\n",
      "mv sample_CTACAG.fq PHOOD11X_0005.fq\n",
      "mv sample_CGAGGC.fq PHOOD11X_0023.fq\n",
      "mv sample_CCCGGT.fq PHOOD11X01H_0032.fq\n",
      "mv sample_CCCTAA.fq PHOOD11X01H_0033.fq\n",
      "mv sample_CCGAGG.fq PHOOD11X01H_0034.fq\n",
      "mv sample_CCGCAT.fq PHOOD11X01H_0035.fq\n",
      "mv sample_CCTAAC.fq PHOOD11X01H_0036.fq\n",
      "mv sample_CGCAGA.fq PHOOD11X01H_0038.fq\n",
      "mv sample_CGCGTG.fq PHOOD11X01H_0039.fq\n",
      "mv sample_CGGTCC.fq PHOOD11X01H_0040.fq\n",
      "mv sample_CGTCTA.fq PHOOD11X01H_0041.fq\n",
      "mv sample_CGTGAT.fq PHOOD11X01H_0042.fq\n",
      "mv sample_ATTCCG.fq PHOOD11X05H_0025.fq\n",
      "mv sample_CAAAAA.fq PHOOD11X05H_0026.fq\n",
      "mv sample_CAATCG.fq PHOOD11X05H_0027.fq\n",
      "mv sample_CACCTC.fq PHOOD11X05H_0028.fq\n",
      "mv sample_CAGGCA.fq PHOOD11X05H_0029.fq\n",
      "mv sample_CATACT.fq PHOOD11X05H_0030.fq\n",
      "mv sample_CTCGCC.fq PHOOD11X05H_0044.fq\n",
      "mv sample_CTGCGA.fq PHOOD11X05H_0045.fq\n",
      "mv sample_CTGGTT.fq PHOOD11X05H_0046.fq\n",
      "mv sample_CTTATG.fq PHOOD11X05H_0047.fq\n",
      "mv sample_CTTTGC.fq PHOOD11X05H_0048.fq\n"
     ],
     "language": "python",
     "metadata": {},
     "outputs": []
    },
    {
     "cell_type": "code",
     "collapsed": false,
     "input": [
      "#PH6_rename.sh\n",
      "#sept 16 2014 \n",
      "\n",
      "#rename the old PH6 samples\n",
      "\n",
      "mv sample_TGGGGA.fq PHOOD11X_0024.fq\n",
      "mv sample_TCAAAG.fq PHOOD11X01H_0079.fq\n",
      "mv sample_TCCTGC.fq PHOOD11X01H_0080.fq\n",
      "mv sample_TCGATT.fq PHOOD11X01H_0081.fq\n",
      "mv sample_TCGCCA.fq PHOOD11X01H_0082.fq\n",
      "mv sample_TCGGAC.fq PHOOD11X01H_0083.fq\n",
      "mv sample_TCTCGG.fq PHOOD11X01H_0084.fq\n",
      "mv sample_TTATGA.fq PHOOD11X01H_0091.fq\n",
      "mv sample_TTCCGT.fq PHOOD11X01H_0092.fq\n",
      "mv sample_TTCTAG.fq PHOOD11X01H_0093.fq\n",
      "mv sample_TTGAGC.fq PHOOD11X01H_0094.fq\n",
      "mv sample_TTTAAT.fq PHOOD11X01H_0095.fq\n",
      "mv sample_TAAGCT.fq PHOOD11X05H_0073.fq\n",
      "mv sample_TAATTC.fq PHOOD11X05H_0074.fq\n",
      "mv sample_TACACA.fq PHOOD11X05H_0075.fq\n",
      "mv sample_TACGGG.fq PHOOD11X05H_0076.fq\n",
      "mv sample_TAGTAT.fq PHOOD11X05H_0077.fq\n",
      "mv sample_TATCAC.fq PHOOD11X05H_0078.fq\n",
      "mv sample_TCTTCT.fq PHOOD11X05H_0085.fq\n",
      "mv sample_TGAACC.fq PHOOD11X05H_0086.fq\n",
      "mv sample_TGACAA.fq PHOOD11X05H_0087.fq\n",
      "mv sample_TGCCCG.fq PHOOD11X05H_0088.fq\n",
      "mv sample_TGCTTA.fq PHOOD11X05H_0089.fq\n"
     ],
     "language": "python",
     "metadata": {},
     "outputs": []
    },
    {
     "cell_type": "markdown",
     "metadata": {},
     "source": [
      "#Reruns\n",
      "\n",
      "Used Wes' excel spreadsheet as a template to filter out the samples from the 5 lanes that had more than 1.5 million reads (diploids) or 1 mil (haploids) and any that were really low (not worth rerunning if they were just bad DNA). What is left are the samples that need to be resequenced to attempt to increase their number of retained reads.  The excel spreadsheet then calculates how much DNA needs to be included in the next round of library preps so that the amount of DNA that goes into the prep is proportional to the number of reads that the samples needs to reach the threshold. In this way, samples with fewer retained reads after their first run will have more DNA in the prep as a way to increase their number of retained reads over a sample that already had a fair number of retained reads and does not need a great deal more to reach the threshold. When the data is returned from Oregon, process_radtags was run on the samples, and the resulting output was renamed in the same way as above.  The samples have the same barcode as the first time they were run. The different runs of the samples were combined for downstream analysis. A shell script with the command cat (for concatenate) will add the two files together, one after the other in a single file so that the runs can be run as one. \n",
      "\n",
      "Below is the process_radtags commands used on the  Haploid resequenced samples. The file path for the gzipped samples is Haploids2014, which is alarming because it now houses Tyler's even year pinks. The file structure has changed since this was run, and there is no danger that my samples were inadvertantly concatenated to his; his samples had not been sequenced at the time (they were returned in January 2015). \n",
      "\n",
      "Following it is the command to rename the haploid reruns and concatenate the resulting files. \n"
     ]
    },
    {
     "cell_type": "code",
     "collapsed": false,
     "input": [
      "#rename_combine.sh\n",
      "\n",
      "#renaming the second run of haploids with the sample names and barcodes remade from sbfI sheet\n",
      "#copying them to the seagate drive\n",
      "#december 1 2014\n",
      "\n",
      "#ph1r\n",
      "\n",
      "cp ~/Desktop/foraker/RAD/PINK/00RawSequences/gzip/Haploids2014/PH1r/sample_AAACGG.fq Second_Run/PH1/PBIRD13X102G_0025.fq\n",
      "cp ~/Desktop/foraker/RAD/PINK/00RawSequences/gzip/Haploids2014/PH1r/sample_AACGTT.fq Second_Run/PH1/PBIRD13X102G_0017.fq\n",
      "cp ~/Desktop/foraker/RAD/PINK/00RawSequences/gzip/Haploids2014/PH1r/sample_AACTGA.fq Second_Run/PH1/PBIRD13X102G_0020.fq\n",
      "cp ~/Desktop/foraker/RAD/PINK/00RawSequences/gzip/Haploids2014/PH1r/sample_AAGACG.fq Second_Run/PH1/PBIRD13X110H_0056.fq\n",
      "cp ~/Desktop/foraker/RAD/PINK/00RawSequences/gzip/Haploids2014/PH1r/sample_AAGCTA.fq Second_Run/PH1/PBIRD13X108H_0026.fq\n",
      "cp ~/Desktop/foraker/RAD/PINK/00RawSequences/gzip/Haploids2014/PH1r/sample_AATATC.fq Second_Run/PH1/PBIRD13X110H_0033.fq\n",
      "cp ~/Desktop/foraker/RAD/PINK/00RawSequences/gzip/Haploids2014/PH1r/sample_AATGAG.fq Second_Run/PH1/PBIRD13X108H_0005.fq\n",
      "cp ~/Desktop/foraker/RAD/PINK/00RawSequences/gzip/Haploids2014/PH1r/sample_ACAAGA.fq Second_Run/PH1/PBIRD13X110H_0083.fq\n",
      "cp ~/Desktop/foraker/RAD/PINK/00RawSequences/gzip/Haploids2014/PH1r/sample_ACAGCG.fq Second_Run/PH1/PBIRD13X108H_0010.fq\n",
      "cp ~/Desktop/foraker/RAD/PINK/00RawSequences/gzip/Haploids2014/PH1r/sample_ACATAC.fq Second_Run/PH1/PBIRD13X108H_0016.fq\n",
      "cp ~/Desktop/foraker/RAD/PINK/00RawSequences/gzip/Haploids2014/PH1r/sample_ACCATG.fq Second_Run/PH1/PBIRD13X108H_0057.fq\n",
      "cp ~/Desktop/foraker/RAD/PINK/00RawSequences/gzip/Haploids2014/PH1r/sample_ACCCCC.fq Second_Run/PH1/PBIRD13X110H_0010.fq\n",
      "cp ~/Desktop/foraker/RAD/PINK/00RawSequences/gzip/Haploids2014/PH1r/sample_ACTCTT.fq Second_Run/PH1/PBIRD13X102G_0013.fq\n",
      "cp ~/Desktop/foraker/RAD/PINK/00RawSequences/gzip/Haploids2014/PH1r/sample_ACTGGC.fq Second_Run/PH1/PBIRD13X110H_0062.fq\n",
      "cp ~/Desktop/foraker/RAD/PINK/00RawSequences/gzip/Haploids2014/PH1r/sample_AGCCAT.fq Second_Run/PH1/PBIRD13X110H_0069.fq\n",
      "cp ~/Desktop/foraker/RAD/PINK/00RawSequences/gzip/Haploids2014/PH1r/sample_AGCGCA.fq Second_Run/PH1/PBIRD13X110H_0029.fq\n",
      "cp ~/Desktop/foraker/RAD/PINK/00RawSequences/gzip/Haploids2014/PH1r/sample_AGGGTC.fq Second_Run/PH1/PBIRD13X110H_0018.fq\n",
      "cp ~/Desktop/foraker/RAD/PINK/00RawSequences/gzip/Haploids2014/PH1r/sample_AGGTGT.fq Second_Run/PH1/PBIRD13X108H_0059.fq\n",
      "cp ~/Desktop/foraker/RAD/PINK/00RawSequences/gzip/Haploids2014/PH1r/sample_AGTAGG.fq Second_Run/PH1/PBIRD13X108H_0043.fq\n",
      "cp ~/Desktop/foraker/RAD/PINK/00RawSequences/gzip/Haploids2014/PH1r/sample_AGTTAA.fq Second_Run/PH1/PBIRD13X108H_0044.fq\n",
      "cp ~/Desktop/foraker/RAD/PINK/00RawSequences/gzip/Haploids2014/PH1r/sample_ATAGTA.fq Second_Run/PH1/PBIRD13X110H_0094.fq\n",
      "cp ~/Desktop/foraker/RAD/PINK/00RawSequences/gzip/Haploids2014/PH1r/sample_ATCAAA.fq Second_Run/PH1/PBIRD13X110H_0084.fq\n",
      "cp ~/Desktop/foraker/RAD/PINK/00RawSequences/gzip/Haploids2014/PH1r/sample_ATGCAC.fq Second_Run/PH1/PBIRD13X108H_0037.fq\n",
      "cp ~/Desktop/foraker/RAD/PINK/00RawSequences/gzip/Haploids2014/PH1r/sample_ATGTTG.fq Second_Run/PH1/PBIRD13X108H_0049.fq\n",
      "cp ~/Desktop/foraker/RAD/PINK/00RawSequences/gzip/Haploids2014/PH1r/sample_ATTCCG.fq Second_Run/PH1/PBIRD13X102G_0002.fq\n",
      "cp ~/Desktop/foraker/RAD/PINK/00RawSequences/gzip/Haploids2014/PH1r/sample_CAAAAA.fq Second_Run/PH1/PBIRD13X102G_0007.fq\n",
      "cp ~/Desktop/foraker/RAD/PINK/00RawSequences/gzip/Haploids2014/PH1r/sample_CAATCG.fq Second_Run/PH1/PBIRD13X110H_0091.fq\n",
      "cp ~/Desktop/foraker/RAD/PINK/00RawSequences/gzip/Haploids2014/PH1r/sample_CACCTC.fq Second_Run/PH1/PBIRD13X110H_0046.fq\n",
      "cp ~/Desktop/foraker/RAD/PINK/00RawSequences/gzip/Haploids2014/PH1r/sample_CAGGCA.fq Second_Run/PH1/PBIRD13X110H_0005.fq\n",
      "cp ~/Desktop/foraker/RAD/PINK/00RawSequences/gzip/Haploids2014/PH1r/sample_CATACT.fq Second_Run/PH1/PBIRD13X108H_0087.fq\n",
      "cp ~/Desktop/foraker/RAD/PINK/00RawSequences/gzip/Haploids2014/PH1r/sample_CCATTT.fq Second_Run/PH1/PBIRD13X108H_0002.fq\n",
      "cp ~/Desktop/foraker/RAD/PINK/00RawSequences/gzip/Haploids2014/PH1r/sample_CCCGGT.fq Second_Run/PH1/PBIRD13X110H_0004.fq\n",
      "cp ~/Desktop/foraker/RAD/PINK/00RawSequences/gzip/Haploids2014/PH1r/sample_CCCTAA.fq Second_Run/PH1/PBIRD13X108H_0092.fq\n",
      "cp ~/Desktop/foraker/RAD/PINK/00RawSequences/gzip/Haploids2014/PH1r/sample_CCGAGG.fq Second_Run/PH1/PBIRD13X108H_0046.fq\n",
      "cp ~/Desktop/foraker/RAD/PINK/00RawSequences/gzip/Haploids2014/PH1r/sample_CCGCAT.fq Second_Run/PH1/PBIRD13X108H_0078.fq\n",
      "cp ~/Desktop/foraker/RAD/PINK/00RawSequences/gzip/Haploids2014/PH1r/sample_CCTAAC.fq Second_Run/PH1/PBIRD13X108H_0018.fq\n",
      "cp ~/Desktop/foraker/RAD/PINK/00RawSequences/gzip/Haploids2014/PH1r/sample_CGAGGC.fq Second_Run/PH1/PBIRD13X102G_0004.fq\n",
      "cp ~/Desktop/foraker/RAD/PINK/00RawSequences/gzip/Haploids2014/PH1r/sample_CGCAGA.fq Second_Run/PH1/PBIRD13X110H_0089.fq\n",
      "cp ~/Desktop/foraker/RAD/PINK/00RawSequences/gzip/Haploids2014/PH1r/sample_CGCGTG.fq Second_Run/PH1/PBIRD13X110H_0066.fq\n",
      "cp ~/Desktop/foraker/RAD/PINK/00RawSequences/gzip/Haploids2014/PH1r/sample_CGGTCC.fq Second_Run/PH1/PBIRD13X110H_0016.fq\n",
      "cp ~/Desktop/foraker/RAD/PINK/00RawSequences/gzip/Haploids2014/PH1r/sample_CGTCTA.fq Second_Run/PH1/PBIRD13X108H_0028.fq\n",
      "cp ~/Desktop/foraker/RAD/PINK/00RawSequences/gzip/Haploids2014/PH1r/sample_CGTGAT.fq Second_Run/PH1/PBIRD13X110H_0095.fq\n",
      "cp ~/Desktop/foraker/RAD/PINK/00RawSequences/gzip/Haploids2014/PH1r/sample_CTACAG.fq Second_Run/PH1/PBIRD13X108H_0039.fq\n",
      "cp ~/Desktop/foraker/RAD/PINK/00RawSequences/gzip/Haploids2014/PH1r/sample_CTCGCC.fq Second_Run/PH1/PBIRD13X108H_0009.fq\n",
      "cp ~/Desktop/foraker/RAD/PINK/00RawSequences/gzip/Haploids2014/PH1r/sample_CTGCGA.fq Second_Run/PH1/PBIRD13X108H_0086.fq\n",
      "cp ~/Desktop/foraker/RAD/PINK/00RawSequences/gzip/Haploids2014/PH1r/sample_CTGGTT.fq Second_Run/PH1/PBIRD13X110H_0049.fq\n",
      "cp ~/Desktop/foraker/RAD/PINK/00RawSequences/gzip/Haploids2014/PH1r/sample_CTTATG.fq Second_Run/PH1/PBIRD13X110H_0058.fq\n",
      "cp ~/Desktop/foraker/RAD/PINK/00RawSequences/gzip/Haploids2014/PH1r/sample_CTTTGC.fq Second_Run/PH1/PBIRD13X108H_0034.fq\n",
      "cp ~/Desktop/foraker/RAD/PINK/00RawSequences/gzip/Haploids2014/PH1r/sample_GAAATG.fq Second_Run/PH1/PBIRD13X110H_0063.fq\n",
      "cp ~/Desktop/foraker/RAD/PINK/00RawSequences/gzip/Haploids2014/PH1r/sample_GAACCA.fq Second_Run/PH1/PBIRD13X108H_0031.fq\n",
      "cp ~/Desktop/foraker/RAD/PINK/00RawSequences/gzip/Haploids2014/PH1r/sample_GACGAC.fq Second_Run/PH1/PBIRD13X110H_0075.fq\n",
      "cp ~/Desktop/foraker/RAD/PINK/00RawSequences/gzip/Haploids2014/PH1r/sample_GACTCT.fq Second_Run/PH1/PBIRD13X108H_0042.fq\n",
      "cp ~/Desktop/foraker/RAD/PINK/00RawSequences/gzip/Haploids2014/PH1r/sample_GAGAGA.fq Second_Run/PH1/PBIRD13X110H_0013.fq\n",
      "cp ~/Desktop/foraker/RAD/PINK/00RawSequences/gzip/Haploids2014/PH1r/sample_GATCGT.fq Second_Run/PH1/PBIRD13X110H_0065.fq\n",
      "cp ~/Desktop/foraker/RAD/PINK/00RawSequences/gzip/Haploids2014/PH1r/sample_GCAGAT.fq Second_Run/PH1/PBIRD13X108H_0056.fq\n",
      "cp ~/Desktop/foraker/RAD/PINK/00RawSequences/gzip/Haploids2014/PH1r/sample_GCATGG.fq Second_Run/PH1/PBIRD13X110H_0082.fq\n",
      "cp ~/Desktop/foraker/RAD/PINK/00RawSequences/gzip/Haploids2014/PH1r/sample_GCCGTA.fq Second_Run/PH1/PBIRD13X108H_0003.fq\n",
      "cp ~/Desktop/foraker/RAD/PINK/00RawSequences/gzip/Haploids2014/PH1r/sample_GCGACC.fq Second_Run/PH1/PBIRD13X110H_0051.fq\n",
      "cp ~/Desktop/foraker/RAD/PINK/00RawSequences/gzip/Haploids2014/PH1r/sample_GCGCTG.fq Second_Run/PH1/PBIRD13X110H_0048.fq\n",
      "cp ~/Desktop/foraker/RAD/PINK/00RawSequences/gzip/Haploids2014/PH1r/sample_GCTCAA.fq Second_Run/PH1/PBIRD13X108H_0080.fq\n",
      "cp ~/Desktop/foraker/RAD/PINK/00RawSequences/gzip/Haploids2014/PH1r/sample_GGACTT.fq Second_Run/PH1/PBIRD13X102G_0005.fq\n",
      "cp ~/Desktop/foraker/RAD/PINK/00RawSequences/gzip/Haploids2014/PH1r/sample_GGCAAG.fq Second_Run/PH1/PBIRD13X110H_0053.fq\n",
      "cp ~/Desktop/foraker/RAD/PINK/00RawSequences/gzip/Haploids2014/PH1r/sample_GGGCGC.fq Second_Run/PH1/PBIRD13X102G_0008.fq\n",
      "cp ~/Desktop/foraker/RAD/PINK/00RawSequences/gzip/Haploids2014/PH1r/sample_GGGGCG.fq Second_Run/PH1/PBIRD13X110H_0021.fq\n",
      "cp ~/Desktop/foraker/RAD/PINK/00RawSequences/gzip/Haploids2014/PH1r/sample_GGTACA.fq Second_Run/PH1/PBIRD13X108H_0001.fq\n",
      "cp ~/Desktop/foraker/RAD/PINK/00RawSequences/gzip/Haploids2014/PH1r/sample_GGTTTG.fq Second_Run/PH1/PBIRD13X108H_0006.fq\n",
      "cp ~/Desktop/foraker/RAD/PINK/00RawSequences/gzip/Haploids2014/PH1r/sample_GTAAGT.fq Second_Run/PH1/PBIRD13X108H_0036.fq\n",
      "cp ~/Desktop/foraker/RAD/PINK/00RawSequences/gzip/Haploids2014/PH1r/sample_GTATCC.fq Second_Run/PH1/PBIRD13X108H_0004.fq\n",
      "cp ~/Desktop/foraker/RAD/PINK/00RawSequences/gzip/Haploids2014/PH1r/sample_GTCATC.fq Second_Run/PH1/PBIRD13X110H_0079.fq\n",
      "cp ~/Desktop/foraker/RAD/PINK/00RawSequences/gzip/Haploids2014/PH1r/sample_GTGCCT.fq Second_Run/PH1/PBIRD13X108H_0050.fq\n",
      "cp ~/Desktop/foraker/RAD/PINK/00RawSequences/gzip/Haploids2014/PH1r/sample_GTGTAA.fq Second_Run/PH1/PBIRD13X108H_0077.fq\n",
      "cp ~/Desktop/foraker/RAD/PINK/00RawSequences/gzip/Haploids2014/PH1r/sample_GTTGGA.fq Second_Run/PH1/PBIRD13X108H_0067.fq\n",
      "cp ~/Desktop/foraker/RAD/PINK/00RawSequences/gzip/Haploids2014/PH1r/sample_TAAGCT.fq Second_Run/PH1/PBIRD13X102G_0024.fq\n",
      "cp ~/Desktop/foraker/RAD/PINK/00RawSequences/gzip/Haploids2014/PH1r/sample_TAATTC.fq Second_Run/PH1/PBIRD13X110H_0070.fq\n",
      "cp ~/Desktop/foraker/RAD/PINK/00RawSequences/gzip/Haploids2014/PH1r/sample_TACACA.fq Second_Run/PH1/PBIRD13X110H_0055.fq\n",
      "cp ~/Desktop/foraker/RAD/PINK/00RawSequences/gzip/Haploids2014/PH1r/sample_TACGGG.fq Second_Run/PH1/PBIRD13X110H_0085.fq\n",
      "cp ~/Desktop/foraker/RAD/PINK/00RawSequences/gzip/Haploids2014/PH1r/sample_TAGTAT.fq Second_Run/PH1/PBIRD13X110H_0086.fq\n",
      "cp ~/Desktop/foraker/RAD/PINK/00RawSequences/gzip/Haploids2014/PH1r/sample_TATCAC.fq Second_Run/PH1/PBIRD13X108H_0013.fq\n",
      "cp ~/Desktop/foraker/RAD/PINK/00RawSequences/gzip/Haploids2014/PH1r/sample_TCAAAG.fq Second_Run/PH1/PBIRD13X108H_0088.fq\n",
      "cp ~/Desktop/foraker/RAD/PINK/00RawSequences/gzip/Haploids2014/PH1r/sample_TCCTGC.fq Second_Run/PH1/PBIRD13X110H_0071.fq\n",
      "cp ~/Desktop/foraker/RAD/PINK/00RawSequences/gzip/Haploids2014/PH1r/sample_TCGATT.fq Second_Run/PH1/PBIRD13X108H_0025.fq\n",
      "cp ~/Desktop/foraker/RAD/PINK/00RawSequences/gzip/Haploids2014/PH1r/sample_TCGCCA.fq Second_Run/PH1/PBIRD13X108H_0070.fq\n",
      "cp ~/Desktop/foraker/RAD/PINK/00RawSequences/gzip/Haploids2014/PH1r/sample_TCGGAC.fq Second_Run/PH1/PBIRD13X108H_0030.fq\n",
      "cp ~/Desktop/foraker/RAD/PINK/00RawSequences/gzip/Haploids2014/PH1r/sample_TCTCGG.fq Second_Run/PH1/PBIRD13X108H_0033.fq\n",
      "cp ~/Desktop/foraker/RAD/PINK/00RawSequences/gzip/Haploids2014/PH1r/sample_TCTTCT.fq Second_Run/PH1/PBIRD13X102G_0018.fq\n",
      "cp ~/Desktop/foraker/RAD/PINK/00RawSequences/gzip/Haploids2014/PH1r/sample_TGAACC.fq Second_Run/PH1/PBIRD13X110H_0054.fq\n",
      "cp ~/Desktop/foraker/RAD/PINK/00RawSequences/gzip/Haploids2014/PH1r/sample_TGACAA.fq Second_Run/PH1/PBIRD13X110H_0028.fq\n",
      "cp ~/Desktop/foraker/RAD/PINK/00RawSequences/gzip/Haploids2014/PH1r/sample_TGCCCG.fq Second_Run/PH1/PBIRD13X110H_0067.fq\n",
      "cp ~/Desktop/foraker/RAD/PINK/00RawSequences/gzip/Haploids2014/PH1r/sample_TGCTTA.fq Second_Run/PH1/PBIRD13X110H_0006.fq\n",
      "cp ~/Desktop/foraker/RAD/PINK/00RawSequences/gzip/Haploids2014/PH1r/sample_TGGGGA.fq Second_Run/PH1/PBIRD13X108H_0094.fq\n",
      "cp ~/Desktop/foraker/RAD/PINK/00RawSequences/gzip/Haploids2014/PH1r/sample_TTATGA.fq Second_Run/PH1/PBIRD13X110H_0096.fq\n",
      "cp ~/Desktop/foraker/RAD/PINK/00RawSequences/gzip/Haploids2014/PH1r/sample_TTCCGT.fq Second_Run/PH1/PBIRD13X108H_0040.fq\n",
      "cp ~/Desktop/foraker/RAD/PINK/00RawSequences/gzip/Haploids2014/PH1r/sample_TTCTAG.fq Second_Run/PH1/PBIRD13X110H_0012.fq\n",
      "cp ~/Desktop/foraker/RAD/PINK/00RawSequences/gzip/Haploids2014/PH1r/sample_TTGAGC.fq Second_Run/PH1/PBIRD13X110H_0017.fq\n",
      "cp ~/Desktop/foraker/RAD/PINK/00RawSequences/gzip/Haploids2014/PH1r/sample_TTTAAT.fq Second_Run/PH1/PBIRD13X110H_0059.fq\n",
      "cp ~/Desktop/foraker/RAD/PINK/00RawSequences/gzip/Haploids2014/PH1r/sample_TTTGTC.fq Second_Run/PH1/PBIRD13X_0102.fq\n",
      "\n",
      "#PH2r\n",
      "\n",
      "cp ~/Desktop/foraker/RAD/PINK/00RawSequences/gzip/Haploids2014/PH2r/sample_AAACGG.fq Second_Run/PH2/PBIRD13X102G_0015.fq\n",
      "cp ~/Desktop/foraker/RAD/PINK/00RawSequences/gzip/Haploids2014/PH2r/sample_AACGTT.fq Second_Run/PH2/PBIRD13X102G_0003.fq\n",
      "cp ~/Desktop/foraker/RAD/PINK/00RawSequences/gzip/Haploids2014/PH2r/sample_AACTGA.fq Second_Run/PH2/PBIRD13X110H_0042.fq\n",
      "cp ~/Desktop/foraker/RAD/PINK/00RawSequences/gzip/Haploids2014/PH2r/sample_AAGACG.fq Second_Run/PH2/PBIRD13X108H_0069.fq\n",
      "cp ~/Desktop/foraker/RAD/PINK/00RawSequences/gzip/Haploids2014/PH2r/sample_AAGCTA.fq Second_Run/PH2/PBIRD13X108H_0051.fq\n",
      "cp ~/Desktop/foraker/RAD/PINK/00RawSequences/gzip/Haploids2014/PH2r/sample_AATATC.fq Second_Run/PH2/PBIRD13X108H_0012.fq\n",
      "cp ~/Desktop/foraker/RAD/PINK/00RawSequences/gzip/Haploids2014/PH2r/sample_AATGAG.fq Second_Run/PH2/PBIRD13X108H_0019.fq\n",
      "cp ~/Desktop/foraker/RAD/PINK/00RawSequences/gzip/Haploids2014/PH2r/sample_ACAAGA.fq Second_Run/PH2/PBIRD13X108H_0060.fq\n",
      "cp ~/Desktop/foraker/RAD/PINK/00RawSequences/gzip/Haploids2014/PH2r/sample_ACAGCG.fq Second_Run/PH2/PBIRD13X108H_0029.fq\n",
      "cp ~/Desktop/foraker/RAD/PINK/00RawSequences/gzip/Haploids2014/PH2r/sample_ACATAC.fq Second_Run/PH2/PBIRD13X108H_0035.fq\n",
      "cp ~/Desktop/foraker/RAD/PINK/00RawSequences/gzip/Haploids2014/PH2r/sample_ACCATG.fq Second_Run/PH2/PBIRD13X110H_0073.fq\n",
      "cp ~/Desktop/foraker/RAD/PINK/00RawSequences/gzip/Haploids2014/PH2r/sample_ACCCCC.fq Second_Run/PH2/PBIRD13X110H_0047.fq\n",
      "cp ~/Desktop/foraker/RAD/PINK/00RawSequences/gzip/Haploids2014/PH2r/sample_ACTCTT.fq Second_Run/PH2/PBIRD13X102G_0014.fq\n",
      "cp ~/Desktop/foraker/RAD/PINK/00RawSequences/gzip/Haploids2014/PH2r/sample_ACTGGC.fq Second_Run/PH2/PBIRD13X102G_0010.fq\n",
      "cp ~/Desktop/foraker/RAD/PINK/00RawSequences/gzip/Haploids2014/PH2r/sample_AGCCAT.fq Second_Run/PH2/PBIRD13X102G_0009.fq\n",
      "cp ~/Desktop/foraker/RAD/PINK/00RawSequences/gzip/Haploids2014/PH2r/sample_AGCGCA.fq Second_Run/PH2/PBIRD13X110H_0077.fq\n",
      "cp ~/Desktop/foraker/RAD/PINK/00RawSequences/gzip/Haploids2014/PH2r/sample_AGGGTC.fq Second_Run/PH2/PBIRD13X110H_0022.fq\n",
      "cp ~/Desktop/foraker/RAD/PINK/00RawSequences/gzip/Haploids2014/PH2r/sample_AGGTGT.fq Second_Run/PH2/PBIRD13X110H_0032.fq\n",
      "cp ~/Desktop/foraker/RAD/PINK/00RawSequences/gzip/Haploids2014/PH2r/sample_AGTAGG.fq Second_Run/PH2/PBIRD13X108H_0091.fq\n",
      "cp ~/Desktop/foraker/RAD/PINK/00RawSequences/gzip/Haploids2014/PH2r/sample_AGTTAA.fq Second_Run/PH2/PBIRD13X110H_0052.fq\n",
      "cp ~/Desktop/foraker/RAD/PINK/00RawSequences/gzip/Haploids2014/PH2r/sample_ATAGTA.fq Second_Run/PH2/PBIRD13X108H_0052.fq\n",
      "cp ~/Desktop/foraker/RAD/PINK/00RawSequences/gzip/Haploids2014/PH2r/sample_ATCAAA.fq Second_Run/PH2/PBIRD13X108H_0038.fq\n",
      "cp ~/Desktop/foraker/RAD/PINK/00RawSequences/gzip/Haploids2014/PH2r/sample_ATGCAC.fq Second_Run/PH2/PBIRD13X110H_0076.fq\n",
      "cp ~/Desktop/foraker/RAD/PINK/00RawSequences/gzip/Haploids2014/PH2r/sample_ATGTTG.fq Second_Run/PH2/PBIRD13X110H_0008.fq\n",
      "cp ~/Desktop/foraker/RAD/PINK/00RawSequences/gzip/Haploids2014/PH2r/sample_ATTCCG.fq Second_Run/PH2/PBIRD13X102G_0016.fq\n",
      "cp ~/Desktop/foraker/RAD/PINK/00RawSequences/gzip/Haploids2014/PH2r/sample_CAAAAA.fq Second_Run/PH2/PBIRD13X102G_0019.fq\n",
      "cp ~/Desktop/foraker/RAD/PINK/00RawSequences/gzip/Haploids2014/PH2r/sample_CAATCG.fq Second_Run/PH2/PBIRD13X110H_0050.fq\n",
      "cp ~/Desktop/foraker/RAD/PINK/00RawSequences/gzip/Haploids2014/PH2r/sample_CACCTC.fq Second_Run/PH2/PBIRD13X110H_0020.fq\n",
      "cp ~/Desktop/foraker/RAD/PINK/00RawSequences/gzip/Haploids2014/PH2r/sample_CAGGCA.fq Second_Run/PH2/PBIRD13X108H_0015.fq\n",
      "cp ~/Desktop/foraker/RAD/PINK/00RawSequences/gzip/Haploids2014/PH2r/sample_CATACT.fq Second_Run/PH2/PBIRD13X108H_0053.fq\n",
      "cp ~/Desktop/foraker/RAD/PINK/00RawSequences/gzip/Haploids2014/PH2r/sample_CCATTT.fq Second_Run/PH2/PBIRD13X108H_0023.fq\n",
      "cp ~/Desktop/foraker/RAD/PINK/00RawSequences/gzip/Haploids2014/PH2r/sample_CCCGGT.fq Second_Run/PH2/PBIRD13X108H_0011.fq\n",
      "cp ~/Desktop/foraker/RAD/PINK/00RawSequences/gzip/Haploids2014/PH2r/sample_CCCTAA.fq Second_Run/PH2/PBIRD13X108H_0045.fq\n",
      "cp ~/Desktop/foraker/RAD/PINK/00RawSequences/gzip/Haploids2014/PH2r/sample_CCGAGG.fq Second_Run/PH2/PBIRD13X108H_0090.fq\n",
      "cp ~/Desktop/foraker/RAD/PINK/00RawSequences/gzip/Haploids2014/PH2r/sample_CCGCAT.fq Second_Run/PH2/PBIRD13X108H_0032.fq\n",
      "cp ~/Desktop/foraker/RAD/PINK/00RawSequences/gzip/Haploids2014/PH2r/sample_CCTAAC.fq Second_Run/PH2/PBIRD13X108H_0071.fq\n",
      "cp ~/Desktop/foraker/RAD/PINK/00RawSequences/gzip/Haploids2014/PH2r/sample_CGAGGC.fq Second_Run/PH2/PBIRD13X102G_0011.fq\n",
      "cp ~/Desktop/foraker/RAD/PINK/00RawSequences/gzip/Haploids2014/PH2r/sample_CGCAGA.fq Second_Run/PH2/PBIRD13X102G_0023.fq\n",
      "cp ~/Desktop/foraker/RAD/PINK/00RawSequences/gzip/Haploids2014/PH2r/sample_CGCGTG.fq Second_Run/PH2/PBIRD13X110H_0044.fq\n",
      "cp ~/Desktop/foraker/RAD/PINK/00RawSequences/gzip/Haploids2014/PH2r/sample_CGGTCC.fq Second_Run/PH2/PBIRD13X108H_0054.fq\n",
      "cp ~/Desktop/foraker/RAD/PINK/00RawSequences/gzip/Haploids2014/PH2r/sample_CGTCTA.fq Second_Run/PH2/PBIRD13X108H_0041.fq\n",
      "cp ~/Desktop/foraker/RAD/PINK/00RawSequences/gzip/Haploids2014/PH2r/sample_CGTGAT.fq Second_Run/PH2/PBIRD13X108H_0017.fq\n",
      "cp ~/Desktop/foraker/RAD/PINK/00RawSequences/gzip/Haploids2014/PH2r/sample_CTACAG.fq Second_Run/PH2/PBIRD13X110H_0057.fq\n",
      "cp ~/Desktop/foraker/RAD/PINK/00RawSequences/gzip/Haploids2014/PH2r/sample_CTCGCC.fq Second_Run/PH2/PBIRD13X108H_0085.fq\n",
      "cp ~/Desktop/foraker/RAD/PINK/00RawSequences/gzip/Haploids2014/PH2r/sample_CTGCGA.fq Second_Run/PH2/PBIRD13X110H_0026.fq\n",
      "cp ~/Desktop/foraker/RAD/PINK/00RawSequences/gzip/Haploids2014/PH2r/sample_CTGGTT.fq Second_Run/PH2/PBIRD13X108H_0007.fq\n",
      "cp ~/Desktop/foraker/RAD/PINK/00RawSequences/gzip/Haploids2014/PH2r/sample_CTTATG.fq Second_Run/PH2/PBIRD13X110H_0043.fq\n",
      "cp ~/Desktop/foraker/RAD/PINK/00RawSequences/gzip/Haploids2014/PH2r/sample_CTTTGC.fq Second_Run/PH2/PBIRD13X108H_0081.fq\n",
      "cp ~/Desktop/foraker/RAD/PINK/00RawSequences/gzip/Haploids2014/PH2r/sample_GAAATG.fq Second_Run/PH2/PBIRD13X110H_0078.fq\n",
      "cp ~/Desktop/foraker/RAD/PINK/00RawSequences/gzip/Haploids2014/PH2r/sample_GAACCA.fq Second_Run/PH2/PBIRD13X102G_0006.fq\n",
      "cp ~/Desktop/foraker/RAD/PINK/00RawSequences/gzip/Haploids2014/PH2r/sample_GACGAC.fq Second_Run/PH2/PBIRD13X110H_0037.fq\n",
      "cp ~/Desktop/foraker/RAD/PINK/00RawSequences/gzip/Haploids2014/PH2r/sample_GACTCT.fq Second_Run/PH2/PBIRD13X110H_0031.fq\n",
      "cp ~/Desktop/foraker/RAD/PINK/00RawSequences/gzip/Haploids2014/PH2r/sample_GAGAGA.fq Second_Run/PH2/PBIRD13X110H_0011.fq\n",
      "cp ~/Desktop/foraker/RAD/PINK/00RawSequences/gzip/Haploids2014/PH2r/sample_GATCGT.fq Second_Run/PH2/PBIRD13X108H_0048.fq\n",
      "cp ~/Desktop/foraker/RAD/PINK/00RawSequences/gzip/Haploids2014/PH2r/sample_GCAGAT.fq Second_Run/PH2/PBIRD13X110H_0002.fq\n",
      "cp ~/Desktop/foraker/RAD/PINK/00RawSequences/gzip/Haploids2014/PH2r/sample_GCATGG.fq Second_Run/PH2/PBIRD13X108H_0095.fq\n",
      "cp ~/Desktop/foraker/RAD/PINK/00RawSequences/gzip/Haploids2014/PH2r/sample_GCCGTA.fq Second_Run/PH2/PBIRD13X108H_0047.fq\n",
      "cp ~/Desktop/foraker/RAD/PINK/00RawSequences/gzip/Haploids2014/PH2r/sample_GCGACC.fq Second_Run/PH2/PBIRD13X110H_0060.fq\n",
      "cp ~/Desktop/foraker/RAD/PINK/00RawSequences/gzip/Haploids2014/PH2r/sample_GCGCTG.fq Second_Run/PH2/PBIRD13X110H_0039.fq\n",
      "cp ~/Desktop/foraker/RAD/PINK/00RawSequences/gzip/Haploids2014/PH2r/sample_GCTCAA.fq Second_Run/PH2/PBIRD13X108H_0075.fq\n",
      "cp ~/Desktop/foraker/RAD/PINK/00RawSequences/gzip/Haploids2014/PH2r/sample_GGACTT.fq Second_Run/PH2/PBIRD13X110H_0045.fq\n",
      "cp ~/Desktop/foraker/RAD/PINK/00RawSequences/gzip/Haploids2014/PH2r/sample_GGCAAG.fq Second_Run/PH2/PBIRD13X102G_0012.fq\n",
      "cp ~/Desktop/foraker/RAD/PINK/00RawSequences/gzip/Haploids2014/PH2r/sample_GGGCGC.fq Second_Run/PH2/PBIRD13X110H_0041.fq\n",
      "cp ~/Desktop/foraker/RAD/PINK/00RawSequences/gzip/Haploids2014/PH2r/sample_GGGGCG.fq Second_Run/PH2/PBIRD13X110H_0009.fq\n",
      "cp ~/Desktop/foraker/RAD/PINK/00RawSequences/gzip/Haploids2014/PH2r/sample_GGTACA.fq Second_Run/PH2/PBIRD13X108H_0027.fq\n",
      "cp ~/Desktop/foraker/RAD/PINK/00RawSequences/gzip/Haploids2014/PH2r/sample_GGTTTG.fq Second_Run/PH2/PBIRD13X108H_0021.fq\n",
      "cp ~/Desktop/foraker/RAD/PINK/00RawSequences/gzip/Haploids2014/PH2r/sample_GTAAGT.fq Second_Run/PH2/PBIRD13X110H_0092.fq\n",
      "cp ~/Desktop/foraker/RAD/PINK/00RawSequences/gzip/Haploids2014/PH2r/sample_GTATCC.fq Second_Run/PH2/PBIRD13X110H_0027.fq\n",
      "cp ~/Desktop/foraker/RAD/PINK/00RawSequences/gzip/Haploids2014/PH2r/sample_GTCATC.fq Second_Run/PH2/PBIRD13X108H_0008.fq\n",
      "cp ~/Desktop/foraker/RAD/PINK/00RawSequences/gzip/Haploids2014/PH2r/sample_GTGCCT.fq Second_Run/PH2/PBIRD13X110H_0036.fq\n",
      "cp ~/Desktop/foraker/RAD/PINK/00RawSequences/gzip/Haploids2014/PH2r/sample_GTGTAA.fq Second_Run/PH2/PBIRD13X110H_0040.fq\n",
      "cp ~/Desktop/foraker/RAD/PINK/00RawSequences/gzip/Haploids2014/PH2r/sample_GTTGGA.fq Second_Run/PH2/PBIRD13X108H_0063.fq\n",
      "cp ~/Desktop/foraker/RAD/PINK/00RawSequences/gzip/Haploids2014/PH2r/sample_TAAGCT.fq Second_Run/PH2/PBIRD13X110H_0093.fq\n",
      "cp ~/Desktop/foraker/RAD/PINK/00RawSequences/gzip/Haploids2014/PH2r/sample_TAATTC.fq Second_Run/PH2/PBIRD13X102G_0021.fq\n",
      "cp ~/Desktop/foraker/RAD/PINK/00RawSequences/gzip/Haploids2014/PH2r/sample_TACACA.fq Second_Run/PH2/PBIRD13X102G_0026.fq\n",
      "cp ~/Desktop/foraker/RAD/PINK/00RawSequences/gzip/Haploids2014/PH2r/sample_TACGGG.fq Second_Run/PH2/PBIRD13X108H_0093.fq\n",
      "cp ~/Desktop/foraker/RAD/PINK/00RawSequences/gzip/Haploids2014/PH2r/sample_TAGTAT.fq Second_Run/PH2/PBIRD13X108H_0055.fq\n",
      "cp ~/Desktop/foraker/RAD/PINK/00RawSequences/gzip/Haploids2014/PH2r/sample_TATCAC.fq Second_Run/PH2/PBIRD13X110H_0072.fq\n",
      "cp ~/Desktop/foraker/RAD/PINK/00RawSequences/gzip/Haploids2014/PH2r/sample_TCAAAG.fq Second_Run/PH2/PBIRD13X108H_0072.fq\n",
      "cp ~/Desktop/foraker/RAD/PINK/00RawSequences/gzip/Haploids2014/PH2r/sample_TCCTGC.fq Second_Run/PH2/PBIRD13X110H_0007.fq\n",
      "cp ~/Desktop/foraker/RAD/PINK/00RawSequences/gzip/Haploids2014/PH2r/sample_TCGATT.fq Second_Run/PH2/PBIRD13X108H_0089.fq\n",
      "cp ~/Desktop/foraker/RAD/PINK/00RawSequences/gzip/Haploids2014/PH2r/sample_TCGCCA.fq Second_Run/PH2/PBIRD13X108H_0022.fq\n",
      "cp ~/Desktop/foraker/RAD/PINK/00RawSequences/gzip/Haploids2014/PH2r/sample_TCGGAC.fq Second_Run/PH2/PBIRD13X110H_0061.fq\n",
      "cp ~/Desktop/foraker/RAD/PINK/00RawSequences/gzip/Haploids2014/PH2r/sample_TCTCGG.fq Second_Run/PH2/PBIRD13X_0108.fq\n",
      "cp ~/Desktop/foraker/RAD/PINK/00RawSequences/gzip/Haploids2014/PH2r/sample_TCTTCT.fq Second_Run/PH2/PBIRD13X102G_0001.fq\n",
      "cp ~/Desktop/foraker/RAD/PINK/00RawSequences/gzip/Haploids2014/PH2r/sample_TGAACC.fq Second_Run/PH2/PBIRD13X102G_0022.fq\n",
      "cp ~/Desktop/foraker/RAD/PINK/00RawSequences/gzip/Haploids2014/PH2r/sample_TGACAA.fq Second_Run/PH2/PBIRD13X110H_0087.fq\n",
      "cp ~/Desktop/foraker/RAD/PINK/00RawSequences/gzip/Haploids2014/PH2r/sample_TGCCCG.fq Second_Run/PH2/PBIRD13X110H_0064.fq\n",
      "cp ~/Desktop/foraker/RAD/PINK/00RawSequences/gzip/Haploids2014/PH2r/sample_TGCTTA.fq Second_Run/PH2/PBIRD13X108H_0020.fq\n",
      "cp ~/Desktop/foraker/RAD/PINK/00RawSequences/gzip/Haploids2014/PH2r/sample_TGGGGA.fq Second_Run/PH2/PBIRD13X110H_0080.fq\n",
      "cp ~/Desktop/foraker/RAD/PINK/00RawSequences/gzip/Haploids2014/PH2r/sample_TTATGA.fq Second_Run/PH2/PBIRD13X110H_0038.fq\n",
      "cp ~/Desktop/foraker/RAD/PINK/00RawSequences/gzip/Haploids2014/PH2r/sample_TTCCGT.fq Second_Run/PH2/PBIRD13X108H_0082.fq\n",
      "cp ~/Desktop/foraker/RAD/PINK/00RawSequences/gzip/Haploids2014/PH2r/sample_TTCTAG.fq Second_Run/PH2/PBIRD13X110H_0088.fq\n",
      "cp ~/Desktop/foraker/RAD/PINK/00RawSequences/gzip/Haploids2014/PH2r/sample_TTGAGC.fq Second_Run/PH2/PBIRD13X110H_0025.fq\n",
      "cp ~/Desktop/foraker/RAD/PINK/00RawSequences/gzip/Haploids2014/PH2r/sample_TTTAAT.fq Second_Run/PH2/PBIRD13X108H_0083.fq\n",
      "cp ~/Desktop/foraker/RAD/PINK/00RawSequences/gzip/Haploids2014/PH2r/sample_TTTGTC.fq Second_Run/PH2/PBIRD13X_0110.fq\n",
      "\n"
     ],
     "language": "python",
     "metadata": {},
     "outputs": []
    },
    {
     "cell_type": "code",
     "collapsed": false,
     "input": [
      "#rename_combine.sh\n",
      "\n",
      "#renaming the second run of haploids with the sample names and barcodes remade from sbfI sheet\n",
      "#copying them to the seagate drive\n",
      "#december 1 2014\n",
      "\n",
      "#combine the first and second runs of the haploids \n",
      "\n",
      "cat First_Runs/PH1/PBIRD13X102G_0025.fq Second_Run/PH1/PBIRD13X102G_0025.fq >Combined/PBIRD13X102G_0025_comb.fq\n",
      "cat First_Runs/PH1/PBIRD13X102G_0017.fq Second_Run/PH1/PBIRD13X102G_0017.fq >Combined/PBIRD13X102G_0017_comb.fq\n",
      "cat First_Runs/PH1/PBIRD13X102G_0020.fq Second_Run/PH1/PBIRD13X102G_0020.fq >Combined/PBIRD13X102G_0020_comb.fq\n",
      "cat First_Runs/PH1/PBIRD13X110H_0056.fq Second_Run/PH1/PBIRD13X110H_0056.fq >Combined/PBIRD13X110H_0056_comb.fq\n",
      "cat First_Runs/PH1/PBIRD13X108H_0026.fq Second_Run/PH1/PBIRD13X108H_0026.fq >Combined/PBIRD13X108H_0026_comb.fq\n",
      "cat First_Runs/PH1/PBIRD13X110H_0033.fq Second_Run/PH1/PBIRD13X110H_0033.fq >Combined/PBIRD13X110H_0033_comb.fq\n",
      "cat First_Runs/PH1/PBIRD13X108H_0005.fq Second_Run/PH1/PBIRD13X108H_0005.fq >Combined/PBIRD13X108H_0005_comb.fq\n",
      "cat First_Runs/PH1/PBIRD13X110H_0083.fq Second_Run/PH1/PBIRD13X110H_0083.fq >Combined/PBIRD13X110H_0083_comb.fq\n",
      "cat First_Runs/PH1/PBIRD13X108H_0010.fq Second_Run/PH1/PBIRD13X108H_0010.fq >Combined/PBIRD13X108H_0010_comb.fq\n",
      "cat First_Runs/PH1/PBIRD13X108H_0016.fq Second_Run/PH1/PBIRD13X108H_0016.fq >Combined/PBIRD13X108H_0016_comb.fq\n",
      "cat First_Runs/PH1/PBIRD13X110H_0010.fq Second_Run/PH1/PBIRD13X110H_0010.fq >Combined/PBIRD13X110H_0010_comb.fq\n",
      "cat First_Runs/PH1/PBIRD13X102G_0013.fq Second_Run/PH1/PBIRD13X102G_0013.fq >Combined/PBIRD13X102G_0013_comb.fq\n",
      "cat First_Runs/PH1/PBIRD13X110H_0062.fq Second_Run/PH1/PBIRD13X110H_0062.fq >Combined/PBIRD13X110H_0062_comb.fq\n",
      "cat First_Runs/PH1/PBIRD13X110H_0069.fq Second_Run/PH1/PBIRD13X110H_0069.fq >Combined/PBIRD13X110H_0069_comb.fq\n",
      "cat First_Runs/PH1/PBIRD13X110H_0029.fq Second_Run/PH1/PBIRD13X110H_0029.fq >Combined/PBIRD13X110H_0029_comb.fq\n",
      "cat First_Runs/PH1/PBIRD13X110H_0018.fq Second_Run/PH1/PBIRD13X110H_0018.fq >Combined/PBIRD13X110H_0018_comb.fq\n",
      "cat First_Runs/PH1/PBIRD13X108H_0059.fq Second_Run/PH1/PBIRD13X108H_0059.fq >Combined/PBIRD13X108H_0059_comb.fq\n",
      "cat First_Runs/PH1/PBIRD13X108H_0044.fq Second_Run/PH1/PBIRD13X108H_0044.fq >Combined/PBIRD13X108H_0044_comb.fq\n",
      "cat First_Runs/PH1/PBIRD13X110H_0094.fq Second_Run/PH1/PBIRD13X110H_0094.fq >Combined/PBIRD13X110H_0094_comb.fq\n",
      "cat First_Runs/PH1/PBIRD13X110H_0084.fq Second_Run/PH1/PBIRD13X110H_0084.fq >Combined/PBIRD13X110H_0084_comb.fq\n",
      "cat First_Runs/PH1/PBIRD13X108H_0037.fq Second_Run/PH1/PBIRD13X108H_0037.fq >Combined/PBIRD13X108H_0037_comb.fq\n",
      "cat First_Runs/PH1/PBIRD13X108H_0049.fq Second_Run/PH1/PBIRD13X108H_0049.fq >Combined/PBIRD13X108H_0049_comb.fq\n",
      "cat First_Runs/PH1/PBIRD13X102G_0002.fq Second_Run/PH1/PBIRD13X102G_0002.fq >Combined/PBIRD13X102G_0002_comb.fq\n",
      "cat First_Runs/PH1/PBIRD13X102G_0007.fq Second_Run/PH1/PBIRD13X102G_0007.fq >Combined/PBIRD13X102G_0007_comb.fq\n",
      "cat First_Runs/PH1/PBIRD13X110H_0091.fq Second_Run/PH1/PBIRD13X110H_0091.fq >Combined/PBIRD13X110H_0091_comb.fq\n",
      "cat First_Runs/PH1/PBIRD13X110H_0046.fq Second_Run/PH1/PBIRD13X110H_0046.fq >Combined/PBIRD13X110H_0046_comb.fq\n",
      "cat First_Runs/PH1/PBIRD13X108H_0087.fq Second_Run/PH1/PBIRD13X108H_0087.fq >Combined/PBIRD13X108H_0087_comb.fq\n",
      "cat First_Runs/PH1/PBIRD13X108H_0002.fq Second_Run/PH1/PBIRD13X108H_0002.fq >Combined/PBIRD13X108H_0002_comb.fq\n",
      "cat First_Runs/PH1/PBIRD13X108H_0092.fq Second_Run/PH1/PBIRD13X108H_0092.fq >Combined/PBIRD13X108H_0092_comb.fq\n",
      "cat First_Runs/PH1/PBIRD13X108H_0046.fq Second_Run/PH1/PBIRD13X108H_0046.fq >Combined/PBIRD13X108H_0046_comb.fq\n",
      "cat First_Runs/PH1/PBIRD13X102G_0004.fq Second_Run/PH1/PBIRD13X102G_0004.fq >Combined/PBIRD13X102G_0004_comb.fq\n",
      "cat First_Runs/PH1/PBIRD13X110H_0066.fq Second_Run/PH1/PBIRD13X110H_0066.fq >Combined/PBIRD13X110H_0066_comb.fq\n",
      "cat First_Runs/PH1/PBIRD13X110H_0016.fq Second_Run/PH1/PBIRD13X110H_0016.fq >Combined/PBIRD13X110H_0016_comb.fq\n",
      "cat First_Runs/PH1/PBIRD13X108H_0039.fq Second_Run/PH1/PBIRD13X108H_0039.fq >Combined/PBIRD13X108H_0039_comb.fq\n",
      "cat First_Runs/PH1/PBIRD13X108H_0009.fq Second_Run/PH1/PBIRD13X108H_0009.fq >Combined/PBIRD13X108H_0009_comb.fq\n",
      "cat First_Runs/PH1/PBIRD13X108H_0086.fq Second_Run/PH1/PBIRD13X108H_0086.fq >Combined/PBIRD13X108H_0086_comb.fq\n",
      "cat First_Runs/PH1/PBIRD13X110H_0049.fq Second_Run/PH1/PBIRD13X110H_0049.fq >Combined/PBIRD13X110H_0049_comb.fq\n",
      "cat First_Runs/PH1/PBIRD13X108H_0034.fq Second_Run/PH1/PBIRD13X108H_0034.fq >Combined/PBIRD13X108H_0034_comb.fq\n",
      "cat First_Runs/PH1/PBIRD13X110H_0063.fq Second_Run/PH1/PBIRD13X110H_0063.fq >Combined/PBIRD13X110H_0063_comb.fq\n",
      "cat First_Runs/PH1/PBIRD13X108H_0031.fq Second_Run/PH1/PBIRD13X108H_0031.fq >Combined/PBIRD13X108H_0031_comb.fq\n",
      "cat First_Runs/PH1/PBIRD13X108H_0042.fq Second_Run/PH1/PBIRD13X108H_0042.fq >Combined/PBIRD13X108H_0042_comb.fq\n",
      "cat First_Runs/PH1/PBIRD13X110H_0013.fq Second_Run/PH1/PBIRD13X110H_0013.fq >Combined/PBIRD13X110H_0013_comb.fq\n",
      "cat First_Runs/PH1/PBIRD13X110H_0065.fq Second_Run/PH1/PBIRD13X110H_0065.fq >Combined/PBIRD13X110H_0065_comb.fq\n",
      "cat First_Runs/PH1/PBIRD13X108H_0056.fq Second_Run/PH1/PBIRD13X108H_0056.fq >Combined/PBIRD13X108H_0056_comb.fq\n",
      "cat First_Runs/PH1/PBIRD13X110H_0082.fq Second_Run/PH1/PBIRD13X110H_0082.fq >Combined/PBIRD13X110H_0082_comb.fq\n",
      "cat First_Runs/PH1/PBIRD13X110H_0051.fq Second_Run/PH1/PBIRD13X110H_0051.fq >Combined/PBIRD13X110H_0051_comb.fq\n",
      "cat First_Runs/PH1/PBIRD13X110H_0048.fq Second_Run/PH1/PBIRD13X110H_0048.fq >Combined/PBIRD13X110H_0048_comb.fq\n",
      "cat First_Runs/PH1/PBIRD13X102G_0005.fq Second_Run/PH1/PBIRD13X102G_0005.fq >Combined/PBIRD13X102G_0005_comb.fq\n",
      "cat First_Runs/PH1/PBIRD13X110H_0053.fq Second_Run/PH1/PBIRD13X110H_0053.fq >Combined/PBIRD13X110H_0053_comb.fq\n",
      "cat First_Runs/PH1/PBIRD13X110H_0021.fq Second_Run/PH1/PBIRD13X110H_0021.fq >Combined/PBIRD13X110H_0021_comb.fq\n",
      "cat First_Runs/PH1/PBIRD13X108H_0001.fq Second_Run/PH1/PBIRD13X108H_0001.fq >Combined/PBIRD13X108H_0001_comb.fq\n",
      "cat First_Runs/PH1/PBIRD13X108H_0036.fq Second_Run/PH1/PBIRD13X108H_0036.fq >Combined/PBIRD13X108H_0036_comb.fq\n",
      "cat First_Runs/PH1/PBIRD13X108H_0004.fq Second_Run/PH1/PBIRD13X108H_0004.fq >Combined/PBIRD13X108H_0004_comb.fq\n",
      "cat First_Runs/PH1/PBIRD13X110H_0079.fq Second_Run/PH1/PBIRD13X110H_0079.fq >Combined/PBIRD13X110H_0079_comb.fq\n",
      "cat First_Runs/PH1/PBIRD13X108H_0050.fq Second_Run/PH1/PBIRD13X108H_0050.fq >Combined/PBIRD13X108H_0050_comb.fq\n",
      "cat First_Runs/PH1/PBIRD13X108H_0077.fq Second_Run/PH1/PBIRD13X108H_0077.fq >Combined/PBIRD13X108H_0077_comb.fq\n",
      "cat First_Runs/PH1/PBIRD13X102G_0024.fq Second_Run/PH1/PBIRD13X102G_0024.fq >Combined/PBIRD13X102G_0024_comb.fq\n",
      "cat First_Runs/PH1/PBIRD13X110H_0070.fq Second_Run/PH1/PBIRD13X110H_0070.fq >Combined/PBIRD13X110H_0070_comb.fq\n",
      "cat First_Runs/PH1/PBIRD13X110H_0055.fq Second_Run/PH1/PBIRD13X110H_0055.fq >Combined/PBIRD13X110H_0055_comb.fq\n",
      "cat First_Runs/PH1/PBIRD13X110H_0085.fq Second_Run/PH1/PBIRD13X110H_0085.fq >Combined/PBIRD13X110H_0085_comb.fq\n",
      "cat First_Runs/PH1/PBIRD13X110H_0086.fq Second_Run/PH1/PBIRD13X110H_0086.fq >Combined/PBIRD13X110H_0086_comb.fq\n",
      "cat First_Runs/PH1/PBIRD13X108H_0088.fq Second_Run/PH1/PBIRD13X108H_0088.fq >Combined/PBIRD13X108H_0088_comb.fq\n",
      "cat First_Runs/PH1/PBIRD13X110H_0071.fq Second_Run/PH1/PBIRD13X110H_0071.fq >Combined/PBIRD13X110H_0071_comb.fq\n",
      "cat First_Runs/PH1/PBIRD13X108H_0070.fq Second_Run/PH1/PBIRD13X108H_0070.fq >Combined/PBIRD13X108H_0070_comb.fq\n",
      "cat First_Runs/PH1/PBIRD13X108H_0030.fq Second_Run/PH1/PBIRD13X108H_0030.fq >Combined/PBIRD13X108H_0030_comb.fq\n",
      "cat First_Runs/PH1/PBIRD13X102G_0018.fq Second_Run/PH1/PBIRD13X102G_0018.fq >Combined/PBIRD13X102G_0018_comb.fq\n",
      "cat First_Runs/PH1/PBIRD13X110H_0054.fq Second_Run/PH1/PBIRD13X110H_0054.fq >Combined/PBIRD13X110H_0054_comb.fq\n",
      "cat First_Runs/PH1/PBIRD13X110H_0067.fq Second_Run/PH1/PBIRD13X110H_0067.fq >Combined/PBIRD13X110H_0067_comb.fq\n",
      "cat First_Runs/PH1/PBIRD13X110H_0006.fq Second_Run/PH1/PBIRD13X110H_0006.fq >Combined/PBIRD13X110H_0006_comb.fq\n",
      "cat First_Runs/PH1/PBIRD13X108H_0094.fq Second_Run/PH1/PBIRD13X108H_0094.fq >Combined/PBIRD13X108H_0094_comb.fq\n",
      "cat First_Runs/PH1/PBIRD13X108H_0040.fq Second_Run/PH1/PBIRD13X108H_0040.fq >Combined/PBIRD13X108H_0040_comb.fq\n",
      "cat First_Runs/PH1/PBIRD13X110H_0012.fq Second_Run/PH1/PBIRD13X110H_0012.fq >Combined/PBIRD13X110H_0012_comb.fq\n",
      "cat First_Runs/PH1/PBIRD13X110H_0017.fq Second_Run/PH1/PBIRD13X110H_0017.fq >Combined/PBIRD13X110H_0017_comb.fq\n",
      "cat First_Runs/PH1/PBIRD13X110H_0059.fq Second_Run/PH1/PBIRD13X110H_0059.fq >Combined/PBIRD13X110H_0059_comb.fq\n",
      "cat First_Runs/PH1/PBIRD13X_0102.fq Second_Run/PH1/PBIRD13X_0102.fq >Combined/PBIRD13X_0102_comb.fq\n",
      "\n",
      "#concatenating the PH2 haploids that were rerun\n",
      "#december 1 2014\n",
      "\n",
      "cat Data_Inventory/Haploids/First_Runs/PH2/PBIRD13X102G_0015.fq  Data_Inventory/Haploids/Second_Run/PH2/PBIRD13X102G_0015.fq  >Data_Inventory/Haploids/Combined/PBIRD13X102G_0015_comb.fq\n",
      "cat Data_Inventory/Haploids/First_Runs/PH2/PBIRD13X102G_0003.fq  Data_Inventory/Haploids/Second_Run/PH2/PBIRD13X102G_0003.fq  >Data_Inventory/Haploids/Combined/PBIRD13X102G_0003_comb.fq\n",
      "cat Data_Inventory/Haploids/First_Runs/PH2/PBIRD13X110H_0042.fq  Data_Inventory/Haploids/Second_Run/PH2/PBIRD13X110H_0042.fq  >Data_Inventory/Haploids/Combined/PBIRD13X110H_0042_comb.fq\n",
      "cat Data_Inventory/Haploids/First_Runs/PH2/PBIRD13X108H_0069.fq  Data_Inventory/Haploids/Second_Run/PH2/PBIRD13X108H_0069.fq  >Data_Inventory/Haploids/Combined/PBIRD13X108H_0069_comb.fq\n",
      "cat Data_Inventory/Haploids/First_Runs/PH2/PBIRD13X108H_0051.fq  Data_Inventory/Haploids/Second_Run/PH2/PBIRD13X108H_0051.fq  >Data_Inventory/Haploids/Combined/PBIRD13X108H_0051_comb.fq\n",
      "cat Data_Inventory/Haploids/First_Runs/PH2/PBIRD13X108H_0012.fq  Data_Inventory/Haploids/Second_Run/PH2/PBIRD13X108H_0012.fq  >Data_Inventory/Haploids/Combined/PBIRD13X108H_0012_comb.fq\n",
      "cat Data_Inventory/Haploids/First_Runs/PH2/PBIRD13X108H_0019.fq  Data_Inventory/Haploids/Second_Run/PH2/PBIRD13X108H_0019.fq  >Data_Inventory/Haploids/Combined/PBIRD13X108H_0019_comb.fq\n",
      "cat Data_Inventory/Haploids/First_Runs/PH2/PBIRD13X108H_0060.fq  Data_Inventory/Haploids/Second_Run/PH2/PBIRD13X108H_0060.fq  >Data_Inventory/Haploids/Combined/PBIRD13X108H_0060_comb.fq\n",
      "cat Data_Inventory/Haploids/First_Runs/PH2/PBIRD13X108H_0029.fq  Data_Inventory/Haploids/Second_Run/PH2/PBIRD13X108H_0029.fq  >Data_Inventory/Haploids/Combined/PBIRD13X108H_0029_comb.fq\n",
      "cat Data_Inventory/Haploids/First_Runs/PH2/PBIRD13X102G_0014.fq  Data_Inventory/Haploids/Second_Run/PH2/PBIRD13X102G_0014.fq  >Data_Inventory/Haploids/Combined/PBIRD13X102G_0014_comb.fq\n",
      "cat Data_Inventory/Haploids/First_Runs/PH2/PBIRD13X102G_0010.fq  Data_Inventory/Haploids/Second_Run/PH2/PBIRD13X102G_0010.fq  >Data_Inventory/Haploids/Combined/PBIRD13X102G_0010_comb.fq\n",
      "cat Data_Inventory/Haploids/First_Runs/PH2/PBIRD13X102G_0009.fq  Data_Inventory/Haploids/Second_Run/PH2/PBIRD13X102G_0009.fq  >Data_Inventory/Haploids/Combined/PBIRD13X102G_0009_comb.fq\n",
      "cat Data_Inventory/Haploids/First_Runs/PH2/PBIRD13X110H_0077.fq  Data_Inventory/Haploids/Second_Run/PH2/PBIRD13X110H_0077.fq  >Data_Inventory/Haploids/Combined/PBIRD13X110H_0077_comb.fq\n",
      "cat Data_Inventory/Haploids/First_Runs/PH2/PBIRD13X110H_0022.fq  Data_Inventory/Haploids/Second_Run/PH2/PBIRD13X110H_0022.fq  >Data_Inventory/Haploids/Combined/PBIRD13X110H_0022_comb.fq\n",
      "cat Data_Inventory/Haploids/First_Runs/PH2/PBIRD13X110H_0032.fq  Data_Inventory/Haploids/Second_Run/PH2/PBIRD13X110H_0032.fq  >Data_Inventory/Haploids/Combined/PBIRD13X110H_0032_comb.fq\n",
      "cat Data_Inventory/Haploids/First_Runs/PH2/PBIRD13X108H_0091.fq  Data_Inventory/Haploids/Second_Run/PH2/PBIRD13X108H_0091.fq  >Data_Inventory/Haploids/Combined/PBIRD13X108H_0091_comb.fq\n",
      "cat Data_Inventory/Haploids/First_Runs/PH2/PBIRD13X110H_0052.fq  Data_Inventory/Haploids/Second_Run/PH2/PBIRD13X110H_0052.fq  >Data_Inventory/Haploids/Combined/PBIRD13X110H_0052_comb.fq\n",
      "cat Data_Inventory/Haploids/First_Runs/PH2/PBIRD13X108H_0052.fq  Data_Inventory/Haploids/Second_Run/PH2/PBIRD13X108H_0052.fq  >Data_Inventory/Haploids/Combined/PBIRD13X108H_0052_comb.fq\n",
      "cat Data_Inventory/Haploids/First_Runs/PH2/PBIRD13X108H_0038.fq  Data_Inventory/Haploids/Second_Run/PH2/PBIRD13X108H_0038.fq  >Data_Inventory/Haploids/Combined/PBIRD13X108H_0038_comb.fq\n",
      "cat Data_Inventory/Haploids/First_Runs/PH2/PBIRD13X110H_0076.fq  Data_Inventory/Haploids/Second_Run/PH2/PBIRD13X110H_0076.fq  >Data_Inventory/Haploids/Combined/PBIRD13X110H_0076_comb.fq\n",
      "cat Data_Inventory/Haploids/First_Runs/PH2/PBIRD13X110H_0008.fq  Data_Inventory/Haploids/Second_Run/PH2/PBIRD13X110H_0008.fq  >Data_Inventory/Haploids/Combined/PBIRD13X110H_0008_comb.fq\n",
      "cat Data_Inventory/Haploids/First_Runs/PH2/PBIRD13X102G_0016.fq  Data_Inventory/Haploids/Second_Run/PH2/PBIRD13X102G_0016.fq  >Data_Inventory/Haploids/Combined/PBIRD13X102G_0016_comb.fq\n",
      "cat Data_Inventory/Haploids/First_Runs/PH2/PBIRD13X102G_0019.fq  Data_Inventory/Haploids/Second_Run/PH2/PBIRD13X102G_0019.fq  >Data_Inventory/Haploids/Combined/PBIRD13X102G_0019_comb.fq\n",
      "cat Data_Inventory/Haploids/First_Runs/PH2/PBIRD13X110H_0050.fq  Data_Inventory/Haploids/Second_Run/PH2/PBIRD13X110H_0050.fq  >Data_Inventory/Haploids/Combined/PBIRD13X110H_0050_comb.fq\n",
      "cat Data_Inventory/Haploids/First_Runs/PH2/PBIRD13X108H_0015.fq  Data_Inventory/Haploids/Second_Run/PH2/PBIRD13X108H_0015.fq  >Data_Inventory/Haploids/Combined/PBIRD13X108H_0015_comb.fq\n",
      "cat Data_Inventory/Haploids/First_Runs/PH2/PBIRD13X108H_0053.fq  Data_Inventory/Haploids/Second_Run/PH2/PBIRD13X108H_0053.fq  >Data_Inventory/Haploids/Combined/PBIRD13X108H_0053_comb.fq\n",
      "cat Data_Inventory/Haploids/First_Runs/PH2/PBIRD13X108H_0023.fq  Data_Inventory/Haploids/Second_Run/PH2/PBIRD13X108H_0023.fq  >Data_Inventory/Haploids/Combined/PBIRD13X108H_0023_comb.fq\n",
      "cat Data_Inventory/Haploids/First_Runs/PH2/PBIRD13X108H_0011.fq  Data_Inventory/Haploids/Second_Run/PH2/PBIRD13X108H_0011.fq  >Data_Inventory/Haploids/Combined/PBIRD13X108H_0011_comb.fq\n",
      "cat Data_Inventory/Haploids/First_Runs/PH2/PBIRD13X108H_0045.fq  Data_Inventory/Haploids/Second_Run/PH2/PBIRD13X108H_0045.fq  >Data_Inventory/Haploids/Combined/PBIRD13X108H_0045_comb.fq\n",
      "cat Data_Inventory/Haploids/First_Runs/PH2/PBIRD13X108H_0090.fq  Data_Inventory/Haploids/Second_Run/PH2/PBIRD13X108H_0090.fq  >Data_Inventory/Haploids/Combined/PBIRD13X108H_0090_comb.fq\n",
      "cat Data_Inventory/Haploids/First_Runs/PH2/PBIRD13X108H_0032.fq  Data_Inventory/Haploids/Second_Run/PH2/PBIRD13X108H_0032.fq  >Data_Inventory/Haploids/Combined/PBIRD13X108H_0032_comb.fq\n",
      "cat Data_Inventory/Haploids/First_Runs/PH2/PBIRD13X108H_0071.fq  Data_Inventory/Haploids/Second_Run/PH2/PBIRD13X108H_0071.fq  >Data_Inventory/Haploids/Combined/PBIRD13X108H_0071_comb.fq\n",
      "cat Data_Inventory/Haploids/First_Runs/PH2/PBIRD13X102G_0011.fq  Data_Inventory/Haploids/Second_Run/PH2/PBIRD13X102G_0011.fq  >Data_Inventory/Haploids/Combined/PBIRD13X102G_0011_comb.fq\n",
      "cat Data_Inventory/Haploids/First_Runs/PH2/PBIRD13X102G_0023.fq  Data_Inventory/Haploids/Second_Run/PH2/PBIRD13X102G_0023.fq  >Data_Inventory/Haploids/Combined/PBIRD13X102G_0023_comb.fq\n",
      "cat Data_Inventory/Haploids/First_Runs/PH2/PBIRD13X110H_0044.fq  Data_Inventory/Haploids/Second_Run/PH2/PBIRD13X110H_0044.fq  >Data_Inventory/Haploids/Combined/PBIRD13X110H_0044_comb.fq\n",
      "cat Data_Inventory/Haploids/First_Runs/PH2/PBIRD13X108H_0054.fq  Data_Inventory/Haploids/Second_Run/PH2/PBIRD13X108H_0054.fq  >Data_Inventory/Haploids/Combined/PBIRD13X108H_0054_comb.fq\n",
      "cat Data_Inventory/Haploids/First_Runs/PH2/PBIRD13X108H_0041.fq  Data_Inventory/Haploids/Second_Run/PH2/PBIRD13X108H_0041.fq  >Data_Inventory/Haploids/Combined/PBIRD13X108H_0041_comb.fq\n",
      "cat Data_Inventory/Haploids/First_Runs/PH2/PBIRD13X108H_0017.fq  Data_Inventory/Haploids/Second_Run/PH2/PBIRD13X108H_0017.fq  >Data_Inventory/Haploids/Combined/PBIRD13X108H_0017_comb.fq\n",
      "cat Data_Inventory/Haploids/First_Runs/PH2/PBIRD13X110H_0057.fq  Data_Inventory/Haploids/Second_Run/PH2/PBIRD13X110H_0057.fq  >Data_Inventory/Haploids/Combined/PBIRD13X110H_0057_comb.fq\n",
      "cat Data_Inventory/Haploids/First_Runs/PH2/PBIRD13X108H_0085.fq  Data_Inventory/Haploids/Second_Run/PH2/PBIRD13X108H_0085.fq  >Data_Inventory/Haploids/Combined/PBIRD13X108H_0085_comb.fq\n",
      "cat Data_Inventory/Haploids/First_Runs/PH2/PBIRD13X108H_0007.fq  Data_Inventory/Haploids/Second_Run/PH2/PBIRD13X108H_0007.fq  >Data_Inventory/Haploids/Combined/PBIRD13X108H_0007_comb.fq\n",
      "cat Data_Inventory/Haploids/First_Runs/PH2/PBIRD13X108H_0081.fq  Data_Inventory/Haploids/Second_Run/PH2/PBIRD13X108H_0081.fq  >Data_Inventory/Haploids/Combined/PBIRD13X108H_0081_comb.fq\n",
      "cat Data_Inventory/Haploids/First_Runs/PH2/PBIRD13X102G_0006.fq  Data_Inventory/Haploids/Second_Run/PH2/PBIRD13X102G_0006.fq  >Data_Inventory/Haploids/Combined/PBIRD13X102G_0006_comb.fq\n",
      "cat Data_Inventory/Haploids/First_Runs/PH2/PBIRD13X110H_0037.fq  Data_Inventory/Haploids/Second_Run/PH2/PBIRD13X110H_0037.fq  >Data_Inventory/Haploids/Combined/PBIRD13X110H_0037_comb.fq\n",
      "cat Data_Inventory/Haploids/First_Runs/PH2/PBIRD13X110H_0031.fq  Data_Inventory/Haploids/Second_Run/PH2/PBIRD13X110H_0031.fq  >Data_Inventory/Haploids/Combined/PBIRD13X110H_0031_comb.fq\n",
      "cat Data_Inventory/Haploids/First_Runs/PH2/PBIRD13X110H_0011.fq  Data_Inventory/Haploids/Second_Run/PH2/PBIRD13X110H_0011.fq  >Data_Inventory/Haploids/Combined/PBIRD13X110H_0011_comb.fq\n",
      "cat Data_Inventory/Haploids/First_Runs/PH2/PBIRD13X108H_0048.fq  Data_Inventory/Haploids/Second_Run/PH2/PBIRD13X108H_0048.fq  >Data_Inventory/Haploids/Combined/PBIRD13X108H_0048_comb.fq\n",
      "cat Data_Inventory/Haploids/First_Runs/PH2/PBIRD13X108H_0095.fq  Data_Inventory/Haploids/Second_Run/PH2/PBIRD13X108H_0095.fq  >Data_Inventory/Haploids/Combined/PBIRD13X108H_0095_comb.fq\n",
      "cat Data_Inventory/Haploids/First_Runs/PH2/PBIRD13X108H_0047.fq  Data_Inventory/Haploids/Second_Run/PH2/PBIRD13X108H_0047.fq  >Data_Inventory/Haploids/Combined/PBIRD13X108H_0047_comb.fq\n",
      "cat Data_Inventory/Haploids/First_Runs/PH2/PBIRD13X110H_0039.fq  Data_Inventory/Haploids/Second_Run/PH2/PBIRD13X110H_0039.fq  >Data_Inventory/Haploids/Combined/PBIRD13X110H_0039_comb.fq\n",
      "cat Data_Inventory/Haploids/First_Runs/PH2/PBIRD13X108H_0075.fq  Data_Inventory/Haploids/Second_Run/PH2/PBIRD13X108H_0075.fq  >Data_Inventory/Haploids/Combined/PBIRD13X108H_0075_comb.fq\n",
      "cat Data_Inventory/Haploids/First_Runs/PH2/PBIRD13X110H_0045.fq  Data_Inventory/Haploids/Second_Run/PH2/PBIRD13X110H_0045.fq  >Data_Inventory/Haploids/Combined/PBIRD13X110H_0045_comb.fq\n",
      "cat Data_Inventory/Haploids/First_Runs/PH2/PBIRD13X102G_0012.fq  Data_Inventory/Haploids/Second_Run/PH2/PBIRD13X102G_0012.fq  >Data_Inventory/Haploids/Combined/PBIRD13X102G_0012_comb.fq\n",
      "cat Data_Inventory/Haploids/First_Runs/PH2/PBIRD13X110H_0041.fq  Data_Inventory/Haploids/Second_Run/PH2/PBIRD13X110H_0041.fq  >Data_Inventory/Haploids/Combined/PBIRD13X110H_0041_comb.fq\n",
      "cat Data_Inventory/Haploids/First_Runs/PH2/PBIRD13X110H_0009.fq  Data_Inventory/Haploids/Second_Run/PH2/PBIRD13X110H_0009.fq  >Data_Inventory/Haploids/Combined/PBIRD13X110H_0009_comb.fq\n",
      "cat Data_Inventory/Haploids/First_Runs/PH2/PBIRD13X108H_0027.fq  Data_Inventory/Haploids/Second_Run/PH2/PBIRD13X108H_0027.fq  >Data_Inventory/Haploids/Combined/PBIRD13X108H_0027_comb.fq\n",
      "cat Data_Inventory/Haploids/First_Runs/PH2/PBIRD13X108H_0021.fq  Data_Inventory/Haploids/Second_Run/PH2/PBIRD13X108H_0021.fq  >Data_Inventory/Haploids/Combined/PBIRD13X108H_0021_comb.fq\n",
      "cat Data_Inventory/Haploids/First_Runs/PH2/PBIRD13X110H_0092.fq  Data_Inventory/Haploids/Second_Run/PH2/PBIRD13X110H_0092.fq  >Data_Inventory/Haploids/Combined/PBIRD13X110H_0092_comb.fq\n",
      "cat Data_Inventory/Haploids/First_Runs/PH2/PBIRD13X110H_0027.fq  Data_Inventory/Haploids/Second_Run/PH2/PBIRD13X110H_0027.fq  >Data_Inventory/Haploids/Combined/PBIRD13X110H_0027_comb.fq\n",
      "cat Data_Inventory/Haploids/First_Runs/PH2/PBIRD13X108H_0008.fq  Data_Inventory/Haploids/Second_Run/PH2/PBIRD13X108H_0008.fq  >Data_Inventory/Haploids/Combined/PBIRD13X108H_0008_comb.fq\n",
      "cat Data_Inventory/Haploids/First_Runs/PH2/PBIRD13X110H_0040.fq  Data_Inventory/Haploids/Second_Run/PH2/PBIRD13X110H_0040.fq  >Data_Inventory/Haploids/Combined/PBIRD13X110H_0040_comb.fq\n",
      "cat Data_Inventory/Haploids/First_Runs/PH2/PBIRD13X108H_0063.fq  Data_Inventory/Haploids/Second_Run/PH2/PBIRD13X108H_0063.fq  >Data_Inventory/Haploids/Combined/PBIRD13X108H_0063_comb.fq\n",
      "cat Data_Inventory/Haploids/First_Runs/PH2/PBIRD13X110H_0093.fq  Data_Inventory/Haploids/Second_Run/PH2/PBIRD13X110H_0093.fq  >Data_Inventory/Haploids/Combined/PBIRD13X110H_0093_comb.fq\n",
      "cat Data_Inventory/Haploids/First_Runs/PH2/PBIRD13X102G_0021.fq  Data_Inventory/Haploids/Second_Run/PH2/PBIRD13X102G_0021.fq  >Data_Inventory/Haploids/Combined/PBIRD13X102G_0021_comb.fq\n",
      "cat Data_Inventory/Haploids/First_Runs/PH2/PBIRD13X102G_0026.fq  Data_Inventory/Haploids/Second_Run/PH2/PBIRD13X102G_0026.fq  >Data_Inventory/Haploids/Combined/PBIRD13X102G_0026_comb.fq\n",
      "cat Data_Inventory/Haploids/First_Runs/PH2/PBIRD13X108H_0093.fq  Data_Inventory/Haploids/Second_Run/PH2/PBIRD13X108H_0093.fq  >Data_Inventory/Haploids/Combined/PBIRD13X108H_0093_comb.fq\n",
      "cat Data_Inventory/Haploids/First_Runs/PH2/PBIRD13X108H_0055.fq  Data_Inventory/Haploids/Second_Run/PH2/PBIRD13X108H_0055.fq  >Data_Inventory/Haploids/Combined/PBIRD13X108H_0055_comb.fq\n",
      "cat Data_Inventory/Haploids/First_Runs/PH2/PBIRD13X108H_0072.fq  Data_Inventory/Haploids/Second_Run/PH2/PBIRD13X108H_0072.fq  >Data_Inventory/Haploids/Combined/PBIRD13X108H_0072_comb.fq\n",
      "cat Data_Inventory/Haploids/First_Runs/PH2/PBIRD13X110H_0007.fq  Data_Inventory/Haploids/Second_Run/PH2/PBIRD13X110H_0007.fq  >Data_Inventory/Haploids/Combined/PBIRD13X110H_0007_comb.fq\n",
      "cat Data_Inventory/Haploids/First_Runs/PH2/PBIRD13X108H_0089.fq  Data_Inventory/Haploids/Second_Run/PH2/PBIRD13X108H_0089.fq  >Data_Inventory/Haploids/Combined/PBIRD13X108H_0089_comb.fq\n",
      "cat Data_Inventory/Haploids/First_Runs/PH2/PBIRD13X108H_0022.fq  Data_Inventory/Haploids/Second_Run/PH2/PBIRD13X108H_0022.fq  >Data_Inventory/Haploids/Combined/PBIRD13X108H_0022_comb.fq\n",
      "cat Data_Inventory/Haploids/First_Runs/PH2/PBIRD13X_0108.fq  Data_Inventory/Haploids/Second_Run/PH2/PBIRD13X_0108.fq  >Data_Inventory/Haploids/Combined/PBIRD13X_0108_comb.fq\n",
      "cat Data_Inventory/Haploids/First_Runs/PH2/PBIRD13X102G_0001.fq  Data_Inventory/Haploids/Second_Run/PH2/PBIRD13X102G_0001.fq  >Data_Inventory/Haploids/Combined/PBIRD13X102G_0001_comb.fq\n",
      "cat Data_Inventory/Haploids/First_Runs/PH2/PBIRD13X102G_0022.fq  Data_Inventory/Haploids/Second_Run/PH2/PBIRD13X102G_0022.fq  >Data_Inventory/Haploids/Combined/PBIRD13X102G_0022_comb.fq\n",
      "cat Data_Inventory/Haploids/First_Runs/PH2/PBIRD13X110H_0087.fq  Data_Inventory/Haploids/Second_Run/PH2/PBIRD13X110H_0087.fq  >Data_Inventory/Haploids/Combined/PBIRD13X110H_0087_comb.fq\n",
      "cat Data_Inventory/Haploids/First_Runs/PH2/PBIRD13X110H_0064.fq  Data_Inventory/Haploids/Second_Run/PH2/PBIRD13X110H_0064.fq  >Data_Inventory/Haploids/Combined/PBIRD13X110H_0064_comb.fq\n",
      "cat Data_Inventory/Haploids/First_Runs/PH2/PBIRD13X108H_0020.fq  Data_Inventory/Haploids/Second_Run/PH2/PBIRD13X108H_0020.fq  >Data_Inventory/Haploids/Combined/PBIRD13X108H_0020_comb.fq\n",
      "cat Data_Inventory/Haploids/First_Runs/PH2/PBIRD13X110H_0080.fq  Data_Inventory/Haploids/Second_Run/PH2/PBIRD13X110H_0080.fq  >Data_Inventory/Haploids/Combined/PBIRD13X110H_0080_comb.fq\n",
      "cat Data_Inventory/Haploids/First_Runs/PH2/PBIRD13X110H_0038.fq  Data_Inventory/Haploids/Second_Run/PH2/PBIRD13X110H_0038.fq  >Data_Inventory/Haploids/Combined/PBIRD13X110H_0038_comb.fq\n",
      "cat Data_Inventory/Haploids/First_Runs/PH2/PBIRD13X108H_0082.fq  Data_Inventory/Haploids/Second_Run/PH2/PBIRD13X108H_0082.fq  >Data_Inventory/Haploids/Combined/PBIRD13X108H_0082_comb.fq\n",
      "cat Data_Inventory/Haploids/First_Runs/PH2/PBIRD13X110H_0088.fq  Data_Inventory/Haploids/Second_Run/PH2/PBIRD13X110H_0088.fq  >Data_Inventory/Haploids/Combined/PBIRD13X110H_0088_comb.fq\n",
      "cat Data_Inventory/Haploids/First_Runs/PH2/PBIRD13X108H_0083.fq  Data_Inventory/Haploids/Second_Run/PH2/PBIRD13X108H_0083.fq  >Data_Inventory/Haploids/Combined/PBIRD13X108H_0083_comb.fq\n",
      "cat Data_Inventory/Haploids/First_Runs/PH2/PBIRD13X_0110.fq  Data_Inventory/Haploids/Second_Run/PH2/PBIRD13X_0110.fq  >Data_Inventory/Haploids/Combined/PBIRD13X_0110_comb.fq\n"
     ],
     "language": "python",
     "metadata": {},
     "outputs": []
    },
    {
     "cell_type": "markdown",
     "metadata": {},
     "source": [
      "May 4 2015 while building linkage maps in MSTmap we realized there was something wrong with the 2013 Haploid samples,  the output is not what garrett expected that it would be, the number of loci is much lower for some of those families. Some have wildly high read depths, other samples are missing most of their data. \n",
      "\n",
      "I did some digging, recreating spreadsheets, comparing barcodes and wells and sample names and retained reads and found that by comparing the total number of retained reads between runs for the sampels, we should have zeros or a positive number because by resequencing there is no way that we should ever LOSE READS. But we do get negative numbers in those columns so there is something obviously wrong with the barcodes/sample names for the spreadsheet. Which means that we did not  resequencethe individuals that we meant to resequence. Im not worried about the sample names being wrong because we know the barcodes on the file names that came out of process_rad tags. \n",
      "\n",
      "The barcodes and the numbers of retained reads were wrong for the PH1 resequence file so those had samples resequenced that were not intended to be resequenced and vice versa, and for the samples that were reseuquenced they had a basically arbitrary amount of DNA added. Thats why the number of retained reads at the end of resequencing is so low- the samples that were supposed to get more volume didnt always get it and those that were supposed to get less may have gotten more.\n",
      "\n",
      "The barcodes and the retained reads all match up for the ph2 resequence file.  There were no obvious inconsistencies between the barcodes and the sample names and the retained reads. There were just a bunch of samples that should not have been sequenced that had a ton of retained reads.  \n",
      "\n",
      "I used one sample as a bellweather- A11 on the ph2 plate because it was not supposed to be resequenced and still had a retained read of 6.8 million reads so it obviously was. There was not a A11 supposed to be pulled from either plate, so i looked at H2- the well that would have been that sample if the plate had been turned around, or put on the robot backwards. And that fits. If you make a lookup table of all the wells and their corresponding well number with the plate flipped around, then put those other wells into the sheet, do a vertical look up to see if they were supposed to have been resequenced and sort based on the number of retained reads then you see a pattern. All the samples that were not supposed to have been sequenced basically were, and had a huge number of reads (they had the highest number of reads in the first run, so they didnt need to be resequenced) and some of those that were supposed to have been sequenced were not. \n",
      "\n",
      "We did another round of sequencing, only one lane. Some of the samples had to be rebarcoded (30) so we could fit them all on one lane. "
     ]
    },
    {
     "cell_type": "markdown",
     "metadata": {},
     "source": [
      "#ReReSequencing\n",
      "\n",
      "##Process_radtags\n",
      "\n",
      "These were run with Stacks V 1.32 \n",
      "I the current version of stacks, the barcode file can have a column with the sample name, and the output is automatically renamed. Its very easy. \n",
      "\n",
      "There are two samples that Carita used as a test of a lab technique, each was run twice. They have the underscores in their name to distinguish their files, and will need to be concatenated. "
     ]
    },
    {
     "cell_type": "code",
     "collapsed": false,
     "input": [
      "#run from Pop_analysis folder\n",
      "\n",
      "process_radtags -p ./ReReseqHaps -o ./ReReseqHaps -b ./barcodes3.txt -e sbfI -r -c -q -t 94 -i gzfastq "
     ],
     "language": "python",
     "metadata": {},
     "outputs": []
    },
    {
     "cell_type": "code",
     "collapsed": false,
     "input": [
      "#barcodes3.txt\n",
      "\n",
      "AAACGG\tPBIRD13X108H_0006\n",
      "AACGTT\tPBIRD13X108H_0026\n",
      "AACTGA\tPBIRD13X110H_0042\n",
      "AAGACG\tPBIRD13X108H_0069\n",
      "AAGCTA\tPBIRD13X108H_0051\n",
      "AATATC\tPBIRD13X108H_0012\n",
      "AATGAG\tPBIRD13X108H_0031\n",
      "ACAAGA\tPBIRD13X108H_0060\n",
      "ACAGCG\tPBIRD13X108H_0042\n",
      "ACATAC\tPBIRD13X108H_0043\n",
      "ACCATG\tPBIRD13X108H_0059\n",
      "ACCCCC\tPBIRD13X108H_0094\n",
      "ACTCTT\tPBIRD13X102G_0014\n",
      "ACTGGC\tPBIRD13X102G_0010\n",
      "AGCCAT\tPBIRD13X102G_0009\n",
      "AGCGCA\tPBIRD13X110H_0077\n",
      "AGGGTC\tPBIRD13X110H_0018\n",
      "AGGTGT\tPBIRD13X110H_0032\n",
      "AGTAGG\tPBIRD13X108H_0091\n",
      "AGTTAA\tPBIRD13X108H_0044\n",
      "ATAGTA\tPBIRD13X110H_0004\n",
      "ATCAAA\tPBIRD13X110H_0005\n",
      "ATGCAC\tPBIRD13X110H_0021\n",
      "ATGTTG\tPBIRD13X110H_0028\n",
      "ATTCCG\tPBIRD13X102G_0016\n",
      "CAAAAA\tPBIRD13X102G_0019\n",
      "CAATCG\tPBIRD13X110H_0050\n",
      "CACCTC\tPBIRD13X110H_0020\n",
      "CAGGCA\tPBIRD13X108H_0015\n",
      "CATACT\tPBIRD13X110H_0029\n",
      "CCATTT\tPBIRD13X110H_0033\n",
      "CCCGGT\tPBIRD13X108H_0011\n",
      "CCCTAA\tPBIRD13X110H_0046_2\n",
      "CCGAGG\tPBIRD13X110H_0053\n",
      "CCGCAT\tPBIRD13X110H_0054\n",
      "CCTAAC\tPBIRD13X110H_0055\n",
      "CGAGGC\tPBIRD13X110H_0056\n",
      "CGCAGA\tPBIRD13X102G_0023\n",
      "CGCGTG\tPBIRD13X110H_0044\n",
      "CGGTCC\tPBIRD13X108H_0054\n",
      "CGTCTA\tPBIRD13X108H_0028\n",
      "CGTGAT\tPBIRD13X108H_0017\n",
      "CTACAG\tPBIRD13X110H_0062\n",
      "CTCGCC\tPBIRD13X108H_0085\n",
      "CTGCGA\tPBIRD13X110H_0063\n",
      "CTGGTT\tPBIRD13X110H_0066\n",
      "CTTATG\tPBIRD13X110H_0067\n",
      "CTTTGC\tPBIRD13X108H_0081\n",
      "GAAATG\tPBIRD13X110H_0078\n",
      "GAACCA\tPBIRD13X102G_0006\n",
      "GACGAC\tPBIRD13X110H_0037\n",
      "GACTCT\tPBIRD13X110H_0031\n",
      "GAGAGA\tPBIRD13X110H_0069\n",
      "GATCGT\tPBIRD13X108H_0048\n",
      "GCAGAT\tPBIRD13X110H_0075\n",
      "GCATGG\tPBIRD13X108H_0095\n",
      "GCCGTA\tPBIRD13X108H_0003\n",
      "GCGACC\tPBIRD13X110H_0083\n",
      "GCGCTG\tPBIRD13X110H_0089\n",
      "GCTCAA\tPBIRD13X108H_0080\n",
      "GGACTT\tPBIRD13X110H_0045\n",
      "GGCAAG\tPBIRD13X102G_0012\n",
      "GGGCGC\tPBIRD13X110H_0041\n",
      "GGGGCG\tPBIRD13X110H_0009\n",
      "GGTACA\tPBIRD13X108H_0027\n",
      "GGTTTG\tPBIRD13X108H_0021\n",
      "GTAAGT\tPBIRD13X108H_0036\n",
      "GTATCC\tPBIRD13X110H_0091\n",
      "GTCATC\tPBIRD13X108H_0008\n",
      "GTGCCT\tPBIRD13X110H_0095_2\n",
      "GTGTAA\tPBIRD13X102G_0018\n",
      "GTTGGA\tPBIRD13X108H_0067\n",
      "TAAGCT\tPBIRD13X110H_0093\n",
      "TAATTC\tPBIRD13X102G_0021\n",
      "TACACA\tPBIRD13X102G_0026\n",
      "TACGGG\tPBIRD13X108H_0093\n",
      "TAGTAT\tPBIRD13X108H_0055\n",
      "TATCAC\tPBIRD13X108H_0013\n",
      "TCAAAG\tPBIRD13X108H_0088\n",
      "TCCTGC\tPBIRD13X110H_0007\n",
      "TCGATT\tPBIRD13X108H_0025\n",
      "TCGCCA\tPBIRD13X102G_0008\n",
      "TCGGAC\tPBIRD13X110H_0046_1\n",
      "TCTCGG\tPBIRD13X_0108\n",
      "TCTTCT\tPBIRD13X102G_0001\n",
      "TGAACC\tPBIRD13X102G_0022\n",
      "TGACAA\tPBIRD13X110H_0087\n",
      "TGCCCG\tPBIRD13X110H_0064\n",
      "TGCTTA\tPBIRD13X108H_0020\n",
      "TGGGGA\tPBIRD13X110H_0080\n",
      "TTATGA\tPBIRD13X110H_0095_1\n",
      "TTCCGT\tPBIRD13X108H_0082\n",
      "TTCTAG\tPBIRD13X110H_0088\n",
      "TTTAAT\tPBIRD13X108H_0083"
     ],
     "language": "python",
     "metadata": {},
     "outputs": []
    },
    {
     "cell_type": "markdown",
     "metadata": {},
     "source": [
      "#Re Concatenating the Haploid samples, runs one and two, then three"
     ]
    },
    {
     "cell_type": "markdown",
     "metadata": {},
     "source": [
      "The samples from the original run and reruns of  PH1 were correctly concatenated the first time so they were taken directly from the Combined folder and contcatenated with their reresequenced samples, or used in the downstream analysis"
     ]
    },
    {
     "cell_type": "code",
     "collapsed": false,
     "input": [
      "#PH2cat1and2andthirdCat2.sh\n",
      "#6/29/2015\n",
      "\n",
      "#concatenating the first and second runs of haploids, the original and resequencing. \n",
      "cat First_Runs/PH2/PBIRD13X_0108.fq Second_Run/PH2/PBIRD13X_0108.fq >Combined/PH2/PBIRD13X_0108_comb.fq \n",
      "cat First_Runs/PH2/PBIRD13X_0110.fq Second_Run/PH2/PBIRD13X_0110.fq >Combined/PH2/PBIRD13X_0110_comb.fq \n",
      "cat First_Runs/PH2/PBIRD13X102G_0003.fq Second_Run/PH2/PBIRD13X102G_0003.fq >Combined/PH2/PBIRD13X102G_0003_comb.fq \n",
      "cat First_Runs/PH2/PBIRD13X102G_0009.fq Second_Run/PH2/PBIRD13X102G_0009.fq >Combined/PH2/PBIRD13X102G_0009_comb.fq \n",
      "cat First_Runs/PH2/PBIRD13X102G_0011.fq Second_Run/PH2/PBIRD13X102G_0011.fq >Combined/PH2/PBIRD13X102G_0011_comb.fq \n",
      "cat First_Runs/PH2/PBIRD13X102G_0012.fq Second_Run/PH2/PBIRD13X102G_0012.fq >Combined/PH2/PBIRD13X102G_0012_comb.fq \n",
      "cat First_Runs/PH2/PBIRD13X102G_0014.fq Second_Run/PH2/PBIRD13X102G_0014.fq >Combined/PH2/PBIRD13X102G_0014_comb.fq \n",
      "cat First_Runs/PH2/PBIRD13X102G_0015.fq Second_Run/PH2/PBIRD13X102G_0015.fq >Combined/PH2/PBIRD13X102G_0015_comb.fq \n",
      "cat First_Runs/PH2/PBIRD13X102G_0016.fq Second_Run/PH2/PBIRD13X102G_0016.fq >Combined/PH2/PBIRD13X102G_0016_comb.fq \n",
      "cat First_Runs/PH2/PBIRD13X102G_0019.fq Second_Run/PH2/PBIRD13X102G_0019.fq >Combined/PH2/PBIRD13X102G_0019_comb.fq \n",
      "cat First_Runs/PH2/PBIRD13X102G_0021.fq Second_Run/PH2/PBIRD13X102G_0021.fq >Combined/PH2/PBIRD13X102G_0021_comb.fq \n",
      "cat First_Runs/PH2/PBIRD13X102G_0023.fq Second_Run/PH2/PBIRD13X102G_0023.fq >Combined/PH2/PBIRD13X102G_0023_comb.fq \n",
      "cat First_Runs/PH2/PBIRD13X102G_0026.fq Second_Run/PH2/PBIRD13X102G_0026.fq >Combined/PH2/PBIRD13X102G_0026_comb.fq \n",
      "cat First_Runs/PH2/PBIRD13X108H_0007.fq Second_Run/PH2/PBIRD13X108H_0007.fq >Combined/PH2/PBIRD13X108H_0007_comb.fq \n",
      "cat First_Runs/PH2/PBIRD13X108H_0011.fq Second_Run/PH2/PBIRD13X108H_0011.fq >Combined/PH2/PBIRD13X108H_0011_comb.fq \n",
      "cat First_Runs/PH2/PBIRD13X108H_0012.fq Second_Run/PH2/PBIRD13X108H_0012.fq >Combined/PH2/PBIRD13X108H_0012_comb.fq \n",
      "cat First_Runs/PH2/PBIRD13X108H_0015.fq Second_Run/PH2/PBIRD13X108H_0015.fq >Combined/PH2/PBIRD13X108H_0015_comb.fq \n",
      "cat First_Runs/PH2/PBIRD13X108H_0019.fq Second_Run/PH2/PBIRD13X108H_0019.fq >Combined/PH2/PBIRD13X108H_0019_comb.fq \n",
      "cat First_Runs/PH2/PBIRD13X108H_0020.fq Second_Run/PH2/PBIRD13X108H_0020.fq >Combined/PH2/PBIRD13X108H_0020_comb.fq \n",
      "cat First_Runs/PH2/PBIRD13X108H_0021.fq Second_Run/PH2/PBIRD13X108H_0021.fq >Combined/PH2/PBIRD13X108H_0021_comb.fq \n",
      "cat First_Runs/PH2/PBIRD13X108H_0022.fq Second_Run/PH2/PBIRD13X108H_0022.fq >Combined/PH2/PBIRD13X108H_0022_comb.fq \n",
      "cat First_Runs/PH2/PBIRD13X108H_0023.fq Second_Run/PH2/PBIRD13X108H_0023.fq >Combined/PH2/PBIRD13X108H_0023_comb.fq \n",
      "cat First_Runs/PH2/PBIRD13X108H_0027.fq Second_Run/PH2/PBIRD13X108H_0027.fq >Combined/PH2/PBIRD13X108H_0027_comb.fq \n",
      "cat First_Runs/PH2/PBIRD13X108H_0029.fq Second_Run/PH2/PBIRD13X108H_0029.fq >Combined/PH2/PBIRD13X108H_0029_comb.fq \n",
      "cat First_Runs/PH2/PBIRD13X108H_0032.fq Second_Run/PH2/PBIRD13X108H_0032.fq >Combined/PH2/PBIRD13X108H_0032_comb.fq \n",
      "cat First_Runs/PH2/PBIRD13X108H_0035.fq Second_Run/PH2/PBIRD13X108H_0035.fq >Combined/PH2/PBIRD13X108H_0035_comb.fq \n",
      "cat First_Runs/PH2/PBIRD13X108H_0038.fq Second_Run/PH2/PBIRD13X108H_0038.fq >Combined/PH2/PBIRD13X108H_0038_comb.fq \n",
      "cat First_Runs/PH2/PBIRD13X108H_0041.fq Second_Run/PH2/PBIRD13X108H_0041.fq >Combined/PH2/PBIRD13X108H_0041_comb.fq \n",
      "cat First_Runs/PH2/PBIRD13X108H_0045.fq Second_Run/PH2/PBIRD13X108H_0045.fq >Combined/PH2/PBIRD13X108H_0045_comb.fq \n",
      "cat First_Runs/PH2/PBIRD13X108H_0047.fq Second_Run/PH2/PBIRD13X108H_0047.fq >Combined/PH2/PBIRD13X108H_0047_comb.fq \n",
      "cat First_Runs/PH2/PBIRD13X108H_0048.fq Second_Run/PH2/PBIRD13X108H_0048.fq >Combined/PH2/PBIRD13X108H_0048_comb.fq \n",
      "cat First_Runs/PH2/PBIRD13X108H_0051.fq Second_Run/PH2/PBIRD13X108H_0051.fq >Combined/PH2/PBIRD13X108H_0051_comb.fq \n",
      "cat First_Runs/PH2/PBIRD13X108H_0052.fq Second_Run/PH2/PBIRD13X108H_0052.fq >Combined/PH2/PBIRD13X108H_0052_comb.fq \n",
      "cat First_Runs/PH2/PBIRD13X108H_0053.fq Second_Run/PH2/PBIRD13X108H_0053.fq >Combined/PH2/PBIRD13X108H_0053_comb.fq \n",
      "cat First_Runs/PH2/PBIRD13X108H_0054.fq Second_Run/PH2/PBIRD13X108H_0054.fq >Combined/PH2/PBIRD13X108H_0054_comb.fq \n",
      "cat First_Runs/PH2/PBIRD13X108H_0055.fq Second_Run/PH2/PBIRD13X108H_0055.fq >Combined/PH2/PBIRD13X108H_0055_comb.fq \n",
      "cat First_Runs/PH2/PBIRD13X108H_0060.fq Second_Run/PH2/PBIRD13X108H_0060.fq >Combined/PH2/PBIRD13X108H_0060_comb.fq \n",
      "cat First_Runs/PH2/PBIRD13X108H_0063.fq Second_Run/PH2/PBIRD13X108H_0063.fq >Combined/PH2/PBIRD13X108H_0063_comb.fq \n",
      "cat First_Runs/PH2/PBIRD13X108H_0069.fq Second_Run/PH2/PBIRD13X108H_0069.fq >Combined/PH2/PBIRD13X108H_0069_comb.fq \n",
      "cat First_Runs/PH2/PBIRD13X108H_0071.fq Second_Run/PH2/PBIRD13X108H_0071.fq >Combined/PH2/PBIRD13X108H_0071_comb.fq \n",
      "cat First_Runs/PH2/PBIRD13X108H_0072.fq Second_Run/PH2/PBIRD13X108H_0072.fq >Combined/PH2/PBIRD13X108H_0072_comb.fq \n",
      "cat First_Runs/PH2/PBIRD13X108H_0075.fq Second_Run/PH2/PBIRD13X108H_0075.fq >Combined/PH2/PBIRD13X108H_0075_comb.fq \n",
      "cat First_Runs/PH2/PBIRD13X108H_0082.fq Second_Run/PH2/PBIRD13X108H_0082.fq >Combined/PH2/PBIRD13X108H_0082_comb.fq \n",
      "cat First_Runs/PH2/PBIRD13X108H_0083.fq Second_Run/PH2/PBIRD13X108H_0083.fq >Combined/PH2/PBIRD13X108H_0083_comb.fq \n",
      "cat First_Runs/PH2/PBIRD13X108H_0085.fq Second_Run/PH2/PBIRD13X108H_0085.fq >Combined/PH2/PBIRD13X108H_0085_comb.fq \n",
      "cat First_Runs/PH2/PBIRD13X108H_0089.fq Second_Run/PH2/PBIRD13X108H_0089.fq >Combined/PH2/PBIRD13X108H_0089_comb.fq \n",
      "cat First_Runs/PH2/PBIRD13X108H_0090.fq Second_Run/PH2/PBIRD13X108H_0090.fq >Combined/PH2/PBIRD13X108H_0090_comb.fq \n",
      "cat First_Runs/PH2/PBIRD13X108H_0093.fq Second_Run/PH2/PBIRD13X108H_0093.fq >Combined/PH2/PBIRD13X108H_0093_comb.fq \n",
      "cat First_Runs/PH2/PBIRD13X108H_0095.fq Second_Run/PH2/PBIRD13X108H_0095.fq >Combined/PH2/PBIRD13X108H_0095_comb.fq \n",
      "cat First_Runs/PH2/PBIRD13X110H_0002.fq Second_Run/PH2/PBIRD13X110H_0002.fq >Combined/PH2/PBIRD13X110H_0002_comb.fq \n",
      "cat First_Runs/PH2/PBIRD13X110H_0007.fq Second_Run/PH2/PBIRD13X110H_0007.fq >Combined/PH2/PBIRD13X110H_0007_comb.fq \n",
      "cat First_Runs/PH2/PBIRD13X110H_0008.fq Second_Run/PH2/PBIRD13X110H_0008.fq >Combined/PH2/PBIRD13X110H_0008_comb.fq \n",
      "cat First_Runs/PH2/PBIRD13X110H_0009.fq Second_Run/PH2/PBIRD13X110H_0009.fq >Combined/PH2/PBIRD13X110H_0009_comb.fq \n",
      "cat First_Runs/PH2/PBIRD13X110H_0011.fq Second_Run/PH2/PBIRD13X110H_0011.fq >Combined/PH2/PBIRD13X110H_0011_comb.fq \n",
      "cat First_Runs/PH2/PBIRD13X110H_0020.fq Second_Run/PH2/PBIRD13X110H_0020.fq >Combined/PH2/PBIRD13X110H_0020_comb.fq \n",
      "cat First_Runs/PH2/PBIRD13X110H_0022.fq Second_Run/PH2/PBIRD13X110H_0022.fq >Combined/PH2/PBIRD13X110H_0022_comb.fq \n",
      "cat First_Runs/PH2/PBIRD13X110H_0025.fq Second_Run/PH2/PBIRD13X110H_0025.fq >Combined/PH2/PBIRD13X110H_0025_comb.fq \n",
      "cat First_Runs/PH2/PBIRD13X110H_0026.fq Second_Run/PH2/PBIRD13X110H_0026.fq >Combined/PH2/PBIRD13X110H_0026_comb.fq \n",
      "cat First_Runs/PH2/PBIRD13X110H_0027.fq Second_Run/PH2/PBIRD13X110H_0027.fq >Combined/PH2/PBIRD13X110H_0027_comb.fq \n",
      "cat First_Runs/PH2/PBIRD13X110H_0032.fq Second_Run/PH2/PBIRD13X110H_0032.fq >Combined/PH2/PBIRD13X110H_0032_comb.fq \n",
      "cat First_Runs/PH2/PBIRD13X110H_0036.fq Second_Run/PH2/PBIRD13X110H_0036.fq >Combined/PH2/PBIRD13X110H_0036_comb.fq \n",
      "cat First_Runs/PH2/PBIRD13X110H_0037.fq Second_Run/PH2/PBIRD13X110H_0037.fq >Combined/PH2/PBIRD13X110H_0037_comb.fq \n",
      "cat First_Runs/PH2/PBIRD13X110H_0038.fq Second_Run/PH2/PBIRD13X110H_0038.fq >Combined/PH2/PBIRD13X110H_0038_comb.fq \n",
      "cat First_Runs/PH2/PBIRD13X110H_0039.fq Second_Run/PH2/PBIRD13X110H_0039.fq >Combined/PH2/PBIRD13X110H_0039_comb.fq \n",
      "cat First_Runs/PH2/PBIRD13X110H_0040.fq Second_Run/PH2/PBIRD13X110H_0040.fq >Combined/PH2/PBIRD13X110H_0040_comb.fq \n",
      "cat First_Runs/PH2/PBIRD13X110H_0041.fq Second_Run/PH2/PBIRD13X110H_0041.fq >Combined/PH2/PBIRD13X110H_0041_comb.fq \n",
      "cat First_Runs/PH2/PBIRD13X110H_0043.fq Second_Run/PH2/PBIRD13X110H_0043.fq >Combined/PH2/PBIRD13X110H_0043_comb.fq \n",
      "cat First_Runs/PH2/PBIRD13X110H_0045.fq Second_Run/PH2/PBIRD13X110H_0045.fq >Combined/PH2/PBIRD13X110H_0045_comb.fq \n",
      "cat First_Runs/PH2/PBIRD13X110H_0047.fq Second_Run/PH2/PBIRD13X110H_0047.fq >Combined/PH2/PBIRD13X110H_0047_comb.fq \n",
      "cat First_Runs/PH2/PBIRD13X110H_0052.fq Second_Run/PH2/PBIRD13X110H_0052.fq >Combined/PH2/PBIRD13X110H_0052_comb.fq \n",
      "cat First_Runs/PH2/PBIRD13X110H_0057.fq Second_Run/PH2/PBIRD13X110H_0057.fq >Combined/PH2/PBIRD13X110H_0057_comb.fq \n",
      "cat First_Runs/PH2/PBIRD13X110H_0060.fq Second_Run/PH2/PBIRD13X110H_0060.fq >Combined/PH2/PBIRD13X110H_0060_comb.fq \n",
      "cat First_Runs/PH2/PBIRD13X110H_0061.fq Second_Run/PH2/PBIRD13X110H_0061.fq >Combined/PH2/PBIRD13X110H_0061_comb.fq \n",
      "cat First_Runs/PH2/PBIRD13X110H_0064.fq Second_Run/PH2/PBIRD13X110H_0064.fq >Combined/PH2/PBIRD13X110H_0064_comb.fq \n",
      "cat First_Runs/PH2/PBIRD13X110H_0072.fq Second_Run/PH2/PBIRD13X110H_0072.fq >Combined/PH2/PBIRD13X110H_0072_comb.fq \n",
      "cat First_Runs/PH2/PBIRD13X110H_0073.fq Second_Run/PH2/PBIRD13X110H_0073.fq >Combined/PH2/PBIRD13X110H_0073_comb.fq \n",
      "cat First_Runs/PH2/PBIRD13X110H_0076.fq Second_Run/PH2/PBIRD13X110H_0076.fq >Combined/PH2/PBIRD13X110H_0076_comb.fq \n",
      "cat First_Runs/PH2/PBIRD13X110H_0077.fq Second_Run/PH2/PBIRD13X110H_0077.fq >Combined/PH2/PBIRD13X110H_0077_comb.fq \n",
      "cat First_Runs/PH2/PBIRD13X110H_0078.fq Second_Run/PH2/PBIRD13X110H_0078.fq >Combined/PH2/PBIRD13X110H_0078_comb.fq \n",
      "cat First_Runs/PH2/PBIRD13X110H_0080.fq Second_Run/PH2/PBIRD13X110H_0080.fq >Combined/PH2/PBIRD13X110H_0080_comb.fq \n",
      "cat First_Runs/PH2/PBIRD13X110H_0088.fq Second_Run/PH2/PBIRD13X110H_0088.fq >Combined/PH2/PBIRD13X110H_0088_comb.fq \n",
      "cat First_Runs/PH2/PBIRD13X110H_0092.fq Second_Run/PH2/PBIRD13X110H_0092.fq >Combined/PH2/PBIRD13X110H_0092_comb.fq \n",
      "cat First_Runs/PH2/PBIRD13X110H_0093.fq Second_Run/PH2/PBIRD13X110H_0093.fq >Combined/PH2/PBIRD13X110H_0093_comb.fq \n",
      "\n",
      "#combine the last resequencing runs\n",
      "cat  ReReseqHaps/PBIRD13X110H_0046_1.fq ReReseqHaps/PBIRD13X110H_0046_2.fq >ReReseqHaps/PBIRD13X110H_0046.fq\n",
      "cat  ReReseqHaps/PBIRD13X110H_0095_1.fq ReReseqHaps/PBIRD13X110H_0095_2.fq >ReReseqHaps/PBIRD13X110H_0095.fqcat  Combined/PH2/PBIRD13X_0108_comb.fq ReReseqHaps/PBIRD13X_0108.fq >CombinedRere/PBIRD13X_0108_comb.fq\n",
      "cat  Combined/PH2/PBIRD13X102G_0009_comb.fq ReReseqHaps/PBIRD13X102G_0009.fq >CombinedRere/PBIRD13X102G_0009_comb.fq\n",
      "cat  Combined/PH2/PBIRD13X102G_0012_comb.fq ReReseqHaps/PBIRD13X102G_0012.fq >CombinedRere/PBIRD13X102G_0012_comb.fq\n",
      "cat  Combined/PH2/PBIRD13X102G_0014_comb.fq ReReseqHaps/PBIRD13X102G_0014.fq >CombinedRere/PBIRD13X102G_0014_comb.fq\n",
      "cat  Combined/PH2/PBIRD13X102G_0016_comb.fq ReReseqHaps/PBIRD13X102G_0016.fq >CombinedRere/PBIRD13X102G_0016_comb.fq\n",
      "cat  Combined/PH2/PBIRD13X102G_0019_comb.fq ReReseqHaps/PBIRD13X102G_0019.fq >CombinedRere/PBIRD13X102G_0019_comb.fq\n",
      "cat  Combined/PH2/PBIRD13X102G_0021_comb.fq ReReseqHaps/PBIRD13X102G_0021.fq >CombinedRere/PBIRD13X102G_0021_comb.fq\n",
      "cat  Combined/PH2/PBIRD13X102G_0023_comb.fq ReReseqHaps/PBIRD13X102G_0023.fq >CombinedRere/PBIRD13X102G_0023_comb.fq\n",
      "cat  Combined/PH2/PBIRD13X102G_0026_comb.fq ReReseqHaps/PBIRD13X102G_0026.fq >CombinedRere/PBIRD13X102G_0026_comb.fq\n",
      "cat  Combined/PH2/PBIRD13X108H_0011_comb.fq ReReseqHaps/PBIRD13X108H_0011.fq >CombinedRere/PBIRD13X108H_0011_comb.fq\n",
      "cat  Combined/PH2/PBIRD13X108H_0012_comb.fq ReReseqHaps/PBIRD13X108H_0012.fq >CombinedRere/PBIRD13X108H_0012_comb.fq\n",
      "cat  Combined/PH2/PBIRD13X108H_0015_comb.fq ReReseqHaps/PBIRD13X108H_0015.fq >CombinedRere/PBIRD13X108H_0015_comb.fq\n",
      "cat  Combined/PH2/PBIRD13X108H_0020_comb.fq ReReseqHaps/PBIRD13X108H_0020.fq >CombinedRere/PBIRD13X108H_0020_comb.fq\n",
      "cat  Combined/PH2/PBIRD13X108H_0021_comb.fq ReReseqHaps/PBIRD13X108H_0021.fq >CombinedRere/PBIRD13X108H_0021_comb.fq\n",
      "cat  Combined/PH2/PBIRD13X108H_0027_comb.fq ReReseqHaps/PBIRD13X108H_0027.fq >CombinedRere/PBIRD13X108H_0027_comb.fq\n",
      "cat  Combined/PH2/PBIRD13X108H_0048_comb.fq ReReseqHaps/PBIRD13X108H_0048.fq >CombinedRere/PBIRD13X108H_0048_comb.fq\n",
      "cat  Combined/PH2/PBIRD13X108H_0051_comb.fq ReReseqHaps/PBIRD13X108H_0051.fq >CombinedRere/PBIRD13X108H_0051_comb.fq\n",
      "cat  Combined/PH2/PBIRD13X108H_0054_comb.fq ReReseqHaps/PBIRD13X108H_0054.fq >CombinedRere/PBIRD13X108H_0054_comb.fq\n",
      "cat  Combined/PH2/PBIRD13X108H_0055_comb.fq ReReseqHaps/PBIRD13X108H_0055.fq >CombinedRere/PBIRD13X108H_0055_comb.fq\n",
      "cat  Combined/PH2/PBIRD13X108H_0060_comb.fq ReReseqHaps/PBIRD13X108H_0060.fq >CombinedRere/PBIRD13X108H_0060_comb.fq\n",
      "cat  Combined/PH2/PBIRD13X108H_0069_comb.fq ReReseqHaps/PBIRD13X108H_0069.fq >CombinedRere/PBIRD13X108H_0069_comb.fq\n",
      "cat  Combined/PH2/PBIRD13X108H_0082_comb.fq ReReseqHaps/PBIRD13X108H_0082.fq >CombinedRere/PBIRD13X108H_0082_comb.fq\n",
      "cat  Combined/PH2/PBIRD13X108H_0083_comb.fq ReReseqHaps/PBIRD13X108H_0083.fq >CombinedRere/PBIRD13X108H_0083_comb.fq\n",
      "cat  Combined/PH2/PBIRD13X108H_0085_comb.fq ReReseqHaps/PBIRD13X108H_0085.fq >CombinedRere/PBIRD13X108H_0085_comb.fq\n",
      "cat  Combined/PH2/PBIRD13X108H_0093_comb.fq ReReseqHaps/PBIRD13X108H_0093.fq >CombinedRere/PBIRD13X108H_0093_comb.fq\n",
      "cat  Combined/PH2/PBIRD13X108H_0095_comb.fq ReReseqHaps/PBIRD13X108H_0095.fq >CombinedRere/PBIRD13X108H_0095_comb.fq\n",
      "cat  Combined/PH2/PBIRD13X110H_0007_comb.fq ReReseqHaps/PBIRD13X110H_0007.fq >CombinedRere/PBIRD13X110H_0007_comb.fq\n",
      "cat  Combined/PH2/PBIRD13X110H_0009_comb.fq ReReseqHaps/PBIRD13X110H_0009.fq >CombinedRere/PBIRD13X110H_0009_comb.fq\n",
      "cat  Combined/PH2/PBIRD13X110H_0020_comb.fq ReReseqHaps/PBIRD13X110H_0020.fq >CombinedRere/PBIRD13X110H_0020_comb.fq\n",
      "cat  Combined/PH2/PBIRD13X110H_0032_comb.fq ReReseqHaps/PBIRD13X110H_0032.fq >CombinedRere/PBIRD13X110H_0032_comb.fq\n",
      "cat  Combined/PH2/PBIRD13X110H_0037_comb.fq ReReseqHaps/PBIRD13X110H_0037.fq >CombinedRere/PBIRD13X110H_0037_comb.fq\n",
      "cat  Combined/PH2/PBIRD13X110H_0041_comb.fq ReReseqHaps/PBIRD13X110H_0041.fq >CombinedRere/PBIRD13X110H_0041_comb.fq\n",
      "cat  Combined/PH2/PBIRD13X110H_0045_comb.fq ReReseqHaps/PBIRD13X110H_0045.fq >CombinedRere/PBIRD13X110H_0045_comb.fq\n",
      "cat  Combined/PH2/PBIRD13X110H_0064_comb.fq ReReseqHaps/PBIRD13X110H_0064.fq >CombinedRere/PBIRD13X110H_0064_comb.fq\n",
      "cat  Combined/PH2/PBIRD13X110H_0077_comb.fq ReReseqHaps/PBIRD13X110H_0077.fq >CombinedRere/PBIRD13X110H_0077_comb.fq\n",
      "cat  Combined/PH2/PBIRD13X110H_0078_comb.fq ReReseqHaps/PBIRD13X110H_0078.fq >CombinedRere/PBIRD13X110H_0078_comb.fq\n",
      "cat  Combined/PH2/PBIRD13X110H_0080_comb.fq ReReseqHaps/PBIRD13X110H_0080.fq >CombinedRere/PBIRD13X110H_0080_comb.fq\n",
      "cat  Combined/PH2/PBIRD13X110H_0088_comb.fq ReReseqHaps/PBIRD13X110H_0088.fq >CombinedRere/PBIRD13X110H_0088_comb.fq\n",
      "cat  Combined/PH2/PBIRD13X110H_0093_comb.fq ReReseqHaps/PBIRD13X110H_0093.fq >CombinedRere/PBIRD13X110H_0093_comb.fq\n",
      "cat  Combinedold/PBIRD13X102G_0018_comb.fq  ReReseqHaps/PBIRD13X102G_0018.fq >CombinedRere/PBIRD13X102G_0018_comb.fq \n",
      "cat  Combinedold/PBIRD13X108H_0026_comb.fq  ReReseqHaps/PBIRD13X108H_0026.fq >CombinedRere/PBIRD13X108H_0026_comb.fq \n",
      "cat  Combinedold/PBIRD13X108H_0031_comb.fq  ReReseqHaps/PBIRD13X108H_0031.fq >CombinedRere/PBIRD13X108H_0031_comb.fq \n",
      "cat  Combinedold/PBIRD13X108H_0036_comb.fq  ReReseqHaps/PBIRD13X108H_0036.fq >CombinedRere/PBIRD13X108H_0036_comb.fq \n",
      "cat  Combinedold/PBIRD13X108H_0042_comb.fq  ReReseqHaps/PBIRD13X108H_0042.fq >CombinedRere/PBIRD13X108H_0042_comb.fq \n",
      "cat  Combinedold/PBIRD13X108H_0044_comb.fq  ReReseqHaps/PBIRD13X108H_0044.fq >CombinedRere/PBIRD13X108H_0044_comb.fq \n",
      "cat  Combinedold/PBIRD13X108H_0059_comb.fq  ReReseqHaps/PBIRD13X108H_0059.fq >CombinedRere/PBIRD13X108H_0059_comb.fq \n",
      "cat  Combinedold/PBIRD13X108H_0088_comb.fq  ReReseqHaps/PBIRD13X108H_0088.fq >CombinedRere/PBIRD13X108H_0088_comb.fq \n",
      "cat  Combinedold/PBIRD13X108H_0094_comb.fq  ReReseqHaps/PBIRD13X108H_0094.fq >CombinedRere/PBIRD13X108H_0094_comb.fq \n",
      "cat  Combinedold/PBIRD13X110H_0018_comb.fq  ReReseqHaps/PBIRD13X110H_0018.fq >CombinedRere/PBIRD13X110H_0018_comb.fq \n",
      "cat  Combinedold/PBIRD13X110H_0021_comb.fq  ReReseqHaps/PBIRD13X110H_0021.fq >CombinedRere/PBIRD13X110H_0021_comb.fq \n",
      "cat  Combinedold/PBIRD13X110H_0029_comb.fq  ReReseqHaps/PBIRD13X110H_0029.fq >CombinedRere/PBIRD13X110H_0029_comb.fq \n",
      "cat  Combinedold/PBIRD13X110H_0033_comb.fq  ReReseqHaps/PBIRD13X110H_0033.fq >CombinedRere/PBIRD13X110H_0033_comb.fq \n",
      "cat  Combinedold/PBIRD13X110H_0046_comb.fq  ReReseqHaps/PBIRD13X110H_0046.fq >CombinedRere/PBIRD13X110H_0046_comb.fq \n",
      "cat  Combinedold/PBIRD13X110H_0053_comb.fq  ReReseqHaps/PBIRD13X110H_0053.fq >CombinedRere/PBIRD13X110H_0053_comb.fq \n",
      "cat  Combinedold/PBIRD13X110H_0054_comb.fq  ReReseqHaps/PBIRD13X110H_0054.fq >CombinedRere/PBIRD13X110H_0054_comb.fq \n",
      "cat  Combinedold/PBIRD13X110H_0055_comb.fq  ReReseqHaps/PBIRD13X110H_0055.fq >CombinedRere/PBIRD13X110H_0055_comb.fq \n",
      "cat  Combinedold/PBIRD13X110H_0056_comb.fq  ReReseqHaps/PBIRD13X110H_0056.fq >CombinedRere/PBIRD13X110H_0056_comb.fq \n",
      "cat  Combinedold/PBIRD13X110H_0062_comb.fq  ReReseqHaps/PBIRD13X110H_0062.fq >CombinedRere/PBIRD13X110H_0062_comb.fq \n",
      "cat  Combinedold/PBIRD13X110H_0063_comb.fq  ReReseqHaps/PBIRD13X110H_0063.fq >CombinedRere/PBIRD13X110H_0063_comb.fq \n",
      "cat  Combinedold/PBIRD13X110H_0066_comb.fq  ReReseqHaps/PBIRD13X110H_0066.fq >CombinedRere/PBIRD13X110H_0066_comb.fq \n",
      "cat  Combinedold/PBIRD13X110H_0067_comb.fq  ReReseqHaps/PBIRD13X110H_0067.fq >CombinedRere/PBIRD13X110H_0067_comb.fq \n",
      "cat  Combinedold/PBIRD13X110H_0069_comb.fq  ReReseqHaps/PBIRD13X110H_0069.fq >CombinedRere/PBIRD13X110H_0069_comb.fq \n",
      "cat  Combinedold/PBIRD13X110H_0083_comb.fq  ReReseqHaps/PBIRD13X110H_0083.fq >CombinedRere/PBIRD13X110H_0083_comb.fq \n",
      "cat  Combinedold/PBIRD13X110H_0091_comb.fq  ReReseqHaps/PBIRD13X110H_0091.fq >CombinedRere/PBIRD13X110H_0091_comb.fq \n",
      "cat  First_Runs/PH1/PBIRD13X102G_0008.fq  ReReseqHaps/PBIRD13X102G_0008.fq >CombinedRere/PBIRD13X102G_0008_comb.fq \n",
      "cat  First_Runs/PH1/PBIRD13X108H_0003.fq  ReReseqHaps/PBIRD13X108H_0003.fq >CombinedRere/PBIRD13X108H_0003_comb.fq \n",
      "cat  First_Runs/PH1/PBIRD13X108H_0006.fq  ReReseqHaps/PBIRD13X108H_0006.fq >CombinedRere/PBIRD13X108H_0006_comb.fq \n",
      "cat  First_Runs/PH1/PBIRD13X108H_0013.fq  ReReseqHaps/PBIRD13X108H_0013.fq >CombinedRere/PBIRD13X108H_0013_comb.fq \n",
      "cat  First_Runs/PH1/PBIRD13X108H_0025.fq  ReReseqHaps/PBIRD13X108H_0025.fq >CombinedRere/PBIRD13X108H_0025_comb.fq \n",
      "cat  First_Runs/PH1/PBIRD13X108H_0028.fq  ReReseqHaps/PBIRD13X108H_0028.fq >CombinedRere/PBIRD13X108H_0028_comb.fq \n",
      "cat  First_Runs/PH1/PBIRD13X108H_0043.fq  ReReseqHaps/PBIRD13X108H_0043.fq >CombinedRere/PBIRD13X108H_0043_comb.fq \n",
      "cat  First_Runs/PH1/PBIRD13X108H_0067.fq  ReReseqHaps/PBIRD13X108H_0067.fq >CombinedRere/PBIRD13X108H_0067_comb.fq \n",
      "cat  First_Runs/PH1/PBIRD13X108H_0080.fq  ReReseqHaps/PBIRD13X108H_0080.fq >CombinedRere/PBIRD13X108H_0080_comb.fq \n",
      "cat  First_Runs/PH1/PBIRD13X110H_0004.fq  ReReseqHaps/PBIRD13X110H_0004.fq >CombinedRere/PBIRD13X110H_0004_comb.fq \n",
      "cat  First_Runs/PH1/PBIRD13X110H_0005.fq  ReReseqHaps/PBIRD13X110H_0005.fq >CombinedRere/PBIRD13X110H_0005_comb.fq \n",
      "cat  First_Runs/PH1/PBIRD13X110H_0028.fq  ReReseqHaps/PBIRD13X110H_0028.fq >CombinedRere/PBIRD13X110H_0028_comb.fq \n",
      "cat  First_Runs/PH1/PBIRD13X110H_0075.fq  ReReseqHaps/PBIRD13X110H_0075.fq >CombinedRere/PBIRD13X110H_0075_comb.fq \n",
      "cat  First_Runs/PH1/PBIRD13X110H_0089.fq  ReReseqHaps/PBIRD13X110H_0089.fq >CombinedRere/PBIRD13X110H_0089_comb.fq \n",
      "cat  First_Runs/PH1/PBIRD13X110H_0095.fq  ReReseqHaps/PBIRD13X110H_0095.fq >CombinedRere/PBIRD13X110H_0095_comb.fq \n",
      "cat  First_Runs/PH2/PBIRD13X102G_0001.fq  ReReseqHaps/PBIRD13X102G_0001.fq >CombinedRere/PBIRD13X102G_0001_comb.fq \n",
      "cat  First_Runs/PH2/PBIRD13X102G_0006.fq  ReReseqHaps/PBIRD13X102G_0006.fq >CombinedRere/PBIRD13X102G_0006_comb.fq \n",
      "cat  First_Runs/PH2/PBIRD13X102G_0010.fq  ReReseqHaps/PBIRD13X102G_0010.fq >CombinedRere/PBIRD13X102G_0010_comb.fq \n",
      "cat  First_Runs/PH2/PBIRD13X102G_0022.fq  ReReseqHaps/PBIRD13X102G_0022.fq >CombinedRere/PBIRD13X102G_0022_comb.fq \n",
      "cat  First_Runs/PH2/PBIRD13X108H_0008.fq  ReReseqHaps/PBIRD13X108H_0008.fq >CombinedRere/PBIRD13X108H_0008_comb.fq \n",
      "cat  First_Runs/PH2/PBIRD13X108H_0017.fq  ReReseqHaps/PBIRD13X108H_0017.fq >CombinedRere/PBIRD13X108H_0017_comb.fq \n",
      "cat  First_Runs/PH2/PBIRD13X108H_0081.fq  ReReseqHaps/PBIRD13X108H_0081.fq >CombinedRere/PBIRD13X108H_0081_comb.fq \n",
      "cat  First_Runs/PH2/PBIRD13X108H_0091.fq  ReReseqHaps/PBIRD13X108H_0091.fq >CombinedRere/PBIRD13X108H_0091_comb.fq \n",
      "cat  First_Runs/PH2/PBIRD13X110H_0031.fq  ReReseqHaps/PBIRD13X110H_0031.fq >CombinedRere/PBIRD13X110H_0031_comb.fq \n",
      "cat  First_Runs/PH2/PBIRD13X110H_0042.fq  ReReseqHaps/PBIRD13X110H_0042.fq >CombinedRere/PBIRD13X110H_0042_comb.fq \n",
      "cat  First_Runs/PH2/PBIRD13X110H_0044.fq  ReReseqHaps/PBIRD13X110H_0044.fq >CombinedRere/PBIRD13X110H_0044_comb.fq \n",
      "cat  First_Runs/PH2/PBIRD13X110H_0050.fq  ReReseqHaps/PBIRD13X110H_0050.fq >CombinedRere/PBIRD13X110H_0050_comb.fq \n",
      "cat  First_Runs/PH2/PBIRD13X110H_0087.fq  ReReseqHaps/PBIRD13X110H_0087.fq >CombinedRere/PBIRD13X110H_0087_comb.fq \n"
     ],
     "language": "python",
     "metadata": {},
     "outputs": []
    },
    {
     "cell_type": "markdown",
     "metadata": {},
     "source": [
      "#Ustacks \n",
      "\n",
      "The program ustacks is run on each sample individually. Send all the output files to one file for ease of downstream analysis. \n",
      "\n",
      "The batchfile for running ustacks has one command per sample, and the following flags: \n",
      "\n",
      "- -t the type of data file \n",
      "- -f the renamed samples from process_radtags path name\n",
      "- -o the folder where the output should be placed\n",
      "- -r use the removal algorithm and drop highly repetitive stacks\n",
      "- -M \n",
      "- --model_type bounded \n",
      "- --bound_low 0\n",
      "- --bound_high 0.05\n",
      "- -i the SQL database number \n",
      "\n",
      "It is imperative that the SQL number be unique to each individual, in order and that there are no missing numbers. It should be noted in the progeny database as well. "
     ]
    },
    {
     "cell_type": "code",
     "collapsed": false,
     "input": [
      "#run all the haploid samples through stacks, the samples that are three concatenated runs, two concatenated runs and the samples that were only run once. \n",
      "#these have a -M of 4, Maximum distance (in nucleotides) allowed between stacks (default 2). Ryan and Wes use this as a way to better identify duplicated loci. Im not sure how. \n",
      "\n",
      "ustacks -t fastq -f CombinedRere/PBIRD13X_0108_comb.fq -r -M 4  --model_type bounded --bound_low 0 --bound_high 0.05 -o HaploidStacks -i 543\n",
      "ustacks -t fastq -f CombinedRere/PBIRD13X102G_0001_comb.fq -r -M 4  --model_type bounded --bound_low 0 --bound_high 0.05 -o HaploidStacks -i 544\n",
      "ustacks -t fastq -f CombinedRere/PBIRD13X102G_0006_comb.fq -r -M 4  --model_type bounded --bound_low 0 --bound_high 0.05 -o HaploidStacks -i 514\n",
      "ustacks -t fastq -f CombinedRere/PBIRD13X102G_0008_comb.fq -r -M 4  --model_type bounded --bound_low 0 --bound_high 0.05 -o HaploidStacks -i 555\n",
      "ustacks -t fastq -f CombinedRere/PBIRD13X102G_0009_comb.fq -r -M 4  --model_type bounded --bound_low 0 --bound_high 0.05 -o HaploidStacks -i 483\n",
      "ustacks -t fastq -f CombinedRere/PBIRD13X102G_0010_comb.fq -r -M 4  --model_type bounded --bound_low 0 --bound_high 0.05 -o HaploidStacks -i 482\n",
      "ustacks -t fastq -f CombinedRere/PBIRD13X102G_0012_comb.fq -r -M 4  --model_type bounded --bound_low 0 --bound_high 0.05 -o HaploidStacks -i 524\n",
      "ustacks -t fastq -f CombinedRere/PBIRD13X102G_0014_comb.fq -r -M 4  --model_type bounded --bound_low 0 --bound_high 0.05 -o HaploidStacks -i 481\n",
      "ustacks -t fastq -f CombinedRere/PBIRD13X102G_0016_comb.fq -r -M 4  --model_type bounded --bound_low 0 --bound_high 0.05 -o HaploidStacks -i 493\n",
      "ustacks -t fastq -f CombinedRere/PBIRD13X102G_0018_comb.fq -r -M 4  --model_type bounded --bound_low 0 --bound_high 0.05 -o HaploidStacks -i 462\n",
      "ustacks -t fastq -f CombinedRere/PBIRD13X102G_0019_comb.fq -r -M 4  --model_type bounded --bound_low 0 --bound_high 0.05 -o HaploidStacks -i 494\n",
      "ustacks -t fastq -f CombinedRere/PBIRD13X102G_0021_comb.fq -r -M 4  --model_type bounded --bound_low 0 --bound_high 0.05 -o HaploidStacks -i 535\n",
      "ustacks -t fastq -f CombinedRere/PBIRD13X102G_0022_comb.fq -r -M 4  --model_type bounded --bound_low 0 --bound_high 0.05 -o HaploidStacks -i 545\n",
      "ustacks -t fastq -f CombinedRere/PBIRD13X102G_0023_comb.fq -r -M 4  --model_type bounded --bound_low 0 --bound_high 0.05 -o HaploidStacks -i 505\n",
      "ustacks -t fastq -f CombinedRere/PBIRD13X102G_0026_comb.fq -r -M 4  --model_type bounded --bound_low 0 --bound_high 0.05 -o HaploidStacks -i 536\n",
      "ustacks -t fastq -f CombinedRere/PBIRD13X108H_0003_comb.fq -r -M 4  --model_type bounded --bound_low 0 --bound_high 0.05 -o HaploidStacks -i 556\n",
      "ustacks -t fastq -f CombinedRere/PBIRD13X108H_0006_comb.fq -r -M 4  --model_type bounded --bound_low 0 --bound_high 0.05 -o HaploidStacks -i 557\n",
      "ustacks -t fastq -f CombinedRere/PBIRD13X108H_0008_comb.fq -r -M 4  --model_type bounded --bound_low 0 --bound_high 0.05 -o HaploidStacks -i 531\n",
      "ustacks -t fastq -f CombinedRere/PBIRD13X108H_0011_comb.fq -r -M 4  --model_type bounded --bound_low 0 --bound_high 0.05 -o HaploidStacks -i 499\n",
      "ustacks -t fastq -f CombinedRere/PBIRD13X108H_0012_comb.fq -r -M 4  --model_type bounded --bound_low 0 --bound_high 0.05 -o HaploidStacks -i 477\n",
      "ustacks -t fastq -f CombinedRere/PBIRD13X108H_0013_comb.fq -r -M 4  --model_type bounded --bound_low 0 --bound_high 0.05 -o HaploidStacks -i 558\n",
      "ustacks -t fastq -f CombinedRere/PBIRD13X108H_0015_comb.fq -r -M 4  --model_type bounded --bound_low 0 --bound_high 0.05 -o HaploidStacks -i 496\n",
      "ustacks -t fastq -f CombinedRere/PBIRD13X108H_0017_comb.fq -r -M 4  --model_type bounded --bound_low 0 --bound_high 0.05 -o HaploidStacks -i 509\n",
      "ustacks -t fastq -f CombinedRere/PBIRD13X108H_0020_comb.fq -r -M 4  --model_type bounded --bound_low 0 --bound_high 0.05 -o HaploidStacks -i 548\n",
      "ustacks -t fastq -f CombinedRere/PBIRD13X108H_0021_comb.fq -r -M 4  --model_type bounded --bound_low 0 --bound_high 0.05 -o HaploidStacks -i 528\n",
      "ustacks -t fastq -f CombinedRere/PBIRD13X108H_0025_comb.fq -r -M 4  --model_type bounded --bound_low 0 --bound_high 0.05 -o HaploidStacks -i 560\n",
      "ustacks -t fastq -f CombinedRere/PBIRD13X108H_0026_comb.fq -r -M 4  --model_type bounded --bound_low 0 --bound_high 0.05 -o HaploidStacks -i 401\n",
      "ustacks -t fastq -f CombinedRere/PBIRD13X108H_0027_comb.fq -r -M 4  --model_type bounded --bound_low 0 --bound_high 0.05 -o HaploidStacks -i 527\n",
      "ustacks -t fastq -f CombinedRere/PBIRD13X108H_0028_comb.fq -r -M 4  --model_type bounded --bound_low 0 --bound_high 0.05 -o HaploidStacks -i 561\n",
      "ustacks -t fastq -f CombinedRere/PBIRD13X108H_0031_comb.fq -r -M 4  --model_type bounded --bound_low 0 --bound_high 0.05 -o HaploidStacks -i 436\n",
      "ustacks -t fastq -f CombinedRere/PBIRD13X108H_0036_comb.fq -r -M 4  --model_type bounded --bound_low 0 --bound_high 0.05 -o HaploidStacks -i 448\n",
      "ustacks -t fastq -f CombinedRere/PBIRD13X108H_0042_comb.fq -r -M 4  --model_type bounded --bound_low 0 --bound_high 0.05 -o HaploidStacks -i 437\n",
      "ustacks -t fastq -f CombinedRere/PBIRD13X108H_0043_comb.fq -r -M 4  --model_type bounded --bound_low 0 --bound_high 0.05 -o HaploidStacks -i 563\n",
      "ustacks -t fastq -f CombinedRere/PBIRD13X108H_0044_comb.fq -r -M 4  --model_type bounded --bound_low 0 --bound_high 0.05 -o HaploidStacks -i 414\n",
      "ustacks -t fastq -f CombinedRere/PBIRD13X108H_0048_comb.fq -r -M 4  --model_type bounded --bound_low 0 --bound_high 0.05 -o HaploidStacks -i 518\n",
      "ustacks -t fastq -f CombinedRere/PBIRD13X108H_0051_comb.fq -r -M 4  --model_type bounded --bound_low 0 --bound_high 0.05 -o HaploidStacks -i 476\n",
      "ustacks -t fastq -f CombinedRere/PBIRD13X108H_0054_comb.fq -r -M 4  --model_type bounded --bound_low 0 --bound_high 0.05 -o HaploidStacks -i 507\n",
      "ustacks -t fastq -f CombinedRere/PBIRD13X108H_0055_comb.fq -r -M 4  --model_type bounded --bound_low 0 --bound_high 0.05 -o HaploidStacks -i 538\n",
      "ustacks -t fastq -f CombinedRere/PBIRD13X108H_0059_comb.fq -r -M 4  --model_type bounded --bound_low 0 --bound_high 0.05 -o HaploidStacks -i 413\n",
      "ustacks -t fastq -f CombinedRere/PBIRD13X108H_0060_comb.fq -r -M 4  --model_type bounded --bound_low 0 --bound_high 0.05 -o HaploidStacks -i 479\n",
      "ustacks -t fastq -f CombinedRere/PBIRD13X108H_0067_comb.fq -r -M 4  --model_type bounded --bound_low 0 --bound_high 0.05 -o HaploidStacks -i 565\n",
      "ustacks -t fastq -f CombinedRere/PBIRD13X108H_0069_comb.fq -r -M 4  --model_type bounded --bound_low 0 --bound_high 0.05 -o HaploidStacks -i 475\n",
      "ustacks -t fastq -f CombinedRere/PBIRD13X108H_0080_comb.fq -r -M 4  --model_type bounded --bound_low 0 --bound_high 0.05 -o HaploidStacks -i 567\n",
      "ustacks -t fastq -f CombinedRere/PBIRD13X108H_0081_comb.fq -r -M 4  --model_type bounded --bound_low 0 --bound_high 0.05 -o HaploidStacks -i 513\n",
      "ustacks -t fastq -f CombinedRere/PBIRD13X108H_0082_comb.fq -r -M 4  --model_type bounded --bound_low 0 --bound_high 0.05 -o HaploidStacks -i 551\n",
      "ustacks -t fastq -f CombinedRere/PBIRD13X108H_0083_comb.fq -r -M 4  --model_type bounded --bound_low 0 --bound_high 0.05 -o HaploidStacks -i 553\n",
      "ustacks -t fastq -f CombinedRere/PBIRD13X108H_0085_comb.fq -r -M 4  --model_type bounded --bound_low 0 --bound_high 0.05 -o HaploidStacks -i 511\n",
      "ustacks -t fastq -f CombinedRere/PBIRD13X108H_0088_comb.fq -r -M 4  --model_type bounded --bound_low 0 --bound_high 0.05 -o HaploidStacks -i 458\n",
      "ustacks -t fastq -f CombinedRere/PBIRD13X108H_0091_comb.fq -r -M 4  --model_type bounded --bound_low 0 --bound_high 0.05 -o HaploidStacks -i 487\n",
      "ustacks -t fastq -f CombinedRere/PBIRD13X108H_0093_comb.fq -r -M 4  --model_type bounded --bound_low 0 --bound_high 0.05 -o HaploidStacks -i 537\n",
      "ustacks -t fastq -f CombinedRere/PBIRD13X108H_0094_comb.fq -r -M 4  --model_type bounded --bound_low 0 --bound_high 0.05 -o HaploidStacks -i 466\n",
      "ustacks -t fastq -f CombinedRere/PBIRD13X108H_0095_comb.fq -r -M 4  --model_type bounded --bound_low 0 --bound_high 0.05 -o HaploidStacks -i 519\n",
      "ustacks -t fastq -f CombinedRere/PBIRD13X110H_0004_comb.fq -r -M 4  --model_type bounded --bound_low 0 --bound_high 0.05 -o HaploidStacks -i 568\n",
      "ustacks -t fastq -f CombinedRere/PBIRD13X110H_0005_comb.fq -r -M 4  --model_type bounded --bound_low 0 --bound_high 0.05 -o HaploidStacks -i 569\n",
      "ustacks -t fastq -f CombinedRere/PBIRD13X110H_0007_comb.fq -r -M 4  --model_type bounded --bound_low 0 --bound_high 0.05 -o HaploidStacks -i 540\n",
      "ustacks -t fastq -f CombinedRere/PBIRD13X110H_0009_comb.fq -r -M 4  --model_type bounded --bound_low 0 --bound_high 0.05 -o HaploidStacks -i 526\n",
      "ustacks -t fastq -f CombinedRere/PBIRD13X110H_0018_comb.fq -r -M 4  --model_type bounded --bound_low 0 --bound_high 0.05 -o HaploidStacks -i 412\n",
      "ustacks -t fastq -f CombinedRere/PBIRD13X110H_0020_comb.fq -r -M 4  --model_type bounded --bound_low 0 --bound_high 0.05 -o HaploidStacks -i 578\n",
      "ustacks -t fastq -f CombinedRere/PBIRD13X110H_0021_comb.fq -r -M 4  --model_type bounded --bound_low 0 --bound_high 0.05 -o HaploidStacks -i 446\n",
      "ustacks -t fastq -f CombinedRere/PBIRD13X110H_0028_comb.fq -r -M 4  --model_type bounded --bound_low 0 --bound_high 0.05 -o HaploidStacks -i 570\n",
      "ustacks -t fastq -f CombinedRere/PBIRD13X110H_0029_comb.fq -r -M 4  --model_type bounded --bound_low 0 --bound_high 0.05 -o HaploidStacks -i 411\n",
      "ustacks -t fastq -f CombinedRere/PBIRD13X110H_0031_comb.fq -r -M 4  --model_type bounded --bound_low 0 --bound_high 0.05 -o HaploidStacks -i 516\n",
      "ustacks -t fastq -f CombinedRere/PBIRD13X110H_0032_comb.fq -r -M 4  --model_type bounded --bound_low 0 --bound_high 0.05 -o HaploidStacks -i 486\n",
      "ustacks -t fastq -f CombinedRere/PBIRD13X110H_0033_comb.fq -r -M 4  --model_type bounded --bound_low 0 --bound_high 0.05 -o HaploidStacks -i 402\n",
      "ustacks -t fastq -f CombinedRere/PBIRD13X110H_0037_comb.fq -r -M 4  --model_type bounded --bound_low 0 --bound_high 0.05 -o HaploidStacks -i 515\n",
      "ustacks -t fastq -f CombinedRere/PBIRD13X110H_0041_comb.fq -r -M 4  --model_type bounded --bound_low 0 --bound_high 0.05 -o HaploidStacks -i 525\n",
      "ustacks -t fastq -f CombinedRere/PBIRD13X110H_0042_comb.fq -r -M 4  --model_type bounded --bound_low 0 --bound_high 0.05 -o HaploidStacks -i 474\n",
      "ustacks -t fastq -f CombinedRere/PBIRD13X110H_0044_comb.fq -r -M 4  --model_type bounded --bound_low 0 --bound_high 0.05 -o HaploidStacks -i 506\n",
      "ustacks -t fastq -f CombinedRere/PBIRD13X110H_0045_comb.fq -r -M 4  --model_type bounded --bound_low 0 --bound_high 0.05 -o HaploidStacks -i 523\n",
      "ustacks -t fastq -f CombinedRere/PBIRD13X110H_0046_comb.fq -r -M 4  --model_type bounded --bound_low 0 --bound_high 0.05 -o HaploidStacks -i 422\n",
      "ustacks -t fastq -f CombinedRere/PBIRD13X110H_0050_comb.fq -r -M 4  --model_type bounded --bound_low 0 --bound_high 0.05 -o HaploidStacks -i 495\n",
      "ustacks -t fastq -f CombinedRere/PBIRD13X110H_0053_comb.fq -r -M 4  --model_type bounded --bound_low 0 --bound_high 0.05 -o HaploidStacks -i 445\n",
      "ustacks -t fastq -f CombinedRere/PBIRD13X110H_0054_comb.fq -r -M 4  --model_type bounded --bound_low 0 --bound_high 0.05 -o HaploidStacks -i 463\n",
      "ustacks -t fastq -f CombinedRere/PBIRD13X110H_0055_comb.fq -r -M 4  --model_type bounded --bound_low 0 --bound_high 0.05 -o HaploidStacks -i 455\n",
      "ustacks -t fastq -f CombinedRere/PBIRD13X110H_0056_comb.fq -r -M 4  --model_type bounded --bound_low 0 --bound_high 0.05 -o HaploidStacks -i 400\n",
      "ustacks -t fastq -f CombinedRere/PBIRD13X110H_0062_comb.fq -r -M 4  --model_type bounded --bound_low 0 --bound_high 0.05 -o HaploidStacks -i 409\n",
      "ustacks -t fastq -f CombinedRere/PBIRD13X110H_0063_comb.fq -r -M 4  --model_type bounded --bound_low 0 --bound_high 0.05 -o HaploidStacks -i 435\n",
      "ustacks -t fastq -f CombinedRere/PBIRD13X110H_0064_comb.fq -r -M 4  --model_type bounded --bound_low 0 --bound_high 0.05 -o HaploidStacks -i 547\n",
      "ustacks -t fastq -f CombinedRere/PBIRD13X110H_0066_comb.fq -r -M 4  --model_type bounded --bound_low 0 --bound_high 0.05 -o HaploidStacks -i 428\n",
      "ustacks -t fastq -f CombinedRere/PBIRD13X110H_0067_comb.fq -r -M 4  --model_type bounded --bound_low 0 --bound_high 0.05 -o HaploidStacks -i 464\n",
      "ustacks -t fastq -f CombinedRere/PBIRD13X110H_0069_comb.fq -r -M 4  --model_type bounded --bound_low 0 --bound_high 0.05 -o HaploidStacks -i 410\n",
      "ustacks -t fastq -f CombinedRere/PBIRD13X110H_0075_comb.fq -r -M 4  --model_type bounded --bound_low 0 --bound_high 0.05 -o HaploidStacks -i 572\n",
      "ustacks -t fastq -f CombinedRere/PBIRD13X110H_0077_comb.fq -r -M 4  --model_type bounded --bound_low 0 --bound_high 0.05 -o HaploidStacks -i 484\n",
      "ustacks -t fastq -f CombinedRere/PBIRD13X110H_0078_comb.fq -r -M 4  --model_type bounded --bound_low 0 --bound_high 0.05 -o HaploidStacks -i 588\n",
      "ustacks -t fastq -f CombinedRere/PBIRD13X110H_0080_comb.fq -r -M 4  --model_type bounded --bound_low 0 --bound_high 0.05 -o HaploidStacks -i 549\n",
      "ustacks -t fastq -f CombinedRere/PBIRD13X110H_0083_comb.fq -r -M 4  --model_type bounded --bound_low 0 --bound_high 0.05 -o HaploidStacks -i 404\n",
      "ustacks -t fastq -f CombinedRere/PBIRD13X110H_0087_comb.fq -r -M 4  --model_type bounded --bound_low 0 --bound_high 0.05 -o HaploidStacks -i 546\n",
      "ustacks -t fastq -f CombinedRere/PBIRD13X110H_0088_comb.fq -r -M 4  --model_type bounded --bound_low 0 --bound_high 0.05 -o HaploidStacks -i 552\n",
      "ustacks -t fastq -f CombinedRere/PBIRD13X110H_0089_comb.fq -r -M 4  --model_type bounded --bound_low 0 --bound_high 0.05 -o HaploidStacks -i 573\n",
      "ustacks -t fastq -f CombinedRere/PBIRD13X110H_0091_comb.fq -r -M 4  --model_type bounded --bound_low 0 --bound_high 0.05 -o HaploidStacks -i 421\n",
      "ustacks -t fastq -f CombinedRere/PBIRD13X110H_0093_comb.fq -r -M 4  --model_type bounded --bound_low 0 --bound_high 0.05 -o HaploidStacks -i 534\n",
      "ustacks -t fastq -f CombinedRere/PBIRD13X110H_0095_comb.fq -r -M 4  --model_type bounded --bound_low 0 --bound_high 0.05 -o HaploidStacks -i 574\n",
      "ustacks -t fastq -f Combined/PH2/PBIRD13X_0110_comb.fq -r -M 4  --model_type bounded --bound_low 0 --bound_high 0.05 -o HaploidStacks -i 554\n",
      "ustacks -t fastq -f Combined/PH2/PBIRD13X102G_0003_comb.fq -r -M 4  --model_type bounded --bound_low 0 --bound_high 0.05 -o HaploidStacks -i 473\n",
      "ustacks -t fastq -f Combined/PH2/PBIRD13X102G_0011_comb.fq -r -M 4  --model_type bounded --bound_low 0 --bound_high 0.05 -o HaploidStacks -i 504\n",
      "ustacks -t fastq -f Combined/PH2/PBIRD13X102G_0015_comb.fq -r -M 4  --model_type bounded --bound_low 0 --bound_high 0.05 -o HaploidStacks -i 472\n",
      "ustacks -t fastq -f Combined/PH2/PBIRD13X108H_0007_comb.fq -r -M 4  --model_type bounded --bound_low 0 --bound_high 0.05 -o HaploidStacks -i 512\n",
      "ustacks -t fastq -f Combined/PH2/PBIRD13X108H_0019_comb.fq -r -M 4  --model_type bounded --bound_low 0 --bound_high 0.05 -o HaploidStacks -i 478\n",
      "ustacks -t fastq -f Combined/PH2/PBIRD13X108H_0022_comb.fq -r -M 4  --model_type bounded --bound_low 0 --bound_high 0.05 -o HaploidStacks -i 542\n",
      "ustacks -t fastq -f Combined/PH2/PBIRD13X108H_0023_comb.fq -r -M 4  --model_type bounded --bound_low 0 --bound_high 0.05 -o HaploidStacks -i 498\n",
      "ustacks -t fastq -f Combined/PH2/PBIRD13X108H_0029_comb.fq -r -M 4  --model_type bounded --bound_low 0 --bound_high 0.05 -o HaploidStacks -i 480\n",
      "ustacks -t fastq -f Combined/PH2/PBIRD13X108H_0032_comb.fq -r -M 4  --model_type bounded --bound_low 0 --bound_high 0.05 -o HaploidStacks -i 502\n",
      "ustacks -t fastq -f Combined/PH2/PBIRD13X108H_0035_comb.fq -r -M 4  --model_type bounded --bound_low 0 --bound_high 0.05 -o HaploidStacks -i 576\n",
      "ustacks -t fastq -f Combined/PH2/PBIRD13X108H_0038_comb.fq -r -M 4  --model_type bounded --bound_low 0 --bound_high 0.05 -o HaploidStacks -i 490\n",
      "ustacks -t fastq -f Combined/PH2/PBIRD13X108H_0041_comb.fq -r -M 4  --model_type bounded --bound_low 0 --bound_high 0.05 -o HaploidStacks -i 508\n",
      "ustacks -t fastq -f Combined/PH2/PBIRD13X108H_0045_comb.fq -r -M 4  --model_type bounded --bound_low 0 --bound_high 0.05 -o HaploidStacks -i 500\n",
      "ustacks -t fastq -f Combined/PH2/PBIRD13X108H_0047_comb.fq -r -M 4  --model_type bounded --bound_low 0 --bound_high 0.05 -o HaploidStacks -i 520\n",
      "ustacks -t fastq -f Combined/PH2/PBIRD13X108H_0052_comb.fq -r -M 4  --model_type bounded --bound_low 0 --bound_high 0.05 -o HaploidStacks -i 489\n",
      "ustacks -t fastq -f Combined/PH2/PBIRD13X108H_0053_comb.fq -r -M 4  --model_type bounded --bound_low 0 --bound_high 0.05 -o HaploidStacks -i 497\n",
      "ustacks -t fastq -f Combined/PH2/PBIRD13X108H_0063_comb.fq -r -M 4  --model_type bounded --bound_low 0 --bound_high 0.05 -o HaploidStacks -i 533\n",
      "ustacks -t fastq -f Combined/PH2/PBIRD13X108H_0071_comb.fq -r -M 4  --model_type bounded --bound_low 0 --bound_high 0.05 -o HaploidStacks -i 503\n",
      "ustacks -t fastq -f Combined/PH2/PBIRD13X108H_0072_comb.fq -r -M 4  --model_type bounded --bound_low 0 --bound_high 0.05 -o HaploidStacks -i 539\n",
      "ustacks -t fastq -f Combined/PH2/PBIRD13X108H_0075_comb.fq -r -M 4  --model_type bounded --bound_low 0 --bound_high 0.05 -o HaploidStacks -i 522\n",
      "ustacks -t fastq -f Combined/PH2/PBIRD13X108H_0089_comb.fq -r -M 4  --model_type bounded --bound_low 0 --bound_high 0.05 -o HaploidStacks -i 541\n",
      "ustacks -t fastq -f Combined/PH2/PBIRD13X108H_0090_comb.fq -r -M 4  --model_type bounded --bound_low 0 --bound_high 0.05 -o HaploidStacks -i 501\n",
      "ustacks -t fastq -f Combined/PH2/PBIRD13X110H_0002_comb.fq -r -M 4  --model_type bounded --bound_low 0 --bound_high 0.05 -o HaploidStacks -i 577\n",
      "ustacks -t fastq -f Combined/PH2/PBIRD13X110H_0008_comb.fq -r -M 4  --model_type bounded --bound_low 0 --bound_high 0.05 -o HaploidStacks -i 492\n",
      "ustacks -t fastq -f Combined/PH2/PBIRD13X110H_0011_comb.fq -r -M 4  --model_type bounded --bound_low 0 --bound_high 0.05 -o HaploidStacks -i 517\n",
      "ustacks -t fastq -f Combined/PH2/PBIRD13X110H_0022_comb.fq -r -M 4  --model_type bounded --bound_low 0 --bound_high 0.05 -o HaploidStacks -i 485\n",
      "ustacks -t fastq -f Combined/PH2/PBIRD13X110H_0025_comb.fq -r -M 4  --model_type bounded --bound_low 0 --bound_high 0.05 -o HaploidStacks -i 579\n",
      "ustacks -t fastq -f Combined/PH2/PBIRD13X110H_0026_comb.fq -r -M 4  --model_type bounded --bound_low 0 --bound_high 0.05 -o HaploidStacks -i 580\n",
      "ustacks -t fastq -f Combined/PH2/PBIRD13X110H_0027_comb.fq -r -M 4  --model_type bounded --bound_low 0 --bound_high 0.05 -o HaploidStacks -i 530\n",
      "ustacks -t fastq -f Combined/PH2/PBIRD13X110H_0036_comb.fq -r -M 4  --model_type bounded --bound_low 0 --bound_high 0.05 -o HaploidStacks -i 581\n",
      "ustacks -t fastq -f Combined/PH2/PBIRD13X110H_0038_comb.fq -r -M 4  --model_type bounded --bound_low 0 --bound_high 0.05 -o HaploidStacks -i 550\n",
      "ustacks -t fastq -f Combined/PH2/PBIRD13X110H_0039_comb.fq -r -M 4  --model_type bounded --bound_low 0 --bound_high 0.05 -o HaploidStacks -i 521\n",
      "ustacks -t fastq -f Combined/PH2/PBIRD13X110H_0040_comb.fq -r -M 4  --model_type bounded --bound_low 0 --bound_high 0.05 -o HaploidStacks -i 532\n",
      "ustacks -t fastq -f Combined/PH2/PBIRD13X110H_0043_comb.fq -r -M 4  --model_type bounded --bound_low 0 --bound_high 0.05 -o HaploidStacks -i 582\n",
      "ustacks -t fastq -f Combined/PH2/PBIRD13X110H_0047_comb.fq -r -M 4  --model_type bounded --bound_low 0 --bound_high 0.05 -o HaploidStacks -i 583\n",
      "ustacks -t fastq -f Combined/PH2/PBIRD13X110H_0052_comb.fq -r -M 4  --model_type bounded --bound_low 0 --bound_high 0.05 -o HaploidStacks -i 488\n",
      "ustacks -t fastq -f Combined/PH2/PBIRD13X110H_0057_comb.fq -r -M 4  --model_type bounded --bound_low 0 --bound_high 0.05 -o HaploidStacks -i 510\n",
      "ustacks -t fastq -f Combined/PH2/PBIRD13X110H_0060_comb.fq -r -M 4  --model_type bounded --bound_low 0 --bound_high 0.05 -o HaploidStacks -i 584\n",
      "ustacks -t fastq -f Combined/PH2/PBIRD13X110H_0061_comb.fq -r -M 4  --model_type bounded --bound_low 0 --bound_high 0.05 -o HaploidStacks -i 585\n",
      "ustacks -t fastq -f Combined/PH2/PBIRD13X110H_0072_comb.fq -r -M 4  --model_type bounded --bound_low 0 --bound_high 0.05 -o HaploidStacks -i 586\n",
      "ustacks -t fastq -f Combined/PH2/PBIRD13X110H_0073_comb.fq -r -M 4  --model_type bounded --bound_low 0 --bound_high 0.05 -o HaploidStacks -i 587\n",
      "ustacks -t fastq -f Combined/PH2/PBIRD13X110H_0076_comb.fq -r -M 4  --model_type bounded --bound_low 0 --bound_high 0.05 -o HaploidStacks -i 491\n",
      "ustacks -t fastq -f Combined/PH2/PBIRD13X110H_0092_comb.fq -r -M 4  --model_type bounded --bound_low 0 --bound_high 0.05 -o HaploidStacks -i 529\n",
      "ustacks -t fastq -f Combinedold/PBIRD13X_0102_comb.fq -r -M 4  --model_type bounded --bound_low 0 --bound_high 0.05 -o HaploidStacks -i 471\n",
      "ustacks -t fastq -f Combinedold/PBIRD13X102G_0002_comb.fq -r -M 4  --model_type bounded --bound_low 0 --bound_high 0.05 -o HaploidStacks -i 419\n",
      "ustacks -t fastq -f Combinedold/PBIRD13X102G_0004_comb.fq -r -M 4  --model_type bounded --bound_low 0 --bound_high 0.05 -o HaploidStacks -i 427\n",
      "ustacks -t fastq -f Combinedold/PBIRD13X102G_0005_comb.fq -r -M 4  --model_type bounded --bound_low 0 --bound_high 0.05 -o HaploidStacks -i 444\n",
      "ustacks -t fastq -f Combinedold/PBIRD13X102G_0007_comb.fq -r -M 4  --model_type bounded --bound_low 0 --bound_high 0.05 -o HaploidStacks -i 420\n",
      "ustacks -t fastq -f Combinedold/PBIRD13X102G_0013_comb.fq -r -M 4  --model_type bounded --bound_low 0 --bound_high 0.05 -o HaploidStacks -i 408\n",
      "ustacks -t fastq -f Combinedold/PBIRD13X102G_0017_comb.fq -r -M 4  --model_type bounded --bound_low 0 --bound_high 0.05 -o HaploidStacks -i 398\n",
      "ustacks -t fastq -f Combinedold/PBIRD13X102G_0020_comb.fq -r -M 4  --model_type bounded --bound_low 0 --bound_high 0.05 -o HaploidStacks -i 399\n",
      "ustacks -t fastq -f Combinedold/PBIRD13X102G_0024_comb.fq -r -M 4  --model_type bounded --bound_low 0 --bound_high 0.05 -o HaploidStacks -i 453\n",
      "ustacks -t fastq -f Combinedold/PBIRD13X102G_0025_comb.fq -r -M 4  --model_type bounded --bound_low 0 --bound_high 0.05 -o HaploidStacks -i 397\n",
      "ustacks -t fastq -f Combinedold/PBIRD13X108H_0001_comb.fq -r -M 4  --model_type bounded --bound_low 0 --bound_high 0.05 -o HaploidStacks -i 447\n",
      "ustacks -t fastq -f Combinedold/PBIRD13X108H_0002_comb.fq -r -M 4  --model_type bounded --bound_low 0 --bound_high 0.05 -o HaploidStacks -i 424\n",
      "ustacks -t fastq -f Combinedold/PBIRD13X108H_0004_comb.fq -r -M 4  --model_type bounded --bound_low 0 --bound_high 0.05 -o HaploidStacks -i 449\n",
      "ustacks -t fastq -f Combinedold/PBIRD13X108H_0005_comb.fq -r -M 4  --model_type bounded --bound_low 0 --bound_high 0.05 -o HaploidStacks -i 403\n",
      "ustacks -t fastq -f Combinedold/PBIRD13X108H_0009_comb.fq -r -M 4  --model_type bounded --bound_low 0 --bound_high 0.05 -o HaploidStacks -i 431\n",
      "ustacks -t fastq -f Combinedold/PBIRD13X108H_0010_comb.fq -r -M 4  --model_type bounded --bound_low 0 --bound_high 0.05 -o HaploidStacks -i 405\n",
      "ustacks -t fastq -f Combinedold/PBIRD13X108H_0016_comb.fq -r -M 4  --model_type bounded --bound_low 0 --bound_high 0.05 -o HaploidStacks -i 406\n",
      "ustacks -t fastq -f Combinedold/PBIRD13X108H_0030_comb.fq -r -M 4  --model_type bounded --bound_low 0 --bound_high 0.05 -o HaploidStacks -i 461\n",
      "ustacks -t fastq -f Combinedold/PBIRD13X108H_0034_comb.fq -r -M 4  --model_type bounded --bound_low 0 --bound_high 0.05 -o HaploidStacks -i 434\n",
      "ustacks -t fastq -f Combinedold/PBIRD13X108H_0037_comb.fq -r -M 4  --model_type bounded --bound_low 0 --bound_high 0.05 -o HaploidStacks -i 417\n",
      "ustacks -t fastq -f Combinedold/PBIRD13X108H_0039_comb.fq -r -M 4  --model_type bounded --bound_low 0 --bound_high 0.05 -o HaploidStacks -i 430\n",
      "ustacks -t fastq -f Combinedold/PBIRD13X108H_0040_comb.fq -r -M 4  --model_type bounded --bound_low 0 --bound_high 0.05 -o HaploidStacks -i 467\n",
      "ustacks -t fastq -f Combinedold/PBIRD13X108H_0046_comb.fq -r -M 4  --model_type bounded --bound_low 0 --bound_high 0.05 -o HaploidStacks -i 426\n",
      "ustacks -t fastq -f Combinedold/PBIRD13X108H_0049_comb.fq -r -M 4  --model_type bounded --bound_low 0 --bound_high 0.05 -o HaploidStacks -i 418\n",
      "ustacks -t fastq -f Combinedold/PBIRD13X108H_0050_comb.fq -r -M 4  --model_type bounded --bound_low 0 --bound_high 0.05 -o HaploidStacks -i 451\n",
      "ustacks -t fastq -f Combinedold/PBIRD13X108H_0056_comb.fq -r -M 4  --model_type bounded --bound_low 0 --bound_high 0.05 -o HaploidStacks -i 440\n",
      "ustacks -t fastq -f Combinedold/PBIRD13X108H_0070_comb.fq -r -M 4  --model_type bounded --bound_low 0 --bound_high 0.05 -o HaploidStacks -i 460\n",
      "ustacks -t fastq -f Combinedold/PBIRD13X108H_0077_comb.fq -r -M 4  --model_type bounded --bound_low 0 --bound_high 0.05 -o HaploidStacks -i 452\n",
      "ustacks -t fastq -f Combinedold/PBIRD13X108H_0086_comb.fq -r -M 4  --model_type bounded --bound_low 0 --bound_high 0.05 -o HaploidStacks -i 432\n",
      "ustacks -t fastq -f Combinedold/PBIRD13X108H_0087_comb.fq -r -M 4  --model_type bounded --bound_low 0 --bound_high 0.05 -o HaploidStacks -i 423\n",
      "ustacks -t fastq -f Combinedold/PBIRD13X108H_0092_comb.fq -r -M 4  --model_type bounded --bound_low 0 --bound_high 0.05 -o HaploidStacks -i 425\n",
      "ustacks -t fastq -f Combinedold/PBIRD13X110H_0006_comb.fq -r -M 4  --model_type bounded --bound_low 0 --bound_high 0.05 -o HaploidStacks -i 465\n",
      "ustacks -t fastq -f Combinedold/PBIRD13X110H_0010_comb.fq -r -M 4  --model_type bounded --bound_low 0 --bound_high 0.05 -o HaploidStacks -i 407\n",
      "ustacks -t fastq -f Combinedold/PBIRD13X110H_0012_comb.fq -r -M 4  --model_type bounded --bound_low 0 --bound_high 0.05 -o HaploidStacks -i 468\n",
      "ustacks -t fastq -f Combinedold/PBIRD13X110H_0013_comb.fq -r -M 4  --model_type bounded --bound_low 0 --bound_high 0.05 -o HaploidStacks -i 438\n",
      "ustacks -t fastq -f Combinedold/PBIRD13X110H_0016_comb.fq -r -M 4  --model_type bounded --bound_low 0 --bound_high 0.05 -o HaploidStacks -i 429\n",
      "ustacks -t fastq -f Combinedold/PBIRD13X110H_0017_comb.fq -r -M 4  --model_type bounded --bound_low 0 --bound_high 0.05 -o HaploidStacks -i 469\n",
      "ustacks -t fastq -f Combinedold/PBIRD13X110H_0048_comb.fq -r -M 4  --model_type bounded --bound_low 0 --bound_high 0.05 -o HaploidStacks -i 443\n",
      "ustacks -t fastq -f Combinedold/PBIRD13X110H_0049_comb.fq -r -M 4  --model_type bounded --bound_low 0 --bound_high 0.05 -o HaploidStacks -i 433\n",
      "ustacks -t fastq -f Combinedold/PBIRD13X110H_0051_comb.fq -r -M 4  --model_type bounded --bound_low 0 --bound_high 0.05 -o HaploidStacks -i 442\n",
      "ustacks -t fastq -f Combinedold/PBIRD13X110H_0059_comb.fq -r -M 4  --model_type bounded --bound_low 0 --bound_high 0.05 -o HaploidStacks -i 470\n",
      "ustacks -t fastq -f Combinedold/PBIRD13X110H_0065_comb.fq -r -M 4  --model_type bounded --bound_low 0 --bound_high 0.05 -o HaploidStacks -i 439\n",
      "ustacks -t fastq -f Combinedold/PBIRD13X110H_0070_comb.fq -r -M 4  --model_type bounded --bound_low 0 --bound_high 0.05 -o HaploidStacks -i 454\n",
      "ustacks -t fastq -f Combinedold/PBIRD13X110H_0071_comb.fq -r -M 4  --model_type bounded --bound_low 0 --bound_high 0.05 -o HaploidStacks -i 459\n",
      "ustacks -t fastq -f Combinedold/PBIRD13X110H_0079_comb.fq -r -M 4  --model_type bounded --bound_low 0 --bound_high 0.05 -o HaploidStacks -i 450\n",
      "ustacks -t fastq -f Combinedold/PBIRD13X110H_0082_comb.fq -r -M 4  --model_type bounded --bound_low 0 --bound_high 0.05 -o HaploidStacks -i 441\n",
      "ustacks -t fastq -f Combinedold/PBIRD13X110H_0084_comb.fq -r -M 4  --model_type bounded --bound_low 0 --bound_high 0.05 -o HaploidStacks -i 416\n",
      "ustacks -t fastq -f Combinedold/PBIRD13X110H_0085_comb.fq -r -M 4  --model_type bounded --bound_low 0 --bound_high 0.05 -o HaploidStacks -i 456\n",
      "ustacks -t fastq -f Combinedold/PBIRD13X110H_0086_comb.fq -r -M 4  --model_type bounded --bound_low 0 --bound_high 0.05 -o HaploidStacks -i 457\n",
      "ustacks -t fastq -f Combinedold/PBIRD13X110H_0094_comb.fq -r -M 4  --model_type bounded --bound_low 0 --bound_high 0.05 -o HaploidStacks -i 415\n",
      "ustacks -t fastq -f First_Runs/PH1/PBIRD13X108H_0018.fq -r -M 4  --model_type bounded --bound_low 0 --bound_high 0.05 -o HaploidStacks -i 559\n",
      "ustacks -t fastq -f First_Runs/PH1/PBIRD13X108H_0033.fq -r -M 4  --model_type bounded --bound_low 0 --bound_high 0.05 -o HaploidStacks -i 562\n",
      "ustacks -t fastq -f First_Runs/PH1/PBIRD13X108H_0057.fq -r -M 4  --model_type bounded --bound_low 0 --bound_high 0.05 -o HaploidStacks -i 564\n",
      "ustacks -t fastq -f First_Runs/PH1/PBIRD13X108H_0078.fq -r -M 4  --model_type bounded --bound_low 0 --bound_high 0.05 -o HaploidStacks -i 566\n",
      "ustacks -t fastq -f First_Runs/PH1/PBIRD13X110H_0058.fq -r -M 4  --model_type bounded --bound_low 0 --bound_high 0.05 -o HaploidStacks -i 571\n",
      "ustacks -t fastq -f First_Runs/PH1/PBIRD13X110H_0096.fq -r -M 4  --model_type bounded --bound_low 0 --bound_high 0.05 -o HaploidStacks -i 575"
     ],
     "language": "python",
     "metadata": {},
     "outputs": []
    },
    {
     "cell_type": "markdown",
     "metadata": {},
     "source": [
      "###2011 Haploid samples\n",
      "Because the 2013 samples were rerun through ustacks with new parameters- the -M of 4, the old haploids also have to be run through ustacks and sstacks to be genotyped. "
     ]
    },
    {
     "cell_type": "code",
     "collapsed": false,
     "input": [
      "#2011Haps_ustacks_sstacks.sh\n",
      "\n",
      "#July 2 2015\n",
      "##run all the old 2011 haploid samples through stacks, because even though the samples havent changed at all I changed the way that I ran ustacks for the other haploids and these have to match. \n",
      "#these have a -M of 4, Maximum distance (in nucleotides) allowed between stacks (default 2). Ryan and Wes use this as a way to better identify duplicated loci. Im not sure how. \n",
      "\n",
      "ustacks -t fastq -f  Data_Inventory/Haploids/old_map/PHOOD11X_0001.fq -r -M 4 --model_type bounded --bound_low 0 --bound_high 0.05 -o Mapping/2011Haps -i 589\n",
      "ustacks -t fastq -f  Data_Inventory/Haploids/old_map/PHOOD11X_0005.fq -r -M 4 --model_type bounded --bound_low 0 --bound_high 0.05 -o Mapping/2011Haps -i 590\n",
      "ustacks -t fastq -f  Data_Inventory/Haploids/old_map/PHOOD11X01H_0001.fq -r -M 4 --model_type bounded --bound_low 0 --bound_high 0.05 -o Mapping/2011Haps -i 593\n",
      "ustacks -t fastq -f  Data_Inventory/Haploids/old_map/PHOOD11X01H_0002.fq -r -M 4 --model_type bounded --bound_low 0 --bound_high 0.05 -o Mapping/2011Haps -i 594\n",
      "ustacks -t fastq -f  Data_Inventory/Haploids/old_map/PHOOD11X01H_0003.fq -r -M 4 --model_type bounded --bound_low 0 --bound_high 0.05 -o Mapping/2011Haps -i 595\n",
      "ustacks -t fastq -f  Data_Inventory/Haploids/old_map/PHOOD11X01H_0004.fq -r -M 4 --model_type bounded --bound_low 0 --bound_high 0.05 -o Mapping/2011Haps -i 596\n",
      "ustacks -t fastq -f  Data_Inventory/Haploids/old_map/PHOOD11X01H_0005.fq -r -M 4 --model_type bounded --bound_low 0 --bound_high 0.05 -o Mapping/2011Haps -i 597\n",
      "ustacks -t fastq -f  Data_Inventory/Haploids/old_map/PHOOD11X01H_0006.fq -r -M 4 --model_type bounded --bound_low 0 --bound_high 0.05 -o Mapping/2011Haps -i 598\n",
      "ustacks -t fastq -f  Data_Inventory/Haploids/old_map/PHOOD11X01H_0007.fq -r -M 4 --model_type bounded --bound_low 0 --bound_high 0.05 -o Mapping/2011Haps -i 599\n",
      "ustacks -t fastq -f  Data_Inventory/Haploids/old_map/PHOOD11X01H_0008.fq -r -M 4 --model_type bounded --bound_low 0 --bound_high 0.05 -o Mapping/2011Haps -i 600\n",
      "ustacks -t fastq -f  Data_Inventory/Haploids/old_map/PHOOD11X01H_0009.fq -r -M 4 --model_type bounded --bound_low 0 --bound_high 0.05 -o Mapping/2011Haps -i 601\n",
      "ustacks -t fastq -f  Data_Inventory/Haploids/old_map/PHOOD11X01H_0010.fq -r -M 4 --model_type bounded --bound_low 0 --bound_high 0.05 -o Mapping/2011Haps -i 602\n",
      "ustacks -t fastq -f  Data_Inventory/Haploids/old_map/PHOOD11X01H_0011.fq -r -M 4 --model_type bounded --bound_low 0 --bound_high 0.05 -o Mapping/2011Haps -i 603\n",
      "ustacks -t fastq -f  Data_Inventory/Haploids/old_map/PHOOD11X01H_0012.fq -r -M 4 --model_type bounded --bound_low 0 --bound_high 0.05 -o Mapping/2011Haps -i 604\n",
      "ustacks -t fastq -f  Data_Inventory/Haploids/old_map/PHOOD11X01H_0013.fq -r -M 4 --model_type bounded --bound_low 0 --bound_high 0.05 -o Mapping/2011Haps -i 605\n",
      "ustacks -t fastq -f  Data_Inventory/Haploids/old_map/PHOOD11X01H_0014.fq -r -M 4 --model_type bounded --bound_low 0 --bound_high 0.05 -o Mapping/2011Haps -i 606\n",
      "ustacks -t fastq -f  Data_Inventory/Haploids/old_map/PHOOD11X01H_0015.fq -r -M 4 --model_type bounded --bound_low 0 --bound_high 0.05 -o Mapping/2011Haps -i 607\n",
      "ustacks -t fastq -f  Data_Inventory/Haploids/old_map/PHOOD11X01H_0016.fq -r -M 4 --model_type bounded --bound_low 0 --bound_high 0.05 -o Mapping/2011Haps -i 608\n",
      "ustacks -t fastq -f  Data_Inventory/Haploids/old_map/PHOOD11X01H_0017.fq -r -M 4 --model_type bounded --bound_low 0 --bound_high 0.05 -o Mapping/2011Haps -i 609\n",
      "ustacks -t fastq -f  Data_Inventory/Haploids/old_map/PHOOD11X01H_0018.fq -r -M 4 --model_type bounded --bound_low 0 --bound_high 0.05 -o Mapping/2011Haps -i 610\n",
      "ustacks -t fastq -f  Data_Inventory/Haploids/old_map/PHOOD11X01H_0019.fq -r -M 4 --model_type bounded --bound_low 0 --bound_high 0.05 -o Mapping/2011Haps -i 611\n",
      "ustacks -t fastq -f  Data_Inventory/Haploids/old_map/PHOOD11X01H_0020.fq -r -M 4 --model_type bounded --bound_low 0 --bound_high 0.05 -o Mapping/2011Haps -i 612\n",
      "ustacks -t fastq -f  Data_Inventory/Haploids/old_map/PHOOD11X01H_0021.fq -r -M 4 --model_type bounded --bound_low 0 --bound_high 0.05 -o Mapping/2011Haps -i 613\n",
      "ustacks -t fastq -f  Data_Inventory/Haploids/old_map/PHOOD11X01H_0022.fq -r -M 4 --model_type bounded --bound_low 0 --bound_high 0.05 -o Mapping/2011Haps -i 614\n",
      "ustacks -t fastq -f  Data_Inventory/Haploids/old_map/PHOOD11X01H_0023.fq -r -M 4 --model_type bounded --bound_low 0 --bound_high 0.05 -o Mapping/2011Haps -i 615\n",
      "ustacks -t fastq -f  Data_Inventory/Haploids/old_map/PHOOD11X01H_0024.fq -r -M 4 --model_type bounded --bound_low 0 --bound_high 0.05 -o Mapping/2011Haps -i 616\n",
      "ustacks -t fastq -f  Data_Inventory/Haploids/old_map/PHOOD11X01H_0025.fq -r -M 4 --model_type bounded --bound_low 0 --bound_high 0.05 -o Mapping/2011Haps -i 617\n",
      "ustacks -t fastq -f  Data_Inventory/Haploids/old_map/PHOOD11X01H_0026.fq -r -M 4 --model_type bounded --bound_low 0 --bound_high 0.05 -o Mapping/2011Haps -i 618\n",
      "ustacks -t fastq -f  Data_Inventory/Haploids/old_map/PHOOD11X01H_0027.fq -r -M 4 --model_type bounded --bound_low 0 --bound_high 0.05 -o Mapping/2011Haps -i 619\n",
      "ustacks -t fastq -f  Data_Inventory/Haploids/old_map/PHOOD11X01H_0028.fq -r -M 4 --model_type bounded --bound_low 0 --bound_high 0.05 -o Mapping/2011Haps -i 620\n",
      "ustacks -t fastq -f  Data_Inventory/Haploids/old_map/PHOOD11X01H_0029.fq -r -M 4 --model_type bounded --bound_low 0 --bound_high 0.05 -o Mapping/2011Haps -i 621\n",
      "ustacks -t fastq -f  Data_Inventory/Haploids/old_map/PHOOD11X01H_0030.fq -r -M 4 --model_type bounded --bound_low 0 --bound_high 0.05 -o Mapping/2011Haps -i 622\n",
      "ustacks -t fastq -f  Data_Inventory/Haploids/old_map/PHOOD11X01H_0032.fq -r -M 4 --model_type bounded --bound_low 0 --bound_high 0.05 -o Mapping/2011Haps -i 623\n",
      "ustacks -t fastq -f  Data_Inventory/Haploids/old_map/PHOOD11X01H_0033.fq -r -M 4 --model_type bounded --bound_low 0 --bound_high 0.05 -o Mapping/2011Haps -i 624\n",
      "ustacks -t fastq -f  Data_Inventory/Haploids/old_map/PHOOD11X01H_0034.fq -r -M 4 --model_type bounded --bound_low 0 --bound_high 0.05 -o Mapping/2011Haps -i 625\n",
      "ustacks -t fastq -f  Data_Inventory/Haploids/old_map/PHOOD11X01H_0035.fq -r -M 4 --model_type bounded --bound_low 0 --bound_high 0.05 -o Mapping/2011Haps -i 626\n",
      "ustacks -t fastq -f  Data_Inventory/Haploids/old_map/PHOOD11X01H_0036.fq -r -M 4 --model_type bounded --bound_low 0 --bound_high 0.05 -o Mapping/2011Haps -i 627\n",
      "ustacks -t fastq -f  Data_Inventory/Haploids/old_map/PHOOD11X01H_0038.fq -r -M 4 --model_type bounded --bound_low 0 --bound_high 0.05 -o Mapping/2011Haps -i 628\n",
      "ustacks -t fastq -f  Data_Inventory/Haploids/old_map/PHOOD11X01H_0039.fq -r -M 4 --model_type bounded --bound_low 0 --bound_high 0.05 -o Mapping/2011Haps -i 629\n",
      "ustacks -t fastq -f  Data_Inventory/Haploids/old_map/PHOOD11X01H_0040.fq -r -M 4 --model_type bounded --bound_low 0 --bound_high 0.05 -o Mapping/2011Haps -i 630\n",
      "ustacks -t fastq -f  Data_Inventory/Haploids/old_map/PHOOD11X01H_0041.fq -r -M 4 --model_type bounded --bound_low 0 --bound_high 0.05 -o Mapping/2011Haps -i 631\n",
      "ustacks -t fastq -f  Data_Inventory/Haploids/old_map/PHOOD11X01H_0042.fq -r -M 4 --model_type bounded --bound_low 0 --bound_high 0.05 -o Mapping/2011Haps -i 632\n",
      "ustacks -t fastq -f  Data_Inventory/Haploids/old_map/PHOOD11X01H_0043.fq -r -M 4 --model_type bounded --bound_low 0 --bound_high 0.05 -o Mapping/2011Haps -i 633\n",
      "ustacks -t fastq -f  Data_Inventory/Haploids/old_map/PHOOD11X01H_0044.fq -r -M 4 --model_type bounded --bound_low 0 --bound_high 0.05 -o Mapping/2011Haps -i 634\n",
      "ustacks -t fastq -f  Data_Inventory/Haploids/old_map/PHOOD11X01H_0045.fq -r -M 4 --model_type bounded --bound_low 0 --bound_high 0.05 -o Mapping/2011Haps -i 635\n",
      "ustacks -t fastq -f  Data_Inventory/Haploids/old_map/PHOOD11X01H_0046.fq -r -M 4 --model_type bounded --bound_low 0 --bound_high 0.05 -o Mapping/2011Haps -i 636\n",
      "ustacks -t fastq -f  Data_Inventory/Haploids/old_map/PHOOD11X01H_0047.fq -r -M 4 --model_type bounded --bound_low 0 --bound_high 0.05 -o Mapping/2011Haps -i 637\n",
      "ustacks -t fastq -f  Data_Inventory/Haploids/old_map/PHOOD11X01H_0048.fq -r -M 4 --model_type bounded --bound_low 0 --bound_high 0.05 -o Mapping/2011Haps -i 638\n",
      "ustacks -t fastq -f  Data_Inventory/Haploids/old_map/PHOOD11X01H_0049.fq -r -M 4 --model_type bounded --bound_low 0 --bound_high 0.05 -o Mapping/2011Haps -i 639\n",
      "ustacks -t fastq -f  Data_Inventory/Haploids/old_map/PHOOD11X01H_0050.fq -r -M 4 --model_type bounded --bound_low 0 --bound_high 0.05 -o Mapping/2011Haps -i 640\n",
      "ustacks -t fastq -f  Data_Inventory/Haploids/old_map/PHOOD11X01H_0051.fq -r -M 4 --model_type bounded --bound_low 0 --bound_high 0.05 -o Mapping/2011Haps -i 641\n",
      "ustacks -t fastq -f  Data_Inventory/Haploids/old_map/PHOOD11X01H_0052.fq -r -M 4 --model_type bounded --bound_low 0 --bound_high 0.05 -o Mapping/2011Haps -i 642\n",
      "ustacks -t fastq -f  Data_Inventory/Haploids/old_map/PHOOD11X01H_0053.fq -r -M 4 --model_type bounded --bound_low 0 --bound_high 0.05 -o Mapping/2011Haps -i 643\n",
      "ustacks -t fastq -f  Data_Inventory/Haploids/old_map/PHOOD11X01H_0054.fq -r -M 4 --model_type bounded --bound_low 0 --bound_high 0.05 -o Mapping/2011Haps -i 644\n",
      "ustacks -t fastq -f  Data_Inventory/Haploids/old_map/PHOOD11X01H_0055.fq -r -M 4 --model_type bounded --bound_low 0 --bound_high 0.05 -o Mapping/2011Haps -i 645\n",
      "ustacks -t fastq -f  Data_Inventory/Haploids/old_map/PHOOD11X01H_0056.fq -r -M 4 --model_type bounded --bound_low 0 --bound_high 0.05 -o Mapping/2011Haps -i 646\n",
      "ustacks -t fastq -f  Data_Inventory/Haploids/old_map/PHOOD11X01H_0057.fq -r -M 4 --model_type bounded --bound_low 0 --bound_high 0.05 -o Mapping/2011Haps -i 647\n",
      "ustacks -t fastq -f  Data_Inventory/Haploids/old_map/PHOOD11X01H_0058.fq -r -M 4 --model_type bounded --bound_low 0 --bound_high 0.05 -o Mapping/2011Haps -i 648\n",
      "ustacks -t fastq -f  Data_Inventory/Haploids/old_map/PHOOD11X01H_0059.fq -r -M 4 --model_type bounded --bound_low 0 --bound_high 0.05 -o Mapping/2011Haps -i 649\n",
      "ustacks -t fastq -f  Data_Inventory/Haploids/old_map/PHOOD11X01H_0060.fq -r -M 4 --model_type bounded --bound_low 0 --bound_high 0.05 -o Mapping/2011Haps -i 650\n",
      "ustacks -t fastq -f  Data_Inventory/Haploids/old_map/PHOOD11X01H_0061.fq -r -M 4 --model_type bounded --bound_low 0 --bound_high 0.05 -o Mapping/2011Haps -i 651\n",
      "ustacks -t fastq -f  Data_Inventory/Haploids/old_map/PHOOD11X01H_0062.fq -r -M 4 --model_type bounded --bound_low 0 --bound_high 0.05 -o Mapping/2011Haps -i 652\n",
      "ustacks -t fastq -f  Data_Inventory/Haploids/old_map/PHOOD11X01H_0063.fq -r -M 4 --model_type bounded --bound_low 0 --bound_high 0.05 -o Mapping/2011Haps -i 653\n",
      "ustacks -t fastq -f  Data_Inventory/Haploids/old_map/PHOOD11X01H_0064.fq -r -M 4 --model_type bounded --bound_low 0 --bound_high 0.05 -o Mapping/2011Haps -i 654\n",
      "ustacks -t fastq -f  Data_Inventory/Haploids/old_map/PHOOD11X01H_0065.fq -r -M 4 --model_type bounded --bound_low 0 --bound_high 0.05 -o Mapping/2011Haps -i 655\n",
      "ustacks -t fastq -f  Data_Inventory/Haploids/old_map/PHOOD11X01H_0066.fq -r -M 4 --model_type bounded --bound_low 0 --bound_high 0.05 -o Mapping/2011Haps -i 656\n",
      "ustacks -t fastq -f  Data_Inventory/Haploids/old_map/PHOOD11X01H_0067.fq -r -M 4 --model_type bounded --bound_low 0 --bound_high 0.05 -o Mapping/2011Haps -i 657\n",
      "ustacks -t fastq -f  Data_Inventory/Haploids/old_map/PHOOD11X01H_0068.fq -r -M 4 --model_type bounded --bound_low 0 --bound_high 0.05 -o Mapping/2011Haps -i 658\n",
      "ustacks -t fastq -f  Data_Inventory/Haploids/old_map/PHOOD11X01H_0069.fq -r -M 4 --model_type bounded --bound_low 0 --bound_high 0.05 -o Mapping/2011Haps -i 659\n",
      "ustacks -t fastq -f  Data_Inventory/Haploids/old_map/PHOOD11X01H_0070.fq -r -M 4 --model_type bounded --bound_low 0 --bound_high 0.05 -o Mapping/2011Haps -i 660\n",
      "ustacks -t fastq -f  Data_Inventory/Haploids/old_map/PHOOD11X01H_0071.fq -r -M 4 --model_type bounded --bound_low 0 --bound_high 0.05 -o Mapping/2011Haps -i 661\n",
      "ustacks -t fastq -f  Data_Inventory/Haploids/old_map/PHOOD11X01H_0072.fq -r -M 4 --model_type bounded --bound_low 0 --bound_high 0.05 -o Mapping/2011Haps -i 662\n",
      "ustacks -t fastq -f  Data_Inventory/Haploids/old_map/PHOOD11X01H_0073.fq -r -M 4 --model_type bounded --bound_low 0 --bound_high 0.05 -o Mapping/2011Haps -i 663\n",
      "ustacks -t fastq -f  Data_Inventory/Haploids/old_map/PHOOD11X01H_0074.fq -r -M 4 --model_type bounded --bound_low 0 --bound_high 0.05 -o Mapping/2011Haps -i 664\n",
      "ustacks -t fastq -f  Data_Inventory/Haploids/old_map/PHOOD11X01H_0075.fq -r -M 4 --model_type bounded --bound_low 0 --bound_high 0.05 -o Mapping/2011Haps -i 665\n",
      "ustacks -t fastq -f  Data_Inventory/Haploids/old_map/PHOOD11X01H_0076.fq -r -M 4 --model_type bounded --bound_low 0 --bound_high 0.05 -o Mapping/2011Haps -i 666\n",
      "ustacks -t fastq -f  Data_Inventory/Haploids/old_map/PHOOD11X01H_0077.fq -r -M 4 --model_type bounded --bound_low 0 --bound_high 0.05 -o Mapping/2011Haps -i 667\n",
      "ustacks -t fastq -f  Data_Inventory/Haploids/old_map/PHOOD11X01H_0078.fq -r -M 4 --model_type bounded --bound_low 0 --bound_high 0.05 -o Mapping/2011Haps -i 668\n",
      "ustacks -t fastq -f  Data_Inventory/Haploids/old_map/PHOOD11X01H_0079.fq -r -M 4 --model_type bounded --bound_low 0 --bound_high 0.05 -o Mapping/2011Haps -i 669\n",
      "ustacks -t fastq -f  Data_Inventory/Haploids/old_map/PHOOD11X01H_0080.fq -r -M 4 --model_type bounded --bound_low 0 --bound_high 0.05 -o Mapping/2011Haps -i 670\n",
      "ustacks -t fastq -f  Data_Inventory/Haploids/old_map/PHOOD11X01H_0081.fq -r -M 4 --model_type bounded --bound_low 0 --bound_high 0.05 -o Mapping/2011Haps -i 671\n",
      "ustacks -t fastq -f  Data_Inventory/Haploids/old_map/PHOOD11X01H_0082.fq -r -M 4 --model_type bounded --bound_low 0 --bound_high 0.05 -o Mapping/2011Haps -i 672\n",
      "ustacks -t fastq -f  Data_Inventory/Haploids/old_map/PHOOD11X01H_0083.fq -r -M 4 --model_type bounded --bound_low 0 --bound_high 0.05 -o Mapping/2011Haps -i 673\n",
      "ustacks -t fastq -f  Data_Inventory/Haploids/old_map/PHOOD11X01H_0084.fq -r -M 4 --model_type bounded --bound_low 0 --bound_high 0.05 -o Mapping/2011Haps -i 674\n",
      "ustacks -t fastq -f  Data_Inventory/Haploids/old_map/PHOOD11X01H_0085.fq -r -M 4 --model_type bounded --bound_low 0 --bound_high 0.05 -o Mapping/2011Haps -i 675\n",
      "ustacks -t fastq -f  Data_Inventory/Haploids/old_map/PHOOD11X01H_0086.fq -r -M 4 --model_type bounded --bound_low 0 --bound_high 0.05 -o Mapping/2011Haps -i 676\n",
      "ustacks -t fastq -f  Data_Inventory/Haploids/old_map/PHOOD11X01H_0087.fq -r -M 4 --model_type bounded --bound_low 0 --bound_high 0.05 -o Mapping/2011Haps -i 677\n",
      "ustacks -t fastq -f  Data_Inventory/Haploids/old_map/PHOOD11X01H_0088.fq -r -M 4 --model_type bounded --bound_low 0 --bound_high 0.05 -o Mapping/2011Haps -i 678\n",
      "ustacks -t fastq -f  Data_Inventory/Haploids/old_map/PHOOD11X01H_0089.fq -r -M 4 --model_type bounded --bound_low 0 --bound_high 0.05 -o Mapping/2011Haps -i 679\n",
      "ustacks -t fastq -f  Data_Inventory/Haploids/old_map/PHOOD11X01H_0090.fq -r -M 4 --model_type bounded --bound_low 0 --bound_high 0.05 -o Mapping/2011Haps -i 680\n",
      "ustacks -t fastq -f  Data_Inventory/Haploids/old_map/PHOOD11X01H_0091.fq -r -M 4 --model_type bounded --bound_low 0 --bound_high 0.05 -o Mapping/2011Haps -i 681\n",
      "ustacks -t fastq -f  Data_Inventory/Haploids/old_map/PHOOD11X01H_0092.fq -r -M 4 --model_type bounded --bound_low 0 --bound_high 0.05 -o Mapping/2011Haps -i 682\n",
      "ustacks -t fastq -f  Data_Inventory/Haploids/old_map/PHOOD11X01H_0093.fq -r -M 4 --model_type bounded --bound_low 0 --bound_high 0.05 -o Mapping/2011Haps -i 683\n",
      "ustacks -t fastq -f  Data_Inventory/Haploids/old_map/PHOOD11X01H_0094.fq -r -M 4 --model_type bounded --bound_low 0 --bound_high 0.05 -o Mapping/2011Haps -i 684\n",
      "ustacks -t fastq -f  Data_Inventory/Haploids/old_map/PHOOD11X01H_0095.fq -r -M 4 --model_type bounded --bound_low 0 --bound_high 0.05 -o Mapping/2011Haps -i 685\n",
      "ustacks -t fastq -f  Data_Inventory/Haploids/old_map/PHOOD11X05H_0001.fq -r -M 4 --model_type bounded --bound_low 0 --bound_high 0.05 -o Mapping/2011Haps -i 686\n",
      "ustacks -t fastq -f  Data_Inventory/Haploids/old_map/PHOOD11X05H_0002.fq -r -M 4 --model_type bounded --bound_low 0 --bound_high 0.05 -o Mapping/2011Haps -i 687\n",
      "ustacks -t fastq -f  Data_Inventory/Haploids/old_map/PHOOD11X05H_0003.fq -r -M 4 --model_type bounded --bound_low 0 --bound_high 0.05 -o Mapping/2011Haps -i 688\n",
      "ustacks -t fastq -f  Data_Inventory/Haploids/old_map/PHOOD11X05H_0004.fq -r -M 4 --model_type bounded --bound_low 0 --bound_high 0.05 -o Mapping/2011Haps -i 689\n",
      "ustacks -t fastq -f  Data_Inventory/Haploids/old_map/PHOOD11X05H_0005.fq -r -M 4 --model_type bounded --bound_low 0 --bound_high 0.05 -o Mapping/2011Haps -i 690\n",
      "ustacks -t fastq -f  Data_Inventory/Haploids/old_map/PHOOD11X05H_0006.fq -r -M 4 --model_type bounded --bound_low 0 --bound_high 0.05 -o Mapping/2011Haps -i 691\n",
      "ustacks -t fastq -f  Data_Inventory/Haploids/old_map/PHOOD11X05H_0007.fq -r -M 4 --model_type bounded --bound_low 0 --bound_high 0.05 -o Mapping/2011Haps -i 692\n",
      "ustacks -t fastq -f  Data_Inventory/Haploids/old_map/PHOOD11X05H_0008.fq -r -M 4 --model_type bounded --bound_low 0 --bound_high 0.05 -o Mapping/2011Haps -i 693\n",
      "ustacks -t fastq -f  Data_Inventory/Haploids/old_map/PHOOD11X05H_0009.fq -r -M 4 --model_type bounded --bound_low 0 --bound_high 0.05 -o Mapping/2011Haps -i 694\n",
      "ustacks -t fastq -f  Data_Inventory/Haploids/old_map/PHOOD11X05H_0010.fq -r -M 4 --model_type bounded --bound_low 0 --bound_high 0.05 -o Mapping/2011Haps -i 695\n",
      "ustacks -t fastq -f  Data_Inventory/Haploids/old_map/PHOOD11X05H_0011.fq -r -M 4 --model_type bounded --bound_low 0 --bound_high 0.05 -o Mapping/2011Haps -i 696\n",
      "ustacks -t fastq -f  Data_Inventory/Haploids/old_map/PHOOD11X05H_0012.fq -r -M 4 --model_type bounded --bound_low 0 --bound_high 0.05 -o Mapping/2011Haps -i 697\n",
      "ustacks -t fastq -f  Data_Inventory/Haploids/old_map/PHOOD11X05H_0013.fq -r -M 4 --model_type bounded --bound_low 0 --bound_high 0.05 -o Mapping/2011Haps -i 698\n",
      "ustacks -t fastq -f  Data_Inventory/Haploids/old_map/PHOOD11X05H_0014.fq -r -M 4 --model_type bounded --bound_low 0 --bound_high 0.05 -o Mapping/2011Haps -i 699\n",
      "ustacks -t fastq -f  Data_Inventory/Haploids/old_map/PHOOD11X05H_0015.fq -r -M 4 --model_type bounded --bound_low 0 --bound_high 0.05 -o Mapping/2011Haps -i 700\n",
      "ustacks -t fastq -f  Data_Inventory/Haploids/old_map/PHOOD11X05H_0016.fq -r -M 4 --model_type bounded --bound_low 0 --bound_high 0.05 -o Mapping/2011Haps -i 701\n",
      "ustacks -t fastq -f  Data_Inventory/Haploids/old_map/PHOOD11X05H_0017.fq -r -M 4 --model_type bounded --bound_low 0 --bound_high 0.05 -o Mapping/2011Haps -i 702\n",
      "ustacks -t fastq -f  Data_Inventory/Haploids/old_map/PHOOD11X05H_0018.fq -r -M 4 --model_type bounded --bound_low 0 --bound_high 0.05 -o Mapping/2011Haps -i 703\n",
      "ustacks -t fastq -f  Data_Inventory/Haploids/old_map/PHOOD11X05H_0019.fq -r -M 4 --model_type bounded --bound_low 0 --bound_high 0.05 -o Mapping/2011Haps -i 704\n",
      "ustacks -t fastq -f  Data_Inventory/Haploids/old_map/PHOOD11X05H_0020.fq -r -M 4 --model_type bounded --bound_low 0 --bound_high 0.05 -o Mapping/2011Haps -i 705\n",
      "ustacks -t fastq -f  Data_Inventory/Haploids/old_map/PHOOD11X05H_0021.fq -r -M 4 --model_type bounded --bound_low 0 --bound_high 0.05 -o Mapping/2011Haps -i 706\n",
      "ustacks -t fastq -f  Data_Inventory/Haploids/old_map/PHOOD11X05H_0022.fq -r -M 4 --model_type bounded --bound_low 0 --bound_high 0.05 -o Mapping/2011Haps -i 707\n",
      "ustacks -t fastq -f  Data_Inventory/Haploids/old_map/PHOOD11X05H_0023.fq -r -M 4 --model_type bounded --bound_low 0 --bound_high 0.05 -o Mapping/2011Haps -i 708\n",
      "ustacks -t fastq -f  Data_Inventory/Haploids/old_map/PHOOD11X05H_0024.fq -r -M 4 --model_type bounded --bound_low 0 --bound_high 0.05 -o Mapping/2011Haps -i 709\n",
      "ustacks -t fastq -f  Data_Inventory/Haploids/old_map/PHOOD11X05H_0025.fq -r -M 4 --model_type bounded --bound_low 0 --bound_high 0.05 -o Mapping/2011Haps -i 710\n",
      "ustacks -t fastq -f  Data_Inventory/Haploids/old_map/PHOOD11X05H_0026.fq -r -M 4 --model_type bounded --bound_low 0 --bound_high 0.05 -o Mapping/2011Haps -i 711\n",
      "ustacks -t fastq -f  Data_Inventory/Haploids/old_map/PHOOD11X05H_0027.fq -r -M 4 --model_type bounded --bound_low 0 --bound_high 0.05 -o Mapping/2011Haps -i 712\n",
      "ustacks -t fastq -f  Data_Inventory/Haploids/old_map/PHOOD11X05H_0028.fq -r -M 4 --model_type bounded --bound_low 0 --bound_high 0.05 -o Mapping/2011Haps -i 713\n",
      "ustacks -t fastq -f  Data_Inventory/Haploids/old_map/PHOOD11X05H_0029.fq -r -M 4 --model_type bounded --bound_low 0 --bound_high 0.05 -o Mapping/2011Haps -i 714\n",
      "ustacks -t fastq -f  Data_Inventory/Haploids/old_map/PHOOD11X05H_0030.fq -r -M 4 --model_type bounded --bound_low 0 --bound_high 0.05 -o Mapping/2011Haps -i 715\n",
      "ustacks -t fastq -f  Data_Inventory/Haploids/old_map/PHOOD11X05H_0031.fq -r -M 4 --model_type bounded --bound_low 0 --bound_high 0.05 -o Mapping/2011Haps -i 716\n",
      "ustacks -t fastq -f  Data_Inventory/Haploids/old_map/PHOOD11X05H_0032.fq -r -M 4 --model_type bounded --bound_low 0 --bound_high 0.05 -o Mapping/2011Haps -i 717\n",
      "ustacks -t fastq -f  Data_Inventory/Haploids/old_map/PHOOD11X05H_0033.fq -r -M 4 --model_type bounded --bound_low 0 --bound_high 0.05 -o Mapping/2011Haps -i 718\n",
      "ustacks -t fastq -f  Data_Inventory/Haploids/old_map/PHOOD11X05H_0034.fq -r -M 4 --model_type bounded --bound_low 0 --bound_high 0.05 -o Mapping/2011Haps -i 719\n",
      "ustacks -t fastq -f  Data_Inventory/Haploids/old_map/PHOOD11X05H_0035.fq -r -M 4 --model_type bounded --bound_low 0 --bound_high 0.05 -o Mapping/2011Haps -i 720\n",
      "ustacks -t fastq -f  Data_Inventory/Haploids/old_map/PHOOD11X05H_0036.fq -r -M 4 --model_type bounded --bound_low 0 --bound_high 0.05 -o Mapping/2011Haps -i 721\n",
      "ustacks -t fastq -f  Data_Inventory/Haploids/old_map/PHOOD11X05H_0037.fq -r -M 4 --model_type bounded --bound_low 0 --bound_high 0.05 -o Mapping/2011Haps -i 722\n",
      "ustacks -t fastq -f  Data_Inventory/Haploids/old_map/PHOOD11X05H_0038.fq -r -M 4 --model_type bounded --bound_low 0 --bound_high 0.05 -o Mapping/2011Haps -i 723\n",
      "ustacks -t fastq -f  Data_Inventory/Haploids/old_map/PHOOD11X05H_0039.fq -r -M 4 --model_type bounded --bound_low 0 --bound_high 0.05 -o Mapping/2011Haps -i 724\n",
      "ustacks -t fastq -f  Data_Inventory/Haploids/old_map/PHOOD11X05H_0040.fq -r -M 4 --model_type bounded --bound_low 0 --bound_high 0.05 -o Mapping/2011Haps -i 725\n",
      "ustacks -t fastq -f  Data_Inventory/Haploids/old_map/PHOOD11X05H_0041.fq -r -M 4 --model_type bounded --bound_low 0 --bound_high 0.05 -o Mapping/2011Haps -i 726\n",
      "ustacks -t fastq -f  Data_Inventory/Haploids/old_map/PHOOD11X05H_0042.fq -r -M 4 --model_type bounded --bound_low 0 --bound_high 0.05 -o Mapping/2011Haps -i 727\n",
      "ustacks -t fastq -f  Data_Inventory/Haploids/old_map/PHOOD11X05H_0044.fq -r -M 4 --model_type bounded --bound_low 0 --bound_high 0.05 -o Mapping/2011Haps -i 728\n",
      "ustacks -t fastq -f  Data_Inventory/Haploids/old_map/PHOOD11X05H_0045.fq -r -M 4 --model_type bounded --bound_low 0 --bound_high 0.05 -o Mapping/2011Haps -i 729\n",
      "ustacks -t fastq -f  Data_Inventory/Haploids/old_map/PHOOD11X05H_0046.fq -r -M 4 --model_type bounded --bound_low 0 --bound_high 0.05 -o Mapping/2011Haps -i 730\n",
      "ustacks -t fastq -f  Data_Inventory/Haploids/old_map/PHOOD11X05H_0047.fq -r -M 4 --model_type bounded --bound_low 0 --bound_high 0.05 -o Mapping/2011Haps -i 731\n",
      "ustacks -t fastq -f  Data_Inventory/Haploids/old_map/PHOOD11X05H_0048.fq -r -M 4 --model_type bounded --bound_low 0 --bound_high 0.05 -o Mapping/2011Haps -i 732\n",
      "ustacks -t fastq -f  Data_Inventory/Haploids/old_map/PHOOD11X05H_0049.fq -r -M 4 --model_type bounded --bound_low 0 --bound_high 0.05 -o Mapping/2011Haps -i 733\n",
      "ustacks -t fastq -f  Data_Inventory/Haploids/old_map/PHOOD11X05H_0050.fq -r -M 4 --model_type bounded --bound_low 0 --bound_high 0.05 -o Mapping/2011Haps -i 734\n",
      "ustacks -t fastq -f  Data_Inventory/Haploids/old_map/PHOOD11X05H_0051.fq -r -M 4 --model_type bounded --bound_low 0 --bound_high 0.05 -o Mapping/2011Haps -i 735\n",
      "ustacks -t fastq -f  Data_Inventory/Haploids/old_map/PHOOD11X05H_0052.fq -r -M 4 --model_type bounded --bound_low 0 --bound_high 0.05 -o Mapping/2011Haps -i 736\n",
      "ustacks -t fastq -f  Data_Inventory/Haploids/old_map/PHOOD11X05H_0053.fq -r -M 4 --model_type bounded --bound_low 0 --bound_high 0.05 -o Mapping/2011Haps -i 737\n",
      "ustacks -t fastq -f  Data_Inventory/Haploids/old_map/PHOOD11X05H_0054.fq -r -M 4 --model_type bounded --bound_low 0 --bound_high 0.05 -o Mapping/2011Haps -i 738\n",
      "ustacks -t fastq -f  Data_Inventory/Haploids/old_map/PHOOD11X05H_0055.fq -r -M 4 --model_type bounded --bound_low 0 --bound_high 0.05 -o Mapping/2011Haps -i 739\n",
      "ustacks -t fastq -f  Data_Inventory/Haploids/old_map/PHOOD11X05H_0056.fq -r -M 4 --model_type bounded --bound_low 0 --bound_high 0.05 -o Mapping/2011Haps -i 740\n",
      "ustacks -t fastq -f  Data_Inventory/Haploids/old_map/PHOOD11X05H_0057.fq -r -M 4 --model_type bounded --bound_low 0 --bound_high 0.05 -o Mapping/2011Haps -i 741\n",
      "ustacks -t fastq -f  Data_Inventory/Haploids/old_map/PHOOD11X05H_0058.fq -r -M 4 --model_type bounded --bound_low 0 --bound_high 0.05 -o Mapping/2011Haps -i 742\n",
      "ustacks -t fastq -f  Data_Inventory/Haploids/old_map/PHOOD11X05H_0059.fq -r -M 4 --model_type bounded --bound_low 0 --bound_high 0.05 -o Mapping/2011Haps -i 743\n",
      "ustacks -t fastq -f  Data_Inventory/Haploids/old_map/PHOOD11X05H_0060.fq -r -M 4 --model_type bounded --bound_low 0 --bound_high 0.05 -o Mapping/2011Haps -i 744\n",
      "ustacks -t fastq -f  Data_Inventory/Haploids/old_map/PHOOD11X05H_0061.fq -r -M 4 --model_type bounded --bound_low 0 --bound_high 0.05 -o Mapping/2011Haps -i 745\n",
      "ustacks -t fastq -f  Data_Inventory/Haploids/old_map/PHOOD11X05H_0062.fq -r -M 4 --model_type bounded --bound_low 0 --bound_high 0.05 -o Mapping/2011Haps -i 746\n",
      "ustacks -t fastq -f  Data_Inventory/Haploids/old_map/PHOOD11X05H_0063.fq -r -M 4 --model_type bounded --bound_low 0 --bound_high 0.05 -o Mapping/2011Haps -i 747\n",
      "ustacks -t fastq -f  Data_Inventory/Haploids/old_map/PHOOD11X05H_0064.fq -r -M 4 --model_type bounded --bound_low 0 --bound_high 0.05 -o Mapping/2011Haps -i 748\n",
      "ustacks -t fastq -f  Data_Inventory/Haploids/old_map/PHOOD11X05H_0065.fq -r -M 4 --model_type bounded --bound_low 0 --bound_high 0.05 -o Mapping/2011Haps -i 749\n",
      "ustacks -t fastq -f  Data_Inventory/Haploids/old_map/PHOOD11X05H_0066.fq -r -M 4 --model_type bounded --bound_low 0 --bound_high 0.05 -o Mapping/2011Haps -i 750\n",
      "ustacks -t fastq -f  Data_Inventory/Haploids/old_map/PHOOD11X05H_0067.fq -r -M 4 --model_type bounded --bound_low 0 --bound_high 0.05 -o Mapping/2011Haps -i 751\n",
      "ustacks -t fastq -f  Data_Inventory/Haploids/old_map/PHOOD11X05H_0068.fq -r -M 4 --model_type bounded --bound_low 0 --bound_high 0.05 -o Mapping/2011Haps -i 752\n",
      "ustacks -t fastq -f  Data_Inventory/Haploids/old_map/PHOOD11X05H_0069.fq -r -M 4 --model_type bounded --bound_low 0 --bound_high 0.05 -o Mapping/2011Haps -i 753\n",
      "ustacks -t fastq -f  Data_Inventory/Haploids/old_map/PHOOD11X05H_0070.fq -r -M 4 --model_type bounded --bound_low 0 --bound_high 0.05 -o Mapping/2011Haps -i 754\n",
      "ustacks -t fastq -f  Data_Inventory/Haploids/old_map/PHOOD11X05H_0071.fq -r -M 4 --model_type bounded --bound_low 0 --bound_high 0.05 -o Mapping/2011Haps -i 755\n",
      "ustacks -t fastq -f  Data_Inventory/Haploids/old_map/PHOOD11X05H_0072.fq -r -M 4 --model_type bounded --bound_low 0 --bound_high 0.05 -o Mapping/2011Haps -i 756\n",
      "ustacks -t fastq -f  Data_Inventory/Haploids/old_map/PHOOD11X05H_0073.fq -r -M 4 --model_type bounded --bound_low 0 --bound_high 0.05 -o Mapping/2011Haps -i 757\n",
      "ustacks -t fastq -f  Data_Inventory/Haploids/old_map/PHOOD11X05H_0074.fq -r -M 4 --model_type bounded --bound_low 0 --bound_high 0.05 -o Mapping/2011Haps -i 758\n",
      "ustacks -t fastq -f  Data_Inventory/Haploids/old_map/PHOOD11X05H_0075.fq -r -M 4 --model_type bounded --bound_low 0 --bound_high 0.05 -o Mapping/2011Haps -i 759\n",
      "ustacks -t fastq -f  Data_Inventory/Haploids/old_map/PHOOD11X05H_0076.fq -r -M 4 --model_type bounded --bound_low 0 --bound_high 0.05 -o Mapping/2011Haps -i 760\n",
      "ustacks -t fastq -f  Data_Inventory/Haploids/old_map/PHOOD11X05H_0077.fq -r -M 4 --model_type bounded --bound_low 0 --bound_high 0.05 -o Mapping/2011Haps -i 761\n",
      "ustacks -t fastq -f  Data_Inventory/Haploids/old_map/PHOOD11X05H_0078.fq -r -M 4 --model_type bounded --bound_low 0 --bound_high 0.05 -o Mapping/2011Haps -i 762\n",
      "ustacks -t fastq -f  Data_Inventory/Haploids/old_map/PHOOD11X05H_0079.fq -r -M 4 --model_type bounded --bound_low 0 --bound_high 0.05 -o Mapping/2011Haps -i 763\n",
      "ustacks -t fastq -f  Data_Inventory/Haploids/old_map/PHOOD11X05H_0080.fq -r -M 4 --model_type bounded --bound_low 0 --bound_high 0.05 -o Mapping/2011Haps -i 764\n",
      "ustacks -t fastq -f  Data_Inventory/Haploids/old_map/PHOOD11X05H_0081.fq -r -M 4 --model_type bounded --bound_low 0 --bound_high 0.05 -o Mapping/2011Haps -i 765\n",
      "ustacks -t fastq -f  Data_Inventory/Haploids/old_map/PHOOD11X05H_0082.fq -r -M 4 --model_type bounded --bound_low 0 --bound_high 0.05 -o Mapping/2011Haps -i 766\n",
      "ustacks -t fastq -f  Data_Inventory/Haploids/old_map/PHOOD11X05H_0083.fq -r -M 4 --model_type bounded --bound_low 0 --bound_high 0.05 -o Mapping/2011Haps -i 767\n",
      "ustacks -t fastq -f  Data_Inventory/Haploids/old_map/PHOOD11X05H_0084.fq -r -M 4 --model_type bounded --bound_low 0 --bound_high 0.05 -o Mapping/2011Haps -i 768\n",
      "ustacks -t fastq -f  Data_Inventory/Haploids/old_map/PHOOD11X05H_0085.fq -r -M 4 --model_type bounded --bound_low 0 --bound_high 0.05 -o Mapping/2011Haps -i 769\n",
      "ustacks -t fastq -f  Data_Inventory/Haploids/old_map/PHOOD11X05H_0086.fq -r -M 4 --model_type bounded --bound_low 0 --bound_high 0.05 -o Mapping/2011Haps -i 770\n",
      "ustacks -t fastq -f  Data_Inventory/Haploids/old_map/PHOOD11X05H_0087.fq -r -M 4 --model_type bounded --bound_low 0 --bound_high 0.05 -o Mapping/2011Haps -i 771\n",
      "ustacks -t fastq -f  Data_Inventory/Haploids/old_map/PHOOD11X05H_0088.fq -r -M 4 --model_type bounded --bound_low 0 --bound_high 0.05 -o Mapping/2011Haps -i 772\n",
      "ustacks -t fastq -f  Data_Inventory/Haploids/old_map/PHOOD11X05H_0089.fq -r -M 4 --model_type bounded --bound_low 0 --bound_high 0.05 -o Mapping/2011Haps -i 773\n",
      "ustacks -t fastq -f  Data_Inventory/Haploids/old_map/PHOOD11X05H_0091.fq -r -M 4 --model_type bounded --bound_low 0 --bound_high 0.05 -o Mapping/2011Haps -i 774\n",
      "ustacks -t fastq -f  Data_Inventory/Haploids/old_map/PHOOD11X05H_0092.fq -r -M 4 --model_type bounded --bound_low 0 --bound_high 0.05 -o Mapping/2011Haps -i 775\n",
      "ustacks -t fastq -f  Data_Inventory/Haploids/old_map/PHOOD11X05H_0093.fq -r -M 4 --model_type bounded --bound_low 0 --bound_high 0.05 -o Mapping/2011Haps -i 776\n",
      "ustacks -t fastq -f  Data_Inventory/Haploids/old_map/PHOOD11X05H_0095.fq -r -M 4 --model_type bounded --bound_low 0 --bound_high 0.05 -o Mapping/2011Haps -i 777\n"
     ],
     "language": "python",
     "metadata": {},
     "outputs": []
    },
    {
     "cell_type": "markdown",
     "metadata": {},
     "source": [
      "#Sstacks\n",
      "These samples use the same catalog, batch_3, as the population samples. It is detailed in another ipython notebook. "
     ]
    },
    {
     "cell_type": "code",
     "collapsed": false,
     "input": [
      "#sstacks_june2.sh\n",
      "#July 1 2015\n",
      "\n",
      "#run all the haploid samples through sstacks. theyre all listed in the same command so that the catalog doesnt have to be reloaded each time. \n",
      "\n",
      "#sstacks\n",
      "sstacks -b 3 -c HaploidStacks/batch_3 -s HaploidStacks/PBIRD13X108H_0012_comb -o HaploidStacks \n",
      "sstacks -b 3 -c HaploidStacks/batch_3 -s HaploidStacks/PBIRD13X108H_0013_comb -o HaploidStacks \n",
      "sstacks -b 3 -c HaploidStacks/batch_3 -s HaploidStacks/PBIRD13X108H_0015_comb -o HaploidStacks \n",
      "sstacks -b 3 -c HaploidStacks/batch_3 -s HaploidStacks/PBIRD13X108H_0017_comb -o HaploidStacks \n",
      "sstacks -b 3 -c HaploidStacks/batch_3 -s HaploidStacks/PBIRD13X108H_0020_comb -o HaploidStacks \n",
      "sstacks -b 3 -c HaploidStacks/batch_3 -s HaploidStacks/PBIRD13X108H_0021_comb -o HaploidStacks \n",
      "sstacks -b 3 -c HaploidStacks/batch_3 -s HaploidStacks/PBIRD13X108H_0025_comb -o HaploidStacks \n",
      "sstacks -b 3 -c HaploidStacks/batch_3 -s HaploidStacks/PBIRD13X108H_0026_comb -o HaploidStacks \n",
      "sstacks -b 3 -c HaploidStacks/batch_3 -s HaploidStacks/PBIRD13X108H_0027_comb -o HaploidStacks \n",
      "sstacks -b 3 -c HaploidStacks/batch_3 -s HaploidStacks/PBIRD13X108H_0028_comb -o HaploidStacks \n",
      "sstacks -b 3 -c HaploidStacks/batch_3 -s HaploidStacks/PBIRD13X108H_0031_comb -o HaploidStacks \n",
      "sstacks -b 3 -c HaploidStacks/batch_3 -s HaploidStacks/PBIRD13X108H_0036_comb -o HaploidStacks \n",
      "sstacks -b 3 -c HaploidStacks/batch_3 -s HaploidStacks/PBIRD13X108H_0042_comb -o HaploidStacks \n",
      "sstacks -b 3 -c HaploidStacks/batch_3 -s HaploidStacks/PBIRD13X108H_0043_comb -o HaploidStacks \n",
      "sstacks -b 3 -c HaploidStacks/batch_3 -s HaploidStacks/PBIRD13X108H_0044_comb -o HaploidStacks \n",
      "sstacks -b 3 -c HaploidStacks/batch_3 -s HaploidStacks/PBIRD13X108H_0048_comb -o HaploidStacks \n",
      "sstacks -b 3 -c HaploidStacks/batch_3 -s HaploidStacks/PBIRD13X108H_0051_comb -o HaploidStacks \n",
      "sstacks -b 3 -c HaploidStacks/batch_3 -s HaploidStacks/PBIRD13X108H_0054_comb -o HaploidStacks \n",
      "sstacks -b 3 -c HaploidStacks/batch_3 -s HaploidStacks/PBIRD13X108H_0055_comb -o HaploidStacks \n",
      "sstacks -b 3 -c HaploidStacks/batch_3 -s HaploidStacks/PBIRD13X108H_0059_comb -o HaploidStacks \n",
      "sstacks -b 3 -c HaploidStacks/batch_3 -s HaploidStacks/PBIRD13X108H_0060_comb -o HaploidStacks \n",
      "sstacks -b 3 -c HaploidStacks/batch_3 -s HaploidStacks/PBIRD13X108H_0067_comb -o HaploidStacks \n",
      "sstacks -b 3 -c HaploidStacks/batch_3 -s HaploidStacks/PBIRD13X108H_0069_comb -o HaploidStacks \n",
      "sstacks -b 3 -c HaploidStacks/batch_3 -s HaploidStacks/PBIRD13X108H_0080_comb -o HaploidStacks \n",
      "sstacks -b 3 -c HaploidStacks/batch_3 -s HaploidStacks/PBIRD13X108H_0081_comb -o HaploidStacks \n",
      "sstacks -b 3 -c HaploidStacks/batch_3 -s HaploidStacks/PBIRD13X108H_0082_comb -o HaploidStacks \n",
      "sstacks -b 3 -c HaploidStacks/batch_3 -s HaploidStacks/PBIRD13X108H_0083_comb -o HaploidStacks \n",
      "sstacks -b 3 -c HaploidStacks/batch_3 -s HaploidStacks/PBIRD13X108H_0085_comb -o HaploidStacks \n",
      "sstacks -b 3 -c HaploidStacks/batch_3 -s HaploidStacks/PBIRD13X108H_0088_comb -o HaploidStacks \n",
      "sstacks -b 3 -c HaploidStacks/batch_3 -s HaploidStacks/PBIRD13X108H_0091_comb -o HaploidStacks \n",
      "sstacks -b 3 -c HaploidStacks/batch_3 -s HaploidStacks/PBIRD13X108H_0093_comb -o HaploidStacks \n",
      "sstacks -b 3 -c HaploidStacks/batch_3 -s HaploidStacks/PBIRD13X108H_0094_comb -o HaploidStacks \n",
      "sstacks -b 3 -c HaploidStacks/batch_3 -s HaploidStacks/PBIRD13X108H_0095_comb -o HaploidStacks \n",
      "sstacks -b 3 -c HaploidStacks/batch_3 -s HaploidStacks/PBIRD13X110H_0004_comb -o HaploidStacks \n",
      "sstacks -b 3 -c HaploidStacks/batch_3 -s HaploidStacks/PBIRD13X110H_0005_comb -o HaploidStacks \n",
      "sstacks -b 3 -c HaploidStacks/batch_3 -s HaploidStacks/PBIRD13X110H_0007_comb -o HaploidStacks \n",
      "sstacks -b 3 -c HaploidStacks/batch_3 -s HaploidStacks/PBIRD13X110H_0009_comb -o HaploidStacks \n",
      "sstacks -b 3 -c HaploidStacks/batch_3 -s HaploidStacks/PBIRD13X110H_0018_comb -o HaploidStacks \n",
      "sstacks -b 3 -c HaploidStacks/batch_3 -s HaploidStacks/PBIRD13X110H_0020_comb -o HaploidStacks \n",
      "sstacks -b 3 -c HaploidStacks/batch_3 -s HaploidStacks/PBIRD13X110H_0021_comb -o HaploidStacks \n",
      "sstacks -b 3 -c HaploidStacks/batch_3 -s HaploidStacks/PBIRD13X110H_0028_comb -o HaploidStacks \n",
      "sstacks -b 3 -c HaploidStacks/batch_3 -s HaploidStacks/PBIRD13X110H_0029_comb -o HaploidStacks \n",
      "sstacks -b 3 -c HaploidStacks/batch_3 -s HaploidStacks/PBIRD13X110H_0031_comb -o HaploidStacks \n",
      "sstacks -b 3 -c HaploidStacks/batch_3 -s HaploidStacks/PBIRD13X110H_0032_comb -o HaploidStacks \n",
      "sstacks -b 3 -c HaploidStacks/batch_3 -s HaploidStacks/PBIRD13X110H_0033_comb -o HaploidStacks \n",
      "sstacks -b 3 -c HaploidStacks/batch_3 -s HaploidStacks/PBIRD13X110H_0037_comb -o HaploidStacks \n",
      "sstacks -b 3 -c HaploidStacks/batch_3 -s HaploidStacks/PBIRD13X110H_0041_comb -o HaploidStacks \n",
      "sstacks -b 3 -c HaploidStacks/batch_3 -s HaploidStacks/PBIRD13X110H_0042_comb -o HaploidStacks \n",
      "sstacks -b 3 -c HaploidStacks/batch_3 -s HaploidStacks/PBIRD13X110H_0044_comb -o HaploidStacks \n",
      "sstacks -b 3 -c HaploidStacks/batch_3 -s HaploidStacks/PBIRD13X110H_0045_comb -o HaploidStacks \n",
      "sstacks -b 3 -c HaploidStacks/batch_3 -s HaploidStacks/PBIRD13X110H_0046_comb -o HaploidStacks \n",
      "sstacks -b 3 -c HaploidStacks/batch_3 -s HaploidStacks/PBIRD13X110H_0050_comb -o HaploidStacks \n",
      "sstacks -b 3 -c HaploidStacks/batch_3 -s HaploidStacks/PBIRD13X110H_0053_comb -o HaploidStacks \n",
      "sstacks -b 3 -c HaploidStacks/batch_3 -s HaploidStacks/PBIRD13X110H_0054_comb -o HaploidStacks \n",
      "sstacks -b 3 -c HaploidStacks/batch_3 -s HaploidStacks/PBIRD13X110H_0055_comb -o HaploidStacks \n",
      "sstacks -b 3 -c HaploidStacks/batch_3 -s HaploidStacks/PBIRD13X110H_0056_comb -o HaploidStacks \n",
      "sstacks -b 3 -c HaploidStacks/batch_3 -s HaploidStacks/PBIRD13X110H_0062_comb -o HaploidStacks \n",
      "sstacks -b 3 -c HaploidStacks/batch_3 -s HaploidStacks/PBIRD13X110H_0063_comb -o HaploidStacks \n",
      "sstacks -b 3 -c HaploidStacks/batch_3 -s HaploidStacks/PBIRD13X110H_0064_comb -o HaploidStacks \n",
      "sstacks -b 3 -c HaploidStacks/batch_3 -s HaploidStacks/PBIRD13X110H_0066_comb -o HaploidStacks \n",
      "sstacks -b 3 -c HaploidStacks/batch_3 -s HaploidStacks/PBIRD13X110H_0067_comb -o HaploidStacks \n",
      "sstacks -b 3 -c HaploidStacks/batch_3 -s HaploidStacks/PBIRD13X110H_0069_comb -o HaploidStacks \n",
      "sstacks -b 3 -c HaploidStacks/batch_3 -s HaploidStacks/PBIRD13X110H_0075_comb -o HaploidStacks \n",
      "sstacks -b 3 -c HaploidStacks/batch_3 -s HaploidStacks/PBIRD13X110H_0077_comb -o HaploidStacks \n",
      "sstacks -b 3 -c HaploidStacks/batch_3 -s HaploidStacks/PBIRD13X110H_0078_comb -o HaploidStacks \n",
      "sstacks -b 3 -c HaploidStacks/batch_3 -s HaploidStacks/PBIRD13X110H_0080_comb -o HaploidStacks \n",
      "sstacks -b 3 -c HaploidStacks/batch_3 -s HaploidStacks/PBIRD13X110H_0083_comb -o HaploidStacks \n",
      "sstacks -b 3 -c HaploidStacks/batch_3 -s HaploidStacks/PBIRD13X110H_0087_comb -o HaploidStacks \n",
      "sstacks -b 3 -c HaploidStacks/batch_3 -s HaploidStacks/PBIRD13X110H_0088_comb -o HaploidStacks \n",
      "sstacks -b 3 -c HaploidStacks/batch_3 -s HaploidStacks/PBIRD13X110H_0089_comb -o HaploidStacks \n",
      "sstacks -b 3 -c HaploidStacks/batch_3 -s HaploidStacks/PBIRD13X110H_0091_comb -o HaploidStacks \n",
      "sstacks -b 3 -c HaploidStacks/batch_3 -s HaploidStacks/PBIRD13X110H_0093_comb -o HaploidStacks \n",
      "sstacks -b 3 -c HaploidStacks/batch_3 -s HaploidStacks/PBIRD13X110H_0095_comb -o HaploidStacks \n",
      "sstacks -b 3 -c HaploidStacks/batch_3 -s HaploidStacks/PBIRD13X_0110_comb -o HaploidStacks \n",
      "sstacks -b 3 -c HaploidStacks/batch_3 -s HaploidStacks/PBIRD13X102G_0003_comb -o HaploidStacks \n",
      "sstacks -b 3 -c HaploidStacks/batch_3 -s HaploidStacks/PBIRD13X102G_0011_comb -o HaploidStacks \n",
      "sstacks -b 3 -c HaploidStacks/batch_3 -s HaploidStacks/PBIRD13X102G_0015_comb -o HaploidStacks \n",
      "sstacks -b 3 -c HaploidStacks/batch_3 -s HaploidStacks/PBIRD13X108H_0007_comb -o HaploidStacks \n",
      "sstacks -b 3 -c HaploidStacks/batch_3 -s HaploidStacks/PBIRD13X108H_0019_comb -o HaploidStacks \n",
      "sstacks -b 3 -c HaploidStacks/batch_3 -s HaploidStacks/PBIRD13X108H_0022_comb -o HaploidStacks \n",
      "sstacks -b 3 -c HaploidStacks/batch_3 -s HaploidStacks/PBIRD13X108H_0023_comb -o HaploidStacks \n",
      "sstacks -b 3 -c HaploidStacks/batch_3 -s HaploidStacks/PBIRD13X108H_0029_comb -o HaploidStacks \n",
      "sstacks -b 3 -c HaploidStacks/batch_3 -s HaploidStacks/PBIRD13X108H_0032_comb -o HaploidStacks \n",
      "sstacks -b 3 -c HaploidStacks/batch_3 -s HaploidStacks/PBIRD13X108H_0035_comb -o HaploidStacks \n",
      "sstacks -b 3 -c HaploidStacks/batch_3 -s HaploidStacks/PBIRD13X108H_0038_comb -o HaploidStacks \n",
      "sstacks -b 3 -c HaploidStacks/batch_3 -s HaploidStacks/PBIRD13X108H_0041_comb -o HaploidStacks \n",
      "sstacks -b 3 -c HaploidStacks/batch_3 -s HaploidStacks/PBIRD13X108H_0045_comb -o HaploidStacks \n",
      "sstacks -b 3 -c HaploidStacks/batch_3 -s HaploidStacks/PBIRD13X108H_0047_comb -o HaploidStacks \n",
      "sstacks -b 3 -c HaploidStacks/batch_3 -s HaploidStacks/PBIRD13X108H_0052_comb -o HaploidStacks \n",
      "sstacks -b 3 -c HaploidStacks/batch_3 -s HaploidStacks/PBIRD13X108H_0053_comb -o HaploidStacks \n",
      "sstacks -b 3 -c HaploidStacks/batch_3 -s HaploidStacks/PBIRD13X108H_0063_comb -o HaploidStacks \n",
      "sstacks -b 3 -c HaploidStacks/batch_3 -s HaploidStacks/PBIRD13X108H_0071_comb -o HaploidStacks \n",
      "sstacks -b 3 -c HaploidStacks/batch_3 -s HaploidStacks/PBIRD13X108H_0072_comb -o HaploidStacks \n",
      "sstacks -b 3 -c HaploidStacks/batch_3 -s HaploidStacks/PBIRD13X108H_0075_comb -o HaploidStacks \n",
      "sstacks -b 3 -c HaploidStacks/batch_3 -s HaploidStacks/PBIRD13X108H_0089_comb -o HaploidStacks \n",
      "sstacks -b 3 -c HaploidStacks/batch_3 -s HaploidStacks/PBIRD13X108H_0090_comb -o HaploidStacks \n",
      "sstacks -b 3 -c HaploidStacks/batch_3 -s HaploidStacks/PBIRD13X110H_0002_comb -o HaploidStacks \n",
      "sstacks -b 3 -c HaploidStacks/batch_3 -s HaploidStacks/PBIRD13X110H_0008_comb -o HaploidStacks \n",
      "sstacks -b 3 -c HaploidStacks/batch_3 -s HaploidStacks/PBIRD13X110H_0011_comb -o HaploidStacks \n",
      "sstacks -b 3 -c HaploidStacks/batch_3 -s HaploidStacks/PBIRD13X110H_0022_comb -o HaploidStacks \n",
      "sstacks -b 3 -c HaploidStacks/batch_3 -s HaploidStacks/PBIRD13X110H_0025_comb -o HaploidStacks \n",
      "sstacks -b 3 -c HaploidStacks/batch_3 -s HaploidStacks/PBIRD13X110H_0026_comb -o HaploidStacks \n",
      "sstacks -b 3 -c HaploidStacks/batch_3 -s HaploidStacks/PBIRD13X110H_0027_comb -o HaploidStacks \n",
      "sstacks -b 3 -c HaploidStacks/batch_3 -s HaploidStacks/PBIRD13X110H_0036_comb -o HaploidStacks \n",
      "sstacks -b 3 -c HaploidStacks/batch_3 -s HaploidStacks/PBIRD13X110H_0038_comb -o HaploidStacks \n",
      "sstacks -b 3 -c HaploidStacks/batch_3 -s HaploidStacks/PBIRD13X110H_0039_comb -o HaploidStacks \n",
      "sstacks -b 3 -c HaploidStacks/batch_3 -s HaploidStacks/PBIRD13X110H_0040_comb -o HaploidStacks \n",
      "sstacks -b 3 -c HaploidStacks/batch_3 -s HaploidStacks/PBIRD13X110H_0043_comb -o HaploidStacks \n",
      "sstacks -b 3 -c HaploidStacks/batch_3 -s HaploidStacks/PBIRD13X110H_0047_comb -o HaploidStacks \n",
      "sstacks -b 3 -c HaploidStacks/batch_3 -s HaploidStacks/PBIRD13X110H_0052_comb -o HaploidStacks \n",
      "sstacks -b 3 -c HaploidStacks/batch_3 -s HaploidStacks/PBIRD13X110H_0057_comb -o HaploidStacks \n",
      "sstacks -b 3 -c HaploidStacks/batch_3 -s HaploidStacks/PBIRD13X110H_0060_comb -o HaploidStacks \n",
      "sstacks -b 3 -c HaploidStacks/batch_3 -s HaploidStacks/PBIRD13X110H_0061_comb -o HaploidStacks \n",
      "sstacks -b 3 -c HaploidStacks/batch_3 -s HaploidStacks/PBIRD13X110H_0072_comb -o HaploidStacks \n",
      "sstacks -b 3 -c HaploidStacks/batch_3 -s HaploidStacks/PBIRD13X110H_0073_comb -o HaploidStacks \n",
      "sstacks -b 3 -c HaploidStacks/batch_3 -s HaploidStacks/PBIRD13X110H_0076_comb -o HaploidStacks \n",
      "sstacks -b 3 -c HaploidStacks/batch_3 -s HaploidStacks/PBIRD13X110H_0092_comb -o HaploidStacks \n",
      "sstacks -b 3 -c HaploidStacks/batch_3 -s HaploidStacks/PBIRD13X_0102_comb -o HaploidStacks \n",
      "sstacks -b 3 -c HaploidStacks/batch_3 -s HaploidStacks/PBIRD13X102G_0002_comb -o HaploidStacks \n",
      "sstacks -b 3 -c HaploidStacks/batch_3 -s HaploidStacks/PBIRD13X102G_0004_comb -o HaploidStacks \n",
      "sstacks -b 3 -c HaploidStacks/batch_3 -s HaploidStacks/PBIRD13X102G_0005_comb -o HaploidStacks \n",
      "sstacks -b 3 -c HaploidStacks/batch_3 -s HaploidStacks/PBIRD13X102G_0007_comb -o HaploidStacks \n",
      "sstacks -b 3 -c HaploidStacks/batch_3 -s HaploidStacks/PBIRD13X102G_0013_comb -o HaploidStacks \n",
      "sstacks -b 3 -c HaploidStacks/batch_3 -s HaploidStacks/PBIRD13X102G_0017_comb -o HaploidStacks \n",
      "sstacks -b 3 -c HaploidStacks/batch_3 -s HaploidStacks/PBIRD13X102G_0020_comb -o HaploidStacks \n",
      "sstacks -b 3 -c HaploidStacks/batch_3 -s HaploidStacks/PBIRD13X102G_0024_comb -o HaploidStacks \n",
      "sstacks -b 3 -c HaploidStacks/batch_3 -s HaploidStacks/PBIRD13X102G_0025_comb -o HaploidStacks \n",
      "sstacks -b 3 -c HaploidStacks/batch_3 -s HaploidStacks/PBIRD13X108H_0001_comb -o HaploidStacks \n",
      "sstacks -b 3 -c HaploidStacks/batch_3 -s HaploidStacks/PBIRD13X108H_0002_comb -o HaploidStacks \n",
      "sstacks -b 3 -c HaploidStacks/batch_3 -s HaploidStacks/PBIRD13X108H_0004_comb -o HaploidStacks \n",
      "sstacks -b 3 -c HaploidStacks/batch_3 -s HaploidStacks/PBIRD13X108H_0005_comb -o HaploidStacks \n",
      "sstacks -b 3 -c HaploidStacks/batch_3 -s HaploidStacks/PBIRD13X108H_0009_comb -o HaploidStacks \n",
      "sstacks -b 3 -c HaploidStacks/batch_3 -s HaploidStacks/PBIRD13X108H_0010_comb -o HaploidStacks \n",
      "sstacks -b 3 -c HaploidStacks/batch_3 -s HaploidStacks/PBIRD13X108H_0016_comb -o HaploidStacks \n",
      "sstacks -b 3 -c HaploidStacks/batch_3 -s HaploidStacks/PBIRD13X108H_0030_comb -o HaploidStacks \n",
      "sstacks -b 3 -c HaploidStacks/batch_3 -s HaploidStacks/PBIRD13X108H_0034_comb -o HaploidStacks \n",
      "sstacks -b 3 -c HaploidStacks/batch_3 -s HaploidStacks/PBIRD13X108H_0037_comb -o HaploidStacks \n",
      "sstacks -b 3 -c HaploidStacks/batch_3 -s HaploidStacks/PBIRD13X108H_0039_comb -o HaploidStacks \n",
      "sstacks -b 3 -c HaploidStacks/batch_3 -s HaploidStacks/PBIRD13X108H_0040_comb -o HaploidStacks \n",
      "sstacks -b 3 -c HaploidStacks/batch_3 -s HaploidStacks/PBIRD13X108H_0046_comb -o HaploidStacks \n",
      "sstacks -b 3 -c HaploidStacks/batch_3 -s HaploidStacks/PBIRD13X108H_0049_comb -o HaploidStacks \n",
      "sstacks -b 3 -c HaploidStacks/batch_3 -s HaploidStacks/PBIRD13X108H_0050_comb -o HaploidStacks \n",
      "sstacks -b 3 -c HaploidStacks/batch_3 -s HaploidStacks/PBIRD13X108H_0056_comb -o HaploidStacks \n",
      "sstacks -b 3 -c HaploidStacks/batch_3 -s HaploidStacks/PBIRD13X108H_0070_comb -o HaploidStacks \n",
      "sstacks -b 3 -c HaploidStacks/batch_3 -s HaploidStacks/PBIRD13X108H_0077_comb -o HaploidStacks \n",
      "sstacks -b 3 -c HaploidStacks/batch_3 -s HaploidStacks/PBIRD13X108H_0086_comb -o HaploidStacks \n",
      "sstacks -b 3 -c HaploidStacks/batch_3 -s HaploidStacks/PBIRD13X108H_0087_comb -o HaploidStacks \n",
      "sstacks -b 3 -c HaploidStacks/batch_3 -s HaploidStacks/PBIRD13X108H_0092_comb -o HaploidStacks \n",
      "sstacks -b 3 -c HaploidStacks/batch_3 -s HaploidStacks/PBIRD13X110H_0006_comb -o HaploidStacks \n",
      "sstacks -b 3 -c HaploidStacks/batch_3 -s HaploidStacks/PBIRD13X110H_0010_comb -o HaploidStacks \n",
      "sstacks -b 3 -c HaploidStacks/batch_3 -s HaploidStacks/PBIRD13X110H_0012_comb -o HaploidStacks \n",
      "sstacks -b 3 -c HaploidStacks/batch_3 -s HaploidStacks/PBIRD13X110H_0013_comb -o HaploidStacks \n",
      "sstacks -b 3 -c HaploidStacks/batch_3 -s HaploidStacks/PBIRD13X110H_0016_comb -o HaploidStacks \n",
      "sstacks -b 3 -c HaploidStacks/batch_3 -s HaploidStacks/PBIRD13X110H_0017_comb -o HaploidStacks \n",
      "sstacks -b 3 -c HaploidStacks/batch_3 -s HaploidStacks/PBIRD13X110H_0048_comb -o HaploidStacks \n",
      "sstacks -b 3 -c HaploidStacks/batch_3 -s HaploidStacks/PBIRD13X110H_0049_comb -o HaploidStacks \n",
      "sstacks -b 3 -c HaploidStacks/batch_3 -s HaploidStacks/PBIRD13X110H_0051_comb -o HaploidStacks \n",
      "sstacks -b 3 -c HaploidStacks/batch_3 -s HaploidStacks/PBIRD13X110H_0059_comb -o HaploidStacks \n",
      "sstacks -b 3 -c HaploidStacks/batch_3 -s HaploidStacks/PBIRD13X110H_0065_comb -o HaploidStacks \n",
      "sstacks -b 3 -c HaploidStacks/batch_3 -s HaploidStacks/PBIRD13X110H_0070_comb -o HaploidStacks \n",
      "sstacks -b 3 -c HaploidStacks/batch_3 -s HaploidStacks/PBIRD13X110H_0071_comb -o HaploidStacks \n",
      "sstacks -b 3 -c HaploidStacks/batch_3 -s HaploidStacks/PBIRD13X110H_0079_comb -o HaploidStacks \n",
      "sstacks -b 3 -c HaploidStacks/batch_3 -s HaploidStacks/PBIRD13X110H_0082_comb -o HaploidStacks \n",
      "sstacks -b 3 -c HaploidStacks/batch_3 -s HaploidStacks/PBIRD13X110H_0084_comb -o HaploidStacks \n",
      "sstacks -b 3 -c HaploidStacks/batch_3 -s HaploidStacks/PBIRD13X110H_0085_comb -o HaploidStacks \n",
      "sstacks -b 3 -c HaploidStacks/batch_3 -s HaploidStacks/PBIRD13X110H_0086_comb -o HaploidStacks \n",
      "sstacks -b 3 -c HaploidStacks/batch_3 -s HaploidStacks/PBIRD13X110H_0094_comb -o HaploidStacks \n",
      "sstacks -b 3 -c HaploidStacks/batch_3 -s HaploidStacks/PBIRD13X108H_0018 -o HaploidStacks\n",
      "sstacks -b 3 -c HaploidStacks/batch_3 -s HaploidStacks/PBIRD13X108H_0033 -o HaploidStacks\n",
      "sstacks -b 3 -c HaploidStacks/batch_3 -s HaploidStacks/PBIRD13X108H_0057 -o HaploidStacks\n",
      "sstacks -b 3 -c HaploidStacks/batch_3 -s HaploidStacks/PBIRD13X108H_0078 -o HaploidStacks\n",
      "sstacks -b 3 -c HaploidStacks/batch_3 -s HaploidStacks/PBIRD13X110H_0058 -o HaploidStacks\n",
      "sstacks -b 3 -c HaploidStacks/batch_3 -s HaploidStacks/PBIRD13X110H_0096 -o HaploidStacks\n"
     ],
     "language": "python",
     "metadata": {},
     "outputs": []
    },
    {
     "cell_type": "markdown",
     "metadata": {},
     "source": [
      "#2011Haps_ustacks_sstacks.sh\n",
      "\n",
      "sstacks -b 3 -c Mapping/2011Haps/batch_3  -s Mapping/2011Haps/PHOOD11X_0001 -o Mapping/2011Haps\n",
      "sstacks -b 3 -c Mapping/2011Haps/batch_3  -s Mapping/2011Haps/PHOOD11X_0005 -o Mapping/2011Haps\n",
      "sstacks -b 3 -c Mapping/2011Haps/batch_3  -s Mapping/2011Haps/PHOOD11X01H_0001 -o Mapping/2011Haps\n",
      "sstacks -b 3 -c Mapping/2011Haps/batch_3  -s Mapping/2011Haps/PHOOD11X01H_0002 -o Mapping/2011Haps\n",
      "sstacks -b 3 -c Mapping/2011Haps/batch_3  -s Mapping/2011Haps/PHOOD11X01H_0003 -o Mapping/2011Haps\n",
      "sstacks -b 3 -c Mapping/2011Haps/batch_3  -s Mapping/2011Haps/PHOOD11X01H_0004 -o Mapping/2011Haps\n",
      "sstacks -b 3 -c Mapping/2011Haps/batch_3  -s Mapping/2011Haps/PHOOD11X01H_0005 -o Mapping/2011Haps\n",
      "sstacks -b 3 -c Mapping/2011Haps/batch_3  -s Mapping/2011Haps/PHOOD11X01H_0006 -o Mapping/2011Haps\n",
      "sstacks -b 3 -c Mapping/2011Haps/batch_3  -s Mapping/2011Haps/PHOOD11X01H_0007 -o Mapping/2011Haps\n",
      "sstacks -b 3 -c Mapping/2011Haps/batch_3  -s Mapping/2011Haps/PHOOD11X01H_0008 -o Mapping/2011Haps\n",
      "sstacks -b 3 -c Mapping/2011Haps/batch_3  -s Mapping/2011Haps/PHOOD11X01H_0009 -o Mapping/2011Haps\n",
      "sstacks -b 3 -c Mapping/2011Haps/batch_3  -s Mapping/2011Haps/PHOOD11X01H_0010 -o Mapping/2011Haps\n",
      "sstacks -b 3 -c Mapping/2011Haps/batch_3  -s Mapping/2011Haps/PHOOD11X01H_0011 -o Mapping/2011Haps\n",
      "sstacks -b 3 -c Mapping/2011Haps/batch_3  -s Mapping/2011Haps/PHOOD11X01H_0012 -o Mapping/2011Haps\n",
      "sstacks -b 3 -c Mapping/2011Haps/batch_3  -s Mapping/2011Haps/PHOOD11X01H_0013 -o Mapping/2011Haps\n",
      "sstacks -b 3 -c Mapping/2011Haps/batch_3  -s Mapping/2011Haps/PHOOD11X01H_0014 -o Mapping/2011Haps\n",
      "sstacks -b 3 -c Mapping/2011Haps/batch_3  -s Mapping/2011Haps/PHOOD11X01H_0015 -o Mapping/2011Haps\n",
      "sstacks -b 3 -c Mapping/2011Haps/batch_3  -s Mapping/2011Haps/PHOOD11X01H_0016 -o Mapping/2011Haps\n",
      "sstacks -b 3 -c Mapping/2011Haps/batch_3  -s Mapping/2011Haps/PHOOD11X01H_0017 -o Mapping/2011Haps\n",
      "sstacks -b 3 -c Mapping/2011Haps/batch_3  -s Mapping/2011Haps/PHOOD11X01H_0018 -o Mapping/2011Haps\n",
      "sstacks -b 3 -c Mapping/2011Haps/batch_3  -s Mapping/2011Haps/PHOOD11X01H_0019 -o Mapping/2011Haps\n",
      "sstacks -b 3 -c Mapping/2011Haps/batch_3  -s Mapping/2011Haps/PHOOD11X01H_0020 -o Mapping/2011Haps\n",
      "sstacks -b 3 -c Mapping/2011Haps/batch_3  -s Mapping/2011Haps/PHOOD11X01H_0021 -o Mapping/2011Haps\n",
      "sstacks -b 3 -c Mapping/2011Haps/batch_3  -s Mapping/2011Haps/PHOOD11X01H_0022 -o Mapping/2011Haps\n",
      "sstacks -b 3 -c Mapping/2011Haps/batch_3  -s Mapping/2011Haps/PHOOD11X01H_0023 -o Mapping/2011Haps\n",
      "sstacks -b 3 -c Mapping/2011Haps/batch_3  -s Mapping/2011Haps/PHOOD11X01H_0024 -o Mapping/2011Haps\n",
      "sstacks -b 3 -c Mapping/2011Haps/batch_3  -s Mapping/2011Haps/PHOOD11X01H_0025 -o Mapping/2011Haps\n",
      "sstacks -b 3 -c Mapping/2011Haps/batch_3  -s Mapping/2011Haps/PHOOD11X01H_0026 -o Mapping/2011Haps\n",
      "sstacks -b 3 -c Mapping/2011Haps/batch_3  -s Mapping/2011Haps/PHOOD11X01H_0027 -o Mapping/2011Haps\n",
      "sstacks -b 3 -c Mapping/2011Haps/batch_3  -s Mapping/2011Haps/PHOOD11X01H_0028 -o Mapping/2011Haps\n",
      "sstacks -b 3 -c Mapping/2011Haps/batch_3  -s Mapping/2011Haps/PHOOD11X01H_0029 -o Mapping/2011Haps\n",
      "sstacks -b 3 -c Mapping/2011Haps/batch_3  -s Mapping/2011Haps/PHOOD11X01H_0030 -o Mapping/2011Haps\n",
      "sstacks -b 3 -c Mapping/2011Haps/batch_3  -s Mapping/2011Haps/PHOOD11X01H_0032 -o Mapping/2011Haps\n",
      "sstacks -b 3 -c Mapping/2011Haps/batch_3  -s Mapping/2011Haps/PHOOD11X01H_0033 -o Mapping/2011Haps\n",
      "sstacks -b 3 -c Mapping/2011Haps/batch_3  -s Mapping/2011Haps/PHOOD11X01H_0034 -o Mapping/2011Haps\n",
      "sstacks -b 3 -c Mapping/2011Haps/batch_3  -s Mapping/2011Haps/PHOOD11X01H_0035 -o Mapping/2011Haps\n",
      "sstacks -b 3 -c Mapping/2011Haps/batch_3  -s Mapping/2011Haps/PHOOD11X01H_0036 -o Mapping/2011Haps\n",
      "sstacks -b 3 -c Mapping/2011Haps/batch_3  -s Mapping/2011Haps/PHOOD11X01H_0038 -o Mapping/2011Haps\n",
      "sstacks -b 3 -c Mapping/2011Haps/batch_3  -s Mapping/2011Haps/PHOOD11X01H_0039 -o Mapping/2011Haps\n",
      "sstacks -b 3 -c Mapping/2011Haps/batch_3  -s Mapping/2011Haps/PHOOD11X01H_0040 -o Mapping/2011Haps\n",
      "sstacks -b 3 -c Mapping/2011Haps/batch_3  -s Mapping/2011Haps/PHOOD11X01H_0041 -o Mapping/2011Haps\n",
      "sstacks -b 3 -c Mapping/2011Haps/batch_3  -s Mapping/2011Haps/PHOOD11X01H_0042 -o Mapping/2011Haps\n",
      "sstacks -b 3 -c Mapping/2011Haps/batch_3  -s Mapping/2011Haps/PHOOD11X01H_0043 -o Mapping/2011Haps\n",
      "sstacks -b 3 -c Mapping/2011Haps/batch_3  -s Mapping/2011Haps/PHOOD11X01H_0044 -o Mapping/2011Haps\n",
      "sstacks -b 3 -c Mapping/2011Haps/batch_3  -s Mapping/2011Haps/PHOOD11X01H_0045 -o Mapping/2011Haps\n",
      "sstacks -b 3 -c Mapping/2011Haps/batch_3  -s Mapping/2011Haps/PHOOD11X01H_0046 -o Mapping/2011Haps\n",
      "sstacks -b 3 -c Mapping/2011Haps/batch_3  -s Mapping/2011Haps/PHOOD11X01H_0047 -o Mapping/2011Haps\n",
      "sstacks -b 3 -c Mapping/2011Haps/batch_3  -s Mapping/2011Haps/PHOOD11X01H_0048 -o Mapping/2011Haps\n",
      "sstacks -b 3 -c Mapping/2011Haps/batch_3  -s Mapping/2011Haps/PHOOD11X01H_0049 -o Mapping/2011Haps\n",
      "sstacks -b 3 -c Mapping/2011Haps/batch_3  -s Mapping/2011Haps/PHOOD11X01H_0050 -o Mapping/2011Haps\n",
      "sstacks -b 3 -c Mapping/2011Haps/batch_3  -s Mapping/2011Haps/PHOOD11X01H_0051 -o Mapping/2011Haps\n",
      "sstacks -b 3 -c Mapping/2011Haps/batch_3  -s Mapping/2011Haps/PHOOD11X01H_0052 -o Mapping/2011Haps\n",
      "sstacks -b 3 -c Mapping/2011Haps/batch_3  -s Mapping/2011Haps/PHOOD11X01H_0053 -o Mapping/2011Haps\n",
      "sstacks -b 3 -c Mapping/2011Haps/batch_3  -s Mapping/2011Haps/PHOOD11X01H_0054 -o Mapping/2011Haps\n",
      "sstacks -b 3 -c Mapping/2011Haps/batch_3  -s Mapping/2011Haps/PHOOD11X01H_0055 -o Mapping/2011Haps\n",
      "sstacks -b 3 -c Mapping/2011Haps/batch_3  -s Mapping/2011Haps/PHOOD11X01H_0056 -o Mapping/2011Haps\n",
      "sstacks -b 3 -c Mapping/2011Haps/batch_3  -s Mapping/2011Haps/PHOOD11X01H_0057 -o Mapping/2011Haps\n",
      "sstacks -b 3 -c Mapping/2011Haps/batch_3  -s Mapping/2011Haps/PHOOD11X01H_0058 -o Mapping/2011Haps\n",
      "sstacks -b 3 -c Mapping/2011Haps/batch_3  -s Mapping/2011Haps/PHOOD11X01H_0059 -o Mapping/2011Haps\n",
      "sstacks -b 3 -c Mapping/2011Haps/batch_3  -s Mapping/2011Haps/PHOOD11X01H_0060 -o Mapping/2011Haps\n",
      "sstacks -b 3 -c Mapping/2011Haps/batch_3  -s Mapping/2011Haps/PHOOD11X01H_0061 -o Mapping/2011Haps\n",
      "sstacks -b 3 -c Mapping/2011Haps/batch_3  -s Mapping/2011Haps/PHOOD11X01H_0062 -o Mapping/2011Haps\n",
      "sstacks -b 3 -c Mapping/2011Haps/batch_3  -s Mapping/2011Haps/PHOOD11X01H_0063 -o Mapping/2011Haps\n",
      "sstacks -b 3 -c Mapping/2011Haps/batch_3  -s Mapping/2011Haps/PHOOD11X01H_0064 -o Mapping/2011Haps\n",
      "sstacks -b 3 -c Mapping/2011Haps/batch_3  -s Mapping/2011Haps/PHOOD11X01H_0065 -o Mapping/2011Haps\n",
      "sstacks -b 3 -c Mapping/2011Haps/batch_3  -s Mapping/2011Haps/PHOOD11X01H_0066 -o Mapping/2011Haps\n",
      "sstacks -b 3 -c Mapping/2011Haps/batch_3  -s Mapping/2011Haps/PHOOD11X01H_0067 -o Mapping/2011Haps\n",
      "sstacks -b 3 -c Mapping/2011Haps/batch_3  -s Mapping/2011Haps/PHOOD11X01H_0068 -o Mapping/2011Haps\n",
      "sstacks -b 3 -c Mapping/2011Haps/batch_3  -s Mapping/2011Haps/PHOOD11X01H_0069 -o Mapping/2011Haps\n",
      "sstacks -b 3 -c Mapping/2011Haps/batch_3  -s Mapping/2011Haps/PHOOD11X01H_0070 -o Mapping/2011Haps\n",
      "sstacks -b 3 -c Mapping/2011Haps/batch_3  -s Mapping/2011Haps/PHOOD11X01H_0071 -o Mapping/2011Haps\n",
      "sstacks -b 3 -c Mapping/2011Haps/batch_3  -s Mapping/2011Haps/PHOOD11X01H_0072 -o Mapping/2011Haps\n",
      "sstacks -b 3 -c Mapping/2011Haps/batch_3  -s Mapping/2011Haps/PHOOD11X01H_0073 -o Mapping/2011Haps\n",
      "sstacks -b 3 -c Mapping/2011Haps/batch_3  -s Mapping/2011Haps/PHOOD11X01H_0074 -o Mapping/2011Haps\n",
      "sstacks -b 3 -c Mapping/2011Haps/batch_3  -s Mapping/2011Haps/PHOOD11X01H_0075 -o Mapping/2011Haps\n",
      "sstacks -b 3 -c Mapping/2011Haps/batch_3  -s Mapping/2011Haps/PHOOD11X01H_0076 -o Mapping/2011Haps\n",
      "sstacks -b 3 -c Mapping/2011Haps/batch_3  -s Mapping/2011Haps/PHOOD11X01H_0077 -o Mapping/2011Haps\n",
      "sstacks -b 3 -c Mapping/2011Haps/batch_3  -s Mapping/2011Haps/PHOOD11X01H_0078 -o Mapping/2011Haps\n",
      "sstacks -b 3 -c Mapping/2011Haps/batch_3  -s Mapping/2011Haps/PHOOD11X01H_0079 -o Mapping/2011Haps\n",
      "sstacks -b 3 -c Mapping/2011Haps/batch_3  -s Mapping/2011Haps/PHOOD11X01H_0080 -o Mapping/2011Haps\n",
      "sstacks -b 3 -c Mapping/2011Haps/batch_3  -s Mapping/2011Haps/PHOOD11X01H_0081 -o Mapping/2011Haps\n",
      "sstacks -b 3 -c Mapping/2011Haps/batch_3  -s Mapping/2011Haps/PHOOD11X01H_0082 -o Mapping/2011Haps\n",
      "sstacks -b 3 -c Mapping/2011Haps/batch_3  -s Mapping/2011Haps/PHOOD11X01H_0083 -o Mapping/2011Haps\n",
      "sstacks -b 3 -c Mapping/2011Haps/batch_3  -s Mapping/2011Haps/PHOOD11X01H_0084 -o Mapping/2011Haps\n",
      "sstacks -b 3 -c Mapping/2011Haps/batch_3  -s Mapping/2011Haps/PHOOD11X01H_0085 -o Mapping/2011Haps\n",
      "sstacks -b 3 -c Mapping/2011Haps/batch_3  -s Mapping/2011Haps/PHOOD11X01H_0086 -o Mapping/2011Haps\n",
      "sstacks -b 3 -c Mapping/2011Haps/batch_3  -s Mapping/2011Haps/PHOOD11X01H_0087 -o Mapping/2011Haps\n",
      "sstacks -b 3 -c Mapping/2011Haps/batch_3  -s Mapping/2011Haps/PHOOD11X01H_0088 -o Mapping/2011Haps\n",
      "sstacks -b 3 -c Mapping/2011Haps/batch_3  -s Mapping/2011Haps/PHOOD11X01H_0089 -o Mapping/2011Haps\n",
      "sstacks -b 3 -c Mapping/2011Haps/batch_3  -s Mapping/2011Haps/PHOOD11X01H_0090 -o Mapping/2011Haps\n",
      "sstacks -b 3 -c Mapping/2011Haps/batch_3  -s Mapping/2011Haps/PHOOD11X01H_0091 -o Mapping/2011Haps\n",
      "sstacks -b 3 -c Mapping/2011Haps/batch_3  -s Mapping/2011Haps/PHOOD11X01H_0092 -o Mapping/2011Haps\n",
      "sstacks -b 3 -c Mapping/2011Haps/batch_3  -s Mapping/2011Haps/PHOOD11X01H_0093 -o Mapping/2011Haps\n",
      "sstacks -b 3 -c Mapping/2011Haps/batch_3  -s Mapping/2011Haps/PHOOD11X01H_0094 -o Mapping/2011Haps\n",
      "sstacks -b 3 -c Mapping/2011Haps/batch_3  -s Mapping/2011Haps/PHOOD11X01H_0095 -o Mapping/2011Haps\n",
      "sstacks -b 3 -c Mapping/2011Haps/batch_3  -s Mapping/2011Haps/PHOOD11X05H_0001 -o Mapping/2011Haps\n",
      "sstacks -b 3 -c Mapping/2011Haps/batch_3  -s Mapping/2011Haps/PHOOD11X05H_0002 -o Mapping/2011Haps\n",
      "sstacks -b 3 -c Mapping/2011Haps/batch_3  -s Mapping/2011Haps/PHOOD11X05H_0003 -o Mapping/2011Haps\n",
      "sstacks -b 3 -c Mapping/2011Haps/batch_3  -s Mapping/2011Haps/PHOOD11X05H_0004 -o Mapping/2011Haps\n",
      "sstacks -b 3 -c Mapping/2011Haps/batch_3  -s Mapping/2011Haps/PHOOD11X05H_0005 -o Mapping/2011Haps\n",
      "sstacks -b 3 -c Mapping/2011Haps/batch_3  -s Mapping/2011Haps/PHOOD11X05H_0006 -o Mapping/2011Haps\n",
      "sstacks -b 3 -c Mapping/2011Haps/batch_3  -s Mapping/2011Haps/PHOOD11X05H_0007 -o Mapping/2011Haps\n",
      "sstacks -b 3 -c Mapping/2011Haps/batch_3  -s Mapping/2011Haps/PHOOD11X05H_0008 -o Mapping/2011Haps\n",
      "sstacks -b 3 -c Mapping/2011Haps/batch_3  -s Mapping/2011Haps/PHOOD11X05H_0009 -o Mapping/2011Haps\n",
      "sstacks -b 3 -c Mapping/2011Haps/batch_3  -s Mapping/2011Haps/PHOOD11X05H_0010 -o Mapping/2011Haps\n",
      "sstacks -b 3 -c Mapping/2011Haps/batch_3  -s Mapping/2011Haps/PHOOD11X05H_0011 -o Mapping/2011Haps\n",
      "sstacks -b 3 -c Mapping/2011Haps/batch_3  -s Mapping/2011Haps/PHOOD11X05H_0012 -o Mapping/2011Haps\n",
      "sstacks -b 3 -c Mapping/2011Haps/batch_3  -s Mapping/2011Haps/PHOOD11X05H_0013 -o Mapping/2011Haps\n",
      "sstacks -b 3 -c Mapping/2011Haps/batch_3  -s Mapping/2011Haps/PHOOD11X05H_0014 -o Mapping/2011Haps\n",
      "sstacks -b 3 -c Mapping/2011Haps/batch_3  -s Mapping/2011Haps/PHOOD11X05H_0015 -o Mapping/2011Haps\n",
      "sstacks -b 3 -c Mapping/2011Haps/batch_3  -s Mapping/2011Haps/PHOOD11X05H_0016 -o Mapping/2011Haps\n",
      "sstacks -b 3 -c Mapping/2011Haps/batch_3  -s Mapping/2011Haps/PHOOD11X05H_0017 -o Mapping/2011Haps\n",
      "sstacks -b 3 -c Mapping/2011Haps/batch_3  -s Mapping/2011Haps/PHOOD11X05H_0018 -o Mapping/2011Haps\n",
      "sstacks -b 3 -c Mapping/2011Haps/batch_3  -s Mapping/2011Haps/PHOOD11X05H_0019 -o Mapping/2011Haps\n",
      "sstacks -b 3 -c Mapping/2011Haps/batch_3  -s Mapping/2011Haps/PHOOD11X05H_0020 -o Mapping/2011Haps\n",
      "sstacks -b 3 -c Mapping/2011Haps/batch_3  -s Mapping/2011Haps/PHOOD11X05H_0021 -o Mapping/2011Haps\n",
      "sstacks -b 3 -c Mapping/2011Haps/batch_3  -s Mapping/2011Haps/PHOOD11X05H_0022 -o Mapping/2011Haps\n",
      "sstacks -b 3 -c Mapping/2011Haps/batch_3  -s Mapping/2011Haps/PHOOD11X05H_0023 -o Mapping/2011Haps\n",
      "sstacks -b 3 -c Mapping/2011Haps/batch_3  -s Mapping/2011Haps/PHOOD11X05H_0024 -o Mapping/2011Haps\n",
      "sstacks -b 3 -c Mapping/2011Haps/batch_3  -s Mapping/2011Haps/PHOOD11X05H_0025 -o Mapping/2011Haps\n",
      "sstacks -b 3 -c Mapping/2011Haps/batch_3  -s Mapping/2011Haps/PHOOD11X05H_0026 -o Mapping/2011Haps\n",
      "sstacks -b 3 -c Mapping/2011Haps/batch_3  -s Mapping/2011Haps/PHOOD11X05H_0027 -o Mapping/2011Haps\n",
      "sstacks -b 3 -c Mapping/2011Haps/batch_3  -s Mapping/2011Haps/PHOOD11X05H_0028 -o Mapping/2011Haps\n",
      "sstacks -b 3 -c Mapping/2011Haps/batch_3  -s Mapping/2011Haps/PHOOD11X05H_0029 -o Mapping/2011Haps\n",
      "sstacks -b 3 -c Mapping/2011Haps/batch_3  -s Mapping/2011Haps/PHOOD11X05H_0030 -o Mapping/2011Haps\n",
      "sstacks -b 3 -c Mapping/2011Haps/batch_3  -s Mapping/2011Haps/PHOOD11X05H_0031 -o Mapping/2011Haps\n",
      "sstacks -b 3 -c Mapping/2011Haps/batch_3  -s Mapping/2011Haps/PHOOD11X05H_0032 -o Mapping/2011Haps\n",
      "sstacks -b 3 -c Mapping/2011Haps/batch_3  -s Mapping/2011Haps/PHOOD11X05H_0033 -o Mapping/2011Haps\n",
      "sstacks -b 3 -c Mapping/2011Haps/batch_3  -s Mapping/2011Haps/PHOOD11X05H_0034 -o Mapping/2011Haps\n",
      "sstacks -b 3 -c Mapping/2011Haps/batch_3  -s Mapping/2011Haps/PHOOD11X05H_0035 -o Mapping/2011Haps\n",
      "sstacks -b 3 -c Mapping/2011Haps/batch_3  -s Mapping/2011Haps/PHOOD11X05H_0036 -o Mapping/2011Haps\n",
      "sstacks -b 3 -c Mapping/2011Haps/batch_3  -s Mapping/2011Haps/PHOOD11X05H_0037 -o Mapping/2011Haps\n",
      "sstacks -b 3 -c Mapping/2011Haps/batch_3  -s Mapping/2011Haps/PHOOD11X05H_0038 -o Mapping/2011Haps\n",
      "sstacks -b 3 -c Mapping/2011Haps/batch_3  -s Mapping/2011Haps/PHOOD11X05H_0039 -o Mapping/2011Haps\n",
      "sstacks -b 3 -c Mapping/2011Haps/batch_3  -s Mapping/2011Haps/PHOOD11X05H_0040 -o Mapping/2011Haps\n",
      "sstacks -b 3 -c Mapping/2011Haps/batch_3  -s Mapping/2011Haps/PHOOD11X05H_0041 -o Mapping/2011Haps\n",
      "sstacks -b 3 -c Mapping/2011Haps/batch_3  -s Mapping/2011Haps/PHOOD11X05H_0042 -o Mapping/2011Haps\n",
      "sstacks -b 3 -c Mapping/2011Haps/batch_3  -s Mapping/2011Haps/PHOOD11X05H_0044 -o Mapping/2011Haps\n",
      "sstacks -b 3 -c Mapping/2011Haps/batch_3  -s Mapping/2011Haps/PHOOD11X05H_0045 -o Mapping/2011Haps\n",
      "sstacks -b 3 -c Mapping/2011Haps/batch_3  -s Mapping/2011Haps/PHOOD11X05H_0046 -o Mapping/2011Haps\n",
      "sstacks -b 3 -c Mapping/2011Haps/batch_3  -s Mapping/2011Haps/PHOOD11X05H_0047 -o Mapping/2011Haps\n",
      "sstacks -b 3 -c Mapping/2011Haps/batch_3  -s Mapping/2011Haps/PHOOD11X05H_0048 -o Mapping/2011Haps\n",
      "sstacks -b 3 -c Mapping/2011Haps/batch_3  -s Mapping/2011Haps/PHOOD11X05H_0049 -o Mapping/2011Haps\n",
      "sstacks -b 3 -c Mapping/2011Haps/batch_3  -s Mapping/2011Haps/PHOOD11X05H_0050 -o Mapping/2011Haps\n",
      "sstacks -b 3 -c Mapping/2011Haps/batch_3  -s Mapping/2011Haps/PHOOD11X05H_0051 -o Mapping/2011Haps\n",
      "sstacks -b 3 -c Mapping/2011Haps/batch_3  -s Mapping/2011Haps/PHOOD11X05H_0052 -o Mapping/2011Haps\n",
      "sstacks -b 3 -c Mapping/2011Haps/batch_3  -s Mapping/2011Haps/PHOOD11X05H_0053 -o Mapping/2011Haps\n",
      "sstacks -b 3 -c Mapping/2011Haps/batch_3  -s Mapping/2011Haps/PHOOD11X05H_0054 -o Mapping/2011Haps\n",
      "sstacks -b 3 -c Mapping/2011Haps/batch_3  -s Mapping/2011Haps/PHOOD11X05H_0055 -o Mapping/2011Haps\n",
      "sstacks -b 3 -c Mapping/2011Haps/batch_3  -s Mapping/2011Haps/PHOOD11X05H_0056 -o Mapping/2011Haps\n",
      "sstacks -b 3 -c Mapping/2011Haps/batch_3  -s Mapping/2011Haps/PHOOD11X05H_0057 -o Mapping/2011Haps\n",
      "sstacks -b 3 -c Mapping/2011Haps/batch_3  -s Mapping/2011Haps/PHOOD11X05H_0058 -o Mapping/2011Haps\n",
      "sstacks -b 3 -c Mapping/2011Haps/batch_3  -s Mapping/2011Haps/PHOOD11X05H_0059 -o Mapping/2011Haps\n",
      "sstacks -b 3 -c Mapping/2011Haps/batch_3  -s Mapping/2011Haps/PHOOD11X05H_0060 -o Mapping/2011Haps\n",
      "sstacks -b 3 -c Mapping/2011Haps/batch_3  -s Mapping/2011Haps/PHOOD11X05H_0061 -o Mapping/2011Haps\n",
      "sstacks -b 3 -c Mapping/2011Haps/batch_3  -s Mapping/2011Haps/PHOOD11X05H_0062 -o Mapping/2011Haps\n",
      "sstacks -b 3 -c Mapping/2011Haps/batch_3  -s Mapping/2011Haps/PHOOD11X05H_0063 -o Mapping/2011Haps\n",
      "sstacks -b 3 -c Mapping/2011Haps/batch_3  -s Mapping/2011Haps/PHOOD11X05H_0064 -o Mapping/2011Haps\n",
      "sstacks -b 3 -c Mapping/2011Haps/batch_3  -s Mapping/2011Haps/PHOOD11X05H_0065 -o Mapping/2011Haps\n",
      "sstacks -b 3 -c Mapping/2011Haps/batch_3  -s Mapping/2011Haps/PHOOD11X05H_0066 -o Mapping/2011Haps\n",
      "sstacks -b 3 -c Mapping/2011Haps/batch_3  -s Mapping/2011Haps/PHOOD11X05H_0067 -o Mapping/2011Haps\n",
      "sstacks -b 3 -c Mapping/2011Haps/batch_3  -s Mapping/2011Haps/PHOOD11X05H_0068 -o Mapping/2011Haps\n",
      "sstacks -b 3 -c Mapping/2011Haps/batch_3  -s Mapping/2011Haps/PHOOD11X05H_0069 -o Mapping/2011Haps\n",
      "sstacks -b 3 -c Mapping/2011Haps/batch_3  -s Mapping/2011Haps/PHOOD11X05H_0070 -o Mapping/2011Haps\n",
      "sstacks -b 3 -c Mapping/2011Haps/batch_3  -s Mapping/2011Haps/PHOOD11X05H_0071 -o Mapping/2011Haps\n",
      "sstacks -b 3 -c Mapping/2011Haps/batch_3  -s Mapping/2011Haps/PHOOD11X05H_0072 -o Mapping/2011Haps\n",
      "sstacks -b 3 -c Mapping/2011Haps/batch_3  -s Mapping/2011Haps/PHOOD11X05H_0073 -o Mapping/2011Haps\n",
      "sstacks -b 3 -c Mapping/2011Haps/batch_3  -s Mapping/2011Haps/PHOOD11X05H_0074 -o Mapping/2011Haps\n",
      "sstacks -b 3 -c Mapping/2011Haps/batch_3  -s Mapping/2011Haps/PHOOD11X05H_0075 -o Mapping/2011Haps\n",
      "sstacks -b 3 -c Mapping/2011Haps/batch_3  -s Mapping/2011Haps/PHOOD11X05H_0076 -o Mapping/2011Haps\n",
      "sstacks -b 3 -c Mapping/2011Haps/batch_3  -s Mapping/2011Haps/PHOOD11X05H_0077 -o Mapping/2011Haps\n",
      "sstacks -b 3 -c Mapping/2011Haps/batch_3  -s Mapping/2011Haps/PHOOD11X05H_0078 -o Mapping/2011Haps\n",
      "sstacks -b 3 -c Mapping/2011Haps/batch_3  -s Mapping/2011Haps/PHOOD11X05H_0079 -o Mapping/2011Haps\n",
      "sstacks -b 3 -c Mapping/2011Haps/batch_3  -s Mapping/2011Haps/PHOOD11X05H_0080 -o Mapping/2011Haps\n",
      "sstacks -b 3 -c Mapping/2011Haps/batch_3  -s Mapping/2011Haps/PHOOD11X05H_0081 -o Mapping/2011Haps\n",
      "sstacks -b 3 -c Mapping/2011Haps/batch_3  -s Mapping/2011Haps/PHOOD11X05H_0082 -o Mapping/2011Haps\n",
      "sstacks -b 3 -c Mapping/2011Haps/batch_3  -s Mapping/2011Haps/PHOOD11X05H_0083 -o Mapping/2011Haps\n",
      "sstacks -b 3 -c Mapping/2011Haps/batch_3  -s Mapping/2011Haps/PHOOD11X05H_0084 -o Mapping/2011Haps\n",
      "sstacks -b 3 -c Mapping/2011Haps/batch_3  -s Mapping/2011Haps/PHOOD11X05H_0085 -o Mapping/2011Haps\n",
      "sstacks -b 3 -c Mapping/2011Haps/batch_3  -s Mapping/2011Haps/PHOOD11X05H_0086 -o Mapping/2011Haps\n",
      "sstacks -b 3 -c Mapping/2011Haps/batch_3  -s Mapping/2011Haps/PHOOD11X05H_0087 -o Mapping/2011Haps\n",
      "sstacks -b 3 -c Mapping/2011Haps/batch_3  -s Mapping/2011Haps/PHOOD11X05H_0088 -o Mapping/2011Haps\n",
      "sstacks -b 3 -c Mapping/2011Haps/batch_3  -s Mapping/2011Haps/PHOOD11X05H_0089 -o Mapping/2011Haps\n",
      "sstacks -b 3 -c Mapping/2011Haps/batch_3  -s Mapping/2011Haps/PHOOD11X05H_0091 -o Mapping/2011Haps\n",
      "sstacks -b 3 -c Mapping/2011Haps/batch_3  -s Mapping/2011Haps/PHOOD11X05H_0092 -o Mapping/2011Haps\n",
      "sstacks -b 3 -c Mapping/2011Haps/batch_3  -s Mapping/2011Haps/PHOOD11X05H_0093 -o Mapping/2011Haps\n",
      "sstacks -b 3 -c Mapping/2011Haps/batch_3  -s Mapping/2011Haps/PHOOD11X05H_0095 -o Mapping/2011Haps"
     ]
    },
    {
     "cell_type": "markdown",
     "metadata": {},
     "source": [
      "#Getting Haplotypes \n",
      "The haploid samples have to be genotyped seperately than the diploid samples. The 102G family and the parents of all the families will be seperated and run through populations together. "
     ]
    },
    {
     "cell_type": "code",
     "collapsed": false,
     "input": [],
     "language": "python",
     "metadata": {},
     "outputs": []
    },
    {
     "cell_type": "code",
     "collapsed": false,
     "input": [],
     "language": "python",
     "metadata": {},
     "outputs": []
    },
    {
     "cell_type": "markdown",
     "metadata": {},
     "source": [
      "#Summary\n"
     ]
    },
    {
     "cell_type": "markdown",
     "metadata": {},
     "source": [
      "This notebook details the steps taken to: \n",
      "\n",
      "    - run process_radtags on raw data\n",
      "    - remove barcodes and rename samples with sample names\n",
      "    - resequence samples\n",
      "    - repeat process_radtags and renaming on resequenced samples\n",
      "    - Re-resequence samples\n",
      "    - repeat process_radtags and renaming on Re-resequenced samples\n",
      "    - concatenate all the runs of resequencing with original runs \n",
      "    - run ustacks on samples\n",
      "    - run sstacks to find matches between samples and the catalog\n",
      "    - run populations to haplotype the samples\n",
      "    \n",
      "Next steps: \n",
      "\n",
      "    - filter the data using Ryan's pipeline\n",
      "    - build a linkage map with the haploid data"
     ]
    }
   ],
   "metadata": {}
  }
 ]
}