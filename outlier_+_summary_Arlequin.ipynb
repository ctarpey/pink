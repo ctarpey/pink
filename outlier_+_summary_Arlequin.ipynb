{
 "metadata": {
  "name": "",
  "signature": "sha256:c48b170f02d9dcf8b6622a9a5a064bd36bda842e84b819e64d0843b27f535159"
 },
 "nbformat": 3,
 "nbformat_minor": 0,
 "worksheets": [
  {
   "cells": [
    {
     "cell_type": "code",
     "collapsed": false,
     "input": [
      "#Outlier test and Summary Statistics with Arlequin "
     ],
     "language": "python",
     "metadata": {},
     "outputs": []
    },
    {
     "cell_type": "code",
     "collapsed": false,
     "input": [
      "#Arlequin"
     ],
     "language": "python",
     "metadata": {},
     "outputs": []
    }
   ],
   "metadata": {}
  }
 ]
}