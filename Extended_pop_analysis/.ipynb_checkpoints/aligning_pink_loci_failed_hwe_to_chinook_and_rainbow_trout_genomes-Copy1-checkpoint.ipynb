{
 "cells": [
  {
   "cell_type": "markdown",
   "metadata": {},
   "source": [
    "# Aligning pink loci that failed HWE to the chinook and rainbow trout genomes (O. tshawytscha and O. mykiss)"
   ]
  },
  {
   "cell_type": "markdown",
   "metadata": {},
   "source": [
    "#### Bowtie2 version 2.3.4"
   ]
  },
  {
   "cell_type": "markdown",
   "metadata": {},
   "source": [
    "### Background \n",
    "Though we eliminated any loci that did not adhere to HWE in 50% of our 18 populations, we wanted to see if aligning them to a genome would show any interesting patterns in these loci. We are especially interested to see if there are any inversions, as loci out of HWE have proved to be an indicator of inversions in other similar salmon data sets (personal communication, Garrett McKinney). The original choice for alignment was the rainbow trout genome, recommended by Garrett, but since chinook is a more closely related species, I wanted to try to align to the chinook genome as well. Garrett may have recommended the trout genome because it is the most complete, I'm not sure. "
   ]
  },
  {
   "cell_type": "markdown",
   "metadata": {},
   "source": [
    "### Simplified steps:\n",
    "\n",
    "    1. Convert the list of pink loci that failed HWE filtration step to a FASTA file.\n",
    "    2. Retrieve the o. mykiss and o. tshawytscha genomes.\n",
    "    3. Using Bowtie2, create an index from the rainbow trout genome and align the pink loci that failed the HWE filter to it; do the same for the chinook genome.  "
   ]
  },
  {
   "cell_type": "markdown",
   "metadata": {},
   "source": [
    "### Pink Data: \n",
    "The pink loci are a list of 1,481 loci that were eliminated from the data set when they did not adhere to the expectation of Hardy-Weinberg (HWE) of >0.05 in at least 50% of the populations (9 populations). \n"
   ]
  },
  {
   "cell_type": "markdown",
   "metadata": {},
   "source": [
    "### Rainbow trout genome: \n",
    "There are two rainbow trout genomes, and I aligned to both. \n",
    "\n",
    "  The older one is from 2014 and came from a paper published in Nature: \n",
    "  \n",
    "    Berthelot, C. et al. The rainbow trout genome provides novel insights into evolution after whole-genome duplication in vertebrates. Nat. Commun. 5:3657 doi: 10.1038/ncomms4657 (2014).\n",
    "\n",
    "    Accession codes: Genome, transcriptome and miRNA sequence data for Oncorhynchus mykiss have been deposited in GenBank/EMBL/DDBJ sequence read archive (SRA) under the accession codes ERP003734, ERP003742 and SRP032774. The genome assembly has been deposited in the European Nucleotide Archive under the accession code CCAF000000000 and the project PRJEB4421.\n",
    "\n",
    "   The newer genome is also listed on genbank, and was submitted in 2016:\n",
    "   \n",
    "    Gao, G. 2016. A New and Improved Rainbow Trout (Oncorhynchus mykiss) Reference Genome Assembly. International Conference on Integrative Salmonid Biology. 1: 40. \n",
    "\n",
    "    The Oncorhynchus mykiss whole genome shotgun (WGS) project has the project accession MSJN00000000.  This version of the project (01) has the accession number MSJN01000000, and consists of sequences MSJN01000001-MSJN01139799."
   ]
  },
  {
   "cell_type": "markdown",
   "metadata": {},
   "source": [
    "\n",
    "### Chinook genome:   \n",
    "  \n",
    "There are two copies of the chinook genome too, I believe they're the same. One is on our lab network drive, we got it directly from the authors, and the other was listed on genbank. \n",
    "\n",
    "   From Genbank: \n",
    "   \n",
    "    Chinook Salmon Genome and Transcriptome:  Submitted (01-NOV-2017) Marine Ecosystems and Aquaculture Division, Science Branch, Fisheries and Oceans Canada, 4160 Marine Drive, West Vancouver, BC V7V 1N6, Canada.  Christensen,K.A., Leong,J.S., Sakhrani,D., Minkley,D.R., Withler,R.E., Rondeau,E.B., Koop,B.F., Devlin,R.H.\n",
    "\n",
    "    The Oncorhynchus tshawytscha whole genome shotgun (WGS) project has the project accession PEKY00000000.  This version of the project (01) has the accession number PEKY01000000, and consists of sequences PEKY01000001-PEKY01015945.\n",
    "\n",
    "   From our network drive (I need more information about it): \n",
    "   \n",
    "     The file is called Otsh_ver1.0_renamed.fasta and it is 1,735,490KB large, last modified 11/07/2017"
   ]
  },
  {
   "cell_type": "markdown",
   "metadata": {},
   "source": [
    "## Step 1. Create a FASTA file for the loci that failed HWE. \n",
    "To create a FASTA file, use the list of loci that failed the HWE test in the filtering stage and the catalog file that has the sequences for each of the loci. I brought them both into Excel and did a vlookup to get the sequence for each tag that contains the SNP. \n",
    "Use the following python script to convert the excel file to a FASTA format. Be sure to hard code in the appropriate column numbers for your excel sheet into the following code. "
   ]
  },
  {
   "cell_type": "code",
   "execution_count": null,
   "metadata": {
    "collapsed": true
   },
   "outputs": [],
   "source": [
    "##convert_catalog_tags_to_FASTA.py\n",
    "##python plan for converting table s2 to FASTA format\n",
    "## feb 18 2015 \n",
    "# carolyn tarpey (&garrett)\n",
    "\n",
    "## this needs two arguments:\n",
    "#the first is the name of the excel file that needs converting \n",
    "#the second is the name of the output file you want (the FASTA file)\n",
    "\n",
    "#!/bin/bash\n",
    "\n",
    "import sys\n",
    "import re\n",
    "\n",
    "#open file\n",
    "excel_file = open(sys.argv[1], \"r\")\n",
    "FASTA = open(sys.argv[2],\"w\") \n",
    "\n",
    "for line in excel_file:#read one line  of the excel file at a time and \n",
    "\tcolumns = line.split(\"\\t\")#take that line and split it up by the tabs\n",
    "\t#print columns \n",
    "\tnewline =[ \">\", columns[0], \"\\n\" ] #> the column with the locus name\n",
    "\tprint newline\n",
    "\tFASTA.write(''.join(newline)) # write this to the output file: > the second column tab third column tab fourth column end line\n",
    "\tseq = columns[3] # the column with the sequence\n",
    "\tprint seq\n",
    "\t\n",
    "\tFASTA.write(''.join(seq)) # write this to the output file: the sequence\n",
    "\tFASTA.write(\"\\n\") #skip a line in the output\n",
    "\n",
    "excel_file.close()\n",
    "FASTA.close()"
   ]
  },
  {
   "cell_type": "markdown",
   "metadata": {},
   "source": [
    "## Step 2. Retreive the genomes from genbank\n",
    "This one is really easy. Go to the website and search for the species names. \n",
    "Download any genomes in the FASTA format. Unzip them when you get them to the file that contains Bowtie2. "
   ]
  },
  {
   "cell_type": "markdown",
   "metadata": {
    "collapsed": true
   },
   "source": [
    "## Step 3. Use Bowtie2 to align the failed HWE pink loci to each of the genomes\n",
    "First create an index out of each of the genomes, then align the FASTA file with the failed HWE loci to the index for each genome. Here is the code I used to create the indexes and align the HWE loci to each of the genomes: "
   ]
  },
  {
   "cell_type": "code",
   "execution_count": null,
   "metadata": {
    "collapsed": true
   },
   "outputs": [],
   "source": [
    "#these lines of code have to be run in the folder that has the bowtie2 executables and the fasta files listed,\n",
    "#can not be run from here- I made them into a .bat and ran overnight\n",
    "\n",
    "bowtie2-build ./CCAF01.fasta trout_genome\n",
    "bowtie2 -f --local -x ./trout_genome -U ./loci_failed_HWE_FASTA.txt -S ./pink_HWE_to_trout.SAM\n",
    "\n",
    "bowtie2-build ./Otsh_ver1_0_renamed.fasta chinook_genome_garrett\n",
    "bowtie2 -f --local -x ./chinook_genome_garrett -U ./loci_failed_HWE_FASTA.txt -S ./pink_HWE_to_chinook_garrett.SAM\n",
    "\n",
    "bowtie2-build ./GCF_002163495.1_Omyk_1.0_genomic.fna trout_genome_new\n",
    "bowtie2 -f --local -x ./trout_genome_new -U ./loci_failed_HWE_FASTA.txt -S ./pink_HWE_to_trout_new.SAM\n",
    "\n",
    "bowtie2-build ./GCA_002831465.1_CHI06_genomic.fna chinook_genome_new\n",
    "bowtie2 -f --local -x ./chinook_genome_new -U ./loci_failed_HWE_FASTA.txt -S ./pink_HWE_to_chinook_new.SAM\n"
   ]
  },
  {
   "cell_type": "markdown",
   "metadata": {},
   "source": [
    "The HWE failed loci had different alignment rates to each of the four genomes, detailed here:\n",
    "\n",
    "    Rainbow trout: \n",
    "       \n",
    "       Old:\n",
    "        1482 reads; of these:\n",
    "          1482 (100.00%) were unpaired; of these:\n",
    "          248 (16.73%) aligned 0 times\n",
    "          229 (15.45%) aligned exactly 1 time\n",
    "          1005 (67.81%) aligned >1 times\n",
    "        83.27% overall alignment rate\n",
    "         \n",
    "        New:   \n",
    "        1482 reads; of these:\n",
    "          1482 (100.00%) were unpaired; of these:\n",
    "          41 (2.77%) aligned 0 times\n",
    "          105 (7.09%) aligned exactly 1 time\n",
    "          1336 (90.15%) aligned >1 times\n",
    "        97.23% overall alignment rate\n",
    "\n",
    "    Chinook: \n",
    "       \n",
    "       Old:\n",
    "        1482 reads; of these:\n",
    "          1482 (100.00%) were unpaired; of these:\n",
    "          255 (17.21%) aligned 0 times\n",
    "          291 (19.64%) aligned exactly 1 time\n",
    "          936 (63.16%) aligned >1 times\n",
    "        82.79% overall alignment rate\n",
    "        \n",
    "        New:  \n",
    "        1482 reads; of these:\n",
    "          1482 (100.00%) were unpaired; of these:\n",
    "            79 (5.33%) aligned 0 times\n",
    "            201 (13.56%) aligned exactly 1 time\n",
    "            1020 (81.11%) aligned >1 times\n",
    "        94.67% overall alignment rate\n",
    "        \n",
    "        Because the New versions of both species' genomes worked well in the alignment of the pink loci, I'll use the new Chinook genome alignments going forward because chinook salmon is more closely related to pink salmon than rainbow trout.\n"
   ]
  },
  {
   "cell_type": "markdown",
   "metadata": {},
   "source": [
    "# Results"
   ]
  },
  {
   "cell_type": "markdown",
   "metadata": {},
   "source": [
    "## Pink HWE failed loci to early rainbow trout genome"
   ]
  },
  {
   "cell_type": "code",
   "execution_count": null,
   "metadata": {
    "collapsed": true
   },
   "outputs": [],
   "source": [
    "###Pysam needs to be run with anaconda. This notebook works on Ryan's Ubuntu\n",
    "###using jupyter anaconda"
   ]
  },
  {
   "cell_type": "code",
   "execution_count": null,
   "metadata": {
    "collapsed": true
   },
   "outputs": [],
   "source": [
    "%cd \"/home/ipseg/Desktop/pink_to_chinook/NewLGalignment\""
   ]
  },
  {
   "cell_type": "code",
   "execution_count": null,
   "metadata": {
    "collapsed": true
   },
   "outputs": [],
   "source": [
    "import pysam"
   ]
  },
  {
   "cell_type": "code",
   "execution_count": null,
   "metadata": {
    "collapsed": true
   },
   "outputs": [],
   "source": [
    "#import pysam\n",
    "import os.path\n",
    "import numpy as np\n",
    "import pandas as pd\n",
    "from IPython.core.pylabtools import figsize\n",
    "import matplotlib.pyplot as plt\n",
    "import seaborn as sns\n",
    "sns.set(font_scale=2)\n",
    "sns.set_style(\"white\")\n",
    "%matplotlib inline"
   ]
  },
  {
   "cell_type": "code",
   "execution_count": null,
   "metadata": {
    "collapsed": true
   },
   "outputs": [],
   "source": [
    "raw_sam_file = '/home/ipseg/Desktop/pink_to_chinook/NewLGalignment/pink_to_chinook.SAM'\n",
    "filtered_sam_file = '/home/ipseg/Desktop/pink_to_chinook/NewLGalignment/pink_to_chinook_filtered.SAM.txt'"
   ]
  },
  {
   "cell_type": "code",
   "execution_count": null,
   "metadata": {
    "collapsed": true
   },
   "outputs": [],
   "source": [
    "def get_aligns(sam_file = raw_sam_file):\n",
    "    return(pysam.AlignmentFile(sam_file, \"r\").fetch())"
   ]
  },
  {
   "cell_type": "markdown",
   "metadata": {
    "collapsed": true
   },
   "source": [
    "### Mapping quality"
   ]
  },
  {
   "cell_type": "code",
   "execution_count": null,
   "metadata": {
    "collapsed": true
   },
   "outputs": [],
   "source": [
    "mpqs = [read.mapping_quality for read in get_aligns()]"
   ]
  },
  {
   "cell_type": "code",
   "execution_count": null,
   "metadata": {
    "collapsed": true
   },
   "outputs": [],
   "source": [
    "len(mpqs)"
   ]
  },
  {
   "cell_type": "code",
   "execution_count": null,
   "metadata": {
    "collapsed": true
   },
   "outputs": [],
   "source": [
    "plt.hist(mpqs, bins = 20)\n",
    "plt.xlabel('Mapping quality')\n",
    "plt.ylabel('count')\n",
    "plt.title('')\n",
    "plt.show()\n",
    "\n",
    "plt.hist(mpqs, bins = 20)\n",
    "plt.xlabel('Mapping quality')\n",
    "plt.ylabel('count')\n",
    "plt.title('')\n",
    "plt.xlim(2)\n",
    "plt.ylim(0, 1500)\n",
    "plt.show()"
   ]
  },
  {
   "cell_type": "code",
   "execution_count": null,
   "metadata": {
    "collapsed": true
   },
   "outputs": [],
   "source": [
    "###Strand Bias"
   ]
  },
  {
   "cell_type": "code",
   "execution_count": null,
   "metadata": {
    "collapsed": true
   },
   "outputs": [],
   "source": [
    "flags  = [read.flag for read in get_aligns()]\n",
    "figsize(5,5)\n",
    "plt.hist(flags, bins = 16)\n",
    "plt.show()"
   ]
  },
  {
   "cell_type": "code",
   "execution_count": null,
   "metadata": {
    "collapsed": true
   },
   "outputs": [],
   "source": [
    "###Alignment length"
   ]
  },
  {
   "cell_type": "code",
   "execution_count": null,
   "metadata": {
    "collapsed": true
   },
   "outputs": [],
   "source": [
    "qal =  [read.query_alignment_length for read in get_aligns()]\n",
    "plt.hist(qal)\n",
    "plt.show()"
   ]
  },
  {
   "cell_type": "code",
   "execution_count": null,
   "metadata": {
    "collapsed": true
   },
   "outputs": [],
   "source": [
    "###Edit Distances"
   ]
  },
  {
   "cell_type": "code",
   "execution_count": null,
   "metadata": {
    "collapsed": true
   },
   "outputs": [],
   "source": [
    "edit_distances = list()\n",
    "mq = list()\n",
    "for read in get_aligns():\n",
    "    try:\n",
    "        edit_distances.append(np.int(read.get_tag('XM')))\n",
    "        mq.append(np.int(read.mapping_quality))\n",
    "    except KeyError:\n",
    "        pass"
   ]
  },
  {
   "cell_type": "code",
   "execution_count": null,
   "metadata": {
    "collapsed": true
   },
   "outputs": [],
   "source": [
    "plt.hist(edit_distances)\n",
    "plt.show()"
   ]
  },
  {
   "cell_type": "code",
   "execution_count": null,
   "metadata": {
    "collapsed": true
   },
   "outputs": [],
   "source": [
    "##Edit Distance vs. Mapping Quality"
   ]
  },
  {
   "cell_type": "code",
   "execution_count": null,
   "metadata": {
    "collapsed": true
   },
   "outputs": [],
   "source": [
    "rr = pd.DataFrame({'ed' : edit_distances, 'mq' : mq })"
   ]
  },
  {
   "cell_type": "code",
   "execution_count": null,
   "metadata": {
    "collapsed": true
   },
   "outputs": [],
   "source": [
    "sns.kdeplot(rr, cmap=\"Blues\", shade = True, legend = True)\n",
    "plt.show()"
   ]
  },
  {
   "cell_type": "code",
   "execution_count": null,
   "metadata": {
    "collapsed": true
   },
   "outputs": [],
   "source": [
    "##lets only keep the aligments with: (query_alignment_length>=93) AND (mapping_quality>=30)"
   ]
  },
  {
   "cell_type": "code",
   "execution_count": null,
   "metadata": {
    "collapsed": true
   },
   "outputs": [],
   "source": [
    "with pysam.AlignmentFile(raw_sam_file, \"r\") as INFILE:\n",
    "    with pysam.AlignmentFile(filtered_sam_file, \"wh\", template=INFILE) as OUTFILE:\n",
    "        for aln in INFILE:\n",
    "            if (aln.query_alignment_length >= 94) and (aln.mapping_quality >= 30):\n",
    "                OUTFILE.write(aln)"
   ]
  },
  {
   "cell_type": "code",
   "execution_count": null,
   "metadata": {
    "collapsed": true
   },
   "outputs": [],
   "source": [
    "filtered_SAM = pd.read_csv(filtered_sam_file, sep = '\\t', comment='@', engine='python', \n",
    "            names = ['QNAME','FLAG','RNAME','POS','MAPQ','CIGAR','RNEXT','PNEXT','ISIZE','SEQ','QUAL',\n",
    "                     'TAG1', 'TAG2', 'TAG3' 'TAG4', 'TAG5', 'TAG6', 'TAG7','TAG8', 'TAG9','TAG10'])\n",
    "filtered_SAM.head()"
   ]
  },
  {
   "cell_type": "code",
   "execution_count": null,
   "metadata": {
    "collapsed": true
   },
   "outputs": [],
   "source": [
    "filtered_SAM.drop(['POS', 'RNEXT', 'PNEXT', 'ISIZE', 'SEQ','QUAL'], axis=1, inplace=True)\n",
    "filtered_SAM['RNAME'] = [str(xx) for xx in filtered_SAM['RNAME'] ]\n",
    "filtered_SAM.head()"
   ]
  },
  {
   "cell_type": "code",
   "execution_count": null,
   "metadata": {
    "collapsed": true
   },
   "outputs": [],
   "source": []
  },
  {
   "cell_type": "code",
   "execution_count": null,
   "metadata": {
    "collapsed": true
   },
   "outputs": [],
   "source": []
  },
  {
   "cell_type": "code",
   "execution_count": null,
   "metadata": {
    "collapsed": true
   },
   "outputs": [],
   "source": []
  },
  {
   "cell_type": "code",
   "execution_count": null,
   "metadata": {
    "collapsed": true
   },
   "outputs": [],
   "source": []
  },
  {
   "cell_type": "code",
   "execution_count": null,
   "metadata": {
    "collapsed": true
   },
   "outputs": [],
   "source": []
  },
  {
   "cell_type": "code",
   "execution_count": null,
   "metadata": {
    "collapsed": true
   },
   "outputs": [],
   "source": []
  },
  {
   "cell_type": "code",
   "execution_count": null,
   "metadata": {
    "collapsed": true
   },
   "outputs": [],
   "source": []
  },
  {
   "cell_type": "code",
   "execution_count": null,
   "metadata": {
    "collapsed": true
   },
   "outputs": [],
   "source": []
  },
  {
   "cell_type": "code",
   "execution_count": null,
   "metadata": {
    "collapsed": true
   },
   "outputs": [],
   "source": []
  }
 ],
 "metadata": {
  "kernelspec": {
   "display_name": "Python 2",
   "language": "python",
   "name": "python2"
  },
  "language_info": {
   "codemirror_mode": {
    "name": "ipython",
    "version": 2
   },
   "file_extension": ".py",
   "mimetype": "text/x-python",
   "name": "python",
   "nbconvert_exporter": "python",
   "pygments_lexer": "ipython2",
   "version": "2.7.11"
  }
 },
 "nbformat": 4,
 "nbformat_minor": 0
}
