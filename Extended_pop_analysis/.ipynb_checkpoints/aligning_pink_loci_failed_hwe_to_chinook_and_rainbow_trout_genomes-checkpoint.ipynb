{
 "cells": [
  {
   "cell_type": "markdown",
   "metadata": {},
   "source": [
    "# Aligning pink loci that failed HWE to the chinook and rainbow trout genomes (O. tshawytscha and O. mykiss)"
   ]
  },
  {
   "cell_type": "markdown",
   "metadata": {},
   "source": [
    "#### Bowtie2 version 2.3.4"
   ]
  },
  {
   "cell_type": "markdown",
   "metadata": {},
   "source": [
    "### Background \n",
    "Though we eliminated any loci that did not adhere to HWE in 50% of our 18 populations, we wanted to see if aligning them to a genome would show any interesting patterns in these loci. We are especially interested to see if there are any inversions, as loci out of HWE have proved to be an indicator of inversions in other similar salmon data sets (personal communication, Garrett McKinney). The original choice for alignment was the rainbow trout genome, recommended by Garrett, but since chinook is a more closely related species, I wanted to try to align to the chinook genome as well. Garrett may have recommended the trout genome because it is the most complete, I'm not sure. "
   ]
  },
  {
   "cell_type": "markdown",
   "metadata": {},
   "source": [
    "### Simplified steps:\n",
    "\n",
    "    1. Convert the list of pink loci that failed HWE filtration step to a FASTA file.\n",
    "    2. Retrieve the o. mykiss and o. tshawytscha genomes.\n",
    "    3. Using Bowtie2, create an index from the rainbow trout genome and align the pink loci that failed the HWE filter to it; do the same for the chinook genome.  "
   ]
  },
  {
   "cell_type": "markdown",
   "metadata": {},
   "source": [
    "### Pink Data: \n",
    "The pink loci are a list of 1,481 loci that were eliminated from the data set when they did not adhere to the expectation of Hardy-Weinberg (HWE) of >0.05 in at least 50% of the populations (9 populations). \n"
   ]
  },
  {
   "cell_type": "markdown",
   "metadata": {},
   "source": [
    "### Rainbow trout genome: \n",
    "There are two rainbow trout genomes, and I aligned to both. \n",
    "\n",
    "  The older one is from 2014 and came from a paper published in Nature: \n",
    "  \n",
    "    Berthelot, C. et al. The rainbow trout genome provides novel insights into evolution after whole-genome duplication in vertebrates. Nat. Commun. 5:3657 doi: 10.1038/ncomms4657 (2014).\n",
    "\n",
    "    Accession codes: Genome, transcriptome and miRNA sequence data for Oncorhynchus mykiss have been deposited in GenBank/EMBL/DDBJ sequence read archive (SRA) under the accession codes ERP003734, ERP003742 and SRP032774. The genome assembly has been deposited in the European Nucleotide Archive under the accession code CCAF000000000 and the project PRJEB4421.\n",
    "\n",
    "   The newer genome is also listed on genbank, and was submitted in 2016:\n",
    "   \n",
    "    Gao, G. 2016. A New and Improved Rainbow Trout (Oncorhynchus mykiss) Reference Genome Assembly. International Conference on Integrative Salmonid Biology. 1: 40. \n",
    "\n",
    "    The Oncorhynchus mykiss whole genome shotgun (WGS) project has the project accession MSJN00000000.  This version of the project (01) has the accession number MSJN01000000, and consists of sequences MSJN01000001-MSJN01139799."
   ]
  },
  {
   "cell_type": "markdown",
   "metadata": {},
   "source": [
    "\n",
    "### Chinook genome:   \n",
    "  \n",
    "There are two copies of the chinook genome too, I believe they're the same. One is on our lab network drive, we got it directly from the authors, and the other was listed on genbank. \n",
    "\n",
    "   From Genbank: \n",
    "   \n",
    "    Chinook Salmon Genome and Transcriptome:  Submitted (01-NOV-2017) Marine Ecosystems and Aquaculture Division, Science Branch, Fisheries and Oceans Canada, 4160 Marine Drive, West Vancouver, BC V7V 1N6, Canada.  Christensen,K.A., Leong,J.S., Sakhrani,D., Minkley,D.R., Withler,R.E., Rondeau,E.B., Koop,B.F., Devlin,R.H.\n",
    "\n",
    "    The Oncorhynchus tshawytscha whole genome shotgun (WGS) project has the project accession PEKY00000000.  This version of the project (01) has the accession number PEKY01000000, and consists of sequences PEKY01000001-PEKY01015945.\n",
    "\n",
    "   From our network drive (I need more information about it): \n",
    "   \n",
    "     The file is called Otsh_ver1.0_renamed.fasta and it is 1,735,490KB large, last modified 11/07/2017"
   ]
  },
  {
   "cell_type": "markdown",
   "metadata": {},
   "source": [
    "## Step 1. Create a FASTA file for the loci that failed HWE. \n",
    "To create a FASTA file, use the list of loci that failed the HWE test in the filtering stage and the catalog file that has the sequences for each of the loci. I brought them both into Excel and did a vlookup to get the sequence for each tag that contains the SNP. \n",
    "Use the following python script to convert the excel file to a FASTA format. Be sure to hard code in the appropriate column numbers for your excel sheet into the following code. "
   ]
  },
  {
   "cell_type": "code",
   "execution_count": null,
   "metadata": {
    "collapsed": true
   },
   "outputs": [],
   "source": [
    "##convert_catalog_tags_to_FASTA.py\n",
    "##python plan for converting table s2 to FASTA format\n",
    "## feb 18 2015 \n",
    "# carolyn tarpey (&garrett)\n",
    "\n",
    "## this needs two arguments:\n",
    "#the first is the name of the excel file that needs converting \n",
    "#the second is the name of the output file you want (the FASTA file)\n",
    "\n",
    "#!/bin/bash\n",
    "\n",
    "import sys\n",
    "import re\n",
    "\n",
    "#open file\n",
    "excel_file = open(sys.argv[1], \"r\")\n",
    "FASTA = open(sys.argv[2],\"w\") \n",
    "\n",
    "for line in excel_file:#read one line  of the excel file at a time and \n",
    "\tcolumns = line.split(\"\\t\")#take that line and split it up by the tabs\n",
    "\t#print columns \n",
    "\tnewline =[ \">\", columns[0], \"\\n\" ] #> the column with the locus name\n",
    "\tprint newline\n",
    "\tFASTA.write(''.join(newline)) # write this to the output file: > the second column tab third column tab fourth column end line\n",
    "\tseq = columns[3] # the column with the sequence\n",
    "\tprint seq\n",
    "\t\n",
    "\tFASTA.write(''.join(seq)) # write this to the output file: the sequence\n",
    "\tFASTA.write(\"\\n\") #skip a line in the output\n",
    "\n",
    "excel_file.close()\n",
    "FASTA.close()"
   ]
  },
  {
   "cell_type": "markdown",
   "metadata": {},
   "source": [
    "## Step 2. Retreive the genomes from genbank\n",
    "This one is really easy. Go to the website and search for the species names. \n",
    "Download any genomes in the FASTA format. Unzip them when you get them to the file that contains Bowtie2. "
   ]
  },
  {
   "cell_type": "markdown",
   "metadata": {
    "collapsed": true
   },
   "source": [
    "## Step 3. Use Bowtie2 to align the failed HWE pink loci to each of the genomes\n",
    "First create an index out of each of the genomes, then align the FASTA file with the failed HWE loci to the index for each genome. Here is the code I used to create the indexes and align the HWE loci to each of the genomes: "
   ]
  },
  {
   "cell_type": "code",
   "execution_count": null,
   "metadata": {
    "collapsed": true
   },
   "outputs": [],
   "source": [
    "#these lines of code have to be run in the folder that has the bowtie2 executables and the fasta files listed,\n",
    "#can not be run from here- I made them into a .bat and ran overnight\n",
    "\n",
    "bowtie2-build ./CCAF01.fasta trout_genome\n",
    "bowtie2 -f --local -x ./trout_genome -U ./loci_failed_HWE_FASTA.txt -S ./pink_HWE_to_trout.SAM\n",
    "\n",
    "bowtie2-build ./Otsh_ver1_0_renamed.fasta chinook_genome_garrett\n",
    "bowtie2 -f --local -x ./chinook_genome_garrett -U ./loci_failed_HWE_FASTA.txt -S ./pink_HWE_to_chinook_garrett.SAM\n",
    "\n",
    "bowtie2-build ./GCF_002163495.1_Omyk_1.0_genomic.fna trout_genome_new\n",
    "bowtie2 -f --local -x ./trout_genome_new -U ./loci_failed_HWE_FASTA.txt -S ./pink_HWE_to_trout_new.SAM\n",
    "\n",
    "bowtie2-build ./GCA_002831465.1_CHI06_genomic.fna chinook_genome_new\n",
    "bowtie2 -f --local -x ./chinook_genome_new -U ./loci_failed_HWE_FASTA.txt -S ./pink_HWE_to_chinook_new.SAM\n"
   ]
  },
  {
   "cell_type": "markdown",
   "metadata": {},
   "source": [
    "The HWE failed loci had different alignment rates to each of the four genomes, detailed here:\n",
    "\n",
    "    Rainbow trout: \n",
    "       \n",
    "       Old:\n",
    "        1482 reads; of these:\n",
    "          1482 (100.00%) were unpaired; of these:\n",
    "          248 (16.73%) aligned 0 times\n",
    "          229 (15.45%) aligned exactly 1 time\n",
    "          1005 (67.81%) aligned >1 times\n",
    "        83.27% overall alignment rate\n",
    "         \n",
    "        New:   \n",
    "        1482 reads; of these:\n",
    "          1482 (100.00%) were unpaired; of these:\n",
    "          41 (2.77%) aligned 0 times\n",
    "          105 (7.09%) aligned exactly 1 time\n",
    "          1336 (90.15%) aligned >1 times\n",
    "        97.23% overall alignment rate\n",
    "\n",
    "    Chinook: \n",
    "       \n",
    "       Old:\n",
    "        1482 reads; of these:\n",
    "          1482 (100.00%) were unpaired; of these:\n",
    "          255 (17.21%) aligned 0 times\n",
    "          291 (19.64%) aligned exactly 1 time\n",
    "          936 (63.16%) aligned >1 times\n",
    "        82.79% overall alignment rate\n",
    "        \n",
    "        New:  \n",
    "        1482 reads; of these:\n",
    "          1482 (100.00%) were unpaired; of these:\n",
    "            79 (5.33%) aligned 0 times\n",
    "            201 (13.56%) aligned exactly 1 time\n",
    "            1020 (81.11%) aligned >1 times\n",
    "        94.67% overall alignment rate\n",
    "        \n",
    "        Because the New versions of both species' genomes worked well in the alignment of the pink loci, I'll use the new Chinook genome alignments going forward because chinook salmon is more closely related to pink salmon than rainbow trout.\n"
   ]
  },
  {
   "cell_type": "markdown",
   "metadata": {},
   "source": [
    "# Results"
   ]
  },
  {
   "cell_type": "markdown",
   "metadata": {},
   "source": [
    "## Pink HWE failed loci to early rainbow trout genome"
   ]
  },
  {
   "cell_type": "code",
   "execution_count": null,
   "metadata": {
    "collapsed": true
   },
   "outputs": [],
   "source": [
    "###Pysam needs to be run with anaconda. This notebook works on Ryan's Ubuntu\n",
    "###using jupyter anaconda. To access, go to the file directory and type jupyter anaconda \n",
    "###into the command line, everything in the folder will open as options in the web browser"
   ]
  },
  {
   "cell_type": "code",
   "execution_count": 23,
   "metadata": {
    "collapsed": false
   },
   "outputs": [
    {
     "name": "stdout",
     "output_type": "stream",
     "text": [
      "/home/ipseg/Desktop/Pink_HWE_alignment\n"
     ]
    }
   ],
   "source": [
    "cd \"/home/ipseg/Desktop/Pink_HWE_alignment\""
   ]
  },
  {
   "cell_type": "code",
   "execution_count": 10,
   "metadata": {
    "collapsed": true
   },
   "outputs": [],
   "source": [
    "import pysam"
   ]
  },
  {
   "cell_type": "code",
   "execution_count": 11,
   "metadata": {
    "collapsed": true
   },
   "outputs": [],
   "source": [
    "#import pysam\n",
    "import os.path\n",
    "import numpy as np\n",
    "import pandas as pd\n",
    "from IPython.core.pylabtools import figsize\n",
    "import matplotlib.pyplot as plt\n",
    "import seaborn as sns\n",
    "sns.set(font_scale=2)\n",
    "sns.set_style(\"white\")\n",
    "%matplotlib inline"
   ]
  },
  {
   "cell_type": "code",
   "execution_count": 27,
   "metadata": {
    "collapsed": true
   },
   "outputs": [],
   "source": [
    "raw_sam_file = './pink_HWE_to_chinook_new.SAM'\n",
    "filtered_sam_file = './pink_HWE_to_chinook_new_filtered.SAM.txt'"
   ]
  },
  {
   "cell_type": "code",
   "execution_count": 25,
   "metadata": {
    "collapsed": true
   },
   "outputs": [],
   "source": [
    "def get_aligns(sam_file = raw_sam_file):\n",
    "    return(pysam.AlignmentFile(sam_file, \"r\").fetch())"
   ]
  },
  {
   "cell_type": "markdown",
   "metadata": {
    "collapsed": true
   },
   "source": [
    "### Mapping quality"
   ]
  },
  {
   "cell_type": "code",
   "execution_count": 29,
   "metadata": {
    "collapsed": false
   },
   "outputs": [],
   "source": [
    "mpqs = [read.mapping_quality for read in get_aligns()]"
   ]
  },
  {
   "cell_type": "code",
   "execution_count": 30,
   "metadata": {
    "collapsed": false
   },
   "outputs": [
    {
     "data": {
      "text/plain": [
       "1482"
      ]
     },
     "execution_count": 30,
     "metadata": {},
     "output_type": "execute_result"
    }
   ],
   "source": [
    "len(mpqs)"
   ]
  },
  {
   "cell_type": "code",
   "execution_count": 33,
   "metadata": {
    "collapsed": false
   },
   "outputs": [
    {
     "data": {
      "image/png": "[encoded data removed]",
      "text/plain": [
       "<matplotlib.figure.Figure at 0x7fad32c45690>"
      ]
     },
     "metadata": {},
     "output_type": "display_data"
    },
    {
     "data": {
      "image/png": "[encoded data removed]",
      "text/plain": [
       "<matplotlib.figure.Figure at 0x7fad32d13390>"
      ]
     },
     "metadata": {},
     "output_type": "display_data"
    }
   ],
   "source": [
    "plt.hist(mpqs, bins = 20)\n",
    "plt.xlabel('Mapping quality')\n",
    "plt.ylabel('count')\n",
    "plt.title('')\n",
    "plt.show()\n",
    "\n",
    "plt.hist(mpqs, bins = 20)\n",
    "plt.xlabel('Mapping quality')\n",
    "plt.ylabel('count')\n",
    "plt.title('')\n",
    "plt.xlim(2)\n",
    "plt.ylim(0, 400)\n",
    "plt.show()"
   ]
  },
  {
   "cell_type": "code",
   "execution_count": null,
   "metadata": {
    "collapsed": true
   },
   "outputs": [],
   "source": [
    "###Strand Bias"
   ]
  },
  {
   "cell_type": "code",
   "execution_count": 34,
   "metadata": {
    "collapsed": false
   },
   "outputs": [
    {
     "data": {
      "image/png": "[encoded data removed]",
      "text/plain": [
       "<matplotlib.figure.Figure at 0x7fad35691c10>"
      ]
     },
     "metadata": {},
     "output_type": "display_data"
    }
   ],
   "source": [
    "flags  = [read.flag for read in get_aligns()]\n",
    "figsize(5,5)\n",
    "plt.hist(flags, bins = 16)\n",
    "plt.show()"
   ]
  },
  {
   "cell_type": "code",
   "execution_count": null,
   "metadata": {
    "collapsed": true
   },
   "outputs": [],
   "source": [
    "###Alignment length"
   ]
  },
  {
   "cell_type": "code",
   "execution_count": 35,
   "metadata": {
    "collapsed": false
   },
   "outputs": [
    {
     "data": {
      "image/png": "[encoded data removed]",
      "text/plain": [
       "<matplotlib.figure.Figure at 0x7fad32e55890>"
      ]
     },
     "metadata": {},
     "output_type": "display_data"
    }
   ],
   "source": [
    "qal =  [read.query_alignment_length for read in get_aligns()]\n",
    "plt.hist(qal)\n",
    "plt.show()"
   ]
  },
  {
   "cell_type": "code",
   "execution_count": null,
   "metadata": {
    "collapsed": true
   },
   "outputs": [],
   "source": [
    "###Edit Distances"
   ]
  },
  {
   "cell_type": "code",
   "execution_count": 36,
   "metadata": {
    "collapsed": true
   },
   "outputs": [],
   "source": [
    "edit_distances = list()\n",
    "mq = list()\n",
    "for read in get_aligns():\n",
    "    try:\n",
    "        edit_distances.append(np.int(read.get_tag('XM')))\n",
    "        mq.append(np.int(read.mapping_quality))\n",
    "    except KeyError:\n",
    "        pass"
   ]
  },
  {
   "cell_type": "code",
   "execution_count": 37,
   "metadata": {
    "collapsed": false
   },
   "outputs": [
    {
     "data": {
      "image/png": "[encoded data removed]",
      "text/plain": [
       "<matplotlib.figure.Figure at 0x7fad32edd650>"
      ]
     },
     "metadata": {},
     "output_type": "display_data"
    }
   ],
   "source": [
    "plt.hist(edit_distances)\n",
    "plt.show()"
   ]
  },
  {
   "cell_type": "code",
   "execution_count": null,
   "metadata": {
    "collapsed": true
   },
   "outputs": [],
   "source": [
    "##Edit Distance vs. Mapping Quality"
   ]
  },
  {
   "cell_type": "code",
   "execution_count": 38,
   "metadata": {
    "collapsed": true
   },
   "outputs": [],
   "source": [
    "rr = pd.DataFrame({'ed' : edit_distances, 'mq' : mq })"
   ]
  },
  {
   "cell_type": "code",
   "execution_count": 39,
   "metadata": {
    "collapsed": false
   },
   "outputs": [
    {
     "data": {
      "image/png": "[encoded data removed]",
      "text/plain": [
       "<matplotlib.figure.Figure at 0x7fad32b6e2d0>"
      ]
     },
     "metadata": {},
     "output_type": "display_data"
    }
   ],
   "source": [
    "sns.kdeplot(rr, cmap=\"Blues\", shade = True, legend = True)\n",
    "plt.show()"
   ]
  },
  {
   "cell_type": "code",
   "execution_count": null,
   "metadata": {
    "collapsed": true
   },
   "outputs": [],
   "source": [
    "##lets only keep the aligments with: (query_alignment_length>=93) AND (mapping_quality>=10)"
   ]
  },
  {
   "cell_type": "code",
   "execution_count": 62,
   "metadata": {
    "collapsed": true
   },
   "outputs": [],
   "source": [
    "with pysam.AlignmentFile(raw_sam_file, \"r\") as INFILE:\n",
    "    with pysam.AlignmentFile(filtered_sam_file, \"wh\", template=INFILE) as OUTFILE:\n",
    "        for aln in INFILE:\n",
    "            if (aln.query_alignment_length >= 93) and (aln.mapping_quality >= 10):\n",
    "                OUTFILE.write(aln)"
   ]
  },
  {
   "cell_type": "code",
   "execution_count": 66,
   "metadata": {
    "collapsed": false
   },
   "outputs": [
    {
     "data": {
      "text/html": [
       "<div>\n",
       "<table border=\"1\" class=\"dataframe\">\n",
       "  <thead>\n",
       "    <tr style=\"text-align: right;\">\n",
       "      <th></th>\n",
       "      <th>QNAME</th>\n",
       "      <th>FLAG</th>\n",
       "      <th>RNAME</th>\n",
       "      <th>POS</th>\n",
       "      <th>MAPQ</th>\n",
       "      <th>CIGAR</th>\n",
       "      <th>RNEXT</th>\n",
       "      <th>PNEXT</th>\n",
       "      <th>ISIZE</th>\n",
       "      <th>SEQ</th>\n",
       "      <th>QUAL</th>\n",
       "      <th>TAG1</th>\n",
       "      <th>TAG2</th>\n",
       "      <th>TAG3TAG4</th>\n",
       "      <th>TAG5</th>\n",
       "      <th>TAG6</th>\n",
       "      <th>TAG7</th>\n",
       "      <th>TAG8</th>\n",
       "      <th>TAG9</th>\n",
       "      <th>TAG10</th>\n",
       "    </tr>\n",
       "  </thead>\n",
       "  <tbody>\n",
       "    <tr>\n",
       "      <th>0</th>\n",
       "      <td>121_46</td>\n",
       "      <td>0</td>\n",
       "      <td>CM009007.1</td>\n",
       "      <td>30336417</td>\n",
       "      <td>14</td>\n",
       "      <td>94M</td>\n",
       "      <td>*</td>\n",
       "      <td>0</td>\n",
       "      <td>0</td>\n",
       "      <td>TGCAGGATGAGCCAGCTGTGTCTCTGGTCGGCGTAGGAGCCGAAGA...</td>\n",
       "      <td>IIIIIIIIIIIIIIIIIIIIIIIIIIIIIIIIIIIIIIIIIIIIII...</td>\n",
       "      <td>AS:i:180</td>\n",
       "      <td>XS:i:164</td>\n",
       "      <td>XN:i:0</td>\n",
       "      <td>XM:i:1</td>\n",
       "      <td>XO:i:0</td>\n",
       "      <td>XG:i:0</td>\n",
       "      <td>NM:i:1</td>\n",
       "      <td>MD:Z:35A58</td>\n",
       "      <td>YT:Z:UU</td>\n",
       "    </tr>\n",
       "    <tr>\n",
       "      <th>1</th>\n",
       "      <td>231_76</td>\n",
       "      <td>16</td>\n",
       "      <td>CM009005.1</td>\n",
       "      <td>58854914</td>\n",
       "      <td>44</td>\n",
       "      <td>94M</td>\n",
       "      <td>*</td>\n",
       "      <td>0</td>\n",
       "      <td>0</td>\n",
       "      <td>TCTTATCATCAATATTTTATGGGCAATTGAATACATTTAGATATAT...</td>\n",
       "      <td>IIIIIIIIIIIIIIIIIIIIIIIIIIIIIIIIIIIIIIIIIIIIII...</td>\n",
       "      <td>AS:i:188</td>\n",
       "      <td>XN:i:0</td>\n",
       "      <td>XM:i:0</td>\n",
       "      <td>XO:i:0</td>\n",
       "      <td>XG:i:0</td>\n",
       "      <td>NM:i:0</td>\n",
       "      <td>MD:Z:94</td>\n",
       "      <td>YT:Z:UU</td>\n",
       "      <td>None</td>\n",
       "    </tr>\n",
       "    <tr>\n",
       "      <th>2</th>\n",
       "      <td>193_86</td>\n",
       "      <td>0</td>\n",
       "      <td>CM009025.1</td>\n",
       "      <td>7341813</td>\n",
       "      <td>31</td>\n",
       "      <td>94M</td>\n",
       "      <td>*</td>\n",
       "      <td>0</td>\n",
       "      <td>0</td>\n",
       "      <td>TGCAGGAACCAGAGGACCTGTTTGAGACCATCTCCCAAGCCATGCT...</td>\n",
       "      <td>IIIIIIIIIIIIIIIIIIIIIIIIIIIIIIIIIIIIIIIIIIIIII...</td>\n",
       "      <td>AS:i:188</td>\n",
       "      <td>XS:i:172</td>\n",
       "      <td>XN:i:0</td>\n",
       "      <td>XM:i:0</td>\n",
       "      <td>XO:i:0</td>\n",
       "      <td>XG:i:0</td>\n",
       "      <td>NM:i:0</td>\n",
       "      <td>MD:Z:94</td>\n",
       "      <td>YT:Z:UU</td>\n",
       "    </tr>\n",
       "    <tr>\n",
       "      <th>3</th>\n",
       "      <td>51_26</td>\n",
       "      <td>16</td>\n",
       "      <td>CM008994.1</td>\n",
       "      <td>80887414</td>\n",
       "      <td>14</td>\n",
       "      <td>94M</td>\n",
       "      <td>*</td>\n",
       "      <td>0</td>\n",
       "      <td>0</td>\n",
       "      <td>AAGTCTGTGGTGATCACCTGAGCCTCTCCCAGCCTGCGGACACACC...</td>\n",
       "      <td>IIIIIIIIIIIIIIIIIIIIIIIIIIIIIIIIIIIIIIIIIIIIII...</td>\n",
       "      <td>AS:i:180</td>\n",
       "      <td>XS:i:164</td>\n",
       "      <td>XN:i:0</td>\n",
       "      <td>XM:i:1</td>\n",
       "      <td>XO:i:0</td>\n",
       "      <td>XG:i:0</td>\n",
       "      <td>NM:i:1</td>\n",
       "      <td>MD:Z:67A26</td>\n",
       "      <td>YT:Z:UU</td>\n",
       "    </tr>\n",
       "    <tr>\n",
       "      <th>4</th>\n",
       "      <td>379_28</td>\n",
       "      <td>16</td>\n",
       "      <td>CM008997.1</td>\n",
       "      <td>57648030</td>\n",
       "      <td>11</td>\n",
       "      <td>94M</td>\n",
       "      <td>*</td>\n",
       "      <td>0</td>\n",
       "      <td>0</td>\n",
       "      <td>CAGCTGGAGGGTGTGAATGAGGCAGTGGTGCTGCAGGTGTTTGTGG...</td>\n",
       "      <td>IIIIIIIIIIIIIIIIIIIIIIIIIIIIIIIIIIIIIIIIIIIIII...</td>\n",
       "      <td>AS:i:180</td>\n",
       "      <td>XS:i:172</td>\n",
       "      <td>XN:i:0</td>\n",
       "      <td>XM:i:1</td>\n",
       "      <td>XO:i:0</td>\n",
       "      <td>XG:i:0</td>\n",
       "      <td>NM:i:1</td>\n",
       "      <td>MD:Z:53C40</td>\n",
       "      <td>YT:Z:UU</td>\n",
       "    </tr>\n",
       "  </tbody>\n",
       "</table>\n",
       "</div>"
      ],
      "text/plain": [
       "    QNAME  FLAG       RNAME       POS  MAPQ CIGAR RNEXT  PNEXT  ISIZE  \\\n",
       "0  121_46     0  CM009007.1  30336417    14   94M     *      0      0   \n",
       "1  231_76    16  CM009005.1  58854914    44   94M     *      0      0   \n",
       "2  193_86     0  CM009025.1   7341813    31   94M     *      0      0   \n",
       "3   51_26    16  CM008994.1  80887414    14   94M     *      0      0   \n",
       "4  379_28    16  CM008997.1  57648030    11   94M     *      0      0   \n",
       "\n",
       "                                                 SEQ  \\\n",
       "0  TGCAGGATGAGCCAGCTGTGTCTCTGGTCGGCGTAGGAGCCGAAGA...   \n",
       "1  TCTTATCATCAATATTTTATGGGCAATTGAATACATTTAGATATAT...   \n",
       "2  TGCAGGAACCAGAGGACCTGTTTGAGACCATCTCCCAAGCCATGCT...   \n",
       "3  AAGTCTGTGGTGATCACCTGAGCCTCTCCCAGCCTGCGGACACACC...   \n",
       "4  CAGCTGGAGGGTGTGAATGAGGCAGTGGTGCTGCAGGTGTTTGTGG...   \n",
       "\n",
       "                                                QUAL      TAG1      TAG2  \\\n",
       "0  IIIIIIIIIIIIIIIIIIIIIIIIIIIIIIIIIIIIIIIIIIIIII...  AS:i:180  XS:i:164   \n",
       "1  IIIIIIIIIIIIIIIIIIIIIIIIIIIIIIIIIIIIIIIIIIIIII...  AS:i:188    XN:i:0   \n",
       "2  IIIIIIIIIIIIIIIIIIIIIIIIIIIIIIIIIIIIIIIIIIIIII...  AS:i:188  XS:i:172   \n",
       "3  IIIIIIIIIIIIIIIIIIIIIIIIIIIIIIIIIIIIIIIIIIIIII...  AS:i:180  XS:i:164   \n",
       "4  IIIIIIIIIIIIIIIIIIIIIIIIIIIIIIIIIIIIIIIIIIIIII...  AS:i:180  XS:i:172   \n",
       "\n",
       "  TAG3TAG4    TAG5    TAG6    TAG7     TAG8        TAG9    TAG10  \n",
       "0   XN:i:0  XM:i:1  XO:i:0  XG:i:0   NM:i:1  MD:Z:35A58  YT:Z:UU  \n",
       "1   XM:i:0  XO:i:0  XG:i:0  NM:i:0  MD:Z:94     YT:Z:UU     None  \n",
       "2   XN:i:0  XM:i:0  XO:i:0  XG:i:0   NM:i:0     MD:Z:94  YT:Z:UU  \n",
       "3   XN:i:0  XM:i:1  XO:i:0  XG:i:0   NM:i:1  MD:Z:67A26  YT:Z:UU  \n",
       "4   XN:i:0  XM:i:1  XO:i:0  XG:i:0   NM:i:1  MD:Z:53C40  YT:Z:UU  "
      ]
     },
     "execution_count": 66,
     "metadata": {},
     "output_type": "execute_result"
    }
   ],
   "source": [
    "filtered_SAM = pd.read_csv(filtered_sam_file, sep = '\\t', comment='@', engine='python', \n",
    "            names = ['QNAME','FLAG','RNAME','POS','MAPQ','CIGAR','RNEXT','PNEXT','ISIZE','SEQ','QUAL',\n",
    "                     'TAG1', 'TAG2', 'TAG3' 'TAG4', 'TAG5', 'TAG6', 'TAG7','TAG8', 'TAG9','TAG10'])\n",
    "filtered_SAM.head()"
   ]
  },
  {
   "cell_type": "code",
   "execution_count": 68,
   "metadata": {
    "collapsed": false
   },
   "outputs": [
    {
     "data": {
      "text/html": [
       "<div>\n",
       "<table border=\"1\" class=\"dataframe\">\n",
       "  <thead>\n",
       "    <tr style=\"text-align: right;\">\n",
       "      <th></th>\n",
       "      <th>QNAME</th>\n",
       "      <th>FLAG</th>\n",
       "      <th>RNAME</th>\n",
       "      <th>POS</th>\n",
       "      <th>MAPQ</th>\n",
       "      <th>CIGAR</th>\n",
       "      <th>TAG1</th>\n",
       "      <th>TAG2</th>\n",
       "      <th>TAG3TAG4</th>\n",
       "      <th>TAG5</th>\n",
       "      <th>TAG6</th>\n",
       "      <th>TAG7</th>\n",
       "      <th>TAG8</th>\n",
       "      <th>TAG9</th>\n",
       "      <th>TAG10</th>\n",
       "    </tr>\n",
       "  </thead>\n",
       "  <tbody>\n",
       "    <tr>\n",
       "      <th>0</th>\n",
       "      <td>121_46</td>\n",
       "      <td>0</td>\n",
       "      <td>CM009007.1</td>\n",
       "      <td>30336417</td>\n",
       "      <td>14</td>\n",
       "      <td>94M</td>\n",
       "      <td>AS:i:180</td>\n",
       "      <td>XS:i:164</td>\n",
       "      <td>XN:i:0</td>\n",
       "      <td>XM:i:1</td>\n",
       "      <td>XO:i:0</td>\n",
       "      <td>XG:i:0</td>\n",
       "      <td>NM:i:1</td>\n",
       "      <td>MD:Z:35A58</td>\n",
       "      <td>YT:Z:UU</td>\n",
       "    </tr>\n",
       "    <tr>\n",
       "      <th>1</th>\n",
       "      <td>231_76</td>\n",
       "      <td>16</td>\n",
       "      <td>CM009005.1</td>\n",
       "      <td>58854914</td>\n",
       "      <td>44</td>\n",
       "      <td>94M</td>\n",
       "      <td>AS:i:188</td>\n",
       "      <td>XN:i:0</td>\n",
       "      <td>XM:i:0</td>\n",
       "      <td>XO:i:0</td>\n",
       "      <td>XG:i:0</td>\n",
       "      <td>NM:i:0</td>\n",
       "      <td>MD:Z:94</td>\n",
       "      <td>YT:Z:UU</td>\n",
       "      <td>None</td>\n",
       "    </tr>\n",
       "    <tr>\n",
       "      <th>2</th>\n",
       "      <td>193_86</td>\n",
       "      <td>0</td>\n",
       "      <td>CM009025.1</td>\n",
       "      <td>7341813</td>\n",
       "      <td>31</td>\n",
       "      <td>94M</td>\n",
       "      <td>AS:i:188</td>\n",
       "      <td>XS:i:172</td>\n",
       "      <td>XN:i:0</td>\n",
       "      <td>XM:i:0</td>\n",
       "      <td>XO:i:0</td>\n",
       "      <td>XG:i:0</td>\n",
       "      <td>NM:i:0</td>\n",
       "      <td>MD:Z:94</td>\n",
       "      <td>YT:Z:UU</td>\n",
       "    </tr>\n",
       "    <tr>\n",
       "      <th>3</th>\n",
       "      <td>51_26</td>\n",
       "      <td>16</td>\n",
       "      <td>CM008994.1</td>\n",
       "      <td>80887414</td>\n",
       "      <td>14</td>\n",
       "      <td>94M</td>\n",
       "      <td>AS:i:180</td>\n",
       "      <td>XS:i:164</td>\n",
       "      <td>XN:i:0</td>\n",
       "      <td>XM:i:1</td>\n",
       "      <td>XO:i:0</td>\n",
       "      <td>XG:i:0</td>\n",
       "      <td>NM:i:1</td>\n",
       "      <td>MD:Z:67A26</td>\n",
       "      <td>YT:Z:UU</td>\n",
       "    </tr>\n",
       "    <tr>\n",
       "      <th>4</th>\n",
       "      <td>379_28</td>\n",
       "      <td>16</td>\n",
       "      <td>CM008997.1</td>\n",
       "      <td>57648030</td>\n",
       "      <td>11</td>\n",
       "      <td>94M</td>\n",
       "      <td>AS:i:180</td>\n",
       "      <td>XS:i:172</td>\n",
       "      <td>XN:i:0</td>\n",
       "      <td>XM:i:1</td>\n",
       "      <td>XO:i:0</td>\n",
       "      <td>XG:i:0</td>\n",
       "      <td>NM:i:1</td>\n",
       "      <td>MD:Z:53C40</td>\n",
       "      <td>YT:Z:UU</td>\n",
       "    </tr>\n",
       "  </tbody>\n",
       "</table>\n",
       "</div>"
      ],
      "text/plain": [
       "    QNAME  FLAG       RNAME       POS  MAPQ CIGAR      TAG1      TAG2  \\\n",
       "0  121_46     0  CM009007.1  30336417    14   94M  AS:i:180  XS:i:164   \n",
       "1  231_76    16  CM009005.1  58854914    44   94M  AS:i:188    XN:i:0   \n",
       "2  193_86     0  CM009025.1   7341813    31   94M  AS:i:188  XS:i:172   \n",
       "3   51_26    16  CM008994.1  80887414    14   94M  AS:i:180  XS:i:164   \n",
       "4  379_28    16  CM008997.1  57648030    11   94M  AS:i:180  XS:i:172   \n",
       "\n",
       "  TAG3TAG4    TAG5    TAG6    TAG7     TAG8        TAG9    TAG10  \n",
       "0   XN:i:0  XM:i:1  XO:i:0  XG:i:0   NM:i:1  MD:Z:35A58  YT:Z:UU  \n",
       "1   XM:i:0  XO:i:0  XG:i:0  NM:i:0  MD:Z:94     YT:Z:UU     None  \n",
       "2   XN:i:0  XM:i:0  XO:i:0  XG:i:0   NM:i:0     MD:Z:94  YT:Z:UU  \n",
       "3   XN:i:0  XM:i:1  XO:i:0  XG:i:0   NM:i:1  MD:Z:67A26  YT:Z:UU  \n",
       "4   XN:i:0  XM:i:1  XO:i:0  XG:i:0   NM:i:1  MD:Z:53C40  YT:Z:UU  "
      ]
     },
     "execution_count": 68,
     "metadata": {},
     "output_type": "execute_result"
    }
   ],
   "source": [
    "filtered_SAM.drop(['RNEXT', 'PNEXT', 'ISIZE', 'SEQ','QUAL'], axis=1, inplace=True)\n",
    "filtered_SAM['RNAME'] = [str(xx) for xx in filtered_SAM['RNAME'] ]\n",
    "filtered_SAM.head()"
   ]
  },
  {
   "cell_type": "code",
   "execution_count": 65,
   "metadata": {
    "collapsed": false
   },
   "outputs": [
    {
     "data": {
      "text/plain": [
       "699"
      ]
     },
     "execution_count": 65,
     "metadata": {},
     "output_type": "execute_result"
    }
   ],
   "source": [
    "len(filtered_SAM)"
   ]
  },
  {
   "cell_type": "code",
   "execution_count": 72,
   "metadata": {
    "collapsed": false
   },
   "outputs": [
    {
     "name": "stderr",
     "output_type": "stream",
     "text": [
      "/home/ipseg/anaconda/lib/python2.7/site-packages/ipykernel/__main__.py:1: FutureWarning: sort(columns=....) is deprecated, use sort_values(by=.....)\n",
      "  if __name__ == '__main__':\n"
     ]
    }
   ],
   "source": [
    "filtered_sort_pos = filtered_SAM.sort(['POS'])"
   ]
  },
  {
   "cell_type": "code",
   "execution_count": 73,
   "metadata": {
    "collapsed": false
   },
   "outputs": [
    {
     "data": {
      "text/html": [
       "<div>\n",
       "<table border=\"1\" class=\"dataframe\">\n",
       "  <thead>\n",
       "    <tr style=\"text-align: right;\">\n",
       "      <th></th>\n",
       "      <th>QNAME</th>\n",
       "      <th>FLAG</th>\n",
       "      <th>RNAME</th>\n",
       "      <th>POS</th>\n",
       "      <th>MAPQ</th>\n",
       "      <th>CIGAR</th>\n",
       "      <th>TAG1</th>\n",
       "      <th>TAG2</th>\n",
       "      <th>TAG3TAG4</th>\n",
       "      <th>TAG5</th>\n",
       "      <th>TAG6</th>\n",
       "      <th>TAG7</th>\n",
       "      <th>TAG8</th>\n",
       "      <th>TAG9</th>\n",
       "      <th>TAG10</th>\n",
       "    </tr>\n",
       "  </thead>\n",
       "  <tbody>\n",
       "    <tr>\n",
       "      <th>165</th>\n",
       "      <td>11999_65</td>\n",
       "      <td>0</td>\n",
       "      <td>KZ470939.1</td>\n",
       "      <td>87</td>\n",
       "      <td>44</td>\n",
       "      <td>94M</td>\n",
       "      <td>AS:i:188</td>\n",
       "      <td>XN:i:0</td>\n",
       "      <td>XM:i:0</td>\n",
       "      <td>XO:i:0</td>\n",
       "      <td>XG:i:0</td>\n",
       "      <td>NM:i:0</td>\n",
       "      <td>MD:Z:94</td>\n",
       "      <td>YT:Z:UU</td>\n",
       "      <td>None</td>\n",
       "    </tr>\n",
       "    <tr>\n",
       "      <th>622</th>\n",
       "      <td>62398_88</td>\n",
       "      <td>0</td>\n",
       "      <td>PIPH01062090.1</td>\n",
       "      <td>97</td>\n",
       "      <td>21</td>\n",
       "      <td>94M</td>\n",
       "      <td>AS:i:180</td>\n",
       "      <td>XS:i:122</td>\n",
       "      <td>XN:i:0</td>\n",
       "      <td>XM:i:1</td>\n",
       "      <td>XO:i:0</td>\n",
       "      <td>XG:i:0</td>\n",
       "      <td>NM:i:1</td>\n",
       "      <td>MD:Z:70G23</td>\n",
       "      <td>YT:Z:UU</td>\n",
       "    </tr>\n",
       "    <tr>\n",
       "      <th>167</th>\n",
       "      <td>12279_78</td>\n",
       "      <td>16</td>\n",
       "      <td>PIPH01204370.1</td>\n",
       "      <td>127</td>\n",
       "      <td>44</td>\n",
       "      <td>94M</td>\n",
       "      <td>AS:i:164</td>\n",
       "      <td>XN:i:0</td>\n",
       "      <td>XM:i:3</td>\n",
       "      <td>XO:i:0</td>\n",
       "      <td>XG:i:0</td>\n",
       "      <td>NM:i:3</td>\n",
       "      <td>MD:Z:43C9A1T38</td>\n",
       "      <td>YT:Z:UU</td>\n",
       "      <td>None</td>\n",
       "    </tr>\n",
       "    <tr>\n",
       "      <th>387</th>\n",
       "      <td>32941_41</td>\n",
       "      <td>16</td>\n",
       "      <td>PIPH01199392.1</td>\n",
       "      <td>239</td>\n",
       "      <td>11</td>\n",
       "      <td>94M</td>\n",
       "      <td>AS:i:172</td>\n",
       "      <td>XS:i:164</td>\n",
       "      <td>XN:i:0</td>\n",
       "      <td>XM:i:2</td>\n",
       "      <td>XO:i:0</td>\n",
       "      <td>XG:i:0</td>\n",
       "      <td>NM:i:2</td>\n",
       "      <td>MD:Z:28T20G44</td>\n",
       "      <td>YT:Z:UU</td>\n",
       "    </tr>\n",
       "    <tr>\n",
       "      <th>364</th>\n",
       "      <td>31014_78</td>\n",
       "      <td>16</td>\n",
       "      <td>PIPH01226846.1</td>\n",
       "      <td>441</td>\n",
       "      <td>14</td>\n",
       "      <td>94M</td>\n",
       "      <td>AS:i:172</td>\n",
       "      <td>XS:i:156</td>\n",
       "      <td>XN:i:0</td>\n",
       "      <td>XM:i:2</td>\n",
       "      <td>XO:i:0</td>\n",
       "      <td>XG:i:0</td>\n",
       "      <td>NM:i:2</td>\n",
       "      <td>MD:Z:37G5T50</td>\n",
       "      <td>YT:Z:UU</td>\n",
       "    </tr>\n",
       "  </tbody>\n",
       "</table>\n",
       "</div>"
      ],
      "text/plain": [
       "        QNAME  FLAG           RNAME  POS  MAPQ CIGAR      TAG1      TAG2  \\\n",
       "165  11999_65     0      KZ470939.1   87    44   94M  AS:i:188    XN:i:0   \n",
       "622  62398_88     0  PIPH01062090.1   97    21   94M  AS:i:180  XS:i:122   \n",
       "167  12279_78    16  PIPH01204370.1  127    44   94M  AS:i:164    XN:i:0   \n",
       "387  32941_41    16  PIPH01199392.1  239    11   94M  AS:i:172  XS:i:164   \n",
       "364  31014_78    16  PIPH01226846.1  441    14   94M  AS:i:172  XS:i:156   \n",
       "\n",
       "    TAG3TAG4    TAG5    TAG6    TAG7            TAG8           TAG9    TAG10  \n",
       "165   XM:i:0  XO:i:0  XG:i:0  NM:i:0         MD:Z:94        YT:Z:UU     None  \n",
       "622   XN:i:0  XM:i:1  XO:i:0  XG:i:0          NM:i:1     MD:Z:70G23  YT:Z:UU  \n",
       "167   XM:i:3  XO:i:0  XG:i:0  NM:i:3  MD:Z:43C9A1T38        YT:Z:UU     None  \n",
       "387   XN:i:0  XM:i:2  XO:i:0  XG:i:0          NM:i:2  MD:Z:28T20G44  YT:Z:UU  \n",
       "364   XN:i:0  XM:i:2  XO:i:0  XG:i:0          NM:i:2   MD:Z:37G5T50  YT:Z:UU  "
      ]
     },
     "execution_count": 73,
     "metadata": {},
     "output_type": "execute_result"
    }
   ],
   "source": [
    "filtered_sort_pos.head()"
   ]
  },
  {
   "cell_type": "code",
   "execution_count": 77,
   "metadata": {
    "collapsed": false
   },
   "outputs": [],
   "source": [
    "filtered_sort_pos[\"RANK\"]=filtered_sort_pos['POS'].rank(method=\"first\")"
   ]
  },
  {
   "cell_type": "code",
   "execution_count": 78,
   "metadata": {
    "collapsed": false
   },
   "outputs": [
    {
     "data": {
      "text/html": [
       "<div>\n",
       "<table border=\"1\" class=\"dataframe\">\n",
       "  <thead>\n",
       "    <tr style=\"text-align: right;\">\n",
       "      <th></th>\n",
       "      <th>QNAME</th>\n",
       "      <th>FLAG</th>\n",
       "      <th>RNAME</th>\n",
       "      <th>POS</th>\n",
       "      <th>MAPQ</th>\n",
       "      <th>CIGAR</th>\n",
       "      <th>TAG1</th>\n",
       "      <th>TAG2</th>\n",
       "      <th>TAG3TAG4</th>\n",
       "      <th>TAG5</th>\n",
       "      <th>TAG6</th>\n",
       "      <th>TAG7</th>\n",
       "      <th>TAG8</th>\n",
       "      <th>TAG9</th>\n",
       "      <th>TAG10</th>\n",
       "      <th>RANK</th>\n",
       "    </tr>\n",
       "  </thead>\n",
       "  <tbody>\n",
       "    <tr>\n",
       "      <th>165</th>\n",
       "      <td>11999_65</td>\n",
       "      <td>0</td>\n",
       "      <td>KZ470939.1</td>\n",
       "      <td>87</td>\n",
       "      <td>44</td>\n",
       "      <td>94M</td>\n",
       "      <td>AS:i:188</td>\n",
       "      <td>XN:i:0</td>\n",
       "      <td>XM:i:0</td>\n",
       "      <td>XO:i:0</td>\n",
       "      <td>XG:i:0</td>\n",
       "      <td>NM:i:0</td>\n",
       "      <td>MD:Z:94</td>\n",
       "      <td>YT:Z:UU</td>\n",
       "      <td>None</td>\n",
       "      <td>1</td>\n",
       "    </tr>\n",
       "    <tr>\n",
       "      <th>622</th>\n",
       "      <td>62398_88</td>\n",
       "      <td>0</td>\n",
       "      <td>PIPH01062090.1</td>\n",
       "      <td>97</td>\n",
       "      <td>21</td>\n",
       "      <td>94M</td>\n",
       "      <td>AS:i:180</td>\n",
       "      <td>XS:i:122</td>\n",
       "      <td>XN:i:0</td>\n",
       "      <td>XM:i:1</td>\n",
       "      <td>XO:i:0</td>\n",
       "      <td>XG:i:0</td>\n",
       "      <td>NM:i:1</td>\n",
       "      <td>MD:Z:70G23</td>\n",
       "      <td>YT:Z:UU</td>\n",
       "      <td>2</td>\n",
       "    </tr>\n",
       "    <tr>\n",
       "      <th>167</th>\n",
       "      <td>12279_78</td>\n",
       "      <td>16</td>\n",
       "      <td>PIPH01204370.1</td>\n",
       "      <td>127</td>\n",
       "      <td>44</td>\n",
       "      <td>94M</td>\n",
       "      <td>AS:i:164</td>\n",
       "      <td>XN:i:0</td>\n",
       "      <td>XM:i:3</td>\n",
       "      <td>XO:i:0</td>\n",
       "      <td>XG:i:0</td>\n",
       "      <td>NM:i:3</td>\n",
       "      <td>MD:Z:43C9A1T38</td>\n",
       "      <td>YT:Z:UU</td>\n",
       "      <td>None</td>\n",
       "      <td>3</td>\n",
       "    </tr>\n",
       "    <tr>\n",
       "      <th>387</th>\n",
       "      <td>32941_41</td>\n",
       "      <td>16</td>\n",
       "      <td>PIPH01199392.1</td>\n",
       "      <td>239</td>\n",
       "      <td>11</td>\n",
       "      <td>94M</td>\n",
       "      <td>AS:i:172</td>\n",
       "      <td>XS:i:164</td>\n",
       "      <td>XN:i:0</td>\n",
       "      <td>XM:i:2</td>\n",
       "      <td>XO:i:0</td>\n",
       "      <td>XG:i:0</td>\n",
       "      <td>NM:i:2</td>\n",
       "      <td>MD:Z:28T20G44</td>\n",
       "      <td>YT:Z:UU</td>\n",
       "      <td>4</td>\n",
       "    </tr>\n",
       "    <tr>\n",
       "      <th>364</th>\n",
       "      <td>31014_78</td>\n",
       "      <td>16</td>\n",
       "      <td>PIPH01226846.1</td>\n",
       "      <td>441</td>\n",
       "      <td>14</td>\n",
       "      <td>94M</td>\n",
       "      <td>AS:i:172</td>\n",
       "      <td>XS:i:156</td>\n",
       "      <td>XN:i:0</td>\n",
       "      <td>XM:i:2</td>\n",
       "      <td>XO:i:0</td>\n",
       "      <td>XG:i:0</td>\n",
       "      <td>NM:i:2</td>\n",
       "      <td>MD:Z:37G5T50</td>\n",
       "      <td>YT:Z:UU</td>\n",
       "      <td>5</td>\n",
       "    </tr>\n",
       "  </tbody>\n",
       "</table>\n",
       "</div>"
      ],
      "text/plain": [
       "        QNAME  FLAG           RNAME  POS  MAPQ CIGAR      TAG1      TAG2  \\\n",
       "165  11999_65     0      KZ470939.1   87    44   94M  AS:i:188    XN:i:0   \n",
       "622  62398_88     0  PIPH01062090.1   97    21   94M  AS:i:180  XS:i:122   \n",
       "167  12279_78    16  PIPH01204370.1  127    44   94M  AS:i:164    XN:i:0   \n",
       "387  32941_41    16  PIPH01199392.1  239    11   94M  AS:i:172  XS:i:164   \n",
       "364  31014_78    16  PIPH01226846.1  441    14   94M  AS:i:172  XS:i:156   \n",
       "\n",
       "    TAG3TAG4    TAG5    TAG6    TAG7            TAG8           TAG9    TAG10  \\\n",
       "165   XM:i:0  XO:i:0  XG:i:0  NM:i:0         MD:Z:94        YT:Z:UU     None   \n",
       "622   XN:i:0  XM:i:1  XO:i:0  XG:i:0          NM:i:1     MD:Z:70G23  YT:Z:UU   \n",
       "167   XM:i:3  XO:i:0  XG:i:0  NM:i:3  MD:Z:43C9A1T38        YT:Z:UU     None   \n",
       "387   XN:i:0  XM:i:2  XO:i:0  XG:i:0          NM:i:2  MD:Z:28T20G44  YT:Z:UU   \n",
       "364   XN:i:0  XM:i:2  XO:i:0  XG:i:0          NM:i:2   MD:Z:37G5T50  YT:Z:UU   \n",
       "\n",
       "     RANK  \n",
       "165     1  \n",
       "622     2  \n",
       "167     3  \n",
       "387     4  \n",
       "364     5  "
      ]
     },
     "execution_count": 78,
     "metadata": {},
     "output_type": "execute_result"
    }
   ],
   "source": [
    "filtered_sort_pos.head()"
   ]
  },
  {
   "cell_type": "code",
   "execution_count": 89,
   "metadata": {
    "collapsed": false,
    "scrolled": true
   },
   "outputs": [
    {
     "data": {
      "text/plain": [
       "(0, 709.0)"
      ]
     },
     "execution_count": 89,
     "metadata": {},
     "output_type": "execute_result"
    },
    {
     "data": {
      "image/png": "[encoded data removed]",
      "text/plain": [
       "<matplotlib.figure.Figure at 0x7fad35664a90>"
      ]
     },
     "metadata": {},
     "output_type": "display_data"
    }
   ],
   "source": [
    "sns.lmplot('RANK', 'POS', data = filtered_sort_pos, \n",
    "           fit_reg = False,  legend = False, size = 12, \n",
    "           scatter_kws = {'alpha':.25, 's':35})\n",
    "\n",
    "# plot limits\n",
    "plt.ylim(-1e7, filtered_sort_pos['POS'].max()+10)\n",
    "plt.xlim(0, filtered_sort_pos['RANK'].max()+10)"
   ]
  },
  {
   "cell_type": "code",
   "execution_count": null,
   "metadata": {
    "collapsed": true
   },
   "outputs": [],
   "source": [
    "###I'd like to color the above by the MAPQ of the alignment, in bins, so 10-15, 15-20 etc"
   ]
  },
  {
   "cell_type": "code",
   "execution_count": null,
   "metadata": {
    "collapsed": true
   },
   "outputs": [],
   "source": []
  },
  {
   "cell_type": "code",
   "execution_count": null,
   "metadata": {
    "collapsed": true
   },
   "outputs": [],
   "source": []
  }
 ],
 "metadata": {
  "kernelspec": {
   "display_name": "Python 2",
   "language": "python",
   "name": "python2"
  },
  "language_info": {
   "codemirror_mode": {
    "name": "ipython",
    "version": 2
   },
   "file_extension": ".py",
   "mimetype": "text/x-python",
   "name": "python",
   "nbconvert_exporter": "python",
   "pygments_lexer": "ipython2",
   "version": "2.7.11"
  }
 },
 "nbformat": 4,
 "nbformat_minor": 0
}
