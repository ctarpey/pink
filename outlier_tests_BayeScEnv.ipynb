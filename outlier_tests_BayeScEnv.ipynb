{
 "metadata": {
  "name": "",
  "signature": "sha256:a6844c7a0c738751ef852a7d391bc150259bedd0e0eddf74960deabd4016a70d"
 },
 "nbformat": 3,
 "nbformat_minor": 0,
 "worksheets": [
  {
   "cells": [
    {
     "cell_type": "markdown",
     "metadata": {},
     "source": [
      "#Outlier tests with the program BayeScEnv"
     ]
    },
    {
     "cell_type": "code",
     "collapsed": false,
     "input": [
      "The program and manual are available here: \n",
      "        https://github.com/devillemereuil/bayescenv/\n",
      "        https://github.com/devillemereuil/bayescenv/wiki/1.-What-is-BayeScEnv%3F"
     ],
     "language": "python",
     "metadata": {},
     "outputs": []
    },
    {
     "cell_type": "markdown",
     "metadata": {},
     "source": [
      "#BayeScEnv"
     ]
    },
    {
     "cell_type": "markdown",
     "metadata": {},
     "source": [
      "##Background: \n",
      "From the website: BayeScEnv is a Fst-based, genome-scan method that uses environmental variables to detect local adaptation. It makes use of environmental data, as an environmental differentiation. It is a Bayesian method, implementing a Reversible Jump MCMC, to compute posterior probabilities of three models:\n",
      "\n",
      "    Neutral model\n",
      "    Locus-specific model\n",
      "    Local adaptation model linked to the environmental variable\n",
      "\n",
      "The software yields False Discovery Rate related test statistics (PEP, q-value) to naturally account for multiple testing issues.\n",
      "\n",
      "##Input files: \n",
      "There are two input files, the genotypes and the environmental variables. \n",
      "\n",
      "###Genotypes\n",
      "I converted the genepop file 16681_80_genepop in PGDSpider to the correct format: GESTE. You can use a SNP genotype matrix, but I used this codominant genotype in GESTE format. \n",
      "\n",
      "There is one input file that has all the populations, and others that are copies with populations deleted to match the lineage groupings: NAO, NAE, ASO, ASE\n",
      "\n",
      "The populations are in this order in each of the files, though there are not all populations in each file. : \n",
      "\n",
      "- AMUR10\n",
      "- AMUR11\n",
      "- HAYLY09\n",
      "- HAYLY10\n",
      "- KOPE91\n",
      "- KOPE96\n",
      "- KUSHI06\n",
      "- KUSHI07\n",
      "- NOME91\n",
      "- NOME94\n",
      "- SNOH03\n",
      "- SNOH96\n",
      "- TAUY09\n",
      "- TAUY12\n",
      "\n",
      "###Environmental data\n",
      "\n",
      "\n",
      "Here are the environmental data that I built the files for each of the runs out of. The single numbers in between the names and the numbers with all the digits are the index numbers of the populations that were used, as I built this in excel and used it for a couple things. They are in the same order as the populations in the genotype files. \n",
      "\n",
      "asia_odd_lat\t\t\t2\t3\t8\t13\t\t-0.3001785\t0.3445463\t-1.6735799\t0.609963\n",
      "asia_even_lat\t\t\t1\t4\t7\t14\t\t-0.3001785\t0.3445463\t-1.6735799\t0.609963\n",
      "NA_odd_lat\t\t\t5\t9\t11\t\t\t0.7452322\t1.2606949\t-0.986678\t\n",
      "NA_even_lat\t\t\t6\t10\t12\t\t\t0.7452322\t1.2606949\t-0.986678\t\n",
      "\n",
      "asia_odd_long\t\t\t2\t3\t8\t13\t\t0.7767843\t0.9189846\t0.7993947\t0.8294541\n",
      "asia_even_long\t\t\t1\t4\t7\t14\t\t0.7767843\t0.9189846\t0.7993947\t0.8294541\n",
      "NA_odd_long\t\t\t5\t9\t11\t\t\t-1.1177044\t-1.2458492\t-0.9610641\t\n",
      "NA_even_long\t\t\t6\t10\t12\t\t\t-1.1177044\t-1.2458492\t-0.9610641\t\n"
     ]
    },
    {
     "cell_type": "markdown",
     "metadata": {},
     "source": [
      "##Running the program\n",
      "\n",
      "I ran the whole dataset, all populations, using the GUI to see if I could get it to run, and to see what the output files look like. I used the default settings, 16681_80_bayescan.txt as the input file and stand_lat.txt as the environmental variable file. \n"
     ]
    },
    {
     "cell_type": "code",
     "collapsed": false,
     "input": [
      "Y:\\WORK\\TARPEY\\BayeScEnv\\bin\\win32\\bayescenv.exe  16681_80_bayescan.txt -env stand_lat.txt -o out_16681_80_bayescan.txt -threads 5 -n 5000 -thin 10 -nbp 20 -pilot 5000 -burn 50000 >16681_80_bayescan_log.txt 2>&1"
     ],
     "language": "python",
     "metadata": {},
     "outputs": []
    },
    {
     "cell_type": "markdown",
     "metadata": {},
     "source": [
      "##Running lineage groups with standardized latitude\n",
      "This is the batchfile I ran on Garrett's computer: "
     ]
    },
    {
     "cell_type": "code",
     "collapsed": false,
     "input": [
      "Y:\\WORK\\TARPEY\\BayeScEnv\\bin\\win32\\bayescenv.exe  asia_odd_bayescan.txt -env asia_odd_lat.txt -threads 5 -o out_asia_odd_bayescan.txt -n 5000 -thin 10 -nbp 20 -pilot 5000 -burn 50000 >asia_odd_bayescan_log.txt 2>&1\n",
      "Y:\\WORK\\TARPEY\\BayeScEnv\\bin\\win32\\bayescenv.exe  asia_even_bayescan.txt -env asia_even_lat.txt -threads 5 -o out_asia_even_bayescan.txt -n 5000 -thin 10 -nbp 20 -pilot 5000 -burn 50000 >asia_even_bayescan_log.txt 2>&1\n",
      "Y:\\WORK\\TARPEY\\BayeScEnv\\bin\\win32\\bayescenv.exe  NA_odd_bayescan.txt -env NA_odd_lat.txt -threads 5 -o out_NA_odd_bayescan.txt -n 5000 -thin 10 -nbp 20 -pilot 5000 -burn 50000 >NA_odd_bayescan_log.txt 2>&1\n",
      "Y:\\WORK\\TARPEY\\BayeScEnv\\bin\\win32\\bayescenv.exe  NA_even_bayescan.txt -env NA_even_lat.txt -threads 5 -o out -n 5000 -thin 10 -nbp 20 -pilot 5000 -burn 50000 >NA_even_bayescan_log.txt 2>&1"
     ],
     "language": "python",
     "metadata": {},
     "outputs": []
    },
    {
     "cell_type": "code",
     "collapsed": false,
     "input": [
      "##Running lineage groups with standardized longitude\n",
      "This is the batchfile for the standardized longitude, the "
     ],
     "language": "python",
     "metadata": {},
     "outputs": []
    },
    {
     "cell_type": "code",
     "collapsed": false,
     "input": [
      "#BayeScEnv_Sep15.bat\n",
      "\n",
      "Y:\\WORK\\TARPEY\\BayeScEnv\\bin\\win32\\bayescenv.exe  asia_odd_bayescan.txt -env asia_odd_long.txt -threads 5 -out out_asia_odd_long.txt -n 5000 -thin 10 -nbp 20 -pilot 5000 -burn 50000 >asia_odd_long_log.txt 2>&1\n",
      "Y:\\WORK\\TARPEY\\BayeScEnv\\bin\\win32\\bayescenv.exe  asia_even_bayescan.txt -env asia_even_long.txt -threads 5 -out out_asia_even_long.txt -n 5000 -thin 10 -nbp 20 -pilot 5000 -burn 50000 >asia_even_long_log.txt 2>&1\n",
      "Y:\\WORK\\TARPEY\\BayeScEnv\\bin\\win32\\bayescenv.exe  NA_odd_bayescan.txt -env NA_odd_long.txt -threads 5 -out out_NA_odd_long.txt -n 5000 -thin 10 -nbp 20 -pilot 5000 -burn 50000 >NA_odd_long_log.txt 2>&1\n",
      "Y:\\WORK\\TARPEY\\BayeScEnv\\bin\\win32\\bayescenv.exe  NA_even_bayescan.txt -env NA_even_long.txt -threads 5 -out out_NA_even_long.txt -n 5000 -thin 10 -nbp 20 -pilot 5000 -burn 50000 >NA_even_long_log.txt 2>&1\n",
      "Y:\\WORK\\TARPEY\\BayeScEnv\\bin\\win32\\bayescenv.exe  16681_80_bayescan.txt -env stand_long.txt -out out_16681_80_long.txt -n 5000 -thin 10 -nbp 20 -pilot 5000 -burn 50000 >16681_80__long_log.txt 2>&1"
     ],
     "language": "python",
     "metadata": {},
     "outputs": []
    },
    {
     "cell_type": "markdown",
     "metadata": {},
     "source": [
      "##Interpreting the results of the runs\n",
      "\n",
      "The two things that need to be checked in the output, according to the manual, are:\n",
      "    You should always check that the acceptance rates displayed in \"out_AccRte.txt\" (where \"out\" is the output prefix of your choice) are between 0.2 and 0.4.\n",
      "\n",
      "    The \"trace\" of the successive iterations are stocked in the \"out.sel\" file (where \"out\" is the output prefix of your choice), which can be read in R and transformed into a MCMC object using the \"coda\" package. There is code provided that can test this. \n",
      " \n",
      "There are two columns in the text file that ends in _AccRte.txt, and Im not sure how to tell that the acceptance rate is between 0.2 and 0.4. In almost  none of the files are the numbers in the two files between those thresholds. They mostly start at 1 and slowly drop down to sometimes 0.09. I think that I need to increase the number of iterations so that the nubmers have a chance to stabalize. "
     ]
    },
    {
     "cell_type": "markdown",
     "metadata": {},
     "source": [
      "## Running the more iterations to improve the acceptance rate\n",
      "\n",
      "I decide to run the program with an extra zero at the end of the number of iterations in hopes that the program will stabalize and the acceptance rates will be between 0.2 and 0.4. \n",
      "\n",
      "This is the batch file that I use, and I run it over at the Graduate Student Computer lab, where it can run out of the way for a couple of days. "
     ]
    },
    {
     "cell_type": "code",
     "collapsed": false,
     "input": [
      "\n",
      ".\\bayescenv.exe asia_odd_bayescan.txt -env AS_LAT.env -out ASO_LAT_out -n 5000 -thin 10 -nbp 20 -pilot 5000 -burn 50000 >ASO_LAT_out_log.txt 2>&1\n",
      ".\\bayescenv.exe asia_even_bayescan.txt -env AS_LAT.env -out ASE_LAT_out -n 5000 -thin 10 -nbp 20 -pilot 5000 -burn 50000 >ASE_LAT_out_log.txt 2>&1\n",
      ".\\bayescenv.exe NA_odd_bayescan.txt -env NA_LAT.env -out NAO_LAT_out -n 5000 -thin 10 -nbp 20 -pilot 5000 -burn 50000 >NAO_LAT_out_log.txt 2>&1\n",
      ".\\bayescenv.exe NA_even_bayescan.txt -env NA_LAT.env -out NAE_LAT_out -n 5000 -thin 10 -nbp 20 -pilot 5000 -burn 50000 >NAE_LAT_out_log.txt 2>&1\n",
      ".\\bayescenv.exe 16681_80_bayescan.txt -env ALL_LAT.env -out 16681_LAT_out -n 5000 -thin 10 -nbp 20 -pilot 5000 -burn 50000 >16681_LAT_out_log.txt 2>&1\n",
      "\n",
      ".\\bayescenv.exe asia_odd_bayescan.txt -env AS_LONG.env -out ASO_LONG_out -n 5000 -thin 10 -nbp 20 -pilot 5000 -burn 50000 >ASO_LONG_out_log.txt 2>&1\n",
      ".\\bayescenv.exe asia_even_bayescan.txt -env AS_LONG.env -out ASE_LONG_out -n 5000 -thin 10 -nbp 20 -pilot 5000 -burn 50000 >ASE_LONG_out_log.txt 2>&1\n",
      ".\\bayescenv.exe NA_odd_bayescan.txt -env NA_LONG.env -out NAO_LONG_out -n 5000 -thin 10 -nbp 20 -pilot 5000 -burn 50000 >NAO_LONG_out_log.txt 2>&1\n",
      ".\\bayescenv.exe NA_even_bayescan.txt -env NA_LONG.env -out NAE_LONG_out -n 5000 -thin 10 -nbp 20 -pilot 5000 -burn 50000 >NAE_LONG_out_log.txt 2>&1\n",
      ".\\bayescenv.exe 16681_80_bayescan.txt -env ALL_LONG.env -out 16681_LONG_out -n 5000 -thin 10 -nbp 20 -pilot 5000 -burn 50000 >16681_LONG_out_log.txt 2>&1\n",
      "\n",
      ".\\bayescenv.exe asia_odd_bayescan.txt -env AS_PT1.env -out ASO_PT1_out -n 5000 -thin 10 -nbp 20 -pilot 5000 -burn 50000 >ASO_PT1_out_log.txt 2>&1\n",
      ".\\bayescenv.exe asia_even_bayescan.txt -env AS_PT1.env -out ASE_PT1_out -n 5000 -thin 10 -nbp 20 -pilot 5000 -burn 50000 >ASE_PT1_out_log.txt 2>&1\n",
      ".\\bayescenv.exe NA_odd_bayescan.txt -env NA_PT1.env -out NAO_PT1_out -n 5000 -thin 10 -nbp 20 -pilot 5000 -burn 50000 >NAO_PT1_out_log.txt 2>&1\n",
      ".\\bayescenv.exe NA_even_bayescan.txt -env NA_PT1.env -out NAE_PT1_out -n 5000 -thin 10 -nbp 20 -pilot 5000 -burn 50000 >NAE_PT1_out_log.txt 2>&1\n",
      ".\\bayescenv.exe 16681_80_bayescan.txt -env ALL_PT1.env -out 16681_PT1_out -n 5000 -thin 10 -nbp 20 -pilot 5000 -burn 50000 >16681_PT1_out_log.txt 2>&1\n",
      "\n",
      ".\\bayescenv.exe asia_odd_bayescan.txt -env AS_PT2.env -out ASO_PT2_out -n 5000 -thin 10 -nbp 20 -pilot 5000 -burn 50000 >ASO_PT2_out_log.txt 2>&1\n",
      ".\\bayescenv.exe asia_even_bayescan.txt -env AS_PT2.env -out ASE_PT2_out -n 5000 -thin 10 -nbp 20 -pilot 5000 -burn 50000 >ASE_PT2_out_log.txt 2>&1\n",
      ".\\bayescenv.exe NA_odd_bayescan.txt -env NA_PT2.env -out NAO_PT2_out -n 5000 -thin 10 -nbp 20 -pilot 5000 -burn 50000 >NAO_PT2_out_log.txt 2>&1\n",
      ".\\bayescenv.exe NA_even_bayescan.txt -env NA_PT2.env -out NAE_PT2_out -n 5000 -thin 10 -nbp 20 -pilot 5000 -burn 50000 >NAE_PT2_out_log.txt 2>&1\n",
      ".\\bayescenv.exe 16681_80_bayescan.txt -env ALL_PT2.env -out 16681_PT2_out -n 5000 -thin 10 -nbp 20 -pilot 5000 -burn 50000 >16681_PT2_out_log.txt 2>&1\n"
     ],
     "language": "python",
     "metadata": {},
     "outputs": []
    },
    {
     "cell_type": "markdown",
     "metadata": {},
     "source": [
      "I got Ryans opinion about the output of the program. Specifically, I wondered\n",
      "\n",
      "\t1. what are the beta and ances mentioned at the top of the AccRte file? \n",
      "        \n",
      "\t2. are my acceptance rates between .2 and .4? \n",
      "    \n",
      "General BAYES questions: \n",
      "    When running programs and trying to up the number of iterations is it better to increase the length of a run or add more runs? \n",
      "\n",
      "He guessed that the beta means the correlation with the environmental variable, and that the ances is an ancestry metric and has to do with the variation that is attributed to the structure of the populations, or the covariance matrix, so the non- environmental. He said that its a good sign that both the numbers in the columns are steadily decreasing, but it might not be ok that they havent reached a steady state. \n",
      "\n",
      "So he doesnt know what the instructions about the 0.2 or 0.4 mean in this context but these runs were probably not run long enough to reach convergence, though they certainly seem to be going in the right direction. One way to get at it is to see if the program has reached some convergence, maybe by doing a trace with the program coda in R.\n",
      "\n",
      "He also explained that I was not standardizing the environmental variables correctly, that they should be standardized for each run program separately because each run of the program is independent and the program expects that the environmental variables have a mean of zero for that run.\n",
      "\n",
      "Finally, he recommended that when you want to increas the length of a run, the best way to do it is to add iterations to the runs instead of add more runs. That will let the program run longer and you are more likely to get closer to convergence. \n"
     ]
    },
    {
     "cell_type": "markdown",
     "metadata": {},
     "source": [
      "##Testing whether the runs have reached covergence\n",
      "\n",
      "As per above, I am looking to see if the runs have reached covergence, or whether they need to be run longer. I'm using the code that is posted by the authors for this reason, here: \n",
      "https://github.com/devillemereuil/bayescenv/wiki/5.-How-to-calibrate-the-MCMC\n",
      "\n",
      "I am testing this on the runs that were using the defaults, no the runs that have the order of magnitude longer iterations. Those are taking several weeks to finish."
     ]
    },
    {
     "cell_type": "code",
     "collapsed": false,
     "input": [
      "### Check whether the MCMC has reached convergence\n",
      "###    using the package coda, and code from: https://github.com/devillemereuil/bayescenv/wiki/5.-How-to-calibrate-the-MCMC\n",
      "### Carolyn Tarpey | October 2015 \n",
      "### ---------------------------------------\n",
      "\n",
      "\n",
      "install.packages(\"coda\")\n",
      "\n",
      "library(coda)\n",
      "\n",
      "\n",
      "#set the working directory \n",
      "setwd(\"G:/Analysis/Pop_analysis/Populations_b3_may/BayeScEnv\")\n",
      "\n",
      "### 16681_80_bayescan.sel\n",
      "\n",
      "chain_16681 <-read.table(\"16681_80_bayescan.sel\",header=TRUE)\n",
      "chain_16681 <-mcmc(chain_16681, thin=10)     #Adapt thin to its actual value (10 is the default)\n",
      "heidel.diag(chain_16681)             #To test for convergence\n",
      "effectiveSize(chain_16681)           #To compute effective sample size\n",
      "autocorr.diag(chain_16681)           #To look for auto-correlation\n",
      "plot(chain_16681)                    #To plot the \"trace\" and the posterior distribution\n",
      "\n",
      "### NA_even_bayescan.sel\n",
      "\n",
      "chain_NAE <-read.table(\"NA_even_bayescan.sel\",header=TRUE)\n",
      "chain_NAE <-mcmc(chain_NAE, thin=10)     #Adapt thin to its actual value (10 is the default)\n",
      "heidel.diag(chain_NAE)             #To test for convergence\n",
      "effectiveSize(chain_NAE)           #To compute effective sample size\n",
      "autocorr.diag(chain_NAE)           #To look for auto-correlation\n",
      "plot(chain_NAE)                    #To plot the \"trace\" and the posterior distribution\n",
      "\n",
      "### NA_odd_bayescan.sel\n",
      "\n",
      "chain_NAO <-read.table(\"NA_odd_bayescan.sel\",header=TRUE)\n",
      "chain_NAO <-mcmc(chain_NAO, thin=10)     #Adapt thin to its actual value (10 is the default)\n",
      "heidel.diag(chain_NAO)             #To test for convergence\n",
      "effectiveSize(chain_NAO)           #To compute effective sample size\n",
      "autocorr.diag(chain_NAO)           #To look for auto-correlation\n",
      "plot(chain_NAO)                    #To plot the \"trace\" and the posterior distribution\n",
      "\n",
      "### asia_even_bayescan.sel\n",
      "\n",
      "chain_ASE <-read.table(\"asia_even_bayescan.sel\",header=TRUE)\n",
      "chain_ASE <-mcmc(chain_ASE ,thin=10)     #Adapt thin to its actual value (10 is the default)\n",
      "heidel.diag(chain_ASE)             #To test for convergence\n",
      "effectiveSize(chain_ASE)           #To compute effective sample size\n",
      "autocorr.diag(chain_ASE)           #To look for auto-correlation\n",
      "plot(chain_ASE)                    #To plot the \"trace\" and the posterior distribution\n",
      "\n",
      "### asia_odd_bayescan.sel\n",
      "\n",
      "chain_ASO <-read.table(\"asia_odd_bayescan.sel\",header=TRUE)\n",
      "chain_ASO <-mcmc(chain_ASO ,thin=10)     #Adapt thin to its actual value (10 is the default)\n",
      "heidel.diag(chain_ASO)             #To test for convergence\n",
      "effectiveSize(chain_ASO)           #To compute effective sample size\n",
      "autocorr.diag(chain_ASO)           #To look for auto-correlation\n",
      "plot(chain_ASO)                    #To plot the \"trace\" and the posterior distribution\n"
     ],
     "language": "python",
     "metadata": {},
     "outputs": []
    },
    {
     "cell_type": "code",
     "collapsed": false,
     "input": [
      "These are the results:\n",
      "    \n",
      "> setwd(\"G:/Analysis/Pop_analysis/Populations_b3_may/BayeScEnv\")\n",
      "\n",
      "> chain_16681 <-read.table(\"16681_80_bayescan.sel\",header=TRUE)\n",
      "> chain_16681 <-mcmc(chain_16681 ,thin=10)     #Adapt thin to its actual value (10 is the default)\n",
      "> heidel.diag(chain_16681)             #To test for convergence\n",
      "                                    \n",
      "      Stationarity start     p-value\n",
      "      test         iteration        \n",
      "Iter  failed        NA           NA \n",
      "logL  passed         1       0.6950 \n",
      "Fst1  passed         1       0.8364 \n",
      "Fst2  passed         1       0.6883 \n",
      "Fst3  passed         1       0.6946 \n",
      "Fst4  passed         1       0.7177 \n",
      "Fst5  passed       501       0.0543 \n",
      "Fst6  passed         1       0.7774 \n",
      "Fst7  passed         1       0.1122 \n",
      "Fst8  passed         1       0.1052 \n",
      "Fst9  passed         1       0.9889 \n",
      "Fst10 passed         1       0.8628 \n",
      "Fst11 passed         1       0.0892 \n",
      "Fst12 passed         1       0.7511 \n",
      "Fst13 passed         1       0.8116 \n",
      "Fst14 passed         1       0.6060 \n",
      "                                   \n",
      "      Halfwidth Mean      Halfwidth\n",
      "      test                         \n",
      "Iter  <NA>             NA       NA \n",
      "logL  passed    -5.13e+05 5.05e+00 \n",
      "Fst1  passed     5.07e-02 2.97e-05 \n",
      "Fst2  passed     2.40e-02 2.21e-05 \n",
      "Fst3  passed     2.14e-02 2.08e-05 \n",
      "Fst4  passed     5.47e-02 3.51e-05 \n",
      "Fst5  passed     6.99e-02 3.55e-05 \n",
      "Fst6  passed     8.29e-02 4.36e-05 \n",
      "Fst7  passed     8.15e-02 3.98e-05 \n",
      "Fst8  passed     4.96e-02 2.98e-05 \n",
      "Fst9  passed     2.18e-02 2.21e-05 \n",
      "Fst10 passed     6.09e-02 4.00e-05 \n",
      "Fst11 passed     1.46e-01 6.08e-05 \n",
      "Fst12 passed     1.20e-01 5.33e-05 \n",
      "Fst13 passed     2.20e-02 2.20e-05 \n",
      "Fst14 passed     5.10e-02 3.22e-05 \n",
      "\n",
      "\n",
      "> effectiveSize(chain_16681)           #To compute effective sample size\n",
      "    Iter     logL     Fst1     Fst2     Fst3     Fst4     Fst5     Fst6     Fst7     Fst8     Fst9   Fst10    Fst11    Fst12    Fst13    Fst14 \n",
      "   0.000 2680.730 3486.337 2816.921 2808.690 3049.141 4288.851 3602.023 3743.843 3311.436 3055.559   3527.474 4023.342 4193.153 2810.235 3363.913\n",
      "\n",
      "> autocorr.diag(chain_16681)           #To look for auto-correlation\n",
      "             Iter         logL        Fst1         Fst2         Fst3        Fst4        Fst5       Fst6         Fst7         Fst8         Fst9        Fst10        Fst11        Fst12    Fst13        Fst14\n",
      "Lag 0   1.0000000  1.000000000 1.000000000  1.000000000  1.000000000 1.000000000 1.000000000  1.000000000  1.000000000  1.000000000  1.000000000  1.000000000  1.000000000  1.000000000  1.000000000  1.000000000\n",
      "Lag 10  0.9993999  0.203075959 0.137381894  0.207437318  0.226476093 0.159784698 0.076360490  0.110748138  0.143465925  0.151334693  0.193029453  0.137916228  0.108039087  0.087567583  0.205124317  0.132901445\n",
      "Lag 50  0.9969994  0.002491573 0.007357094  0.021197866  0.007996474 0.006693156 0.011191450 -0.016902719 -0.007761888  0.004310425  0.011689438 -0.016370899 -0.008531449  0.013982392  0.007435516  0.011494994\n",
      "Lag 100 0.9939988 -0.002780925 0.007080503 -0.014579255 -0.011326658 0.014043647 0.012038672  0.002185866 -0.001858880 -0.006620472 -0.001598554 -0.017215710  0.019290685  0.006978431  0.016497166 -0.004957534\n",
      "Lag 500 0.9699960 -0.005492100 0.027893915 -0.004382463 -0.010277262 0.003387921 0.002425106  0.020133634  0.006855558 -0.007160937  0.005565154 -0.004661507  0.013566505 -0.007772530 -0.013759333 -0.014639419\n",
      "\n",
      "> chain_NAE <-read.table(\"NA_even_bayescan.sel\",header=TRUE)\n",
      "> chain_NAE <-mcmc(chain_NAE, thin=10)     #Adapt thin to its actual value (10 is the default)\n",
      "> heidel.diag(chain_NAE)             #To test for convergence\n",
      "                                   \n",
      "     Stationarity start     p-value\n",
      "     test         iteration        \n",
      "Iter failed         NA          NA \n",
      "logL passed          1      0.1865 \n",
      "Fst1 passed          1      0.4132 \n",
      "Fst2 passed          1      0.3811 \n",
      "Fst3 passed       1001      0.0543 \n",
      "                                   \n",
      "     Halfwidth Mean      Halfwidth\n",
      "     test                         \n",
      "Iter <NA>             NA       NA \n",
      "logL passed    -9.38e+04 8.16e+00 \n",
      "Fst1 passed     3.96e-02 5.50e-05 \n",
      "Fst2 passed     5.52e-02 5.61e-05 \n",
      "Fst3 passed     7.44e-02 7.11e-05 \n",
      "\n",
      "> effectiveSize(chain_NAE)           #To compute effective sample size\n",
      "    Iter     logL     Fst1     Fst2     Fst3 \n",
      "   0.000 1265.716 1889.918 2401.221 2364.421 \n",
      "   \n",
      "> autocorr.diag(chain_NAE)           #To look for auto-correlation\n",
      "             Iter        logL         Fst1       Fst2        Fst3\n",
      "Lag 0   1.0000000  1.00000000  1.000000000 1.00000000 1.000000000\n",
      "Lag 10  0.9993999  0.49332356  0.391244882 0.26193295 0.280934086\n",
      "Lag 50  0.9969994  0.10226455  0.026328447 0.03550004 0.018988467\n",
      "Lag 100 0.9939988  0.02767923 -0.001010564 0.00215506 0.006419806\n",
      "Lag 500 0.9699960 -0.01864821 -0.019293639 0.01066389 0.012390068\n",
      "\n",
      "> chain_NAO <-read.table(\"NA_odd_bayescan.sel\",header=TRUE)\n",
      "> chain_NAO <-mcmc(chain_NAO, thin=10)     #Adapt thin to its actual value (10 is the default)\n",
      "> heidel.diag(chain_NAO)             #To test for convergence\n",
      "                                   \n",
      "     Stationarity start     p-value\n",
      "     test         iteration        \n",
      "Iter failed       NA            NA \n",
      "logL passed        1        0.3949 \n",
      "Fst1 passed        1        0.1340 \n",
      "Fst2 passed        1        0.7236 \n",
      "Fst3 passed        1        0.0667 \n",
      "                                  \n",
      "     Halfwidth Mean      Halfwidth\n",
      "     test                         \n",
      "Iter <NA>             NA       NA \n",
      "logL passed    -1.06e+05 7.50e+00 \n",
      "Fst1 passed     5.20e-02 6.14e-05 \n",
      "Fst2 passed     4.99e-02 5.45e-05 \n",
      "Fst3 passed     1.23e-01 7.87e-05 \n",
      "\n",
      "> effectiveSize(chain_NAO)           #To compute effective sample size\n",
      "    Iter     logL     Fst1     Fst2     Fst3 \n",
      "   0.000 1410.830 1859.693 1997.089 2803.935 \n",
      "   \n",
      "> autocorr.diag(chain_NAO)           #To look for auto-correlation\n",
      "             Iter         logL         Fst1        Fst2        Fst3\n",
      "Lag 0   1.0000000  1.000000000  1.000000000 1.000000000  1.00000000\n",
      "Lag 10  0.9993999  0.489099728  0.371123355 0.339880282  0.22084625\n",
      "Lag 50  0.9969994  0.073779919  0.024298106 0.042282189  0.01691076\n",
      "Lag 100 0.9939988  0.014452505 -0.004130594 0.017762678  0.01254567\n",
      "Lag 500 0.9699960 -0.001702757 -0.014337181 0.007602119 -0.02884206\n",
      "\n",
      "> chain_ASE <-read.table(\"asia_even_bayescan.sel\",header=TRUE)\n",
      "> chain_ASE <-mcmc(chain_ASE ,thin=10)     #Adapt thin to its actual value (10 is the default)\n",
      "> heidel.diag(chain_ASE)             #To test for convergence\n",
      "                                   \n",
      "     Stationarity start     p-value\n",
      "     test         iteration        \n",
      "Iter failed        NA           NA \n",
      "logL passed         1       0.0749 \n",
      "Fst1 passed         1       0.7549 \n",
      "Fst2 passed       501       0.1942 \n",
      "Fst3 passed         1       0.4883 \n",
      "Fst4 passed         1       0.2275 \n",
      "                                  \n",
      "     Halfwidth Mean      Halfwidth\n",
      "     test                         \n",
      "Iter <NA>             NA       NA \n",
      "logL passed    -1.25e+05 8.06e+00 \n",
      "Fst1 passed     5.09e-03 1.41e-05 \n",
      "Fst2 passed     1.47e-02 2.43e-05 \n",
      "Fst3 passed     3.16e-02 2.39e-05 \n",
      "Fst4 passed     7.94e-03 1.74e-05 \n",
      "\n",
      "> effectiveSize(chain_ASE)           #To compute effective sample size\n",
      "    Iter     logL     Fst1     Fst2     Fst3     Fst4 \n",
      "   0.000  963.803 2306.599 1501.853 3380.094 2285.886 \n",
      "   \n",
      "> autocorr.diag(chain_ASE)           #To look for auto-correlation\n",
      "             Iter        logL         Fst1        Fst2          Fst3        Fst4\n",
      "Lag 0   1.0000000  1.00000000  1.000000000  1.00000000  1.0000000000  1.00000000\n",
      "Lag 10  0.9993999  0.43715007  0.310163436  0.27637469  0.1644703270  0.26121172\n",
      "Lag 50  0.9969994  0.09393317 -0.009081315  0.09008163 -0.0003398159  0.02209232\n",
      "Lag 100 0.9939988  0.09752206 -0.019605112  0.06463454  0.0204274331  0.01297151\n",
      "Lag 500 0.9699960 -0.01544757 -0.002718811 -0.01426701  0.0136205273 -0.01728628\n",
      "\n",
      "> chain_ASO <-read.table(\"asia_odd_bayescan.sel\",header=TRUE)\n",
      "> chain_ASO <-mcmc(chain_ASO ,thin=10)     #Adapt thin to its actual value (10 is the default)\n",
      "> heidel.diag(chain_ASO)             #To test for convergence\n",
      "                                   \n",
      "     Stationarity start     p-value\n",
      "     test         iteration        \n",
      "Iter failed       NA           NA  \n",
      "logL passed        1        0.381  \n",
      "Fst1 passed        1        0.355  \n",
      "Fst2 passed        1        0.591  \n",
      "Fst3 passed        1        0.627  \n",
      "Fst4 passed        1        0.850  \n",
      "                                  \n",
      "     Halfwidth Mean      Halfwidth\n",
      "     test                         \n",
      "Iter <NA>             NA       NA \n",
      "logL passed    -1.31e+05 7.50e+00 \n",
      "Fst1 passed     2.24e-03 1.17e-05 \n",
      "Fst2 passed     6.98e-03 1.80e-05 \n",
      "Fst3 passed     2.56e-02 1.94e-05 \n",
      "Fst4 passed     4.44e-03 1.45e-05 \n",
      "\n",
      "> effectiveSize(chain_ASO)           #To compute effective sample size\n",
      "    Iter     logL     Fst1     Fst2     Fst3     Fst4 \n",
      "   0.000 1017.142 1611.504 1526.173 3766.636 2034.358 \n",
      "   \n",
      "> autocorr.diag(chain_ASO)           #To look for auto-correlation\n",
      "             Iter       logL         Fst1        Fst2        Fst3        Fst4\n",
      "Lag 0   1.0000000 1.00000000  1.000000000  1.00000000  1.00000000 1.000000000\n",
      "Lag 10  0.9993999 0.45701381  0.413129743  0.35287801  0.13856561 0.290415919\n",
      "Lag 50  0.9969994 0.11654447  0.068301253  0.10033099 -0.01670955 0.048854526\n",
      "Lag 100 0.9939988 0.08042511  0.022772941  0.04302075  0.02812568 0.017050368\n",
      "Lag 500 0.9699960 0.01471647 -0.005711867 -0.01162968 -0.01763041 0.005880016"
     ],
     "language": "python",
     "metadata": {},
     "outputs": []
    },
    {
     "cell_type": "markdown",
     "metadata": {},
     "source": [
      "##Interpreting the results of Coda\n",
      "\n",
      "There are also a fair number of plots that, that I saved. I googled what they are supposed to look like, and  using this resource  http://www.johnmyleswhite.com/notebook/2010/08/29/mcmc-diagnostics-in-r-with-the-coda-package\n",
      "\n",
      "I learned that Im looking for the trajectory of the chain to be consistent over time with a distribution that looks appropriately normal. So the first takeaway message is simple: check the traces and distributions of your variables using plot() to make sure that they are reasonable and don\u2019t indicate clear deficiencies in the length of your adaptation period.\n",
      "\n",
      "I also looked here: https://theoreticalecology.wordpress.com/2011/12/09/mcmc-chain-analysis-and-convergence-diagnostics-with-coda-in-r/  and again, I feel like my results show that I do have convergence. \n",
      "\n",
      "I added this command to the end of the R code to test the convergence for each of teh .sel files: \n",
      "\n",
      "x <- pairs(data.frame(chain_16681))\n",
      "\n",
      "and it brings up a plot that is each of the pairwise correlations. See this blurb from the website: \"Marginal densities are an average over the values a parameter takes with all other parameters \u201cmarginalized\u201d, i.e. other parameters having any values according to their posterior probabilities. Often, marginal densities are treated as the main output of a Bayesian analysis (e.g. by reporting their mean and sd of), but I strongly advice against this practice without further analysis. The reason is that marginal densities \u201chide\u201d correlations between parameters, and if there are correlations, parameter uncertainties appear to be much greater in the marginals that they actually are. To check for pairwise correlations is quite easy \u2013 just use pairs on the MCMC chain: pairs(data.frame(chain_16681))\" \n",
      "\n",
      "Each of the plots shows nearly no pattern of correlation. \n",
      "\n",
      "I tested whether there was covergence on the runs that had a magnitude of iterations more, and the patterns were the same in the plots, just cleaner, more crisp. \n",
      "\n",
      "I think that the defaults are just fine. "
     ]
    },
    {
     "cell_type": "markdown",
     "metadata": {},
     "source": [
      "##The environmental variables\n",
      "\n",
      "This is what the Bayescenv manual says about the environmental variables: \n",
      "\n",
      "Environmental data\n",
      "\n",
      "As explained in the related article, the environmental variable must be passed to the software in the form of an environmental differentiation. Thus, it should be computed as a contrast to a reference (usually the average environment, but not obligatory), and as a distance. BayeScEnv only makes sure this latter point is satisfied by taking the absolute value of the environmental variable. It is also strongly advised to standardise the environmental values (i.e. dividing by the standard deviation) so that the extreme values never are much bigger than 2 or 3.\n",
      "\n",
      "Regarding the input format, a value for each population must be provided in a separate text file and in one row, so that the content of the file must look like (16 populations in this example):\n",
      "\n",
      " -0.639230879683183 -0.995733945140612 -0.263228407909816 0.478694676547254 1.35474025903925 1.85405875486584 0.837131353114318 0.104061927522223 -0.103841631873915 -0.760901719688793 -1.82819181353382 -1.33847104010839 -0.495277642473072 0.216938433143385 0.954037642263244 0.625214033916083\n",
      "\n",
      " \n",
      "I also looked at what the related article says: \n",
      " \n",
      "Implementation of the statistical model\n",
      "\n",
      "Our method uses two types of data: (i) the allele counts a for each locus in each population sample, and (ii) observed values E of an environmental variable (one value per population), which are transformed into environmental differentiation using an appropriate function. We chose the absolute-value distance, because it allows to weigh down the effect of outlier (i.e. strongly differentiated) environmental values and, therefore, makes the method more conservative. Note that measuring an environmental distance requires to define a reference. The most natural reference would be the average of the environmental values, but this would not be always the case (see the example of adaptation to altitude in humans presented below). Also, it is strongly advised to standardise the environmental values by dividing by the standard deviation, in order to avoid effect size issues regarding the inference of the parameter g. As stated in the previous section, there are three alternative models:\n",
      "\n",
      "M1 Neutral model: Bj \n",
      "M2 Local adaptation model with environmental differentiation Ej : Bj + giEj \\\n",
      "M3 Locus-specific model: ai + Bj\n"
     ]
    },
    {
     "cell_type": "markdown",
     "metadata": {},
     "source": [
      "##Restandardizing the environmental variables\n",
      "\n",
      "I used a combination of R and excel to restandardize the environmental variables. I took the raw numbers for the latitude ang longitude as well as the PC axis one and two and split them up into several groups by lineage. I then used the R code to get all the groups standardized, and excel to split them up into files to run in the program. \n",
      "\n",
      "The adjusted_X is the longitude on a scale that is all positive (since the populations straddle the 180degree mark) "
     ]
    },
    {
     "cell_type": "code",
     "collapsed": false,
     "input": [
      "\t\t\t\tPC1_temp_precip\tPC2_temp_precip\tadjusted_X\t\tY\n",
      "all\t\tKushiro\t-3.218451422\t-0.516398134\t144.378062\t42.980725\n",
      "\t\tAmur\t1.689167829\t\t-1.473602978\t139.727554\t52.938669\n",
      "\t\tTauy\t3.889188789\t\t-0.049769325\t148.929489\t59.714924\n",
      "\t\tHaylyluya\t2.205190255\t0.100932262\t\t162.485706\t57.769904\n",
      "\t\tNome\t3.861457466\t\t0.374320184\t\t194.6983\t64.4836\n",
      "\t\tKoppen-3.471874259\t\t4.791198571\t\t214.1013\t60.7062\n",
      "\t\tSnohomish-4.954678659\t-3.226680581\t237.8189\t48.014461\n",
      "\t\t\t\t\t\n",
      "ASE/ASO\tKushiro\t-3.218451422\t-0.516398134\t144.378062\t42.980725\n",
      "\t\tAmur\t1.689167829\t\t-1.473602978\t139.727554\t52.938669\n",
      "\t\tTauy\t3.889188789\t\t-0.049769325\t148.929489\t59.714924\n",
      "\t\tHaylyluya\t2.205190255\t\t0.100932262\t162.485706\t57.769904\n",
      "\t\t\t\t\t\t\n",
      "NAE/ASO\tNome\t3.861457466\t\t0.374320184\t\t194.6983\t64.4836\n",
      "\t\tKoppen\t-3.471874259\t4.791198571\t\t214.1013\t60.7062\n",
      "\t\tSnohomish-4.954678659\t-3.226680581\t237.8189\t48.014461"
     ],
     "language": "python",
     "metadata": {},
     "outputs": []
    },
    {
     "cell_type": "code",
     "collapsed": false,
     "input": [
      "# I added this portion to the code to get the standardized values: \n",
      "\n",
      "#@@@@@@@@@@@@@@@@@@@@@@@@@@@@\n",
      "#  O C T O B E R 3 0\n",
      "\n",
      "all_env <- read.table (\"G:/Analysis/Pop_analysis/Populations_b3_may/EnvData/RestandBayescenv/all.txt\", header = FALSE, sep = \"\\t\")\n",
      "all_env <- as.data.frame(all_env) \n",
      "colsall_env <- c(names(all_env))\n",
      "all_env.dat <- scale(all_env)\n",
      "all_env.dat\n",
      "write.table(all_env.dat, file = \"G:/Analysis/Pop_analysis/Populations_b3_may/EnvData/RestandBayescenv/all_stand.txt\", sep =\"\\t\", row.names = TRUE, col.names = TRUE)\n",
      "\n",
      "\n",
      "#########  S T A N D A R D I Z E  T H E  ASIA AND NA seperately\n",
      "\n",
      "AS_env <- read.table (\"G:/Analysis/Pop_analysis/Populations_b3_may/EnvData/RestandBayescenv/asial.txt\", header = FALSE, sep = \"\\t\")\n",
      "AS_env <- as.data.frame(AS_env) \n",
      "colsAS_env <- c(names(AS_env))\n",
      "AS_env.dat <- scale(AS_env)\n",
      "AS_env.dat\n",
      "write.table(AS_env.dat, file = \"G:/Analysis/Pop_analysis/Populations_b3_may/EnvData/RestandBayescenv/asial_stand.txt\", sep =\"\\t\", row.names = TRUE, col.names = TRUE)\n",
      "\n",
      "NA_env <- read.table (\"G:/Analysis/Pop_analysis/Populations_b3_may/EnvData/RestandBayescenv/NA.txt\", header = FALSE, sep = \"\\t\")\n",
      "NA_env <- as.data.frame(NA_env) \n",
      "colsNA_env <- c(names(NA_env))\n",
      "NA_env.dat <- scale(NA_env)\n",
      "NA_env.dat\n",
      "write.table(NA_env.dat, file = \"G:/Analysis/Pop_analysis/Populations_b3_may/EnvData/RestandBayescenv/NA_stand.txt\", sep =\"\\t\", row.names = TRUE, col.names = TRUE)\n"
     ],
     "language": "python",
     "metadata": {},
     "outputs": []
    },
    {
     "cell_type": "code",
     "collapsed": false,
     "input": [
      "\n",
      "Here are the results \n",
      "\n",
      "> all_env.dat\n",
      "             V1          V2         V3         V4\n",
      "[1,] -0.8565349 -0.21094173 -0.8616006 -1.6048275\n",
      "[2,]  0.4495426 -0.60194710 -0.9827627 -0.3001735\n",
      "[3,]  1.0350400 -0.02033010 -0.7430199  0.5876270\n",
      "[4,]  0.5868730  0.04122948 -0.3898328  0.3327975\n",
      "[5,]  1.0276598  0.15290479  0.4494187  1.2124017\n",
      "[6,] -0.9239790  1.95714052  0.9549352  0.7175004\n",
      "[7,] -1.3186016 -1.31805585  1.5728621 -0.9453255\n",
      "attr(,\"scaled:center\")\n",
      "           V1            V2            V3            V4 \n",
      "-1.428570e-10 -1.428572e-10  1.774485e+02  5.522978e+01 \n",
      "attr(,\"scaled:scale\")\n",
      "       V1        V2        V3        V4 \n",
      " 3.757525  2.448061 38.382529  7.632633 \n",
      "\n",
      "> AS_env.dat\n",
      "             V1          V2           V3          V4\n",
      "[1,] -1.4273011 -0.04465007 -0.458581253 -1.38687200\n",
      "[2,]  0.1793713 -1.39337731 -0.932274969 -0.05515034\n",
      "[3,]  0.8996214  0.61284240  0.005020223  0.85106941\n",
      "[4,]  0.3483084  0.82518497  1.385835998  0.59095293\n",
      "attr(,\"scaled:center\")\n",
      "         V1          V2          V3          V4 \n",
      "  1.1412739  -0.4847095 148.8802027  53.3510555 \n",
      "attr(,\"scaled:scale\")\n",
      "       V1        V2        V3        V4 \n",
      "3.0545238 0.7097097 9.8175421 7.4774965 \n",
      "\n",
      "> NA_env.dat\n",
      "             V1          V2          V3         V4\n",
      "[1,]  1.1403698 -0.06772142 -0.96503808  0.7822666\n",
      "[2,] -0.4131260  1.03213941 -0.06659491  0.3444238\n",
      "[3,] -0.7272438 -0.96441799  1.03163299 -1.1266904\n",
      "attr(,\"scaled:center\")\n",
      "         V1          V2          V3          V4 \n",
      " -1.5216985   0.6462794 215.5395000  57.7347537 \n",
      "attr(,\"scaled:scale\")\n",
      "       V1        V2        V3        V4 \n",
      " 4.720535  4.015852 21.596246  8.627297 \n",
      " "
     ],
     "language": "python",
     "metadata": {},
     "outputs": []
    },
    {
     "cell_type": "markdown",
     "metadata": {},
     "source": [
      "##Restandardizing environmental variables in excel\n",
      " \n",
      "In excel, for each of variables (the columns) I added the absolute value of the largest negative mumber of that variable to all the numbers in that variable so that the scale would start at zero and the variables would all be positive.\n",
      " \n",
      "This is the order of these environmental variables: \n",
      " \n",
      "all\t    Kushiro\n",
      "\t\tAmur\n",
      "\t\tTauy\n",
      "\t\tHaylyluya\n",
      "\t\tNome\n",
      "\t\tKoppen\n",
      "\t\tSnohomish\n",
      "\t\n",
      "ASE/ASO\tKushiro\n",
      "\t\tAmur\n",
      "\t\tTauy\n",
      "\t\tHaylyluya\n",
      "\t\n",
      "NAE/ASO\tNome\n",
      "\t\tKoppen\n",
      "\t\tSnohomish\n",
      "\n",
      " \n",
      "Using the new enviromnental variables, and the excel sheet from the last time, I made the input files for all the samples. For each lineage, I have four files with environmental variables: LA LO and the two PC axies for the P and T.\n",
      "\n",
      "This is the batch file: The input file names are individually though they are identical witin a lineages. The program uses the input name to name the output files, so having an independent name prevents the program from overwriting the last results of the run. "
     ]
    },
    {
     "cell_type": "code",
     "collapsed": false,
     "input": [
      "\n",
      ".\\bayescenv.exe 16681_bayescenv_LO.txt -env  ALL_LO_All_POS.txt -out 16681_bayescenv_LO_out.txt -n 5000 -thin 10 -nbp 20 -pilot 5000 -burn 50000 >16681_bayescenv_LO_log.txt 2>&1\n",
      ".\\bayescenv.exe 16681_bayescenv_PT1.txt -env  ALL_PT1_All_POS.txt -out 16681_bayescenv_PT1_out.txt -n 5000 -thin 10 -nbp 20 -pilot 5000 -burn 50000 >16681_bayescenv_PT1_log.txt 2>&1\n",
      ".\\bayescenv.exe 16681_bayescenv_PT2.txt -env  ALL_PT2_All_POS.txt -out 16681_bayescenv_PT2_out.txt -n 5000 -thin 10 -nbp 20 -pilot 5000 -burn 50000 >16681_bayescenv_PT2_log.txt 2>&1\n",
      "\n",
      ".\\bayescenv.exe ASE_bayescenv_LA.txt -env  AS_LA_All_POS.txt -out ASE_bayescenv_LA_out.txt -n 5000 -thin 10 -nbp 20 -pilot 5000 -burn 50000 >ASE_bayescenv_LA_log.txt 2>&1\n",
      ".\\bayescenv.exe ASE_bayescenv_LO.txt -env  AS_LO_All_POS.txt -out ASE_bayescenv_LO_out.txt -n 5000 -thin 10 -nbp 20 -pilot 5000 -burn 50000 >ASE_bayescenv_LO_log.txt 2>&1\n",
      ".\\bayescenv.exe ASE_bayescenv_PT1.txt -env  AS_PT1_All_POS.txt -out ASE_bayescenv_PT1_out.txt -n 5000 -thin 10 -nbp 20 -pilot 5000 -burn 50000 >ASE_bayescenv_PT1_log.txt 2>&1\n",
      ".\\bayescenv.exe ASE_bayescenv_PT2.txt -env  AS_PT2_All_POS.txt -out ASE_bayescenv_PT2_out.txt -n 5000 -thin 10 -nbp 20 -pilot 5000 -burn 50000 >ASE_bayescenv_PT2_log.txt 2>&1\n",
      "\n",
      ".\\bayescenv.exe ASO_bayescenv_LA.txt -env  AS_LA_All_POS.txt -out ASO_bayescenv_LA_out.txt -n 5000 -thin 10 -nbp 20 -pilot 5000 -burn 50000 >ASO_bayescenv_LA_log.txt 2>&1\n",
      ".\\bayescenv.exe ASO_bayescenv_LO.txt -env  AS_LO_All_POS.txt -out ASO_bayescenv_LO_out.txt -n 5000 -thin 10 -nbp 20 -pilot 5000 -burn 50000 >ASO_bayescenv_LO_log.txt 2>&1\n",
      ".\\bayescenv.exe ASO_bayescenv_PT1.txt -env  AS_PT1_All_POS.txt -out ASO_bayescenv_PT1_out.txt -n 5000 -thin 10 -nbp 20 -pilot 5000 -burn 50000 >ASO_bayescenv_PT1_log.txt 2>&1\n",
      ".\\bayescenv.exe ASO_bayescenv_PT2.txt -env  AS_PT2_All_POS.txt -out ASO_bayescenv_PT2_out.txt -n 5000 -thin 10 -nbp 20 -pilot 5000 -burn 50000 >ASO_bayescenv_PT2_log.txt 2>&1\n",
      "\n",
      ".\\bayescenv.exe NAE_bayescenv_LA.txt -env  NA_LA_All_POS.txt -out NAE_bayescenv_LA_out.txt -n 5000 -thin 10 -nbp 20 -pilot 5000 -burn 50000 >NAE_bayescenv_LA_log.txt 2>&1\n",
      ".\\bayescenv.exe NAE_bayescenv_LO.txt -env  NA_LO_All_POS.txt -out NAE_bayescenv_LO_out.txt -n 5000 -thin 10 -nbp 20 -pilot 5000 -burn 50000 >NAE_bayescenv_LO_log.txt 2>&1\n",
      ".\\bayescenv.exe NAE_bayescenv_PT1.txt -env  NA_PT1_All_POS.txt -out NAE_bayescenv_PT1_out.txt -n 5000 -thin 10 -nbp 20 -pilot 5000 -burn 50000 >NAE_bayescenv_PT1_log.txt 2>&1\n",
      ".\\bayescenv.exe NAE_bayescenv_PT2.txt -env  NA_PT2_All_POS.txt -out NAE_bayescenv_PT2_out.txt -n 5000 -thin 10 -nbp 20 -pilot 5000 -burn 50000 >NAE_bayescenv_PT2_log.txt 2>&1\n",
      "\n",
      ".\\bayescenv.exe NAO_bayescenv_LA.txt -env  NA_LA_All_POS.txt -out NAO_bayescenv_LA_out.txt -n 5000 -thin 10 -nbp 20 -pilot 5000 -burn 50000 >NAO_bayescenv_LA_log.txt 2>&1\n",
      ".\\bayescenv.exe NAO_bayescenv_LO.txt -env  NA_LO_All_POS.txt -out NAO_bayescenv_LO_out.txt -n 5000 -thin 10 -nbp 20 -pilot 5000 -burn 50000 >NAO_bayescenv_LO_log.txt 2>&1\n",
      ".\\bayescenv.exe NAO_bayescenv_PT1.txt -env  NA_PT1_All_POS.txt -out NAO_bayescenv_PT1_out.txt -n 5000 -thin 10 -nbp 20 -pilot 5000 -burn 50000 >NAO_bayescenv_PT1_log.txt 2>&1\n",
      ".\\bayescenv.exe NAO_bayescenv_PT2.txt -env  NA_PT2_All_POS.txt -out NAO_bayescenv_PT2_out.txt -n 5000 -thin 10 -nbp 20 -pilot 5000 -burn 50000 >NAO_bayescenv_PT2_log.txt 2>&1\n"
     ],
     "language": "python",
     "metadata": {},
     "outputs": []
    },
    {
     "cell_type": "code",
     "collapsed": false,
     "input": [
      "I also checked the convergence of the runs on the output: The plots are automatically saved in a PDF, within a subfolder. "
     ],
     "language": "python",
     "metadata": {},
     "outputs": []
    },
    {
     "cell_type": "code",
     "collapsed": false,
     "input": [
      "### Check whether the MCMC has reached convergence\n",
      "###    using the package coda, and code from: https://github.com/devillemereuil/bayescenv/wiki/5.-How-to-calibrate-the-MCMC\n",
      "### Carolyn Tarpey | October 2015 \n",
      "### ---------------------------------------\n",
      "\n",
      "\n",
      "install.packages(\"coda\")\n",
      "\n",
      "library(coda)\n",
      "\n",
      "\n",
      "#@@@ These are the default settings, and the postitively standardized environmental variables. \n",
      "\n",
      "\n",
      "#set the working directory \n",
      "setwd(\"G:/Analysis/Pop_analysis/Populations_b3_may/BayeScEnv/ALL_standPos\")\n",
      "\n",
      "### 16681_bayescenv_LA.sel\n",
      "\n",
      "chain_16681_LA <-read.table(\"16681_bayescenv_LA.sel\",header=TRUE)\n",
      "\n",
      "chain_16681_LA <-mcmc(chain_16681_LA, thin=10)     #Adapt thin to its actual value (10 is the default)\n",
      "heidel.diag(chain_16681_LA)             #To test for convergence\n",
      "effectiveSize(chain_16681_LA)           #To compute effective sample size\n",
      "autocorr.diag(chain_16681_LA)           #To look for auto-correlation\n",
      "pdf(\"Plots/16681_bayescenv_LA.pdf\", width=8, height=8)\n",
      "\n",
      "plot(chain_16681_LA)                    #To plot the \"trace\" and the posterior distribution\n",
      "\n",
      "\n",
      "\n",
      "\n",
      "x_LA <- pairs(data.frame(chain_16681_LA)) # to test for correlation\n",
      "\n",
      "dev.off()\n",
      "\n",
      "\n",
      "### 16681_bayescenv_LO.sel\n",
      "\n",
      "chain_16681_LO <-read.table(\"16681_bayescenv_LO.sel\",header=TRUE)\n",
      "\n",
      "chain_16681_LO <-mcmc(chain_16681_LO, thin=10)     #Adapt thin to its actual value (10 is the default)\n",
      "heidel.diag(chain_16681_LO)             #To test for convergence\n",
      "effectiveSize(chain_16681_LO)           #To compute effective sample size\n",
      "autocorr.diag(chain_16681_LO)           #To look for auto-correlation\n",
      "pdf(\"Plots/16681_bayescenv_LO.pdf\", width=8, height=8)\n",
      "\n",
      "plot(chain_16681_LO)                    #To plot the \"trace\" and the posterior distribution\n",
      "\n",
      "\n",
      "\n",
      "\n",
      "x_LO <- pairs(data.frame(chain_16681_LO)) # to test for correlation\n",
      "\n",
      "dev.off()\n",
      "\n",
      "  \n",
      "### 16681_bayescenv_PT1.sel\n",
      "\n",
      "chain_16681_PT1 <-read.table(\"16681_bayescenv_PT1.sel\",header=TRUE)\n",
      "\n",
      "chain_16681_PT1 <-mcmc(chain_16681_PT1, thin=10)     #Adapt thin to its actual value (10 is the default)\n",
      "heidel.diag(chain_16681_PT1)             #To test for convergence\n",
      "effectiveSize(chain_16681_PT1)           #To compute effective sample size\n",
      "autocorr.diag(chain_16681_PT1)           #To look for auto-correlation\n",
      "pdf(\"Plots/16681_bayescenv_PT1.pdf\", width=8, height=8)\n",
      "\n",
      "plot(chain_16681_PT1)                    #To plot the \"trace\" and the posterior distribution\n",
      "\n",
      "\n",
      "\n",
      "\n",
      "\n",
      "x_PT1 <- pairs(data.frame(chain_16681_PT1)) # to test for correlation\n",
      "\n",
      "dev.off()\n",
      "\n",
      "### 16681_bayescenv_PT2.sel\n",
      "\n",
      "chain_16681_PT2 <-read.table(\"16681_bayescenv_PT2.sel\",header=TRUE)\n",
      "\n",
      "chain_16681_PT2 <-mcmc(chain_16681_PT2, thin=10)     #Adapt thin to its actual value (10 is the default)\n",
      "heidel.diag(chain_16681_PT2)             #To test for convergence\n",
      "effectiveSize(chain_16681_PT2)           #To compute effective sample size\n",
      "autocorr.diag(chain_16681_PT2)           #To look for auto-correlation\n",
      "pdf(\"Plots/16681_bayescenv_PT2.pdf\", width=8, height=8)\n",
      "\n",
      "plot(chain_16681_PT2)                    #To plot the \"trace\" and the posterior distribution\n",
      "\n",
      "\n",
      "\n",
      "\n",
      "\n",
      "x_PT2 <- pairs(data.frame(chain_16681_PT2)) # to test for correlation\n",
      "\n",
      "dev.off()\n",
      "#_____________________________________________________________________________________________\n",
      "\n",
      "### NAE_bayescenv_LO.sel\n",
      "\n",
      "chain_NAE_LO <-read.table(\"NAE_bayescenv_LO.sel\",header=TRUE)\n",
      "chain_NAE_LO <-mcmc(chain_NAE_LO, thin=10)     #Adapt thin to its actual value (10 is the default)\n",
      "heidel.diag(chain_NAE_LO)             #To test for convergence\n",
      "effectiveSize(chain_NAE_LO)           #To compute effective sample size\n",
      "autocorr.diag(chain_NAE_LO)           #To look for auto-correlation\n",
      "pdf(\"Plots/NAE_bayescenv_LO.pdf\", width=8, height=8)\n",
      "\n",
      "plot(chain_NAE_LO)                    #To plot the \"trace\" and the posterior distribution\n",
      "\n",
      "x_NAE_LO <- pairs(data.frame(chain_NAE_LO)) # to test for correlation\n",
      "\n",
      "dev.off()\n",
      "### NAE_bayescenv_LA.sel\n",
      "\n",
      "chain_NAE_LA <-read.table(\"NAE_bayescenv_LA.sel\",header=TRUE)\n",
      "chain_NAE_LA <-mcmc(chain_NAE_LA, thin=10)     #Adapt thin to its actual value (10 is the default)\n",
      "heidel.diag(chain_NAE_LA)             #To test for convergence\n",
      "effectiveSize(chain_NAE_LA)           #To compute effective sample size\n",
      "autocorr.diag(chain_NAE_LA)           #To look for auto-correlation\n",
      "pdf(\"Plots/NAE_bayescenv_LA.pdf\", width=8, height=8)\n",
      "\n",
      "plot(chain_NAE_LA)                    #To plot the \"trace\" and the posterior distribution\n",
      "\n",
      "x_NAE_LA <- pairs(data.frame(chain_NAE_LA)) # to test for correlation\n",
      "\n",
      "dev.off()\n",
      "### NAE_bayescenv_PT1.sel\n",
      "\n",
      "chain_NAE_PT1 <-read.table(\"NAE_bayescenv_PT1.sel\",header=TRUE)\n",
      "chain_NAE_PT1 <-mcmc(chain_NAE_PT1, thin=10)     #Adapt thin to its actual value (10 is the default)\n",
      "heidel.diag(chain_NAE_PT1)             #To test for convergence\n",
      "effectiveSize(chain_NAE_PT1)           #To compute effective sample size\n",
      "autocorr.diag(chain_NAE_PT1)           #To look for auto-correlation\n",
      "pdf(\"Plots/NAE_bayescenv_PT1.pdf\", width=8, height=8)\n",
      "\n",
      "plot(chain_NAE_PT1)                    #To plot the \"trace\" and the posterior distribution\n",
      "\n",
      "x_NAE_PT1 <- pairs(data.frame(chain_NAE_PT1)) # to test for correlation\n",
      "\n",
      "dev.off()\n",
      "### NAE_bayescenv_PT2.sel\n",
      "\n",
      "chain_NAE_PT2 <-read.table(\"NAE_bayescenv_PT2.sel\",header=TRUE)\n",
      "chain_NAE_PT2 <-mcmc(chain_NAE_PT2, thin=10)     #Adapt thin to its actual value (10 is the default)\n",
      "heidel.diag(chain_NAE_PT2)             #To test for convergence\n",
      "effectiveSize(chain_NAE_PT2)           #To compute effective sample size\n",
      "autocorr.diag(chain_NAE_PT2)           #To look for auto-correlation\n",
      "pdf(\"Plots/NAE_bayescenv_PT2.pdf\", width=8, height=8)\n",
      "\n",
      "plot(chain_NAE_PT2)                    #To plot the \"trace\" and the posterior distribution\n",
      "\n",
      "\n",
      "x_NAE_PT2 <- pairs(data.frame(chain_NAE_PT2)) # to test for correlation\n",
      "\n",
      "dev.off()\n",
      "#_____________________________________________________________________________________________\n",
      "\n",
      "### NAO_bayescenv_LO.sel\n",
      "\n",
      "chain_NAO_LO <-read.table(\"NAO_bayescenv_LO.sel\",header=TRUE)\n",
      "chain_NAO_LO <-mcmc(chain_NAO_LO, thin=10)     #Adapt thin to its actual value (10 is the default)\n",
      "heidel.diag(chain_NAO_LO)             #To test for convergence\n",
      "effectiveSize(chain_NAO_LO)           #To compute effective sample size\n",
      "autocorr.diag(chain_NAO_LO)           #To look for auto-correlation\n",
      "pdf(\"Plots/NAO_bayescenv_LO.pdf\", width=8, height=8)\n",
      "\n",
      "plot(chain_NAO_LO)                    #To plot the \"trace\" and the posterior distribution\n",
      "\n",
      "x_NAO_LO <- pairs(data.frame(chain_NAO_LO)) # to test for correlation\n",
      "\n",
      "dev.off()\n",
      "### NAO_bayescenv_LA.sel\n",
      "\n",
      "chain_NAO_LA <-read.table(\"NAO_bayescenv_LA.sel\",header=TRUE)\n",
      "chain_NAO_LA <-mcmc(chain_NAO_LA, thin=10)     #Adapt thin to its actual value (10 is the default)\n",
      "heidel.diag(chain_NAO_LA)             #To test for convergence\n",
      "effectiveSize(chain_NAO_LA)           #To compute effective sample size\n",
      "autocorr.diag(chain_NAO_LA)           #To look for auto-correlation\n",
      "pdf(\"Plots/NAO_bayescenv_LA.pdf\", width=8, height=8)\n",
      "\n",
      "plot(chain_NAO_LA)                    #To plot the \"trace\" and the posterior distribution\n",
      "\n",
      "x_NAO_LA <- pairs(data.frame(chain_NAO_LA)) # to test for correlation\n",
      "\n",
      "dev.off()\n",
      "### NAO_bayescenv_PT1.sel\n",
      "\n",
      "chain_NAO_PT1 <-read.table(\"NAO_bayescenv_PT1.sel\",header=TRUE)\n",
      "chain_NAO_PT1 <-mcmc(chain_NAO, thin=10)     #Adapt thin to its actual value (10 is the default)\n",
      "heidel.diag(chain_NAO_PT1)             #To test for convergence\n",
      "effectiveSize(chain_NAO_PT1)           #To compute effective sample size\n",
      "autocorr.diag(chain_NAO_PT1)           #To look for auto-correlation\n",
      "pdf(\"Plots/NAO_bayescenv_PT1.pdf\", width=8, height=8)\n",
      "\n",
      "plot(chain_NAO_PT1)                    #To plot the \"trace\" and the posterior distribution\n",
      "\n",
      "x_NAO_PT1 <- pairs(data.frame(chain_NAO_PT1)) # to test for correlation\n",
      "\n",
      "dev.off()\n",
      "### NAO_bayescenv_PT2.sel\n",
      "\n",
      "chain_NAO_PT2 <-read.table(\"NAO_bayescenv_PT2.sel\",header=TRUE)\n",
      "chain_NAO_PT2 <-mcmc(chain_NAO_PT2, thin=10)     #Adapt thin to its actual value (10 is the default)\n",
      "heidel.diag(chain_NAO_PT2)             #To test for convergence\n",
      "effectiveSize(chain_NAO_PT2)           #To compute effective sample size\n",
      "autocorr.diag(chain_NAO_PT2)           #To look for auto-correlation\n",
      "pdf(\"Plots/NAO_bayescenv_PT2.pdf\", width=8, height=8)\n",
      "\n",
      "plot(chain_NAO_PT2)                    #To plot the \"trace\" and the posterior distribution\n",
      "\n",
      "x_NAO_PT2 <- pairs(data.frame(chain_NAO_PT2)) # to test for correlation\n",
      "\n",
      "dev.off()\n",
      "#_____________________________________________________________________________________________\n",
      "\n",
      "### ASE_bayescenv_LA.sel\n",
      "\n",
      "chain_ASE_LA <-read.table(\"ASE_bayescenv_LA.sel\",header=TRUE)\n",
      "chain_ASE_LA <-mcmc(chain_ASE_LA,thin=10)     #Adapt thin to its actual value (10 is the default)\n",
      "heidel.diag(chain_ASE_LA)             #To test for convergence\n",
      "effectiveSize(chain_ASE_LA)           #To compute effective sample size\n",
      "autocorr.diag(chain_ASE_LA)           #To look for auto-correlation\n",
      "pdf(\"Plots/ASE_bayescenv_LA.pdf\", width=8, height=8)\n",
      "\n",
      "plot(chain_ASE_LA)                    #To plot the \"trace\" and the posterior distribution\n",
      "\n",
      "x_ASE_LA <- pairs(data.frame(chain_ASE_LA)) # to test for correlation\n",
      "\n",
      "dev.off()\n",
      "### ASE_bayescenv_LO.sel\n",
      "\n",
      "chain_ASE_LO <-read.table(\"ASE_bayescenv_LO.sel\",header=TRUE)\n",
      "chain_ASE_LO <-mcmc(chain_ASE_LO ,thin=10)     #Adapt thin to its actual value (10 is the default)\n",
      "heidel.diag(chain_ASE_LO)             #To test for convergence\n",
      "effectiveSize(chain_ASE_LO)           #To compute effective sample size\n",
      "autocorr.diag(chain_ASE_LO)           #To look for auto-correlation\n",
      "pdf(\"Plots/ASE_bayescenv_LO.pdf\", width=8, height=8)\n",
      "\n",
      "plot(chain_ASE_LO)                    #To plot the \"trace\" and the posterior distribution\n",
      "\n",
      "x_ASE_LO <- pairs(data.frame(chain_ASE_LO)) # to test for correlation\n",
      "\n",
      "dev.off()\n",
      "### ASE_bayescenv_PT1.sel\n",
      "\n",
      "chain_ASE_PT1 <-read.table(\"ASE_bayescenv_PT1.sel\",header=TRUE)\n",
      "chain_ASE_PT1 <-mcmc(chain_ASE ,thin=10)     #Adapt thin to its actual value (10 is the default)\n",
      "heidel.diag(chain_ASE_PT1)             #To test for convergence\n",
      "effectiveSize(chain_ASE_PT1)           #To compute effective sample size\n",
      "autocorr.diag(chain_ASE_PT1)           #To look for auto-correlation\n",
      "pdf(\"Plots/ASE_bayescenv_PT1.pdf\", width=8, height=8)\n",
      "\n",
      "plot(chain_ASE_PT1)                    #To plot the \"trace\" and the posterior distribution\n",
      "\n",
      "x_ASE_PT1 <- pairs(data.frame(chain_ASE_PT1)) # to test for correlation\n",
      "\n",
      "dev.off()\n",
      "### ASE_bayescenv_PT2.sel\n",
      "\n",
      "chain_ASE_PT2 <-read.table(\"ASE_bayescenv_PT2.sel\",header=TRUE)\n",
      "chain_ASE_PT2 <-mcmc(chain_ASE_PT2 ,thin=10)     #Adapt thin to its actual value (10 is the default)\n",
      "heidel.diag(chain_ASE_PT2)             #To test for convergence\n",
      "effectiveSize(chain_ASE_PT2)           #To compute effective sample size\n",
      "autocorr.diag(chain_ASE_PT2)           #To look for auto-correlation\n",
      "pdf(\"Plots/ASE_bayescenv_PT2.pdf\", width=8, height=8)\n",
      "\n",
      "plot(chain_ASE_PT2)                    #To plot the \"trace\" and the posterior distribution\n",
      "\n",
      "x_ASE_PT2 <- pairs(data.frame(chain_ASE_PT2)) # to test for correlation\n",
      "\n",
      "dev.off()\n",
      "#_____________________________________________________________________________________________\n",
      "\n",
      "\n",
      "### ASO_bayescenv_LA.sel\n",
      "\n",
      "chain_ASO_LA <-read.table(\"ASO_bayescenv_LA.sel\",header=TRUE)\n",
      "chain_ASO_LA <-mcmc(chain_ASO_LA ,thin=10)     #Adapt thin to its actual value (10 is the default)\n",
      "heidel.diag(chain_ASO_LA)             #To test for convergence\n",
      "effectiveSize(chain_ASO_LA)           #To compute effective sample size\n",
      "autocorr.diag(chain_ASO_LA)           #To look for auto-correlation\n",
      "pdf(\"Plots/ASO_bayescenv_LA.pdf\", width=8, height=8)\n",
      "\n",
      "plot(chain_ASO_LA)                    #To plot the \"trace\" and the posterior distribution\n",
      "\n",
      "x_ASO_LA <- pairs(data.frame(chain_ASO_LA)) # to test for correlation\n",
      "\n",
      "dev.off()\n",
      "### ASO_bayescenv_LO.sel\n",
      "\n",
      "chain_ASO_LO <-read.table(\"ASO_bayescenv_LO.sel\",header=TRUE)\n",
      "chain_ASO_LO <-mcmc(chain_ASO_LO ,thin=10)     #Adapt thin to its actual value (10 is the default)\n",
      "heidel.diag(chain_ASO_LO)             #To test for convergence\n",
      "effectiveSize(chain_ASO_LO)           #To compute effective sample size\n",
      "autocorr.diag(chain_ASO_LO)           #To look for auto-correlation\n",
      "pdf(\"Plots/ASO_bayescenv_LO.pdf\", width=8, height=8)\n",
      "\n",
      "plot(chain_ASO_LO)                    #To plot the \"trace\" and the posterior distribution\n",
      "\n",
      "x_ASO_LO <- pairs(data.frame(chain_ASO_LO)) # to test for correlation\n",
      "\n",
      "dev.off()\n",
      "### ASO_bayescenv_PT1.sel\n",
      "\n",
      "chain_ASO_PT1 <-read.table(\"ASO_bayescenv_PT1.sel\",header=TRUE)\n",
      "chain_ASO_PT1 <-mcmc(chain_ASO_PT1 ,thin=10)     #Adapt thin to its actual value (10 is the default)\n",
      "heidel.diag(chain_ASO_PT1)             #To test for convergence\n",
      "effectiveSize(chain_ASO_PT1)           #To compute effective sample size\n",
      "autocorr.diag(chain_ASO_PT1)           #To look for auto-correlation\n",
      "pdf(\"Plots/ASO_bayescenv_PT1.pdf\", width=8, height=8)\n",
      "\n",
      "plot(chain_ASO_PT1)                    #To plot the \"trace\" and the posterior distribution\n",
      "\n",
      "x_ASO_PT1 <- pairs(data.frame(chain_ASO_PT1)) # to test for correlation\n",
      "\n",
      "dev.off()\n",
      "### ASO_bayescenv_PT2.sel\n",
      "\n",
      "chain_ASO_PT2 <-read.table(\"ASO_bayescenv_PT2.sel\",header=TRUE)\n",
      "chain_ASO_PT2 <-mcmc(chain_ASO_PT2 ,thin=10)     #Adapt thin to its actual value (10 is the default)\n",
      "heidel.diag(chain_ASO_PT2)             #To test for convergence\n",
      "effectiveSize(chain_ASO_PT2)           #To compute effective sample size\n",
      "autocorr.diag(chain_ASO_PT2)           #To look for auto-correlation\n",
      "pdf(\"Plots/ASO_bayescenv_PT2.pdf\", width=8, height=8)\n",
      "\n",
      "plot(chain_ASO_PT2)                    #To plot the \"trace\" and the posterior distribution\n",
      "\n",
      "x_ASO_PT2 <- pairs(data.frame(chain_ASO_PT2)) # to test for correlation\n",
      "\n",
      "dev.off()\n",
      "#_____________________________________________________________________________________________\n",
      "\n",
      "\n"
     ],
     "language": "python",
     "metadata": {},
     "outputs": []
    }
   ],
   "metadata": {}
  }
 ]
}