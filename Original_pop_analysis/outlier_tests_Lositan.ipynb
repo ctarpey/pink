{
 "metadata": {
  "name": "",
  "signature": "sha256:5535237df453962290c3cd997a7daeeb0fc20112271a270a3fa0b836bb22e630"
 },
 "nbformat": 3,
 "nbformat_minor": 0,
 "worksheets": [
  {
   "cells": [
    {
     "cell_type": "markdown",
     "metadata": {},
     "source": [
      "#Outlier tests with the program Lositan "
     ]
    },
    {
     "cell_type": "markdown",
     "metadata": {},
     "source": [
      "###Lositan: \n",
      "    http://popgen.net/soft/lositan/"
     ]
    },
    {
     "cell_type": "markdown",
     "metadata": {},
     "source": [
      "##Background: \n",
      "Im running this program on the population data to identify outlier loci that are putatively under selection. Im breaking it into different steps; first, all the populations together to get putatively neutral SNPs. Second, a set of runs that compare the populations within a lineage and a continent individually, to look for outliers within a lineage. \n",
      "\n",
      "The third comparison I want to do is between each of the 7 locations, so comparing the two populations from each river to test for differences within lineages. \n",
      "\n",
      "The program works pretty easily right after downloading it. I had to change some java settings, but nothing major. \n",
      "\n",
      "##Input files: \n",
      "\n",
      "I used the population genotypes in the genepop format, from the file filtering/16681and80: 16681_80_genepop_one_per_line.txt I added a title line to it. \n",
      "\n",
      "##Running the program: \n",
      "\n",
      "The Lositan GUI identified 14 populations.\n",
      "\n",
      "I checked the neutral mean Fst box and got the warning:\n",
      "\n",
      "\"Using a neutral mean Fst means doing a first simulation run to remove potential selected loci for computing the initial mean Fst. This effectively doubles the computation time but it is the recommeneded option if you are not sure what you want, please check this option\" \n",
      "\n",
      "and for the precise mean Fst: \n",
      "\n",
      "\"Simulating a precise mean Fst is not possible outside ideal theoretical conditions (infinite populations, infinite alleles model). SELWB can try to approximate a desired Fst by running a bisection algorithm over repeated simulations. Checking this option will increase the computation time by a certain amount of time (in most cases it will double the computation time), this is still the recommended option. If you are not sure what you want, please check this option.\" \n",
      "\n",
      "Since I'm not really sure what I want, I checked both of the boxes and I left the rest of the default options filled in.\n",
      "\n",
      "the attempted FST is 0.062134\n",
      "confidence interval: 0.95\n",
      "false discovery rate: 0.1\n",
      "expected total pops: 14\n",
      "mutation model: infinite alleles\n",
      "subsample size: 50 \n",
      "\n",
      "I loaded in the population names: \n",
      "- AMUR10\n",
      "- AMUR11\n",
      "- HAYLY09\n",
      "- HAYLY10\n",
      "- KOPPE91\n",
      "- KOPPE96\n",
      "- KUSHI06\n",
      "- KUSHI07\n",
      "- NOME91\n",
      "- NOME94\n",
      "- SNOH03\n",
      "- SNOH96\n",
      "- TAUY09\n",
      "- TAUY12\n",
      "\n",
      "It finished running (false discovery rate: 0.1) and had a pop-up that said that the simulated Fst is 0.057786. I saved the outputs.\n",
      "\n",
      "I changed the false discovery rate to 0.05 and ran it again, to see what, if anything changes.\n",
      "\n",
      "In the Lositan program, the FDR run with a limit of 0.01 finished running, and the simulated Fst is 0.051289. I saved the output loci list. \n"
     ]
    },
    {
     "cell_type": "markdown",
     "metadata": {},
     "source": [
      "## Lineage based comparisons in Lositan \n",
      "\n",
      "Running the program with the four groups: \n",
      "\n",
      "- Asian Odd\n",
      "- Asian Even\n",
      "- North American Odd\n",
      "- North American Even\n",
      "\n",
      "Using the GUI it is not clear what to do about the expected populations. For a couple of runs I didnt change that, because without making any changes the program still summarized the data correctly on the side bar. For instance, it says that there are 14 populations an 4 selected populations for the North America group. When you change the number of expected populations, it restart the simulations. I'm not sure exactly what that means, but I think it is the right way to go, since I want to look at just those 4 populations, not in relation to anything else. \n",
      "\n",
      "I ran each group with  the expected number of populations equalling the number of populations, and with an FDR of 0.01 and 0.05. I saved the results of the runs in an excel file where each of the pages is its own grouping. \n",
      "Briefly looking at the results of the runs that I did with both an expected population number of 14 and of 4, the change had an effect on the pvalue (siluated Fst < sample Fst). The biggest pvalue comes from the most stringent FDR: the 0.01 and the smallest # of pops (4- also, from what I am assuming is the correct # of expected populations in this comparison) and then the 0.01 with 14 pops, the 0.05 with 4 pops and finally the 0.05 with the 14 pops is the smallest value. \n",
      "\n",
      "For the Asian samples, I will only run the simulations with the expected number of populations = 3. \n",
      "\n"
     ]
    },
    {
     "cell_type": "markdown",
     "metadata": {},
     "source": [
      "The Lositan website has this R code available to plot the results of the runs. I saved it in an R script called Lositan_plots.R"
     ]
    },
    {
     "cell_type": "code",
     "collapsed": false,
     "input": [
      "\n",
      "#Bare bones script to read LOSITAN data into R\n",
      "#\n",
      "# USAGE:\n",
      "# The script expects to find:\n",
      "#    a file called loci with locus He/Fst and\n",
      "#    a file called ci with the confidence intervals\n",
      "#\n",
      "# A PNG graphic will be generated called output.png\n",
      "#\n",
      "# The graphic and the tables generated are 'bare bones' in\n",
      "# the sense that they are provided as a STARTING POINT on\n",
      "# how to read the data into R.\n",
      "# User customization of the script is expected.\n",
      "# Feel free to change and use it at your discretion\n",
      "#\n",
      "#(C) 2008 Tiago Antao\n",
      "#This script is free software under the GPL v3\n",
      "plot_ci <- function(f_name, bcolor, mcolor, tcolor) {\n",
      "  cpl <- read.table(f_name, header=TRUE)\n",
      "  lines(cpl[,1],cpl[,2], type='l', col=bcolor)\n",
      "  lines(cpl[,1],cpl[,3], type='l', col=mcolor)\n",
      "  lines(cpl[,1],cpl[,4], type='l', col=tcolor)\n",
      "}\n",
      "\n",
      "plot_loci <- function(f_name, color) {\n",
      "  cpl <- read.table(f_name, header=TRUE, sep='\\t')\n",
      "  points(cpl[,2],cpl[,3], col=color)\n",
      "}\n",
      "\n",
      "\n",
      "png('output.png')\n",
      "plot(-10,ylim=c(0,0.4),xlim=c(0,1), xlab='He', ylab='Fst')\n",
      "plot_ci('ci', 'green', 'black', 'red')\n",
      "plot_loci('loci', 'blue')\n",
      "dev.off()\n",
      "print('The purpose of this script is to provide a Bare bones example on how to read LOSITAN data')\n",
      "print('You should customize it to your needs')\n"
     ],
     "language": "python",
     "metadata": {},
     "outputs": []
    },
    {
     "cell_type": "markdown",
     "metadata": {},
     "source": [
      "Reading Ben Hecht's paper, I noticed that he was running Lositan differently than I am. He accounts for the smallest sample sizes by subsampling the other populations to match the smallest sample size. \n",
      " \n",
      "Running it by Lisa, she said not to worry about that. Because Im using a lot of different programs to run my outlier tests, Im only looking at the way that they overlap. The defaults are just fine. \n"
     ]
    },
    {
     "cell_type": "markdown",
     "metadata": {},
     "source": [
      "## Within river comparisons in Lositan \n",
      "\n",
      "Next step is running the program with these seven groupings: \n",
      "\n",
      "    Asian populations\n",
      "    \n",
      "- Amur River\n",
      "- Haylyluya River\n",
      "- Tauy River\n",
      "- Kushiro River\n",
      "\n",
      "    North American populations\n",
      "    \n",
      "- Nome River\n",
      "- Snohomish River\n",
      "- Koppen Creek\n",
      "\n"
     ]
    }
   ],
   "metadata": {}
  }
 ]
}