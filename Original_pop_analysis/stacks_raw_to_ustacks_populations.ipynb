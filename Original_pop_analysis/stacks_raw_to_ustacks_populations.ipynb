{
 "metadata": {
  "name": "",
  "signature": "sha256:d8ced1f7590a75b4c6da26c8384428297c6802ed99317e8dcd2a0535d346ac65"
 },
 "nbformat": 3,
 "nbformat_minor": 0,
 "worksheets": [
  {
   "cells": [
    {
     "cell_type": "markdown",
     "metadata": {},
     "source": [
      "##Stacks Workflow for Pink Data: Process_radtags, Renaming, Concatenating and Ustacks"
     ]
    },
    {
     "cell_type": "markdown",
     "metadata": {},
     "source": [
      "\n",
      "Stacks version 1.20\n",
      "\n",
      "Simplified steps:\n",
      "\n",
      "    Run process_radtags to clean up and demultiplex the samples (keeping each lane of samples separate until you can rename them)\n",
      "    Rename the samples, replacing the barcode with the sample name\n",
      "    Combine all the samples in one file (concatenate samples that were re-run)\n",
      "    Continue with Stacks: ustacks, sstacks, and genotyping\n",
      "\n",
      "Data inventory and breakdown of individual needs:\n",
      "\n",
      "Asian population data\n",
      "\n",
      "- initial process rad tags [run June 26]\n",
      "- rename (dont have the batchfiles)\n",
      "- resequencing \n",
      "- second process rad tags \n",
      "- rename \n",
      "- concatenate\n",
      "\n",
      "North American population data\n",
      "\n",
      "- check phred score\n",
      "- process rad tags\n",
      "- rename\n",
      "\n",
      "After all the samples were sequenced and re-sequenced, renamed and concatenated, there were several rounds of preliminary data analysis in Stacks as a way to familiarize myself with the program. Those runs are not included here. Neither is a detailed account of an issue with renaming of the Asian and Haploid samples that were resequenced. The details of that saga are included in a long form text file on the Seagate external hard drive along with copies of all the data files and other supporting materials."
     ]
    },
    {
     "cell_type": "markdown",
     "metadata": {},
     "source": [
      "##Checking the phred score for older samples\n",
      "\n",
      "Because the older samples (North American) were run on a different technology than the newer samples, there is a chance that maybe the quality score algorithm is different. Garrett sent me a script that checks the quality score for the samples:"
     ]
    },
    {
     "cell_type": "code",
     "collapsed": false,
     "input": [
      "\n",
      "head input.fastq | awk '{if(NR%4==0) printf(\"%s\",$0);}' |  od A n t u1 | awk 'BEGIN{min=100;max=0;}{for(i=1;i<=NF;i++) {if($i>max) max=$i; if($i<min) min=$i;}}END{if(max<=74 && min<59) print \"Phred+33\"; else if(max>73 && min>=64) print \"Phred+64\"; else if(min>=59 && min<64 && max>73) print \"Solexa+64\"; else print \"Unknown score encoding!\";}'"
     ],
     "language": "python",
     "metadata": {},
     "outputs": []
    },
    {
     "cell_type": "markdown",
     "metadata": {},
     "source": [
      "The the North American samples have a Phred+64 score, so they will have to have a flag in the process_radtags command that makes that distinction.\n",
      "Process_radtags"
     ]
    },
    {
     "cell_type": "markdown",
     "metadata": {},
     "source": [
      "#Process_radtags\n",
      "The raw samples are located on the network drive foraker:\n",
      "\n",
      "./foraker/RAD/PINK/00RawSequences\n",
      "\n",
      "The barcode files for each of the lanes should be included in that file.\n",
      "\n",
      "In the command for process_radtags:\n",
      "\n",
      "    -p is the path to the raw data\n",
      "    -o is where the output should be stored (all separate, the barcodes are the same for all lanes)\n",
      "    -e is the enzyme used\n",
      "    -r doesn't have to be an exact match to your barcode, it can be one barcode off, so it rescues the barcodes\n",
      "    -c clean data, remove reads that have an uncalled base\n",
      "    -q discard reads with low quality scores\n",
      "    -t is trim the sequence (here to 94 base pairs on the new reads, to cut off the last base)\n",
      "    -i is the input file type\n",
      "    -E specify how the quality scores are encoded, default is phred33 or else phred64"
     ]
    },
    {
     "cell_type": "markdown",
     "metadata": {},
     "source": [
      "The following are the commands used to run process_radtags on the individual lanes of population and haploid data:"
     ]
    },
    {
     "cell_type": "code",
     "collapsed": false,
     "input": [
      "#June 26 2014\n",
      "#batchfile for process_radtags first run of Asian population samples\n",
      "\n",
      "process_radtags -p ./gzip/AsianPops/PA1 -o ./AsianPopCmt/PA1 -b ./AsianPinkBarcodes.txt -e -sbfI -r -c -q -t 94 -i gzfastq\n",
      "process_radtags -p ./gzip/AsianPops/PA2 -o ./AsianPopCmt/PA2 -b ./AsianPinkBarcodes.txt -e -sbfI -r -c -q -t 94 -i gzfastq\n",
      "process_radtags -p ./gzip/AsianPops/PA3 -o ./AsianPopCmt/PA3 -b ./AsianPinkBarcodes.txt -e -sbfI -r -c -q -t 94 -i gzfastq\n",
      "\n",
      "#One individuals was missing from the end of lane 3 because the barcode wasn't included in the barcode file. \n",
      "#The corrected barcodes file is AsianPinkBarcodes2.txt and the lane was re-run: \n",
      "\n",
      "process_radtags -p ./gzip/AsianPops/PA3 -o ./AsianPopCmt/PA3 -b ./AsianPinkBarcodes2.txt -e sbfI -r -c -q -t 94 -i gzfastq\n"
     ],
     "language": "python",
     "metadata": {},
     "outputs": []
    },
    {
     "cell_type": "code",
     "collapsed": false,
     "input": [
      "#process_radtags2.sh\n",
      "#run process_radtags on the North American samples. \n",
      "#Sep 19 2014\n",
      "\n",
      "#not all the samples have a phred score of 64, the last two lanes have a phred score of 33\n",
      "\n",
      "process_radtags -p ./P01 -o ./P01 -b ./P01_barcodes.txt -e sbfI -r -c -q -t 94 -i gzfastq -E phred64\n",
      "process_radtags -p ./P02 -o ./P02 -b ./P02_barcodes.txt -e sbfI -r -c -q -t 94 -i gzfastq -E phred64\n",
      "process_radtags -p ./P03 -o ./P03 -b ./P03_barcodes.txt -e sbfI -r -c -q -t 94 -i gzfastq -E phred64\n",
      "process_radtags -p ./P04 -o ./P04 -b ./P04_barcodes.txt -e sbfI -r -c -q -t 94 -i gzfastq -E phred64\n",
      "process_radtags -p ./P05 -o ./P05 -b ./P05_barcodes.txt -e sbfI -r -c -q -t 94 -i gzfastq -E phred64\n",
      "process_radtags -p ./P06 -o ./P06 -b ./P06_barcodes.txt -e sbfI -r -c -q -t 94 -i gzfastq -E phred64\n",
      "process_radtags -p ./P07 -o ./P07 -b ./P07_barcodes.txt -e sbfI -r -c -q -t 94 -i gzfastq -E phred64\n",
      "process_radtags -p ./P08 -o ./P08 -b ./P08_barcodes.txt -e sbfI -r -c -q -t 94 -i gzfastq -E phred64\n",
      "process_radtags -p ./P09 -o ./P09 -b ./P09_barcodes.txt -e sbfI -r -c -q -t 94 -i gzfastq -E phred64\n",
      "process_radtags -p ./P10 -o ./P10 -b ./P10_barcodes.txt -e sbfI -r -c -q -t 94 -i gzfastq -E phred64\n",
      "process_radtags -p ./P11 -o ./P11 -b ./P11_barcodes.txt -e sbfI -r -c -q -t 94 -i gzfastq\n",
      "process_radtags -p ./P12 -o ./P12 -b ./P12_barcodes.txt -e sbfI -r -c -q -t 94 -i gzfastq\n"
     ],
     "language": "python",
     "metadata": {},
     "outputs": []
    },
    {
     "cell_type": "markdown",
     "metadata": {},
     "source": [
      "##Rename the samples\n",
      "\n",
      "The samples are renamed using the command mv for move or cp for copy. The easiest way is to build a batchfile in excel that will be used to change the barcode to the sample name. Each line is specific to one sample, and has the initial command, the old file name (the barcode) followed by the new file name (the sample name)."
     ]
    },
    {
     "cell_type": "code",
     "collapsed": false,
     "input": [
      "#copy.sh \n",
      "#Sep 22 2014\n",
      "\n",
      "#copy and rename the processradtags from north america. \n",
      "\n",
      "cp ./P01/sample_ACAGCG.fq ./PSNOH96_0011.fq\n",
      "cp ./P01/sample_ACCATG.fq ./PSNOH96_0013.fq\n",
      "cp ./P01/sample_ACCCCC.fq ./PSNOH96_0014.fq\n",
      "cp ./P01/sample_AATGAG.fq ./PSNOH96_0009.fq\n",
      "cp ./P01/sample_ACATAC.fq ./PSNOH96_0012.fq\n",
      "cp ./P01/sample_AAACGG.fq ./PSNOH96_0003.fq\n",
      "cp ./P01/sample_AACGTT.fq ./PSNOH96_0004.fq\n",
      "cp ./P01/sample_AACTGA.fq ./PSNOH96_0005.fq\n",
      "cp ./P01/sample_AAGACG.fq ./PSNOH96_0006.fq\n",
      "cp ./P01/sample_AAGCTA.fq ./PSNOH96_0007.fq\n",
      "cp ./P01/sample_AATATC.fq ./PSNOH96_0008.fq\n",
      "cp ./P01/sample_ACAAGA.fq ./PSNOH96_0010.fq\n",
      "cp ./P02/sample_ACTCTT.fq ./PSNOH96_0015.fq\n",
      "cp ./P02/sample_ACTGGC.fq ./PSNOH96_0016.fq\n",
      "cp ./P02/sample_AGCCAT.fq ./PSNOH96_0017.fq\n",
      "cp ./P02/sample_AGCGCA.fq ./PSNOH96_0018.fq\n",
      "cp ./P02/sample_AGGGTC.fq ./PSNOH96_0019.fq\n",
      "cp ./P02/sample_AGGTGT.fq ./PSNOH96_0021.fq\n",
      "cp ./P02/sample_AGTTAA.fq ./PSNOH96_0023.fq\n",
      "cp ./P02/sample_ATAGTA.fq ./PSNOH96_0024.fq\n",
      "cp ./P02/sample_ATGCAC.fq ./PSNOH96_0027.fq\n",
      "cp ./P02/sample_ATGTTG.fq ./PSNOH96_0028.fq\n",
      "cp ./P02/sample_AGTAGG.fq ./PSNOH96_0022.fq\n",
      "cp ./P02/sample_ATCAAA.fq ./PSNOH96_0025.fq\n",
      "cp ./P03/sample_ATTCCG.fq ./PSNOH03_0005.fq\n",
      "cp ./P03/sample_CAAAAA.fq ./PSNOH03_0016.fq\n",
      "cp ./P03/sample_CAATCG.fq ./PSNOH03_0017.fq\n",
      "cp ./P03/sample_CACCTC.fq ./PSNOH03_0019.fq\n",
      "cp ./P03/sample_CAGGCA.fq ./PSNOH03_0021.fq\n",
      "cp ./P03/sample_CATACT.fq ./PSNOH03_0024.fq\n",
      "cp ./P03/sample_CCCGGT.fq ./PSNOH03_0029.fq\n",
      "cp ./P03/sample_CCCTAA.fq ./PSNOH03_0039.fq\n",
      "cp ./P03/sample_CCGCAT.fq ./PSNOH03_0046.fq\n",
      "cp ./P03/sample_CCTAAC.fq ./PSNOH03_0063.fq\n",
      "cp ./P03/sample_CCATTT.fq ./PSNOH03_0027.fq\n",
      "cp ./P03/sample_CCGAGG.fq ./PSNOH03_0043.fq\n",
      "cp ./P04/sample_CGAGGC.fq ./PSNOH03_0065.fq\n",
      "cp ./P04/sample_CGCAGA.fq ./PSNOH03_0067.fq\n",
      "cp ./P04/sample_CGCGTG.fq ./PSNOH03_0074.fq\n",
      "cp ./P04/sample_CGGTCC.fq ./PSNOH03_0075.fq\n",
      "cp ./P04/sample_CGTCTA.fq ./PSNOH03_0076.fq\n",
      "cp ./P04/sample_CGTGAT.fq ./PSNOH03_0078.fq\n",
      "cp ./P04/sample_CTCGCC.fq ./PSNOH03_0081.fq\n",
      "cp ./P04/sample_CTGCGA.fq ./PSNOH03_0082.fq\n",
      "cp ./P04/sample_CTTATG.fq ./PSNOH03_0090.fq\n",
      "cp ./P04/sample_CTTTGC.fq ./PSNOH03_0095.fq\n",
      "cp ./P04/sample_CTACAG.fq ./PSNOH03_0079.fq\n",
      "cp ./P04/sample_CTGGTT.fq ./PSNOH03_0088.fq\n",
      "cp ./P05/sample_GAAATG.fq ./PNOME91_0001.fq\n",
      "cp ./P05/sample_GAACCA.fq ./PNOME91_0002.fq\n",
      "cp ./P05/sample_GACGAC.fq ./PNOME91_0003.fq\n",
      "cp ./P05/sample_GACTCT.fq ./PNOME91_0004.fq\n",
      "cp ./P05/sample_GAGAGA.fq ./PNOME91_0005.fq\n",
      "cp ./P05/sample_GATCGT.fq ./PNOME91_0008.fq\n",
      "cp ./P05/sample_GCATGG.fq ./PNOME91_0010.fq\n",
      "cp ./P05/sample_GCCGTA.fq ./PNOME91_0011.fq\n",
      "cp ./P05/sample_GCGACC.fq ./PNOME91_0013.fq\n",
      "cp ./P05/sample_GCGCTG.fq ./PNOME91_0014.fq\n",
      "cp ./P05/sample_GCTCAA.fq ./PNOME91_0015.fq\n",
      "cp ./P05/sample_GCAGAT.fq ./PNOME91_0009.fq\n",
      "cp ./P06/sample_GGACTT.fq ./PNOME91_0016.fq\n",
      "cp ./P06/sample_GGCAAG.fq ./PNOME91_0017.fq\n",
      "cp ./P06/sample_GGGCGC.fq ./PNOME91_0018.fq\n",
      "cp ./P06/sample_GGGGCG.fq ./PNOME91_0021.fq\n",
      "cp ./P06/sample_GGTACA.fq ./PNOME91_0025.fq\n",
      "cp ./P06/sample_GGTTTG.fq ./PNOME91_0026.fq\n",
      "cp ./P06/sample_GTATCC.fq ./PNOME91_0028.fq\n",
      "cp ./P06/sample_GTCATC.fq ./PNOME91_0030.fq\n",
      "cp ./P06/sample_GTGCCT.fq ./PNOME91_0031.fq\n",
      "cp ./P06/sample_GTGTAA.fq ./PNOME91_0032.fq\n",
      "cp ./P06/sample_GTTGGA.fq ./PNOME91_0033.fq\n",
      "cp ./P06/sample_GTAAGT.fq ./PNOME91_0027.fq\n",
      "cp ./P07/sample_TAAGCT.fq ./PNOME94_0001.fq\n",
      "cp ./P07/sample_TAATTC.fq ./PNOME94_0002.fq\n",
      "cp ./P07/sample_TACACA.fq ./PNOME94_0003.fq\n",
      "cp ./P07/sample_TACGGG.fq ./PNOME94_0004.fq\n",
      "cp ./P07/sample_TAGTAT.fq ./PNOME94_0005.fq\n",
      "cp ./P07/sample_TATCAC.fq ./PNOME94_0006.fq\n",
      "cp ./P07/sample_TCAAAG.fq ./PNOME94_0007.fq\n",
      "cp ./P07/sample_TCCTGC.fq ./PNOME94_0008.fq\n",
      "cp ./P07/sample_TCGATT.fq ./PNOME94_0009.fq\n",
      "cp ./P07/sample_TCGCCA.fq ./PNOME94_0010.fq\n",
      "cp ./P07/sample_TCGGAC.fq ./PNOME94_0011.fq\n",
      "cp ./P07/sample_TCTCGG.fq ./PNOME94_0012.fq\n",
      "cp ./P08/sample_TCTTCT.fq ./PNOME94_0013.fq\n",
      "cp ./P08/sample_TGAACC.fq ./PNOME94_0014.fq\n",
      "cp ./P08/sample_TGACAA.fq ./PNOME94_0015.fq\n",
      "cp ./P08/sample_TGCCCG.fq ./PNOME94_0016.fq\n",
      "cp ./P08/sample_TGCTTA.fq ./PNOME94_0017.fq\n",
      "cp ./P08/sample_TGGGGA.fq ./PNOME94_0018.fq\n",
      "cp ./P08/sample_TTCCGT.fq ./PNOME94_0020.fq\n",
      "cp ./P08/sample_TTATGA.fq ./PNOME94_0019.fq\n",
      "cp ./P09/sample_AAGACG.fq ./PKOPE96T_0001.fq\n",
      "cp ./P09/sample_AGCGCA.fq ./PKOPE96T_0002.fq\n",
      "cp ./P09/sample_CACCTC.fq ./PKOPE96T_0003.fq\n",
      "cp ./P09/sample_CGGTCC.fq ./PKOPE96T_0004.fq\n",
      "cp ./P09/sample_GACTCT.fq ./PKOPE96T_0005.fq\n",
      "cp ./P09/sample_GGGGCG.fq ./PKOPE96T_0006.fq\n",
      "cp ./P09/sample_TACGGG.fq ./PKOPE96T_0007.fq\n",
      "cp ./P09/sample_TGCCCG.fq ./PKOPE96T_0008.fq\n",
      "cp ./P09/sample_AAGCTA.fq ./PKOPE96T_0009.fq\n",
      "cp ./P09/sample_AGGGTC.fq ./PKOPE96T_0010.fq\n",
      "cp ./P09/sample_CAGGCA.fq ./PKOPE96T_0011.fq\n",
      "cp ./P09/sample_CGTCTA.fq ./PKOPE96T_0012.fq\n",
      "cp ./P10/sample_GAGAGA.fq ./PKOPE96T_0013.fq\n",
      "cp ./P10/sample_GGTACA.fq ./PKOPE96T_0014.fq\n",
      "cp ./P10/sample_TAGTAT.fq ./PKOPE96T_0015.fq\n",
      "cp ./P10/sample_TGCTTA.fq ./PKOPE96T_0016.fq\n",
      "cp ./P10/sample_AATATC.fq ./PKOPE96T_0017.fq\n",
      "cp ./P10/sample_AGGTGT.fq ./PKOPE96T_0018.fq\n",
      "cp ./P10/sample_CATACT.fq ./PKOPE96T_0019.fq\n",
      "cp ./P10/sample_CGTGAT.fq ./PKOPE96T_0020.fq\n",
      "cp ./P10/sample_GATCGT.fq ./PKOPE96T_0021.fq\n",
      "cp ./P10/sample_GGTTTG.fq ./PKOPE96T_0022.fq\n",
      "cp ./P10/sample_TATCAC.fq ./PKOPE96T_0023.fq\n",
      "cp ./P10/sample_TGGGGA.fq ./PKOPE96T_0024.fq\n",
      "cp ./P11/sample_AATGAG.fq ./PKOPE91T_0001.fq\n",
      "cp ./P11/sample_AGTAGG.fq ./PKOPE91T_0002.fq\n",
      "cp ./P11/sample_CCATTT.fq ./PKOPE91T_0003.fq\n",
      "cp ./P11/sample_CTACAG.fq ./PKOPE91T_0005.fq\n",
      "cp ./P11/sample_GCAGAT.fq ./PKOPE91T_0006.fq\n",
      "cp ./P11/sample_GTAAGT.fq ./PKOPE91T_0007.fq\n",
      "cp ./P11/sample_TCAAAG.fq ./PKOPE91T_0009.fq\n",
      "cp ./P11/sample_TTATGA.fq ./PKOPE91T_0010.fq\n",
      "cp ./P11/sample_ACATAC.fq ./PKOPE91T_0011.fq\n",
      "cp ./P11/sample_ATCAAA.fq ./PKOPE91T_0013.fq\n",
      "cp ./P11/sample_CCGAGG.fq ./PKOPE91T_0014.fq\n",
      "cp ./P11/sample_CTGGTT.fq ./PKOPE91T_0015.fq\n",
      "cp ./P12/sample_GCGACC.fq ./PKOPE91T_0016.fq\n",
      "cp ./P12/sample_GTGCCT.fq ./PKOPE91T_0017.fq\n",
      "cp ./P12/sample_TCGCCA.fq ./PKOPE91T_0018.fq\n",
      "cp ./P12/sample_TTGAGC.fq ./PKOPE91T_0019.fq\n",
      "cp ./P12/sample_ACAGCG.fq ./PKOPE91T_0020.fq\n",
      "cp ./P12/sample_ATAGTA.fq ./PKOPE91T_0024.fq\n",
      "cp ./P12/sample_CCCTAA.fq ./PKOPE91T_0025.fq\n",
      "cp ./P12/sample_CTGCGA.fq ./PKOPE91T_0026.fq\n",
      "cp ./P12/sample_GCCGTA.fq ./PKOPE91T_0029.fq\n",
      "cp ./P12/sample_GTCATC.fq ./PKOPE91T_0035.fq\n",
      "cp ./P12/sample_TCGATT.fq ./PKOPE91T_0036.fq\n",
      "cp ./P12/sample_TTCTAG.fq ./PKOPE91T_0037.fq"
     ],
     "language": "python",
     "metadata": {},
     "outputs": []
    },
    {
     "cell_type": "markdown",
     "metadata": {},
     "source": [
      "I don't have the batchfiles that I used to rename the Asian samples, but below are the barcodes and corresponding sample names that were used to make them."
     ]
    },
    {
     "cell_type": "code",
     "collapsed": false,
     "input": [
      "#PA1 \n",
      "#Data located: Z:\\RAD\\PINK\\00RawSequences\\gzip\\AsianPops\\Run2\n",
      "\n",
      "PAMUR10_0001\tAAACGG\n",
      "PAMUR10_0002\tACTCTT\n",
      "PAMUR11_0010\tATTCCG\n",
      "PHAYLY09_0007\tCGAGGC\n",
      "PHAYLY09_0008\tGAAATG\n",
      "PHAYLY09_0012\tGGACTT\n",
      "PHAYLY09_0013\tTAAGCT\n",
      "PHAYLY09_0014\tTCTTCT\n",
      "PHAYLY09_0015\tAACGTT\n",
      "PHAYLY10_0003\tACTGGC\n",
      "PHAYLY10_0004\tCAAAAA\n",
      "PHAYLY10_0006\tCGCAGA\n",
      "PHAYLY10_0007\tGAACCA\n",
      "PHAYLY10_0010\tGGCAAG\n",
      "PHAYLY10_0011\tTAATTC\n",
      "PHAYLY10_0012\tTGAACC\n",
      "PHAYLY10_0014\tAACTGA\n",
      "PHAYLY10_0015\tAGCCAT\n",
      "PHAYLY10_0018\tCAATCG\n",
      "PTAUY09_0002\tCGCGTG\n",
      "PTAUY09_0003\tGACGAC\n",
      "PTAUY09_0004\tGGGCGC\n",
      "PTAUY09_0006\tTACACA\n",
      "PTAUY09_0008\tTGACAA\n",
      "PTAUY09_0011\tAAGACG\n",
      "PTAUY09_0012\tAGCGCA\n",
      "PTAUY09_0013\tCACCTC\n",
      "PTAUY09_0014\tCGGTCC\n",
      "PTAUY09_0015\tGACTCT\n",
      "PTAUY12_0001\tGGGGCG\n",
      "PTAUY12_0003\tTACGGG\n",
      "PTAUY12_0005\tTGCCCG\n",
      "PTAUY12_0008\tAAGCTA\n",
      "PTAUY12_0009\tAGGGTC\n",
      "PTAUY12_0010\tCAGGCA\n",
      "PTAUY12_0011\tCGTCTA\n",
      "PTAUY12_0014\tGAGAGA\n",
      "PAMUR10_0003\tGGTACA\n",
      "PAMUR10_0004\tTAGTAT\n",
      "PAMUR10_0005\tTGCTTA\n",
      "PAMUR10_0006\tAATATC\n",
      "PAMUR10_0007\tAGGTGT\n",
      "PAMUR10_0008\tCATACT\n",
      "PAMUR10_0009\tCGTGAT\n",
      "PAMUR10_0010\tGATCGT\n",
      "PAMUR11_0001\tGGTTTG\n",
      "PAMUR11_0002\tTATCAC\n",
      "PAMUR11_0003\tTGGGGA\n",
      "PAMUR11_0004\tAATGAG\n",
      "PAMUR11_0005\tAGTAGG\n",
      "PAMUR11_0006\tCCATTT\n",
      "PAMUR11_0007\tCTACAG\n",
      "PAMUR11_0008\tGCAGAT\n",
      "PAMUR11_0009\tGTAAGT\n",
      "PHAYLY09_0010\tTCAAAG\n",
      "PHAYLY09_0011\tTTATGA\n",
      "PHAYLY09_0016\tACAAGA\n",
      "PHAYLY09_0017\tAGTTAA\n",
      "PHAYLY10_0017\tCCCGGT\n",
      "PKUSHI06_0001\tCTCGCC\n",
      "PKUSHI06_0002\tGCATGG\n",
      "PKUSHI06_0003\tGTATCC\n",
      "PKUSHI06_0004\tTCCTGC\n",
      "PKUSHI06_0005\tTTCCGT\n",
      "PKUSHI06_0006\tACAGCG\n",
      "PKUSHI06_0007\tATAGTA\n",
      "PKUSHI06_0008\tCCCTAA\n",
      "PKUSHI06_0009\tCTGCGA\n",
      "PKUSHI06_0010\tGCCGTA\n",
      "PKUSHI06_0011\tGTCATC\n",
      "PKUSHI07_0001\tTCGATT\n",
      "PKUSHI07_0002\tTTCTAG\n",
      "PKUSHI07_0003\tACATAC\n",
      "PKUSHI07_0004\tATCAAA\n",
      "PKUSHI07_0005\tCCGAGG\n",
      "PKUSHI07_0006\tCTGGTT\n",
      "PKUSHI07_0007\tGCGACC\n",
      "PKUSHI07_0008\tGTGCCT\n",
      "PKUSHI07_0009\tTCGCCA\n",
      "PKUSHI07_0010\tTTGAGC\n",
      "PKUSHI07_0011\tACCATG\n",
      "PTAUY09_0009\tATGCAC\n",
      "PTAUY12_0002\tCCGCAT\n",
      "PTAUY12_0004\tCTTATG\n",
      "PTAUY12_0006\tGCGCTG"
     ],
     "language": "python",
     "metadata": {},
     "outputs": []
    },
    {
     "cell_type": "code",
     "collapsed": false,
     "input": [
      "#PA2\n",
      "\n",
      "PAMUR10_0012\tAAACGG\n",
      "PAMUR10_0013\tACTCTT\n",
      "PAMUR10_0014\tATTCCG\n",
      "PAMUR10_0016\tCGAGGC\n",
      "PHAYLY09_0019\tGAAATG\n",
      "PHAYLY09_0020\tGGACTT\n",
      "PHAYLY09_0025\tTAAGCT\n",
      "PHAYLY09_0026\tTCTTCT\n",
      "PHAYLY09_0028\tAACGTT\n",
      "PHAYLY10_0020\tACTGGC\n",
      "PHAYLY10_0022\tCAAAAA\n",
      "PHAYLY10_0023\tCGCAGA\n",
      "PHAYLY10_0024\tGAACCA\n",
      "PHAYLY10_0025\tGGCAAG\n",
      "PHAYLY10_0026\tTAATTC\n",
      "PHAYLY10_0027\tTGAACC\n",
      "PHAYLY10_0029\tAACTGA\n",
      "PHAYLY10_0030\tAGCCAT\n",
      "PHAYLY10_0032\tCAATCG\n",
      "PTAUY09_0016\tCGCGTG\n",
      "PTAUY09_0017\tGACGAC\n",
      "PTAUY09_0021\tGGGCGC\n",
      "PTAUY09_0023\tTACACA\n",
      "PTAUY09_0032\tTGACAA\n",
      "PTAUY12_0015\tAAGACG\n",
      "PTAUY12_0016\tAGCGCA\n",
      "PTAUY12_0019\tCACCTC\n",
      "PTAUY12_0022\tCGGTCC\n",
      "PTAUY12_0023\tGACTCT\n",
      "PTAUY12_0024\tGGGGCG\n",
      "PTAUY12_0025\tTACGGG\n",
      "PTAUY12_0026\tTGCCCG\n",
      "PTAUY12_0027\tAAGCTA\n",
      "PAMUR10_0011\tAGGGTC\n",
      "PAMUR10_0015\tCAGGCA\n",
      "PAMUR10_0017\tCGTCTA\n",
      "PAMUR10_0018\tGAGAGA\n",
      "PAMUR10_0019\tGGTACA\n",
      "PAMUR10_0020\tTAGTAT\n",
      "PAMUR10_0021\tTGCTTA\n",
      "PAMUR11_0011\tAATATC\n",
      "PAMUR11_0013\tAGGTGT\n",
      "PAMUR11_0014\tCATACT\n",
      "PAMUR11_0015\tCGTGAT\n",
      "PAMUR11_0016\tGATCGT\n",
      "PAMUR11_0017\tGGTTTG\n",
      "PAMUR11_0018\tTATCAC\n",
      "PAMUR11_0019\tTGGGGA\n",
      "PAMUR11_0020\tAATGAG\n",
      "PAMUR11_0021\tAGTAGG\n",
      "PAMUR11_0022\tCCATTT\n",
      "PHAYLY09_0018\tCTACAG\n",
      "PHAYLY09_0021\tGCAGAT\n",
      "PHAYLY09_0022\tGTAAGT\n",
      "PHAYLY09_0023\tTCAAAG\n",
      "PHAYLY09_0027\tTTATGA\n",
      "PHAYLY09_0029\tACAAGA\n",
      "PHAYLY10_0021\tAGTTAA\n",
      "PKUSHI06_0012\tCCCGGT\n",
      "PKUSHI06_0013\tCTCGCC\n",
      "PKUSHI06_0014\tGCATGG\n",
      "PKUSHI06_0015\tGTATCC\n",
      "PKUSHI06_0016\tTCCTGC\n",
      "PKUSHI06_0017\tTTCCGT\n",
      "PKUSHI06_0018\tACAGCG\n",
      "PKUSHI06_0019\tATAGTA\n",
      "PKUSHI06_0020\tCCCTAA\n",
      "PKUSHI06_0021\tCTGCGA\n",
      "PKUSHI06_0022\tGCCGTA\n",
      "PKUSHI07_0012\tGTCATC\n",
      "PKUSHI07_0013\tTCGATT\n",
      "PKUSHI07_0014\tTTCTAG\n",
      "PKUSHI07_0015\tACATAC\n",
      "PKUSHI07_0016\tATCAAA\n",
      "PKUSHI07_0017\tCCGAGG\n",
      "PKUSHI07_0018\tCTGGTT\n",
      "PKUSHI07_0019\tGCGACC\n",
      "PKUSHI07_0020\tGTGCCT\n",
      "PKUSHI07_0021\tTCGCCA\n",
      "PTAUY09_0018\tTTGAGC\n",
      "PTAUY09_0022\tACCATG\n",
      "PTAUY09_0024\tATGCAC\n",
      "PTAUY09_0027\tCCGCAT\n",
      "PTAUY09_0031\tCTTATG\n",
      "PTAUY12_0021\tGCGCTG"
     ],
     "language": "python",
     "metadata": {},
     "outputs": []
    },
    {
     "cell_type": "code",
     "collapsed": false,
     "input": [
      "#PA3\n",
      "\n",
      "AAACGG\tPAMUR10_0025\n",
      "ACTCTT\tPAMUR10_0027\n",
      "ATTCCG\tPHAYLY09_0035\n",
      "CGAGGC\tPHAYLY09_0036\n",
      "GAAATG\tPHAYLY09_0038\n",
      "GGACTT\tPHAYLY09_0041\n",
      "TAAGCT\tPHAYLY09_0042\n",
      "TCTTCT\tPHAYLY09_0043\n",
      "AACGTT\tPHAYLY10_0035\n",
      "ACTGGC\tPHAYLY10_0036\n",
      "CAAAAA\tPHAYLY10_0037\n",
      "CGCAGA\tPHAYLY10_0038\n",
      "GAACCA\tPHAYLY10_0039\n",
      "GGCAAG\tPHAYLY10_0040\n",
      "TAATTC\tPHAYLY10_0041\n",
      "TGAACC\tPHAYLY10_0042\n",
      "AACTGA\tPHAYLY10_0044\n",
      "AGCCAT\tPHAYLY10_0046\n",
      "CAATCG\tPTAUY09_0036\n",
      "CGCGTG\tPTAUY09_0040\n",
      "GACGAC\tPTAUY09_0041\n",
      "GGGCGC\tPTAUY09_0042\n",
      "TACACA\tPTAUY09_0044\n",
      "TGACAA\tPTAUY09_0046\n",
      "AAGACG\tPTAUY12_0030\n",
      "AGCGCA\tPTAUY12_0031\n",
      "CACCTC\tPTAUY12_0033\n",
      "CGGTCC\tPTAUY12_0034\n",
      "GACTCT\tPTAUY12_0036\n",
      "GGGGCG\tPTAUY12_0038\n",
      "TACGGG\tPTAUY12_0039\n",
      "TGCCCG\tPTAUY12_0041\n",
      "AAGCTA\tPTAUY12_0042\n",
      "AGGGTC\tPAMUR10_0022\n",
      "CAGGCA\tPAMUR10_0023\n",
      "CGTCTA\tPAMUR10_0024\n",
      "GAGAGA\tPAMUR10_0026\n",
      "GGTACA\tPAMUR10_0028\n",
      "TAGTAT\tPAMUR10_0029\n",
      "TGCTTA\tPAMUR10_0030\n",
      "AATATC\tPAMUR10_0031\n",
      "AGGTGT\tPAMUR10_0032\n",
      "CATACT\tPAMUR11_0023\n",
      "CGTGAT\tPAMUR11_0024\n",
      "GATCGT\tPAMUR11_0025\n",
      "GGTTTG\tPAMUR11_0026\n",
      "TATCAC\tPAMUR11_0027\n",
      "TGGGGA\tPAMUR11_0028\n",
      "AATGAG\tPAMUR11_0029\n",
      "AGTAGG\tPAMUR11_0030\n",
      "CCATTT\tPAMUR11_0031\n",
      "CTACAG\tPAMUR11_0032\n",
      "GCAGAT\tPAMUR11_0033\n",
      "GTAAGT\tPHAYLY09_0030\n",
      "TCAAAG\tPHAYLY09_0031\n",
      "TTATGA\tPHAYLY09_0032\n",
      "ACAAGA\tPHAYLY09_0034\n",
      "AGTTAA\tPHAYLY09_0037\n",
      "CCCGGT\tPKUSHI06_0023\n",
      "CTCGCC\tPKUSHI06_0024\n",
      "GCATGG\tPKUSHI06_0025\n",
      "GTATCC\tPKUSHI06_0026\n",
      "TCCTGC\tPKUSHI06_0027\n",
      "TTCCGT\tPKUSHI06_0028\n",
      "ACAGCG\tPKUSHI06_0029\n",
      "ATAGTA\tPKUSHI06_0030\n",
      "CCCTAA\tPKUSHI06_0031\n",
      "CTGCGA\tPKUSHI06_0032\n",
      "GCCGTA\tPKUSHI07_0022\n",
      "GTCATC\tPKUSHI07_0023\n",
      "TCGATT\tPKUSHI07_0024\n",
      "TTCTAG\tPKUSHI07_0025\n",
      "ACATAC\tPKUSHI07_0026\n",
      "ATCAAA\tPKUSHI07_0027\n",
      "CCGAGG\tPKUSHI07_0028\n",
      "CTGGTT\tPKUSHI07_0029\n",
      "GCGACC\tPKUSHI07_0030\n",
      "GTGCCT\tPKUSHI07_0031\n",
      "TCGCCA\tPKUSHI07_0032\n",
      "TTGAGC\tPTAUY09_0033\n",
      "ACCATG\tPTAUY09_0034\n",
      "ATGCAC\tPTAUY09_0035\n",
      "CCGCAT\tPTAUY09_0037\n",
      "CTTATG\tPTAUY09_0038\n",
      "GCGCTG\tPTAUY12_0032\n",
      "GTGTAA\tPTAUY12_0035"
     ],
     "language": "python",
     "metadata": {},
     "outputs": []
    },
    {
     "cell_type": "markdown",
     "metadata": {},
     "source": [
      "\n",
      "Reruns\n",
      "\n",
      "Used Wes' excel spreadsheet as a template to filter out the samples from the 5 lanes that had more than 1.5 million reads (diploids) or 1 mil (haploids) and any that were really low (not worth rerunning if they were just bad DNA). What is left are the samples that need to be resequenced to attempt to increase their number of retained reads. The excel spreadsheet then calculates how much DNA needs to be included in the next round of library preps so that the amount of DNA that goes into the prep is proportional to the number of reads that the samples needs to reach the threshold. In this way, samples with fewer retained reads after their first run will have more DNA in the prep as a way to increase their number of retained reads over a sample that already had a fair number of retained reads and does not need a great deal more to reach the threshold. When the data is returned from Oregon, process_radtags was run on the samples, and the resulting output was renamed in the same way as above. The samples have the same barcode as the first time they were run. The different runs of the samples were combined for downstream analysis. A shell script with the command cat (for concatenate) will add the two files together, one after the other in a single file so that the runs can be run as one.\n",
      "\n",
      "Below is the process_radtags commands used on the Asian and Haploid resequenced samples. Following it is the command to rename the haploid reruns and concatenate the resulting files.\n"
     ]
    },
    {
     "cell_type": "code",
     "collapsed": false,
     "input": [
      "#run process_radtags on the reruns of the Asian samples.\n",
      "#Sep 11 2014\n",
      "\n",
      "#Asian:\n",
      "\n",
      "process_radtags -p ./PA1r -o ./PA1r -b ./barcodes.txt -e sbfI -r -c -q -t 94 -i gzfastq\n",
      "process_radtags -p ./PA2r -o ./PA2r -b ./barcodes.txt -e sbfI -r -c -q -t 94 -i gzfastq\n",
      "process_radtags -p ./PA3r -o ./PA3r -b ./barcodes.txt -e sbfI -r -c -q -t 94 -i gzfastq"
     ],
     "language": "python",
     "metadata": {},
     "outputs": []
    },
    {
     "cell_type": "code",
     "collapsed": false,
     "input": [
      "#rename2.sh\n",
      "#Nov 24 2014\n",
      "#rename the process_radtag results from the Asian populations to sample names instead of the barcode. \n",
      "#PA1r\n",
      "\n",
      "cp PA1r/sample_AACGTT.fq Renamed/PHAYLY09_0015.fq\n",
      "cp PA1r/sample_ACTGGC.fq Renamed/PHAYLY10_0003.fq\n",
      "cp PA1r/sample_CAAAAA.fq Renamed/PHAYLY10_0004.fq\n",
      "cp PA1r/sample_CGCAGA.fq Renamed/PHAYLY10_0006.fq\n",
      "cp PA1r/sample_GAACCA.fq Renamed/PHAYLY10_0007.fq\n",
      "cp PA1r/sample_GGCAAG.fq Renamed/PHAYLY10_0010.fq\n",
      "cp PA1r/sample_TAATTC.fq Renamed/PHAYLY10_0011.fq\n",
      "cp PA1r/sample_TGAACC.fq Renamed/PHAYLY10_0012.fq\n",
      "cp PA1r/sample_AACTGA.fq Renamed/PHAYLY10_0014.fq\n",
      "cp PA1r/sample_AGCCAT.fq Renamed/PHAYLY10_0015.fq\n",
      "cp PA1r/sample_CAATCG.fq Renamed/PHAYLY10_0018.fq\n",
      "cp PA1r/sample_CGCGTG.fq Renamed/PTAUY09_0002.fq\n",
      "cp PA1r/sample_GACGAC.fq Renamed/PTAUY09_0003.fq\n",
      "cp PA1r/sample_GGGCGC.fq Renamed/PTAUY09_0004.fq\n",
      "cp PA1r/sample_TACACA.fq Renamed/PTAUY09_0006.fq\n",
      "cp PA1r/sample_TGACAA.fq Renamed/PTAUY09_0008.fq\n",
      "cp PA1r/sample_AAGACG.fq Renamed/PTAUY09_0011.fq\n",
      "cp PA1r/sample_AGCGCA.fq Renamed/PTAUY09_0012.fq\n",
      "cp PA1r/sample_CACCTC.fq Renamed/PTAUY09_0013.fq\n",
      "cp PA1r/sample_CGGTCC.fq Renamed/PTAUY09_0014.fq\n",
      "cp PA1r/sample_GACTCT.fq Renamed/PTAUY09_0015.fq\n",
      "cp PA1r/sample_GGGGCG.fq Renamed/PTAUY12_0001.fq\n",
      "cp PA1r/sample_TACGGG.fq Renamed/PTAUY12_0003.fq\n",
      "cp PA1r/sample_TGCCCG.fq Renamed/PTAUY12_0005.fq\n",
      "cp PA1r/sample_AAGCTA.fq Renamed/PTAUY12_0008.fq\n",
      "cp PA1r/sample_AGGGTC.fq Renamed/PTAUY12_0009.fq\n",
      "cp PA1r/sample_CAGGCA.fq Renamed/PTAUY12_0010.fq\n",
      "cp PA1r/sample_CGTCTA.fq Renamed/PTAUY12_0011.fq\n",
      "cp PA1r/sample_GAGAGA.fq Renamed/PTAUY12_0014.fq\n",
      "cp PA1r/sample_GGTACA.fq Renamed/PAMUR10_0003.fq\n",
      "cp PA1r/sample_TAGTAT.fq Renamed/PAMUR10_0004.fq\n",
      "cp PA1r/sample_TGCTTA.fq Renamed/PAMUR10_0005.fq\n",
      "cp PA1r/sample_AATATC.fq Renamed/PAMUR10_0006.fq\n",
      "cp PA1r/sample_AGGTGT.fq Renamed/PAMUR10_0007.fq\n",
      "cp PA1r/sample_CATACT.fq Renamed/PAMUR10_0008.fq\n",
      "cp PA1r/sample_CGTGAT.fq Renamed/PAMUR10_0009.fq\n",
      "cp PA1r/sample_GATCGT.fq Renamed/PAMUR10_0010.fq\n",
      "cp PA1r/sample_GGTTTG.fq Renamed/PAMUR11_0001.fq\n",
      "cp PA1r/sample_TATCAC.fq Renamed/PAMUR11_0002.fq\n",
      "cp PA1r/sample_TGGGGA.fq Renamed/PAMUR11_0003.fq\n",
      "cp PA1r/sample_AATGAG.fq Renamed/PAMUR11_0004.fq\n",
      "cp PA1r/sample_AGTAGG.fq Renamed/PAMUR11_0005.fq\n",
      "cp PA1r/sample_CCATTT.fq Renamed/PAMUR11_0006.fq\n",
      "cp PA1r/sample_CTACAG.fq Renamed/PAMUR11_0007.fq\n",
      "cp PA1r/sample_GCAGAT.fq Renamed/PAMUR11_0008.fq\n",
      "cp PA1r/sample_GTAAGT.fq Renamed/PAMUR11_0009.fq\n",
      "cp PA1r/sample_TCAAAG.fq Renamed/PHAYLY09_0010.fq\n",
      "cp PA1r/sample_TTATGA.fq Renamed/PHAYLY09_0011.fq\n",
      "cp PA1r/sample_ACAAGA.fq Renamed/PHAYLY09_0016.fq\n",
      "cp PA1r/sample_AGTTAA.fq Renamed/PHAYLY09_0017.fq\n",
      "cp PA1r/sample_CCCGGT.fq Renamed/PHAYLY10_0017.fq\n",
      "cp PA1r/sample_CTCGCC.fq Renamed/PKUSHI06_0001.fq\n",
      "cp PA1r/sample_GCATGG.fq Renamed/PKUSHI06_0002.fq\n",
      "cp PA1r/sample_GTATCC.fq Renamed/PKUSHI06_0003.fq\n",
      "cp PA1r/sample_TCCTGC.fq Renamed/PKUSHI06_0004.fq\n",
      "cp PA1r/sample_TTCCGT.fq Renamed/PKUSHI06_0005.fq\n",
      "cp PA1r/sample_ACAGCG.fq Renamed/PKUSHI06_0006.fq\n",
      "cp PA1r/sample_ATAGTA.fq Renamed/PKUSHI06_0007.fq\n",
      "cp PA1r/sample_CCCTAA.fq Renamed/PKUSHI06_0008.fq\n",
      "cp PA1r/sample_CTGCGA.fq Renamed/PKUSHI06_0009.fq\n",
      "cp PA1r/sample_GCCGTA.fq Renamed/PKUSHI06_0010.fq\n",
      "cp PA1r/sample_GTCATC.fq Renamed/PKUSHI06_0011.fq\n",
      "cp PA1r/sample_TCGATT.fq Renamed/PKUSHI07_0001.fq\n",
      "cp PA1r/sample_TTCTAG.fq Renamed/PKUSHI07_0002.fq\n",
      "cp PA1r/sample_ACATAC.fq Renamed/PKUSHI07_0003.fq\n",
      "cp PA1r/sample_ATCAAA.fq Renamed/PKUSHI07_0004.fq\n",
      "cp PA1r/sample_CCGAGG.fq Renamed/PKUSHI07_0005.fq\n",
      "cp PA1r/sample_CTGGTT.fq Renamed/PKUSHI07_0006.fq\n",
      "cp PA1r/sample_GCGACC.fq Renamed/PKUSHI07_0007.fq\n",
      "cp PA1r/sample_GTGCCT.fq Renamed/PKUSHI07_0008.fq\n",
      "cp PA1r/sample_TCGCCA.fq Renamed/PKUSHI07_0009.fq\n",
      "cp PA1r/sample_TTGAGC.fq Renamed/PKUSHI07_0010.fq\n",
      "cp PA1r/sample_ACCATG.fq Renamed/PKUSHI07_0011.fq\n",
      "cp PA1r/sample_ATGCAC.fq Renamed/PTAUY09_0009.fq\n",
      "cp PA1r/sample_CCGCAT.fq Renamed/PTAUY12_0002.fq\n",
      "cp PA1r/sample_CTTATG.fq Renamed/PTAUY12_0004.fq\n",
      "cp PA1r/sample_GCGCTG.fq Renamed/PTAUY12_0006.fq\n",
      "\n",
      "#PA2r\n",
      "\n",
      "cp PA2r/sample_AAACGG.fq Renamed/PAMUR10_0012.fq\n",
      "cp PA2r/sample_ACTCTT.fq Renamed/PAMUR10_0013.fq\n",
      "cp PA2r/sample_ATTCCG.fq Renamed/PAMUR10_0014.fq\n",
      "cp PA2r/sample_CGAGGC.fq Renamed/PAMUR10_0016.fq\n",
      "cp PA2r/sample_GAAATG.fq Renamed/PHAYLY09_0019.fq\n",
      "cp PA2r/sample_GGACTT.fq Renamed/PHAYLY09_0020.fq\n",
      "cp PA2r/sample_TAAGCT.fq Renamed/PHAYLY09_0025.fq\n",
      "cp PA2r/sample_TCTTCT.fq Renamed/PHAYLY09_0026.fq\n",
      "cp PA2r/sample_AACGTT.fq Renamed/PHAYLY09_0028.fq\n",
      "cp PA2r/sample_ACTGGC.fq Renamed/PHAYLY10_0020.fq\n",
      "cp PA2r/sample_CAAAAA.fq Renamed/PHAYLY10_0022.fq\n",
      "cp PA2r/sample_CGCAGA.fq Renamed/PHAYLY10_0023.fq\n",
      "cp PA2r/sample_GAACCA.fq Renamed/PHAYLY10_0024.fq\n",
      "cp PA2r/sample_GGCAAG.fq Renamed/PHAYLY10_0025.fq\n",
      "cp PA2r/sample_TAATTC.fq Renamed/PHAYLY10_0026.fq\n",
      "cp PA2r/sample_TGAACC.fq Renamed/PHAYLY10_0027.fq\n",
      "cp PA2r/sample_AACTGA.fq Renamed/PHAYLY10_0029.fq\n",
      "cp PA2r/sample_AGCCAT.fq Renamed/PHAYLY10_0030.fq\n",
      "cp PA2r/sample_CAATCG.fq Renamed/PHAYLY10_0032.fq\n",
      "cp PA2r/sample_CGCGTG.fq Renamed/PTAUY09_0016.fq\n",
      "cp PA2r/sample_GACGAC.fq Renamed/PTAUY09_0017.fq\n",
      "cp PA2r/sample_GGGCGC.fq Renamed/PTAUY09_0021.fq\n",
      "cp PA2r/sample_TACACA.fq Renamed/PTAUY09_0023.fq\n",
      "cp PA2r/sample_TGACAA.fq Renamed/PTAUY09_0032.fq\n",
      "cp PA2r/sample_AAGACG.fq Renamed/PTAUY12_0015.fq\n",
      "cp PA2r/sample_AGCGCA.fq Renamed/PTAUY12_0016.fq\n",
      "cp PA2r/sample_CACCTC.fq Renamed/PTAUY12_0019.fq\n",
      "cp PA2r/sample_CGGTCC.fq Renamed/PTAUY12_0022.fq\n",
      "cp PA2r/sample_GACTCT.fq Renamed/PTAUY12_0023.fq\n",
      "cp PA2r/sample_GGGGCG.fq Renamed/PTAUY12_0024.fq\n",
      "cp PA2r/sample_TACGGG.fq Renamed/PTAUY12_0025.fq\n",
      "cp PA2r/sample_TGCCCG.fq Renamed/PTAUY12_0026.fq\n",
      "cp PA2r/sample_AAGCTA.fq Renamed/PTAUY12_0027.fq\n",
      "cp PA2r/sample_AGGGTC.fq Renamed/PAMUR10_0011.fq\n",
      "cp PA2r/sample_CAGGCA.fq Renamed/PAMUR10_0015.fq\n",
      "cp PA2r/sample_CGTCTA.fq Renamed/PAMUR10_0017.fq\n",
      "cp PA2r/sample_GAGAGA.fq Renamed/PAMUR10_0018.fq\n",
      "cp PA2r/sample_GGTACA.fq Renamed/PAMUR10_0019.fq\n",
      "cp PA2r/sample_TAGTAT.fq Renamed/PAMUR10_0020.fq\n",
      "cp PA2r/sample_TGCTTA.fq Renamed/PAMUR10_0021.fq\n",
      "cp PA2r/sample_AATATC.fq Renamed/PAMUR11_0011.fq\n",
      "cp PA2r/sample_AGGTGT.fq Renamed/PAMUR11_0013.fq\n",
      "cp PA2r/sample_CATACT.fq Renamed/PAMUR11_0014.fq\n",
      "cp PA2r/sample_CGTGAT.fq Renamed/PAMUR11_0015.fq\n",
      "cp PA2r/sample_GATCGT.fq Renamed/PAMUR11_0016.fq\n",
      "cp PA2r/sample_GGTTTG.fq Renamed/PAMUR11_0017.fq\n",
      "cp PA2r/sample_TATCAC.fq Renamed/PAMUR11_0018.fq\n",
      "cp PA2r/sample_TGGGGA.fq Renamed/PAMUR11_0019.fq\n",
      "cp PA2r/sample_AATGAG.fq Renamed/PAMUR11_0020.fq\n",
      "cp PA2r/sample_AGTAGG.fq Renamed/PAMUR11_0021.fq\n",
      "cp PA2r/sample_CCATTT.fq Renamed/PAMUR11_0022.fq\n",
      "cp PA2r/sample_CTACAG.fq Renamed/PHAYLY09_0018.fq\n",
      "cp PA2r/sample_GCAGAT.fq Renamed/PHAYLY09_0021.fq\n",
      "cp PA2r/sample_GTAAGT.fq Renamed/PHAYLY09_0022.fq\n",
      "cp PA2r/sample_TCAAAG.fq Renamed/PHAYLY09_0023.fq\n",
      "cp PA2r/sample_TTATGA.fq Renamed/PHAYLY09_0027.fq\n",
      "cp PA2r/sample_ACAAGA.fq Renamed/PHAYLY09_0029.fq\n",
      "cp PA2r/sample_AGTTAA.fq Renamed/PHAYLY10_0021.fq\n",
      "cp PA2r/sample_CCCGGT.fq Renamed/PKUSHI06_0012.fq\n",
      "cp PA2r/sample_CTCGCC.fq Renamed/PKUSHI06_0013.fq\n",
      "cp PA2r/sample_GCATGG.fq Renamed/PKUSHI06_0014.fq\n",
      "cp PA2r/sample_GTATCC.fq Renamed/PKUSHI06_0015.fq\n",
      "cp PA2r/sample_TCCTGC.fq Renamed/PKUSHI06_0016.fq\n",
      "cp PA2r/sample_TTCCGT.fq Renamed/PKUSHI06_0017.fq\n",
      "cp PA2r/sample_ACAGCG.fq Renamed/PKUSHI06_0018.fq\n",
      "cp PA2r/sample_ATAGTA.fq Renamed/PKUSHI06_0019.fq\n",
      "cp PA2r/sample_CCCTAA.fq Renamed/PKUSHI06_0020.fq\n",
      "cp PA2r/sample_CTGCGA.fq Renamed/PKUSHI06_0021.fq\n",
      "cp PA2r/sample_GCCGTA.fq Renamed/PKUSHI06_0022.fq\n",
      "cp PA2r/sample_GTCATC.fq Renamed/PKUSHI07_0012.fq\n",
      "cp PA2r/sample_TCGATT.fq Renamed/PKUSHI07_0013.fq\n",
      "cp PA2r/sample_TTCTAG.fq Renamed/PKUSHI07_0014.fq\n",
      "cp PA2r/sample_ACATAC.fq Renamed/PKUSHI07_0015.fq\n",
      "cp PA2r/sample_ATCAAA.fq Renamed/PKUSHI07_0016.fq\n",
      "cp PA2r/sample_CCGAGG.fq Renamed/PKUSHI07_0017.fq\n",
      "cp PA2r/sample_CTGGTT.fq Renamed/PKUSHI07_0018.fq\n",
      "cp PA2r/sample_GCGACC.fq Renamed/PKUSHI07_0019.fq\n",
      "cp PA2r/sample_GTGCCT.fq Renamed/PKUSHI07_0020.fq\n",
      "cp PA2r/sample_TCGCCA.fq Renamed/PKUSHI07_0021.fq\n",
      "cp PA2r/sample_TTGAGC.fq Renamed/PTAUY09_0018.fq\n",
      "cp PA2r/sample_ACCATG.fq Renamed/PTAUY09_0022.fq\n",
      "cp PA2r/sample_ATGCAC.fq Renamed/PTAUY09_0024.fq\n",
      "cp PA2r/sample_CCGCAT.fq Renamed/PTAUY09_0027.fq\n",
      "cp PA2r/sample_CTTATG.fq Renamed/PTAUY09_0031.fq\n",
      "cp PA2r/sample_GCGCTG.fq Renamed/PTAUY12_0021.fq\n",
      "\n",
      "#PA3r\n",
      "\n",
      "cp PA3r/sample_AAACGG.fq Renamed/PAMUR10_0025.fq\n",
      "cp PA3r/sample_ACTCTT.fq Renamed/PAMUR10_0027.fq\n",
      "cp PA3r/sample_ATTCCG.fq Renamed/PHAYLY09_0035.fq\n",
      "cp PA3r/sample_CGAGGC.fq Renamed/PHAYLY09_0036.fq\n",
      "cp PA3r/sample_GAAATG.fq Renamed/PHAYLY09_0038.fq\n",
      "cp PA3r/sample_GGACTT.fq Renamed/PHAYLY09_0041.fq\n",
      "cp PA3r/sample_TAAGCT.fq Renamed/PHAYLY09_0042.fq\n",
      "cp PA3r/sample_TCTTCT.fq Renamed/PHAYLY09_0043.fq\n",
      "cp PA3r/sample_AACGTT.fq Renamed/PHAYLY10_0035.fq\n",
      "cp PA3r/sample_ACTGGC.fq Renamed/PHAYLY10_0036.fq\n",
      "cp PA3r/sample_CAAAAA.fq Renamed/PHAYLY10_0037.fq\n",
      "cp PA3r/sample_CGCAGA.fq Renamed/PHAYLY10_0038.fq\n",
      "cp PA3r/sample_GAACCA.fq Renamed/PHAYLY10_0039.fq\n",
      "cp PA3r/sample_GGCAAG.fq Renamed/PHAYLY10_0040.fq\n",
      "cp PA3r/sample_TAATTC.fq Renamed/PHAYLY10_0041.fq\n",
      "cp PA3r/sample_TGAACC.fq Renamed/PHAYLY10_0042.fq\n",
      "cp PA3r/sample_AACTGA.fq Renamed/PHAYLY10_0044.fq\n",
      "cp PA3r/sample_AGCCAT.fq Renamed/PHAYLY10_0046.fq\n",
      "cp PA3r/sample_CAATCG.fq Renamed/PTAUY09_0036.fq\n",
      "cp PA3r/sample_CGCGTG.fq Renamed/PTAUY09_0040.fq\n",
      "cp PA3r/sample_GACGAC.fq Renamed/PTAUY09_0041.fq\n",
      "cp PA3r/sample_GGGCGC.fq Renamed/PTAUY09_0042.fq\n",
      "cp PA3r/sample_TACACA.fq Renamed/PTAUY09_0044.fq\n",
      "cp PA3r/sample_TGACAA.fq Renamed/PTAUY09_0046.fq\n",
      "cp PA3r/sample_AAGACG.fq Renamed/PTAUY12_0030.fq\n",
      "cp PA3r/sample_AGCGCA.fq Renamed/PTAUY12_0031.fq\n",
      "cp PA3r/sample_CACCTC.fq Renamed/PTAUY12_0033.fq\n",
      "cp PA3r/sample_CGGTCC.fq Renamed/PTAUY12_0034.fq\n",
      "cp PA3r/sample_GACTCT.fq Renamed/PTAUY12_0036.fq\n",
      "cp PA3r/sample_GGGGCG.fq Renamed/PTAUY12_0038.fq\n",
      "cp PA3r/sample_TACGGG.fq Renamed/PTAUY12_0039.fq\n",
      "cp PA3r/sample_TGCCCG.fq Renamed/PTAUY12_0041.fq\n",
      "cp PA3r/sample_AAGCTA.fq Renamed/PTAUY12_0042.fq\n",
      "cp PA3r/sample_AGGGTC.fq Renamed/PAMUR10_0022.fq\n",
      "cp PA3r/sample_CAGGCA.fq Renamed/PAMUR10_0023.fq\n",
      "cp PA3r/sample_CGTCTA.fq Renamed/PAMUR10_0024.fq\n",
      "cp PA3r/sample_GAGAGA.fq Renamed/PAMUR10_0026.fq\n",
      "cp PA3r/sample_GGTACA.fq Renamed/PAMUR10_0028.fq\n",
      "cp PA3r/sample_TAGTAT.fq Renamed/PAMUR10_0029.fq\n",
      "cp PA3r/sample_TGCTTA.fq Renamed/PAMUR10_0030.fq\n",
      "cp PA3r/sample_AATATC.fq Renamed/PAMUR10_0031.fq\n",
      "cp PA3r/sample_AGGTGT.fq Renamed/PAMUR10_0032.fq\n",
      "cp PA3r/sample_CATACT.fq Renamed/PAMUR11_0023.fq\n",
      "cp PA3r/sample_CGTGAT.fq Renamed/PAMUR11_0024.fq\n",
      "cp PA3r/sample_GATCGT.fq Renamed/PAMUR11_0025.fq\n",
      "cp PA3r/sample_GGTTTG.fq Renamed/PAMUR11_0026.fq\n",
      "cp PA3r/sample_TATCAC.fq Renamed/PAMUR11_0027.fq\n",
      "cp PA3r/sample_TGGGGA.fq Renamed/PAMUR11_0028.fq\n",
      "cp PA3r/sample_AATGAG.fq Renamed/PAMUR11_0029.fq\n",
      "cp PA3r/sample_AGTAGG.fq Renamed/PAMUR11_0030.fq\n",
      "cp PA3r/sample_CCATTT.fq Renamed/PAMUR11_0031.fq\n",
      "cp PA3r/sample_CTACAG.fq Renamed/PAMUR11_0032.fq\n",
      "cp PA3r/sample_GCAGAT.fq Renamed/PAMUR11_0033.fq\n",
      "cp PA3r/sample_GTAAGT.fq Renamed/PHAYLY09_0030.fq\n",
      "cp PA3r/sample_TCAAAG.fq Renamed/PHAYLY09_0031.fq\n",
      "cp PA3r/sample_TTATGA.fq Renamed/PHAYLY09_0032.fq\n",
      "cp PA3r/sample_ACAAGA.fq Renamed/PHAYLY09_0034.fq\n",
      "cp PA3r/sample_AGTTAA.fq Renamed/PHAYLY09_0037.fq\n",
      "cp PA3r/sample_CCCGGT.fq Renamed/PKUSHI06_0023.fq\n",
      "cp PA3r/sample_CTCGCC.fq Renamed/PKUSHI06_0024.fq\n",
      "cp PA3r/sample_GCATGG.fq Renamed/PKUSHI06_0025.fq\n",
      "cp PA3r/sample_GTATCC.fq Renamed/PKUSHI06_0026.fq\n",
      "cp PA3r/sample_TCCTGC.fq Renamed/PKUSHI06_0027.fq\n",
      "cp PA3r/sample_TTCCGT.fq Renamed/PKUSHI06_0028.fq\n",
      "cp PA3r/sample_ACAGCG.fq Renamed/PKUSHI06_0029.fq\n",
      "cp PA3r/sample_ATAGTA.fq Renamed/PKUSHI06_0030.fq\n",
      "cp PA3r/sample_CCCTAA.fq Renamed/PKUSHI06_0031.fq\n",
      "cp PA3r/sample_CTGCGA.fq Renamed/PKUSHI06_0032.fq\n",
      "cp PA3r/sample_GCCGTA.fq Renamed/PKUSHI07_0022.fq\n",
      "cp PA3r/sample_GTCATC.fq Renamed/PKUSHI07_0023.fq\n",
      "cp PA3r/sample_TCGATT.fq Renamed/PKUSHI07_0024.fq\n",
      "cp PA3r/sample_TTCTAG.fq Renamed/PKUSHI07_0025.fq\n",
      "cp PA3r/sample_ACATAC.fq Renamed/PKUSHI07_0026.fq\n",
      "cp PA3r/sample_ATCAAA.fq Renamed/PKUSHI07_0027.fq\n",
      "cp PA3r/sample_CCGAGG.fq Renamed/PKUSHI07_0028.fq\n",
      "cp PA3r/sample_CTGGTT.fq Renamed/PKUSHI07_0029.fq\n",
      "cp PA3r/sample_GCGACC.fq Renamed/PKUSHI07_0030.fq\n",
      "cp PA3r/sample_GTGCCT.fq Renamed/PKUSHI07_0031.fq\n",
      "cp PA3r/sample_TCGCCA.fq Renamed/PKUSHI07_0032.fq\n",
      "cp PA3r/sample_TTGAGC.fq Renamed/PTAUY09_0033.fq\n",
      "cp PA3r/sample_ACCATG.fq Renamed/PTAUY09_0034.fq\n",
      "cp PA3r/sample_ATGCAC.fq Renamed/PTAUY09_0035.fq\n",
      "cp PA3r/sample_CCGCAT.fq Renamed/PTAUY09_0037.fq\n",
      "cp PA3r/sample_CTTATG.fq Renamed/PTAUY09_0038.fq\n",
      "cp PA3r/sample_GCGCTG.fq Renamed/PTAUY12_0032.fq"
     ],
     "language": "python",
     "metadata": {},
     "outputs": []
    },
    {
     "cell_type": "code",
     "collapsed": false,
     "input": [
      "#rename_nov_25.sh\n",
      "#november 25 2014\n",
      "#this file is to combine and rename all the pink samples from the populations that were resequenced. \n",
      "\n",
      "cat First_Runs/PA1/PHAYLY09_0015.fq Second_Run/PHAYLY09_0015.fq >Combined/PHAYLY09_0015.fq\n",
      "cat First_Runs/PA1/PHAYLY10_0014.fq Second_Run/PHAYLY10_0014.fq >Combined/PHAYLY10_0014.fq\n",
      "cat First_Runs/PA1/PTAUY12_0008.fq Second_Run/PTAUY12_0008.fq >Combined/PTAUY12_0008.fq\n",
      "cat First_Runs/PA1/PAMUR10_0006.fq Second_Run/PAMUR10_0006.fq >Combined/PAMUR10_0006.fq\n",
      "cat First_Runs/PA1/PAMUR11_0004.fq Second_Run/PAMUR11_0004.fq >Combined/PAMUR11_0004.fq\n",
      "cat First_Runs/PA1/PHAYLY09_0016.fq Second_Run/PHAYLY09_0016.fq >Combined/PHAYLY09_0016.fq\n",
      "cat First_Runs/PA1/PKUSHI06_0006.fq Second_Run/PKUSHI06_0006.fq >Combined/PKUSHI06_0006.fq\n",
      "cat First_Runs/PA1/PKUSHI07_0003.fq Second_Run/PKUSHI07_0003.fq >Combined/PKUSHI07_0003.fq\n",
      "cat First_Runs/PA1/PKUSHI07_0011.fq Second_Run/PKUSHI07_0011.fq >Combined/PKUSHI07_0011.fq\n",
      "cat First_Runs/PA1/PHAYLY10_0015.fq Second_Run/PHAYLY10_0015.fq >Combined/PHAYLY10_0015.fq\n",
      "cat First_Runs/PA1/PTAUY09_0012.fq Second_Run/PTAUY09_0012.fq >Combined/PTAUY09_0012.fq\n",
      "cat First_Runs/PA1/PAMUR11_0005.fq Second_Run/PAMUR11_0005.fq >Combined/PAMUR11_0005.fq\n",
      "cat First_Runs/PA1/PHAYLY09_0017.fq Second_Run/PHAYLY09_0017.fq >Combined/PHAYLY09_0017.fq\n",
      "cat First_Runs/PA1/PKUSHI06_0007.fq Second_Run/PKUSHI06_0007.fq >Combined/PKUSHI06_0007.fq\n",
      "cat First_Runs/PA1/PTAUY09_0009.fq Second_Run/PTAUY09_0009.fq >Combined/PTAUY09_0009.fq\n",
      "cat First_Runs/PA1/PAMUR11_0010.fq Second_Run/PAMUR11_0010.fq >Combined/PAMUR11_0010.fq\n",
      "cat First_Runs/PA1/PHAYLY10_0004.fq Second_Run/PHAYLY10_0004.fq >Combined/PHAYLY10_0004.fq\n",
      "cat First_Runs/PA1/PHAYLY10_0018.fq Second_Run/PHAYLY10_0018.fq >Combined/PHAYLY10_0018.fq\n",
      "cat First_Runs/PA1/PTAUY09_0013.fq Second_Run/PTAUY09_0013.fq >Combined/PTAUY09_0013.fq\n",
      "cat First_Runs/PA1/PTAUY12_0010.fq Second_Run/PTAUY12_0010.fq >Combined/PTAUY12_0010.fq\n",
      "cat First_Runs/PA1/PAMUR11_0006.fq Second_Run/PAMUR11_0006.fq >Combined/PAMUR11_0006.fq\n",
      "cat First_Runs/PA1/PHAYLY10_0017.fq Second_Run/PHAYLY10_0017.fq >Combined/PHAYLY10_0017.fq\n",
      "cat First_Runs/PA1/PKUSHI06_0008.fq Second_Run/PKUSHI06_0008.fq >Combined/PKUSHI06_0008.fq\n",
      "cat First_Runs/PA1/PKUSHI07_0005.fq Second_Run/PKUSHI07_0005.fq >Combined/PKUSHI07_0005.fq\n",
      "cat First_Runs/PA1/PTAUY12_0002.fq Second_Run/PTAUY12_0002.fq >Combined/PTAUY12_0002.fq\n",
      "cat First_Runs/PA1/PHAYLY10_0006.fq Second_Run/PHAYLY10_0006.fq >Combined/PHAYLY10_0006.fq\n",
      "cat First_Runs/PA1/PTAUY09_0014.fq Second_Run/PTAUY09_0014.fq >Combined/PTAUY09_0014.fq\n",
      "cat First_Runs/PA1/PTAUY12_0011.fq Second_Run/PTAUY12_0011.fq >Combined/PTAUY12_0011.fq\n",
      "cat First_Runs/PA1/PAMUR11_0007.fq Second_Run/PAMUR11_0007.fq >Combined/PAMUR11_0007.fq\n",
      "cat First_Runs/PA1/PKUSHI06_0001.fq Second_Run/PKUSHI06_0001.fq >Combined/PKUSHI06_0001.fq\n",
      "cat First_Runs/PA1/PKUSHI06_0009.fq Second_Run/PKUSHI06_0009.fq >Combined/PKUSHI06_0009.fq\n",
      "cat First_Runs/PA1/PKUSHI07_0006.fq Second_Run/PKUSHI07_0006.fq >Combined/PKUSHI07_0006.fq\n",
      "cat First_Runs/PA1/PTAUY12_0004.fq Second_Run/PTAUY12_0004.fq >Combined/PTAUY12_0004.fq\n",
      "cat First_Runs/PA1/PHAYLY10_0007.fq Second_Run/PHAYLY10_0007.fq >Combined/PHAYLY10_0007.fq\n",
      "cat First_Runs/PA1/PAMUR11_0008.fq Second_Run/PAMUR11_0008.fq >Combined/PAMUR11_0008.fq\n",
      "cat First_Runs/PA1/PKUSHI06_0010.fq Second_Run/PKUSHI06_0010.fq >Combined/PKUSHI06_0010.fq\n",
      "cat First_Runs/PA1/PKUSHI07_0007.fq Second_Run/PKUSHI07_0007.fq >Combined/PKUSHI07_0007.fq\n",
      "cat First_Runs/PA1/PTAUY12_0006.fq Second_Run/PTAUY12_0006.fq >Combined/PTAUY12_0006.fq\n",
      "cat First_Runs/PA1/PHAYLY09_0012.fq Second_Run/PHAYLY09_0012.fq >Combined/PHAYLY09_0012.fq\n",
      "cat First_Runs/PA1/PHAYLY10_0010.fq Second_Run/PHAYLY10_0010.fq >Combined/PHAYLY10_0010.fq\n",
      "cat First_Runs/PA1/PTAUY12_0001.fq Second_Run/PTAUY12_0001.fq >Combined/PTAUY12_0001.fq\n",
      "cat First_Runs/PA1/PAMUR11_0001.fq Second_Run/PAMUR11_0001.fq >Combined/PAMUR11_0001.fq\n",
      "cat First_Runs/PA1/PAMUR11_0009.fq Second_Run/PAMUR11_0009.fq >Combined/PAMUR11_0009.fq\n",
      "cat First_Runs/PA1/PKUSHI06_0003.fq Second_Run/PKUSHI06_0003.fq >Combined/PKUSHI06_0003.fq\n",
      "cat First_Runs/PA1/PKUSHI06_0011.fq Second_Run/PKUSHI06_0011.fq >Combined/PKUSHI06_0011.fq\n",
      "cat First_Runs/PA1/PKUSHI07_0008.fq Second_Run/PKUSHI07_0008.fq >Combined/PKUSHI07_0008.fq\n",
      "cat First_Runs/PA1/PHAYLY09_0013.fq Second_Run/PHAYLY09_0013.fq >Combined/PHAYLY09_0013.fq\n",
      "cat First_Runs/PA1/PHAYLY10_0011.fq Second_Run/PHAYLY10_0011.fq >Combined/PHAYLY10_0011.fq\n",
      "cat First_Runs/PA1/PTAUY09_0006.fq Second_Run/PTAUY09_0006.fq >Combined/PTAUY09_0006.fq\n",
      "cat First_Runs/PA1/PTAUY12_0003.fq Second_Run/PTAUY12_0003.fq >Combined/PTAUY12_0003.fq\n",
      "cat First_Runs/PA1/PAMUR11_0002.fq Second_Run/PAMUR11_0002.fq >Combined/PAMUR11_0002.fq\n",
      "cat First_Runs/PA1/PHAYLY09_0010.fq Second_Run/PHAYLY09_0010.fq >Combined/PHAYLY09_0010.fq\n",
      "cat First_Runs/PA1/PKUSHI06_0004.fq Second_Run/PKUSHI06_0004.fq >Combined/PKUSHI06_0004.fq\n",
      "cat First_Runs/PA1/PKUSHI07_0001.fq Second_Run/PKUSHI07_0001.fq >Combined/PKUSHI07_0001.fq\n",
      "cat First_Runs/PA1/PHAYLY09_0014.fq Second_Run/PHAYLY09_0014.fq >Combined/PHAYLY09_0014.fq\n",
      "cat First_Runs/PA1/PHAYLY10_0012.fq Second_Run/PHAYLY10_0012.fq >Combined/PHAYLY10_0012.fq\n",
      "cat First_Runs/PA1/PTAUY09_0008.fq Second_Run/PTAUY09_0008.fq >Combined/PTAUY09_0008.fq\n",
      "cat First_Runs/PA1/PTAUY12_0005.fq Second_Run/PTAUY12_0005.fq >Combined/PTAUY12_0005.fq\n",
      "cat First_Runs/PA1/PAMUR10_0005.fq Second_Run/PAMUR10_0005.fq >Combined/PAMUR10_0005.fq\n",
      "cat First_Runs/PA1/PAMUR11_0003.fq Second_Run/PAMUR11_0003.fq >Combined/PAMUR11_0003.fq\n",
      "cat First_Runs/PA1/PHAYLY09_0011.fq Second_Run/PHAYLY09_0011.fq >Combined/PHAYLY09_0011.fq\n",
      "cat First_Runs/PA1/PKUSHI06_0005.fq Second_Run/PKUSHI06_0005.fq >Combined/PKUSHI06_0005.fq\n",
      "cat First_Runs/PA1/PKUSHI07_0002.fq Second_Run/PKUSHI07_0002.fq >Combined/PKUSHI07_0002.fq\n",
      "cat First_Runs/PA1/PKUSHI07_0010.fq Second_Run/PKUSHI07_0010.fq >Combined/PKUSHI07_0010.fq\n",
      "cat First_Runs/PA2/PHAYLY09_0028.fq Second_Run/PHAYLY09_0028.fq >Combined/PHAYLY09_0028.fq\n",
      "cat First_Runs/PA2/PHAYLY10_0029.fq Second_Run/PHAYLY10_0029.fq >Combined/PHAYLY10_0029.fq\n",
      "cat First_Runs/PA2/PTAUY12_0015.fq Second_Run/PTAUY12_0015.fq >Combined/PTAUY12_0015.fq\n",
      "cat First_Runs/PA2/PAMUR11_0011.fq Second_Run/PAMUR11_0011.fq >Combined/PAMUR11_0011.fq\n",
      "cat First_Runs/PA2/PAMUR11_0020.fq Second_Run/PAMUR11_0020.fq >Combined/PAMUR11_0020.fq\n",
      "cat First_Runs/PA2/PHAYLY09_0029.fq Second_Run/PHAYLY09_0029.fq >Combined/PHAYLY09_0029.fq\n",
      "cat First_Runs/PA2/PKUSHI06_0018.fq Second_Run/PKUSHI06_0018.fq >Combined/PKUSHI06_0018.fq\n",
      "cat First_Runs/PA2/PTAUY09_0022.fq Second_Run/PTAUY09_0022.fq >Combined/PTAUY09_0022.fq\n",
      "cat First_Runs/PA2/PAMUR10_0013.fq Second_Run/PAMUR10_0013.fq >Combined/PAMUR10_0013.fq\n",
      "cat First_Runs/PA2/PHAYLY10_0020.fq Second_Run/PHAYLY10_0020.fq >Combined/PHAYLY10_0020.fq\n",
      "cat First_Runs/PA2/PHAYLY10_0030.fq Second_Run/PHAYLY10_0030.fq >Combined/PHAYLY10_0030.fq\n",
      "cat First_Runs/PA2/PTAUY12_0016.fq Second_Run/PTAUY12_0016.fq >Combined/PTAUY12_0016.fq\n",
      "cat First_Runs/PA2/PAMUR11_0013.fq Second_Run/PAMUR11_0013.fq >Combined/PAMUR11_0013.fq\n",
      "cat First_Runs/PA2/PAMUR11_0021.fq Second_Run/PAMUR11_0021.fq >Combined/PAMUR11_0021.fq\n",
      "cat First_Runs/PA2/PHAYLY10_0021.fq Second_Run/PHAYLY10_0021.fq >Combined/PHAYLY10_0021.fq\n",
      "cat First_Runs/PA2/PKUSHI06_0019.fq Second_Run/PKUSHI06_0019.fq >Combined/PKUSHI06_0019.fq\n",
      "cat First_Runs/PA2/PKUSHI07_0016.fq Second_Run/PKUSHI07_0016.fq >Combined/PKUSHI07_0016.fq\n",
      "cat First_Runs/PA2/PTAUY09_0024.fq Second_Run/PTAUY09_0024.fq >Combined/PTAUY09_0024.fq\n",
      "cat First_Runs/PA2/PHAYLY10_0032.fq Second_Run/PHAYLY10_0032.fq >Combined/PHAYLY10_0032.fq\n",
      "cat First_Runs/PA2/PAMUR11_0014.fq Second_Run/PAMUR11_0014.fq >Combined/PAMUR11_0014.fq\n",
      "cat First_Runs/PA2/PAMUR11_0022.fq Second_Run/PAMUR11_0022.fq >Combined/PAMUR11_0022.fq\n",
      "cat First_Runs/PA2/PKUSHI06_0012.fq Second_Run/PKUSHI06_0012.fq >Combined/PKUSHI06_0012.fq\n",
      "cat First_Runs/PA2/PKUSHI06_0020.fq Second_Run/PKUSHI06_0020.fq >Combined/PKUSHI06_0020.fq\n",
      "cat First_Runs/PA2/PAMUR10_0016.fq Second_Run/PAMUR10_0016.fq >Combined/PAMUR10_0016.fq\n",
      "cat First_Runs/PA2/PHAYLY10_0023.fq Second_Run/PHAYLY10_0023.fq >Combined/PHAYLY10_0023.fq\n",
      "cat First_Runs/PA2/PTAUY12_0022.fq Second_Run/PTAUY12_0022.fq >Combined/PTAUY12_0022.fq\n",
      "cat First_Runs/PA2/PAMUR11_0015.fq Second_Run/PAMUR11_0015.fq >Combined/PAMUR11_0015.fq\n",
      "cat First_Runs/PA2/PHAYLY09_0018.fq Second_Run/PHAYLY09_0018.fq >Combined/PHAYLY09_0018.fq\n",
      "cat First_Runs/PA2/PKUSHI06_0021.fq Second_Run/PKUSHI06_0021.fq >Combined/PKUSHI06_0021.fq\n",
      "cat First_Runs/PA2/PKUSHI07_0018.fq Second_Run/PKUSHI07_0018.fq >Combined/PKUSHI07_0018.fq\n",
      "cat First_Runs/PA2/PTAUY09_0031.fq Second_Run/PTAUY09_0031.fq >Combined/PTAUY09_0031.fq\n",
      "cat First_Runs/PA2/PHAYLY09_0019.fq Second_Run/PHAYLY09_0019.fq >Combined/PHAYLY09_0019.fq\n",
      "cat First_Runs/PA2/PHAYLY10_0024.fq Second_Run/PHAYLY10_0024.fq >Combined/PHAYLY10_0024.fq\n",
      "cat First_Runs/PA2/PTAUY12_0023.fq Second_Run/PTAUY12_0023.fq >Combined/PTAUY12_0023.fq\n",
      "cat First_Runs/PA2/PAMUR10_0018.fq Second_Run/PAMUR10_0018.fq >Combined/PAMUR10_0018.fq\n",
      "cat First_Runs/PA2/PAMUR11_0016.fq Second_Run/PAMUR11_0016.fq >Combined/PAMUR11_0016.fq\n",
      "cat First_Runs/PA2/PHAYLY09_0021.fq Second_Run/PHAYLY09_0021.fq >Combined/PHAYLY09_0021.fq\n",
      "cat First_Runs/PA2/PKUSHI06_0014.fq Second_Run/PKUSHI06_0014.fq >Combined/PKUSHI06_0014.fq\n",
      "cat First_Runs/PA2/PKUSHI06_0022.fq Second_Run/PKUSHI06_0022.fq >Combined/PKUSHI06_0022.fq\n",
      "cat First_Runs/PA2/PTAUY12_0021.fq Second_Run/PTAUY12_0021.fq >Combined/PTAUY12_0021.fq\n",
      "cat First_Runs/PA2/PTAUY12_0024.fq Second_Run/PTAUY12_0024.fq >Combined/PTAUY12_0024.fq\n",
      "cat First_Runs/PA2/PAMUR11_0017.fq Second_Run/PAMUR11_0017.fq >Combined/PAMUR11_0017.fq\n",
      "cat First_Runs/PA2/PHAYLY09_0022.fq Second_Run/PHAYLY09_0022.fq >Combined/PHAYLY09_0022.fq\n",
      "cat First_Runs/PA2/PKUSHI06_0015.fq Second_Run/PKUSHI06_0015.fq >Combined/PKUSHI06_0015.fq\n",
      "cat First_Runs/PA2/PKUSHI07_0012.fq Second_Run/PKUSHI07_0012.fq >Combined/PKUSHI07_0012.fq\n",
      "cat First_Runs/PA2/PKUSHI07_0020.fq Second_Run/PKUSHI07_0020.fq >Combined/PKUSHI07_0020.fq\n",
      "cat First_Runs/PA2/PHAYLY09_0025.fq Second_Run/PHAYLY09_0025.fq >Combined/PHAYLY09_0025.fq\n",
      "cat First_Runs/PA2/PHAYLY10_0026.fq Second_Run/PHAYLY10_0026.fq >Combined/PHAYLY10_0026.fq\n",
      "cat First_Runs/PA2/PTAUY12_0025.fq Second_Run/PTAUY12_0025.fq >Combined/PTAUY12_0025.fq\n",
      "cat First_Runs/PA2/PAMUR11_0018.fq Second_Run/PAMUR11_0018.fq >Combined/PAMUR11_0018.fq\n",
      "cat First_Runs/PA2/PHAYLY09_0023.fq Second_Run/PHAYLY09_0023.fq >Combined/PHAYLY09_0023.fq\n",
      "cat First_Runs/PA2/PKUSHI07_0021.fq Second_Run/PKUSHI07_0021.fq >Combined/PKUSHI07_0021.fq\n",
      "cat First_Runs/PA2/PHAYLY09_0026.fq Second_Run/PHAYLY09_0026.fq >Combined/PHAYLY09_0026.fq\n",
      "cat First_Runs/PA2/PHAYLY10_0027.fq Second_Run/PHAYLY10_0027.fq >Combined/PHAYLY10_0027.fq\n",
      "cat First_Runs/PA2/PTAUY09_0032.fq Second_Run/PTAUY09_0032.fq >Combined/PTAUY09_0032.fq\n",
      "cat First_Runs/PA2/PTAUY12_0026.fq Second_Run/PTAUY12_0026.fq >Combined/PTAUY12_0026.fq\n",
      "cat First_Runs/PA2/PAMUR11_0019.fq Second_Run/PAMUR11_0019.fq >Combined/PAMUR11_0019.fq\n",
      "cat First_Runs/PA2/PHAYLY09_0027.fq Second_Run/PHAYLY09_0027.fq >Combined/PHAYLY09_0027.fq\n",
      "cat First_Runs/PA2/PTAUY09_0018.fq Second_Run/PTAUY09_0018.fq >Combined/PTAUY09_0018.fq\n",
      "cat First_Runs/PA3/PTAUY12_0030.fq Second_Run/PTAUY12_0030.fq >Combined/PTAUY12_0030.fq\n",
      "cat First_Runs/PA3/PAMUR10_0031.fq Second_Run/PAMUR10_0031.fq >Combined/PAMUR10_0031.fq\n",
      "cat First_Runs/PA3/PAMUR11_0029.fq Second_Run/PAMUR11_0029.fq >Combined/PAMUR11_0029.fq\n",
      "cat First_Runs/PA3/PHAYLY09_0034.fq Second_Run/PHAYLY09_0034.fq >Combined/PHAYLY09_0034.fq\n",
      "cat First_Runs/PA3/PTAUY09_0034.fq Second_Run/PTAUY09_0034.fq >Combined/PTAUY09_0034.fq\n",
      "cat First_Runs/PA3/PAMUR10_0027.fq Second_Run/PAMUR10_0027.fq >Combined/PAMUR10_0027.fq\n",
      "cat First_Runs/PA3/PHAYLY10_0046.fq Second_Run/PHAYLY10_0046.fq >Combined/PHAYLY10_0046.fq\n",
      "cat First_Runs/PA3/PTAUY12_0031.fq Second_Run/PTAUY12_0031.fq >Combined/PTAUY12_0031.fq\n",
      "cat First_Runs/PA3/PAMUR11_0030.fq Second_Run/PAMUR11_0030.fq >Combined/PAMUR11_0030.fq\n",
      "cat First_Runs/PA3/PHAYLY09_0037.fq Second_Run/PHAYLY09_0037.fq >Combined/PHAYLY09_0037.fq\n",
      "cat First_Runs/PA3/PKUSHI06_0030.fq Second_Run/PKUSHI06_0030.fq >Combined/PKUSHI06_0030.fq\n",
      "cat First_Runs/PA3/PKUSHI07_0027.fq Second_Run/PKUSHI07_0027.fq >Combined/PKUSHI07_0027.fq\n",
      "cat First_Runs/PA3/PAMUR11_0023.fq Second_Run/PAMUR11_0023.fq >Combined/PAMUR11_0023.fq\n",
      "cat First_Runs/PA3/PAMUR11_0031.fq Second_Run/PAMUR11_0031.fq >Combined/PAMUR11_0031.fq\n",
      "cat First_Runs/PA3/PKUSHI06_0031.fq Second_Run/PKUSHI06_0031.fq >Combined/PKUSHI06_0031.fq\n",
      "cat First_Runs/PA3/PKUSHI07_0028.fq Second_Run/PKUSHI07_0028.fq >Combined/PKUSHI07_0028.fq\n",
      "cat First_Runs/PA3/PTAUY09_0037.fq Second_Run/PTAUY09_0037.fq >Combined/PTAUY09_0037.fq\n",
      "cat First_Runs/PA3/PHAYLY09_0036.fq Second_Run/PHAYLY09_0036.fq >Combined/PHAYLY09_0036.fq\n",
      "cat First_Runs/PA3/PHAYLY10_0038.fq Second_Run/PHAYLY10_0038.fq >Combined/PHAYLY10_0038.fq\n",
      "cat First_Runs/PA3/PTAUY09_0040.fq Second_Run/PTAUY09_0040.fq >Combined/PTAUY09_0040.fq\n",
      "cat First_Runs/PA3/PTAUY12_0034.fq Second_Run/PTAUY12_0034.fq >Combined/PTAUY12_0034.fq\n",
      "cat First_Runs/PA3/PAMUR11_0024.fq Second_Run/PAMUR11_0024.fq >Combined/PAMUR11_0024.fq\n",
      "cat First_Runs/PA3/PAMUR11_0032.fq Second_Run/PAMUR11_0032.fq >Combined/PAMUR11_0032.fq\n",
      "cat First_Runs/PA3/PKUSHI06_0024.fq Second_Run/PKUSHI06_0024.fq >Combined/PKUSHI06_0024.fq\n",
      "cat First_Runs/PA3/PKUSHI06_0032.fq Second_Run/PKUSHI06_0032.fq >Combined/PKUSHI06_0032.fq\n",
      "cat First_Runs/PA3/PKUSHI07_0029.fq Second_Run/PKUSHI07_0029.fq >Combined/PKUSHI07_0029.fq\n",
      "cat First_Runs/PA3/PHAYLY09_0038.fq Second_Run/PHAYLY09_0038.fq >Combined/PHAYLY09_0038.fq\n",
      "cat First_Runs/PA3/PTAUY12_0036.fq Second_Run/PTAUY12_0036.fq >Combined/PTAUY12_0036.fq\n",
      "cat First_Runs/PA3/PAMUR11_0033.fq Second_Run/PAMUR11_0033.fq >Combined/PAMUR11_0033.fq\n",
      "cat First_Runs/PA3/PKUSHI07_0030.fq Second_Run/PKUSHI07_0030.fq >Combined/PKUSHI07_0030.fq\n",
      "cat First_Runs/PA3/PTAUY12_0032.fq Second_Run/PTAUY12_0032.fq >Combined/PTAUY12_0032.fq\n",
      "cat First_Runs/PA3/PHAYLY09_0041.fq Second_Run/PHAYLY09_0041.fq >Combined/PHAYLY09_0041.fq\n",
      "cat First_Runs/PA3/PTAUY09_0042.fq Second_Run/PTAUY09_0042.fq >Combined/PTAUY09_0042.fq\n",
      "cat First_Runs/PA3/PAMUR11_0026.fq Second_Run/PAMUR11_0026.fq >Combined/PAMUR11_0026.fq\n",
      "cat First_Runs/PA3/PHAYLY09_0030.fq Second_Run/PHAYLY09_0030.fq >Combined/PHAYLY09_0030.fq\n",
      "cat First_Runs/PA3/PKUSHI06_0026.fq Second_Run/PKUSHI06_0026.fq >Combined/PKUSHI06_0026.fq\n",
      "cat First_Runs/PA3/PKUSHI07_0031.fq Second_Run/PKUSHI07_0031.fq >Combined/PKUSHI07_0031.fq\n",
      "cat First_Runs/PA3/PTAUY12_0035.fq Second_Run/PTAUY12_0035.fq >Combined/PTAUY12_0035.fq\n",
      "cat First_Runs/PA3/PHAYLY09_0042.fq Second_Run/PHAYLY09_0042.fq >Combined/PHAYLY09_0042.fq\n",
      "cat First_Runs/PA3/PTAUY09_0044.fq Second_Run/PTAUY09_0044.fq >Combined/PTAUY09_0044.fq\n",
      "cat First_Runs/PA3/PAMUR10_0029.fq Second_Run/PAMUR10_0029.fq >Combined/PAMUR10_0029.fq\n",
      "cat First_Runs/PA3/PKUSHI06_0027.fq Second_Run/PKUSHI06_0027.fq >Combined/PKUSHI06_0027.fq\n",
      "cat First_Runs/PA3/PKUSHI07_0024.fq Second_Run/PKUSHI07_0024.fq >Combined/PKUSHI07_0024.fq\n",
      "cat First_Runs/PA3/PKUSHI07_0032.fq Second_Run/PKUSHI07_0032.fq >Combined/PKUSHI07_0032.fq\n",
      "cat First_Runs/PA3/PHAYLY09_0043.fq Second_Run/PHAYLY09_0043.fq >Combined/PHAYLY09_0043.fq\n",
      "cat First_Runs/PA3/PTAUY12_0041.fq Second_Run/PTAUY12_0041.fq >Combined/PTAUY12_0041.fq\n",
      "cat First_Runs/PA3/PKUSHI06_0028.fq Second_Run/PKUSHI06_0028.fq >Combined/PKUSHI06_0028.fq\n",
      "cat First_Runs/PA3/PKUSHI07_0025.fq Second_Run/PKUSHI07_0025.fq >Combined/PKUSHI07_0025.fq"
     ],
     "language": "python",
     "metadata": {},
     "outputs": []
    },
    {
     "cell_type": "code",
     "collapsed": false,
     "input": [
      "\n",
      "\n",
      "#rename_nov_25_edit.sh\n",
      "#november 25 2014\n",
      "#this file is to  rename all the pink samples from the asian pops that were resequenced and combined so we can easily tell that they were reseq \n",
      "\n",
      "mv Combined/PHAYLY09_0015.fq Combined/PHAYLY09_0015_comb.fq\n",
      "mv Combined/PHAYLY10_0014.fq Combined/PHAYLY10_0014_comb.fq\n",
      "mv Combined/PTAUY12_0008.fq Combined/PTAUY12_0008_comb.fq\n",
      "mv Combined/PAMUR10_0006.fq Combined/PAMUR10_0006_comb.fq\n",
      "mv Combined/PAMUR11_0004.fq Combined/PAMUR11_0004_comb.fq\n",
      "mv Combined/PHAYLY09_0016.fq Combined/PHAYLY09_0016_comb.fq\n",
      "mv Combined/PKUSHI06_0006.fq Combined/PKUSHI06_0006_comb.fq\n",
      "mv Combined/PKUSHI07_0003.fq Combined/PKUSHI07_0003_comb.fq\n",
      "mv Combined/PKUSHI07_0011.fq Combined/PKUSHI07_0011_comb.fq\n",
      "mv Combined/PHAYLY10_0015.fq Combined/PHAYLY10_0015_comb.fq\n",
      "mv Combined/PTAUY09_0012.fq Combined/PTAUY09_0012_comb.fq\n",
      "mv Combined/PAMUR11_0005.fq Combined/PAMUR11_0005_comb.fq\n",
      "mv Combined/PHAYLY09_0017.fq Combined/PHAYLY09_0017_comb.fq\n",
      "mv Combined/PKUSHI06_0007.fq Combined/PKUSHI06_0007_comb.fq\n",
      "mv Combined/PTAUY09_0009.fq Combined/PTAUY09_0009_comb.fq\n",
      "mv Combined/PAMUR11_0010.fq Combined/PAMUR11_0010_comb.fq\n",
      "mv Combined/PHAYLY10_0004.fq Combined/PHAYLY10_0004_comb.fq\n",
      "mv Combined/PHAYLY10_0018.fq Combined/PHAYLY10_0018_comb.fq\n",
      "mv Combined/PTAUY09_0013.fq Combined/PTAUY09_0013_comb.fq\n",
      "mv Combined/PTAUY12_0010.fq Combined/PTAUY12_0010_comb.fq\n",
      "mv Combined/PAMUR11_0006.fq Combined/PAMUR11_0006_comb.fq\n",
      "mv Combined/PHAYLY10_0017.fq Combined/PHAYLY10_0017_comb.fq\n",
      "mv Combined/PKUSHI06_0008.fq Combined/PKUSHI06_0008_comb.fq\n",
      "mv Combined/PKUSHI07_0005.fq Combined/PKUSHI07_0005_comb.fq\n",
      "mv Combined/PTAUY12_0002.fq Combined/PTAUY12_0002_comb.fq\n",
      "mv Combined/PHAYLY10_0006.fq Combined/PHAYLY10_0006_comb.fq\n",
      "mv Combined/PTAUY09_0014.fq Combined/PTAUY09_0014_comb.fq\n",
      "mv Combined/PTAUY12_0011.fq Combined/PTAUY12_0011_comb.fq\n",
      "mv Combined/PAMUR11_0007.fq Combined/PAMUR11_0007_comb.fq\n",
      "mv Combined/PKUSHI06_0001.fq Combined/PKUSHI06_0001_comb.fq\n",
      "mv Combined/PKUSHI06_0009.fq Combined/PKUSHI06_0009_comb.fq\n",
      "mv Combined/PKUSHI07_0006.fq Combined/PKUSHI07_0006_comb.fq\n",
      "mv Combined/PTAUY12_0004.fq Combined/PTAUY12_0004_comb.fq\n",
      "mv Combined/PHAYLY10_0007.fq Combined/PHAYLY10_0007_comb.fq\n",
      "mv Combined/PAMUR11_0008.fq Combined/PAMUR11_0008_comb.fq\n",
      "mv Combined/PKUSHI06_0010.fq Combined/PKUSHI06_0010_comb.fq\n",
      "mv Combined/PKUSHI07_0007.fq Combined/PKUSHI07_0007_comb.fq\n",
      "mv Combined/PTAUY12_0006.fq Combined/PTAUY12_0006_comb.fq\n",
      "mv Combined/PHAYLY09_0012.fq Combined/PHAYLY09_0012_comb.fq\n",
      "mv Combined/PHAYLY10_0010.fq Combined/PHAYLY10_0010_comb.fq\n",
      "mv Combined/PTAUY12_0001.fq Combined/PTAUY12_0001_comb.fq\n",
      "mv Combined/PAMUR11_0001.fq Combined/PAMUR11_0001_comb.fq\n",
      "mv Combined/PAMUR11_0009.fq Combined/PAMUR11_0009_comb.fq\n",
      "mv Combined/PKUSHI06_0003.fq Combined/PKUSHI06_0003_comb.fq\n",
      "mv Combined/PKUSHI06_0011.fq Combined/PKUSHI06_0011_comb.fq\n",
      "mv Combined/PKUSHI07_0008.fq Combined/PKUSHI07_0008_comb.fq\n",
      "mv Combined/PHAYLY09_0013.fq Combined/PHAYLY09_0013_comb.fq\n",
      "mv Combined/PHAYLY10_0011.fq Combined/PHAYLY10_0011_comb.fq\n",
      "mv Combined/PTAUY09_0006.fq Combined/PTAUY09_0006_comb.fq\n",
      "mv Combined/PTAUY12_0003.fq Combined/PTAUY12_0003_comb.fq\n",
      "mv Combined/PAMUR11_0002.fq Combined/PAMUR11_0002_comb.fq\n",
      "mv Combined/PHAYLY09_0010.fq Combined/PHAYLY09_0010_comb.fq\n",
      "mv Combined/PKUSHI06_0004.fq Combined/PKUSHI06_0004_comb.fq\n",
      "mv Combined/PKUSHI07_0001.fq Combined/PKUSHI07_0001_comb.fq\n",
      "mv Combined/PHAYLY09_0014.fq Combined/PHAYLY09_0014_comb.fq\n",
      "mv Combined/PHAYLY10_0012.fq Combined/PHAYLY10_0012_comb.fq\n",
      "mv Combined/PTAUY09_0008.fq Combined/PTAUY09_0008_comb.fq\n",
      "mv Combined/PTAUY12_0005.fq Combined/PTAUY12_0005_comb.fq\n",
      "mv Combined/PAMUR10_0005.fq Combined/PAMUR10_0005_comb.fq\n",
      "mv Combined/PAMUR11_0003.fq Combined/PAMUR11_0003_comb.fq\n",
      "mv Combined/PHAYLY09_0011.fq Combined/PHAYLY09_0011_comb.fq\n",
      "mv Combined/PKUSHI06_0005.fq Combined/PKUSHI06_0005_comb.fq\n",
      "mv Combined/PKUSHI07_0002.fq Combined/PKUSHI07_0002_comb.fq\n",
      "mv Combined/PKUSHI07_0010.fq Combined/PKUSHI07_0010_comb.fq\n",
      "mv Combined/PHAYLY09_0028.fq Combined/PHAYLY09_0028_comb.fq\n",
      "mv Combined/PHAYLY10_0029.fq Combined/PHAYLY10_0029_comb.fq\n",
      "mv Combined/PTAUY12_0015.fq Combined/PTAUY12_0015_comb.fq\n",
      "mv Combined/PAMUR11_0011.fq Combined/PAMUR11_0011_comb.fq\n",
      "mv Combined/PAMUR11_0020.fq Combined/PAMUR11_0020_comb.fq\n",
      "mv Combined/PHAYLY09_0029.fq Combined/PHAYLY09_0029_comb.fq\n",
      "mv Combined/PKUSHI06_0018.fq Combined/PKUSHI06_0018_comb.fq\n",
      "mv Combined/PTAUY09_0022.fq Combined/PTAUY09_0022_comb.fq\n",
      "mv Combined/PAMUR10_0013.fq Combined/PAMUR10_0013_comb.fq\n",
      "mv Combined/PHAYLY10_0020.fq Combined/PHAYLY10_0020_comb.fq\n",
      "mv Combined/PHAYLY10_0030.fq Combined/PHAYLY10_0030_comb.fq\n",
      "mv Combined/PTAUY12_0016.fq Combined/PTAUY12_0016_comb.fq\n",
      "mv Combined/PAMUR11_0013.fq Combined/PAMUR11_0013_comb.fq\n",
      "mv Combined/PAMUR11_0021.fq Combined/PAMUR11_0021_comb.fq\n",
      "mv Combined/PHAYLY10_0021.fq Combined/PHAYLY10_0021_comb.fq\n",
      "mv Combined/PKUSHI06_0019.fq Combined/PKUSHI06_0019_comb.fq\n",
      "mv Combined/PKUSHI07_0016.fq Combined/PKUSHI07_0016_comb.fq\n",
      "mv Combined/PTAUY09_0024.fq Combined/PTAUY09_0024_comb.fq\n",
      "mv Combined/PHAYLY10_0032.fq Combined/PHAYLY10_0032_comb.fq\n",
      "mv Combined/PAMUR11_0014.fq Combined/PAMUR11_0014_comb.fq\n",
      "mv Combined/PAMUR11_0022.fq Combined/PAMUR11_0022_comb.fq\n",
      "mv Combined/PKUSHI06_0012.fq Combined/PKUSHI06_0012_comb.fq\n",
      "mv Combined/PKUSHI06_0020.fq Combined/PKUSHI06_0020_comb.fq\n",
      "mv Combined/PAMUR10_0016.fq Combined/PAMUR10_0016_comb.fq\n",
      "mv Combined/PHAYLY10_0023.fq Combined/PHAYLY10_0023_comb.fq\n",
      "mv Combined/PTAUY12_0022.fq Combined/PTAUY12_0022_comb.fq\n",
      "mv Combined/PAMUR11_0015.fq Combined/PAMUR11_0015_comb.fq\n",
      "mv Combined/PHAYLY09_0018.fq Combined/PHAYLY09_0018_comb.fq\n",
      "mv Combined/PKUSHI06_0021.fq Combined/PKUSHI06_0021_comb.fq\n",
      "mv Combined/PKUSHI07_0018.fq Combined/PKUSHI07_0018_comb.fq\n",
      "mv Combined/PTAUY09_0031.fq Combined/PTAUY09_0031_comb.fq\n",
      "mv Combined/PHAYLY09_0019.fq Combined/PHAYLY09_0019_comb.fq\n",
      "mv Combined/PHAYLY10_0024.fq Combined/PHAYLY10_0024_comb.fq\n",
      "mv Combined/PTAUY12_0023.fq Combined/PTAUY12_0023_comb.fq\n",
      "mv Combined/PAMUR10_0018.fq Combined/PAMUR10_0018_comb.fq\n",
      "mv Combined/PAMUR11_0016.fq Combined/PAMUR11_0016_comb.fq\n",
      "mv Combined/PHAYLY09_0021.fq Combined/PHAYLY09_0021_comb.fq\n",
      "mv Combined/PKUSHI06_0014.fq Combined/PKUSHI06_0014_comb.fq\n",
      "mv Combined/PKUSHI06_0022.fq Combined/PKUSHI06_0022_comb.fq\n",
      "mv Combined/PTAUY12_0021.fq Combined/PTAUY12_0021_comb.fq\n",
      "mv Combined/PTAUY12_0024.fq Combined/PTAUY12_0024_comb.fq\n",
      "mv Combined/PAMUR11_0017.fq Combined/PAMUR11_0017_comb.fq\n",
      "mv Combined/PHAYLY09_0022.fq Combined/PHAYLY09_0022_comb.fq\n",
      "mv Combined/PKUSHI06_0015.fq Combined/PKUSHI06_0015_comb.fq\n",
      "mv Combined/PKUSHI07_0012.fq Combined/PKUSHI07_0012_comb.fq\n",
      "mv Combined/PKUSHI07_0020.fq Combined/PKUSHI07_0020_comb.fq\n",
      "mv Combined/PHAYLY09_0025.fq Combined/PHAYLY09_0025_comb.fq\n",
      "mv Combined/PHAYLY10_0026.fq Combined/PHAYLY10_0026_comb.fq\n",
      "mv Combined/PTAUY12_0025.fq Combined/PTAUY12_0025_comb.fq\n",
      "mv Combined/PAMUR11_0018.fq Combined/PAMUR11_0018_comb.fq\n",
      "mv Combined/PHAYLY09_0023.fq Combined/PHAYLY09_0023_comb.fq\n",
      "mv Combined/PKUSHI07_0021.fq Combined/PKUSHI07_0021_comb.fq\n",
      "mv Combined/PHAYLY09_0026.fq Combined/PHAYLY09_0026_comb.fq\n",
      "mv Combined/PHAYLY10_0027.fq Combined/PHAYLY10_0027_comb.fq\n",
      "mv Combined/PTAUY09_0032.fq Combined/PTAUY09_0032_comb.fq\n",
      "mv Combined/PTAUY12_0026.fq Combined/PTAUY12_0026_comb.fq\n",
      "mv Combined/PAMUR11_0019.fq Combined/PAMUR11_0019_comb.fq\n",
      "mv Combined/PHAYLY09_0027.fq Combined/PHAYLY09_0027_comb.fq\n",
      "mv Combined/PTAUY09_0018.fq Combined/PTAUY09_0018_comb.fq\n",
      "mv Combined/PTAUY12_0030.fq Combined/PTAUY12_0030_comb.fq\n",
      "mv Combined/PAMUR10_0031.fq Combined/PAMUR10_0031_comb.fq\n",
      "mv Combined/PAMUR11_0029.fq Combined/PAMUR11_0029_comb.fq\n",
      "mv Combined/PHAYLY09_0034.fq Combined/PHAYLY09_0034_comb.fq\n",
      "mv Combined/PTAUY09_0034.fq Combined/PTAUY09_0034_comb.fq\n",
      "mv Combined/PAMUR10_0027.fq Combined/PAMUR10_0027_comb.fq\n",
      "mv Combined/PHAYLY10_0046.fq Combined/PHAYLY10_0046_comb.fq\n",
      "mv Combined/PTAUY12_0031.fq Combined/PTAUY12_0031_comb.fq\n",
      "mv Combined/PAMUR11_0030.fq Combined/PAMUR11_0030_comb.fq\n",
      "mv Combined/PHAYLY09_0037.fq Combined/PHAYLY09_0037_comb.fq\n",
      "mv Combined/PKUSHI06_0030.fq Combined/PKUSHI06_0030_comb.fq\n",
      "mv Combined/PKUSHI07_0027.fq Combined/PKUSHI07_0027_comb.fq\n",
      "mv Combined/PAMUR11_0023.fq Combined/PAMUR11_0023_comb.fq\n",
      "mv Combined/PAMUR11_0031.fq Combined/PAMUR11_0031_comb.fq\n",
      "mv Combined/PKUSHI06_0031.fq Combined/PKUSHI06_0031_comb.fq\n",
      "mv Combined/PKUSHI07_0028.fq Combined/PKUSHI07_0028_comb.fq\n",
      "mv Combined/PTAUY09_0037.fq Combined/PTAUY09_0037_comb.fq\n",
      "mv Combined/PHAYLY09_0036.fq Combined/PHAYLY09_0036_comb.fq\n",
      "mv Combined/PHAYLY10_0038.fq Combined/PHAYLY10_0038_comb.fq\n",
      "mv Combined/PTAUY09_0040.fq Combined/PTAUY09_0040_comb.fq\n",
      "mv Combined/PTAUY12_0034.fq Combined/PTAUY12_0034_comb.fq\n",
      "mv Combined/PAMUR11_0024.fq Combined/PAMUR11_0024_comb.fq\n",
      "mv Combined/PAMUR11_0032.fq Combined/PAMUR11_0032_comb.fq\n",
      "mv Combined/PKUSHI06_0024.fq Combined/PKUSHI06_0024_comb.fq\n",
      "mv Combined/PKUSHI06_0032.fq Combined/PKUSHI06_0032_comb.fq\n",
      "mv Combined/PKUSHI07_0029.fq Combined/PKUSHI07_0029_comb.fq\n",
      "mv Combined/PHAYLY09_0038.fq Combined/PHAYLY09_0038_comb.fq\n",
      "mv Combined/PTAUY12_0036.fq Combined/PTAUY12_0036_comb.fq\n",
      "mv Combined/PAMUR11_0033.fq Combined/PAMUR11_0033_comb.fq\n",
      "mv Combined/PKUSHI07_0030.fq Combined/PKUSHI07_0030_comb.fq\n",
      "mv Combined/PTAUY12_0032.fq Combined/PTAUY12_0032_comb.fq\n",
      "mv Combined/PHAYLY09_0041.fq Combined/PHAYLY09_0041_comb.fq\n",
      "mv Combined/PTAUY09_0042.fq Combined/PTAUY09_0042_comb.fq\n",
      "mv Combined/PAMUR11_0026.fq Combined/PAMUR11_0026_comb.fq\n",
      "mv Combined/PHAYLY09_0030.fq Combined/PHAYLY09_0030_comb.fq\n",
      "mv Combined/PKUSHI06_0026.fq Combined/PKUSHI06_0026_comb.fq\n",
      "mv Combined/PKUSHI07_0031.fq Combined/PKUSHI07_0031_comb.fq\n",
      "mv Combined/PTAUY12_0035.fq Combined/PTAUY12_0035_comb.fq\n",
      "mv Combined/PHAYLY09_0042.fq Combined/PHAYLY09_0042_comb.fq\n",
      "mv Combined/PTAUY09_0044.fq Combined/PTAUY09_0044_comb.fq\n",
      "mv Combined/PAMUR10_0029.fq Combined/PAMUR10_0029_comb.fq\n",
      "mv Combined/PKUSHI06_0027.fq Combined/PKUSHI06_0027_comb.fq\n",
      "mv Combined/PKUSHI07_0024.fq Combined/PKUSHI07_0024_comb.fq\n",
      "mv Combined/PKUSHI07_0032.fq Combined/PKUSHI07_0032_comb.fq\n",
      "mv Combined/PHAYLY09_0043.fq Combined/PHAYLY09_0043_comb.fq\n",
      "mv Combined/PTAUY12_0041.fq Combined/PTAUY12_0041_comb.fq\n",
      "mv Combined/PKUSHI06_0028.fq Combined/PKUSHI06_0028_comb.fq\n",
      "mv Combined/PKUSHI07_0025.fq Combined/PKUSHI07_0025_comb.fq\n",
      "\n"
     ],
     "language": "python",
     "metadata": {},
     "outputs": []
    },
    {
     "cell_type": "markdown",
     "metadata": {},
     "source": [
      "#Ustacks\n",
      "\n",
      "The program ustacks is run on each sample individually. Send all the output files to one file for ease of downstream analysis.\n",
      "\n",
      "The batchfile for running ustacks has one command per sample, and the following flags:\n",
      "\n",
      "    -t the type of data file\n",
      "    -f the renamed samples from process_radtags path name\n",
      "    -o the folder where the output should be placed\n",
      "    -r use the removal algorithm and drop highly repetitive stacks\n",
      "    --model_type bounded\n",
      "    --bound_low 0\n",
      "    --bound_high 0.05\n",
      "    -i the SQL database number\n",
      "\n",
      "It is imperative that the SQL number be unique to each individual, in order and that there are no missing numbers. It should be noted in the progeny database as well.\n"
     ]
    },
    {
     "cell_type": "code",
     "collapsed": false,
     "input": [
      "#ustacks_sstacks_may.sh\n",
      "\n",
      "#May 13 2015 \n",
      "#Running stacks with the population data to try to troubleshoot the differences seen between the January and Recent runs in  Nome and Koppen \n",
      ")\n",
      "ustacks -t fastq -f Data_Inventory/Populations/Asian/First_Runs/PA1/PAMUR10_0001.fq -r --model_type bounded --bound_low 0 --bound_high 0.05 -o Pop_analysis/Populations_b3 -i 1\n",
      "ustacks -t fastq -f Data_Inventory/Populations/Asian/First_Runs/PA1/PAMUR10_0002.fq -r --model_type bounded --bound_low 0 --bound_high 0.05 -o Pop_analysis/Populations_b3 -i 2\n",
      "ustacks -t fastq -f Data_Inventory/Populations/Asian/First_Runs/PA1/PAMUR10_0003.fq -r --model_type bounded --bound_low 0 --bound_high 0.05 -o Pop_analysis/Populations_b3 -i 3\n",
      "ustacks -t fastq -f Data_Inventory/Populations/Asian/First_Runs/PA1/PAMUR10_0004.fq -r --model_type bounded --bound_low 0 --bound_high 0.05 -o Pop_analysis/Populations_b3 -i 4\n",
      "ustacks -t fastq -f Data_Inventory/Populations/Asian/First_Runs/PA1/PAMUR10_0007.fq -r --model_type bounded --bound_low 0 --bound_high 0.05 -o Pop_analysis/Populations_b3 -i 5\n",
      "ustacks -t fastq -f Data_Inventory/Populations/Asian/First_Runs/PA1/PAMUR10_0008.fq -r --model_type bounded --bound_low 0 --bound_high 0.05 -o Pop_analysis/Populations_b3 -i 6\n",
      "ustacks -t fastq -f Data_Inventory/Populations/Asian/First_Runs/PA1/PAMUR10_0009.fq -r --model_type bounded --bound_low 0 --bound_high 0.05 -o Pop_analysis/Populations_b3 -i 7\n",
      "ustacks -t fastq -f Data_Inventory/Populations/Asian/First_Runs/PA1/PAMUR10_0010.fq -r --model_type bounded --bound_low 0 --bound_high 0.05 -o Pop_analysis/Populations_b3 -i 8\n",
      "ustacks -t fastq -f Data_Inventory/Populations/Asian/First_Runs/PA1/PHAYLY09_0007.fq -r --model_type bounded --bound_low 0 --bound_high 0.05 -o Pop_analysis/Populations_b3 -i 9\n",
      "ustacks -t fastq -f Data_Inventory/Populations/Asian/First_Runs/PA1/PHAYLY09_0008.fq -r --model_type bounded --bound_low 0 --bound_high 0.05 -o Pop_analysis/Populations_b3 -i 10\n",
      "ustacks -t fastq -f Data_Inventory/Populations/Asian/First_Runs/PA1/PHAYLY10_0003.fq -r --model_type bounded --bound_low 0 --bound_high 0.05 -o Pop_analysis/Populations_b3 -i 11\n",
      "ustacks -t fastq -f Data_Inventory/Populations/Asian/First_Runs/PA1/PKUSHI06_0002.fq -r --model_type bounded --bound_low 0 --bound_high 0.05 -o Pop_analysis/Populations_b3 -i 12\n",
      "ustacks -t fastq -f Data_Inventory/Populations/Asian/First_Runs/PA1/PKUSHI07_0004.fq -r --model_type bounded --bound_low 0 --bound_high 0.05 -o Pop_analysis/Populations_b3 -i 13\n",
      "ustacks -t fastq -f Data_Inventory/Populations/Asian/First_Runs/PA1/PKUSHI07_0009.fq -r --model_type bounded --bound_low 0 --bound_high 0.05 -o Pop_analysis/Populations_b3 -i 14\n",
      "ustacks -t fastq -f Data_Inventory/Populations/Asian/First_Runs/PA1/PTAUY09_0002.fq -r --model_type bounded --bound_low 0 --bound_high 0.05 -o Pop_analysis/Populations_b3 -i 15\n",
      "ustacks -t fastq -f Data_Inventory/Populations/Asian/First_Runs/PA1/PTAUY09_0003.fq -r --model_type bounded --bound_low 0 --bound_high 0.05 -o Pop_analysis/Populations_b3 -i 16\n",
      "ustacks -t fastq -f Data_Inventory/Populations/Asian/First_Runs/PA1/PTAUY09_0004.fq -r --model_type bounded --bound_low 0 --bound_high 0.05 -o Pop_analysis/Populations_b3 -i 17\n",
      "ustacks -t fastq -f Data_Inventory/Populations/Asian/First_Runs/PA1/PTAUY09_0011.fq -r --model_type bounded --bound_low 0 --bound_high 0.05 -o Pop_analysis/Populations_b3 -i 18\n",
      "ustacks -t fastq -f Data_Inventory/Populations/Asian/First_Runs/PA1/PTAUY09_0015.fq -r --model_type bounded --bound_low 0 --bound_high 0.05 -o Pop_analysis/Populations_b3 -i 19\n",
      "ustacks -t fastq -f Data_Inventory/Populations/Asian/First_Runs/PA1/PTAUY12_0009.fq -r --model_type bounded --bound_low 0 --bound_high 0.05 -o Pop_analysis/Populations_b3 -i 20\n",
      "ustacks -t fastq -f Data_Inventory/Populations/Asian/First_Runs/PA1/PTAUY12_0014.fq -r --model_type bounded --bound_low 0 --bound_high 0.05 -o Pop_analysis/Populations_b3 -i 21\n",
      "ustacks -t fastq -f Data_Inventory/Populations/Asian/First_Runs/PA2/PAMUR10_0011.fq -r --model_type bounded --bound_low 0 --bound_high 0.05 -o Pop_analysis/Populations_b3 -i 22\n",
      "ustacks -t fastq -f Data_Inventory/Populations/Asian/First_Runs/PA2/PAMUR10_0012.fq -r --model_type bounded --bound_low 0 --bound_high 0.05 -o Pop_analysis/Populations_b3 -i 23\n",
      "ustacks -t fastq -f Data_Inventory/Populations/Asian/First_Runs/PA2/PAMUR10_0014.fq -r --model_type bounded --bound_low 0 --bound_high 0.05 -o Pop_analysis/Populations_b3 -i 24\n",
      "ustacks -t fastq -f Data_Inventory/Populations/Asian/First_Runs/PA2/PAMUR10_0015.fq -r --model_type bounded --bound_low 0 --bound_high 0.05 -o Pop_analysis/Populations_b3 -i 25\n",
      "ustacks -t fastq -f Data_Inventory/Populations/Asian/First_Runs/PA2/PAMUR10_0017.fq -r --model_type bounded --bound_low 0 --bound_high 0.05 -o Pop_analysis/Populations_b3 -i 26\n",
      "ustacks -t fastq -f Data_Inventory/Populations/Asian/First_Runs/PA2/PAMUR10_0019.fq -r --model_type bounded --bound_low 0 --bound_high 0.05 -o Pop_analysis/Populations_b3 -i 27\n",
      "ustacks -t fastq -f Data_Inventory/Populations/Asian/First_Runs/PA2/PAMUR10_0020.fq -r --model_type bounded --bound_low 0 --bound_high 0.05 -o Pop_analysis/Populations_b3 -i 28\n",
      "ustacks -t fastq -f Data_Inventory/Populations/Asian/First_Runs/PA2/PAMUR10_0021.fq -r --model_type bounded --bound_low 0 --bound_high 0.05 -o Pop_analysis/Populations_b3 -i 29\n",
      "ustacks -t fastq -f Data_Inventory/Populations/Asian/First_Runs/PA2/PHAYLY09_0020.fq -r --model_type bounded --bound_low 0 --bound_high 0.05 -o Pop_analysis/Populations_b3 -i 30\n",
      "ustacks -t fastq -f Data_Inventory/Populations/Asian/First_Runs/PA2/PHAYLY10_0022.fq -r --model_type bounded --bound_low 0 --bound_high 0.05 -o Pop_analysis/Populations_b3 -i 31\n",
      "ustacks -t fastq -f Data_Inventory/Populations/Asian/First_Runs/PA2/PHAYLY10_0025.fq -r --model_type bounded --bound_low 0 --bound_high 0.05 -o Pop_analysis/Populations_b3 -i 32\n",
      "ustacks -t fastq -f Data_Inventory/Populations/Asian/First_Runs/PA2/PKUSHI06_0013.fq -r --model_type bounded --bound_low 0 --bound_high 0.05 -o Pop_analysis/Populations_b3 -i 33\n",
      "ustacks -t fastq -f Data_Inventory/Populations/Asian/First_Runs/PA2/PKUSHI06_0016.fq -r --model_type bounded --bound_low 0 --bound_high 0.05 -o Pop_analysis/Populations_b3 -i 34\n",
      "ustacks -t fastq -f Data_Inventory/Populations/Asian/First_Runs/PA2/PKUSHI06_0017.fq -r --model_type bounded --bound_low 0 --bound_high 0.05 -o Pop_analysis/Populations_b3 -i 35\n",
      "ustacks -t fastq -f Data_Inventory/Populations/Asian/First_Runs/PA2/PKUSHI07_0013.fq -r --model_type bounded --bound_low 0 --bound_high 0.05 -o Pop_analysis/Populations_b3 -i 36\n",
      "ustacks -t fastq -f Data_Inventory/Populations/Asian/First_Runs/PA2/PKUSHI07_0014.fq -r --model_type bounded --bound_low 0 --bound_high 0.05 -o Pop_analysis/Populations_b3 -i 37\n",
      "ustacks -t fastq -f Data_Inventory/Populations/Asian/First_Runs/PA2/PKUSHI07_0015.fq -r --model_type bounded --bound_low 0 --bound_high 0.05 -o Pop_analysis/Populations_b3 -i 38\n",
      "ustacks -t fastq -f Data_Inventory/Populations/Asian/First_Runs/PA2/PKUSHI07_0017.fq -r --model_type bounded --bound_low 0 --bound_high 0.05 -o Pop_analysis/Populations_b3 -i 39\n",
      "ustacks -t fastq -f Data_Inventory/Populations/Asian/First_Runs/PA2/PKUSHI07_0019.fq -r --model_type bounded --bound_low 0 --bound_high 0.05 -o Pop_analysis/Populations_b3 -i 40\n",
      "ustacks -t fastq -f Data_Inventory/Populations/Asian/First_Runs/PA2/PTAUY09_0016.fq -r --model_type bounded --bound_low 0 --bound_high 0.05 -o Pop_analysis/Populations_b3 -i 41\n",
      "ustacks -t fastq -f Data_Inventory/Populations/Asian/First_Runs/PA2/PTAUY09_0017.fq -r --model_type bounded --bound_low 0 --bound_high 0.05 -o Pop_analysis/Populations_b3 -i 42\n",
      "ustacks -t fastq -f Data_Inventory/Populations/Asian/First_Runs/PA2/PTAUY09_0021.fq -r --model_type bounded --bound_low 0 --bound_high 0.05 -o Pop_analysis/Populations_b3 -i 43\n",
      "ustacks -t fastq -f Data_Inventory/Populations/Asian/First_Runs/PA2/PTAUY09_0023.fq -r --model_type bounded --bound_low 0 --bound_high 0.05 -o Pop_analysis/Populations_b3 -i 44\n",
      "ustacks -t fastq -f Data_Inventory/Populations/Asian/First_Runs/PA2/PTAUY09_0027.fq -r --model_type bounded --bound_low 0 --bound_high 0.05 -o Pop_analysis/Populations_b3 -i 45\n",
      "ustacks -t fastq -f Data_Inventory/Populations/Asian/First_Runs/PA2/PTAUY12_0019.fq -r --model_type bounded --bound_low 0 --bound_high 0.05 -o Pop_analysis/Populations_b3 -i 46\n",
      "ustacks -t fastq -f Data_Inventory/Populations/Asian/First_Runs/PA2/PTAUY12_0027.fq -r --model_type bounded --bound_low 0 --bound_high 0.05 -o Pop_analysis/Populations_b3 -i 47\n",
      "ustacks -t fastq -f Data_Inventory/Populations/Asian/First_Runs/PA3/PAMUR10_0022.fq -r --model_type bounded --bound_low 0 --bound_high 0.05 -o Pop_analysis/Populations_b3 -i 48\n",
      "ustacks -t fastq -f Data_Inventory/Populations/Asian/First_Runs/PA3/PAMUR10_0023.fq -r --model_type bounded --bound_low 0 --bound_high 0.05 -o Pop_analysis/Populations_b3 -i 49\n",
      "ustacks -t fastq -f Data_Inventory/Populations/Asian/First_Runs/PA3/PAMUR10_0024.fq -r --model_type bounded --bound_low 0 --bound_high 0.05 -o Pop_analysis/Populations_b3 -i 50\n",
      "ustacks -t fastq -f Data_Inventory/Populations/Asian/First_Runs/PA3/PAMUR10_0025.fq -r --model_type bounded --bound_low 0 --bound_high 0.05 -o Pop_analysis/Populations_b3 -i 51\n",
      "ustacks -t fastq -f Data_Inventory/Populations/Asian/First_Runs/PA3/PAMUR10_0026.fq -r --model_type bounded --bound_low 0 --bound_high 0.05 -o Pop_analysis/Populations_b3 -i 52\n",
      "ustacks -t fastq -f Data_Inventory/Populations/Asian/First_Runs/PA3/PAMUR10_0028.fq -r --model_type bounded --bound_low 0 --bound_high 0.05 -o Pop_analysis/Populations_b3 -i 53\n",
      "ustacks -t fastq -f Data_Inventory/Populations/Asian/First_Runs/PA3/PAMUR10_0030.fq -r --model_type bounded --bound_low 0 --bound_high 0.05 -o Pop_analysis/Populations_b3 -i 54\n",
      "ustacks -t fastq -f Data_Inventory/Populations/Asian/First_Runs/PA3/PAMUR10_0032.fq -r --model_type bounded --bound_low 0 --bound_high 0.05 -o Pop_analysis/Populations_b3 -i 55\n",
      "ustacks -t fastq -f Data_Inventory/Populations/Asian/First_Runs/PA3/PAMUR11_0025.fq -r --model_type bounded --bound_low 0 --bound_high 0.05 -o Pop_analysis/Populations_b3 -i 56\n",
      "ustacks -t fastq -f Data_Inventory/Populations/Asian/First_Runs/PA3/PAMUR11_0027.fq -r --model_type bounded --bound_low 0 --bound_high 0.05 -o Pop_analysis/Populations_b3 -i 57\n",
      "ustacks -t fastq -f Data_Inventory/Populations/Asian/First_Runs/PA3/PAMUR11_0028.fq -r --model_type bounded --bound_low 0 --bound_high 0.05 -o Pop_analysis/Populations_b3 -i 58\n",
      "ustacks -t fastq -f Data_Inventory/Populations/Asian/First_Runs/PA3/PHAYLY09_0031.fq -r --model_type bounded --bound_low 0 --bound_high 0.05 -o Pop_analysis/Populations_b3 -i 59\n",
      "ustacks -t fastq -f Data_Inventory/Populations/Asian/First_Runs/PA3/PHAYLY09_0032.fq -r --model_type bounded --bound_low 0 --bound_high 0.05 -o Pop_analysis/Populations_b3 -i 60\n",
      "ustacks -t fastq -f Data_Inventory/Populations/Asian/First_Runs/PA3/PHAYLY09_0035.fq -r --model_type bounded --bound_low 0 --bound_high 0.05 -o Pop_analysis/Populations_b3 -i 61\n",
      "ustacks -t fastq -f Data_Inventory/Populations/Asian/First_Runs/PA3/PHAYLY10_0035.fq -r --model_type bounded --bound_low 0 --bound_high 0.05 -o Pop_analysis/Populations_b3 -i 62\n",
      "ustacks -t fastq -f Data_Inventory/Populations/Asian/First_Runs/PA3/PHAYLY10_0036.fq -r --model_type bounded --bound_low 0 --bound_high 0.05 -o Pop_analysis/Populations_b3 -i 63\n",
      "ustacks -t fastq -f Data_Inventory/Populations/Asian/First_Runs/PA3/PHAYLY10_0037.fq -r --model_type bounded --bound_low 0 --bound_high 0.05 -o Pop_analysis/Populations_b3 -i 64\n",
      "ustacks -t fastq -f Data_Inventory/Populations/Asian/First_Runs/PA3/PHAYLY10_0039.fq -r --model_type bounded --bound_low 0 --bound_high 0.05 -o Pop_analysis/Populations_b3 -i 65\n",
      "ustacks -t fastq -f Data_Inventory/Populations/Asian/First_Runs/PA3/PHAYLY10_0040.fq -r --model_type bounded --bound_low 0 --bound_high 0.05 -o Pop_analysis/Populations_b3 -i 66\n",
      "ustacks -t fastq -f Data_Inventory/Populations/Asian/First_Runs/PA3/PHAYLY10_0041.fq -r --model_type bounded --bound_low 0 --bound_high 0.05 -o Pop_analysis/Populations_b3 -i 67\n",
      "ustacks -t fastq -f Data_Inventory/Populations/Asian/First_Runs/PA3/PHAYLY10_0042.fq -r --model_type bounded --bound_low 0 --bound_high 0.05 -o Pop_analysis/Populations_b3 -i 68\n",
      "ustacks -t fastq -f Data_Inventory/Populations/Asian/First_Runs/PA3/PHAYLY10_0044.fq -r --model_type bounded --bound_low 0 --bound_high 0.05 -o Pop_analysis/Populations_b3 -i 69\n",
      "ustacks -t fastq -f Data_Inventory/Populations/Asian/First_Runs/PA3/PKUSHI06_0023.fq -r --model_type bounded --bound_low 0 --bound_high 0.05 -o Pop_analysis/Populations_b3 -i 70\n",
      "ustacks -t fastq -f Data_Inventory/Populations/Asian/First_Runs/PA3/PKUSHI06_0025.fq -r --model_type bounded --bound_low 0 --bound_high 0.05 -o Pop_analysis/Populations_b3 -i 71\n",
      "ustacks -t fastq -f Data_Inventory/Populations/Asian/First_Runs/PA3/PKUSHI06_0029.fq -r --model_type bounded --bound_low 0 --bound_high 0.05 -o Pop_analysis/Populations_b3 -i 72\n",
      "ustacks -t fastq -f Data_Inventory/Populations/Asian/First_Runs/PA3/PKUSHI07_0022.fq -r --model_type bounded --bound_low 0 --bound_high 0.05 -o Pop_analysis/Populations_b3 -i 73\n",
      "ustacks -t fastq -f Data_Inventory/Populations/Asian/First_Runs/PA3/PKUSHI07_0023.fq -r --model_type bounded --bound_low 0 --bound_high 0.05 -o Pop_analysis/Populations_b3 -i 74\n",
      "ustacks -t fastq -f Data_Inventory/Populations/Asian/First_Runs/PA3/PKUSHI07_0026.fq -r --model_type bounded --bound_low 0 --bound_high 0.05 -o Pop_analysis/Populations_b3 -i 75\n",
      "ustacks -t fastq -f Data_Inventory/Populations/Asian/First_Runs/PA3/PTAUY09_0033.fq -r --model_type bounded --bound_low 0 --bound_high 0.05 -o Pop_analysis/Populations_b3 -i 76\n",
      "ustacks -t fastq -f Data_Inventory/Populations/Asian/First_Runs/PA3/PTAUY09_0035.fq -r --model_type bounded --bound_low 0 --bound_high 0.05 -o Pop_analysis/Populations_b3 -i 77\n",
      "ustacks -t fastq -f Data_Inventory/Populations/Asian/First_Runs/PA3/PTAUY09_0036.fq -r --model_type bounded --bound_low 0 --bound_high 0.05 -o Pop_analysis/Populations_b3 -i 78\n",
      "ustacks -t fastq -f Data_Inventory/Populations/Asian/First_Runs/PA3/PTAUY09_0038.fq -r --model_type bounded --bound_low 0 --bound_high 0.05 -o Pop_analysis/Populations_b3 -i 79\n",
      "ustacks -t fastq -f Data_Inventory/Populations/Asian/First_Runs/PA3/PTAUY09_0041.fq -r --model_type bounded --bound_low 0 --bound_high 0.05 -o Pop_analysis/Populations_b3 -i 80\n",
      "ustacks -t fastq -f Data_Inventory/Populations/Asian/First_Runs/PA3/PTAUY09_0046.fq -r --model_type bounded --bound_low 0 --bound_high 0.05 -o Pop_analysis/Populations_b3 -i 81\n",
      "ustacks -t fastq -f Data_Inventory/Populations/Asian/First_Runs/PA3/PTAUY12_0033.fq -r --model_type bounded --bound_low 0 --bound_high 0.05 -o Pop_analysis/Populations_b3 -i 82\n",
      "ustacks -t fastq -f Data_Inventory/Populations/Asian/First_Runs/PA3/PTAUY12_0038.fq -r --model_type bounded --bound_low 0 --bound_high 0.05 -o Pop_analysis/Populations_b3 -i 83\n",
      "ustacks -t fastq -f Data_Inventory/Populations/Asian/First_Runs/PA3/PTAUY12_0039.fq -r --model_type bounded --bound_low 0 --bound_high 0.05 -o Pop_analysis/Populations_b3 -i 84\n",
      "ustacks -t fastq -f Data_Inventory/Populations/Asian/First_Runs/PA3/PTAUY12_0042.fq -r --model_type bounded --bound_low 0 --bound_high 0.05 -o Pop_analysis/Populations_b3 -i 85\n",
      "ustacks -t fastq -f Data_Inventory/Populations/Asian/Combined/PAMUR10_0005_comb.fq -r --model_type bounded --bound_low 0 --bound_high 0.05 -o Pop_analysis/Populations_b3 -i 86\n",
      "ustacks -t fastq -f Data_Inventory/Populations/Asian/Combined/PAMUR10_0006_comb.fq -r --model_type bounded --bound_low 0 --bound_high 0.05 -o Pop_analysis/Populations_b3 -i 87\n",
      "ustacks -t fastq -f Data_Inventory/Populations/Asian/Combined/PAMUR10_0013_comb.fq -r --model_type bounded --bound_low 0 --bound_high 0.05 -o Pop_analysis/Populations_b3 -i 88\n",
      "ustacks -t fastq -f Data_Inventory/Populations/Asian/Combined/PAMUR10_0016_comb.fq -r --model_type bounded --bound_low 0 --bound_high 0.05 -o Pop_analysis/Populations_b3 -i 89\n",
      "ustacks -t fastq -f Data_Inventory/Populations/Asian/Combined/PAMUR10_0018_comb.fq -r --model_type bounded --bound_low 0 --bound_high 0.05 -o Pop_analysis/Populations_b3 -i 90\n",
      "ustacks -t fastq -f Data_Inventory/Populations/Asian/Combined/PAMUR10_0027_comb.fq -r --model_type bounded --bound_low 0 --bound_high 0.05 -o Pop_analysis/Populations_b3 -i 91\n",
      "ustacks -t fastq -f Data_Inventory/Populations/Asian/Combined/PAMUR10_0029_comb.fq -r --model_type bounded --bound_low 0 --bound_high 0.05 -o Pop_analysis/Populations_b3 -i 92\n",
      "ustacks -t fastq -f Data_Inventory/Populations/Asian/Combined/PAMUR10_0031_comb.fq -r --model_type bounded --bound_low 0 --bound_high 0.05 -o Pop_analysis/Populations_b3 -i 93\n",
      "ustacks -t fastq -f Data_Inventory/Populations/Asian/Combined/PAMUR11_0001_comb.fq -r --model_type bounded --bound_low 0 --bound_high 0.05 -o Pop_analysis/Populations_b3 -i 94\n",
      "ustacks -t fastq -f Data_Inventory/Populations/Asian/Combined/PAMUR11_0002_comb.fq -r --model_type bounded --bound_low 0 --bound_high 0.05 -o Pop_analysis/Populations_b3 -i 95\n",
      "ustacks -t fastq -f Data_Inventory/Populations/Asian/Combined/PAMUR11_0003_comb.fq -r --model_type bounded --bound_low 0 --bound_high 0.05 -o Pop_analysis/Populations_b3 -i 96\n",
      "ustacks -t fastq -f Data_Inventory/Populations/Asian/Combined/PAMUR11_0004_comb.fq -r --model_type bounded --bound_low 0 --bound_high 0.05 -o Pop_analysis/Populations_b3 -i 97\n",
      "ustacks -t fastq -f Data_Inventory/Populations/Asian/Combined/PAMUR11_0005_comb.fq -r --model_type bounded --bound_low 0 --bound_high 0.05 -o Pop_analysis/Populations_b3 -i 98\n",
      "ustacks -t fastq -f Data_Inventory/Populations/Asian/Combined/PAMUR11_0006_comb.fq -r --model_type bounded --bound_low 0 --bound_high 0.05 -o Pop_analysis/Populations_b3 -i 99\n",
      "ustacks -t fastq -f Data_Inventory/Populations/Asian/Combined/PAMUR11_0007_comb.fq -r --model_type bounded --bound_low 0 --bound_high 0.05 -o Pop_analysis/Populations_b3 -i 100\n",
      "ustacks -t fastq -f Data_Inventory/Populations/Asian/Combined/PAMUR11_0008_comb.fq -r --model_type bounded --bound_low 0 --bound_high 0.05 -o Pop_analysis/Populations_b3 -i 101\n",
      "ustacks -t fastq -f Data_Inventory/Populations/Asian/Combined/PAMUR11_0009_comb.fq -r --model_type bounded --bound_low 0 --bound_high 0.05 -o Pop_analysis/Populations_b3 -i 102\n",
      "ustacks -t fastq -f Data_Inventory/Populations/Asian/Combined/PAMUR11_0010_comb.fq -r --model_type bounded --bound_low 0 --bound_high 0.05 -o Pop_analysis/Populations_b3 -i 103\n",
      "ustacks -t fastq -f Data_Inventory/Populations/Asian/Combined/PAMUR11_0011_comb.fq -r --model_type bounded --bound_low 0 --bound_high 0.05 -o Pop_analysis/Populations_b3 -i 104\n",
      "ustacks -t fastq -f Data_Inventory/Populations/Asian/Combined/PAMUR11_0013_comb.fq -r --model_type bounded --bound_low 0 --bound_high 0.05 -o Pop_analysis/Populations_b3 -i 105\n",
      "ustacks -t fastq -f Data_Inventory/Populations/Asian/Combined/PAMUR11_0014_comb.fq -r --model_type bounded --bound_low 0 --bound_high 0.05 -o Pop_analysis/Populations_b3 -i 106\n",
      "ustacks -t fastq -f Data_Inventory/Populations/Asian/Combined/PAMUR11_0015_comb.fq -r --model_type bounded --bound_low 0 --bound_high 0.05 -o Pop_analysis/Populations_b3 -i 107\n",
      "ustacks -t fastq -f Data_Inventory/Populations/Asian/Combined/PAMUR11_0016_comb.fq -r --model_type bounded --bound_low 0 --bound_high 0.05 -o Pop_analysis/Populations_b3 -i 108\n",
      "ustacks -t fastq -f Data_Inventory/Populations/Asian/Combined/PAMUR11_0017_comb.fq -r --model_type bounded --bound_low 0 --bound_high 0.05 -o Pop_analysis/Populations_b3 -i 109\n",
      "ustacks -t fastq -f Data_Inventory/Populations/Asian/Combined/PAMUR11_0018_comb.fq -r --model_type bounded --bound_low 0 --bound_high 0.05 -o Pop_analysis/Populations_b3 -i 110\n",
      "ustacks -t fastq -f Data_Inventory/Populations/Asian/Combined/PAMUR11_0019_comb.fq -r --model_type bounded --bound_low 0 --bound_high 0.05 -o Pop_analysis/Populations_b3 -i 111\n",
      "ustacks -t fastq -f Data_Inventory/Populations/Asian/Combined/PAMUR11_0020_comb.fq -r --model_type bounded --bound_low 0 --bound_high 0.05 -o Pop_analysis/Populations_b3 -i 112\n",
      "ustacks -t fastq -f Data_Inventory/Populations/Asian/Combined/PAMUR11_0021_comb.fq -r --model_type bounded --bound_low 0 --bound_high 0.05 -o Pop_analysis/Populations_b3 -i 113\n",
      "ustacks -t fastq -f Data_Inventory/Populations/Asian/Combined/PAMUR11_0022_comb.fq -r --model_type bounded --bound_low 0 --bound_high 0.05 -o Pop_analysis/Populations_b3 -i 114\n",
      "ustacks -t fastq -f Data_Inventory/Populations/Asian/Combined/PAMUR11_0023_comb.fq -r --model_type bounded --bound_low 0 --bound_high 0.05 -o Pop_analysis/Populations_b3 -i 115\n",
      "ustacks -t fastq -f Data_Inventory/Populations/Asian/Combined/PAMUR11_0024_comb.fq -r --model_type bounded --bound_low 0 --bound_high 0.05 -o Pop_analysis/Populations_b3 -i 116\n",
      "ustacks -t fastq -f Data_Inventory/Populations/Asian/Combined/PAMUR11_0026_comb.fq -r --model_type bounded --bound_low 0 --bound_high 0.05 -o Pop_analysis/Populations_b3 -i 117\n",
      "ustacks -t fastq -f Data_Inventory/Populations/Asian/Combined/PAMUR11_0029_comb.fq -r --model_type bounded --bound_low 0 --bound_high 0.05 -o Pop_analysis/Populations_b3 -i 118\n",
      "ustacks -t fastq -f Data_Inventory/Populations/Asian/Combined/PAMUR11_0030_comb.fq -r --model_type bounded --bound_low 0 --bound_high 0.05 -o Pop_analysis/Populations_b3 -i 119\n",
      "ustacks -t fastq -f Data_Inventory/Populations/Asian/Combined/PAMUR11_0031_comb.fq -r --model_type bounded --bound_low 0 --bound_high 0.05 -o Pop_analysis/Populations_b3 -i 120\n",
      "ustacks -t fastq -f Data_Inventory/Populations/Asian/Combined/PAMUR11_0032_comb.fq -r --model_type bounded --bound_low 0 --bound_high 0.05 -o Pop_analysis/Populations_b3 -i 121\n",
      "ustacks -t fastq -f Data_Inventory/Populations/Asian/Combined/PAMUR11_0033_comb.fq -r --model_type bounded --bound_low 0 --bound_high 0.05 -o Pop_analysis/Populations_b3 -i 122\n",
      "ustacks -t fastq -f Data_Inventory/Populations/Asian/Combined/PHAYLY09_0010_comb.fq -r --model_type bounded --bound_low 0 --bound_high 0.05 -o Pop_analysis/Populations_b3 -i 123\n",
      "ustacks -t fastq -f Data_Inventory/Populations/Asian/Combined/PHAYLY09_0011_comb.fq -r --model_type bounded --bound_low 0 --bound_high 0.05 -o Pop_analysis/Populations_b3 -i 124\n",
      "ustacks -t fastq -f Data_Inventory/Populations/Asian/Combined/PHAYLY09_0012_comb.fq -r --model_type bounded --bound_low 0 --bound_high 0.05 -o Pop_analysis/Populations_b3 -i 125\n",
      "ustacks -t fastq -f Data_Inventory/Populations/Asian/Combined/PHAYLY09_0013_comb.fq -r --model_type bounded --bound_low 0 --bound_high 0.05 -o Pop_analysis/Populations_b3 -i 126\n",
      "ustacks -t fastq -f Data_Inventory/Populations/Asian/Combined/PHAYLY09_0014_comb.fq -r --model_type bounded --bound_low 0 --bound_high 0.05 -o Pop_analysis/Populations_b3 -i 127\n",
      "ustacks -t fastq -f Data_Inventory/Populations/Asian/Combined/PHAYLY09_0015_comb.fq -r --model_type bounded --bound_low 0 --bound_high 0.05 -o Pop_analysis/Populations_b3 -i 128\n",
      "ustacks -t fastq -f Data_Inventory/Populations/Asian/Combined/PHAYLY09_0016_comb.fq -r --model_type bounded --bound_low 0 --bound_high 0.05 -o Pop_analysis/Populations_b3 -i 129\n",
      "ustacks -t fastq -f Data_Inventory/Populations/Asian/Combined/PHAYLY09_0017_comb.fq -r --model_type bounded --bound_low 0 --bound_high 0.05 -o Pop_analysis/Populations_b3 -i 130\n",
      "ustacks -t fastq -f Data_Inventory/Populations/Asian/Combined/PHAYLY09_0018_comb.fq -r --model_type bounded --bound_low 0 --bound_high 0.05 -o Pop_analysis/Populations_b3 -i 131\n",
      "ustacks -t fastq -f Data_Inventory/Populations/Asian/Combined/PHAYLY09_0019_comb.fq -r --model_type bounded --bound_low 0 --bound_high 0.05 -o Pop_analysis/Populations_b3 -i 132\n",
      "ustacks -t fastq -f Data_Inventory/Populations/Asian/Combined/PHAYLY09_0021_comb.fq -r --model_type bounded --bound_low 0 --bound_high 0.05 -o Pop_analysis/Populations_b3 -i 133\n",
      "ustacks -t fastq -f Data_Inventory/Populations/Asian/Combined/PHAYLY09_0022_comb.fq -r --model_type bounded --bound_low 0 --bound_high 0.05 -o Pop_analysis/Populations_b3 -i 134\n",
      "ustacks -t fastq -f Data_Inventory/Populations/Asian/Combined/PHAYLY09_0023_comb.fq -r --model_type bounded --bound_low 0 --bound_high 0.05 -o Pop_analysis/Populations_b3 -i 135\n",
      "ustacks -t fastq -f Data_Inventory/Populations/Asian/Combined/PHAYLY09_0025_comb.fq -r --model_type bounded --bound_low 0 --bound_high 0.05 -o Pop_analysis/Populations_b3 -i 136\n",
      "ustacks -t fastq -f Data_Inventory/Populations/Asian/Combined/PHAYLY09_0026_comb.fq -r --model_type bounded --bound_low 0 --bound_high 0.05 -o Pop_analysis/Populations_b3 -i 137\n",
      "ustacks -t fastq -f Data_Inventory/Populations/Asian/Combined/PHAYLY09_0027_comb.fq -r --model_type bounded --bound_low 0 --bound_high 0.05 -o Pop_analysis/Populations_b3 -i 138\n",
      "ustacks -t fastq -f Data_Inventory/Populations/Asian/Combined/PHAYLY09_0028_comb.fq -r --model_type bounded --bound_low 0 --bound_high 0.05 -o Pop_analysis/Populations_b3 -i 139\n",
      "ustacks -t fastq -f Data_Inventory/Populations/Asian/Combined/PHAYLY09_0029_comb.fq -r --model_type bounded --bound_low 0 --bound_high 0.05 -o Pop_analysis/Populations_b3 -i 140\n",
      "ustacks -t fastq -f Data_Inventory/Populations/Asian/Combined/PHAYLY09_0030_comb.fq -r --model_type bounded --bound_low 0 --bound_high 0.05 -o Pop_analysis/Populations_b3 -i 141\n",
      "ustacks -t fastq -f Data_Inventory/Populations/Asian/Combined/PHAYLY09_0034_comb.fq -r --model_type bounded --bound_low 0 --bound_high 0.05 -o Pop_analysis/Populations_b3 -i 142\n",
      "ustacks -t fastq -f Data_Inventory/Populations/Asian/Combined/PHAYLY09_0036_comb.fq -r --model_type bounded --bound_low 0 --bound_high 0.05 -o Pop_analysis/Populations_b3 -i 143\n",
      "ustacks -t fastq -f Data_Inventory/Populations/Asian/Combined/PHAYLY09_0037_comb.fq -r --model_type bounded --bound_low 0 --bound_high 0.05 -o Pop_analysis/Populations_b3 -i 144\n",
      "ustacks -t fastq -f Data_Inventory/Populations/Asian/Combined/PHAYLY09_0038_comb.fq -r --model_type bounded --bound_low 0 --bound_high 0.05 -o Pop_analysis/Populations_b3 -i 145\n",
      "ustacks -t fastq -f Data_Inventory/Populations/Asian/Combined/PHAYLY09_0041_comb.fq -r --model_type bounded --bound_low 0 --bound_high 0.05 -o Pop_analysis/Populations_b3 -i 146\n",
      "ustacks -t fastq -f Data_Inventory/Populations/Asian/Combined/PHAYLY09_0042_comb.fq -r --model_type bounded --bound_low 0 --bound_high 0.05 -o Pop_analysis/Populations_b3 -i 147\n",
      "ustacks -t fastq -f Data_Inventory/Populations/Asian/Combined/PHAYLY09_0043_comb.fq -r --model_type bounded --bound_low 0 --bound_high 0.05 -o Pop_analysis/Populations_b3 -i 148\n",
      "ustacks -t fastq -f Data_Inventory/Populations/Asian/Combined/PHAYLY10_0004_comb.fq -r --model_type bounded --bound_low 0 --bound_high 0.05 -o Pop_analysis/Populations_b3 -i 149\n",
      "ustacks -t fastq -f Data_Inventory/Populations/Asian/Combined/PHAYLY10_0006_comb.fq -r --model_type bounded --bound_low 0 --bound_high 0.05 -o Pop_analysis/Populations_b3 -i 150\n",
      "ustacks -t fastq -f Data_Inventory/Populations/Asian/Combined/PHAYLY10_0007_comb.fq -r --model_type bounded --bound_low 0 --bound_high 0.05 -o Pop_analysis/Populations_b3 -i 151\n",
      "ustacks -t fastq -f Data_Inventory/Populations/Asian/Combined/PHAYLY10_0010_comb.fq -r --model_type bounded --bound_low 0 --bound_high 0.05 -o Pop_analysis/Populations_b3 -i 152\n",
      "ustacks -t fastq -f Data_Inventory/Populations/Asian/Combined/PHAYLY10_0011_comb.fq -r --model_type bounded --bound_low 0 --bound_high 0.05 -o Pop_analysis/Populations_b3 -i 153\n",
      "ustacks -t fastq -f Data_Inventory/Populations/Asian/Combined/PHAYLY10_0012_comb.fq -r --model_type bounded --bound_low 0 --bound_high 0.05 -o Pop_analysis/Populations_b3 -i 154\n",
      "ustacks -t fastq -f Data_Inventory/Populations/Asian/Combined/PHAYLY10_0014_comb.fq -r --model_type bounded --bound_low 0 --bound_high 0.05 -o Pop_analysis/Populations_b3 -i 155\n",
      "ustacks -t fastq -f Data_Inventory/Populations/Asian/Combined/PHAYLY10_0015_comb.fq -r --model_type bounded --bound_low 0 --bound_high 0.05 -o Pop_analysis/Populations_b3 -i 156\n",
      "ustacks -t fastq -f Data_Inventory/Populations/Asian/Combined/PHAYLY10_0017_comb.fq -r --model_type bounded --bound_low 0 --bound_high 0.05 -o Pop_analysis/Populations_b3 -i 157\n",
      "ustacks -t fastq -f Data_Inventory/Populations/Asian/Combined/PHAYLY10_0018_comb.fq -r --model_type bounded --bound_low 0 --bound_high 0.05 -o Pop_analysis/Populations_b3 -i 158\n",
      "ustacks -t fastq -f Data_Inventory/Populations/Asian/Combined/PHAYLY10_0020_comb.fq -r --model_type bounded --bound_low 0 --bound_high 0.05 -o Pop_analysis/Populations_b3 -i 159\n",
      "ustacks -t fastq -f Data_Inventory/Populations/Asian/Combined/PHAYLY10_0021_comb.fq -r --model_type bounded --bound_low 0 --bound_high 0.05 -o Pop_analysis/Populations_b3 -i 160\n",
      "ustacks -t fastq -f Data_Inventory/Populations/Asian/Combined/PHAYLY10_0023_comb.fq -r --model_type bounded --bound_low 0 --bound_high 0.05 -o Pop_analysis/Populations_b3 -i 161\n",
      "ustacks -t fastq -f Data_Inventory/Populations/Asian/Combined/PHAYLY10_0024_comb.fq -r --model_type bounded --bound_low 0 --bound_high 0.05 -o Pop_analysis/Populations_b3 -i 162\n",
      "ustacks -t fastq -f Data_Inventory/Populations/Asian/Combined/PHAYLY10_0026_comb.fq -r --model_type bounded --bound_low 0 --bound_high 0.05 -o Pop_analysis/Populations_b3 -i 163\n",
      "ustacks -t fastq -f Data_Inventory/Populations/Asian/Combined/PHAYLY10_0027_comb.fq -r --model_type bounded --bound_low 0 --bound_high 0.05 -o Pop_analysis/Populations_b3 -i 164\n",
      "ustacks -t fastq -f Data_Inventory/Populations/Asian/Combined/PHAYLY10_0029_comb.fq -r --model_type bounded --bound_low 0 --bound_high 0.05 -o Pop_analysis/Populations_b3 -i 165\n",
      "ustacks -t fastq -f Data_Inventory/Populations/Asian/Combined/PHAYLY10_0030_comb.fq -r --model_type bounded --bound_low 0 --bound_high 0.05 -o Pop_analysis/Populations_b3 -i 166\n",
      "ustacks -t fastq -f Data_Inventory/Populations/Asian/Combined/PHAYLY10_0032_comb.fq -r --model_type bounded --bound_low 0 --bound_high 0.05 -o Pop_analysis/Populations_b3 -i 167\n",
      "ustacks -t fastq -f Data_Inventory/Populations/Asian/Combined/PHAYLY10_0038_comb.fq -r --model_type bounded --bound_low 0 --bound_high 0.05 -o Pop_analysis/Populations_b3 -i 168\n",
      "ustacks -t fastq -f Data_Inventory/Populations/Asian/Combined/PHAYLY10_0046_comb.fq -r --model_type bounded --bound_low 0 --bound_high 0.05 -o Pop_analysis/Populations_b3 -i 169\n",
      "ustacks -t fastq -f Data_Inventory/Populations/Asian/Combined/PKUSHI06_0001_comb.fq -r --model_type bounded --bound_low 0 --bound_high 0.05 -o Pop_analysis/Populations_b3 -i 170\n",
      "ustacks -t fastq -f Data_Inventory/Populations/Asian/Combined/PKUSHI06_0003_comb.fq -r --model_type bounded --bound_low 0 --bound_high 0.05 -o Pop_analysis/Populations_b3 -i 171\n",
      "ustacks -t fastq -f Data_Inventory/Populations/Asian/Combined/PKUSHI06_0004_comb.fq -r --model_type bounded --bound_low 0 --bound_high 0.05 -o Pop_analysis/Populations_b3 -i 172\n",
      "ustacks -t fastq -f Data_Inventory/Populations/Asian/Combined/PKUSHI06_0005_comb.fq -r --model_type bounded --bound_low 0 --bound_high 0.05 -o Pop_analysis/Populations_b3 -i 173\n",
      "ustacks -t fastq -f Data_Inventory/Populations/Asian/Combined/PKUSHI06_0006_comb.fq -r --model_type bounded --bound_low 0 --bound_high 0.05 -o Pop_analysis/Populations_b3 -i 174\n",
      "ustacks -t fastq -f Data_Inventory/Populations/Asian/Combined/PKUSHI06_0007_comb.fq -r --model_type bounded --bound_low 0 --bound_high 0.05 -o Pop_analysis/Populations_b3 -i 175\n",
      "ustacks -t fastq -f Data_Inventory/Populations/Asian/Combined/PKUSHI06_0008_comb.fq -r --model_type bounded --bound_low 0 --bound_high 0.05 -o Pop_analysis/Populations_b3 -i 176\n",
      "ustacks -t fastq -f Data_Inventory/Populations/Asian/Combined/PKUSHI06_0009_comb.fq -r --model_type bounded --bound_low 0 --bound_high 0.05 -o Pop_analysis/Populations_b3 -i 177\n",
      "ustacks -t fastq -f Data_Inventory/Populations/Asian/Combined/PKUSHI06_0010_comb.fq -r --model_type bounded --bound_low 0 --bound_high 0.05 -o Pop_analysis/Populations_b3 -i 178\n",
      "ustacks -t fastq -f Data_Inventory/Populations/Asian/Combined/PKUSHI06_0011_comb.fq -r --model_type bounded --bound_low 0 --bound_high 0.05 -o Pop_analysis/Populations_b3 -i 179\n",
      "ustacks -t fastq -f Data_Inventory/Populations/Asian/Combined/PKUSHI06_0012_comb.fq -r --model_type bounded --bound_low 0 --bound_high 0.05 -o Pop_analysis/Populations_b3 -i 180\n",
      "ustacks -t fastq -f Data_Inventory/Populations/Asian/Combined/PKUSHI06_0014_comb.fq -r --model_type bounded --bound_low 0 --bound_high 0.05 -o Pop_analysis/Populations_b3 -i 181\n",
      "ustacks -t fastq -f Data_Inventory/Populations/Asian/Combined/PKUSHI06_0015_comb.fq -r --model_type bounded --bound_low 0 --bound_high 0.05 -o Pop_analysis/Populations_b3 -i 182\n",
      "ustacks -t fastq -f Data_Inventory/Populations/Asian/Combined/PKUSHI06_0018_comb.fq -r --model_type bounded --bound_low 0 --bound_high 0.05 -o Pop_analysis/Populations_b3 -i 183\n",
      "ustacks -t fastq -f Data_Inventory/Populations/Asian/Combined/PKUSHI06_0019_comb.fq -r --model_type bounded --bound_low 0 --bound_high 0.05 -o Pop_analysis/Populations_b3 -i 184\n",
      "ustacks -t fastq -f Data_Inventory/Populations/Asian/Combined/PKUSHI06_0020_comb.fq -r --model_type bounded --bound_low 0 --bound_high 0.05 -o Pop_analysis/Populations_b3 -i 185\n",
      "ustacks -t fastq -f Data_Inventory/Populations/Asian/Combined/PKUSHI06_0021_comb.fq -r --model_type bounded --bound_low 0 --bound_high 0.05 -o Pop_analysis/Populations_b3 -i 186\n",
      "ustacks -t fastq -f Data_Inventory/Populations/Asian/Combined/PKUSHI06_0022_comb.fq -r --model_type bounded --bound_low 0 --bound_high 0.05 -o Pop_analysis/Populations_b3 -i 187\n",
      "ustacks -t fastq -f Data_Inventory/Populations/Asian/Combined/PKUSHI06_0024_comb.fq -r --model_type bounded --bound_low 0 --bound_high 0.05 -o Pop_analysis/Populations_b3 -i 188\n",
      "ustacks -t fastq -f Data_Inventory/Populations/Asian/Combined/PKUSHI06_0026_comb.fq -r --model_type bounded --bound_low 0 --bound_high 0.05 -o Pop_analysis/Populations_b3 -i 189\n",
      "ustacks -t fastq -f Data_Inventory/Populations/Asian/Combined/PKUSHI06_0027_comb.fq -r --model_type bounded --bound_low 0 --bound_high 0.05 -o Pop_analysis/Populations_b3 -i 190\n",
      "ustacks -t fastq -f Data_Inventory/Populations/Asian/Combined/PKUSHI06_0028_comb.fq -r --model_type bounded --bound_low 0 --bound_high 0.05 -o Pop_analysis/Populations_b3 -i 191\n",
      "ustacks -t fastq -f Data_Inventory/Populations/Asian/Combined/PKUSHI06_0030_comb.fq -r --model_type bounded --bound_low 0 --bound_high 0.05 -o Pop_analysis/Populations_b3 -i 192\n",
      "ustacks -t fastq -f Data_Inventory/Populations/Asian/Combined/PKUSHI06_0031_comb.fq -r --model_type bounded --bound_low 0 --bound_high 0.05 -o Pop_analysis/Populations_b3 -i 193\n",
      "ustacks -t fastq -f Data_Inventory/Populations/Asian/Combined/PKUSHI06_0032_comb.fq -r --model_type bounded --bound_low 0 --bound_high 0.05 -o Pop_analysis/Populations_b3 -i 194\n",
      "ustacks -t fastq -f Data_Inventory/Populations/Asian/Combined/PKUSHI07_0001_comb.fq -r --model_type bounded --bound_low 0 --bound_high 0.05 -o Pop_analysis/Populations_b3 -i 195\n",
      "ustacks -t fastq -f Data_Inventory/Populations/Asian/Combined/PKUSHI07_0002_comb.fq -r --model_type bounded --bound_low 0 --bound_high 0.05 -o Pop_analysis/Populations_b3 -i 196\n",
      "ustacks -t fastq -f Data_Inventory/Populations/Asian/Combined/PKUSHI07_0003_comb.fq -r --model_type bounded --bound_low 0 --bound_high 0.05 -o Pop_analysis/Populations_b3 -i 197\n",
      "ustacks -t fastq -f Data_Inventory/Populations/Asian/Combined/PKUSHI07_0005_comb.fq -r --model_type bounded --bound_low 0 --bound_high 0.05 -o Pop_analysis/Populations_b3 -i 198\n",
      "ustacks -t fastq -f Data_Inventory/Populations/Asian/Combined/PKUSHI07_0006_comb.fq -r --model_type bounded --bound_low 0 --bound_high 0.05 -o Pop_analysis/Populations_b3 -i 199\n",
      "ustacks -t fastq -f Data_Inventory/Populations/Asian/Combined/PKUSHI07_0007_comb.fq -r --model_type bounded --bound_low 0 --bound_high 0.05 -o Pop_analysis/Populations_b3 -i 200\n",
      "ustacks -t fastq -f Data_Inventory/Populations/Asian/Combined/PKUSHI07_0008_comb.fq -r --model_type bounded --bound_low 0 --bound_high 0.05 -o Pop_analysis/Populations_b3 -i 201\n",
      "ustacks -t fastq -f Data_Inventory/Populations/Asian/Combined/PKUSHI07_0010_comb.fq -r --model_type bounded --bound_low 0 --bound_high 0.05 -o Pop_analysis/Populations_b3 -i 202\n",
      "ustacks -t fastq -f Data_Inventory/Populations/Asian/Combined/PKUSHI07_0011_comb.fq -r --model_type bounded --bound_low 0 --bound_high 0.05 -o Pop_analysis/Populations_b3 -i 203\n",
      "ustacks -t fastq -f Data_Inventory/Populations/Asian/Combined/PKUSHI07_0012_comb.fq -r --model_type bounded --bound_low 0 --bound_high 0.05 -o Pop_analysis/Populations_b3 -i 204\n",
      "ustacks -t fastq -f Data_Inventory/Populations/Asian/Combined/PKUSHI07_0016_comb.fq -r --model_type bounded --bound_low 0 --bound_high 0.05 -o Pop_analysis/Populations_b3 -i 205\n",
      "ustacks -t fastq -f Data_Inventory/Populations/Asian/Combined/PKUSHI07_0018_comb.fq -r --model_type bounded --bound_low 0 --bound_high 0.05 -o Pop_analysis/Populations_b3 -i 206\n",
      "ustacks -t fastq -f Data_Inventory/Populations/Asian/Combined/PKUSHI07_0020_comb.fq -r --model_type bounded --bound_low 0 --bound_high 0.05 -o Pop_analysis/Populations_b3 -i 207\n",
      "ustacks -t fastq -f Data_Inventory/Populations/Asian/Combined/PKUSHI07_0021_comb.fq -r --model_type bounded --bound_low 0 --bound_high 0.05 -o Pop_analysis/Populations_b3 -i 208\n",
      "ustacks -t fastq -f Data_Inventory/Populations/Asian/Combined/PKUSHI07_0024_comb.fq -r --model_type bounded --bound_low 0 --bound_high 0.05 -o Pop_analysis/Populations_b3 -i 209\n",
      "ustacks -t fastq -f Data_Inventory/Populations/Asian/Combined/PKUSHI07_0025_comb.fq -r --model_type bounded --bound_low 0 --bound_high 0.05 -o Pop_analysis/Populations_b3 -i 210\n",
      "ustacks -t fastq -f Data_Inventory/Populations/Asian/Combined/PKUSHI07_0027_comb.fq -r --model_type bounded --bound_low 0 --bound_high 0.05 -o Pop_analysis/Populations_b3 -i 211\n",
      "ustacks -t fastq -f Data_Inventory/Populations/Asian/Combined/PKUSHI07_0028_comb.fq -r --model_type bounded --bound_low 0 --bound_high 0.05 -o Pop_analysis/Populations_b3 -i 212\n",
      "ustacks -t fastq -f Data_Inventory/Populations/Asian/Combined/PKUSHI07_0029_comb.fq -r --model_type bounded --bound_low 0 --bound_high 0.05 -o Pop_analysis/Populations_b3 -i 213\n",
      "ustacks -t fastq -f Data_Inventory/Populations/Asian/Combined/PKUSHI07_0030_comb.fq -r --model_type bounded --bound_low 0 --bound_high 0.05 -o Pop_analysis/Populations_b3 -i 214\n",
      "ustacks -t fastq -f Data_Inventory/Populations/Asian/Combined/PKUSHI07_0031_comb.fq -r --model_type bounded --bound_low 0 --bound_high 0.05 -o Pop_analysis/Populations_b3 -i 215\n",
      "ustacks -t fastq -f Data_Inventory/Populations/Asian/Combined/PKUSHI07_0032_comb.fq -r --model_type bounded --bound_low 0 --bound_high 0.05 -o Pop_analysis/Populations_b3 -i 216\n",
      "ustacks -t fastq -f Data_Inventory/Populations/Asian/Combined/PTAUY09_0006_comb.fq -r --model_type bounded --bound_low 0 --bound_high 0.05 -o Pop_analysis/Populations_b3 -i 217\n",
      "ustacks -t fastq -f Data_Inventory/Populations/Asian/Combined/PTAUY09_0008_comb.fq -r --model_type bounded --bound_low 0 --bound_high 0.05 -o Pop_analysis/Populations_b3 -i 218\n",
      "ustacks -t fastq -f Data_Inventory/Populations/Asian/Combined/PTAUY09_0009_comb.fq -r --model_type bounded --bound_low 0 --bound_high 0.05 -o Pop_analysis/Populations_b3 -i 219\n",
      "ustacks -t fastq -f Data_Inventory/Populations/Asian/Combined/PTAUY09_0012_comb.fq -r --model_type bounded --bound_low 0 --bound_high 0.05 -o Pop_analysis/Populations_b3 -i 220\n",
      "ustacks -t fastq -f Data_Inventory/Populations/Asian/Combined/PTAUY09_0013_comb.fq -r --model_type bounded --bound_low 0 --bound_high 0.05 -o Pop_analysis/Populations_b3 -i 221\n",
      "ustacks -t fastq -f Data_Inventory/Populations/Asian/Combined/PTAUY09_0014_comb.fq -r --model_type bounded --bound_low 0 --bound_high 0.05 -o Pop_analysis/Populations_b3 -i 222\n",
      "ustacks -t fastq -f Data_Inventory/Populations/Asian/Combined/PTAUY09_0018_comb.fq -r --model_type bounded --bound_low 0 --bound_high 0.05 -o Pop_analysis/Populations_b3 -i 223\n",
      "ustacks -t fastq -f Data_Inventory/Populations/Asian/Combined/PTAUY09_0022_comb.fq -r --model_type bounded --bound_low 0 --bound_high 0.05 -o Pop_analysis/Populations_b3 -i 224\n",
      "ustacks -t fastq -f Data_Inventory/Populations/Asian/Combined/PTAUY09_0024_comb.fq -r --model_type bounded --bound_low 0 --bound_high 0.05 -o Pop_analysis/Populations_b3 -i 225\n",
      "ustacks -t fastq -f Data_Inventory/Populations/Asian/Combined/PTAUY09_0031_comb.fq -r --model_type bounded --bound_low 0 --bound_high 0.05 -o Pop_analysis/Populations_b3 -i 226\n",
      "ustacks -t fastq -f Data_Inventory/Populations/Asian/Combined/PTAUY09_0032_comb.fq -r --model_type bounded --bound_low 0 --bound_high 0.05 -o Pop_analysis/Populations_b3 -i 227\n",
      "ustacks -t fastq -f Data_Inventory/Populations/Asian/Combined/PTAUY09_0034_comb.fq -r --model_type bounded --bound_low 0 --bound_high 0.05 -o Pop_analysis/Populations_b3 -i 228\n",
      "ustacks -t fastq -f Data_Inventory/Populations/Asian/Combined/PTAUY09_0037_comb.fq -r --model_type bounded --bound_low 0 --bound_high 0.05 -o Pop_analysis/Populations_b3 -i 229\n",
      "ustacks -t fastq -f Data_Inventory/Populations/Asian/Combined/PTAUY09_0040_comb.fq -r --model_type bounded --bound_low 0 --bound_high 0.05 -o Pop_analysis/Populations_b3 -i 230\n",
      "ustacks -t fastq -f Data_Inventory/Populations/Asian/Combined/PTAUY09_0042_comb.fq -r --model_type bounded --bound_low 0 --bound_high 0.05 -o Pop_analysis/Populations_b3 -i 231\n",
      "ustacks -t fastq -f Data_Inventory/Populations/Asian/Combined/PTAUY09_0044_comb.fq -r --model_type bounded --bound_low 0 --bound_high 0.05 -o Pop_analysis/Populations_b3 -i 232\n",
      "ustacks -t fastq -f Data_Inventory/Populations/Asian/Combined/PTAUY12_0001_comb.fq -r --model_type bounded --bound_low 0 --bound_high 0.05 -o Pop_analysis/Populations_b3 -i 233\n",
      "ustacks -t fastq -f Data_Inventory/Populations/Asian/Combined/PTAUY12_0002_comb.fq -r --model_type bounded --bound_low 0 --bound_high 0.05 -o Pop_analysis/Populations_b3 -i 234\n",
      "ustacks -t fastq -f Data_Inventory/Populations/Asian/Combined/PTAUY12_0003_comb.fq -r --model_type bounded --bound_low 0 --bound_high 0.05 -o Pop_analysis/Populations_b3 -i 235\n",
      "ustacks -t fastq -f Data_Inventory/Populations/Asian/Combined/PTAUY12_0004_comb.fq -r --model_type bounded --bound_low 0 --bound_high 0.05 -o Pop_analysis/Populations_b3 -i 236\n",
      "ustacks -t fastq -f Data_Inventory/Populations/Asian/Combined/PTAUY12_0005_comb.fq -r --model_type bounded --bound_low 0 --bound_high 0.05 -o Pop_analysis/Populations_b3 -i 237\n",
      "ustacks -t fastq -f Data_Inventory/Populations/Asian/Combined/PTAUY12_0006_comb.fq -r --model_type bounded --bound_low 0 --bound_high 0.05 -o Pop_analysis/Populations_b3 -i 238\n",
      "ustacks -t fastq -f Data_Inventory/Populations/Asian/Combined/PTAUY12_0008_comb.fq -r --model_type bounded --bound_low 0 --bound_high 0.05 -o Pop_analysis/Populations_b3 -i 239\n",
      "ustacks -t fastq -f Data_Inventory/Populations/Asian/Combined/PTAUY12_0010_comb.fq -r --model_type bounded --bound_low 0 --bound_high 0.05 -o Pop_analysis/Populations_b3 -i 240\n",
      "ustacks -t fastq -f Data_Inventory/Populations/Asian/Combined/PTAUY12_0011_comb.fq -r --model_type bounded --bound_low 0 --bound_high 0.05 -o Pop_analysis/Populations_b3 -i 241\n",
      "ustacks -t fastq -f Data_Inventory/Populations/Asian/Combined/PTAUY12_0015_comb.fq -r --model_type bounded --bound_low 0 --bound_high 0.05 -o Pop_analysis/Populations_b3 -i 242\n",
      "ustacks -t fastq -f Data_Inventory/Populations/Asian/Combined/PTAUY12_0016_comb.fq -r --model_type bounded --bound_low 0 --bound_high 0.05 -o Pop_analysis/Populations_b3 -i 243\n",
      "ustacks -t fastq -f Data_Inventory/Populations/Asian/Combined/PTAUY12_0021_comb.fq -r --model_type bounded --bound_low 0 --bound_high 0.05 -o Pop_analysis/Populations_b3 -i 244\n",
      "ustacks -t fastq -f Data_Inventory/Populations/Asian/Combined/PTAUY12_0022_comb.fq -r --model_type bounded --bound_low 0 --bound_high 0.05 -o Pop_analysis/Populations_b3 -i 245\n",
      "ustacks -t fastq -f Data_Inventory/Populations/Asian/Combined/PTAUY12_0023_comb.fq -r --model_type bounded --bound_low 0 --bound_high 0.05 -o Pop_analysis/Populations_b3 -i 246\n",
      "ustacks -t fastq -f Data_Inventory/Populations/Asian/Combined/PTAUY12_0024_comb.fq -r --model_type bounded --bound_low 0 --bound_high 0.05 -o Pop_analysis/Populations_b3 -i 247\n",
      "ustacks -t fastq -f Data_Inventory/Populations/Asian/Combined/PTAUY12_0025_comb.fq -r --model_type bounded --bound_low 0 --bound_high 0.05 -o Pop_analysis/Populations_b3 -i 248\n",
      "ustacks -t fastq -f Data_Inventory/Populations/Asian/Combined/PTAUY12_0026_comb.fq -r --model_type bounded --bound_low 0 --bound_high 0.05 -o Pop_analysis/Populations_b3 -i 249\n",
      "ustacks -t fastq -f Data_Inventory/Populations/Asian/Combined/PTAUY12_0030_comb.fq -r --model_type bounded --bound_low 0 --bound_high 0.05 -o Pop_analysis/Populations_b3 -i 250\n",
      "ustacks -t fastq -f Data_Inventory/Populations/Asian/Combined/PTAUY12_0031_comb.fq -r --model_type bounded --bound_low 0 --bound_high 0.05 -o Pop_analysis/Populations_b3 -i 251\n",
      "ustacks -t fastq -f Data_Inventory/Populations/Asian/Combined/PTAUY12_0032_comb.fq -r --model_type bounded --bound_low 0 --bound_high 0.05 -o Pop_analysis/Populations_b3 -i 252\n",
      "ustacks -t fastq -f Data_Inventory/Populations/Asian/Combined/PTAUY12_0034_comb.fq -r --model_type bounded --bound_low 0 --bound_high 0.05 -o Pop_analysis/Populations_b3 -i 253\n",
      "ustacks -t fastq -f Data_Inventory/Populations/Asian/Combined/PTAUY12_0035_comb.fq -r --model_type bounded --bound_low 0 --bound_high 0.05 -o Pop_analysis/Populations_b3 -i 254\n",
      "ustacks -t fastq -f Data_Inventory/Populations/Asian/Combined/PTAUY12_0036_comb.fq -r --model_type bounded --bound_low 0 --bound_high 0.05 -o Pop_analysis/Populations_b3 -i 255\n",
      "ustacks -t fastq -f Data_Inventory/Populations/Asian/Combined/PTAUY12_0041_comb.fq -r --model_type bounded --bound_low 0 --bound_high 0.05 -o Pop_analysis/Populations_b3 -i 256\n",
      "ustacks -t fastq -f Data_Inventory/Populations/New_NA/PKOPE91T_0001.fq -r --model_type bounded --bound_low 0 --bound_high 0.05 -o Pop_analysis/Populations_b3 -i 257\n",
      "ustacks -t fastq -f Data_Inventory/Populations/New_NA/PKOPE91T_0002.fq -r --model_type bounded --bound_low 0 --bound_high 0.05 -o Pop_analysis/Populations_b3 -i 258\n",
      "ustacks -t fastq -f Data_Inventory/Populations/New_NA/PKOPE91T_0003.fq -r --model_type bounded --bound_low 0 --bound_high 0.05 -o Pop_analysis/Populations_b3 -i 259\n",
      "ustacks -t fastq -f Data_Inventory/Populations/New_NA/PKOPE91T_0005.fq -r --model_type bounded --bound_low 0 --bound_high 0.05 -o Pop_analysis/Populations_b3 -i 260\n",
      "ustacks -t fastq -f Data_Inventory/Populations/New_NA/PKOPE91T_0006.fq -r --model_type bounded --bound_low 0 --bound_high 0.05 -o Pop_analysis/Populations_b3 -i 261\n",
      "ustacks -t fastq -f Data_Inventory/Populations/New_NA/PKOPE91T_0007.fq -r --model_type bounded --bound_low 0 --bound_high 0.05 -o Pop_analysis/Populations_b3 -i 262\n",
      "ustacks -t fastq -f Data_Inventory/Populations/New_NA/PKOPE91T_0009.fq -r --model_type bounded --bound_low 0 --bound_high 0.05 -o Pop_analysis/Populations_b3 -i 263\n",
      "ustacks -t fastq -f Data_Inventory/Populations/New_NA/PKOPE91T_0010.fq -r --model_type bounded --bound_low 0 --bound_high 0.05 -o Pop_analysis/Populations_b3 -i 264\n",
      "ustacks -t fastq -f Data_Inventory/Populations/New_NA/PKOPE91T_0011.fq -r --model_type bounded --bound_low 0 --bound_high 0.05 -o Pop_analysis/Populations_b3 -i 265\n",
      "ustacks -t fastq -f Data_Inventory/Populations/New_NA/PKOPE91T_0013.fq -r --model_type bounded --bound_low 0 --bound_high 0.05 -o Pop_analysis/Populations_b3 -i 266\n",
      "ustacks -t fastq -f Data_Inventory/Populations/New_NA/PKOPE91T_0014.fq -r --model_type bounded --bound_low 0 --bound_high 0.05 -o Pop_analysis/Populations_b3 -i 267\n",
      "ustacks -t fastq -f Data_Inventory/Populations/New_NA/PKOPE91T_0015.fq -r --model_type bounded --bound_low 0 --bound_high 0.05 -o Pop_analysis/Populations_b3 -i 268\n",
      "ustacks -t fastq -f Data_Inventory/Populations/New_NA/PKOPE91T_0016.fq -r --model_type bounded --bound_low 0 --bound_high 0.05 -o Pop_analysis/Populations_b3 -i 269\n",
      "ustacks -t fastq -f Data_Inventory/Populations/New_NA/PKOPE91T_0017.fq -r --model_type bounded --bound_low 0 --bound_high 0.05 -o Pop_analysis/Populations_b3 -i 270\n",
      "ustacks -t fastq -f Data_Inventory/Populations/New_NA/PKOPE91T_0018.fq -r --model_type bounded --bound_low 0 --bound_high 0.05 -o Pop_analysis/Populations_b3 -i 271\n",
      "ustacks -t fastq -f Data_Inventory/Populations/New_NA/PKOPE91T_0019.fq -r --model_type bounded --bound_low 0 --bound_high 0.05 -o Pop_analysis/Populations_b3 -i 272\n",
      "ustacks -t fastq -f Data_Inventory/Populations/New_NA/PKOPE91T_0020.fq -r --model_type bounded --bound_low 0 --bound_high 0.05 -o Pop_analysis/Populations_b3 -i 273\n",
      "ustacks -t fastq -f Data_Inventory/Populations/New_NA/PKOPE91T_0024.fq -r --model_type bounded --bound_low 0 --bound_high 0.05 -o Pop_analysis/Populations_b3 -i 274\n",
      "ustacks -t fastq -f Data_Inventory/Populations/New_NA/PKOPE91T_0025.fq -r --model_type bounded --bound_low 0 --bound_high 0.05 -o Pop_analysis/Populations_b3 -i 275\n",
      "ustacks -t fastq -f Data_Inventory/Populations/New_NA/PKOPE91T_0026.fq -r --model_type bounded --bound_low 0 --bound_high 0.05 -o Pop_analysis/Populations_b3 -i 276\n",
      "ustacks -t fastq -f Data_Inventory/Populations/New_NA/PKOPE91T_0029.fq -r --model_type bounded --bound_low 0 --bound_high 0.05 -o Pop_analysis/Populations_b3 -i 277\n",
      "ustacks -t fastq -f Data_Inventory/Populations/New_NA/PKOPE91T_0035.fq -r --model_type bounded --bound_low 0 --bound_high 0.05 -o Pop_analysis/Populations_b3 -i 278\n",
      "ustacks -t fastq -f Data_Inventory/Populations/New_NA/PKOPE91T_0036.fq -r --model_type bounded --bound_low 0 --bound_high 0.05 -o Pop_analysis/Populations_b3 -i 279\n",
      "ustacks -t fastq -f Data_Inventory/Populations/New_NA/PKOPE91T_0037.fq -r --model_type bounded --bound_low 0 --bound_high 0.05 -o Pop_analysis/Populations_b3 -i 280\n",
      "ustacks -t fastq -f Data_Inventory/Populations/New_NA/PKOPE96T_0001.fq -r --model_type bounded --bound_low 0 --bound_high 0.05 -o Pop_analysis/Populations_b3 -i 281\n",
      "ustacks -t fastq -f Data_Inventory/Populations/New_NA/PKOPE96T_0002.fq -r --model_type bounded --bound_low 0 --bound_high 0.05 -o Pop_analysis/Populations_b3 -i 282\n",
      "ustacks -t fastq -f Data_Inventory/Populations/New_NA/PKOPE96T_0003.fq -r --model_type bounded --bound_low 0 --bound_high 0.05 -o Pop_analysis/Populations_b3 -i 283\n",
      "ustacks -t fastq -f Data_Inventory/Populations/New_NA/PKOPE96T_0004.fq -r --model_type bounded --bound_low 0 --bound_high 0.05 -o Pop_analysis/Populations_b3 -i 284\n",
      "ustacks -t fastq -f Data_Inventory/Populations/New_NA/PKOPE96T_0005.fq -r --model_type bounded --bound_low 0 --bound_high 0.05 -o Pop_analysis/Populations_b3 -i 285\n",
      "ustacks -t fastq -f Data_Inventory/Populations/New_NA/PKOPE96T_0006.fq -r --model_type bounded --bound_low 0 --bound_high 0.05 -o Pop_analysis/Populations_b3 -i 286\n",
      "ustacks -t fastq -f Data_Inventory/Populations/New_NA/PKOPE96T_0007.fq -r --model_type bounded --bound_low 0 --bound_high 0.05 -o Pop_analysis/Populations_b3 -i 287\n",
      "ustacks -t fastq -f Data_Inventory/Populations/New_NA/PKOPE96T_0008.fq -r --model_type bounded --bound_low 0 --bound_high 0.05 -o Pop_analysis/Populations_b3 -i 288\n",
      "ustacks -t fastq -f Data_Inventory/Populations/New_NA/PKOPE96T_0009.fq -r --model_type bounded --bound_low 0 --bound_high 0.05 -o Pop_analysis/Populations_b3 -i 289\n",
      "ustacks -t fastq -f Data_Inventory/Populations/New_NA/PKOPE96T_0010.fq -r --model_type bounded --bound_low 0 --bound_high 0.05 -o Pop_analysis/Populations_b3 -i 290\n",
      "ustacks -t fastq -f Data_Inventory/Populations/New_NA/PKOPE96T_0011.fq -r --model_type bounded --bound_low 0 --bound_high 0.05 -o Pop_analysis/Populations_b3 -i 291\n",
      "ustacks -t fastq -f Data_Inventory/Populations/New_NA/PKOPE96T_0012.fq -r --model_type bounded --bound_low 0 --bound_high 0.05 -o Pop_analysis/Populations_b3 -i 292\n",
      "ustacks -t fastq -f Data_Inventory/Populations/New_NA/PKOPE96T_0013.fq -r --model_type bounded --bound_low 0 --bound_high 0.05 -o Pop_analysis/Populations_b3 -i 293\n",
      "ustacks -t fastq -f Data_Inventory/Populations/New_NA/PKOPE96T_0014.fq -r --model_type bounded --bound_low 0 --bound_high 0.05 -o Pop_analysis/Populations_b3 -i 294\n",
      "ustacks -t fastq -f Data_Inventory/Populations/New_NA/PKOPE96T_0015.fq -r --model_type bounded --bound_low 0 --bound_high 0.05 -o Pop_analysis/Populations_b3 -i 295\n",
      "ustacks -t fastq -f Data_Inventory/Populations/New_NA/PKOPE96T_0016.fq -r --model_type bounded --bound_low 0 --bound_high 0.05 -o Pop_analysis/Populations_b3 -i 296\n",
      "ustacks -t fastq -f Data_Inventory/Populations/New_NA/PKOPE96T_0017.fq -r --model_type bounded --bound_low 0 --bound_high 0.05 -o Pop_analysis/Populations_b3 -i 297\n",
      "ustacks -t fastq -f Data_Inventory/Populations/New_NA/PKOPE96T_0018.fq -r --model_type bounded --bound_low 0 --bound_high 0.05 -o Pop_analysis/Populations_b3 -i 298\n",
      "ustacks -t fastq -f Data_Inventory/Populations/New_NA/PKOPE96T_0019.fq -r --model_type bounded --bound_low 0 --bound_high 0.05 -o Pop_analysis/Populations_b3 -i 299\n",
      "ustacks -t fastq -f Data_Inventory/Populations/New_NA/PKOPE96T_0020.fq -r --model_type bounded --bound_low 0 --bound_high 0.05 -o Pop_analysis/Populations_b3 -i 300\n",
      "ustacks -t fastq -f Data_Inventory/Populations/New_NA/PKOPE96T_0021.fq -r --model_type bounded --bound_low 0 --bound_high 0.05 -o Pop_analysis/Populations_b3 -i 301\n",
      "ustacks -t fastq -f Data_Inventory/Populations/New_NA/PKOPE96T_0022.fq -r --model_type bounded --bound_low 0 --bound_high 0.05 -o Pop_analysis/Populations_b3 -i 302\n",
      "ustacks -t fastq -f Data_Inventory/Populations/New_NA/PKOPE96T_0023.fq -r --model_type bounded --bound_low 0 --bound_high 0.05 -o Pop_analysis/Populations_b3 -i 303\n",
      "ustacks -t fastq -f Data_Inventory/Populations/New_NA/PKOPE96T_0024.fq -r --model_type bounded --bound_low 0 --bound_high 0.05 -o Pop_analysis/Populations_b3 -i 304\n",
      "ustacks -t fastq -f Data_Inventory/Populations/New_NA/PNOME91_0001.fq -r --model_type bounded --bound_low 0 --bound_high 0.05 -o Pop_analysis/Populations_b3 -i 305\n",
      "ustacks -t fastq -f Data_Inventory/Populations/New_NA/PNOME91_0002.fq -r --model_type bounded --bound_low 0 --bound_high 0.05 -o Pop_analysis/Populations_b3 -i 306\n",
      "ustacks -t fastq -f Data_Inventory/Populations/New_NA/PNOME91_0003.fq -r --model_type bounded --bound_low 0 --bound_high 0.05 -o Pop_analysis/Populations_b3 -i 307\n",
      "ustacks -t fastq -f Data_Inventory/Populations/New_NA/PNOME91_0004.fq -r --model_type bounded --bound_low 0 --bound_high 0.05 -o Pop_analysis/Populations_b3 -i 308\n",
      "ustacks -t fastq -f Data_Inventory/Populations/New_NA/PNOME91_0005.fq -r --model_type bounded --bound_low 0 --bound_high 0.05 -o Pop_analysis/Populations_b3 -i 309\n",
      "ustacks -t fastq -f Data_Inventory/Populations/New_NA/PNOME91_0008.fq -r --model_type bounded --bound_low 0 --bound_high 0.05 -o Pop_analysis/Populations_b3 -i 310\n",
      "ustacks -t fastq -f Data_Inventory/Populations/New_NA/PNOME91_0009.fq -r --model_type bounded --bound_low 0 --bound_high 0.05 -o Pop_analysis/Populations_b3 -i 311\n",
      "ustacks -t fastq -f Data_Inventory/Populations/New_NA/PNOME91_0010.fq -r --model_type bounded --bound_low 0 --bound_high 0.05 -o Pop_analysis/Populations_b3 -i 312\n",
      "ustacks -t fastq -f Data_Inventory/Populations/New_NA/PNOME91_0011.fq -r --model_type bounded --bound_low 0 --bound_high 0.05 -o Pop_analysis/Populations_b3 -i 313\n",
      "ustacks -t fastq -f Data_Inventory/Populations/New_NA/PNOME91_0013.fq -r --model_type bounded --bound_low 0 --bound_high 0.05 -o Pop_analysis/Populations_b3 -i 314\n",
      "ustacks -t fastq -f Data_Inventory/Populations/New_NA/PNOME91_0014.fq -r --model_type bounded --bound_low 0 --bound_high 0.05 -o Pop_analysis/Populations_b3 -i 315\n",
      "ustacks -t fastq -f Data_Inventory/Populations/New_NA/PNOME91_0015.fq -r --model_type bounded --bound_low 0 --bound_high 0.05 -o Pop_analysis/Populations_b3 -i 316\n",
      "ustacks -t fastq -f Data_Inventory/Populations/New_NA/PNOME91_0016.fq -r --model_type bounded --bound_low 0 --bound_high 0.05 -o Pop_analysis/Populations_b3 -i 317\n",
      "ustacks -t fastq -f Data_Inventory/Populations/New_NA/PNOME91_0017.fq -r --model_type bounded --bound_low 0 --bound_high 0.05 -o Pop_analysis/Populations_b3 -i 318\n",
      "ustacks -t fastq -f Data_Inventory/Populations/New_NA/PNOME91_0018.fq -r --model_type bounded --bound_low 0 --bound_high 0.05 -o Pop_analysis/Populations_b3 -i 319\n",
      "ustacks -t fastq -f Data_Inventory/Populations/New_NA/PNOME91_0021.fq -r --model_type bounded --bound_low 0 --bound_high 0.05 -o Pop_analysis/Populations_b3 -i 320\n",
      "ustacks -t fastq -f Data_Inventory/Populations/New_NA/PNOME91_0025.fq -r --model_type bounded --bound_low 0 --bound_high 0.05 -o Pop_analysis/Populations_b3 -i 321\n",
      "ustacks -t fastq -f Data_Inventory/Populations/New_NA/PNOME91_0026.fq -r --model_type bounded --bound_low 0 --bound_high 0.05 -o Pop_analysis/Populations_b3 -i 322\n",
      "ustacks -t fastq -f Data_Inventory/Populations/New_NA/PNOME91_0027.fq -r --model_type bounded --bound_low 0 --bound_high 0.05 -o Pop_analysis/Populations_b3 -i 323\n",
      "ustacks -t fastq -f Data_Inventory/Populations/New_NA/PNOME91_0028.fq -r --model_type bounded --bound_low 0 --bound_high 0.05 -o Pop_analysis/Populations_b3 -i 324\n",
      "ustacks -t fastq -f Data_Inventory/Populations/New_NA/PNOME91_0030.fq -r --model_type bounded --bound_low 0 --bound_high 0.05 -o Pop_analysis/Populations_b3 -i 325\n",
      "ustacks -t fastq -f Data_Inventory/Populations/New_NA/PNOME91_0031.fq -r --model_type bounded --bound_low 0 --bound_high 0.05 -o Pop_analysis/Populations_b3 -i 326\n",
      "ustacks -t fastq -f Data_Inventory/Populations/New_NA/PNOME91_0032.fq -r --model_type bounded --bound_low 0 --bound_high 0.05 -o Pop_analysis/Populations_b3 -i 327\n",
      "ustacks -t fastq -f Data_Inventory/Populations/New_NA/PNOME91_0033.fq -r --model_type bounded --bound_low 0 --bound_high 0.05 -o Pop_analysis/Populations_b3 -i 328\n",
      "ustacks -t fastq -f Data_Inventory/Populations/New_NA/PNOME94_0001.fq -r --model_type bounded --bound_low 0 --bound_high 0.05 -o Pop_analysis/Populations_b3 -i 329\n",
      "ustacks -t fastq -f Data_Inventory/Populations/New_NA/PNOME94_0002.fq -r --model_type bounded --bound_low 0 --bound_high 0.05 -o Pop_analysis/Populations_b3 -i 330\n",
      "ustacks -t fastq -f Data_Inventory/Populations/New_NA/PNOME94_0003.fq -r --model_type bounded --bound_low 0 --bound_high 0.05 -o Pop_analysis/Populations_b3 -i 331\n",
      "ustacks -t fastq -f Data_Inventory/Populations/New_NA/PNOME94_0004.fq -r --model_type bounded --bound_low 0 --bound_high 0.05 -o Pop_analysis/Populations_b3 -i 332\n",
      "ustacks -t fastq -f Data_Inventory/Populations/New_NA/PNOME94_0005.fq -r --model_type bounded --bound_low 0 --bound_high 0.05 -o Pop_analysis/Populations_b3 -i 333\n",
      "ustacks -t fastq -f Data_Inventory/Populations/New_NA/PNOME94_0006.fq -r --model_type bounded --bound_low 0 --bound_high 0.05 -o Pop_analysis/Populations_b3 -i 334\n",
      "ustacks -t fastq -f Data_Inventory/Populations/New_NA/PNOME94_0007.fq -r --model_type bounded --bound_low 0 --bound_high 0.05 -o Pop_analysis/Populations_b3 -i 335\n",
      "ustacks -t fastq -f Data_Inventory/Populations/New_NA/PNOME94_0008.fq -r --model_type bounded --bound_low 0 --bound_high 0.05 -o Pop_analysis/Populations_b3 -i 336\n",
      "ustacks -t fastq -f Data_Inventory/Populations/New_NA/PNOME94_0009.fq -r --model_type bounded --bound_low 0 --bound_high 0.05 -o Pop_analysis/Populations_b3 -i 337\n",
      "ustacks -t fastq -f Data_Inventory/Populations/New_NA/PNOME94_0010.fq -r --model_type bounded --bound_low 0 --bound_high 0.05 -o Pop_analysis/Populations_b3 -i 338\n",
      "ustacks -t fastq -f Data_Inventory/Populations/New_NA/PNOME94_0011.fq -r --model_type bounded --bound_low 0 --bound_high 0.05 -o Pop_analysis/Populations_b3 -i 339\n",
      "ustacks -t fastq -f Data_Inventory/Populations/New_NA/PNOME94_0012.fq -r --model_type bounded --bound_low 0 --bound_high 0.05 -o Pop_analysis/Populations_b3 -i 340\n",
      "ustacks -t fastq -f Data_Inventory/Populations/New_NA/PNOME94_0013.fq -r --model_type bounded --bound_low 0 --bound_high 0.05 -o Pop_analysis/Populations_b3 -i 341\n",
      "ustacks -t fastq -f Data_Inventory/Populations/New_NA/PNOME94_0014.fq -r --model_type bounded --bound_low 0 --bound_high 0.05 -o Pop_analysis/Populations_b3 -i 342\n",
      "ustacks -t fastq -f Data_Inventory/Populations/New_NA/PNOME94_0015.fq -r --model_type bounded --bound_low 0 --bound_high 0.05 -o Pop_analysis/Populations_b3 -i 343\n",
      "ustacks -t fastq -f Data_Inventory/Populations/New_NA/PNOME94_0016.fq -r --model_type bounded --bound_low 0 --bound_high 0.05 -o Pop_analysis/Populations_b3 -i 344\n",
      "ustacks -t fastq -f Data_Inventory/Populations/New_NA/PNOME94_0017.fq -r --model_type bounded --bound_low 0 --bound_high 0.05 -o Pop_analysis/Populations_b3 -i 345\n",
      "ustacks -t fastq -f Data_Inventory/Populations/New_NA/PNOME94_0018.fq -r --model_type bounded --bound_low 0 --bound_high 0.05 -o Pop_analysis/Populations_b3 -i 346\n",
      "ustacks -t fastq -f Data_Inventory/Populations/New_NA/PNOME94_0019.fq -r --model_type bounded --bound_low 0 --bound_high 0.05 -o Pop_analysis/Populations_b3 -i 347\n",
      "ustacks -t fastq -f Data_Inventory/Populations/New_NA/PNOME94_0020.fq -r --model_type bounded --bound_low 0 --bound_high 0.05 -o Pop_analysis/Populations_b3 -i 348\n",
      "ustacks -t fastq -f Data_Inventory/Populations/New_NA/PSNOH03_0005.fq -r --model_type bounded --bound_low 0 --bound_high 0.05 -o Pop_analysis/Populations_b3 -i 349\n",
      "ustacks -t fastq -f Data_Inventory/Populations/New_NA/PSNOH03_0016.fq -r --model_type bounded --bound_low 0 --bound_high 0.05 -o Pop_analysis/Populations_b3 -i 350\n",
      "ustacks -t fastq -f Data_Inventory/Populations/New_NA/PSNOH03_0017.fq -r --model_type bounded --bound_low 0 --bound_high 0.05 -o Pop_analysis/Populations_b3 -i 351\n",
      "ustacks -t fastq -f Data_Inventory/Populations/New_NA/PSNOH03_0019.fq -r --model_type bounded --bound_low 0 --bound_high 0.05 -o Pop_analysis/Populations_b3 -i 352\n",
      "ustacks -t fastq -f Data_Inventory/Populations/New_NA/PSNOH03_0021.fq -r --model_type bounded --bound_low 0 --bound_high 0.05 -o Pop_analysis/Populations_b3 -i 353\n",
      "ustacks -t fastq -f Data_Inventory/Populations/New_NA/PSNOH03_0024.fq -r --model_type bounded --bound_low 0 --bound_high 0.05 -o Pop_analysis/Populations_b3 -i 354\n",
      "ustacks -t fastq -f Data_Inventory/Populations/New_NA/PSNOH03_0027.fq -r --model_type bounded --bound_low 0 --bound_high 0.05 -o Pop_analysis/Populations_b3 -i 355\n",
      "ustacks -t fastq -f Data_Inventory/Populations/New_NA/PSNOH03_0029.fq -r --model_type bounded --bound_low 0 --bound_high 0.05 -o Pop_analysis/Populations_b3 -i 356\n",
      "ustacks -t fastq -f Data_Inventory/Populations/New_NA/PSNOH03_0039.fq -r --model_type bounded --bound_low 0 --bound_high 0.05 -o Pop_analysis/Populations_b3 -i 357\n",
      "ustacks -t fastq -f Data_Inventory/Populations/New_NA/PSNOH03_0043.fq -r --model_type bounded --bound_low 0 --bound_high 0.05 -o Pop_analysis/Populations_b3 -i 358\n",
      "ustacks -t fastq -f Data_Inventory/Populations/New_NA/PSNOH03_0046.fq -r --model_type bounded --bound_low 0 --bound_high 0.05 -o Pop_analysis/Populations_b3 -i 359\n",
      "ustacks -t fastq -f Data_Inventory/Populations/New_NA/PSNOH03_0063.fq -r --model_type bounded --bound_low 0 --bound_high 0.05 -o Pop_analysis/Populations_b3 -i 360\n",
      "ustacks -t fastq -f Data_Inventory/Populations/New_NA/PSNOH03_0065.fq -r --model_type bounded --bound_low 0 --bound_high 0.05 -o Pop_analysis/Populations_b3 -i 361\n",
      "ustacks -t fastq -f Data_Inventory/Populations/New_NA/PSNOH03_0067.fq -r --model_type bounded --bound_low 0 --bound_high 0.05 -o Pop_analysis/Populations_b3 -i 362\n",
      "ustacks -t fastq -f Data_Inventory/Populations/New_NA/PSNOH03_0074.fq -r --model_type bounded --bound_low 0 --bound_high 0.05 -o Pop_analysis/Populations_b3 -i 363\n",
      "ustacks -t fastq -f Data_Inventory/Populations/New_NA/PSNOH03_0075.fq -r --model_type bounded --bound_low 0 --bound_high 0.05 -o Pop_analysis/Populations_b3 -i 364\n",
      "ustacks -t fastq -f Data_Inventory/Populations/New_NA/PSNOH03_0076.fq -r --model_type bounded --bound_low 0 --bound_high 0.05 -o Pop_analysis/Populations_b3 -i 365\n",
      "ustacks -t fastq -f Data_Inventory/Populations/New_NA/PSNOH03_0078.fq -r --model_type bounded --bound_low 0 --bound_high 0.05 -o Pop_analysis/Populations_b3 -i 366\n",
      "ustacks -t fastq -f Data_Inventory/Populations/New_NA/PSNOH03_0079.fq -r --model_type bounded --bound_low 0 --bound_high 0.05 -o Pop_analysis/Populations_b3 -i 367\n",
      "ustacks -t fastq -f Data_Inventory/Populations/New_NA/PSNOH03_0081.fq -r --model_type bounded --bound_low 0 --bound_high 0.05 -o Pop_analysis/Populations_b3 -i 368\n",
      "ustacks -t fastq -f Data_Inventory/Populations/New_NA/PSNOH03_0082.fq -r --model_type bounded --bound_low 0 --bound_high 0.05 -o Pop_analysis/Populations_b3 -i 369\n",
      "ustacks -t fastq -f Data_Inventory/Populations/New_NA/PSNOH03_0088.fq -r --model_type bounded --bound_low 0 --bound_high 0.05 -o Pop_analysis/Populations_b3 -i 370\n",
      "ustacks -t fastq -f Data_Inventory/Populations/New_NA/PSNOH03_0090.fq -r --model_type bounded --bound_low 0 --bound_high 0.05 -o Pop_analysis/Populations_b3 -i 371\n",
      "ustacks -t fastq -f Data_Inventory/Populations/New_NA/PSNOH03_0095.fq -r --model_type bounded --bound_low 0 --bound_high 0.05 -o Pop_analysis/Populations_b3 -i 372\n",
      "ustacks -t fastq -f Data_Inventory/Populations/New_NA/PSNOH96_0003.fq -r --model_type bounded --bound_low 0 --bound_high 0.05 -o Pop_analysis/Populations_b3 -i 373\n",
      "ustacks -t fastq -f Data_Inventory/Populations/New_NA/PSNOH96_0004.fq -r --model_type bounded --bound_low 0 --bound_high 0.05 -o Pop_analysis/Populations_b3 -i 374\n",
      "ustacks -t fastq -f Data_Inventory/Populations/New_NA/PSNOH96_0005.fq -r --model_type bounded --bound_low 0 --bound_high 0.05 -o Pop_analysis/Populations_b3 -i 375\n",
      "ustacks -t fastq -f Data_Inventory/Populations/New_NA/PSNOH96_0006.fq -r --model_type bounded --bound_low 0 --bound_high 0.05 -o Pop_analysis/Populations_b3 -i 376\n",
      "ustacks -t fastq -f Data_Inventory/Populations/New_NA/PSNOH96_0007.fq -r --model_type bounded --bound_low 0 --bound_high 0.05 -o Pop_analysis/Populations_b3 -i 377\n",
      "ustacks -t fastq -f Data_Inventory/Populations/New_NA/PSNOH96_0008.fq -r --model_type bounded --bound_low 0 --bound_high 0.05 -o Pop_analysis/Populations_b3 -i 378\n",
      "ustacks -t fastq -f Data_Inventory/Populations/New_NA/PSNOH96_0009.fq -r --model_type bounded --bound_low 0 --bound_high 0.05 -o Pop_analysis/Populations_b3 -i 379\n",
      "ustacks -t fastq -f Data_Inventory/Populations/New_NA/PSNOH96_0010.fq -r --model_type bounded --bound_low 0 --bound_high 0.05 -o Pop_analysis/Populations_b3 -i 380\n",
      "ustacks -t fastq -f Data_Inventory/Populations/New_NA/PSNOH96_0011.fq -r --model_type bounded --bound_low 0 --bound_high 0.05 -o Pop_analysis/Populations_b3 -i 381\n",
      "ustacks -t fastq -f Data_Inventory/Populations/New_NA/PSNOH96_0012.fq -r --model_type bounded --bound_low 0 --bound_high 0.05 -o Pop_analysis/Populations_b3 -i 382\n",
      "ustacks -t fastq -f Data_Inventory/Populations/New_NA/PSNOH96_0013.fq -r --model_type bounded --bound_low 0 --bound_high 0.05 -o Pop_analysis/Populations_b3 -i 383\n",
      "ustacks -t fastq -f Data_Inventory/Populations/New_NA/PSNOH96_0014.fq -r --model_type bounded --bound_low 0 --bound_high 0.05 -o Pop_analysis/Populations_b3 -i 384\n",
      "ustacks -t fastq -f Data_Inventory/Populations/New_NA/PSNOH96_0015.fq -r --model_type bounded --bound_low 0 --bound_high 0.05 -o Pop_analysis/Populations_b3 -i 385\n",
      "ustacks -t fastq -f Data_Inventory/Populations/New_NA/PSNOH96_0016.fq -r --model_type bounded --bound_low 0 --bound_high 0.05 -o Pop_analysis/Populations_b3 -i 386\n",
      "ustacks -t fastq -f Data_Inventory/Populations/New_NA/PSNOH96_0017.fq -r --model_type bounded --bound_low 0 --bound_high 0.05 -o Pop_analysis/Populations_b3 -i 387\n",
      "ustacks -t fastq -f Data_Inventory/Populations/New_NA/PSNOH96_0018.fq -r --model_type bounded --bound_low 0 --bound_high 0.05 -o Pop_analysis/Populations_b3 -i 388\n",
      "ustacks -t fastq -f Data_Inventory/Populations/New_NA/PSNOH96_0019.fq -r --model_type bounded --bound_low 0 --bound_high 0.05 -o Pop_analysis/Populations_b3 -i 389\n",
      "ustacks -t fastq -f Data_Inventory/Populations/New_NA/PSNOH96_0021.fq -r --model_type bounded --bound_low 0 --bound_high 0.05 -o Pop_analysis/Populations_b3 -i 390\n",
      "ustacks -t fastq -f Data_Inventory/Populations/New_NA/PSNOH96_0022.fq -r --model_type bounded --bound_low 0 --bound_high 0.05 -o Pop_analysis/Populations_b3 -i 391\n",
      "ustacks -t fastq -f Data_Inventory/Populations/New_NA/PSNOH96_0023.fq -r --model_type bounded --bound_low 0 --bound_high 0.05 -o Pop_analysis/Populations_b3 -i 392\n",
      "ustacks -t fastq -f Data_Inventory/Populations/New_NA/PSNOH96_0024.fq -r --model_type bounded --bound_low 0 --bound_high 0.05 -o Pop_analysis/Populations_b3 -i 393\n",
      "ustacks -t fastq -f Data_Inventory/Populations/New_NA/PSNOH96_0025.fq -r --model_type bounded --bound_low 0 --bound_high 0.05 -o Pop_analysis/Populations_b3 -i 394\n",
      "ustacks -t fastq -f Data_Inventory/Populations/New_NA/PSNOH96_0027.fq -r --model_type bounded --bound_low 0 --bound_high 0.05 -o Pop_analysis/Populations_b3 -i 395\n",
      "ustacks -t fastq -f Data_Inventory/Populations/New_NA/PSNOH96_0028.fq -r --model_type bounded --bound_low 0 --bound_high 0.05 -o Pop_analysis/Populations_b3 -i 396\n",
      "\n",
      "\n"
     ],
     "language": "python",
     "metadata": {},
     "outputs": []
    },
    {
     "cell_type": "markdown",
     "metadata": {},
     "source": [
      "There was an earlier run of Ustacks that had some missing parameters, thats why the output file is a #2. Because these were run in a hurry, they were initially begun with the above file, all the samples together on my computer. But they werent running fast enough, only the first 179 were finished in a 24 hours, so they they were split up into three groups, the haploids (mapping samples) were run on Tylers computer, the population samples were run on Ryans and the samples used to make the catalog were run on mine. Below is the above file, but starting with sample 180, split into the three groups to be run on different computers."
     ]
    },
    {
     "cell_type": "code",
     "collapsed": false,
     "input": [
      "#ustacks shellscript for the catalog samples, made and run april 2015 on olympus from my computer\n",
      "#34 samples, the ones with -i below 179 were run last night \n",
      "\n",
      "#ustacks_cat2_april2015.sh\n",
      "\n",
      "ustacks -t fastq -f all/PKUSHI06_0030_comb.fq -r --model_type bounded --bound_low 0 --bound_high 0.05 -o all -i 192\n",
      "ustacks -t fastq -f all/PKUSHI07_0029_comb.fq -r --model_type bounded --bound_low 0 --bound_high 0.05 -o all -i 213\n",
      "ustacks -t fastq -f all/PKUSHI07_0031_comb.fq -r --model_type bounded --bound_low 0 --bound_high 0.05 -o all -i 215\n",
      "ustacks -t fastq -f all/PTAUY09_0042_comb.fq -r --model_type bounded --bound_low 0 --bound_high 0.05 -o all -i 231\n",
      "ustacks -t fastq -f all/PTAUY12_0041_comb.fq -r --model_type bounded --bound_low 0 --bound_high 0.05 -o all -i 256\n",
      "ustacks -t fastq -f all/PKOPE91T_0009.fq -r --model_type bounded --bound_low 0 --bound_high 0.05 -o all -i 263\n",
      "ustacks -t fastq -f all/PKOPE91T_0013.fq -r --model_type bounded --bound_low 0 --bound_high 0.05 -o all -i 266\n",
      "ustacks -t fastq -f all/PKOPE91T_0014.fq -r --model_type bounded --bound_low 0 --bound_high 0.05 -o all -i 267\n",
      "ustacks -t fastq -f all/PKOPE91T_0020.fq -r --model_type bounded --bound_low 0 --bound_high 0.05 -o all -i 273\n",
      "ustacks -t fastq -f all/PKOPE96T_0001.fq -r --model_type bounded --bound_low 0 --bound_high 0.05 -o all -i 281\n",
      "ustacks -t fastq -f all/PKOPE96T_0009.fq -r --model_type bounded --bound_low 0 --bound_high 0.05 -o all -i 289\n",
      "ustacks -t fastq -f all/PKOPE96T_0017.fq -r --model_type bounded --bound_low 0 --bound_high 0.05 -o all -i 297\n",
      "ustacks -t fastq -f all/PKOPE96T_0018.fq -r --model_type bounded --bound_low 0 --bound_high 0.05 -o all -i 298\n",
      "ustacks -t fastq -f all/PNOME91_0001.fq -r --model_type bounded --bound_low 0 --bound_high 0.05 -o all -i 305\n",
      "ustacks -t fastq -f all/PNOME91_0003.fq -r --model_type bounded --bound_low 0 --bound_high 0.05 -o all -i 307\n",
      "ustacks -t fastq -f all/PNOME91_0016.fq -r --model_type bounded --bound_low 0 --bound_high 0.05 -o all -i 317\n",
      "ustacks -t fastq -f all/PNOME91_0018.fq -r --model_type bounded --bound_low 0 --bound_high 0.05 -o all -i 319\n",
      "ustacks -t fastq -f all/PNOME94_0007.fq -r --model_type bounded --bound_low 0 --bound_high 0.05 -o all -i 335\n",
      "ustacks -t fastq -f all/PNOME94_0013.fq -r --model_type bounded --bound_low 0 --bound_high 0.05 -o all -i 341\n",
      "ustacks -t fastq -f all/PNOME94_0014.fq -r --model_type bounded --bound_low 0 --bound_high 0.05 -o all -i 342\n",
      "ustacks -t fastq -f all/PNOME94_0019.fq -r --model_type bounded --bound_low 0 --bound_high 0.05 -o all -i 347\n",
      "ustacks -t fastq -f all/PSNOH03_0017.fq -r --model_type bounded --bound_low 0 --bound_high 0.05 -o all -i 351\n",
      "ustacks -t fastq -f all/PSNOH03_0024.fq -r --model_type bounded --bound_low 0 --bound_high 0.05 -o all -i 354\n",
      "ustacks -t fastq -f all/PSNOH03_0043.fq -r --model_type bounded --bound_low 0 --bound_high 0.05 -o all -i 358\n",
      "ustacks -t fastq -f all/PSNOH03_0082.fq -r --model_type bounded --bound_low 0 --bound_high 0.05 -o all -i 369\n",
      "ustacks -t fastq -f all/PSNOH96_0011.fq -r --model_type bounded --bound_low 0 --bound_high 0.05 -o all -i 381\n",
      "ustacks -t fastq -f all/PSNOH96_0012.fq -r --model_type bounded --bound_low 0 --bound_high 0.05 -o all -i 382\n",
      "ustacks -t fastq -f all/PSNOH96_0013.fq -r --model_type bounded --bound_low 0 --bound_high 0.05 -o all -i 383\n",
      "ustacks -t fastq -f all/PSNOH96_0014.fq -r --model_type bounded --bound_low 0 --bound_high 0.05 -o all -i 384\n",
      "ustacks -t fastq -f all/PBIRD13X_0102_comb.fq -r --model_type bounded --bound_low 0 --bound_high 0.05 -o all -i 471\n",
      "ustacks -t fastq -f all/PBIRD13X_0108_comb.fq -r --model_type bounded --bound_low 0 --bound_high 0.05 -o all -i 543\n",
      "ustacks -t fastq -f all/PBIRD13X_0110_comb.fq -r --model_type bounded --bound_low 0 --bound_high 0.05 -o all -i 554\n",
      "ustacks -t fastq -f all/PHOOD11X_0001.fq -r --model_type bounded --bound_low 0 --bound_high 0.05 -o all -i 589\n",
      "ustacks -t fastq -f all/PHOOD11X_0005.fq -r --model_type bounded --bound_low 0 --bound_high 0.05 -o all -i 590"
     ],
     "language": "python",
     "metadata": {},
     "outputs": []
    },
    {
     "cell_type": "markdown",
     "metadata": {},
     "source": [
      "added the 6 files from the ustacks run that tyler did (3 for each of 2 samples) to this file, they will be used in cstacks."
     ]
    },
    {
     "cell_type": "markdown",
     "metadata": {},
     "source": [
      "#The sstacks command\n",
      "\n",
      "Sstacks was run on each file individually, but with a single shell script that called each file up. I used a shell script for a previous run of sstacks as a template. To get the sample names I wrote the contents of each of the files to a text file. The folder has copy of the renamed catalog within it to make the analysis more streamlined (batch_3). \n"
     ]
    },
    {
     "cell_type": "code",
     "collapsed": false,
     "input": [
      "#ustacks_sstacks_may.sh\n",
      "#may 13, 2015\n",
      "#sstacks\n",
      "\n",
      "sstacks -b 3 -c Populations_b3/batch_3 -s Populations_b3//PAMUR10_0001 -o Populations_b3\n",
      "sstacks -b 3 -c Populations_b3/batch_3 -s Populations_b3/PAMUR10_0002 -o Populations_b3\n",
      "sstacks -b 3 -c Populations_b3/batch_3 -s Populations_b3/PAMUR10_0003 -o Populations_b3\n",
      "sstacks -b 3 -c Populations_b3/batch_3 -s Populations_b3/PAMUR10_0004 -o Populations_b3\n",
      "sstacks -b 3 -c Populations_b3/batch_3 -s Populations_b3/PAMUR10_0005_comb -o Populations_b3\n",
      "sstacks -b 3 -c Populations_b3/batch_3 -s Populations_b3/PAMUR10_0006_comb -o Populations_b3\n",
      "sstacks -b 3 -c Populations_b3/batch_3 -s Populations_b3/PAMUR10_0007 -o Populations_b3\n",
      "sstacks -b 3 -c Populations_b3/batch_3 -s Populations_b3/PAMUR10_0008 -o Populations_b3\n",
      "sstacks -b 3 -c Populations_b3/batch_3 -s Populations_b3/PAMUR10_0009 -o Populations_b3\n",
      "sstacks -b 3 -c Populations_b3/batch_3 -s Populations_b3/PAMUR10_0010 -o Populations_b3\n",
      "sstacks -b 3 -c Populations_b3/batch_3 -s Populations_b3/PAMUR10_0011 -o Populations_b3\n",
      "sstacks -b 3 -c Populations_b3/batch_3 -s Populations_b3/PAMUR10_0012 -o Populations_b3\n",
      "sstacks -b 3 -c Populations_b3/batch_3 -s Populations_b3/PAMUR10_0013_comb -o Populations_b3\n",
      "sstacks -b 3 -c Populations_b3/batch_3 -s Populations_b3/PAMUR10_0014 -o Populations_b3\n",
      "sstacks -b 3 -c Populations_b3/batch_3 -s Populations_b3/PAMUR10_0015 -o Populations_b3\n",
      "sstacks -b 3 -c Populations_b3/batch_3 -s Populations_b3/PAMUR10_0016_comb -o Populations_b3\n",
      "sstacks -b 3 -c Populations_b3/batch_3 -s Populations_b3/PAMUR10_0017 -o Populations_b3\n",
      "sstacks -b 3 -c Populations_b3/batch_3 -s Populations_b3/PAMUR10_0018_comb -o Populations_b3\n",
      "sstacks -b 3 -c Populations_b3/batch_3 -s Populations_b3/PAMUR10_0019 -o Populations_b3\n",
      "sstacks -b 3 -c Populations_b3/batch_3 -s Populations_b3/PAMUR10_0020 -o Populations_b3\n",
      "sstacks -b 3 -c Populations_b3/batch_3 -s Populations_b3/PAMUR10_0021 -o Populations_b3\n",
      "sstacks -b 3 -c Populations_b3/batch_3 -s Populations_b3/PAMUR10_0022 -o Populations_b3\n",
      "sstacks -b 3 -c Populations_b3/batch_3 -s Populations_b3/PAMUR10_0023 -o Populations_b3\n",
      "sstacks -b 3 -c Populations_b3/batch_3 -s Populations_b3/PAMUR10_0024 -o Populations_b3\n",
      "sstacks -b 3 -c Populations_b3/batch_3 -s Populations_b3/PAMUR10_0025 -o Populations_b3\n",
      "sstacks -b 3 -c Populations_b3/batch_3 -s Populations_b3/PAMUR10_0026 -o Populations_b3\n",
      "sstacks -b 3 -c Populations_b3/batch_3 -s Populations_b3/PAMUR10_0027_comb -o Populations_b3\n",
      "sstacks -b 3 -c Populations_b3/batch_3 -s Populations_b3/PAMUR10_0028 -o Populations_b3\n",
      "sstacks -b 3 -c Populations_b3/batch_3 -s Populations_b3/PAMUR10_0029_comb -o Populations_b3\n",
      "sstacks -b 3 -c Populations_b3/batch_3 -s Populations_b3/PAMUR10_0030 -o Populations_b3\n",
      "sstacks -b 3 -c Populations_b3/batch_3 -s Populations_b3/PAMUR10_0031_comb -o Populations_b3\n",
      "sstacks -b 3 -c Populations_b3/batch_3 -s Populations_b3/PAMUR10_0032 -o Populations_b3\n",
      "sstacks -b 3 -c Populations_b3/batch_3 -s Populations_b3/PAMUR11_0001_comb -o Populations_b3\n",
      "sstacks -b 3 -c Populations_b3/batch_3 -s Populations_b3/PAMUR11_0002_comb -o Populations_b3\n",
      "sstacks -b 3 -c Populations_b3/batch_3 -s Populations_b3/PAMUR11_0003_comb -o Populations_b3\n",
      "sstacks -b 3 -c Populations_b3/batch_3 -s Populations_b3/PAMUR11_0004_comb -o Populations_b3\n",
      "sstacks -b 3 -c Populations_b3/batch_3 -s Populations_b3/PAMUR11_0005_comb -o Populations_b3\n",
      "sstacks -b 3 -c Populations_b3/batch_3 -s Populations_b3/PAMUR11_0006_comb -o Populations_b3\n",
      "sstacks -b 3 -c Populations_b3/batch_3 -s Populations_b3/PAMUR11_0007_comb -o Populations_b3\n",
      "sstacks -b 3 -c Populations_b3/batch_3 -s Populations_b3/PAMUR11_0008_comb -o Populations_b3\n",
      "sstacks -b 3 -c Populations_b3/batch_3 -s Populations_b3/PAMUR11_0009_comb -o Populations_b3\n",
      "sstacks -b 3 -c Populations_b3/batch_3 -s Populations_b3/PAMUR11_0010_comb -o Populations_b3\n",
      "sstacks -b 3 -c Populations_b3/batch_3 -s Populations_b3/PAMUR11_0011_comb -o Populations_b3\n",
      "sstacks -b 3 -c Populations_b3/batch_3 -s Populations_b3/PAMUR11_0013_comb -o Populations_b3\n",
      "sstacks -b 3 -c Populations_b3/batch_3 -s Populations_b3/PAMUR11_0014_comb -o Populations_b3\n",
      "sstacks -b 3 -c Populations_b3/batch_3 -s Populations_b3/PAMUR11_0015_comb -o Populations_b3\n",
      "sstacks -b 3 -c Populations_b3/batch_3 -s Populations_b3/PAMUR11_0016_comb -o Populations_b3\n",
      "sstacks -b 3 -c Populations_b3/batch_3 -s Populations_b3/PAMUR11_0017_comb -o Populations_b3\n",
      "sstacks -b 3 -c Populations_b3/batch_3 -s Populations_b3/PAMUR11_0018_comb -o Populations_b3\n",
      "sstacks -b 3 -c Populations_b3/batch_3 -s Populations_b3/PAMUR11_0019_comb -o Populations_b3\n",
      "sstacks -b 3 -c Populations_b3/batch_3 -s Populations_b3/PAMUR11_0020_comb -o Populations_b3\n",
      "sstacks -b 3 -c Populations_b3/batch_3 -s Populations_b3/PAMUR11_0021_comb -o Populations_b3\n",
      "sstacks -b 3 -c Populations_b3/batch_3 -s Populations_b3/PAMUR11_0022_comb -o Populations_b3\n",
      "sstacks -b 3 -c Populations_b3/batch_3 -s Populations_b3/PAMUR11_0023_comb -o Populations_b3\n",
      "sstacks -b 3 -c Populations_b3/batch_3 -s Populations_b3/PAMUR11_0024_comb -o Populations_b3\n",
      "sstacks -b 3 -c Populations_b3/batch_3 -s Populations_b3/PAMUR11_0025 -o Populations_b3\n",
      "sstacks -b 3 -c Populations_b3/batch_3 -s Populations_b3/PAMUR11_0026_comb -o Populations_b3\n",
      "sstacks -b 3 -c Populations_b3/batch_3 -s Populations_b3/PAMUR11_0027 -o Populations_b3\n",
      "sstacks -b 3 -c Populations_b3/batch_3 -s Populations_b3/PAMUR11_0028 -o Populations_b3\n",
      "sstacks -b 3 -c Populations_b3/batch_3 -s Populations_b3/PAMUR11_0029_comb -o Populations_b3\n",
      "sstacks -b 3 -c Populations_b3/batch_3 -s Populations_b3/PAMUR11_0030_comb -o Populations_b3\n",
      "sstacks -b 3 -c Populations_b3/batch_3 -s Populations_b3/PAMUR11_0031_comb -o Populations_b3\n",
      "sstacks -b 3 -c Populations_b3/batch_3 -s Populations_b3/PAMUR11_0032_comb -o Populations_b3\n",
      "sstacks -b 3 -c Populations_b3/batch_3 -s Populations_b3/PAMUR11_0033_comb -o Populations_b3\n",
      "sstacks -b 3 -c Populations_b3/batch_3 -s Populations_b3/PHAYLY09_0007 -o Populations_b3\n",
      "sstacks -b 3 -c Populations_b3/batch_3 -s Populations_b3/PHAYLY09_0008 -o Populations_b3\n",
      "sstacks -b 3 -c Populations_b3/batch_3 -s Populations_b3/PHAYLY09_0010_comb -o Populations_b3\n",
      "sstacks -b 3 -c Populations_b3/batch_3 -s Populations_b3/PHAYLY09_0011_comb -o Populations_b3\n",
      "sstacks -b 3 -c Populations_b3/batch_3 -s Populations_b3/PHAYLY09_0012_comb -o Populations_b3\n",
      "sstacks -b 3 -c Populations_b3/batch_3 -s Populations_b3/PHAYLY09_0013_comb -o Populations_b3\n",
      "sstacks -b 3 -c Populations_b3/batch_3 -s Populations_b3/PHAYLY09_0014_comb -o Populations_b3\n",
      "sstacks -b 3 -c Populations_b3/batch_3 -s Populations_b3/PHAYLY09_0015_comb -o Populations_b3\n",
      "sstacks -b 3 -c Populations_b3/batch_3 -s Populations_b3/PHAYLY09_0016_comb -o Populations_b3\n",
      "sstacks -b 3 -c Populations_b3/batch_3 -s Populations_b3/PHAYLY09_0017_comb -o Populations_b3\n",
      "sstacks -b 3 -c Populations_b3/batch_3 -s Populations_b3/PHAYLY09_0018_comb -o Populations_b3\n",
      "sstacks -b 3 -c Populations_b3/batch_3 -s Populations_b3/PHAYLY09_0019_comb -o Populations_b3\n",
      "sstacks -b 3 -c Populations_b3/batch_3 -s Populations_b3/PHAYLY09_0020 -o Populations_b3\n",
      "sstacks -b 3 -c Populations_b3/batch_3 -s Populations_b3/PHAYLY09_0021_comb -o Populations_b3\n",
      "sstacks -b 3 -c Populations_b3/batch_3 -s Populations_b3/PHAYLY09_0022_comb -o Populations_b3\n",
      "sstacks -b 3 -c Populations_b3/batch_3 -s Populations_b3/PHAYLY09_0023_comb -o Populations_b3\n",
      "sstacks -b 3 -c Populations_b3/batch_3 -s Populations_b3/PHAYLY09_0025_comb -o Populations_b3\n",
      "sstacks -b 3 -c Populations_b3/batch_3 -s Populations_b3/PHAYLY09_0026_comb -o Populations_b3\n",
      "sstacks -b 3 -c Populations_b3/batch_3 -s Populations_b3/PHAYLY09_0027_comb -o Populations_b3\n",
      "sstacks -b 3 -c Populations_b3/batch_3 -s Populations_b3/PHAYLY09_0028_comb -o Populations_b3\n",
      "sstacks -b 3 -c Populations_b3/batch_3 -s Populations_b3/PHAYLY09_0029_comb -o Populations_b3\n",
      "sstacks -b 3 -c Populations_b3/batch_3 -s Populations_b3/PHAYLY09_0030_comb -o Populations_b3\n",
      "sstacks -b 3 -c Populations_b3/batch_3 -s Populations_b3/PHAYLY09_0031 -o Populations_b3\n",
      "sstacks -b 3 -c Populations_b3/batch_3 -s Populations_b3/PHAYLY09_0032 -o Populations_b3\n",
      "sstacks -b 3 -c Populations_b3/batch_3 -s Populations_b3/PHAYLY09_0034_comb -o Populations_b3\n",
      "sstacks -b 3 -c Populations_b3/batch_3 -s Populations_b3/PHAYLY09_0035 -o Populations_b3\n",
      "sstacks -b 3 -c Populations_b3/batch_3 -s Populations_b3/PHAYLY09_0036_comb -o Populations_b3\n",
      "sstacks -b 3 -c Populations_b3/batch_3 -s Populations_b3/PHAYLY09_0037_comb -o Populations_b3\n",
      "sstacks -b 3 -c Populations_b3/batch_3 -s Populations_b3/PHAYLY09_0038_comb -o Populations_b3\n",
      "sstacks -b 3 -c Populations_b3/batch_3 -s Populations_b3/PHAYLY09_0041_comb -o Populations_b3\n",
      "sstacks -b 3 -c Populations_b3/batch_3 -s Populations_b3/PHAYLY09_0042_comb -o Populations_b3\n",
      "sstacks -b 3 -c Populations_b3/batch_3 -s Populations_b3/PHAYLY09_0043_comb -o Populations_b3\n",
      "sstacks -b 3 -c Populations_b3/batch_3 -s Populations_b3/PHAYLY10_0003 -o Populations_b3\n",
      "sstacks -b 3 -c Populations_b3/batch_3 -s Populations_b3/PHAYLY10_0004_comb -o Populations_b3\n",
      "sstacks -b 3 -c Populations_b3/batch_3 -s Populations_b3/PHAYLY10_0006_comb -o Populations_b3\n",
      "sstacks -b 3 -c Populations_b3/batch_3 -s Populations_b3/PHAYLY10_0007_comb -o Populations_b3\n",
      "sstacks -b 3 -c Populations_b3/batch_3 -s Populations_b3/PHAYLY10_0010_comb -o Populations_b3\n",
      "sstacks -b 3 -c Populations_b3/batch_3 -s Populations_b3/PHAYLY10_0011_comb -o Populations_b3\n",
      "sstacks -b 3 -c Populations_b3/batch_3 -s Populations_b3/PHAYLY10_0012_comb -o Populations_b3\n",
      "sstacks -b 3 -c Populations_b3/batch_3 -s Populations_b3/PHAYLY10_0014_comb -o Populations_b3\n",
      "sstacks -b 3 -c Populations_b3/batch_3 -s Populations_b3/PHAYLY10_0015_comb -o Populations_b3\n",
      "sstacks -b 3 -c Populations_b3/batch_3 -s Populations_b3/PHAYLY10_0017_comb -o Populations_b3\n",
      "sstacks -b 3 -c Populations_b3/batch_3 -s Populations_b3/PHAYLY10_0018_comb -o Populations_b3\n",
      "sstacks -b 3 -c Populations_b3/batch_3 -s Populations_b3/PHAYLY10_0020_comb -o Populations_b3\n",
      "sstacks -b 3 -c Populations_b3/batch_3 -s Populations_b3/PHAYLY10_0021_comb -o Populations_b3\n",
      "sstacks -b 3 -c Populations_b3/batch_3 -s Populations_b3/PHAYLY10_0022 -o Populations_b3\n",
      "sstacks -b 3 -c Populations_b3/batch_3 -s Populations_b3/PHAYLY10_0023_comb -o Populations_b3\n",
      "sstacks -b 3 -c Populations_b3/batch_3 -s Populations_b3/PHAYLY10_0024_comb -o Populations_b3\n",
      "sstacks -b 3 -c Populations_b3/batch_3 -s Populations_b3/PHAYLY10_0025 -o Populations_b3\n",
      "sstacks -b 3 -c Populations_b3/batch_3 -s Populations_b3/PHAYLY10_0026_comb -o Populations_b3\n",
      "sstacks -b 3 -c Populations_b3/batch_3 -s Populations_b3/PHAYLY10_0027_comb -o Populations_b3\n",
      "sstacks -b 3 -c Populations_b3/batch_3 -s Populations_b3/PHAYLY10_0029_comb -o Populations_b3\n",
      "sstacks -b 3 -c Populations_b3/batch_3 -s Populations_b3/PHAYLY10_0030_comb -o Populations_b3\n",
      "sstacks -b 3 -c Populations_b3/batch_3 -s Populations_b3/PHAYLY10_0032_comb -o Populations_b3\n",
      "sstacks -b 3 -c Populations_b3/batch_3 -s Populations_b3/PHAYLY10_0035 -o Populations_b3\n",
      "sstacks -b 3 -c Populations_b3/batch_3 -s Populations_b3/PHAYLY10_0036 -o Populations_b3\n",
      "sstacks -b 3 -c Populations_b3/batch_3 -s Populations_b3/PHAYLY10_0037 -o Populations_b3\n",
      "sstacks -b 3 -c Populations_b3/batch_3 -s Populations_b3/PHAYLY10_0038_comb -o Populations_b3\n",
      "sstacks -b 3 -c Populations_b3/batch_3 -s Populations_b3/PHAYLY10_0039 -o Populations_b3\n",
      "sstacks -b 3 -c Populations_b3/batch_3 -s Populations_b3/PHAYLY10_0040 -o Populations_b3\n",
      "sstacks -b 3 -c Populations_b3/batch_3 -s Populations_b3/PHAYLY10_0041 -o Populations_b3\n",
      "sstacks -b 3 -c Populations_b3/batch_3 -s Populations_b3/PHAYLY10_0042 -o Populations_b3\n",
      "sstacks -b 3 -c Populations_b3/batch_3 -s Populations_b3/PHAYLY10_0044 -o Populations_b3\n",
      "sstacks -b 3 -c Populations_b3/batch_3 -s Populations_b3/PHAYLY10_0046_comb -o Populations_b3\n",
      "sstacks -b 3 -c Populations_b3/batch_3 -s Populations_b3/PKOPE91T_0001 -o Populations_b3\n",
      "sstacks -b 3 -c Populations_b3/batch_3 -s Populations_b3/PKOPE91T_0002 -o Populations_b3\n",
      "sstacks -b 3 -c Populations_b3/batch_3 -s Populations_b3/PKOPE91T_0003 -o Populations_b3\n",
      "sstacks -b 3 -c Populations_b3/batch_3 -s Populations_b3/PKOPE91T_0005 -o Populations_b3\n",
      "sstacks -b 3 -c Populations_b3/batch_3 -s Populations_b3/PKOPE91T_0006 -o Populations_b3\n",
      "sstacks -b 3 -c Populations_b3/batch_3 -s Populations_b3/PKOPE91T_0007 -o Populations_b3\n",
      "sstacks -b 3 -c Populations_b3/batch_3 -s Populations_b3/PKOPE91T_0009 -o Populations_b3\n",
      "sstacks -b 3 -c Populations_b3/batch_3 -s Populations_b3/PKOPE91T_0010 -o Populations_b3\n",
      "sstacks -b 3 -c Populations_b3/batch_3 -s Populations_b3/PKOPE91T_0011 -o Populations_b3\n",
      "sstacks -b 3 -c Populations_b3/batch_3 -s Populations_b3/PKOPE91T_0013 -o Populations_b3\n",
      "sstacks -b 3 -c Populations_b3/batch_3 -s Populations_b3/PKOPE91T_0014 -o Populations_b3\n",
      "sstacks -b 3 -c Populations_b3/batch_3 -s Populations_b3/PKOPE91T_0015 -o Populations_b3\n",
      "sstacks -b 3 -c Populations_b3/batch_3 -s Populations_b3/PKOPE91T_0016 -o Populations_b3\n",
      "sstacks -b 3 -c Populations_b3/batch_3 -s Populations_b3/PKOPE91T_0017 -o Populations_b3\n",
      "sstacks -b 3 -c Populations_b3/batch_3 -s Populations_b3/PKOPE91T_0018 -o Populations_b3\n",
      "sstacks -b 3 -c Populations_b3/batch_3 -s Populations_b3/PKOPE91T_0019 -o Populations_b3\n",
      "sstacks -b 3 -c Populations_b3/batch_3 -s Populations_b3/PKOPE91T_0020 -o Populations_b3\n",
      "sstacks -b 3 -c Populations_b3/batch_3 -s Populations_b3/PKOPE91T_0024 -o Populations_b3\n",
      "sstacks -b 3 -c Populations_b3/batch_3 -s Populations_b3/PKOPE91T_0025 -o Populations_b3\n",
      "sstacks -b 3 -c Populations_b3/batch_3 -s Populations_b3/PKOPE91T_0026 -o Populations_b3\n",
      "sstacks -b 3 -c Populations_b3/batch_3 -s Populations_b3/PKOPE91T_0029 -o Populations_b3\n",
      "sstacks -b 3 -c Populations_b3/batch_3 -s Populations_b3/PKOPE91T_0035 -o Populations_b3\n",
      "sstacks -b 3 -c Populations_b3/batch_3 -s Populations_b3/PKOPE91T_0036 -o Populations_b3\n",
      "sstacks -b 3 -c Populations_b3/batch_3 -s Populations_b3/PKOPE91T_0037 -o Populations_b3\n",
      "sstacks -b 3 -c Populations_b3/batch_3 -s Populations_b3/PKOPE96T_0001 -o Populations_b3\n",
      "sstacks -b 3 -c Populations_b3/batch_3 -s Populations_b3/PKOPE96T_0002 -o Populations_b3\n",
      "sstacks -b 3 -c Populations_b3/batch_3 -s Populations_b3/PKOPE96T_0003 -o Populations_b3\n",
      "sstacks -b 3 -c Populations_b3/batch_3 -s Populations_b3/PKOPE96T_0004 -o Populations_b3\n",
      "sstacks -b 3 -c Populations_b3/batch_3 -s Populations_b3/PKOPE96T_0005 -o Populations_b3\n",
      "sstacks -b 3 -c Populations_b3/batch_3 -s Populations_b3/PKOPE96T_0006 -o Populations_b3\n",
      "sstacks -b 3 -c Populations_b3/batch_3 -s Populations_b3/PKOPE96T_0007 -o Populations_b3\n",
      "sstacks -b 3 -c Populations_b3/batch_3 -s Populations_b3/PKOPE96T_0008 -o Populations_b3\n",
      "sstacks -b 3 -c Populations_b3/batch_3 -s Populations_b3/PKOPE96T_0009 -o Populations_b3\n",
      "sstacks -b 3 -c Populations_b3/batch_3 -s Populations_b3/PKOPE96T_0010 -o Populations_b3\n",
      "sstacks -b 3 -c Populations_b3/batch_3 -s Populations_b3/PKOPE96T_0011 -o Populations_b3\n",
      "sstacks -b 3 -c Populations_b3/batch_3 -s Populations_b3/PKOPE96T_0012 -o Populations_b3\n",
      "sstacks -b 3 -c Populations_b3/batch_3 -s Populations_b3/PKOPE96T_0013 -o Populations_b3\n",
      "sstacks -b 3 -c Populations_b3/batch_3 -s Populations_b3/PKOPE96T_0014 -o Populations_b3\n",
      "sstacks -b 3 -c Populations_b3/batch_3 -s Populations_b3/PKOPE96T_0015 -o Populations_b3\n",
      "sstacks -b 3 -c Populations_b3/batch_3 -s Populations_b3/PKOPE96T_0016 -o Populations_b3\n",
      "sstacks -b 3 -c Populations_b3/batch_3 -s Populations_b3/PKOPE96T_0017 -o Populations_b3\n",
      "sstacks -b 3 -c Populations_b3/batch_3 -s Populations_b3/PKOPE96T_0018 -o Populations_b3\n",
      "sstacks -b 3 -c Populations_b3/batch_3 -s Populations_b3/PKOPE96T_0019 -o Populations_b3\n",
      "sstacks -b 3 -c Populations_b3/batch_3 -s Populations_b3/PKOPE96T_0020 -o Populations_b3\n",
      "sstacks -b 3 -c Populations_b3/batch_3 -s Populations_b3/PKOPE96T_0021 -o Populations_b3\n",
      "sstacks -b 3 -c Populations_b3/batch_3 -s Populations_b3/PKOPE96T_0022 -o Populations_b3\n",
      "sstacks -b 3 -c Populations_b3/batch_3 -s Populations_b3/PKOPE96T_0023 -o Populations_b3\n",
      "sstacks -b 3 -c Populations_b3/batch_3 -s Populations_b3/PKOPE96T_0024 -o Populations_b3\n",
      "sstacks -b 3 -c Populations_b3/batch_3 -s Populations_b3/PKUSHI06_0001_comb -o Populations_b3\n",
      "sstacks -b 3 -c Populations_b3/batch_3 -s Populations_b3/PKUSHI06_0002 -o Populations_b3\n",
      "sstacks -b 3 -c Populations_b3/batch_3 -s Populations_b3/PKUSHI06_0003_comb -o Populations_b3\n",
      "sstacks -b 3 -c Populations_b3/batch_3 -s Populations_b3/PKUSHI06_0004_comb -o Populations_b3\n",
      "sstacks -b 3 -c Populations_b3/batch_3 -s Populations_b3/PKUSHI06_0005_comb -o Populations_b3\n",
      "sstacks -b 3 -c Populations_b3/batch_3 -s Populations_b3/PKUSHI06_0006_comb -o Populations_b3\n",
      "sstacks -b 3 -c Populations_b3/batch_3 -s Populations_b3/PKUSHI06_0007_comb -o Populations_b3\n",
      "sstacks -b 3 -c Populations_b3/batch_3 -s Populations_b3/PKUSHI06_0008_comb -o Populations_b3\n",
      "sstacks -b 3 -c Populations_b3/batch_3 -s Populations_b3/PKUSHI06_0009_comb -o Populations_b3\n",
      "sstacks -b 3 -c Populations_b3/batch_3 -s Populations_b3/PKUSHI06_0010_comb -o Populations_b3\n",
      "sstacks -b 3 -c Populations_b3/batch_3 -s Populations_b3/PKUSHI06_0011_comb -o Populations_b3\n",
      "sstacks -b 3 -c Populations_b3/batch_3 -s Populations_b3/PKUSHI06_0012_comb -o Populations_b3\n",
      "sstacks -b 3 -c Populations_b3/batch_3 -s Populations_b3/PKUSHI06_0013 -o Populations_b3\n",
      "sstacks -b 3 -c Populations_b3/batch_3 -s Populations_b3/PKUSHI06_0014_comb -o Populations_b3\n",
      "sstacks -b 3 -c Populations_b3/batch_3 -s Populations_b3/PKUSHI06_0015_comb -o Populations_b3\n",
      "sstacks -b 3 -c Populations_b3/batch_3 -s Populations_b3/PKUSHI06_0016 -o Populations_b3\n",
      "sstacks -b 3 -c Populations_b3/batch_3 -s Populations_b3/PKUSHI06_0017 -o Populations_b3\n",
      "sstacks -b 3 -c Populations_b3/batch_3 -s Populations_b3/PKUSHI06_0018_comb -o Populations_b3\n",
      "sstacks -b 3 -c Populations_b3/batch_3 -s Populations_b3/PKUSHI06_0019_comb -o Populations_b3\n",
      "sstacks -b 3 -c Populations_b3/batch_3 -s Populations_b3/PKUSHI06_0020_comb -o Populations_b3\n",
      "sstacks -b 3 -c Populations_b3/batch_3 -s Populations_b3/PKUSHI06_0021_comb -o Populations_b3\n",
      "sstacks -b 3 -c Populations_b3/batch_3 -s Populations_b3/PKUSHI06_0022_comb -o Populations_b3\n",
      "sstacks -b 3 -c Populations_b3/batch_3 -s Populations_b3/PKUSHI06_0023 -o Populations_b3\n",
      "sstacks -b 3 -c Populations_b3/batch_3 -s Populations_b3/PKUSHI06_0024_comb -o Populations_b3\n",
      "sstacks -b 3 -c Populations_b3/batch_3 -s Populations_b3/PKUSHI06_0025 -o Populations_b3\n",
      "sstacks -b 3 -c Populations_b3/batch_3 -s Populations_b3/PKUSHI06_0026_comb -o Populations_b3\n",
      "sstacks -b 3 -c Populations_b3/batch_3 -s Populations_b3/PKUSHI06_0027_comb -o Populations_b3\n",
      "sstacks -b 3 -c Populations_b3/batch_3 -s Populations_b3/PKUSHI06_0028_comb -o Populations_b3\n",
      "sstacks -b 3 -c Populations_b3/batch_3 -s Populations_b3/PKUSHI06_0029 -o Populations_b3\n",
      "sstacks -b 3 -c Populations_b3/batch_3 -s Populations_b3/PKUSHI06_0030_comb -o Populations_b3\n",
      "sstacks -b 3 -c Populations_b3/batch_3 -s Populations_b3/PKUSHI06_0031_comb -o Populations_b3\n",
      "sstacks -b 3 -c Populations_b3/batch_3 -s Populations_b3/PKUSHI06_0032_comb -o Populations_b3\n",
      "sstacks -b 3 -c Populations_b3/batch_3 -s Populations_b3/PKUSHI07_0001_comb -o Populations_b3\n",
      "sstacks -b 3 -c Populations_b3/batch_3 -s Populations_b3/PKUSHI07_0002_comb -o Populations_b3\n",
      "sstacks -b 3 -c Populations_b3/batch_3 -s Populations_b3/PKUSHI07_0003_comb -o Populations_b3\n",
      "sstacks -b 3 -c Populations_b3/batch_3 -s Populations_b3/PKUSHI07_0004 -o Populations_b3\n",
      "sstacks -b 3 -c Populations_b3/batch_3 -s Populations_b3/PKUSHI07_0005_comb -o Populations_b3\n",
      "sstacks -b 3 -c Populations_b3/batch_3 -s Populations_b3/PKUSHI07_0006_comb -o Populations_b3\n",
      "sstacks -b 3 -c Populations_b3/batch_3 -s Populations_b3/PKUSHI07_0007_comb -o Populations_b3\n",
      "sstacks -b 3 -c Populations_b3/batch_3 -s Populations_b3/PKUSHI07_0008_comb -o Populations_b3\n",
      "sstacks -b 3 -c Populations_b3/batch_3 -s Populations_b3/PKUSHI07_0009 -o Populations_b3\n",
      "sstacks -b 3 -c Populations_b3/batch_3 -s Populations_b3/PKUSHI07_0010_comb -o Populations_b3\n",
      "sstacks -b 3 -c Populations_b3/batch_3 -s Populations_b3/PKUSHI07_0011_comb -o Populations_b3\n",
      "sstacks -b 3 -c Populations_b3/batch_3 -s Populations_b3/PKUSHI07_0012_comb -o Populations_b3\n",
      "sstacks -b 3 -c Populations_b3/batch_3 -s Populations_b3/PKUSHI07_0013 -o Populations_b3\n",
      "sstacks -b 3 -c Populations_b3/batch_3 -s Populations_b3/PKUSHI07_0014 -o Populations_b3\n",
      "sstacks -b 3 -c Populations_b3/batch_3 -s Populations_b3/PKUSHI07_0015 -o Populations_b3\n",
      "sstacks -b 3 -c Populations_b3/batch_3 -s Populations_b3/PKUSHI07_0016_comb -o Populations_b3\n",
      "sstacks -b 3 -c Populations_b3/batch_3 -s Populations_b3/PKUSHI07_0017 -o Populations_b3\n",
      "sstacks -b 3 -c Populations_b3/batch_3 -s Populations_b3/PKUSHI07_0018_comb -o Populations_b3\n",
      "sstacks -b 3 -c Populations_b3/batch_3 -s Populations_b3/PKUSHI07_0019 -o Populations_b3\n",
      "sstacks -b 3 -c Populations_b3/batch_3 -s Populations_b3/PKUSHI07_0020_comb -o Populations_b3\n",
      "sstacks -b 3 -c Populations_b3/batch_3 -s Populations_b3/PKUSHI07_0021_comb -o Populations_b3\n",
      "sstacks -b 3 -c Populations_b3/batch_3 -s Populations_b3/PKUSHI07_0022 -o Populations_b3\n",
      "sstacks -b 3 -c Populations_b3/batch_3 -s Populations_b3/PKUSHI07_0023 -o Populations_b3\n",
      "sstacks -b 3 -c Populations_b3/batch_3 -s Populations_b3/PKUSHI07_0024_comb -o Populations_b3\n",
      "sstacks -b 3 -c Populations_b3/batch_3 -s Populations_b3/PKUSHI07_0025_comb -o Populations_b3\n",
      "sstacks -b 3 -c Populations_b3/batch_3 -s Populations_b3/PKUSHI07_0026 -o Populations_b3\n",
      "sstacks -b 3 -c Populations_b3/batch_3 -s Populations_b3/PKUSHI07_0027_comb -o Populations_b3\n",
      "sstacks -b 3 -c Populations_b3/batch_3 -s Populations_b3/PKUSHI07_0028_comb -o Populations_b3\n",
      "sstacks -b 3 -c Populations_b3/batch_3 -s Populations_b3/PKUSHI07_0029_comb -o Populations_b3\n",
      "sstacks -b 3 -c Populations_b3/batch_3 -s Populations_b3/PKUSHI07_0030_comb -o Populations_b3\n",
      "sstacks -b 3 -c Populations_b3/batch_3 -s Populations_b3/PKUSHI07_0031_comb -o Populations_b3\n",
      "sstacks -b 3 -c Populations_b3/batch_3 -s Populations_b3/PKUSHI07_0032_comb -o Populations_b3\n",
      "sstacks -b 3 -c Populations_b3/batch_3 -s Populations_b3/PNOME91_0001 -o Populations_b3\n",
      "sstacks -b 3 -c Populations_b3/batch_3 -s Populations_b3/PNOME91_0002 -o Populations_b3\n",
      "sstacks -b 3 -c Populations_b3/batch_3 -s Populations_b3/PNOME91_0003 -o Populations_b3\n",
      "sstacks -b 3 -c Populations_b3/batch_3 -s Populations_b3/PNOME91_0004 -o Populations_b3\n",
      "sstacks -b 3 -c Populations_b3/batch_3 -s Populations_b3/PNOME91_0005 -o Populations_b3\n",
      "sstacks -b 3 -c Populations_b3/batch_3 -s Populations_b3/PNOME91_0008 -o Populations_b3\n",
      "sstacks -b 3 -c Populations_b3/batch_3 -s Populations_b3/PNOME91_0009 -o Populations_b3\n",
      "sstacks -b 3 -c Populations_b3/batch_3 -s Populations_b3/PNOME91_0010 -o Populations_b3\n",
      "sstacks -b 3 -c Populations_b3/batch_3 -s Populations_b3/PNOME91_0011 -o Populations_b3\n",
      "sstacks -b 3 -c Populations_b3/batch_3 -s Populations_b3/PNOME91_0013 -o Populations_b3\n",
      "sstacks -b 3 -c Populations_b3/batch_3 -s Populations_b3/PNOME91_0014 -o Populations_b3\n",
      "sstacks -b 3 -c Populations_b3/batch_3 -s Populations_b3/PNOME91_0015 -o Populations_b3\n",
      "sstacks -b 3 -c Populations_b3/batch_3 -s Populations_b3/PNOME91_0016 -o Populations_b3\n",
      "sstacks -b 3 -c Populations_b3/batch_3 -s Populations_b3/PNOME91_0017 -o Populations_b3\n",
      "sstacks -b 3 -c Populations_b3/batch_3 -s Populations_b3/PNOME91_0018 -o Populations_b3\n",
      "sstacks -b 3 -c Populations_b3/batch_3 -s Populations_b3/PNOME91_0021 -o Populations_b3\n",
      "sstacks -b 3 -c Populations_b3/batch_3 -s Populations_b3/PNOME91_0025 -o Populations_b3\n",
      "sstacks -b 3 -c Populations_b3/batch_3 -s Populations_b3/PNOME91_0026 -o Populations_b3\n",
      "sstacks -b 3 -c Populations_b3/batch_3 -s Populations_b3/PNOME91_0027 -o Populations_b3\n",
      "sstacks -b 3 -c Populations_b3/batch_3 -s Populations_b3/PNOME91_0028 -o Populations_b3\n",
      "sstacks -b 3 -c Populations_b3/batch_3 -s Populations_b3/PNOME91_0030 -o Populations_b3\n",
      "sstacks -b 3 -c Populations_b3/batch_3 -s Populations_b3/PNOME91_0031 -o Populations_b3\n",
      "sstacks -b 3 -c Populations_b3/batch_3 -s Populations_b3/PNOME91_0032 -o Populations_b3\n",
      "sstacks -b 3 -c Populations_b3/batch_3 -s Populations_b3/PNOME91_0033 -o Populations_b3\n",
      "sstacks -b 3 -c Populations_b3/batch_3 -s Populations_b3/PNOME94_0001 -o Populations_b3\n",
      "sstacks -b 3 -c Populations_b3/batch_3 -s Populations_b3/PNOME94_0002 -o Populations_b3\n",
      "sstacks -b 3 -c Populations_b3/batch_3 -s Populations_b3/PNOME94_0003 -o Populations_b3\n",
      "sstacks -b 3 -c Populations_b3/batch_3 -s Populations_b3/PNOME94_0004 -o Populations_b3\n",
      "sstacks -b 3 -c Populations_b3/batch_3 -s Populations_b3/PNOME94_0005 -o Populations_b3\n",
      "sstacks -b 3 -c Populations_b3/batch_3 -s Populations_b3/PNOME94_0006 -o Populations_b3\n",
      "sstacks -b 3 -c Populations_b3/batch_3 -s Populations_b3/PNOME94_0007 -o Populations_b3\n",
      "sstacks -b 3 -c Populations_b3/batch_3 -s Populations_b3/PNOME94_0008 -o Populations_b3\n",
      "sstacks -b 3 -c Populations_b3/batch_3 -s Populations_b3/PNOME94_0009 -o Populations_b3\n",
      "sstacks -b 3 -c Populations_b3/batch_3 -s Populations_b3/PNOME94_0010 -o Populations_b3\n",
      "sstacks -b 3 -c Populations_b3/batch_3 -s Populations_b3/PNOME94_0011 -o Populations_b3\n",
      "sstacks -b 3 -c Populations_b3/batch_3 -s Populations_b3/PNOME94_0012 -o Populations_b3\n",
      "sstacks -b 3 -c Populations_b3/batch_3 -s Populations_b3/PNOME94_0013 -o Populations_b3\n",
      "sstacks -b 3 -c Populations_b3/batch_3 -s Populations_b3/PNOME94_0014 -o Populations_b3\n",
      "sstacks -b 3 -c Populations_b3/batch_3 -s Populations_b3/PNOME94_0015 -o Populations_b3\n",
      "sstacks -b 3 -c Populations_b3/batch_3 -s Populations_b3/PNOME94_0016 -o Populations_b3\n",
      "sstacks -b 3 -c Populations_b3/batch_3 -s Populations_b3/PNOME94_0017 -o Populations_b3\n",
      "sstacks -b 3 -c Populations_b3/batch_3 -s Populations_b3/PNOME94_0018 -o Populations_b3\n",
      "sstacks -b 3 -c Populations_b3/batch_3 -s Populations_b3/PNOME94_0019 -o Populations_b3\n",
      "sstacks -b 3 -c Populations_b3/batch_3 -s Populations_b3/PNOME94_0020 -o Populations_b3\n",
      "sstacks -b 3 -c Populations_b3/batch_3 -s Populations_b3/PSNOH03_0005 -o Populations_b3\n",
      "sstacks -b 3 -c Populations_b3/batch_3 -s Populations_b3/PSNOH03_0016 -o Populations_b3\n",
      "sstacks -b 3 -c Populations_b3/batch_3 -s Populations_b3/PSNOH03_0017 -o Populations_b3\n",
      "sstacks -b 3 -c Populations_b3/batch_3 -s Populations_b3/PSNOH03_0019 -o Populations_b3\n",
      "sstacks -b 3 -c Populations_b3/batch_3 -s Populations_b3/PSNOH03_0021 -o Populations_b3\n",
      "sstacks -b 3 -c Populations_b3/batch_3 -s Populations_b3/PSNOH03_0024 -o Populations_b3\n",
      "sstacks -b 3 -c Populations_b3/batch_3 -s Populations_b3/PSNOH03_0027 -o Populations_b3\n",
      "sstacks -b 3 -c Populations_b3/batch_3 -s Populations_b3/PSNOH03_0029 -o Populations_b3\n",
      "sstacks -b 3 -c Populations_b3/batch_3 -s Populations_b3/PSNOH03_0039 -o Populations_b3\n",
      "sstacks -b 3 -c Populations_b3/batch_3 -s Populations_b3/PSNOH03_0043 -o Populations_b3\n",
      "sstacks -b 3 -c Populations_b3/batch_3 -s Populations_b3/PSNOH03_0046 -o Populations_b3\n",
      "sstacks -b 3 -c Populations_b3/batch_3 -s Populations_b3/PSNOH03_0063 -o Populations_b3\n",
      "sstacks -b 3 -c Populations_b3/batch_3 -s Populations_b3/PSNOH03_0065 -o Populations_b3\n",
      "sstacks -b 3 -c Populations_b3/batch_3 -s Populations_b3/PSNOH03_0067 -o Populations_b3\n",
      "sstacks -b 3 -c Populations_b3/batch_3 -s Populations_b3/PSNOH03_0074 -o Populations_b3\n",
      "sstacks -b 3 -c Populations_b3/batch_3 -s Populations_b3/PSNOH03_0075 -o Populations_b3\n",
      "sstacks -b 3 -c Populations_b3/batch_3 -s Populations_b3/PSNOH03_0076 -o Populations_b3\n",
      "sstacks -b 3 -c Populations_b3/batch_3 -s Populations_b3/PSNOH03_0078 -o Populations_b3\n",
      "sstacks -b 3 -c Populations_b3/batch_3 -s Populations_b3/PSNOH03_0079 -o Populations_b3\n",
      "sstacks -b 3 -c Populations_b3/batch_3 -s Populations_b3/PSNOH03_0081 -o Populations_b3\n",
      "sstacks -b 3 -c Populations_b3/batch_3 -s Populations_b3/PSNOH03_0082 -o Populations_b3\n",
      "sstacks -b 3 -c Populations_b3/batch_3 -s Populations_b3/PSNOH03_0088 -o Populations_b3\n",
      "sstacks -b 3 -c Populations_b3/batch_3 -s Populations_b3/PSNOH03_0090 -o Populations_b3\n",
      "sstacks -b 3 -c Populations_b3/batch_3 -s Populations_b3/PSNOH03_0095 -o Populations_b3\n",
      "sstacks -b 3 -c Populations_b3/batch_3 -s Populations_b3/PSNOH96_0003 -o Populations_b3\n",
      "sstacks -b 3 -c Populations_b3/batch_3 -s Populations_b3/PSNOH96_0004 -o Populations_b3\n",
      "sstacks -b 3 -c Populations_b3/batch_3 -s Populations_b3/PSNOH96_0005 -o Populations_b3\n",
      "sstacks -b 3 -c Populations_b3/batch_3 -s Populations_b3/PSNOH96_0006 -o Populations_b3\n",
      "sstacks -b 3 -c Populations_b3/batch_3 -s Populations_b3/PSNOH96_0007 -o Populations_b3\n",
      "sstacks -b 3 -c Populations_b3/batch_3 -s Populations_b3/PSNOH96_0008 -o Populations_b3\n",
      "sstacks -b 3 -c Populations_b3/batch_3 -s Populations_b3/PSNOH96_0009 -o Populations_b3\n",
      "sstacks -b 3 -c Populations_b3/batch_3 -s Populations_b3/PSNOH96_0010 -o Populations_b3\n",
      "sstacks -b 3 -c Populations_b3/batch_3 -s Populations_b3/PSNOH96_0011 -o Populations_b3\n",
      "sstacks -b 3 -c Populations_b3/batch_3 -s Populations_b3/PSNOH96_0012 -o Populations_b3\n",
      "sstacks -b 3 -c Populations_b3/batch_3 -s Populations_b3/PSNOH96_0013 -o Populations_b3\n",
      "sstacks -b 3 -c Populations_b3/batch_3 -s Populations_b3/PSNOH96_0014 -o Populations_b3\n",
      "sstacks -b 3 -c Populations_b3/batch_3 -s Populations_b3/PSNOH96_0015 -o Populations_b3\n",
      "sstacks -b 3 -c Populations_b3/batch_3 -s Populations_b3/PSNOH96_0016 -o Populations_b3\n",
      "sstacks -b 3 -c Populations_b3/batch_3 -s Populations_b3/PSNOH96_0017 -o Populations_b3\n",
      "sstacks -b 3 -c Populations_b3/batch_3 -s Populations_b3/PSNOH96_0018 -o Populations_b3\n",
      "sstacks -b 3 -c Populations_b3/batch_3 -s Populations_b3/PSNOH96_0019 -o Populations_b3\n",
      "sstacks -b 3 -c Populations_b3/batch_3 -s Populations_b3/PSNOH96_0021 -o Populations_b3\n",
      "sstacks -b 3 -c Populations_b3/batch_3 -s Populations_b3/PSNOH96_0022 -o Populations_b3\n",
      "sstacks -b 3 -c Populations_b3/batch_3 -s Populations_b3/PSNOH96_0023 -o Populations_b3\n",
      "sstacks -b 3 -c Populations_b3/batch_3 -s Populations_b3/PSNOH96_0024 -o Populations_b3\n",
      "sstacks -b 3 -c Populations_b3/batch_3 -s Populations_b3/PSNOH96_0025 -o Populations_b3\n",
      "sstacks -b 3 -c Populations_b3/batch_3 -s Populations_b3/PSNOH96_0027 -o Populations_b3\n",
      "sstacks -b 3 -c Populations_b3/batch_3 -s Populations_b3/PSNOH96_0028 -o Populations_b3\n",
      "sstacks -b 3 -c Populations_b3/batch_3 -s Populations_b3/PTAUY09_0002 -o Populations_b3\n",
      "sstacks -b 3 -c Populations_b3/batch_3 -s Populations_b3/PTAUY09_0003 -o Populations_b3\n",
      "sstacks -b 3 -c Populations_b3/batch_3 -s Populations_b3/PTAUY09_0004 -o Populations_b3\n",
      "sstacks -b 3 -c Populations_b3/batch_3 -s Populations_b3/PTAUY09_0006_comb -o Populations_b3\n",
      "sstacks -b 3 -c Populations_b3/batch_3 -s Populations_b3/PTAUY09_0008_comb -o Populations_b3\n",
      "sstacks -b 3 -c Populations_b3/batch_3 -s Populations_b3/PTAUY09_0009_comb -o Populations_b3\n",
      "sstacks -b 3 -c Populations_b3/batch_3 -s Populations_b3/PTAUY09_0011 -o Populations_b3\n",
      "sstacks -b 3 -c Populations_b3/batch_3 -s Populations_b3/PTAUY09_0012_comb -o Populations_b3\n",
      "sstacks -b 3 -c Populations_b3/batch_3 -s Populations_b3/PTAUY09_0013_comb -o Populations_b3\n",
      "sstacks -b 3 -c Populations_b3/batch_3 -s Populations_b3/PTAUY09_0014_comb -o Populations_b3\n",
      "sstacks -b 3 -c Populations_b3/batch_3 -s Populations_b3/PTAUY09_0015 -o Populations_b3\n",
      "sstacks -b 3 -c Populations_b3/batch_3 -s Populations_b3/PTAUY09_0016 -o Populations_b3\n",
      "sstacks -b 3 -c Populations_b3/batch_3 -s Populations_b3/PTAUY09_0017 -o Populations_b3\n",
      "sstacks -b 3 -c Populations_b3/batch_3 -s Populations_b3/PTAUY09_0018_comb -o Populations_b3\n",
      "sstacks -b 3 -c Populations_b3/batch_3 -s Populations_b3/PTAUY09_0021 -o Populations_b3\n",
      "sstacks -b 3 -c Populations_b3/batch_3 -s Populations_b3/PTAUY09_0022_comb -o Populations_b3\n",
      "sstacks -b 3 -c Populations_b3/batch_3 -s Populations_b3/PTAUY09_0023 -o Populations_b3\n",
      "sstacks -b 3 -c Populations_b3/batch_3 -s Populations_b3/PTAUY09_0024_comb -o Populations_b3\n",
      "sstacks -b 3 -c Populations_b3/batch_3 -s Populations_b3/PTAUY09_0027 -o Populations_b3\n",
      "sstacks -b 3 -c Populations_b3/batch_3 -s Populations_b3/PTAUY09_0031_comb -o Populations_b3\n",
      "sstacks -b 3 -c Populations_b3/batch_3 -s Populations_b3/PTAUY09_0032_comb -o Populations_b3\n",
      "sstacks -b 3 -c Populations_b3/batch_3 -s Populations_b3/PTAUY09_0033 -o Populations_b3\n",
      "sstacks -b 3 -c Populations_b3/batch_3 -s Populations_b3/PTAUY09_0034_comb -o Populations_b3\n",
      "sstacks -b 3 -c Populations_b3/batch_3 -s Populations_b3/PTAUY09_0035 -o Populations_b3\n",
      "sstacks -b 3 -c Populations_b3/batch_3 -s Populations_b3/PTAUY09_0036 -o Populations_b3\n",
      "sstacks -b 3 -c Populations_b3/batch_3 -s Populations_b3/PTAUY09_0037_comb -o Populations_b3\n",
      "sstacks -b 3 -c Populations_b3/batch_3 -s Populations_b3/PTAUY09_0038 -o Populations_b3\n",
      "sstacks -b 3 -c Populations_b3/batch_3 -s Populations_b3/PTAUY09_0040_comb -o Populations_b3\n",
      "sstacks -b 3 -c Populations_b3/batch_3 -s Populations_b3/PTAUY09_0041 -o Populations_b3\n",
      "sstacks -b 3 -c Populations_b3/batch_3 -s Populations_b3/PTAUY09_0042_comb -o Populations_b3\n",
      "sstacks -b 3 -c Populations_b3/batch_3 -s Populations_b3/PTAUY09_0044_comb -o Populations_b3\n",
      "sstacks -b 3 -c Populations_b3/batch_3 -s Populations_b3/PTAUY09_0046 -o Populations_b3\n",
      "sstacks -b 3 -c Populations_b3/batch_3 -s Populations_b3/PTAUY12_0001_comb -o Populations_b3\n",
      "sstacks -b 3 -c Populations_b3/batch_3 -s Populations_b3/PTAUY12_0002_comb -o Populations_b3\n",
      "sstacks -b 3 -c Populations_b3/batch_3 -s Populations_b3/PTAUY12_0003_comb -o Populations_b3\n",
      "sstacks -b 3 -c Populations_b3/batch_3 -s Populations_b3/PTAUY12_0004_comb -o Populations_b3\n",
      "sstacks -b 3 -c Populations_b3/batch_3 -s Populations_b3/PTAUY12_0005_comb -o Populations_b3\n",
      "sstacks -b 3 -c Populations_b3/batch_3 -s Populations_b3/PTAUY12_0006_comb -o Populations_b3\n",
      "sstacks -b 3 -c Populations_b3/batch_3 -s Populations_b3/PTAUY12_0008_comb -o Populations_b3\n",
      "sstacks -b 3 -c Populations_b3/batch_3 -s Populations_b3/PTAUY12_0009 -o Populations_b3\n",
      "sstacks -b 3 -c Populations_b3/batch_3 -s Populations_b3/PTAUY12_0010_comb -o Populations_b3\n",
      "sstacks -b 3 -c Populations_b3/batch_3 -s Populations_b3/PTAUY12_0011_comb -o Populations_b3\n",
      "sstacks -b 3 -c Populations_b3/batch_3 -s Populations_b3/PTAUY12_0014 -o Populations_b3\n",
      "sstacks -b 3 -c Populations_b3/batch_3 -s Populations_b3/PTAUY12_0015_comb -o Populations_b3\n",
      "sstacks -b 3 -c Populations_b3/batch_3 -s Populations_b3/PTAUY12_0016_comb -o Populations_b3\n",
      "sstacks -b 3 -c Populations_b3/batch_3 -s Populations_b3/PTAUY12_0019 -o Populations_b3\n",
      "sstacks -b 3 -c Populations_b3/batch_3 -s Populations_b3/PTAUY12_0021_comb -o Populations_b3\n",
      "sstacks -b 3 -c Populations_b3/batch_3 -s Populations_b3/PTAUY12_0022_comb -o Populations_b3\n",
      "sstacks -b 3 -c Populations_b3/batch_3 -s Populations_b3/PTAUY12_0023_comb -o Populations_b3\n",
      "sstacks -b 3 -c Populations_b3/batch_3 -s Populations_b3/PTAUY12_0024_comb -o Populations_b3\n",
      "sstacks -b 3 -c Populations_b3/batch_3 -s Populations_b3/PTAUY12_0025_comb -o Populations_b3\n",
      "sstacks -b 3 -c Populations_b3/batch_3 -s Populations_b3/PTAUY12_0026_comb -o Populations_b3\n",
      "sstacks -b 3 -c Populations_b3/batch_3 -s Populations_b3/PTAUY12_0027 -o Populations_b3\n",
      "sstacks -b 3 -c Populations_b3/batch_3 -s Populations_b3/PTAUY12_0030_comb -o Populations_b3\n",
      "sstacks -b 3 -c Populations_b3/batch_3 -s Populations_b3/PTAUY12_0031_comb -o Populations_b3\n",
      "sstacks -b 3 -c Populations_b3/batch_3 -s Populations_b3/PTAUY12_0032_comb -o Populations_b3\n",
      "sstacks -b 3 -c Populations_b3/batch_3 -s Populations_b3/PTAUY12_0033 -o Populations_b3\n",
      "sstacks -b 3 -c Populations_b3/batch_3 -s Populations_b3/PTAUY12_0034_comb -o Populations_b3\n",
      "sstacks -b 3 -c Populations_b3/batch_3 -s Populations_b3/PTAUY12_0035_comb -o Populations_b3\n",
      "sstacks -b 3 -c Populations_b3/batch_3 -s Populations_b3/PTAUY12_0036_comb -o Populations_b3\n",
      "sstacks -b 3 -c Populations_b3/batch_3 -s Populations_b3/PTAUY12_0038 -o Populations_b3\n",
      "sstacks -b 3 -c Populations_b3/batch_3 -s Populations_b3/PTAUY12_0039 -o Populations_b3\n",
      "sstacks -b 3 -c Populations_b3/batch_3 -s Populations_b3/PTAUY12_0041_comb -o Populations_b3\n",
      "sstacks -b 3 -c Populations_b3/batch_3 -s Populations_b3/PTAUY12_0042 -o Populations_b3"
     ],
     "language": "python",
     "metadata": {},
     "outputs": []
    },
    {
     "cell_type": "markdown",
     "metadata": {},
     "source": [
      "#Genotyping\n",
      "\n",
      "My computer doesnt have enough ram to run the stacks program populations, so I have to run it on other computers. I also have to use a blacklist to get the genotypes. \n",
      "\n",
      "The process of creating a blacklist and genotyping the samples is found in the notebook Stacks_blacklist_to_genotyping\n"
     ]
    },
    {
     "cell_type": "markdown",
     "metadata": {},
     "source": [
      "#Summary\n",
      "\n",
      "This notebook details the steps taken to:\n",
      "\n",
      "- run process_radtags on raw data\n",
      "- remove barcodes and rename samples with sample names\n",
      "- resequence samples\n",
      "- repeat process_radtags and renaming on resequenced samples\n",
      "- concatenate resequenced samples with original run \n",
      "- run ustacks on samples\n",
      "- run sstacks to find matches between samples and the catalog (catalog described elsewhere)\n",
      "\n",
      "\n",
      "Next steps:\n",
      "\n",
      "- run populations to genotype and haplotype the samples\n",
      "- filter population data \n",
      "- perform population analysis with the population data\n"
     ]
    },
    {
     "cell_type": "code",
     "collapsed": false,
     "input": [],
     "language": "python",
     "metadata": {},
     "outputs": []
    }
   ],
   "metadata": {}
  }
 ]
}