{
 "metadata": {
  "name": "",
  "signature": "sha256:b950ba5f29c12b04f9b29517961f8e298b425d05d157d1a14a3a5d194fcc42b1"
 },
 "nbformat": 3,
 "nbformat_minor": 0,
 "worksheets": [
  {
   "cells": [
    {
     "cell_type": "markdown",
     "metadata": {},
     "source": [
      "#Summary of Stacks Runs"
     ]
    },
    {
     "cell_type": "markdown",
     "metadata": {},
     "source": [
      "##OriginalCatalog; January (1/8)\n",
      "\n",
      "#####Process_radtags"
     ]
    },
    {
     "cell_type": "code",
     "collapsed": false,
     "input": [
      "process_radtags -p ./P01 -o ./P01 -b ./P01_barcodes.txt -e sbfI -r -c -q -t 94 -i gzfastq -E phred64\n",
      "process_radtags -p ./P02 -o ./P02 -b ./P02_barcodes.txt -e sbfI -r -c -q -t 94 -i gzfastq -E phred64\n",
      "process_radtags -p ./P03 -o ./P03 -b ./P03_barcodes.txt -e sbfI -r -c -q -t 94 -i gzfastq -E phred64\n",
      "process_radtags -p ./P04 -o ./P04 -b ./P04_barcodes.txt -e sbfI -r -c -q -t 94 -i gzfastq -E phred64\n",
      "process_radtags -p ./P05 -o ./P05 -b ./P05_barcodes.txt -e sbfI -r -c -q -t 94 -i gzfastq -E phred64\n",
      "process_radtags -p ./P06 -o ./P06 -b ./P06_barcodes.txt -e sbfI -r -c -q -t 94 -i gzfastq -E phred64\n",
      "process_radtags -p ./P07 -o ./P07 -b ./P07_barcodes.txt -e sbfI -r -c -q -t 94 -i gzfastq -E phred64\n",
      "process_radtags -p ./P08 -o ./P08 -b ./P08_barcodes.txt -e sbfI -r -c -q -t 94 -i gzfastq -E phred64\n",
      "process_radtags -p ./P09 -o ./P09 -b ./P09_barcodes.txt -e sbfI -r -c -q -t 94 -i gzfastq -E phred64\n",
      "process_radtags -p ./P10 -o ./P10 -b ./P10_barcodes.txt -e sbfI -r -c -q -t 94 -i gzfastq -E phred64\n",
      "process_radtags -p ./P11 -o ./P11 -b ./P11_barcodes.txt -e sbfI -r -c -q -t 94 -i gzfastq\n",
      "process_radtags -p ./P12 -o ./P12 -b ./P12_barcodes.txt -e sbfI -r -c -q -t 94 -i gzfastq"
     ],
     "language": "python",
     "metadata": {},
     "outputs": []
    },
    {
     "cell_type": "markdown",
     "metadata": {},
     "source": [
      "#####Ustacks"
     ]
    },
    {
     "cell_type": "code",
     "collapsed": false,
     "input": [
      "ustacks -t fastq -f Data_Inventory/Populations/Asian/First_Runs/PA1/PAMUR10_0001.fq -o Pop_analysis -i 1\n",
      "ustacks -t fastq -f Data_Inventory/Populations/Asian/First_Runs/PA1/PAMUR10_0002.fq -o Pop_analysis -i 2"
     ],
     "language": "python",
     "metadata": {},
     "outputs": []
    },
    {
     "cell_type": "markdown",
     "metadata": {},
     "source": [
      "#####Cstacks"
     ]
    },
    {
     "cell_type": "markdown",
     "metadata": {},
     "source": [
      "\n",
      "#catalog, with an n of 2 (the same as the ustacks) and a batch number of 1\n",
      "\n",
      "cstacks -b 1 -s Pop_analysis/PAMUR11_0023_comb -s Pop_analysis/PAMUR11_0029_comb -s Pop_analysis/PAMUR11_0031_comb -s Pop_analysis/PAMUR11_0033_comb -s Pop_analysis/PHAYLY09_0014_comb -s Pop_analysis/PHAYLY09_0030_comb -s Pop_analysis/PHAYLY09_0038_comb -s Pop_analysis/PHAYLY09_0042_comb -s Pop_analysis/PHAYLY10_0011_comb -s Pop_analysis/PHAYLY10_0012_comb -s Pop_analysis/PHAYLY10_0023_comb -s Pop_analysis/PHAYLY10_0046_comb -s Pop_analysis/PKOPE91T_0009 -s Pop_analysis/PKOPE91T_0013 -s Pop_analysis/PKOPE91T_0014 -s Pop_analysis/PKOPE91T_0020 -s Pop_analysis/PKOPE96T_0001 -s Pop_analysis/PKOPE96T_0009 -s Pop_analysis/PKOPE96T_0017 -s Pop_analysis/PKOPE96T_0018 -s Pop_analysis/PKUSHI06_0006_comb -s Pop_analysis/PKUSHI06_0009_comb -s Pop_analysis/PKUSHI06_0030_comb -s Pop_analysis/PKUSHI07_0029_comb -s Pop_analysis/PKUSHI07_0031_comb -s Pop_analysis/PSNOH03_0017 -s Pop_analysis/PSNOH03_0024 -s Pop_analysis/PSNOH03_0043 -s Pop_analysis/PSNOH03_0082 -s Pop_analysis/PSNOH96_0011 -s Pop_analysis/PSNOH96_0012 -s Pop_analysis/PSNOH96_0013 -s Pop_analysis/PSNOH96_0014 -s Pop_analysis/PNOME91_0001 -s Pop_analysis/PNOME91_0003 -s Pop_analysis/PNOME91_0016 -s Pop_analysis/PNOME91_0018 -s Pop_analysis/PNOME94_0007 -s Pop_analysis/PNOME94_0013 -s Pop_analysis/PNOME94_0014 -s Pop_analysis/PNOME94_0019 -s Pop_analysis/PTAUY09_0042_comb -s Pop_analysis/PTAUY12_0041_comb -s Pop_analysis/PAMUR10_0014 -s Pop_analysis/PAMUR10_0020 -s Pop_analysis/PAMUR10_0021 -s Pop_analysis/PAMUR10_0028 -s Pop_analysis/PBIRD13X_0102_comb -s Pop_analysis/PBIRD13X_0108_comb -s Pop_analysis/PBIRD13X_0110_comb -s Pop_analysis/PHOOD11X_0001 -s Pop_analysis/PHOOD11X_0005 -s Pop_analysis/PKUSHI06_0023 -s Pop_analysis/PKUSHI07_0015 -s Pop_analysis/PKUSHI07_0022 -s Pop_analysis/PTAUY09_0002 -s Pop_analysis/PTAUY09_0023 -s Pop_analysis/PTAUY09_0038 -s Pop_analysis/PTAUY12_0019 -s Pop_analysis/PTAUY12_0027 -s Pop_analysis/PTAUY12_0032 -o Pop_analysis -n 2\n"
     ]
    },
    {
     "cell_type": "markdown",
     "metadata": {},
     "source": [
      "#####Sstacks"
     ]
    },
    {
     "cell_type": "code",
     "collapsed": false,
     "input": [
      "sstacks -b 1 -c Pop_analysis/batch_1 -s Pop_analysis/PAMUR10_0001 -o Pop_analysis\n",
      "sstacks -b 1 -c Pop_analysis/batch_1 -s Pop_analysis/PAMUR10_0002 -o Pop_analysis\n",
      "sstacks -b 1 -c Pop_analysis/batch_1 -s Pop_analysis/PAMUR10_0003 -o Pop_analysis"
     ],
     "language": "python",
     "metadata": {},
     "outputs": []
    },
    {
     "cell_type": "markdown",
     "metadata": {},
     "source": [
      "#####Genotyping\n",
      "\n",
      "all of the pops split up into 3 folders, no pop map "
     ]
    },
    {
     "cell_type": "code",
     "collapsed": false,
     "input": [
      "populations -P Pop_analysis/Pop_1 -b 1 -r 0.80 -f p_value --structure --genepop --plink --phylip --write_single_snp \n",
      "populations -P Pop_analysis/Pop_2 -b 1 -r 0.80 -f p_value --structure --genepop --plink --phylip --write_single_snp \n",
      "populations -P Pop_analysis/Pop_3 -b 1 -r 0.80 -f p_value --structure --genepop --plink --phylip --write_single_snp "
     ],
     "language": "python",
     "metadata": {},
     "outputs": []
    },
    {
     "cell_type": "markdown",
     "metadata": {},
     "source": [
      "#####Filtering"
     ]
    },
    {
     "cell_type": "code",
     "collapsed": false,
     "input": [],
     "language": "python",
     "metadata": {},
     "outputs": []
    },
    {
     "cell_type": "markdown",
     "metadata": {},
     "source": [
      "##RenamedCatalog; (2/3)\n",
      "\n",
      "#####Process_radtags and Ustacks\n",
      "This run used the OriginalCatalog output from Ustacks, the process_radtags and ustacks commands were unchanged. "
     ]
    },
    {
     "cell_type": "markdown",
     "metadata": {},
     "source": [
      "#####Cstacks\n",
      "\n",
      "Used the catalog from Original Catalog and renamed it using the loci names from pink paper 1 and 2"
     ]
    },
    {
     "cell_type": "markdown",
     "metadata": {},
     "source": [
      "#####Sstacks"
     ]
    },
    {
     "cell_type": "code",
     "collapsed": false,
     "input": [
      "sstacks -b 1 -c Diploids/batch_1 -s Diploids/PAMUR10_0001 -o Diploids\n",
      "sstacks -b 1 -c Diploids/batch_1 -s Diploids/PAMUR10_0002 -o Diploids\n",
      "sstacks -b 1 -c Diploids/batch_1 -s Diploids/PAMUR10_0003 -o Diploids\n",
      "sstacks -b 1 -c Diploids/batch_1 -s Diploids/PAMUR10_0004 -o Diploids\n",
      "sstacks -b 1 -c Diploids/batch_1 -s Diploids/PAMUR10_0005_comb -o Diploids\n",
      "sstacks -b 1 -c Diploids/batch_1 -s Diploids/PAMUR10_0006_comb -o Diploids"
     ],
     "language": "python",
     "metadata": {},
     "outputs": []
    },
    {
     "cell_type": "markdown",
     "metadata": {},
     "source": [
      "#####Genotyping\n",
      "\n",
      "Made a Blacklist of loci by running populations with no filtering parameters on half of the individuals used in building the catalog. Based on their genotypes, I kept only snps that were genotyped in more than 7 individuals, the rest were added to a blacklist. This was done using a python script. "
     ]
    },
    {
     "cell_type": "code",
     "collapsed": false,
     "input": [
      "populations -b 1 -P Diploids -B 2 -t 6 --genepop --structure --plink\n",
      "populations -b 1 -P Haploids -B 2 -t 6 --genepop --structure --plink\n",
      "populations -b 1 -P GynoDips -B 2 -t 6 --genepop --structure --plink"
     ],
     "language": "python",
     "metadata": {},
     "outputs": []
    },
    {
     "cell_type": "markdown",
     "metadata": {},
     "source": [
      "##RenamedCatalog2; (5/9)\n",
      "\n",
      "This run of stacks was to correct the omission of the parameter --model_type in the Ustacks program in Stacks"
     ]
    },
    {
     "cell_type": "markdown",
     "metadata": {},
     "source": [
      "#####Process_radtags\n",
      "This run used the OriginalCatalog output from process_radtags (12/3/2014) as input for Ustacks"
     ]
    },
    {
     "cell_type": "markdown",
     "metadata": {},
     "source": [
      "#####Ustacks\n",
      "The samples were split between three computers to make it go faster. Ryan's, Tyler's and mine. "
     ]
    },
    {
     "cell_type": "markdown",
     "metadata": {},
     "source": [
      "ustacks\t-t\tfastq\t-f\tData_Inventory/Populations/Asian/First_Runs/PA1/PAMUR10_0001.fq\t-r \t--model_type bounded\t--bound_low 0\t--bound_high 0.05\t-o\tPop_analysis/RenamedCatalog2\t-i\t1"
     ]
    },
    {
     "cell_type": "markdown",
     "metadata": {},
     "source": [
      "#####Cstacks\n",
      "The catalog was rebuilt using the new ustacks output. One sample was misnamed in the command and had to be added to the catalog seperately, Tyler's BirdCreek 2014 mapping females were also added to this catalog. "
     ]
    },
    {
     "cell_type": "markdown",
     "metadata": {},
     "source": [
      "#cstacks_april2015.sh\n",
      "#April 2015\n",
      "\n",
      "#This shellscript is used to make the joint catalog from the samples that were run through ustacks\n",
      "#using the bounded model and the removal algorithm it has an n of 2 (the same as what was used in ustacks) and a batch number 2\n",
      "\n",
      "cstacks -b 2 -s all/PAMUR11_0023_comb -s all/PAMUR11_0029_comb -s all/PAMUR11_0031_comb -s all/PAMUR11_0033_comb -s all/PHAYLY09_0014_comb -s all/PHAYLY09_0030_comb -s all/PHAYLY09_0038_comb -s all/PHAYLY09_0042_comb -s all/PHAYLY10_0011_comb -s all/PHAYLY10_0012_comb -s all/PHAYLY10_0023_comb -s all/PHAYLY10_0046_comb -s all/PKOPE91T_0009 -s all/PKOPE91T_0013 -s all/PKOPE91T_0014 -s all/PKOPE91T_0020 -s all/PKOPE96T_0001 -s all/PKOPE96T_0009 -s all/PKOPE96T_0017 -s all/PKOPE96T_0018 -s all/PKUSHI06_0006_comb -s all/PKUSHI06_0009_comb -s all/PKUSHI06_0030_comb -s all/PKUSHI07_0029_comb -s all/PKUSHI07_0031_comb -s all/PSNOH03_0017 -s all/PSNOH03_0024 -s all/PSNOH03_0043 -s all/PSNOH03_0082 -s all/PSNOH96_0011 -s all/PSNOH96_0012 -s all/PSNOH96_0013 -s all/PSNOH96_0014 -s all/PNOME91_0001 -s all/PNOME91_0003 -s all/PNOME91_0016 -s all/PNOME91_0018 -s all/PNOME94_0007 -s all/PNOME94_0013 -s all/PNOME94_0014 -s all/PNOME94_0019 -s all/PTAUY09_0042_comb -s all/PTAUY12_0041_comb -s all/PAMUR10_0014 -s all/PAMUR10_0020 -s all/PAMUR10_0021 -s all/PAMUR10_0028 -s all/PBIRD13X_0102_comb -s all/PBIRD13X_0108_comb -s all/PBIRD13X_0110_comb -s all/PHOOD11X_0001 -s all/PHOOD11X_0005 -s all/PKUSHI06_0023 -s all/PKUSHI07_0015 -s all/PKUSHI07_0022 -s all/PTAUY09_0002 -s all/PTAUY09_0023 -s all/PTAUY09_0038 -s all/PTAUY12_0019 -s all/PTAUY12_0027 -s all/PTAUY12_0032 -s all/PBIRD14X_0101 -s all/PBIRD14X_0107 -o all -n 2\n"
     ]
    },
    {
     "cell_type": "code",
     "collapsed": false,
     "input": [
      "cstacks -b 3 -s editedcatalog/PTAUY12_0032_comb --catalog editedcatalog/batch_2.catalog -o editedcatalog -n 2"
     ],
     "language": "python",
     "metadata": {},
     "outputs": []
    },
    {
     "cell_type": "markdown",
     "metadata": {},
     "source": [
      "The catalog was renamed using the same method as the previous run. "
     ]
    },
    {
     "cell_type": "markdown",
     "metadata": {},
     "source": [
      "#####Sstacks\n",
      "Sstacks had to be run a couple times on these samples because the three different computers had different versions of Stacks, and the output was formatted differently between the computer runs. \n"
     ]
    },
    {
     "cell_type": "code",
     "collapsed": false,
     "input": [
      "sstacks -b 3 -c Diploids/batch_3 -s Diploids/PKOPE91T_0001 -o Diploids\n",
      "sstacks -b 3 -c Diploids/batch_3 -s Diploids/PKOPE91T_0002 -o Diploids\n",
      "sstacks -b 3 -c Diploids/batch_3 -s Diploids/PKOPE91T_0003 -o Diploids"
     ],
     "language": "python",
     "metadata": {},
     "outputs": []
    },
    {
     "cell_type": "markdown",
     "metadata": {},
     "source": [
      "#####Genotyping\n",
      "A blacklist was made using the same method as before, half of the catalog individuals were genotyped. Using their genotypes, I kept loci that were genotyped in five individulas or more. All the samples were run through populations at the same time using a population map, to distinguish populations in Plink"
     ]
    },
    {
     "cell_type": "code",
     "collapsed": false,
     "input": [
      "populations -b 3 -P Diploids -B batch_3_blacklist.txt -P diploidspops.txt --genepop --plink > dip_pop_log3.txt 2>&1"
     ],
     "language": "python",
     "metadata": {},
     "outputs": []
    },
    {
     "cell_type": "markdown",
     "metadata": {},
     "source": [
      "#####Filtering\n",
      "\n",
      "Filtering was done in Plink on Missing data, MAF and HWE per population and globally. \n",
      "One snp was retained per locus. \n",
      "\n",
      "Parameters:\n",
      "    \n",
      "Missingness\n",
      "- locus_max_miss = 0.25\n",
      "- ind_max_miss = 0.25\n",
      "\n",
      "MAF\n",
      "- local_MAF_threshold = 0.05\n",
      "- global_MAF_threshold = 0.05\n",
      "\n",
      "HWE\n",
      "- local_HWE_pval = .05\n",
      "- HWE_pop_threshold = 5    "
     ]
    },
    {
     "cell_type": "markdown",
     "metadata": {},
     "source": [
      "#####Visualizing Results\n",
      "Individual PCoA from PLINK was plotted in R. "
     ]
    },
    {
     "cell_type": "markdown",
     "metadata": {},
     "source": [
      "And a population based PCA (using pairwise Fsts calculated in GenePop) was plotted using Genalex in excel from the plink filtered results, translated to genepop using the program PGDspider, then run in GenePop to get the pairwise Fsts "
     ]
    },
    {
     "cell_type": "markdown",
     "metadata": {},
     "source": [
      "#####Summary Statistics"
     ]
    },
    {
     "cell_type": "markdown",
     "metadata": {},
     "source": [
      "##Populations_b3\n",
      "The goal of this run was to unfragment the earlier run of Stacks, running all the populations on one computer, and using one Stacks version, then to take extra care with the filtering in Plink. "
     ]
    },
    {
     "cell_type": "markdown",
     "metadata": {},
     "source": [
      "#####Process_radtags\n",
      "The same output from process_radtags was used as in the earlier runs. "
     ]
    },
    {
     "cell_type": "markdown",
     "metadata": {},
     "source": [
      "#####Ustacks"
     ]
    },
    {
     "cell_type": "markdown",
     "metadata": {},
     "source": [
      "sudo sh ustacks_sstacks_may.sh >ustacks_sstacks_may.log.txt 2>&1 \n",
      "\n",
      "ustacks -t fastq -f Data_Inventory/Populations/Asian/First_Runs/PA1/PAMUR10_0001.fq -r --model_type bounded --bound_low 0 --bound_high 0.05 -o Pop_analysis/Populations_b3 -i 1\n",
      "ustacks -t fastq -f Data_Inventory/Populations/Asian/First_Runs/PA1/PAMUR10_0002.fq -r --model_type bounded --bound_low 0 --bound_high 0.05 -o Pop_analysis/Populations_b3 -i 2\n"
     ]
    },
    {
     "cell_type": "markdown",
     "metadata": {},
     "source": [
      "#####Cstacks\n",
      "The same catalog was used as in the last run: batch 3"
     ]
    },
    {
     "cell_type": "markdown",
     "metadata": {},
     "source": [
      "#####Sstacks"
     ]
    },
    {
     "cell_type": "code",
     "collapsed": false,
     "input": [
      "sstacks -b 3 -c Pop_analysis/Populations_b3/batch_3 -s Pop_analysis/Populations_b3/PAMUR10_0001 -o Pop_analysis/Populations_b3\n",
      "sstacks -b 3 -c Pop_analysis/Populations_b3/batch_3 -s Pop_analysis/Populations_b3/PAMUR10_0002 -o Pop_analysis/Populations_b3\n",
      "sstacks -b 3 -c Pop_analysis/Populations_b3/batch_3 -s Pop_analysis/Populations_b3/PAMUR10_0003 -o Pop_analysis/Populations_b3"
     ],
     "language": "python",
     "metadata": {},
     "outputs": []
    },
    {
     "cell_type": "markdown",
     "metadata": {},
     "source": [
      "#####Genotyping\n",
      "The population map was remade for this run, but the black list is the same as the previous run. "
     ]
    },
    {
     "cell_type": "markdown",
     "metadata": {},
     "source": [
      "populations -b 3 -P Populations_b3 -M popmap_may.txt -B Populations_b3/batch_3_blacklist.txt -t 6 -r .2 --genepop --structure --plink\n"
     ]
    },
    {
     "cell_type": "markdown",
     "metadata": {},
     "source": [
      "#####Filtering\n",
      "The same commands were used to filter in PLINK as in the last run, one snp was retained per locus. "
     ]
    },
    {
     "cell_type": "markdown",
     "metadata": {},
     "source": [
      "Parameters:\n",
      "    \n",
      "Missingness\n",
      "- locus_max_miss = 0.25\n",
      "- ind_max_miss = 0.25\n",
      "\n",
      "MAF\n",
      "- local_MAF_threshold = 0.05\n",
      "- global_MAF_threshold = 0.05\n",
      "\n",
      "HWE\n",
      "- local_HWE_pval = .05\n",
      "- HWE_pop_threshold = 5    "
     ]
    },
    {
     "cell_type": "markdown",
     "metadata": {},
     "source": [
      "#####Visualizing Results\n",
      "The unfiltered genepop results from populations were used to calculate the pairwise Fst of the populations in the program GenePop. That matrix was taken in to excel and a population based PCA was plotted with the program Genalex. \n",
      "Individual PCoA from PLINK was plotted in R. "
     ]
    },
    {
     "cell_type": "code",
     "collapsed": false,
     "input": [
      "\n",
      "used these results to compare to January: \n",
      "\n",
      "PKOPE91T\tPKOPE96T\tPNOME91\tPNOME94\tPSNOH03\tPSNOH96\t\trecent\n",
      "0\t\t\t\t\t\t\t\t\t\t\t\t\t\t\tPKOPE91T\t\n",
      "0.079\t0\t\t\t\t\t\t\t\t\t\t\t\t\tPKOPE96T\t\n",
      "0.0775\t0.1061\t0\t\t\t\t\t\t\t\t\t\t\tPNOME91\t\n",
      "0.0776\t0.025\t0.0871\t0\t\t\t\t\t\t\t\t\tPNOME94\t\n",
      "0.0853\t0.1457\t0.0606\t0.1354\t0\t\t\t\t\t\t\tPSNOH03\t\n",
      "0.1283\t0.073\t0.0705\t0.0821\t0.1075\t0\t\t\t\t\tPSNOH96\t\n",
      "\t\t\t\t\t\t\t\n",
      "\t\t\t\t\t\t\t\n",
      "Koppen 91\tKoppen 96\tNome 91\tNome 94\tSnohomish 03\tSnohomish 96\t\tjan\n",
      "0\t\t\t\t\t\t\t\t\t\t\t\t\t\t\t\t\t\tKoppen 91\t\n",
      "0.0855\t0\t\t\t\t\t\t\t\t\t\t\t\t\t\t\t\tKoppen 96\t\n",
      "0.0407\t0.0768\t0\t\t\t\t\t\t\t\t\t\t\t\t\t\tNome 91\t\n",
      "0.0857\t0.0266\t0.0616\t0\t\t\t\t\t\t\t\t\t\t\t\tNome 94\t\n",
      "0.0521\t0.129\t0.0726\t0.1263\t0\t\t\t\t\t\t\t\t\t\tSnohomish 03\t\n",
      "0.1047\t0.0326\t0.0883\t0.0542\t0.1345\t0\t\t\t\t\t\t\t\tSnohomish 96\t\n",
      "\t\t\t\t\t\t\t\n",
      "\t\t\t\t\t\t\t\t\t\t\t\tdifferences between the two\n",
      "-0.0065\t\t\t\t\t\t\t\n",
      "0.0368\t0.0293\t\t\t\t\t\t\n",
      "-0.0081\t-0.0016\t0.0255\t\t\t\t\t\n",
      "0.0332\t0.0167\t-0.012\t0.0091\t\t\t\t\n",
      "0.0236\t0.0404\t-0.0178\t0.0279\t-0.027\t\t"
     ],
     "language": "python",
     "metadata": {},
     "outputs": []
    },
    {
     "cell_type": "markdown",
     "metadata": {},
     "source": [
      "#####Comparing Outlier Genotypes\n",
      "The genotypes from the outlier loci were compared between this run and the published genotypes. "
     ]
    },
    {
     "cell_type": "code",
     "collapsed": false,
     "input": [
      "0 missmatches : 52\n",
      "1 missmatch: \t33\n",
      "2 missmatches:\t13\n",
      "3 missmatches:\t1\n",
      "4 missmatches:\t3\n",
      "5 missmatches:\t2\n",
      "\n",
      "then one loci each with :\t6\t8\t11\t15\t16\t18\t20\t22\t23"
     ],
     "language": "python",
     "metadata": {},
     "outputs": []
    },
    {
     "cell_type": "markdown",
     "metadata": {},
     "source": [
      "## Stacks_B4 (5/29)\n",
      "this is the plan: \n",
      "\tuse the last run through ustacks that has the bounded snp model \n",
      "\tmake a new catalog from those individuals: \n",
      "\t\tthat has the same parameters as the other times\n",
      "\tsstacks\n",
      "\tpopulations\n",
      "\t\tsplit into three groups to run through \n",
      "\t\tuse -r .5 \n",
      "\t\tno blacklist or pop map\n",
      "\tfilter in genepop\n"
     ]
    },
    {
     "cell_type": "markdown",
     "metadata": {},
     "source": [
      "#####Process_radtags and Ustacks\n",
      "The output from the Populations_b3 run of stacks was used as the input for the cstacks and sstacks programs in this run. "
     ]
    },
    {
     "cell_type": "markdown",
     "metadata": {},
     "source": [
      "#####Cstacks\n",
      "The catalog was not renamed"
     ]
    },
    {
     "cell_type": "code",
     "collapsed": false,
     "input": [
      "\n",
      "cstacks -b 4 -s ustacks_out/PAMUR11_0023_comb -s ustacks_out/PAMUR11_0029_comb -s ustacks_out/PAMUR11_0031_comb -s ustacks_out/PAMUR11_0033_comb -s ustacks_out/PHAYLY09_0014_comb -s ustacks_out/PHAYLY09_0030_comb -s ustacks_out/PHAYLY09_0038_comb -s ustacks_out/PHAYLY09_0042_comb -s ustacks_out/PHAYLY10_0011_comb -s ustacks_out/PHAYLY10_0012_comb -s ustacks_out/PHAYLY10_0023_comb -s ustacks_out/PHAYLY10_0046_comb -s ustacks_out/PKOPE91T_0009 -s ustacks_out/PKOPE91T_0013 -s ustacks_out/PKOPE91T_0014 -s ustacks_out/PKOPE91T_0020 -s ustacks_out/PKOPE96T_0001 -s ustacks_out/PKOPE96T_0009 -s ustacks_out/PKOPE96T_0017 -s ustacks_out/PKOPE96T_0018 -s ustacks_out/PKUSHI06_0006_comb -s ustacks_out/PKUSHI06_0009_comb -s ustacks_out/PKUSHI06_0030_comb -s ustacks_out/PKUSHI07_0029_comb -s ustacks_out/PKUSHI07_0031_comb -s ustacks_out/PSNOH03_0017 -s ustacks_out/PSNOH03_0024 -s ustacks_out/PSNOH03_0043 -s ustacks_out/PSNOH03_0082 -s ustacks_out/PSNOH96_0011 -s ustacks_out/PSNOH96_0012 -s ustacks_out/PSNOH96_0013 -s ustacks_out/PSNOH96_0014 -s ustacks_out/PNOME91_0001 -s ustacks_out/PNOME91_0003 -s ustacks_out/PNOME91_0016 -s ustacks_out/PNOME91_0018 -s ustacks_out/PNOME94_0007 -s ustacks_out/PNOME94_0013 -s ustacks_out/PNOME94_0014 -s ustacks_out/PNOME94_0019 -s ustacks_out/PTAUY09_0042_comb -s ustacks_out/PTAUY12_0041_comb -s ustacks_out/PAMUR10_0014 -s ustacks_out/PAMUR10_0020 -s ustacks_out/PAMUR10_0021 -s ustacks_out/PAMUR10_0028 -s ustacks_out/PBIRD13X_0102_comb -s ustacks_out/PBIRD13X_0108_comb -s ustacks_out/PBIRD13X_0110_comb -s ustacks_out/PHOOD11X_0001 -s ustacks_out/PHOOD11X_0005 -s ustacks_out/PKUSHI06_0023 -s ustacks_out/PKUSHI07_0015 -s ustacks_out/PKUSHI07_0022 -s ustacks_out/PTAUY09_0002 -s ustacks_out/PTAUY09_0023 -s ustacks_out/PTAUY09_0038 -s ustacks_out/PTAUY12_0019 -s ustacks_out/PTAUY12_0027 -s ustacks_out/PTAUY12_0032_comb -s ustacks_out/PBIRD14X_0101 -s ustacks_out/PBIRD14X_0107 -o catalog -n 2"
     ],
     "language": "python",
     "metadata": {},
     "outputs": []
    },
    {
     "cell_type": "markdown",
     "metadata": {},
     "source": [
      "#####Sstacks"
     ]
    },
    {
     "cell_type": "code",
     "collapsed": false,
     "input": [
      "sstacks -b 4 -c catalog/batch_4 -s ustacks_out/PAMUR10_0001 -o sstacks_out\n",
      "sstacks -b 4 -c catalog/batch_4 -s ustacks_out/PAMUR10_0002 -o sstacks_out\n",
      "sstacks -b 4 -c catalog/batch_4 -s ustacks_out/PAMUR10_0003 -o sstacks_out\n",
      "sstacks -b 4 -c catalog/batch_4 -s ustacks_out/PAMUR10_0004 -o sstacks_out"
     ],
     "language": "python",
     "metadata": {},
     "outputs": []
    },
    {
     "cell_type": "markdown",
     "metadata": {},
     "source": [
      "#####Genotyping\n",
      "The Sstacks results were split into three folders and populations was run individually on them "
     ]
    },
    {
     "cell_type": "code",
     "collapsed": false,
     "input": [
      "populations -b 4 -P ./Pop1 -r .5 --write_single_snp --genepop\n",
      "populations -b 4 -P ./Pop2 -r .5 --write_single_snp --genepop\n",
      "populations -b 4 -P ./Pop3 -r .5 --write_single_snp --genepop"
     ],
     "language": "python",
     "metadata": {},
     "outputs": []
    },
    {
     "cell_type": "markdown",
     "metadata": {},
     "source": [
      "I used a python script that wes wrote to get the union of the loci that were genotyped for each of the groups, and made one genepop sheet with all the individuals and the loci that they had in common"
     ]
    },
    {
     "cell_type": "markdown",
     "metadata": {},
     "source": [
      "#####Filtering\n",
      "No filtering of the data"
     ]
    },
    {
     "cell_type": "markdown",
     "metadata": {},
     "source": [
      "#####Visualizing Results\n",
      "The unfiltered genepop file used to calculate the pairwise Fst of the populations in the program GenePop. That matrix was taken in to excel and a population based PCA was plotted with the program Genalex. "
     ]
    },
    {
     "cell_type": "markdown",
     "metadata": {},
     "source": [
      "##NA_june (6/1)\n",
      "This run just used the North America samples on their own and went all the way back to the raw data. "
     ]
    },
    {
     "cell_type": "markdown",
     "metadata": {},
     "source": [
      "#####Process_radtags"
     ]
    },
    {
     "cell_type": "code",
     "collapsed": false,
     "input": [
      "[rocess_radtags -p ./Data_Inventory/Populations/NA_2/P01 -o ./Data_Inventory/Populations/NA_2/P01 -b ./Data_Inventory/Populations/NA_2/P01_barcodes.txt -e sbfI -r -c -q -t 94 -i gzfastq -E phred64\n",
      "process_radtags -p ./Data_Inventory/Populations/NA_2/P02 -o ./Data_Inventory/Populations/NA_2/P02 -b ./Data_Inventory/Populations/NA_2/P02_barcodes.txt -e sbfI -r -c -q -t 94 -i gzfastq -E phred64\n",
      "process_radtags -p ./Data_Inventory/Populations/NA_2/P03 -o ./Data_Inventory/Populations/NA_2/P03 -b ./Data_Inventory/Populations/NA_2/P03_barcodes.txt -e sbfI -r -c -q -t 94 -i gzfastq -E phred64\n",
      "process_radtags -p ./Data_Inventory/Populations/NA_2/P04 -o ./Data_Inventory/Populations/NA_2/P04 -b ./Data_Inventory/Populations/NA_2/P04_barcodes.txt -e sbfI -r -c -q -t 94 -i gzfastq -E phred64\n",
      "process_radtags -p ./Data_Inventory/Populations/NA_2/P05 -o ./Data_Inventory/Populations/NA_2/P05 -b ./Data_Inventory/Populations/NA_2/P05_barcodes.txt -e sbfI -r -c -q -t 94 -i gzfastq -E phred64\n",
      "process_radtags -p ./Data_Inventory/Populations/NA_2/P06 -o ./Data_Inventory/Populations/NA_2/P06 -b ./Data_Inventory/Populations/NA_2/P06_barcodes.txt -e sbfI -r -c -q -t 94 -i gzfastq -E phred64\n",
      "process_radtags -p ./Data_Inventory/Populations/NA_2/P07 -o ./Data_Inventory/Populations/NA_2/P07 -b ./Data_Inventory/Populations/NA_2/P07_barcodes.txt -e sbfI -r -c -q -t 94 -i gzfastq -E phred64\n",
      "process_radtags -p ./Data_Inventory/Populations/NA_2/P08 -o ./Data_Inventory/Populations/NA_2/P08 -b ./Data_Inventory/Populations/NA_2/P08_barcodes.txt -e sbfI -r -c -q -t 94 -i gzfastq -E phred64\n",
      "process_radtags -p ./Data_Inventory/Populations/NA_2/P09 -o ./Data_Inventory/Populations/NA_2/P09 -b ./Data_Inventory/Populations/NA_2/P09_barcodes.txt -e sbfI -r -c -q -t 94 -i gzfastq -E phred64\n",
      "process_radtags -p ./Data_Inventory/Populations/NA_2/P10 -o ./Data_Inventory/Populations/NA_2/P10 -b ./Data_Inventory/Populations/NA_2/P10_barcodes.txt -e sbfI -r -c -q -t 94 -i gzfastq -E phred64\n",
      "process_radtags -p ./Data_Inventory/Populations/NA_2/P11 -o ./Data_Inventory/Populations/NA_2/P11 -b ./Data_Inventory/Populations/NA_2/P11_barcodes.txt -e sbfI -r -c -q -t 94 -i gzfastq\n",
      "process_radtags -p ./Data_Inventory/Populations/NA_2/P12 -o ./Data_Inventory/Populations/NA_2/P12 -b ./Data_Inventory/Populations/NA_2/P12_barcodes.txt -e sbfI -r -c -q -t 94 -i gzfastq"
     ],
     "language": "python",
     "metadata": {},
     "outputs": []
    },
    {
     "cell_type": "markdown",
     "metadata": {},
     "source": [
      "#####Renaming the samples\n",
      "The samples were renamed using the original barcode files located with the raw gata files. "
     ]
    },
    {
     "cell_type": "code",
     "collapsed": false,
     "input": [
      "cp ./Data_Inventory/Populations/NA_2/P01/sample_ACAGCG.fq ./Data_Inventory/Populations/NA_2/PSNOH96_0011.fq\n",
      "cp ./Data_Inventory/Populations/NA_2/P01/sample_ACCATG.fq ./Data_Inventory/Populations/NA_2/PSNOH96_0013.fq\n",
      "cp ./Data_Inventory/Populations/NA_2/P01/sample_ACCCCC.fq ./Data_Inventory/Populations/NA_2/PSNOH96_0014.fq"
     ],
     "language": "python",
     "metadata": {},
     "outputs": []
    },
    {
     "cell_type": "markdown",
     "metadata": {},
     "source": [
      "#####Ustacks"
     ]
    },
    {
     "cell_type": "code",
     "collapsed": false,
     "input": [
      "ustacks -t fastq -f Data_Inventory/Populations/NA_2/PKOPE91T_0001.fq -r --model_type bounded --bound_low 0 --bound_high 0.05 -o NA_june/ustacks -i 257\n",
      "ustacks -t fastq -f Data_Inventory/Populations/NA_2/PKOPE91T_0002.fq -r --model_type bounded --bound_low 0 --bound_high 0.05 -o NA_june/ustacks -i 258\n",
      "ustacks -t fastq -f Data_Inventory/Populations/NA_2/PKOPE91T_0003.fq -r --model_type bounded --bound_low 0 --bound_high 0.05 -o NA_june/ustacks -i 259"
     ],
     "language": "python",
     "metadata": {},
     "outputs": []
    },
    {
     "cell_type": "markdown",
     "metadata": {},
     "source": [
      "#####Cstacks\n",
      "\n",
      "A new catalog was built using the samples that are rerun from the proces_radtags stage. For this, the Asian population samples were copied over from the Stacks_B4 run. The resulting catalog was not rerun. "
     ]
    },
    {
     "cell_type": "code",
     "collapsed": false,
     "input": [
      "cp Pop_analysis/Stacks_B4_june/Pop3/PAMUR11_0023_comb.alleles.tsv NA_june/ustacks/PAMUR11_0023_comb.alleles.tsv\n",
      "cp Pop_analysis/Stacks_B4_june/Pop3/PAMUR11_0029_comb.alleles.tsv NA_june/ustacks/PAMUR11_0029_comb.alleles.tsv"
     ],
     "language": "python",
     "metadata": {},
     "outputs": []
    },
    {
     "cell_type": "code",
     "collapsed": false,
     "input": [
      "#This shellscript is used to make the joint catalog from the samples that were run through ustacks using the bounded model and the removal algorithm\n",
      "#it has an n of 2 (the same as what was used in ustacks) and a batch number 5\n",
      "\n",
      "cstacks -b 5 -s NA_june/ustacks/PAMUR11_0023_comb -s NA_june/ustacks/PAMUR11_0029_comb -s NA_june/ustacks/PAMUR11_0031_comb -s NA_june/ustacks/PAMUR11_0033_comb -s NA_june/ustacks/PHAYLY09_0014_comb -s NA_june/ustacks/PHAYLY09_0030_comb -s NA_june/ustacks/PHAYLY09_0038_comb -s NA_june/ustacks/PHAYLY09_0042_comb -s NA_june/ustacks/PHAYLY10_0011_comb -s NA_june/ustacks/PHAYLY10_0012_comb -s NA_june/ustacks/PHAYLY10_0023_comb -s NA_june/ustacks/PHAYLY10_0046_comb -s NA_june/ustacks/PKOPE91T_0009 -s NA_june/ustacks/PKOPE91T_0013 -s NA_june/ustacks/PKOPE91T_0014 -s NA_june/ustacks/PKOPE91T_0020 -s NA_june/ustacks/PKOPE96T_0001 -s NA_june/ustacks/PKOPE96T_0009 -s NA_june/ustacks/PKOPE96T_0017 -s NA_june/ustacks/PKOPE96T_0018 -s NA_june/ustacks/PKUSHI06_0006_comb -s NA_june/ustacks/PKUSHI06_0009_comb -s NA_june/ustacks/PKUSHI06_0030_comb -s NA_june/ustacks/PKUSHI07_0029_comb -s NA_june/ustacks/PKUSHI07_0031_comb -s NA_june/ustacks/PSNOH03_0017 -s NA_june/ustacks/PSNOH03_0024 -s NA_june/ustacks/PSNOH03_0043 -s NA_june/ustacks/PSNOH03_0082 -s NA_june/ustacks/PSNOH96_0011 -s NA_june/ustacks/PSNOH96_0012 -s NA_june/ustacks/PSNOH96_0013 -s NA_june/ustacks/PSNOH96_0014 -s NA_june/ustacks/PNOME91_0001 -s NA_june/ustacks/PNOME91_0003 -s NA_june/ustacks/PNOME91_0016 -s NA_june/ustacks/PNOME91_0018 -s NA_june/ustacks/PNOME94_0007 -s NA_june/ustacks/PNOME94_0013 -s NA_june/ustacks/PNOME94_0014 -s NA_june/ustacks/PNOME94_0019 -s NA_june/ustacks/PTAUY09_0042_comb -s NA_june/ustacks/PTAUY12_0041_comb -s NA_june/ustacks/PAMUR10_0014 -s NA_june/ustacks/PAMUR10_0020 -s NA_june/ustacks/PAMUR10_0021 -s NA_june/ustacks/PAMUR10_0028 -s NA_june/ustacks/PBIRD13X_0102_comb -s NA_june/ustacks/PBIRD13X_0108_comb -s NA_june/ustacks/PBIRD13X_0110_comb -s NA_june/ustacks/PHOOD11X_0001 -s NA_june/ustacks/PHOOD11X_0005 -s NA_june/ustacks/PKUSHI06_0023 -s NA_june/ustacks/PKUSHI07_0015 -s NA_june/ustacks/PKUSHI07_0022 -s NA_june/ustacks/PTAUY09_0002 -s NA_june/ustacks/PTAUY09_0023 -s NA_june/ustacks/PTAUY09_0038 -s NA_june/ustacks/PTAUY12_0019 -s NA_june/ustacks/PTAUY12_0027 -s NA_june/ustacks/PTAUY12_0032_comb -s NA_june/ustacks/PBIRD14X_0101 -s NA_june/ustacks/PBIRD14X_0107 -o NA_june/catalog -n 2"
     ],
     "language": "python",
     "metadata": {},
     "outputs": []
    },
    {
     "cell_type": "markdown",
     "metadata": {},
     "source": [
      "#####Sstacks"
     ]
    },
    {
     "cell_type": "code",
     "collapsed": false,
     "input": [
      "sstacks -b 5 -c NA_june/catalog/batch_5 -s NA_june/ustacks/PSNOH96_0011 -o NA_june/ustacks\n",
      "sstacks -b 5 -c NA_june/catalog/batch_5 -s NA_june/ustacks/PSNOH96_0013 -o NA_june/ustacks\n",
      "sstacks -b 5 -c NA_june/catalog/batch_5 -s NA_june/ustacks/PSNOH96_0014 -o NA_june/ustacks"
     ],
     "language": "python",
     "metadata": {},
     "outputs": []
    },
    {
     "cell_type": "markdown",
     "metadata": {},
     "source": [
      "#####Genotyping\n",
      "The sstacks results were split in to three groups, like before, and populations was run on each of those individually. "
     ]
    },
    {
     "cell_type": "code",
     "collapsed": false,
     "input": [
      "populations -b 5 -P ./Pop1 -r .5 --write_single_snp --genepop\n",
      "populations -b 5 -P ./Pop2 -r .5 --write_single_snp --genepop\n",
      "populations -b 5 -P ./Pop3 -r .5 --write_single_snp --genepop"
     ],
     "language": "python",
     "metadata": {},
     "outputs": []
    },
    {
     "cell_type": "markdown",
     "metadata": {},
     "source": [
      "The loci that were genotyped in all three groups were identified using wes' python program and the genotypes for all the samples were combined, in the same way as before"
     ]
    },
    {
     "cell_type": "markdown",
     "metadata": {},
     "source": [
      "#####Filtering\n",
      "No filtering was done on the data."
     ]
    },
    {
     "cell_type": "markdown",
     "metadata": {},
     "source": [
      "#####Visualizing the data\n",
      "The unfiltered genepop file used to calculate the pairwise Fst of the populations in the program GenePop. That matrix was taken in to excel and a population based PCA was plotted with the program Genalex."
     ]
    },
    {
     "cell_type": "markdown",
     "metadata": {},
     "source": [
      "#Next steps"
     ]
    },
    {
     "cell_type": "markdown",
     "metadata": {},
     "source": [
      "#####Do any populations look qualitatively different than the others?\n",
      "\n",
      "- look at the genotypes and plot summary statistics per individual:\n",
      "    (garrett might have a script that does this)\n",
      "    - plot average depth of coverage by individual \n",
      "    - missing data per individual by population (count missing script)\n",
      "    - heterozygotes (count hets script)\n",
      "- plot depth of coverage per individual against the number of reads from process_radtags\n",
      "- plot the distribution of the depth of coverage per individual per loci\n",
      "- summarize, per locus: \n",
      "        -Fis\n",
      "        -Fst \n",
      "        -Allele frequencies\n",
      "- Rank order the loci by Fst and look for patterns in the populations\n",
      "\n",
      "\n",
      "####Maybe its a visualization issue?\n",
      "- plot trees instead of PCA or PCoA\n",
      "- plot a PCA with the filtered Stacks_B4 data, does filtering make the difference? \n",
      "- do an individual based PCA of the NA_june samples\n",
      "\n",
      "#####Compare genotypes between runs:\n",
      "- compare january to stack_b4 genotypes, will require doing blast alignments\n",
      "- compare the published (seeb) outlier genotypes to the recent runs and look for the types of differences are the most common: het to homo makes the most sense, homo to homo is bad news\n",
      "\n",
      "#####Other: \n",
      "- compare the level of heterozygosity and the f statistics per popualation to the published numbers (paper 1)\n",
      "- Are we missing any individuals? \n",
      "    - Does the raw data on Foraker include the reruns of NA populations? "
     ]
    },
    {
     "cell_type": "markdown",
     "metadata": {},
     "source": [
      "#####Future runs of Stacks: \n",
      "- recreate the results from January by running those exact files and commands. When the results are varified, work backwards to figure out what difference cause changes to the PCoA and pairwise Fsts"
     ]
    },
    {
     "cell_type": "code",
     "collapsed": false,
     "input": [],
     "language": "python",
     "metadata": {},
     "outputs": []
    }
   ],
   "metadata": {}
  }
 ]
}