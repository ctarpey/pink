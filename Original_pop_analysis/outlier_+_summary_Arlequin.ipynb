{
 "metadata": {
  "name": "",
  "signature": "sha256:921bfffee8ec43d5ab9553f334ae8acfb2fd8890c87c62779b28478d941878bf"
 },
 "nbformat": 3,
 "nbformat_minor": 0,
 "worksheets": [
  {
   "cells": [
    {
     "cell_type": "code",
     "collapsed": false,
     "input": [
      "#Outlier test and Summary Statistics with Arlequin "
     ],
     "language": "python",
     "metadata": {},
     "outputs": []
    },
    {
     "cell_type": "code",
     "collapsed": false,
     "input": [
      "#Arlequin"
     ],
     "language": "python",
     "metadata": {},
     "outputs": []
    },
    {
     "cell_type": "markdown",
     "metadata": {},
     "source": [
      "\n"
     ]
    }
   ],
   "metadata": {}
  }
 ]
}