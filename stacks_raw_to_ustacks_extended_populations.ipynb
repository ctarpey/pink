{
 "cells": [
  {
   "cell_type": "markdown",
   "metadata": {},
   "source": [
    "# Stacks Workflow for Extended Pink Data (Susitna and BC):  Process_radtags, Concatenating and Ustacks"
   ]
  },
  {
   "cell_type": "markdown",
   "metadata": {},
   "source": [
    "#### Stacks version 1.32"
   ]
  },
  {
   "cell_type": "markdown",
   "metadata": {},
   "source": [
    "### Simplified steps:\n",
    "\n",
    "Run process_radtags to clean up, demultiplex and rename the samples, replacing the barcode with the sample name. This will be done in either direction for the reads of both the original run and reruns, as the sequences are paired-end. \n",
    "Concatenate the directional reads of process_radtags and combine all the concatenated samples in one file. \n",
    "Run ustacks on each sample. \n",
    "\n",
    "Continue with Stacks:  sstacks and genotyping"
   ]
  },
  {
   "cell_type": "markdown",
   "metadata": {},
   "source": [
    "### Data inventory:\n",
    "\n",
    "Susitna populations\n",
    "    \n",
    "    PDISAP 2013 24 individuals\n",
    "    PSPINK 2014 24 individuals\n",
    "    \n",
    "British Columbia populations \n",
    "    \n",
    "    PLAKEL 2006 24 individuals\n",
    "    PLAKEL 2007 24 individuals\n",
    "      "
   ]
  },
  {
   "cell_type": "markdown",
   "metadata": {},
   "source": [
    "### Background \n",
    "\n",
    "These samples were prepared for sequencing using bRAD, which sometimes leads to there being a barcode on the other end of the sequence- it isnt always next to the cut site. \n",
    "\n",
    "A separate factor for how we are running Stacks is that these are paired-end reads, which means that the sequence was read once from the front, or from the end of the fragment that has the cut site and then read again from the other side that does not have the cut site. The read from the side near the cut site is put into the file named R1 by Stacks, and the read from the side that is not near the cut site is put into R2. Anything that doesnt have a pair is put into the file that is called removed or .rem. The main reason that the reads are thrown out is if their other read was poor quality. Stacks also only keeps sequences that have the correct barcode and cut site, so it will artificially throw out the R1 with a barcode but no cut site. We don't use any of the sequences in the remainder files or the R2 sequences for snp calling.\n"
   ]
  },
  {
   "cell_type": "code",
   "execution_count": null,
   "metadata": {
    "collapsed": true
   },
   "outputs": [],
   "source": [
    "Here are the commands that I used to run process_radtags on these samples: \n",
    "\n",
    "process_radtags -1 ./DATA/PINK/RAD-SUSITNA_BC/RAW_DATA/Ogo1_S0_L006_R1_001.fastq -2 ./DATA/PINK/RAD-SUSITNA_BC/RAW_DATA/Ogo1_S0_L006_R2_001.fastq -o ./WORK/TARPEY/Exp_Pink_Pops/STACKS/PSBC1 -b ./WORK/TARPEY/Exp_Pink_Pops/STACKS/barcodesOgo1.txt -e sbfI -r -c -q -t 94 --filter_illumina -i fastq\n",
    "process_radtags -1 ./DATA/PINK/RAD-SUSITNA_BC/RAW_DATA/Ogo1_S0_L006_R2_001.fastq -2 ./DATA/PINK/RAD-SUSITNA_BC/RAW_DATA/Ogo1_S0_L006_R1_001.fastq -o ./WORK/TARPEY/Exp_Pink_Pops/STACKS/PSBC2 -b ./WORK/TARPEY/Exp_Pink_Pops/STACKS/barcodesOgo1.txt -e sbfI -r -c -q -t 94 --filter_illumina -i fastq\n",
    "process_radtags -1 ./DATA/PINK/RAD-SUSITNA_BC/RAW_DATA/Ogo1r_S60_L004_R1_001.fastq.gz -2 ./DATA/PINK/RAD-SUSITNA_BC/RAW_DATA/Ogo1r_S60_L004_R2_001.fastq.gz -o ./WORK/TARPEY/Exp_Pink_Pops/STACKS/PSBC1r -b ./WORK/TARPEY/Exp_Pink_Pops/STACKS/barcodesOgo1.txt -e sbfI -r -c -q -t 94 --filter_illumina -y fastq -i gzfastq\n",
    "process_radtags -1 ./DATA/PINK/RAD-SUSITNA_BC/RAW_DATA/Ogo1r_S60_L004_R2_001.fastq.gz -2 ./DATA/PINK/RAD-SUSITNA_BC/RAW_DATA/Ogo1r_S60_L004_R1_001.fastq.gz -o ./WORK/TARPEY/Exp_Pink_Pops/STACKS/PSBC2r -b ./WORK/TARPEY/Exp_Pink_Pops/STACKS/barcodesOgo1.txt -e sbfI -r -c -q -t 94 --filter_illumina -y fastq -i gzfastq"
   ]
  },
  {
   "cell_type": "markdown",
   "metadata": {},
   "source": [
    "To concatenate the output from process_radtags, I used a perl script that Garrett wrote called combine.pl. It takes the .1.fq files for one individual from each of the four process_radtags runs and concatenates them together in a new file, and the same with the .2.fq output files."
   ]
  },
  {
   "cell_type": "code",
   "execution_count": null,
   "metadata": {
    "collapsed": true
   },
   "outputs": [],
   "source": [
    "#/usr/bin/perl -w\n",
    "\n",
    "use strict;\n",
    "\n",
    "my@files=`ls PSBC1`;\n",
    "my%samples;\n",
    "foreach my$file (@files){\n",
    "\tif($file=~/.fq/){\n",
    "\t\tmy@info=split '\\.', $file;\n",
    "\t\t#print \"$info[0]\\n\";\n",
    "\t\t$samples{$info[0]}++;\n",
    "\t}\n",
    "}\n",
    "\n",
    "foreach my$sample (sort keys %samples){\n",
    "\tprint \"$sample\\n\";\n",
    "\tmy$catCommand1=\"cat ./PSBC1/\".$sample.\".1.fq ./PSBC1r/\".$sample.\".1.fq ./PSBC2/\".$sample.\".1.fq ./PSBC2r/\".$sample.\".1.fq >./Combined/\".$sample.\".1.combined.fq\";\n",
    "\tprint \"$catCommand1\\n\";\n",
    "\t`$catCommand1`;\n",
    "\tmy$catCommand2=\"cat ./PSBC1/\".$sample.\".2.fq ./PSBC1r/\".$sample.\".2.fq ./PSBC2/\".$sample.\".2.fq ./PSBC2r/\".$sample.\".2.fq >./Combined/\".$sample.\".2.combined.fq\";\n",
    "\tprint \"$catCommand2\\n\";\n",
    "\t`$catCommand2`;\n",
    "}"
   ]
  },
  {
   "cell_type": "markdown",
   "metadata": {},
   "source": [
    "To check that the samples concatenated correctly, I used a perl script that Garrett wrote that compares the number of lines in each of the original outputs from process_radtags for one sample before concatenaing and compares that to the number of lines in the concatenated file for each of the samples. It is called checkCombineLength.pl and it caught an error the first time I ran it through, which led me to re-run the concatenation script with a change to one of the file names.  (What is shown is the most current and accurate run.)"
   ]
  },
  {
   "cell_type": "code",
   "execution_count": null,
   "metadata": {
    "collapsed": true
   },
   "outputs": [],
   "source": [
    "#/usr/bin/perl -w\n",
    "use strict;\n",
    "\n",
    "my@files=`ls PSBC1`;\n",
    "my%samples;\n",
    "foreach my$file (@files){\n",
    "\tif($file=~/.fq/){\n",
    "\t\tmy@info=split '\\.', $file;\n",
    "\t\t$samples{$info[0]}++;\n",
    "\t}\n",
    "}\n",
    "\n",
    "print \"Sample\\tPSBC1\\tPSBC1r\\tPSBC2\\tPSBC2r\\tCombined\\tMatch\\n\";\n",
    "foreach my$sample (sort keys %samples){\n",
    "\tmy$lengthCommand1=\"wc -l ./PSBC1/\".$sample.\".1.fq\";\n",
    "\tmy$lengthCommand2=\"wc -l ./PSBC1r/\".$sample.\".1.fq\";\n",
    "\tmy$lengthCommand3=\"wc -l ./PSBC2/\".$sample.\".1.fq\";\n",
    "\tmy$lengthCommand4=\"wc -l ./PSBC2r/\".$sample.\".1.fq\";\n",
    "\tmy$lengthCommand5=\"wc -l ./combined/\".$sample.\".1.combined.fq\";\n",
    "\tmy$lengthResult1=`$lengthCommand1`;\n",
    "\tmy$lengthResult2=`$lengthCommand2`;\n",
    "\tmy$lengthResult3=`$lengthCommand3`;\n",
    "\tmy$lengthResult4=`$lengthCommand4`;\n",
    "\tmy$lengthResult5=`$lengthCommand5`;\n",
    "\tchomp $lengthResult1;\n",
    "\tchomp $lengthResult2;\n",
    "\tchomp $lengthResult3;\n",
    "\tchomp $lengthResult4;\n",
    "\tchomp $lengthResult5;\n",
    "\tmy$match1;\n",
    "\tif($lengthResult5==$lengthResult1+$lengthResult2+$lengthResult3+$lengthResult4){\n",
    "\t\t$match1=1;\n",
    "\t}else{\n",
    "\t\t$match1=0;\n",
    "\t}\n",
    "\tprint \"$sample.1.fq\\t$lengthResult1\\t$lengthResult2\\t$lengthResult3\\t$lengthResult4\\t$lengthResult5\\t$match1\\n\";\n",
    "\t\n",
    "\tmy$lengthCommand6=\"wc -l ./PSBC1/\".$sample.\".2.fq\";\n",
    "\tmy$lengthCommand7=\"wc -l ./PSBC1r/\".$sample.\".2.fq\";\n",
    "\tmy$lengthCommand8=\"wc -l ./PSBC2/\".$sample.\".2.fq\";\n",
    "\tmy$lengthCommand9=\"wc -l ./PSBC2r/\".$sample.\".2.fq\";\n",
    "\tmy$lengthCommand10=\"wc -l ./combined/\".$sample.\".2.combined.fq\";\n",
    "\tmy$lengthResult6=`$lengthCommand6`;\n",
    "\tmy$lengthResult7=`$lengthCommand7`;\n",
    "\tmy$lengthResult8=`$lengthCommand8`;\n",
    "\tmy$lengthResult9=`$lengthCommand9`;\n",
    "\tmy$lengthResult10=`$lengthCommand10`;\n",
    "\tchomp $lengthResult6;\n",
    "\tchomp $lengthResult7;\n",
    "\tchomp $lengthResult8;\n",
    "\tchomp $lengthResult9;\n",
    "\tchomp $lengthResult10;\n",
    "\tmy$match2;\n",
    "\tif($lengthResult10==$lengthResult6+$lengthResult7+$lengthResult8+$lengthResult9){\n",
    "\t\t$match2=1;\n",
    "\t}else{\n",
    "\t\t$match2=0;\n",
    "\t}\n",
    "\tprint \"$sample.2.fq\\t$lengthResult6\\t$lengthResult7\\t$lengthResult8\\t$lengthResult9\\t$lengthResult10\\t$match2\\n\";\n",
    "}"
   ]
  },
  {
   "cell_type": "markdown",
   "metadata": {
    "collapsed": true
   },
   "source": [
    "These samples were shown to have been concatenated successfully. The next step on the Stacks pipeline is to run Ustacks.  To match previously run population samples, I used the same command on these pink samples. The parameters are these:\n",
    "\n",
    "    -t the type of data file\n",
    "    -f the path name to the concatenated samples\n",
    "    -o the folder where the output should be placed\n",
    "    -r use the removal algorithm and drop highly repetitive stacks\n",
    "    --model_type bounded\n",
    "    --bound_low 0\n",
    "    --bound_high 0.05\n",
    "    -i the SQL database number\n",
    "\n",
    "It is imperative that the SQL number be unique to each individual. Previous runs ended with 777, so I started with 800. Here are the commands that were used to run ustacks on these samples, and the terminal output was copied to a txt file using | tee: "
   ]
  },
  {
   "cell_type": "code",
   "execution_count": null,
   "metadata": {
    "collapsed": true
   },
   "outputs": [],
   "source": [
    "ustacks -t fastq -f Combined/PDISAP13_0004.1.combined.fq -r --model_type bounded --bound_low 0 --bound_high 0.05 -o Ustacks -i 800 \n",
    "ustacks -t fastq -f Combined/PDISAP13_0008.1.combined.fq -r --model_type bounded --bound_low 0 --bound_high 0.05 -o Ustacks -i 801 \n",
    "ustacks -t fastq -f Combined/PDISAP13_0009.1.combined.fq -r --model_type bounded --bound_low 0 --bound_high 0.05 -o Ustacks -i 802 \n",
    "ustacks -t fastq -f Combined/PDISAP13_0012.1.combined.fq -r --model_type bounded --bound_low 0 --bound_high 0.05 -o Ustacks -i 803 \n",
    "ustacks -t fastq -f Combined/PDISAP13_0013.1.combined.fq -r --model_type bounded --bound_low 0 --bound_high 0.05 -o Ustacks -i 804 \n",
    "ustacks -t fastq -f Combined/PDISAP13_0033.1.combined.fq -r --model_type bounded --bound_low 0 --bound_high 0.05 -o Ustacks -i 805 \n",
    "ustacks -t fastq -f Combined/PDISAP13_0056.1.combined.fq -r --model_type bounded --bound_low 0 --bound_high 0.05 -o Ustacks -i 806 \n",
    "ustacks -t fastq -f Combined/PDISAP13_0064.1.combined.fq -r --model_type bounded --bound_low 0 --bound_high 0.05 -o Ustacks -i 807 \n",
    "ustacks -t fastq -f Combined/PDISAP13_0066.1.combined.fq -r --model_type bounded --bound_low 0 --bound_high 0.05 -o Ustacks -i 808 \n",
    "ustacks -t fastq -f Combined/PDISAP13_0067.1.combined.fq -r --model_type bounded --bound_low 0 --bound_high 0.05 -o Ustacks -i 809 \n",
    "ustacks -t fastq -f Combined/PDISAP13_0069.1.combined.fq -r --model_type bounded --bound_low 0 --bound_high 0.05 -o Ustacks -i 810 \n",
    "ustacks -t fastq -f Combined/PDISAP13_0070.1.combined.fq -r --model_type bounded --bound_low 0 --bound_high 0.05 -o Ustacks -i 811 \n",
    "ustacks -t fastq -f Combined/PDISAP13_0071.1.combined.fq -r --model_type bounded --bound_low 0 --bound_high 0.05 -o Ustacks -i 812 \n",
    "ustacks -t fastq -f Combined/PDISAP13_0073.1.combined.fq -r --model_type bounded --bound_low 0 --bound_high 0.05 -o Ustacks -i 813 \n",
    "ustacks -t fastq -f Combined/PDISAP13_0077.1.combined.fq -r --model_type bounded --bound_low 0 --bound_high 0.05 -o Ustacks -i 814 \n",
    "ustacks -t fastq -f Combined/PDISAP13_0078.1.combined.fq -r --model_type bounded --bound_low 0 --bound_high 0.05 -o Ustacks -i 815 \n",
    "ustacks -t fastq -f Combined/PDISAP13_0079.1.combined.fq -r --model_type bounded --bound_low 0 --bound_high 0.05 -o Ustacks -i 816 \n",
    "ustacks -t fastq -f Combined/PDISAP13_0080.1.combined.fq -r --model_type bounded --bound_low 0 --bound_high 0.05 -o Ustacks -i 817 \n",
    "ustacks -t fastq -f Combined/PDISAP13_0081.1.combined.fq -r --model_type bounded --bound_low 0 --bound_high 0.05 -o Ustacks -i 818 \n",
    "ustacks -t fastq -f Combined/PDISAP13_0090.1.combined.fq -r --model_type bounded --bound_low 0 --bound_high 0.05 -o Ustacks -i 819 \n",
    "ustacks -t fastq -f Combined/PDISAP13_0091.1.combined.fq -r --model_type bounded --bound_low 0 --bound_high 0.05 -o Ustacks -i 820 \n",
    "ustacks -t fastq -f Combined/PDISAP13_0092.1.combined.fq -r --model_type bounded --bound_low 0 --bound_high 0.05 -o Ustacks -i 821 \n",
    "ustacks -t fastq -f Combined/PDISAP13_0094.1.combined.fq -r --model_type bounded --bound_low 0 --bound_high 0.05 -o Ustacks -i 822 \n",
    "ustacks -t fastq -f Combined/PDISAP13_0095.1.combined.fq -r --model_type bounded --bound_low 0 --bound_high 0.05 -o Ustacks -i 823 \n",
    "ustacks -t fastq -f Combined/PLAKEL06_0018.1.combined.fq -r --model_type bounded --bound_low 0 --bound_high 0.05 -o Ustacks -i 824 \n",
    "ustacks -t fastq -f Combined/PLAKEL06_0020.1.combined.fq -r --model_type bounded --bound_low 0 --bound_high 0.05 -o Ustacks -i 825 \n",
    "ustacks -t fastq -f Combined/PLAKEL06_0027.1.combined.fq -r --model_type bounded --bound_low 0 --bound_high 0.05 -o Ustacks -i 826 \n",
    "ustacks -t fastq -f Combined/PLAKEL06_0028.1.combined.fq -r --model_type bounded --bound_low 0 --bound_high 0.05 -o Ustacks -i 827 \n",
    "ustacks -t fastq -f Combined/PLAKEL06_0031.1.combined.fq -r --model_type bounded --bound_low 0 --bound_high 0.05 -o Ustacks -i 828 \n",
    "ustacks -t fastq -f Combined/PLAKEL06_0035.1.combined.fq -r --model_type bounded --bound_low 0 --bound_high 0.05 -o Ustacks -i 829 \n",
    "ustacks -t fastq -f Combined/PLAKEL06_0039.1.combined.fq -r --model_type bounded --bound_low 0 --bound_high 0.05 -o Ustacks -i 830 \n",
    "ustacks -t fastq -f Combined/PLAKEL06_0043.1.combined.fq -r --model_type bounded --bound_low 0 --bound_high 0.05 -o Ustacks -i 831 \n",
    "ustacks -t fastq -f Combined/PLAKEL06_0044.1.combined.fq -r --model_type bounded --bound_low 0 --bound_high 0.05 -o Ustacks -i 832 \n",
    "ustacks -t fastq -f Combined/PLAKEL06_0047.1.combined.fq -r --model_type bounded --bound_low 0 --bound_high 0.05 -o Ustacks -i 833 \n",
    "ustacks -t fastq -f Combined/PLAKEL06_0060.1.combined.fq -r --model_type bounded --bound_low 0 --bound_high 0.05 -o Ustacks -i 834 \n",
    "ustacks -t fastq -f Combined/PLAKEL06_0061.1.combined.fq -r --model_type bounded --bound_low 0 --bound_high 0.05 -o Ustacks -i 835 \n",
    "ustacks -t fastq -f Combined/PLAKEL06_0063.1.combined.fq -r --model_type bounded --bound_low 0 --bound_high 0.05 -o Ustacks -i 836 \n",
    "ustacks -t fastq -f Combined/PLAKEL06_0066.1.combined.fq -r --model_type bounded --bound_low 0 --bound_high 0.05 -o Ustacks -i 837 \n",
    "ustacks -t fastq -f Combined/PLAKEL06_0068.1.combined.fq -r --model_type bounded --bound_low 0 --bound_high 0.05 -o Ustacks -i 838 \n",
    "ustacks -t fastq -f Combined/PLAKEL06_0069.1.combined.fq -r --model_type bounded --bound_low 0 --bound_high 0.05 -o Ustacks -i 839 \n",
    "ustacks -t fastq -f Combined/PLAKEL06_0070.1.combined.fq -r --model_type bounded --bound_low 0 --bound_high 0.05 -o Ustacks -i 840 \n",
    "ustacks -t fastq -f Combined/PLAKEL06_0073.1.combined.fq -r --model_type bounded --bound_low 0 --bound_high 0.05 -o Ustacks -i 841 \n",
    "ustacks -t fastq -f Combined/PLAKEL06_0074.1.combined.fq -r --model_type bounded --bound_low 0 --bound_high 0.05 -o Ustacks -i 842 \n",
    "ustacks -t fastq -f Combined/PLAKEL06_0075.1.combined.fq -r --model_type bounded --bound_low 0 --bound_high 0.05 -o Ustacks -i 843 \n",
    "ustacks -t fastq -f Combined/PLAKEL06_0084.1.combined.fq -r --model_type bounded --bound_low 0 --bound_high 0.05 -o Ustacks -i 844 \n",
    "ustacks -t fastq -f Combined/PLAKEL06_0092.1.combined.fq -r --model_type bounded --bound_low 0 --bound_high 0.05 -o Ustacks -i 845 \n",
    "ustacks -t fastq -f Combined/PLAKEL06_0094.1.combined.fq -r --model_type bounded --bound_low 0 --bound_high 0.05 -o Ustacks -i 846 \n",
    "ustacks -t fastq -f Combined/PLAKEL06_0101.1.combined.fq -r --model_type bounded --bound_low 0 --bound_high 0.05 -o Ustacks -i 847 \n",
    "ustacks -t fastq -f Combined/PLAKEL07_0029.1.combined.fq -r --model_type bounded --bound_low 0 --bound_high 0.05 -o Ustacks -i 848 \n",
    "ustacks -t fastq -f Combined/PLAKEL07_0031.1.combined.fq -r --model_type bounded --bound_low 0 --bound_high 0.05 -o Ustacks -i 849 \n",
    "ustacks -t fastq -f Combined/PLAKEL07_0038.1.combined.fq -r --model_type bounded --bound_low 0 --bound_high 0.05 -o Ustacks -i 850 \n",
    "ustacks -t fastq -f Combined/PLAKEL07_0039.1.combined.fq -r --model_type bounded --bound_low 0 --bound_high 0.05 -o Ustacks -i 851 \n",
    "ustacks -t fastq -f Combined/PLAKEL07_0042.1.combined.fq -r --model_type bounded --bound_low 0 --bound_high 0.05 -o Ustacks -i 852 \n",
    "ustacks -t fastq -f Combined/PLAKEL07_0046.1.combined.fq -r --model_type bounded --bound_low 0 --bound_high 0.05 -o Ustacks -i 853 \n",
    "ustacks -t fastq -f Combined/PLAKEL07_0050.1.combined.fq -r --model_type bounded --bound_low 0 --bound_high 0.05 -o Ustacks -i 854 \n",
    "ustacks -t fastq -f Combined/PLAKEL07_0056.1.combined.fq -r --model_type bounded --bound_low 0 --bound_high 0.05 -o Ustacks -i 855 \n",
    "ustacks -t fastq -f Combined/PLAKEL07_0058.1.combined.fq -r --model_type bounded --bound_low 0 --bound_high 0.05 -o Ustacks -i 856 \n",
    "ustacks -t fastq -f Combined/PLAKEL07_0160.1.combined.fq -r --model_type bounded --bound_low 0 --bound_high 0.05 -o Ustacks -i 857 \n",
    "ustacks -t fastq -f Combined/PLAKEL07_0166.1.combined.fq -r --model_type bounded --bound_low 0 --bound_high 0.05 -o Ustacks -i 858 \n",
    "ustacks -t fastq -f Combined/PLAKEL07_0167.1.combined.fq -r --model_type bounded --bound_low 0 --bound_high 0.05 -o Ustacks -i 859 \n",
    "ustacks -t fastq -f Combined/PLAKEL07_0169.1.combined.fq -r --model_type bounded --bound_low 0 --bound_high 0.05 -o Ustacks -i 860 \n",
    "ustacks -t fastq -f Combined/PLAKEL07_0172.1.combined.fq -r --model_type bounded --bound_low 0 --bound_high 0.05 -o Ustacks -i 861 \n",
    "ustacks -t fastq -f Combined/PLAKEL07_0174.1.combined.fq -r --model_type bounded --bound_low 0 --bound_high 0.05 -o Ustacks -i 862 \n",
    "ustacks -t fastq -f Combined/PLAKEL07_0175.1.combined.fq -r --model_type bounded --bound_low 0 --bound_high 0.05 -o Ustacks -i 863 \n",
    "ustacks -t fastq -f Combined/PLAKEL07_0176.1.combined.fq -r --model_type bounded --bound_low 0 --bound_high 0.05 -o Ustacks -i 864 \n",
    "ustacks -t fastq -f Combined/PLAKEL07_0178.1.combined.fq -r --model_type bounded --bound_low 0 --bound_high 0.05 -o Ustacks -i 865 \n",
    "ustacks -t fastq -f Combined/PLAKEL07_0179.1.combined.fq -r --model_type bounded --bound_low 0 --bound_high 0.05 -o Ustacks -i 866 \n",
    "ustacks -t fastq -f Combined/PLAKEL07_0180.1.combined.fq -r --model_type bounded --bound_low 0 --bound_high 0.05 -o Ustacks -i 867 \n",
    "ustacks -t fastq -f Combined/PLAKEL07_0181.1.combined.fq -r --model_type bounded --bound_low 0 --bound_high 0.05 -o Ustacks -i 868 \n",
    "ustacks -t fastq -f Combined/PLAKEL07_0190.1.combined.fq -r --model_type bounded --bound_low 0 --bound_high 0.05 -o Ustacks -i 869 \n",
    "ustacks -t fastq -f Combined/PLAKEL07_0198.1.combined.fq -r --model_type bounded --bound_low 0 --bound_high 0.05 -o Ustacks -i 870 \n",
    "ustacks -t fastq -f Combined/PLAKEL07_0200.1.combined.fq -r --model_type bounded --bound_low 0 --bound_high 0.05 -o Ustacks -i 871 \n",
    "ustacks -t fastq -f Combined/PSPINK14_0001.1.combined.fq -r --model_type bounded --bound_low 0 --bound_high 0.05 -o Ustacks -i 872 \n",
    "ustacks -t fastq -f Combined/PSPINK14_0004.1.combined.fq -r --model_type bounded --bound_low 0 --bound_high 0.05 -o Ustacks -i 873 \n",
    "ustacks -t fastq -f Combined/PSPINK14_0006.1.combined.fq -r --model_type bounded --bound_low 0 --bound_high 0.05 -o Ustacks -i 874 \n",
    "ustacks -t fastq -f Combined/PSPINK14_0007.1.combined.fq -r --model_type bounded --bound_low 0 --bound_high 0.05 -o Ustacks -i 875 \n",
    "ustacks -t fastq -f Combined/PSPINK14_0009.1.combined.fq -r --model_type bounded --bound_low 0 --bound_high 0.05 -o Ustacks -i 876 \n",
    "ustacks -t fastq -f Combined/PSPINK14_0012.1.combined.fq -r --model_type bounded --bound_low 0 --bound_high 0.05 -o Ustacks -i 877 \n",
    "ustacks -t fastq -f Combined/PSPINK14_0014.1.combined.fq -r --model_type bounded --bound_low 0 --bound_high 0.05 -o Ustacks -i 878 \n",
    "ustacks -t fastq -f Combined/PSPINK14_0015.1.combined.fq -r --model_type bounded --bound_low 0 --bound_high 0.05 -o Ustacks -i 879 \n",
    "ustacks -t fastq -f Combined/PSPINK14_0018.1.combined.fq -r --model_type bounded --bound_low 0 --bound_high 0.05 -o Ustacks -i 880 \n",
    "ustacks -t fastq -f Combined/PSPINK14_0020.1.combined.fq -r --model_type bounded --bound_low 0 --bound_high 0.05 -o Ustacks -i 881 \n",
    "ustacks -t fastq -f Combined/PSPINK14_0021.1.combined.fq -r --model_type bounded --bound_low 0 --bound_high 0.05 -o Ustacks -i 882 \n",
    "ustacks -t fastq -f Combined/PSPINK14_0024.1.combined.fq -r --model_type bounded --bound_low 0 --bound_high 0.05 -o Ustacks -i 883 \n",
    "ustacks -t fastq -f Combined/PSPINK14_0028.1.combined.fq -r --model_type bounded --bound_low 0 --bound_high 0.05 -o Ustacks -i 884 \n",
    "ustacks -t fastq -f Combined/PSPINK14_0029.1.combined.fq -r --model_type bounded --bound_low 0 --bound_high 0.05 -o Ustacks -i 885 \n",
    "ustacks -t fastq -f Combined/PSPINK14_0035.1.combined.fq -r --model_type bounded --bound_low 0 --bound_high 0.05 -o Ustacks -i 886 \n",
    "ustacks -t fastq -f Combined/PSPINK14_0037.1.combined.fq -r --model_type bounded --bound_low 0 --bound_high 0.05 -o Ustacks -i 887 \n",
    "ustacks -t fastq -f Combined/PSPINK14_0039.1.combined.fq -r --model_type bounded --bound_low 0 --bound_high 0.05 -o Ustacks -i 888 \n",
    "ustacks -t fastq -f Combined/PSPINK14_0041.1.combined.fq -r --model_type bounded --bound_low 0 --bound_high 0.05 -o Ustacks -i 889 \n",
    "ustacks -t fastq -f Combined/PSPINK14_0042.1.combined.fq -r --model_type bounded --bound_low 0 --bound_high 0.05 -o Ustacks -i 890 \n",
    "ustacks -t fastq -f Combined/PSPINK14_0043.1.combined.fq -r --model_type bounded --bound_low 0 --bound_high 0.05 -o Ustacks -i 891 \n",
    "ustacks -t fastq -f Combined/PSPINK14_0044.1.combined.fq -r --model_type bounded --bound_low 0 --bound_high 0.05 -o Ustacks -i 892 \n",
    "ustacks -t fastq -f Combined/PSPINK14_0045.1.combined.fq -r --model_type bounded --bound_low 0 --bound_high 0.05 -o Ustacks -i 893 \n",
    "ustacks -t fastq -f Combined/PSPINK14_0051.1.combined.fq -r --model_type bounded --bound_low 0 --bound_high 0.05 -o Ustacks -i 894 \n",
    "ustacks -t fastq -f Combined/PSPINK14_0052.1.combined.fq -r --model_type bounded --bound_low 0 --bound_high 0.05 -o Ustacks -i 895 "
   ]
  },
  {
   "cell_type": "code",
   "execution_count": null,
   "metadata": {
    "collapsed": true
   },
   "outputs": [],
   "source": []
  },
  {
   "cell_type": "code",
   "execution_count": null,
   "metadata": {
    "collapsed": true
   },
   "outputs": [],
   "source": []
  },
  {
   "cell_type": "code",
   "execution_count": null,
   "metadata": {
    "collapsed": true
   },
   "outputs": [],
   "source": []
  }
 ],
 "metadata": {
  "kernelspec": {
   "display_name": "Python 2",
   "language": "python",
   "name": "python2"
  },
  "language_info": {
   "codemirror_mode": {
    "name": "ipython",
    "version": 2
   },
   "file_extension": ".py",
   "mimetype": "text/x-python",
   "name": "python",
   "nbconvert_exporter": "python",
   "pygments_lexer": "ipython2",
   "version": "2.7.11"
  }
 },
 "nbformat": 4,
 "nbformat_minor": 0
}
