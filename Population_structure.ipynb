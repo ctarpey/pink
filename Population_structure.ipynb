{
 "metadata": {
  "name": "",
  "signature": "sha256:93377087d39d69e0230cbfa7d4b7336f04be179c046ca73849a1d27c21f8b563"
 },
 "nbformat": 3,
 "nbformat_minor": 0,
 "worksheets": [
  {
   "cells": [
    {
     "cell_type": "markdown",
     "metadata": {},
     "source": [
      "#Structure\n",
      "\n",
      "##PopTree2"
     ]
    },
    {
     "cell_type": "markdown",
     "metadata": {},
     "source": [
      "I downloaded Poptree2 from the website and made up the input file for it from the population data. I used the last or latest files generated on the 29th of June, the 16681_80 and made a new folder in the PopAnalysis directory to house it all. \n",
      "\n",
      "i ran it initially with a bootstrap of 100, and the default a distance Da and the phylogeny NJ. Im not sure if there is a better way to do it. I will def do a bigger bootstrap, I was just afraid the large dataset would crash the program. \n",
      "\n",
      "Lisa's paper says that they used the Da and did a NJ tree and used a bootstrap of 10,000 so thats whats running right now. \n",
      "\n",
      "the results look good and normal to me, Im not sure how to save the image as an image, when i just saved it using the save feature it opened it in Mega when I went to open and look at it again. I had to take a screen shot, edit it in powerpoint and then save that image in word to sent it to Lisa. \n",
      "\n",
      "July 29\n",
      "\n",
      "Ok, so i wanted to make a tree with the neutral loci, so i have to make a list of the neutral ones. I have a list of the putatively non-neutral ones, but they are not the names of the actual loci, theyre the place in the list, like the order, numbered one to 16681. so I took the list of outliers into excel, along with the list of all the loci as their actual names from the genepop file, and numbered the genepopfile loci. then i did a vlookup with the numbered loci to the list of outlier loci, and those that were not listed had #N/A which means that they arent outliers. I took all those and made a list to subset the genepop by. Called the file 15284_80_neutralSET.txt And used that neutral loci genepop file to make my poptree. \n",
      "\n",
      "Like in the beginning of July, the test is run using the Da and with a NJ tree and used a bootstrap of 10,000 . I got a tree back that didn't have the names of the populations so it was hard to interpret. I think that I maybe replaced the pop with the names before? but I dont really have any notes on that, so I cant tell. I tried it again, replaced the pop with the names of the populations and tried to run it. \n",
      "I tried a couple times, but so far it wont run. \n",
      "\n"
     ]
    },
    {
     "cell_type": "code",
     "collapsed": false,
     "input": [
      "#fastStructure"
     ],
     "language": "python",
     "metadata": {},
     "outputs": []
    },
    {
     "cell_type": "code",
     "collapsed": false,
     "input": [
      "         $$ October 9  2015\n",
      "==================================================================\n",
      "\n",
      "fastSTRUCTURE\n",
      "uses a .bed file for the format. but you have to make sure that the .fam, .bim files are all in the same path OR you can use the Structure file format. \n",
      "\n",
      "While the original Structure program allowed for a more flexible input format, fastStructure expects a more specific Structure-like input format. Specifically, rows in the data file correspond to samples, with two rows per sample (note that only diploids are handled by this software), and columns correspond to SNPs. The first 6 columns of the file will be ignored; these typically would include IDs, metadata, etc. This software only handles bi-allelic loci. The two alleles at each locus can be encoded as desired; however, missing data should be encoded as `-9'.\n",
      "\n",
      "Using PGD spider to make the file, it can take a genepop file. So i pulled one out 16681_80_one-per_line.txt and put in on the desktop in the folder OutlierTestIn. Deleted the begining with all the names of the loci and started a PGD spider run with the file \n",
      "\n",
      "INFO  16:01:52 - Saved SPID file as: genepop_to_Structure.spid\n",
      "INFO  16:01:52 - loading SPID file: genepop_to_Structure.spid\n",
      "INFO  16:01:54 - Convert...\n",
      "INFO  16:01:54 - convert GENEPOP:batch_3_16681_pop_80_one_line.genepop.txt to STRUCTURE:16681_80_structure\n",
      "INFO  16:04:05 - translation completed\n",
      "\n",
      "Im looking through how to run it: \n",
      "In order to choose the appropriate number of model components that explain structure in the dataset, we recommend running the algorithm for multiple choices of K. We have provided a utility tool to parse through the output of these runs and provide a reasonable range of values for the model complexity appropriate for this dataset.\n",
      "Assuming the algorithm was run on the test dataset for choices of K ranging from 1 to 10, and the output flag was --output=test/testoutput_simple, you can obtain the model complexity by doing the following:\n",
      "\n",
      "ok put the fastStructure file on Ubuntu Shared and am trying to compile it overthere\n"
     ],
     "language": "python",
     "metadata": {},
     "outputs": []
    }
   ],
   "metadata": {}
  }
 ]
}