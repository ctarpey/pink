{

 "metadata": {

  "name": "",

  "signature": "sha256:79a2c9ff01912b227cfdbaf4b2e64e7edb4fcb9a66fddd3abfefb4f75fce9b6e"

 },

 "nbformat": 3,

 "nbformat_minor": 0,

 "worksheets": [

  {

   "cells": [

    {

     "cell_type": "markdown",

     "metadata": {},

     "source": [

      "#Stacks Workflow for Pink Data: \n",

      "    Blacklist, SStacks and Genotyping \n"

     ]

    },

    {

     "cell_type": "markdown",

     "metadata": {},

     "source": [

      "#Blacklist background: "

     ]

    },

    {

     "cell_type": "markdown",

     "metadata": {},

     "source": [

      "The blacklist is used to reduce the number of loci called using the program stacks. Basically it's an early filtering step that eliminates a set of loci from being called in stacks. By identifying loci that are not important to the downstream analysis, those that will inevitably be filtered out, we can reduce the burden on my computer to try to genotype all the samples. "

     ]

    },

    {

     "cell_type": "markdown",

     "metadata": {},

     "source": [

      "Steps:"

     ]

    },

    {

     "cell_type": "markdown",

     "metadata": {},

     "source": [

      "1. Get genotypes for a representative subset of samples using the Stacks program populations. \n",

      "2. Explore trends in the genotypes to identify potential patterns in loci to include in the blacklist.\n",

      "3. Write python scripts that identify and extract the names of loci that fit in the identified constraints.\n"

     ]

    },

    {

     "cell_type": "markdown",

     "metadata": {},

     "source": [

      "#Step 1: Genotypes\n",

      "\n",

      "This process seems a little circular, as you need a set of genotypes from the data to identify the genotypes that can be eliminated using the blacklist. Because the blacklist is being used to reduce the burden of genotyping on the computer, a smaller set of samples instead of the whole set is needed to generate the genotypes. Since the samples chosen for the catalog were already identified as a group that are representative of the whole range of the data, they are a natural fit for this purpose as well. \n",

      "\n",

      "These samples were run as a single population in the Stacks program populations without any constraints. Usually we would run populations with a flag of -r, the minimum percentage of individuals in a population required to process a locus for that population and -a, to specify a minimum minor allele frequency required before calculating Fst at a locus (0 < a < 0.5) But here we want all the loci in the output. The blacklist will not eliminate all the loci that we will eventually want to filter out, but it is a strong start. \n",

      "\n",

      "This was the command to genotype the catalog samples. The -b corresponds to the batch 3 catalog, the renamed catalog. (the structure and plink outputs are really unecessary) The -t refers to the number of threads, on Ryan's computer stacks can be run multithreaded.\n",

      "\n",

      "populations -b 3 -P CatInds -t 6 --genepop --structure --plink"

     ]

    },

    {

     "cell_type": "markdown",

     "metadata": {},

     "source": [

      "#Step 2: Choosing constraints that identify loci to blacklist\n",

      "\n",

      "The program stacks produces a number of outputs, one of which is the log file. It gives an account of the distribution of the catalog loci that were genotyped in the data. I used it to identify a cut off of the number of loci that are not important for the analysis. The point of the blacklist is to eliminate loci that will inevitably be filtered out from the analysis, and loci that do not genotype in the majority of individuals will not be informative for the population analysis down the line. For instance, loci that were only genotyped in two individuals should be included in the blacklist because they will be filtered out with even the most loose constraints during the filtering process anyway. \n",

      "\n",

      "The hard part was identifying the cut off. Below is the population log from running the populations program on the catalog individuals. "

     ]

    },

    {

     "cell_type": "markdown",

     "metadata": {},

     "source": [

      "\n",

      "below is the log from the run. \n",

      "I talked to Garrett about how there were three loci that didnt genotype in any of the individuals, (which is strange because these are the individuals that were used to make the catalog) and he said that out of 666,351 loci 3 doesnt mean anything (probably).\n",

      "\n",

      "the log will be used to identify patterns in the number of loci genotyped at each individual. The first time we did this using half of the catalog, there wasnt really a clear break, but here it seems like we could eliminate the loci that didnt genotype in fewer than 5 individuals, and that would eliminate a huge percentage of the loci, ensuring our being able to genoytpe the population samples and eliminating a lot of the loci that would ineveitably be filtered out. 559007/666351=.839 "

     ]

    },

    {

     "cell_type": "code",

     "collapsed": false,

     "input": [

      "populations version 1.29 executed 2015-04-29 12:13:46\n",

      "\n",

      "# Distribution of population loci.\n",

      "# Distribution of valid loci matched to catalog locus.\n",

      "# Valid samples at locus\tCount\n",

      "0\t3\n",

      "1\t495993\n",

      "2\t38203\n",

      "3\t15890\n",

      "4\t8918\n",

      "5\t5621\n",

      "6\t4025\n",

      "7\t2905\n",

      "8\t2209\n",

      "9\t1661\n",

      "10\t1362\n",

      "11\t1245\n",

      "12\t1000\n",

      "13\t877\n",

      "14\t808\n",

      "15\t709\n",

      "16\t636\n",

      "17\t545\n",

      "18\t536\n",

      "19\t466\n",

      "20\t437\n",

      "21\t441\n",

      "22\t413\n",

      "23\t406\n",

      "24\t398\n",

      "25\t369\n",

      "26\t371\n",

      "27\t320\n",

      "28\t321\n",

      "29\t315\n",

      "30\t355\n",

      "31\t337\n",

      "32\t288\n",

      "33\t294\n",

      "34\t333\n",

      "35\t321\n",

      "36\t300\n",

      "37\t361\n",

      "38\t301\n",

      "39\t340\n",

      "40\t361\n",

      "41\t354\n",

      "42\t362\n",

      "43\t343\n",

      "44\t387\n",

      "45\t424\n",

      "46\t466\n",

      "47\t466\n",

      "48\t564\n",

      "49\t750\n",

      "50\t1085\n",

      "51\t689\n",

      "52\t667\n",

      "53\t696\n",

      "54\t739\n",

      "55\t767\n",

      "56\t848\n",

      "57\t1061\n",

      "58\t1227\n",

      "59\t1571\n",

      "60\t2697\n",

      "61\t7490\n",

      "62\t34296\n",

      "63\t17408"

     ],

     "language": "python",

     "metadata": {},

     "outputs": []

    },

    {

     "cell_type": "markdown",

     "metadata": {},

     "source": [

      "The blacklist needs the names of the loci so that it knows what not to include. The haplotype file is an output of the stacks run that includes all details about any loci that was genotyped. It does not include the names of the loci that were not genotyped in any individuals. \n",

      "\n",

      "#Step 3: Building the blacklist\n",

      "\n",

      "There are 666,351 tags in the catalog but the haplotype file does not have all those loci listed, and those loci that Stacks has thrown out should be the base for the blacklist, as stacks identified them as trash. \n",

      "\n",

      "The following python script takes the catalog ID (all 666,351) as one list and the loci that were included in the haplotype file as the other list and it finds that set of loci IDs that are not in the haplotype list but are in the catalog list. These are the loci that Stacks has thrown out and are going to be the base of the blackslist. \n",

      "\n",

      "The intersection script (below) needs two things:\n",

      "\n",

      "\t1. a list of all the tags in the catalog: get this from the catalolg file .tags.tsv\n",

      "\t2. a list of all the loci that were genotyped in at least one individual: get this from the the haplotypes file\n",

      "    \n",

      "This is the command I used: \n",

      "python blacklist_intersection.py catalog_tags.txt genotyped_loci.txt >zeros.txt"

     ]

    },

    {

     "cell_type": "code",

     "collapsed": false,

     "input": [

      "#blacklist_intersection.py\n",

      "#april2015\n",

      "\n",

      "#!/bin/bash\n",

      "\n",

      "# want to find where these two lists are different. We want the loci that didnt genotype in anyindividuals because they will be the beginning of the blacklist. \n",

      "\n",

      "#The listoftags are all the tag names from the catalog\n",

      "#The listofloci are all the loci that were genotyped in at least one individual of the test set to determine the blacklist of loci not to include.\n",

      "\n",

      "import sys\n",

      "\n",

      "with open(sys.argv[1], \"r\") as f: \n",

      "\tlonglist = f.read().splitlines()\n",

      "\n",

      "with open(sys.argv[2], \"r\") as g: \n",

      "\tshorterlist = g.read().splitlines()\t\n",

      "\n",

      "s = set(shorterlist)\n",

      "differences = [x for x in longlist if x not in s]\n",

      "\n",

      "for x in differences: \n",

      "\tprint x\n"

     ],

     "language": "python",

     "metadata": {},

     "outputs": []

    },

    {

     "cell_type": "markdown",

     "metadata": {},

     "source": [

      "This script gave me a list of 270 samples when I was expecting 3. So i think that hopefully its some default that stacks is doing, some internal thing that kicks out loci because they dont meet some given constraints. anyway they can be the beginning of my blacklist as long as i make sure that there isnt any sinester error lurking around behind it all \n",

      " cant find anywhere in the stacks manuals what the defaults are for what it ends up reporting in the haplotypes file when you dont specify anything. \n",

      "i talked to garrett and he said that i shouldnt really worry, there arent that many loci, it makes sense that stacks would throw some out and sometimes we cant know why or how it does it. \n",

      "\n",

      "he recommended that i look at the samples that it did return those 270 and see if they show up in the sumstats file, and whether any patterns emerge there. I did a quick find replace to see if I could identify any of them, but none of the ones i was looking for were in the sumstats file. \n"

     ]

    },

    {

     "cell_type": "code",

     "collapsed": false,

     "input": [

      "#filelength.py\n",

      "#april 2015 \n",

      "\n",

      "with open(\"catalog_tags.txt\") as f:\n",

      "\tfor i, l in enumerate(f):\n",

      "\t\tpass\n",

      "\tprint i + 1\n",

      "\n",

      "#filelength.py\n",

      "#april 2015 \n",

      "\n",

      "with open(\"genotyped_loci.txt\") as f:\n",

      "\tfor i, l in enumerate(f):\n",

      "\t\tpass\n",

      "\tprint i + 1\n"

     ],

     "language": "python",

     "metadata": {},

     "outputs": []

    },

    {

     "cell_type": "markdown",

     "metadata": {},

     "source": [

      "It gave me that the catalog tags is 666351, which is exactly what we want and expect\n"

     ]

    },

    {

     "cell_type": "code",

     "collapsed": false,

     "input": [

      "carolyn@ubuntu:/media/carolyn/Seagate Expansion Drive/Analysis/Pop_analysis/RenamedCatalog2/Blacklist$ tail catalog_tags.txt\n",

      "666342\n",

      "666343\n",

      "666344\n",

      "666345\n",

      "666346\n",

      "666347\n",

      "666348\n",

      "666349\n",

      "666350\n",

      "666351\n",

      "carolyn@ubuntu:/media/carolyn/Seagate Expansion Drive/Analysis/Pop_analysis/RenamedCatalog2/Blacklist$ tail genotyped_loci.txt\n",

      "666342\n",

      "666343\n",

      "666344\n",

      "666345\n",

      "666346\n",

      "666347\n",

      "666348\n",

      "666349\n",

      "666350\n",

      "666351"

     ],

     "language": "python",

     "metadata": {},

     "outputs": []

    },

    {

     "cell_type": "code",

     "collapsed": false,

     "input": [

      "#filter_genotypes_less_than_inds.py\n",

      "\n",

      "#sys.argv[1] : the haplotype file\n",

      "#sys.argv[2] : the baby blacklist (those loci that didnt genotype)\n",

      "#sys.argv[3] : the cutoff number that it will pull loci for the blacklist if they loci are genotyped in this number or fewer\n",

      "#sys.argv[4] : the final combined file, actual blacklist? \n",

      " \n",

      "import sys\n",

      "\n",

      "# take the haplotype file and read it line by line\n",

      "\n",

      "haplotypes = open(sys.argv[1], \"r\")\t\n",

      "babyblacklist = open(sys.argv[2], \"r\")\t\n",

      "blacklistfile = open(sys.argv[4], \"w\")\t\n",

      "cutoff = float(sys.argv[3])\n",

      "miniblacklist = []\n",

      "count = 0\n",

      "#haplotypeslines = haplotypes.readlines()[1:] #reads from the second line\n",

      "\n",

      "# for each line, and parse it into three columns\n",

      "with haplotypes as f: \n",

      "\tnext(f)\n",

      "\tfor line in f:   #read one line  of the excel file at a time and \n",

      "\t\tcolumns = line.split(\"\\t\") #take that line and split it up by the tabs\n",

      "\t\ttemp = columns[1]\n",

      "\t\ttempint = int(temp) # and if the second column is less than or equal to some argument\n",

      "\t\tif tempint <= cutoff:\n",

      "\t\t\tcount += 1\n",

      "\t\t\tminiblacklist.append(columns[0]) # put the first column into a list\n",

      "\t\t\t#print columns[0] \n",

      "\t\telse: \n",

      "\t\t\tcontinue \n",

      "\n",

      "#take that list and name it its own file name like genotyped in fewer than ... \n",

      "#for x in miniblacklist:    \n",

      "\t #blacklistfile.write(x, '/n) \n",

      "\n",

      "#read in babyblacklist in and concatenate it with the miniblacklist and sort them\n",

      "babyblacklistlist = babyblacklist.read().splitlines() #file contents in a list by line without /n\n",

      "#print babyblacklistlist\n",

      "#print miniblacklist\n",

      "\n",

      "concatenated = (babyblacklistlist + miniblacklist)\n",

      "#print concatenated\n",

      "concatenated = [int(x) for x in concatenated] #makes the items in the list into integers \n",

      "concatenated.sort() #sorts them in place, you dont need any new name for the list\n",

      "#print concatenated[0]\n",

      "#print concatenated\n",

      "\n",

      "#save the sorted concatenated list to a file\n",

      "for item in concatenated: \n",

      "\tblacklistfile.write(\"%s\\n\" % item)  \n",

      "\n",

      "print count # the number of loci that met the >=cutoff, but were >0\n",

      "\n",

      "haplotypes.close()\n",

      "blacklistfile.close()\n",

      "babyblacklist.close()\n",

      "\n"

     ],

     "language": "python",

     "metadata": {},

     "outputs": []

    },

    {

     "cell_type": "markdown",

     "metadata": {},

     "source": [

      "The command: \n",

      "python filter_genotypes_less_than_inds.py batch_3.haplotypes.tsv zeros.txt 4 batch_3_blacklist.txt\n",

      "\n",

      "I used 4 here because this file takes the cutoff number as the number of individuals that were genotyped in this or below, and we want to keep loci that were genotyped in five individuals or more. \n",

      "\n",

      "print count # the number of loci that met the >=cutoff, but were >0\n",

      "558956\n",

      "\n",

      "ok so theres the blacklist!!\n",

      "\n",

      "I used the little script that counts the length of a file to see how many loci names were in there: \n",

      "\n",

      "python filelength.py\n",

      "559226\n",

      "\n",

      "and that seems perfect, because its the loci from the zeros list plus the loci that were not genotyped in more than 4 individuals. \n"

     ]

    },

    {

     "cell_type": "markdown",

     "metadata": {},

     "source": [

      "#Sstacks\n",

      "\n",

      "Sstacks matches the stacks made in ustacks for each sample, with the stacks in the catalog to identify loci. The command was run on each file individually and I used a shell script for a previous run of sstacks as a template. To get the sample names I wrote the contents of each of the files to a text file. The renamed catalog was included in the file with the sample stacks output files it to make the analysis more streamlined (batch_3). \n"

     ]

    },

    {

     "cell_type": "code",

     "collapsed": false,

     "input": [

      "#ustacks_sstacks_may.sh\n",

      "#may 13, 2015\n",

      "#sstacks\n",

      "\n",

      "sstacks -b 3 -c Populations_b3/batch_3 -s Populations_b3//PAMUR10_0001 -o Populations_b3\n",

      "sstacks -b 3 -c Populations_b3/batch_3 -s Populations_b3/PAMUR10_0002 -o Populations_b3\n",

      "sstacks -b 3 -c Populations_b3/batch_3 -s Populations_b3/PAMUR10_0003 -o Populations_b3\n",

      "sstacks -b 3 -c Populations_b3/batch_3 -s Populations_b3/PAMUR10_0004 -o Populations_b3\n",

      "sstacks -b 3 -c Populations_b3/batch_3 -s Populations_b3/PAMUR10_0005_comb -o Populations_b3\n",

      "sstacks -b 3 -c Populations_b3/batch_3 -s Populations_b3/PAMUR10_0006_comb -o Populations_b3\n",

      "sstacks -b 3 -c Populations_b3/batch_3 -s Populations_b3/PAMUR10_0007 -o Populations_b3\n",

      "sstacks -b 3 -c Populations_b3/batch_3 -s Populations_b3/PAMUR10_0008 -o Populations_b3\n",

      "sstacks -b 3 -c Populations_b3/batch_3 -s Populations_b3/PAMUR10_0009 -o Populations_b3\n",

      "sstacks -b 3 -c Populations_b3/batch_3 -s Populations_b3/PAMUR10_0010 -o Populations_b3\n",

      "sstacks -b 3 -c Populations_b3/batch_3 -s Populations_b3/PAMUR10_0011 -o Populations_b3\n",

      "sstacks -b 3 -c Populations_b3/batch_3 -s Populations_b3/PAMUR10_0012 -o Populations_b3\n",

      "sstacks -b 3 -c Populations_b3/batch_3 -s Populations_b3/PAMUR10_0013_comb -o Populations_b3\n",

      "sstacks -b 3 -c Populations_b3/batch_3 -s Populations_b3/PAMUR10_0014 -o Populations_b3\n",

      "sstacks -b 3 -c Populations_b3/batch_3 -s Populations_b3/PAMUR10_0015 -o Populations_b3\n",

      "sstacks -b 3 -c Populations_b3/batch_3 -s Populations_b3/PAMUR10_0016_comb -o Populations_b3\n",

      "sstacks -b 3 -c Populations_b3/batch_3 -s Populations_b3/PAMUR10_0017 -o Populations_b3\n",

      "sstacks -b 3 -c Populations_b3/batch_3 -s Populations_b3/PAMUR10_0018_comb -o Populations_b3\n",

      "sstacks -b 3 -c Populations_b3/batch_3 -s Populations_b3/PAMUR10_0019 -o Populations_b3\n",

      "sstacks -b 3 -c Populations_b3/batch_3 -s Populations_b3/PAMUR10_0020 -o Populations_b3\n",

      "sstacks -b 3 -c Populations_b3/batch_3 -s Populations_b3/PAMUR10_0021 -o Populations_b3\n",

      "sstacks -b 3 -c Populations_b3/batch_3 -s Populations_b3/PAMUR10_0022 -o Populations_b3\n",

      "sstacks -b 3 -c Populations_b3/batch_3 -s Populations_b3/PAMUR10_0023 -o Populations_b3\n",

      "sstacks -b 3 -c Populations_b3/batch_3 -s Populations_b3/PAMUR10_0024 -o Populations_b3\n",

      "sstacks -b 3 -c Populations_b3/batch_3 -s Populations_b3/PAMUR10_0025 -o Populations_b3\n",

      "sstacks -b 3 -c Populations_b3/batch_3 -s Populations_b3/PAMUR10_0026 -o Populations_b3\n",

      "sstacks -b 3 -c Populations_b3/batch_3 -s Populations_b3/PAMUR10_0027_comb -o Populations_b3\n",

      "sstacks -b 3 -c Populations_b3/batch_3 -s Populations_b3/PAMUR10_0028 -o Populations_b3\n",

      "sstacks -b 3 -c Populations_b3/batch_3 -s Populations_b3/PAMUR10_0029_comb -o Populations_b3\n",

      "sstacks -b 3 -c Populations_b3/batch_3 -s Populations_b3/PAMUR10_0030 -o Populations_b3\n",

      "sstacks -b 3 -c Populations_b3/batch_3 -s Populations_b3/PAMUR10_0031_comb -o Populations_b3\n",

      "sstacks -b 3 -c Populations_b3/batch_3 -s Populations_b3/PAMUR10_0032 -o Populations_b3\n",

      "sstacks -b 3 -c Populations_b3/batch_3 -s Populations_b3/PAMUR11_0001_comb -o Populations_b3\n",

      "sstacks -b 3 -c Populations_b3/batch_3 -s Populations_b3/PAMUR11_0002_comb -o Populations_b3\n",

      "sstacks -b 3 -c Populations_b3/batch_3 -s Populations_b3/PAMUR11_0003_comb -o Populations_b3\n",

      "sstacks -b 3 -c Populations_b3/batch_3 -s Populations_b3/PAMUR11_0004_comb -o Populations_b3\n",

      "sstacks -b 3 -c Populations_b3/batch_3 -s Populations_b3/PAMUR11_0005_comb -o Populations_b3\n",

      "sstacks -b 3 -c Populations_b3/batch_3 -s Populations_b3/PAMUR11_0006_comb -o Populations_b3\n",

      "sstacks -b 3 -c Populations_b3/batch_3 -s Populations_b3/PAMUR11_0007_comb -o Populations_b3\n",

      "sstacks -b 3 -c Populations_b3/batch_3 -s Populations_b3/PAMUR11_0008_comb -o Populations_b3\n",

      "sstacks -b 3 -c Populations_b3/batch_3 -s Populations_b3/PAMUR11_0009_comb -o Populations_b3\n",

      "sstacks -b 3 -c Populations_b3/batch_3 -s Populations_b3/PAMUR11_0010_comb -o Populations_b3\n",

      "sstacks -b 3 -c Populations_b3/batch_3 -s Populations_b3/PAMUR11_0011_comb -o Populations_b3\n",

      "sstacks -b 3 -c Populations_b3/batch_3 -s Populations_b3/PAMUR11_0013_comb -o Populations_b3\n",

      "sstacks -b 3 -c Populations_b3/batch_3 -s Populations_b3/PAMUR11_0014_comb -o Populations_b3\n",

      "sstacks -b 3 -c Populations_b3/batch_3 -s Populations_b3/PAMUR11_0015_comb -o Populations_b3\n",

      "sstacks -b 3 -c Populations_b3/batch_3 -s Populations_b3/PAMUR11_0016_comb -o Populations_b3\n",

      "sstacks -b 3 -c Populations_b3/batch_3 -s Populations_b3/PAMUR11_0017_comb -o Populations_b3\n",

      "sstacks -b 3 -c Populations_b3/batch_3 -s Populations_b3/PAMUR11_0018_comb -o Populations_b3\n",

      "sstacks -b 3 -c Populations_b3/batch_3 -s Populations_b3/PAMUR11_0019_comb -o Populations_b3\n",

      "sstacks -b 3 -c Populations_b3/batch_3 -s Populations_b3/PAMUR11_0020_comb -o Populations_b3\n",

      "sstacks -b 3 -c Populations_b3/batch_3 -s Populations_b3/PAMUR11_0021_comb -o Populations_b3\n",

      "sstacks -b 3 -c Populations_b3/batch_3 -s Populations_b3/PAMUR11_0022_comb -o Populations_b3\n",

      "sstacks -b 3 -c Populations_b3/batch_3 -s Populations_b3/PAMUR11_0023_comb -o Populations_b3\n",

      "sstacks -b 3 -c Populations_b3/batch_3 -s Populations_b3/PAMUR11_0024_comb -o Populations_b3\n",

      "sstacks -b 3 -c Populations_b3/batch_3 -s Populations_b3/PAMUR11_0025 -o Populations_b3\n",

      "sstacks -b 3 -c Populations_b3/batch_3 -s Populations_b3/PAMUR11_0026_comb -o Populations_b3\n",

      "sstacks -b 3 -c Populations_b3/batch_3 -s Populations_b3/PAMUR11_0027 -o Populations_b3\n",

      "sstacks -b 3 -c Populations_b3/batch_3 -s Populations_b3/PAMUR11_0028 -o Populations_b3\n",

      "sstacks -b 3 -c Populations_b3/batch_3 -s Populations_b3/PAMUR11_0029_comb -o Populations_b3\n",

      "sstacks -b 3 -c Populations_b3/batch_3 -s Populations_b3/PAMUR11_0030_comb -o Populations_b3\n",

      "sstacks -b 3 -c Populations_b3/batch_3 -s Populations_b3/PAMUR11_0031_comb -o Populations_b3\n",

      "sstacks -b 3 -c Populations_b3/batch_3 -s Populations_b3/PAMUR11_0032_comb -o Populations_b3\n",

      "sstacks -b 3 -c Populations_b3/batch_3 -s Populations_b3/PAMUR11_0033_comb -o Populations_b3\n",

      "sstacks -b 3 -c Populations_b3/batch_3 -s Populations_b3/PHAYLY09_0007 -o Populations_b3\n",

      "sstacks -b 3 -c Populations_b3/batch_3 -s Populations_b3/PHAYLY09_0008 -o Populations_b3\n",

      "sstacks -b 3 -c Populations_b3/batch_3 -s Populations_b3/PHAYLY09_0010_comb -o Populations_b3\n",

      "sstacks -b 3 -c Populations_b3/batch_3 -s Populations_b3/PHAYLY09_0011_comb -o Populations_b3\n",

      "sstacks -b 3 -c Populations_b3/batch_3 -s Populations_b3/PHAYLY09_0012_comb -o Populations_b3\n",

      "sstacks -b 3 -c Populations_b3/batch_3 -s Populations_b3/PHAYLY09_0013_comb -o Populations_b3\n",

      "sstacks -b 3 -c Populations_b3/batch_3 -s Populations_b3/PHAYLY09_0014_comb -o Populations_b3\n",

      "sstacks -b 3 -c Populations_b3/batch_3 -s Populations_b3/PHAYLY09_0015_comb -o Populations_b3\n",

      "sstacks -b 3 -c Populations_b3/batch_3 -s Populations_b3/PHAYLY09_0016_comb -o Populations_b3\n",

      "sstacks -b 3 -c Populations_b3/batch_3 -s Populations_b3/PHAYLY09_0017_comb -o Populations_b3\n",

      "sstacks -b 3 -c Populations_b3/batch_3 -s Populations_b3/PHAYLY09_0018_comb -o Populations_b3\n",

      "sstacks -b 3 -c Populations_b3/batch_3 -s Populations_b3/PHAYLY09_0019_comb -o Populations_b3\n",

      "sstacks -b 3 -c Populations_b3/batch_3 -s Populations_b3/PHAYLY09_0020 -o Populations_b3\n",

      "sstacks -b 3 -c Populations_b3/batch_3 -s Populations_b3/PHAYLY09_0021_comb -o Populations_b3\n",

      "sstacks -b 3 -c Populations_b3/batch_3 -s Populations_b3/PHAYLY09_0022_comb -o Populations_b3\n",

      "sstacks -b 3 -c Populations_b3/batch_3 -s Populations_b3/PHAYLY09_0023_comb -o Populations_b3\n",

      "sstacks -b 3 -c Populations_b3/batch_3 -s Populations_b3/PHAYLY09_0025_comb -o Populations_b3\n",

      "sstacks -b 3 -c Populations_b3/batch_3 -s Populations_b3/PHAYLY09_0026_comb -o Populations_b3\n",

      "sstacks -b 3 -c Populations_b3/batch_3 -s Populations_b3/PHAYLY09_0027_comb -o Populations_b3\n",

      "sstacks -b 3 -c Populations_b3/batch_3 -s Populations_b3/PHAYLY09_0028_comb -o Populations_b3\n",

      "sstacks -b 3 -c Populations_b3/batch_3 -s Populations_b3/PHAYLY09_0029_comb -o Populations_b3\n",

      "sstacks -b 3 -c Populations_b3/batch_3 -s Populations_b3/PHAYLY09_0030_comb -o Populations_b3\n",

      "sstacks -b 3 -c Populations_b3/batch_3 -s Populations_b3/PHAYLY09_0031 -o Populations_b3\n",

      "sstacks -b 3 -c Populations_b3/batch_3 -s Populations_b3/PHAYLY09_0032 -o Populations_b3\n",

      "sstacks -b 3 -c Populations_b3/batch_3 -s Populations_b3/PHAYLY09_0034_comb -o Populations_b3\n",

      "sstacks -b 3 -c Populations_b3/batch_3 -s Populations_b3/PHAYLY09_0035 -o Populations_b3\n",

      "sstacks -b 3 -c Populations_b3/batch_3 -s Populations_b3/PHAYLY09_0036_comb -o Populations_b3\n",

      "sstacks -b 3 -c Populations_b3/batch_3 -s Populations_b3/PHAYLY09_0037_comb -o Populations_b3\n",

      "sstacks -b 3 -c Populations_b3/batch_3 -s Populations_b3/PHAYLY09_0038_comb -o Populations_b3\n",

      "sstacks -b 3 -c Populations_b3/batch_3 -s Populations_b3/PHAYLY09_0041_comb -o Populations_b3\n",

      "sstacks -b 3 -c Populations_b3/batch_3 -s Populations_b3/PHAYLY09_0042_comb -o Populations_b3\n",

      "sstacks -b 3 -c Populations_b3/batch_3 -s Populations_b3/PHAYLY09_0043_comb -o Populations_b3\n",

      "sstacks -b 3 -c Populations_b3/batch_3 -s Populations_b3/PHAYLY10_0003 -o Populations_b3\n",

      "sstacks -b 3 -c Populations_b3/batch_3 -s Populations_b3/PHAYLY10_0004_comb -o Populations_b3\n",

      "sstacks -b 3 -c Populations_b3/batch_3 -s Populations_b3/PHAYLY10_0006_comb -o Populations_b3\n",

      "sstacks -b 3 -c Populations_b3/batch_3 -s Populations_b3/PHAYLY10_0007_comb -o Populations_b3\n",

      "sstacks -b 3 -c Populations_b3/batch_3 -s Populations_b3/PHAYLY10_0010_comb -o Populations_b3\n",

      "sstacks -b 3 -c Populations_b3/batch_3 -s Populations_b3/PHAYLY10_0011_comb -o Populations_b3\n",

      "sstacks -b 3 -c Populations_b3/batch_3 -s Populations_b3/PHAYLY10_0012_comb -o Populations_b3\n",

      "sstacks -b 3 -c Populations_b3/batch_3 -s Populations_b3/PHAYLY10_0014_comb -o Populations_b3\n",

      "sstacks -b 3 -c Populations_b3/batch_3 -s Populations_b3/PHAYLY10_0015_comb -o Populations_b3\n",

      "sstacks -b 3 -c Populations_b3/batch_3 -s Populations_b3/PHAYLY10_0017_comb -o Populations_b3\n",

      "sstacks -b 3 -c Populations_b3/batch_3 -s Populations_b3/PHAYLY10_0018_comb -o Populations_b3\n",

      "sstacks -b 3 -c Populations_b3/batch_3 -s Populations_b3/PHAYLY10_0020_comb -o Populations_b3\n",

      "sstacks -b 3 -c Populations_b3/batch_3 -s Populations_b3/PHAYLY10_0021_comb -o Populations_b3\n",

      "sstacks -b 3 -c Populations_b3/batch_3 -s Populations_b3/PHAYLY10_0022 -o Populations_b3\n",

      "sstacks -b 3 -c Populations_b3/batch_3 -s Populations_b3/PHAYLY10_0023_comb -o Populations_b3\n",

      "sstacks -b 3 -c Populations_b3/batch_3 -s Populations_b3/PHAYLY10_0024_comb -o Populations_b3\n",

      "sstacks -b 3 -c Populations_b3/batch_3 -s Populations_b3/PHAYLY10_0025 -o Populations_b3\n",

      "sstacks -b 3 -c Populations_b3/batch_3 -s Populations_b3/PHAYLY10_0026_comb -o Populations_b3\n",

      "sstacks -b 3 -c Populations_b3/batch_3 -s Populations_b3/PHAYLY10_0027_comb -o Populations_b3\n",

      "sstacks -b 3 -c Populations_b3/batch_3 -s Populations_b3/PHAYLY10_0029_comb -o Populations_b3\n",

      "sstacks -b 3 -c Populations_b3/batch_3 -s Populations_b3/PHAYLY10_0030_comb -o Populations_b3\n",

      "sstacks -b 3 -c Populations_b3/batch_3 -s Populations_b3/PHAYLY10_0032_comb -o Populations_b3\n",

      "sstacks -b 3 -c Populations_b3/batch_3 -s Populations_b3/PHAYLY10_0035 -o Populations_b3\n",

      "sstacks -b 3 -c Populations_b3/batch_3 -s Populations_b3/PHAYLY10_0036 -o Populations_b3\n",

      "sstacks -b 3 -c Populations_b3/batch_3 -s Populations_b3/PHAYLY10_0037 -o Populations_b3\n",

      "sstacks -b 3 -c Populations_b3/batch_3 -s Populations_b3/PHAYLY10_0038_comb -o Populations_b3\n",

      "sstacks -b 3 -c Populations_b3/batch_3 -s Populations_b3/PHAYLY10_0039 -o Populations_b3\n",

      "sstacks -b 3 -c Populations_b3/batch_3 -s Populations_b3/PHAYLY10_0040 -o Populations_b3\n",

      "sstacks -b 3 -c Populations_b3/batch_3 -s Populations_b3/PHAYLY10_0041 -o Populations_b3\n",

      "sstacks -b 3 -c Populations_b3/batch_3 -s Populations_b3/PHAYLY10_0042 -o Populations_b3\n",

      "sstacks -b 3 -c Populations_b3/batch_3 -s Populations_b3/PHAYLY10_0044 -o Populations_b3\n",

      "sstacks -b 3 -c Populations_b3/batch_3 -s Populations_b3/PHAYLY10_0046_comb -o Populations_b3\n",

      "sstacks -b 3 -c Populations_b3/batch_3 -s Populations_b3/PKOPE91T_0001 -o Populations_b3\n",

      "sstacks -b 3 -c Populations_b3/batch_3 -s Populations_b3/PKOPE91T_0002 -o Populations_b3\n",

      "sstacks -b 3 -c Populations_b3/batch_3 -s Populations_b3/PKOPE91T_0003 -o Populations_b3\n",

      "sstacks -b 3 -c Populations_b3/batch_3 -s Populations_b3/PKOPE91T_0005 -o Populations_b3\n",

      "sstacks -b 3 -c Populations_b3/batch_3 -s Populations_b3/PKOPE91T_0006 -o Populations_b3\n",

      "sstacks -b 3 -c Populations_b3/batch_3 -s Populations_b3/PKOPE91T_0007 -o Populations_b3\n",

      "sstacks -b 3 -c Populations_b3/batch_3 -s Populations_b3/PKOPE91T_0009 -o Populations_b3\n",

      "sstacks -b 3 -c Populations_b3/batch_3 -s Populations_b3/PKOPE91T_0010 -o Populations_b3\n",

      "sstacks -b 3 -c Populations_b3/batch_3 -s Populations_b3/PKOPE91T_0011 -o Populations_b3\n",

      "sstacks -b 3 -c Populations_b3/batch_3 -s Populations_b3/PKOPE91T_0013 -o Populations_b3\n",

      "sstacks -b 3 -c Populations_b3/batch_3 -s Populations_b3/PKOPE91T_0014 -o Populations_b3\n",

      "sstacks -b 3 -c Populations_b3/batch_3 -s Populations_b3/PKOPE91T_0015 -o Populations_b3\n",

      "sstacks -b 3 -c Populations_b3/batch_3 -s Populations_b3/PKOPE91T_0016 -o Populations_b3\n",

      "sstacks -b 3 -c Populations_b3/batch_3 -s Populations_b3/PKOPE91T_0017 -o Populations_b3\n",

      "sstacks -b 3 -c Populations_b3/batch_3 -s Populations_b3/PKOPE91T_0018 -o Populations_b3\n",

      "sstacks -b 3 -c Populations_b3/batch_3 -s Populations_b3/PKOPE91T_0019 -o Populations_b3\n",

      "sstacks -b 3 -c Populations_b3/batch_3 -s Populations_b3/PKOPE91T_0020 -o Populations_b3\n",

      "sstacks -b 3 -c Populations_b3/batch_3 -s Populations_b3/PKOPE91T_0024 -o Populations_b3\n",

      "sstacks -b 3 -c Populations_b3/batch_3 -s Populations_b3/PKOPE91T_0025 -o Populations_b3\n",

      "sstacks -b 3 -c Populations_b3/batch_3 -s Populations_b3/PKOPE91T_0026 -o Populations_b3\n",

      "sstacks -b 3 -c Populations_b3/batch_3 -s Populations_b3/PKOPE91T_0029 -o Populations_b3\n",

      "sstacks -b 3 -c Populations_b3/batch_3 -s Populations_b3/PKOPE91T_0035 -o Populations_b3\n",

      "sstacks -b 3 -c Populations_b3/batch_3 -s Populations_b3/PKOPE91T_0036 -o Populations_b3\n",

      "sstacks -b 3 -c Populations_b3/batch_3 -s Populations_b3/PKOPE91T_0037 -o Populations_b3\n",

      "sstacks -b 3 -c Populations_b3/batch_3 -s Populations_b3/PKOPE96T_0001 -o Populations_b3\n",

      "sstacks -b 3 -c Populations_b3/batch_3 -s Populations_b3/PKOPE96T_0002 -o Populations_b3\n",

      "sstacks -b 3 -c Populations_b3/batch_3 -s Populations_b3/PKOPE96T_0003 -o Populations_b3\n",

      "sstacks -b 3 -c Populations_b3/batch_3 -s Populations_b3/PKOPE96T_0004 -o Populations_b3\n",

      "sstacks -b 3 -c Populations_b3/batch_3 -s Populations_b3/PKOPE96T_0005 -o Populations_b3\n",

      "sstacks -b 3 -c Populations_b3/batch_3 -s Populations_b3/PKOPE96T_0006 -o Populations_b3\n",

      "sstacks -b 3 -c Populations_b3/batch_3 -s Populations_b3/PKOPE96T_0007 -o Populations_b3\n",

      "sstacks -b 3 -c Populations_b3/batch_3 -s Populations_b3/PKOPE96T_0008 -o Populations_b3\n",

      "sstacks -b 3 -c Populations_b3/batch_3 -s Populations_b3/PKOPE96T_0009 -o Populations_b3\n",

      "sstacks -b 3 -c Populations_b3/batch_3 -s Populations_b3/PKOPE96T_0010 -o Populations_b3\n",

      "sstacks -b 3 -c Populations_b3/batch_3 -s Populations_b3/PKOPE96T_0011 -o Populations_b3\n",

      "sstacks -b 3 -c Populations_b3/batch_3 -s Populations_b3/PKOPE96T_0012 -o Populations_b3\n",

      "sstacks -b 3 -c Populations_b3/batch_3 -s Populations_b3/PKOPE96T_0013 -o Populations_b3\n",

      "sstacks -b 3 -c Populations_b3/batch_3 -s Populations_b3/PKOPE96T_0014 -o Populations_b3\n",

      "sstacks -b 3 -c Populations_b3/batch_3 -s Populations_b3/PKOPE96T_0015 -o Populations_b3\n",

      "sstacks -b 3 -c Populations_b3/batch_3 -s Populations_b3/PKOPE96T_0016 -o Populations_b3\n",

      "sstacks -b 3 -c Populations_b3/batch_3 -s Populations_b3/PKOPE96T_0017 -o Populations_b3\n",

      "sstacks -b 3 -c Populations_b3/batch_3 -s Populations_b3/PKOPE96T_0018 -o Populations_b3\n",

      "sstacks -b 3 -c Populations_b3/batch_3 -s Populations_b3/PKOPE96T_0019 -o Populations_b3\n",

      "sstacks -b 3 -c Populations_b3/batch_3 -s Populations_b3/PKOPE96T_0020 -o Populations_b3\n",

      "sstacks -b 3 -c Populations_b3/batch_3 -s Populations_b3/PKOPE96T_0021 -o Populations_b3\n",

      "sstacks -b 3 -c Populations_b3/batch_3 -s Populations_b3/PKOPE96T_0022 -o Populations_b3\n",

      "sstacks -b 3 -c Populations_b3/batch_3 -s Populations_b3/PKOPE96T_0023 -o Populations_b3\n",

      "sstacks -b 3 -c Populations_b3/batch_3 -s Populations_b3/PKOPE96T_0024 -o Populations_b3\n",

      "sstacks -b 3 -c Populations_b3/batch_3 -s Populations_b3/PKUSHI06_0001_comb -o Populations_b3\n",

      "sstacks -b 3 -c Populations_b3/batch_3 -s Populations_b3/PKUSHI06_0002 -o Populations_b3\n",

      "sstacks -b 3 -c Populations_b3/batch_3 -s Populations_b3/PKUSHI06_0003_comb -o Populations_b3\n",

      "sstacks -b 3 -c Populations_b3/batch_3 -s Populations_b3/PKUSHI06_0004_comb -o Populations_b3\n",

      "sstacks -b 3 -c Populations_b3/batch_3 -s Populations_b3/PKUSHI06_0005_comb -o Populations_b3\n",

      "sstacks -b 3 -c Populations_b3/batch_3 -s Populations_b3/PKUSHI06_0006_comb -o Populations_b3\n",

      "sstacks -b 3 -c Populations_b3/batch_3 -s Populations_b3/PKUSHI06_0007_comb -o Populations_b3\n",

      "sstacks -b 3 -c Populations_b3/batch_3 -s Populations_b3/PKUSHI06_0008_comb -o Populations_b3\n",

      "sstacks -b 3 -c Populations_b3/batch_3 -s Populations_b3/PKUSHI06_0009_comb -o Populations_b3\n",

      "sstacks -b 3 -c Populations_b3/batch_3 -s Populations_b3/PKUSHI06_0010_comb -o Populations_b3\n",

      "sstacks -b 3 -c Populations_b3/batch_3 -s Populations_b3/PKUSHI06_0011_comb -o Populations_b3\n",

      "sstacks -b 3 -c Populations_b3/batch_3 -s Populations_b3/PKUSHI06_0012_comb -o Populations_b3\n",

      "sstacks -b 3 -c Populations_b3/batch_3 -s Populations_b3/PKUSHI06_0013 -o Populations_b3\n",

      "sstacks -b 3 -c Populations_b3/batch_3 -s Populations_b3/PKUSHI06_0014_comb -o Populations_b3\n",

      "sstacks -b 3 -c Populations_b3/batch_3 -s Populations_b3/PKUSHI06_0015_comb -o Populations_b3\n",

      "sstacks -b 3 -c Populations_b3/batch_3 -s Populations_b3/PKUSHI06_0016 -o Populations_b3\n",

      "sstacks -b 3 -c Populations_b3/batch_3 -s Populations_b3/PKUSHI06_0017 -o Populations_b3\n",

      "sstacks -b 3 -c Populations_b3/batch_3 -s Populations_b3/PKUSHI06_0018_comb -o Populations_b3\n",

      "sstacks -b 3 -c Populations_b3/batch_3 -s Populations_b3/PKUSHI06_0019_comb -o Populations_b3\n",

      "sstacks -b 3 -c Populations_b3/batch_3 -s Populations_b3/PKUSHI06_0020_comb -o Populations_b3\n",

      "sstacks -b 3 -c Populations_b3/batch_3 -s Populations_b3/PKUSHI06_0021_comb -o Populations_b3\n",

      "sstacks -b 3 -c Populations_b3/batch_3 -s Populations_b3/PKUSHI06_0022_comb -o Populations_b3\n",

      "sstacks -b 3 -c Populations_b3/batch_3 -s Populations_b3/PKUSHI06_0023 -o Populations_b3\n",

      "sstacks -b 3 -c Populations_b3/batch_3 -s Populations_b3/PKUSHI06_0024_comb -o Populations_b3\n",

      "sstacks -b 3 -c Populations_b3/batch_3 -s Populations_b3/PKUSHI06_0025 -o Populations_b3\n",

      "sstacks -b 3 -c Populations_b3/batch_3 -s Populations_b3/PKUSHI06_0026_comb -o Populations_b3\n",

      "sstacks -b 3 -c Populations_b3/batch_3 -s Populations_b3/PKUSHI06_0027_comb -o Populations_b3\n",

      "sstacks -b 3 -c Populations_b3/batch_3 -s Populations_b3/PKUSHI06_0028_comb -o Populations_b3\n",

      "sstacks -b 3 -c Populations_b3/batch_3 -s Populations_b3/PKUSHI06_0029 -o Populations_b3\n",

      "sstacks -b 3 -c Populations_b3/batch_3 -s Populations_b3/PKUSHI06_0030_comb -o Populations_b3\n",

      "sstacks -b 3 -c Populations_b3/batch_3 -s Populations_b3/PKUSHI06_0031_comb -o Populations_b3\n",

      "sstacks -b 3 -c Populations_b3/batch_3 -s Populations_b3/PKUSHI06_0032_comb -o Populations_b3\n",

      "sstacks -b 3 -c Populations_b3/batch_3 -s Populations_b3/PKUSHI07_0001_comb -o Populations_b3\n",

      "sstacks -b 3 -c Populations_b3/batch_3 -s Populations_b3/PKUSHI07_0002_comb -o Populations_b3\n",

      "sstacks -b 3 -c Populations_b3/batch_3 -s Populations_b3/PKUSHI07_0003_comb -o Populations_b3\n",

      "sstacks -b 3 -c Populations_b3/batch_3 -s Populations_b3/PKUSHI07_0004 -o Populations_b3\n",

      "sstacks -b 3 -c Populations_b3/batch_3 -s Populations_b3/PKUSHI07_0005_comb -o Populations_b3\n",

      "sstacks -b 3 -c Populations_b3/batch_3 -s Populations_b3/PKUSHI07_0006_comb -o Populations_b3\n",

      "sstacks -b 3 -c Populations_b3/batch_3 -s Populations_b3/PKUSHI07_0007_comb -o Populations_b3\n",

      "sstacks -b 3 -c Populations_b3/batch_3 -s Populations_b3/PKUSHI07_0008_comb -o Populations_b3\n",

      "sstacks -b 3 -c Populations_b3/batch_3 -s Populations_b3/PKUSHI07_0009 -o Populations_b3\n",

      "sstacks -b 3 -c Populations_b3/batch_3 -s Populations_b3/PKUSHI07_0010_comb -o Populations_b3\n",

      "sstacks -b 3 -c Populations_b3/batch_3 -s Populations_b3/PKUSHI07_0011_comb -o Populations_b3\n",

      "sstacks -b 3 -c Populations_b3/batch_3 -s Populations_b3/PKUSHI07_0012_comb -o Populations_b3\n",

      "sstacks -b 3 -c Populations_b3/batch_3 -s Populations_b3/PKUSHI07_0013 -o Populations_b3\n",

      "sstacks -b 3 -c Populations_b3/batch_3 -s Populations_b3/PKUSHI07_0014 -o Populations_b3\n",

      "sstacks -b 3 -c Populations_b3/batch_3 -s Populations_b3/PKUSHI07_0015 -o Populations_b3\n",

      "sstacks -b 3 -c Populations_b3/batch_3 -s Populations_b3/PKUSHI07_0016_comb -o Populations_b3\n",

      "sstacks -b 3 -c Populations_b3/batch_3 -s Populations_b3/PKUSHI07_0017 -o Populations_b3\n",

      "sstacks -b 3 -c Populations_b3/batch_3 -s Populations_b3/PKUSHI07_0018_comb -o Populations_b3\n",

      "sstacks -b 3 -c Populations_b3/batch_3 -s Populations_b3/PKUSHI07_0019 -o Populations_b3\n",

      "sstacks -b 3 -c Populations_b3/batch_3 -s Populations_b3/PKUSHI07_0020_comb -o Populations_b3\n",

      "sstacks -b 3 -c Populations_b3/batch_3 -s Populations_b3/PKUSHI07_0021_comb -o Populations_b3\n",

      "sstacks -b 3 -c Populations_b3/batch_3 -s Populations_b3/PKUSHI07_0022 -o Populations_b3\n",

      "sstacks -b 3 -c Populations_b3/batch_3 -s Populations_b3/PKUSHI07_0023 -o Populations_b3\n",

      "sstacks -b 3 -c Populations_b3/batch_3 -s Populations_b3/PKUSHI07_0024_comb -o Populations_b3\n",

      "sstacks -b 3 -c Populations_b3/batch_3 -s Populations_b3/PKUSHI07_0025_comb -o Populations_b3\n",

      "sstacks -b 3 -c Populations_b3/batch_3 -s Populations_b3/PKUSHI07_0026 -o Populations_b3\n",

      "sstacks -b 3 -c Populations_b3/batch_3 -s Populations_b3/PKUSHI07_0027_comb -o Populations_b3\n",

      "sstacks -b 3 -c Populations_b3/batch_3 -s Populations_b3/PKUSHI07_0028_comb -o Populations_b3\n",

      "sstacks -b 3 -c Populations_b3/batch_3 -s Populations_b3/PKUSHI07_0029_comb -o Populations_b3\n",

      "sstacks -b 3 -c Populations_b3/batch_3 -s Populations_b3/PKUSHI07_0030_comb -o Populations_b3\n",

      "sstacks -b 3 -c Populations_b3/batch_3 -s Populations_b3/PKUSHI07_0031_comb -o Populations_b3\n",

      "sstacks -b 3 -c Populations_b3/batch_3 -s Populations_b3/PKUSHI07_0032_comb -o Populations_b3\n",

      "sstacks -b 3 -c Populations_b3/batch_3 -s Populations_b3/PNOME91_0001 -o Populations_b3\n",

      "sstacks -b 3 -c Populations_b3/batch_3 -s Populations_b3/PNOME91_0002 -o Populations_b3\n",

      "sstacks -b 3 -c Populations_b3/batch_3 -s Populations_b3/PNOME91_0003 -o Populations_b3\n",

      "sstacks -b 3 -c Populations_b3/batch_3 -s Populations_b3/PNOME91_0004 -o Populations_b3\n",

      "sstacks -b 3 -c Populations_b3/batch_3 -s Populations_b3/PNOME91_0005 -o Populations_b3\n",

      "sstacks -b 3 -c Populations_b3/batch_3 -s Populations_b3/PNOME91_0008 -o Populations_b3\n",

      "sstacks -b 3 -c Populations_b3/batch_3 -s Populations_b3/PNOME91_0009 -o Populations_b3\n",

      "sstacks -b 3 -c Populations_b3/batch_3 -s Populations_b3/PNOME91_0010 -o Populations_b3\n",

      "sstacks -b 3 -c Populations_b3/batch_3 -s Populations_b3/PNOME91_0011 -o Populations_b3\n",

      "sstacks -b 3 -c Populations_b3/batch_3 -s Populations_b3/PNOME91_0013 -o Populations_b3\n",

      "sstacks -b 3 -c Populations_b3/batch_3 -s Populations_b3/PNOME91_0014 -o Populations_b3\n",

      "sstacks -b 3 -c Populations_b3/batch_3 -s Populations_b3/PNOME91_0015 -o Populations_b3\n",

      "sstacks -b 3 -c Populations_b3/batch_3 -s Populations_b3/PNOME91_0016 -o Populations_b3\n",

      "sstacks -b 3 -c Populations_b3/batch_3 -s Populations_b3/PNOME91_0017 -o Populations_b3\n",

      "sstacks -b 3 -c Populations_b3/batch_3 -s Populations_b3/PNOME91_0018 -o Populations_b3\n",

      "sstacks -b 3 -c Populations_b3/batch_3 -s Populations_b3/PNOME91_0021 -o Populations_b3\n",

      "sstacks -b 3 -c Populations_b3/batch_3 -s Populations_b3/PNOME91_0025 -o Populations_b3\n",

      "sstacks -b 3 -c Populations_b3/batch_3 -s Populations_b3/PNOME91_0026 -o Populations_b3\n",

      "sstacks -b 3 -c Populations_b3/batch_3 -s Populations_b3/PNOME91_0027 -o Populations_b3\n",

      "sstacks -b 3 -c Populations_b3/batch_3 -s Populations_b3/PNOME91_0028 -o Populations_b3\n",

      "sstacks -b 3 -c Populations_b3/batch_3 -s Populations_b3/PNOME91_0030 -o Populations_b3\n",

      "sstacks -b 3 -c Populations_b3/batch_3 -s Populations_b3/PNOME91_0031 -o Populations_b3\n",

      "sstacks -b 3 -c Populations_b3/batch_3 -s Populations_b3/PNOME91_0032 -o Populations_b3\n",

      "sstacks -b 3 -c Populations_b3/batch_3 -s Populations_b3/PNOME91_0033 -o Populations_b3\n",

      "sstacks -b 3 -c Populations_b3/batch_3 -s Populations_b3/PNOME94_0001 -o Populations_b3\n",

      "sstacks -b 3 -c Populations_b3/batch_3 -s Populations_b3/PNOME94_0002 -o Populations_b3\n",

      "sstacks -b 3 -c Populations_b3/batch_3 -s Populations_b3/PNOME94_0003 -o Populations_b3\n",

      "sstacks -b 3 -c Populations_b3/batch_3 -s Populations_b3/PNOME94_0004 -o Populations_b3\n",

      "sstacks -b 3 -c Populations_b3/batch_3 -s Populations_b3/PNOME94_0005 -o Populations_b3\n",

      "sstacks -b 3 -c Populations_b3/batch_3 -s Populations_b3/PNOME94_0006 -o Populations_b3\n",

      "sstacks -b 3 -c Populations_b3/batch_3 -s Populations_b3/PNOME94_0007 -o Populations_b3\n",

      "sstacks -b 3 -c Populations_b3/batch_3 -s Populations_b3/PNOME94_0008 -o Populations_b3\n",

      "sstacks -b 3 -c Populations_b3/batch_3 -s Populations_b3/PNOME94_0009 -o Populations_b3\n",

      "sstacks -b 3 -c Populations_b3/batch_3 -s Populations_b3/PNOME94_0010 -o Populations_b3\n",

      "sstacks -b 3 -c Populations_b3/batch_3 -s Populations_b3/PNOME94_0011 -o Populations_b3\n",

      "sstacks -b 3 -c Populations_b3/batch_3 -s Populations_b3/PNOME94_0012 -o Populations_b3\n",

      "sstacks -b 3 -c Populations_b3/batch_3 -s Populations_b3/PNOME94_0013 -o Populations_b3\n",

      "sstacks -b 3 -c Populations_b3/batch_3 -s Populations_b3/PNOME94_0014 -o Populations_b3\n",

      "sstacks -b 3 -c Populations_b3/batch_3 -s Populations_b3/PNOME94_0015 -o Populations_b3\n",

      "sstacks -b 3 -c Populations_b3/batch_3 -s Populations_b3/PNOME94_0016 -o Populations_b3\n",

      "sstacks -b 3 -c Populations_b3/batch_3 -s Populations_b3/PNOME94_0017 -o Populations_b3\n",

      "sstacks -b 3 -c Populations_b3/batch_3 -s Populations_b3/PNOME94_0018 -o Populations_b3\n",

      "sstacks -b 3 -c Populations_b3/batch_3 -s Populations_b3/PNOME94_0019 -o Populations_b3\n",

      "sstacks -b 3 -c Populations_b3/batch_3 -s Populations_b3/PNOME94_0020 -o Populations_b3\n",

      "sstacks -b 3 -c Populations_b3/batch_3 -s Populations_b3/PSNOH03_0005 -o Populations_b3\n",

      "sstacks -b 3 -c Populations_b3/batch_3 -s Populations_b3/PSNOH03_0016 -o Populations_b3\n",

      "sstacks -b 3 -c Populations_b3/batch_3 -s Populations_b3/PSNOH03_0017 -o Populations_b3\n",

      "sstacks -b 3 -c Populations_b3/batch_3 -s Populations_b3/PSNOH03_0019 -o Populations_b3\n",

      "sstacks -b 3 -c Populations_b3/batch_3 -s Populations_b3/PSNOH03_0021 -o Populations_b3\n",

      "sstacks -b 3 -c Populations_b3/batch_3 -s Populations_b3/PSNOH03_0024 -o Populations_b3\n",

      "sstacks -b 3 -c Populations_b3/batch_3 -s Populations_b3/PSNOH03_0027 -o Populations_b3\n",

      "sstacks -b 3 -c Populations_b3/batch_3 -s Populations_b3/PSNOH03_0029 -o Populations_b3\n",

      "sstacks -b 3 -c Populations_b3/batch_3 -s Populations_b3/PSNOH03_0039 -o Populations_b3\n",

      "sstacks -b 3 -c Populations_b3/batch_3 -s Populations_b3/PSNOH03_0043 -o Populations_b3\n",

      "sstacks -b 3 -c Populations_b3/batch_3 -s Populations_b3/PSNOH03_0046 -o Populations_b3\n",

      "sstacks -b 3 -c Populations_b3/batch_3 -s Populations_b3/PSNOH03_0063 -o Populations_b3\n",

      "sstacks -b 3 -c Populations_b3/batch_3 -s Populations_b3/PSNOH03_0065 -o Populations_b3\n",

      "sstacks -b 3 -c Populations_b3/batch_3 -s Populations_b3/PSNOH03_0067 -o Populations_b3\n",

      "sstacks -b 3 -c Populations_b3/batch_3 -s Populations_b3/PSNOH03_0074 -o Populations_b3\n",

      "sstacks -b 3 -c Populations_b3/batch_3 -s Populations_b3/PSNOH03_0075 -o Populations_b3\n",

      "sstacks -b 3 -c Populations_b3/batch_3 -s Populations_b3/PSNOH03_0076 -o Populations_b3\n",

      "sstacks -b 3 -c Populations_b3/batch_3 -s Populations_b3/PSNOH03_0078 -o Populations_b3\n",

      "sstacks -b 3 -c Populations_b3/batch_3 -s Populations_b3/PSNOH03_0079 -o Populations_b3\n",

      "sstacks -b 3 -c Populations_b3/batch_3 -s Populations_b3/PSNOH03_0081 -o Populations_b3\n",

      "sstacks -b 3 -c Populations_b3/batch_3 -s Populations_b3/PSNOH03_0082 -o Populations_b3\n",

      "sstacks -b 3 -c Populations_b3/batch_3 -s Populations_b3/PSNOH03_0088 -o Populations_b3\n",

      "sstacks -b 3 -c Populations_b3/batch_3 -s Populations_b3/PSNOH03_0090 -o Populations_b3\n",

      "sstacks -b 3 -c Populations_b3/batch_3 -s Populations_b3/PSNOH03_0095 -o Populations_b3\n",

      "sstacks -b 3 -c Populations_b3/batch_3 -s Populations_b3/PSNOH96_0003 -o Populations_b3\n",

      "sstacks -b 3 -c Populations_b3/batch_3 -s Populations_b3/PSNOH96_0004 -o Populations_b3\n",

      "sstacks -b 3 -c Populations_b3/batch_3 -s Populations_b3/PSNOH96_0005 -o Populations_b3\n",

      "sstacks -b 3 -c Populations_b3/batch_3 -s Populations_b3/PSNOH96_0006 -o Populations_b3\n",

      "sstacks -b 3 -c Populations_b3/batch_3 -s Populations_b3/PSNOH96_0007 -o Populations_b3\n",

      "sstacks -b 3 -c Populations_b3/batch_3 -s Populations_b3/PSNOH96_0008 -o Populations_b3\n",

      "sstacks -b 3 -c Populations_b3/batch_3 -s Populations_b3/PSNOH96_0009 -o Populations_b3\n",

      "sstacks -b 3 -c Populations_b3/batch_3 -s Populations_b3/PSNOH96_0010 -o Populations_b3\n",

      "sstacks -b 3 -c Populations_b3/batch_3 -s Populations_b3/PSNOH96_0011 -o Populations_b3\n",

      "sstacks -b 3 -c Populations_b3/batch_3 -s Populations_b3/PSNOH96_0012 -o Populations_b3\n",

      "sstacks -b 3 -c Populations_b3/batch_3 -s Populations_b3/PSNOH96_0013 -o Populations_b3\n",

      "sstacks -b 3 -c Populations_b3/batch_3 -s Populations_b3/PSNOH96_0014 -o Populations_b3\n",

      "sstacks -b 3 -c Populations_b3/batch_3 -s Populations_b3/PSNOH96_0015 -o Populations_b3\n",

      "sstacks -b 3 -c Populations_b3/batch_3 -s Populations_b3/PSNOH96_0016 -o Populations_b3\n",

      "sstacks -b 3 -c Populations_b3/batch_3 -s Populations_b3/PSNOH96_0017 -o Populations_b3\n",

      "sstacks -b 3 -c Populations_b3/batch_3 -s Populations_b3/PSNOH96_0018 -o Populations_b3\n",

      "sstacks -b 3 -c Populations_b3/batch_3 -s Populations_b3/PSNOH96_0019 -o Populations_b3\n",

      "sstacks -b 3 -c Populations_b3/batch_3 -s Populations_b3/PSNOH96_0021 -o Populations_b3\n",

      "sstacks -b 3 -c Populations_b3/batch_3 -s Populations_b3/PSNOH96_0022 -o Populations_b3\n",

      "sstacks -b 3 -c Populations_b3/batch_3 -s Populations_b3/PSNOH96_0023 -o Populations_b3\n",

      "sstacks -b 3 -c Populations_b3/batch_3 -s Populations_b3/PSNOH96_0024 -o Populations_b3\n",

      "sstacks -b 3 -c Populations_b3/batch_3 -s Populations_b3/PSNOH96_0025 -o Populations_b3\n",

      "sstacks -b 3 -c Populations_b3/batch_3 -s Populations_b3/PSNOH96_0027 -o Populations_b3\n",

      "sstacks -b 3 -c Populations_b3/batch_3 -s Populations_b3/PSNOH96_0028 -o Populations_b3\n",

      "sstacks -b 3 -c Populations_b3/batch_3 -s Populations_b3/PTAUY09_0002 -o Populations_b3\n",

      "sstacks -b 3 -c Populations_b3/batch_3 -s Populations_b3/PTAUY09_0003 -o Populations_b3\n",

      "sstacks -b 3 -c Populations_b3/batch_3 -s Populations_b3/PTAUY09_0004 -o Populations_b3\n",

      "sstacks -b 3 -c Populations_b3/batch_3 -s Populations_b3/PTAUY09_0006_comb -o Populations_b3\n",

      "sstacks -b 3 -c Populations_b3/batch_3 -s Populations_b3/PTAUY09_0008_comb -o Populations_b3\n",

      "sstacks -b 3 -c Populations_b3/batch_3 -s Populations_b3/PTAUY09_0009_comb -o Populations_b3\n",

      "sstacks -b 3 -c Populations_b3/batch_3 -s Populations_b3/PTAUY09_0011 -o Populations_b3\n",

      "sstacks -b 3 -c Populations_b3/batch_3 -s Populations_b3/PTAUY09_0012_comb -o Populations_b3\n",

      "sstacks -b 3 -c Populations_b3/batch_3 -s Populations_b3/PTAUY09_0013_comb -o Populations_b3\n",

      "sstacks -b 3 -c Populations_b3/batch_3 -s Populations_b3/PTAUY09_0014_comb -o Populations_b3\n",

      "sstacks -b 3 -c Populations_b3/batch_3 -s Populations_b3/PTAUY09_0015 -o Populations_b3\n",

      "sstacks -b 3 -c Populations_b3/batch_3 -s Populations_b3/PTAUY09_0016 -o Populations_b3\n",

      "sstacks -b 3 -c Populations_b3/batch_3 -s Populations_b3/PTAUY09_0017 -o Populations_b3\n",

      "sstacks -b 3 -c Populations_b3/batch_3 -s Populations_b3/PTAUY09_0018_comb -o Populations_b3\n",

      "sstacks -b 3 -c Populations_b3/batch_3 -s Populations_b3/PTAUY09_0021 -o Populations_b3\n",

      "sstacks -b 3 -c Populations_b3/batch_3 -s Populations_b3/PTAUY09_0022_comb -o Populations_b3\n",

      "sstacks -b 3 -c Populations_b3/batch_3 -s Populations_b3/PTAUY09_0023 -o Populations_b3\n",

      "sstacks -b 3 -c Populations_b3/batch_3 -s Populations_b3/PTAUY09_0024_comb -o Populations_b3\n",

      "sstacks -b 3 -c Populations_b3/batch_3 -s Populations_b3/PTAUY09_0027 -o Populations_b3\n",

      "sstacks -b 3 -c Populations_b3/batch_3 -s Populations_b3/PTAUY09_0031_comb -o Populations_b3\n",

      "sstacks -b 3 -c Populations_b3/batch_3 -s Populations_b3/PTAUY09_0032_comb -o Populations_b3\n",

      "sstacks -b 3 -c Populations_b3/batch_3 -s Populations_b3/PTAUY09_0033 -o Populations_b3\n",

      "sstacks -b 3 -c Populations_b3/batch_3 -s Populations_b3/PTAUY09_0034_comb -o Populations_b3\n",

      "sstacks -b 3 -c Populations_b3/batch_3 -s Populations_b3/PTAUY09_0035 -o Populations_b3\n",

      "sstacks -b 3 -c Populations_b3/batch_3 -s Populations_b3/PTAUY09_0036 -o Populations_b3\n",

      "sstacks -b 3 -c Populations_b3/batch_3 -s Populations_b3/PTAUY09_0037_comb -o Populations_b3\n",

      "sstacks -b 3 -c Populations_b3/batch_3 -s Populations_b3/PTAUY09_0038 -o Populations_b3\n",

      "sstacks -b 3 -c Populations_b3/batch_3 -s Populations_b3/PTAUY09_0040_comb -o Populations_b3\n",

      "sstacks -b 3 -c Populations_b3/batch_3 -s Populations_b3/PTAUY09_0041 -o Populations_b3\n",

      "sstacks -b 3 -c Populations_b3/batch_3 -s Populations_b3/PTAUY09_0042_comb -o Populations_b3\n",

      "sstacks -b 3 -c Populations_b3/batch_3 -s Populations_b3/PTAUY09_0044_comb -o Populations_b3\n",

      "sstacks -b 3 -c Populations_b3/batch_3 -s Populations_b3/PTAUY09_0046 -o Populations_b3\n",

      "sstacks -b 3 -c Populations_b3/batch_3 -s Populations_b3/PTAUY12_0001_comb -o Populations_b3\n",

      "sstacks -b 3 -c Populations_b3/batch_3 -s Populations_b3/PTAUY12_0002_comb -o Populations_b3\n",

      "sstacks -b 3 -c Populations_b3/batch_3 -s Populations_b3/PTAUY12_0003_comb -o Populations_b3\n",

      "sstacks -b 3 -c Populations_b3/batch_3 -s Populations_b3/PTAUY12_0004_comb -o Populations_b3\n",

      "sstacks -b 3 -c Populations_b3/batch_3 -s Populations_b3/PTAUY12_0005_comb -o Populations_b3\n",

      "sstacks -b 3 -c Populations_b3/batch_3 -s Populations_b3/PTAUY12_0006_comb -o Populations_b3\n",

      "sstacks -b 3 -c Populations_b3/batch_3 -s Populations_b3/PTAUY12_0008_comb -o Populations_b3\n",

      "sstacks -b 3 -c Populations_b3/batch_3 -s Populations_b3/PTAUY12_0009 -o Populations_b3\n",

      "sstacks -b 3 -c Populations_b3/batch_3 -s Populations_b3/PTAUY12_0010_comb -o Populations_b3\n",

      "sstacks -b 3 -c Populations_b3/batch_3 -s Populations_b3/PTAUY12_0011_comb -o Populations_b3\n",

      "sstacks -b 3 -c Populations_b3/batch_3 -s Populations_b3/PTAUY12_0014 -o Populations_b3\n",

      "sstacks -b 3 -c Populations_b3/batch_3 -s Populations_b3/PTAUY12_0015_comb -o Populations_b3\n",

      "sstacks -b 3 -c Populations_b3/batch_3 -s Populations_b3/PTAUY12_0016_comb -o Populations_b3\n",

      "sstacks -b 3 -c Populations_b3/batch_3 -s Populations_b3/PTAUY12_0019 -o Populations_b3\n",

      "sstacks -b 3 -c Populations_b3/batch_3 -s Populations_b3/PTAUY12_0021_comb -o Populations_b3\n",

      "sstacks -b 3 -c Populations_b3/batch_3 -s Populations_b3/PTAUY12_0022_comb -o Populations_b3\n",

      "sstacks -b 3 -c Populations_b3/batch_3 -s Populations_b3/PTAUY12_0023_comb -o Populations_b3\n",

      "sstacks -b 3 -c Populations_b3/batch_3 -s Populations_b3/PTAUY12_0024_comb -o Populations_b3\n",

      "sstacks -b 3 -c Populations_b3/batch_3 -s Populations_b3/PTAUY12_0025_comb -o Populations_b3\n",

      "sstacks -b 3 -c Populations_b3/batch_3 -s Populations_b3/PTAUY12_0026_comb -o Populations_b3\n",

      "sstacks -b 3 -c Populations_b3/batch_3 -s Populations_b3/PTAUY12_0027 -o Populations_b3\n",

      "sstacks -b 3 -c Populations_b3/batch_3 -s Populations_b3/PTAUY12_0030_comb -o Populations_b3\n",

      "sstacks -b 3 -c Populations_b3/batch_3 -s Populations_b3/PTAUY12_0031_comb -o Populations_b3\n",

      "sstacks -b 3 -c Populations_b3/batch_3 -s Populations_b3/PTAUY12_0032_comb -o Populations_b3\n",

      "sstacks -b 3 -c Populations_b3/batch_3 -s Populations_b3/PTAUY12_0033 -o Populations_b3\n",

      "sstacks -b 3 -c Populations_b3/batch_3 -s Populations_b3/PTAUY12_0034_comb -o Populations_b3\n",

      "sstacks -b 3 -c Populations_b3/batch_3 -s Populations_b3/PTAUY12_0035_comb -o Populations_b3\n",

      "sstacks -b 3 -c Populations_b3/batch_3 -s Populations_b3/PTAUY12_0036_comb -o Populations_b3\n",

      "sstacks -b 3 -c Populations_b3/batch_3 -s Populations_b3/PTAUY12_0038 -o Populations_b3\n",

      "sstacks -b 3 -c Populations_b3/batch_3 -s Populations_b3/PTAUY12_0039 -o Populations_b3\n",

      "sstacks -b 3 -c Populations_b3/batch_3 -s Populations_b3/PTAUY12_0041_comb -o Populations_b3\n",

      "sstacks -b 3 -c Populations_b3/batch_3 -s Populations_b3/PTAUY12_0042 -o Populations_b3"

     ],

     "language": "python",

     "metadata": {},

     "outputs": []

    },

    {

     "cell_type": "markdown",

     "metadata": {},

     "source": [

      "#Genotyping \n",

      "\n",

      "The population samples were run with a blacklist to ensure that they could be processed with Stacks in one go. The following is the command for running populations, it has a -B of 2 because I couldn't get the blacklist to open with another name for some reason.So that is not a value, it's a file name, without the .txt extension. \n",

      "\n",

      "The -t is for the number of threads to run in parallel, on Ryan's computer I can use 6 of the 8 threads he has. "

     ]

    },

    {

     "cell_type": "markdown",

     "metadata": {},

     "source": [

      "####May 7 2015\n",

      "\n",

      "I started to work on filtering the population data (using the ipython notebook filter_pop_genotypes.ipynb) and I realized that I need the populations identified in the Stacks population output. The easiest way to do this is to use a population map when running the program. \n",

      "\n",

      "I had one that was already made, diploidspops.txt, so I used that and ran Populations on Ryans computer. It took almost 12 hours to get through all the samples. The bit at the end: > dip_pop_log3.txt 2>&1 writes both the standard and the error output to a log file. That makes it easy to track what is printed to the command line while running the samples over night. \n",

      "\n",

      "populations -b 3 -P Diploids -B batch_3_blacklist.txt -P diploidspops.txt -t 6 --genepop --plink > dip_pop_log3.txt 2>&1"

     ]

    },

    {

     "cell_type": "markdown",

     "metadata": {},

     "source": [

      "After filtering the population data, I made a couple different whitelists of the loci that passed different stages of the filters and ran populations to get a vcf file and a genepop file for those loci to use in test of allelic bias that Ryan made. These were the commands:"

     ]

    },

    {

     "cell_type": "code",

     "collapsed": false,

     "input": [

      "populations -b 3 -P ./Populations_b3_may -W ./Whitelist16681tab.txt -t 6 --vcf --plink --genepop >populations_b3_log_vcf_2_16681.txt 2>&1 \n",

      "populations -b 3 -P ./Populations_b3_may -W ./Whitelist22812tab.txt -t 6 --vcf >populations_b3_log_vcf_22812.txt 2>&1"

     ],

     "language": "python",

     "metadata": {},

     "outputs": []

    },

    {

     "cell_type": "markdown",

     "metadata": {},

     "source": [

      "#Summary\n",

      "\n",

      "This notebook details the steps taken to: \n",

      "\n",

      "    - build a blacklist of loci to omit from the genotyping steps in Stacks\n",

      "    - run Sstacks on the population data against the batch_3 catalog\n",

      "    - run populations to genotype the population data\n",

      "    \n",

      "Next steps: \n",

      "\n",

      "    - filter the population data\n",

      "    - perform population analysis with the population data\n",

      "    "

     ]

    }

   ],

   "metadata": {}

  }

 ]

}
