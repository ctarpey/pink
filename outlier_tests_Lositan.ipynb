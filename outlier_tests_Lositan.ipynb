{
 "metadata": {
  "name": "",
  "signature": "sha256:6ccba10fa7a65583133c66c474222787caae52f7fc142ac2620b9afdb02a2bb1"
 },
 "nbformat": 3,
 "nbformat_minor": 0,
 "worksheets": [
  {
   "cells": [
    {
     "cell_type": "markdown",
     "metadata": {},
     "source": [
      "#Outlier tests with the program Lositan "
     ]
    },
    {
     "cell_type": "markdown",
     "metadata": {},
     "source": [
      "###Lositan: \n",
      "    http://popgen.net/soft/lositan/"
     ]
    },
    {
     "cell_type": "markdown",
     "metadata": {},
     "source": [
      "##Background: \n",
      "\n",
      "The program works pretty easily right after downloading it. I had to change some java settings, but nothing major. \n",
      "\n",
      "##Input files: \n",
      "\n",
      "I used the population genotypes in the genepop format, from the file filtering/16681and80: 16681_80_genepop_one_per_line.txt I added a title line to it. \n",
      "\n",
      "##Running the program: \n",
      "\n",
      "The Lositan GUI identified 14 populations.\n",
      "\n",
      "I checked the neutral mean Fst box and got the warning:\n",
      "\n",
      "\"using a neutral mean fst means doing a first simulation run to remove potential selected loci for computin gthe initial mean fst. this effectively doubles the computation time but it is the recommeneded option if you are not sure what you want, please check this option\" \n",
      "\n",
      "and for the precise mean fst: \n",
      "\n",
      "\"Simulating a precise mean fst is not possible outside ideal theoretical conditions (infinite populations, infinite alleles model). SELWB can try to approximate a desired Fst by running a bisection algorithm over repeated simulations. Checking this option will increase the computation time by a certain amount of time (in most cases it will double the computation time), this is still the recommended option. If you are not sure what you want, please check this option.\" \n",
      "\n",
      "Since I'm not really sure what I want, I checked both of the boxes and I left the rest of the default options filled in.\n",
      "\n",
      "the attempted FST is 0.062134\n",
      "confidence interval: 0.95\n",
      "false discovery rate: 0.1\n",
      "expected total pops: 14\n",
      "mutation model: infinite alleles\n",
      "subsample size: 50 \n",
      "\n",
      "I loaded in the population names: \n",
      "AMUR10\n",
      "AMUR11\n",
      "HAYLY09\n",
      "HAYLY10\n",
      "KOPPE91\n",
      "KOPPE96\n",
      "KUSHI06\n",
      "KUSHI07\n",
      "NOME91\n",
      "NOME94\n",
      "SNOH03\n",
      "SNOH96\n",
      "TAUY09\n",
      "TAUY12\n",
      "\n",
      "It finished running and had a pop-up that said that the simulated Fst is 0.057786. \n",
      "\n",
      "I saved the outputs. The colors on the chart are the yellow is balancing selection color, the red is the positive selection color, the blue is the marker color and the grey is the neutral color. \n",
      "\n",
      "I changed the false discovery rate to 0.05 and ran it again, to see what, if anything changes \n",
      "\n",
      "In the Lositan program, the FDR run with a limit of 0.01 finished running, and the simulated Fst is 0.051289. I saved the output loci list. \n",
      "\n",
      "I want to do more runs, but Im not sure what the best plan is, I want to use the right FDR, so maybe Ill compare them, or look at some papers to see what other people used and I also want to look at the comparisons that im doing, and make some that arent just all the populations together (though i think this is a good way to get putatively neutral snps. \n",
      "\n",
      "I want to run more comparisons in Lositan, I am going to do 4 new ones now: asian odd, asian even, NA odd and NA even. \n",
      "\n",
      "I didnt change the expected number of populations? im not sure what that refers to, because it summarises the data correctly on the side, saying that there are 14 total populations and 4 selected populations. SO thats very confusing to me. I might run a test where I do this next version with that changed and see if it makes a difference. \n",
      "\n",
      "I clicked on it and changed it to 4 and it warned me that a changed parameter would mean that i would have to restart the simulations. Im not sure what that means exactly, but i didnt change anything else and it started running right away on its own. \n",
      "\n",
      "\n",
      "I pulled the results of all the runs on Lositan into an excel workbook, each with their own pages and Im going to compare the three different combinations of populaitons. \n",
      "\n",
      "\n",
      "It looks like there is a pattern, there are two variables, and four factors: the FDR and the # of expected populations. \n",
      "\n",
      "The effect is on the pvalue (siluated Fst< sample Fst) \n",
      "the biggest pvalue comes from the most stringent FDR, the 0.01 and the smallest # of pops (4- also the correct #) and then the 0.01 with 14 pops, the 0.05 with 4 pops and finally the 0.05 with the 14 pops is the smallest value. \n",
      "\n",
      "the effect of the change in these variables is differnt in magnitude depending on the individual locus. in some it seems to be a lot and in others its really not that different. \n",
      "\n",
      "I am rerunning the Asia odd with the expected populations set to 4 \n",
      "\n",
      "And I looked on their site and found this basic R code for plotting the files: \n",
      "\n",
      "#\n",
      "#Bare bones script to read LOSITAN data into R\n",
      "#\n",
      "# USAGE:\n",
      "# The script expects to find:\n",
      "#    a file called loci with locus He/Fst and\n",
      "#    a file called ci with the confidence intervals\n",
      "#\n",
      "# A PNG graphic will be generated called output.png\n",
      "#\n",
      "# The graphic and the tables generated are 'bare bones' in\n",
      "# the sense that they are provided as a STARTING POINT on\n",
      "# how to read the data into R.\n",
      "# User customization of the script is expected.\n",
      "# Feel free to change and use it at your discretion\n",
      "#\n",
      "#(C) 2008 Tiago Antao\n",
      "#This script is free software under the GPL v3\n",
      "plot_ci <- function(f_name, bcolor, mcolor, tcolor) {\n",
      "  cpl <- read.table(f_name, header=TRUE)\n",
      "  lines(cpl[,1],cpl[,2], type='l', col=bcolor)\n",
      "  lines(cpl[,1],cpl[,3], type='l', col=mcolor)\n",
      "  lines(cpl[,1],cpl[,4], type='l', col=tcolor)\n",
      "}\n",
      "\n",
      "plot_loci <- function(f_name, color) {\n",
      "  cpl <- read.table(f_name, header=TRUE, sep='\\t')\n",
      "  points(cpl[,2],cpl[,3], col=color)\n",
      "}\n",
      "\n",
      "\n",
      "png('output.png')\n",
      "plot(-10,ylim=c(0,0.4),xlim=c(0,1), xlab='He', ylab='Fst')\n",
      "plot_ci('ci', 'green', 'black', 'red')\n",
      "plot_loci('loci', 'blue')\n",
      "dev.off()\n",
      "print('The purpose of this script is to provide a Bare bones example on how to read LOSITAN data')\n",
      "print('You should customize it to your needs')\n",
      "\n",
      "I put it in R as a new script called Lositan_plots. \n",
      "\n",
      "I continued to run Lositan on the North American samples. now they are all run I want to compare the list of outliers there to the ones from Arlequin and the ones from Bayescan. \n",
      "  \n",
      "  $$ October 5 2015\n",
      "==================================================================\n",
      "\n",
      "nd hecht says that he used a pairwise correlation between climate variables using the hmisc package in R. \n",
      " \n",
      " I also saw in his paper that I wasnt running the program LOSITAN the way that he had, and I probably needed to account for the smallest of the samplesizes by using it as the subsample size. \n",
      " \n",
      " \n",
      " Lisa said not to worry about that, that because im using a lot of different programs im only looking at where they overlap and so defaults are probably fine because its just wide scale, broad. \n",
      " \n"
     ]
    }
   ],
   "metadata": {}
  }
 ]
}